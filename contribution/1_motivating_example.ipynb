{
 "cells": [
  {
   "cell_type": "markdown",
   "metadata": {
    "toc": true
   },
   "source": [
    "<h1>Index<span class=\"tocSkip\"></span></h1>\n",
    "<div class=\"toc\"><ul class=\"toc-item\"><li><span><a href=\"#The-simplest-setting\" data-toc-modified-id=\"The-simplest-setting-1\"><span class=\"toc-item-num\">1&nbsp;&nbsp;</span>The simplest setting</a></span><ul class=\"toc-item\"><li><span><a href=\"#Checking-the-split-quality\" data-toc-modified-id=\"Checking-the-split-quality-1.1\"><span class=\"toc-item-num\">1.1&nbsp;&nbsp;</span>Checking the split quality</a></span></li></ul></li><li><span><a href=\"#Higher-depth\" data-toc-modified-id=\"Higher-depth-2\"><span class=\"toc-item-num\">2&nbsp;&nbsp;</span>Higher depth</a></span></li><li><span><a href=\"#What-if-we-train-the-bechmark-with-the-most-recent-data?\" data-toc-modified-id=\"What-if-we-train-the-bechmark-with-the-most-recent-data?-3\"><span class=\"toc-item-num\">3&nbsp;&nbsp;</span>What if we train the bechmark with the most recent data?</a></span></li><li><span><a href=\"#What-if-t=1-and-t=2-are-inverted?\" data-toc-modified-id=\"What-if-t=1-and-t=2-are-inverted?-4\"><span class=\"toc-item-num\">4&nbsp;&nbsp;</span>What if t=1 and t=2 are inverted?</a></span></li><li><span><a href=\"#Looking-to-different-mixes-of-weights-for-t=1-and-t=2\" data-toc-modified-id=\"Looking-to-different-mixes-of-weights-for-t=1-and-t=2-5\"><span class=\"toc-item-num\">5&nbsp;&nbsp;</span>Looking to different mixes of weights for t=1 and t=2</a></span><ul class=\"toc-item\"><li><span><a href=\"#Using-6-for-t1-and-4-fot-t2-to-show-that-in-some-cases-they-eventually-converge\" data-toc-modified-id=\"Using-6-for-t1-and-4-fot-t2-to-show-that-in-some-cases-they-eventually-converge-5.1\"><span class=\"toc-item-num\">5.1&nbsp;&nbsp;</span>Using 6 for t1 and 4 fot t2 to show that in some cases they eventually converge</a></span></li><li><span><a href=\"#Averaging-multiple-scenarios\" data-toc-modified-id=\"Averaging-multiple-scenarios-5.2\"><span class=\"toc-item-num\">5.2&nbsp;&nbsp;</span>Averaging multiple scenarios</a></span></li></ul></li></ul></div>"
   ]
  },
  {
   "cell_type": "markdown",
   "metadata": {},
   "source": [
    "# Motivating example for Time Robust Tree"
   ]
  },
  {
   "cell_type": "markdown",
   "metadata": {},
   "source": [
    "## The simplest setting"
   ]
  },
  {
   "cell_type": "code",
   "execution_count": 233,
   "metadata": {
    "ExecuteTime": {
     "end_time": "2021-08-14T20:32:54.647595Z",
     "start_time": "2021-08-14T20:32:54.643422Z"
    },
    "hide_input": false
   },
   "outputs": [],
   "source": [
    "import numpy as np\n",
    "import matplotlib.pyplot as plt\n",
    "import seaborn as sns\n",
    "import pdb\n",
    "import pandas as pd\n",
    "import warnings\n",
    "import pdb\n",
    "\n",
    "from time_robust_forest.models import TimeForestClassifier, TimeForestRegressor\n",
    "from models.time_robust_forest import RandomTimeSplitTree\n",
    "from models.decision_tree import DecisionTree\n",
    "from sklearn.metrics import roc_auc_score\n",
    "from scipy.stats import pearsonr\n",
    "from matplotlib import pyplot\n",
    "\n",
    "warnings.filterwarnings('ignore')"
   ]
  },
  {
   "cell_type": "code",
   "execution_count": 234,
   "metadata": {
    "ExecuteTime": {
     "end_time": "2021-08-14T20:32:54.747166Z",
     "start_time": "2021-08-14T20:32:54.743314Z"
    }
   },
   "outputs": [],
   "source": [
    "def set_style():\n",
    "    plt.style.use(['seaborn-white', 'seaborn-paper'])\n",
    "    plt.rcParams['figure.figsize'] = (12, 4)\n",
    "    "
   ]
  },
  {
   "cell_type": "code",
   "execution_count": 235,
   "metadata": {
    "ExecuteTime": {
     "end_time": "2021-08-14T20:32:54.847137Z",
     "start_time": "2021-08-14T20:32:54.844643Z"
    }
   },
   "outputs": [],
   "source": [
    "set_style()"
   ]
  },
  {
   "cell_type": "markdown",
   "metadata": {},
   "source": [
    "First period data. A function to generate this data is only used later in notebook to decouple it from the image creation."
   ]
  },
  {
   "cell_type": "code",
   "execution_count": 237,
   "metadata": {
    "ExecuteTime": {
     "end_time": "2021-08-14T20:32:55.147794Z",
     "start_time": "2021-08-14T20:32:55.142863Z"
    }
   },
   "outputs": [],
   "source": [
    "w = 1\n",
    "period = [1, 1, 1, 1, 1, 1] * w\n",
    "y_t_1 = np.array([0, 0, 0, 1, 1, 1] * w)\n",
    "x_1 = np.array([3, 4, 6, 3, 5, 6] * w)\n",
    "x_2 = np.array([1, 1, 1, 2, 2, 2] * w)\n",
    "\n",
    "t_1 = pd.DataFrame(np.array([x_1, x_2, period]).transpose(), columns=[\"x_1\", \"x_2\", \"period\"])"
   ]
  },
  {
   "cell_type": "code",
   "execution_count": 238,
   "metadata": {
    "ExecuteTime": {
     "end_time": "2021-08-14T20:32:55.390702Z",
     "start_time": "2021-08-14T20:32:55.247209Z"
    }
   },
   "outputs": [
    {
     "data": {
      "image/png": "[encoded data removed]",
      "text/plain": [
       "<Figure size 360x360 with 1 Axes>"
      ]
     },
     "metadata": {},
     "output_type": "display_data"
    }
   ],
   "source": [
    "fig, ax = plt.subplots(figsize=(5, 5))\n",
    "## Negative\n",
    "mask = (y_t_1 == 0)\n",
    "ax.scatter(x_1[mask], x_2[mask], s=200)\n",
    "\n",
    "ax.xaxis.set_tick_params(labelsize=12)\n",
    "ax.yaxis.set_tick_params(labelsize=12)\n",
    "\n",
    "plt.title(\"Time period 1\", fontsize=15)\n",
    "    \n",
    "## Positive cases\n",
    "mask = (y_t_1 == 1)\n",
    "ax.scatter(x_1[mask], x_2[mask], color=\"g\", marker=\"X\", s=200)\n",
    "plt.xlabel(\"X_1\", fontsize=15)\n",
    "plt.ylabel(\"X_2\", fontsize=15)\n",
    "plt.show()"
   ]
  },
  {
   "cell_type": "markdown",
   "metadata": {},
   "source": [
    "Second period data"
   ]
  },
  {
   "cell_type": "code",
   "execution_count": 240,
   "metadata": {
    "ExecuteTime": {
     "end_time": "2021-08-14T20:32:55.547939Z",
     "start_time": "2021-08-14T20:32:55.543221Z"
    }
   },
   "outputs": [],
   "source": [
    "w = 1\n",
    "period = [2, 2, 2, 2, 2, 2] * w\n",
    "y_t_2 = np.array([0, 0, 0, 1, 1, 1] * w)\n",
    "x_1 = np.array([3, 4, 5, 4, 5, 6] * w)\n",
    "x_2 = np.array([1, 1, 2, 2, 1, 1] * w)\n",
    "\n",
    "t_2 = pd.DataFrame(np.array([x_1, x_2, period]).transpose(), columns=[\"x_1\", \"x_2\", \"period\"])"
   ]
  },
  {
   "cell_type": "code",
   "execution_count": 243,
   "metadata": {
    "ExecuteTime": {
     "end_time": "2021-08-14T20:32:55.987276Z",
     "start_time": "2021-08-14T20:32:55.843884Z"
    }
   },
   "outputs": [
    {
     "data": {
      "image/png": "[encoded data removed]",
      "text/plain": [
       "<Figure size 360x360 with 1 Axes>"
      ]
     },
     "metadata": {},
     "output_type": "display_data"
    }
   ],
   "source": [
    "fig, ax = plt.subplots(figsize=(5, 5))\n",
    "\n",
    "## Negative\n",
    "mask = (y_t_2 == 0)\n",
    "ax.scatter(x_1[mask], x_2[mask], s=200)\n",
    "\n",
    "ax.xaxis.set_tick_params(labelsize=12)\n",
    "ax.yaxis.set_tick_params(labelsize=12)\n",
    "\n",
    "plt.title(\"Time period 2\", fontsize=15)\n",
    "    \n",
    "## Positive cases\n",
    "mask = (y_t_2 == 1)\n",
    "ax.scatter(x_1[mask], x_2[mask], color=\"g\", marker=\"X\", s=200)\n",
    "plt.xlabel(\"X_1\", fontsize=15)\n",
    "plt.ylabel(\"X_2\", fontsize=15)\n",
    "plt.show()"
   ]
  },
  {
   "cell_type": "markdown",
   "metadata": {},
   "source": [
    "Third period, the holdout."
   ]
  },
  {
   "cell_type": "code",
   "execution_count": 244,
   "metadata": {
    "ExecuteTime": {
     "end_time": "2021-08-14T20:32:56.049623Z",
     "start_time": "2021-08-14T20:32:56.044676Z"
    }
   },
   "outputs": [],
   "source": [
    "w = 1\n",
    "period = [3, 3, 3, 3, 3, 3] * w\n",
    "\n",
    "y_t_3 = np.array([0, 0, 1, 1, 0, 1] * w)\n",
    "x_1 = np.array([3, 4, 3, 5, 6, 6] * w)\n",
    "x_2 = np.array([2, 2, 1, 2, 1, 2] * w)\n",
    "\n",
    "holdout = pd.DataFrame(np.array([x_1, x_2, period]).transpose(), columns=[\"x_1\", \"x_2\", \"period\"])"
   ]
  },
  {
   "cell_type": "code",
   "execution_count": 245,
   "metadata": {
    "ExecuteTime": {
     "end_time": "2021-08-14T20:32:56.283991Z",
     "start_time": "2021-08-14T20:32:56.143897Z"
    }
   },
   "outputs": [
    {
     "data": {
      "image/png": "[encoded data removed]",
      "text/plain": [
       "<Figure size 360x360 with 1 Axes>"
      ]
     },
     "metadata": {},
     "output_type": "display_data"
    }
   ],
   "source": [
    "fig, ax = plt.subplots(figsize=(5, 5))\n",
    "\n",
    "## Negative\n",
    "mask = (y_t_3 == 0)\n",
    "ax.scatter(x_1[mask], x_2[mask], s=200)\n",
    "\n",
    "ax.xaxis.set_tick_params(labelsize=12)\n",
    "ax.yaxis.set_tick_params(labelsize=12)\n",
    "\n",
    "plt.title(\"Time period 3\", fontsize=15)\n",
    "    \n",
    "## Positive cases\n",
    "mask = (y_t_3 == 1)\n",
    "ax.scatter(x_1[mask], x_2[mask], color=\"g\", marker=\"X\", s=200)\n",
    "plt.xlabel(\"X_1\", fontsize=15)\n",
    "plt.ylabel(\"X_2\", fontsize=15)\n",
    "plt.show()"
   ]
  },
  {
   "cell_type": "markdown",
   "metadata": {},
   "source": [
    "Make a single frame for the data."
   ]
  },
  {
   "cell_type": "code",
   "execution_count": 246,
   "metadata": {
    "ExecuteTime": {
     "end_time": "2021-08-14T20:32:56.346875Z",
     "start_time": "2021-08-14T20:32:56.343367Z"
    }
   },
   "outputs": [],
   "source": [
    "y = np.hstack((y_t_1, y_t_2))\n",
    "train = pd.concat([t_1, t_2]).reset_index(drop=True)"
   ]
  },
  {
   "cell_type": "markdown",
   "metadata": {},
   "source": [
    "Make a single image for the paper."
   ]
  },
  {
   "cell_type": "code",
   "execution_count": 247,
   "metadata": {
    "ExecuteTime": {
     "end_time": "2021-08-14T20:32:57.111867Z",
     "start_time": "2021-08-14T20:32:56.546260Z"
    }
   },
   "outputs": [
    {
     "data": {
      "text/plain": [
       "[]"
      ]
     },
     "execution_count": 247,
     "metadata": {},
     "output_type": "execute_result"
    },
    {
     "data": {
      "image/png": "[encoded data removed]",
      "text/plain": [
       "<Figure size 864x288 with 4 Axes>"
      ]
     },
     "metadata": {},
     "output_type": "display_data"
    }
   ],
   "source": [
    "fig, axs = plt.subplots(nrows=1, ncols=3)\n",
    "x_1 = t_1[\"x_1\"].values\n",
    "x_2 = t_1[\"x_2\"].values\n",
    "\n",
    "## Negative\n",
    "mask = (y_t_1 == 0)\n",
    "axs[0].scatter(x_1[mask], x_2[mask], s=200)\n",
    "#ax.scatter(x_1, x_2)\n",
    "\n",
    "axs[0].xaxis.set_tick_params(labelsize=12)\n",
    "axs[0].yaxis.set_tick_params(labelsize=12)\n",
    "axs[0].set_title(\"Time period 1\", fontsize=15)\n",
    "\n",
    "    \n",
    "## Positive cases\n",
    "mask = (y_t_1 == 1)\n",
    "axs[0].scatter(x_1[mask], x_2[mask], color=\"g\", marker=\"X\", s=200)\n",
    "\n",
    "xmin, xmax, ymin, ymax = axs[0].axis()\n",
    "ymax += 0.2\n",
    "ymin -= 0.2\n",
    "\n",
    "axs[0].set_ylim([ymin, ymax])\n",
    "axs[0].set_xlim([2.5, 6.5])\n",
    "\n",
    "### T2\n",
    "x_1 = t_2[\"x_1\"].values\n",
    "x_2 = t_2[\"x_2\"].values\n",
    "\n",
    "## Negative\n",
    "mask = (y_t_2 == 0)\n",
    "axs[1].scatter(x_1[mask], x_2[mask], s=200)\n",
    "axs[1].xaxis.set_tick_params(labelsize=12)\n",
    "axs[1].yaxis.set_tick_params(labelsize=12)\n",
    "axs[1].set_ylim([ymin, ymax])\n",
    "axs[1].set_xlim([2.5, 6.5])\n",
    "axs[1].set_title(\"Time period 2\", fontsize=15)\n",
    "    \n",
    "## Positive cases\n",
    "mask = (y_t_2 == 1)\n",
    "axs[1].scatter(x_1[mask], x_2[mask], color=\"g\", marker=\"X\", s=200)\n",
    "\n",
    "### T3\n",
    "x_1 = holdout[\"x_1\"].values\n",
    "x_2 = holdout[\"x_2\"].values\n",
    "\n",
    "## Negative\n",
    "mask = (y_t_3 == 0)\n",
    "axs[2].scatter(x_1[mask], x_2[mask], s=200)\n",
    "axs[2].xaxis.set_tick_params(labelsize=12)\n",
    "axs[2].yaxis.set_tick_params(labelsize=12)\n",
    "axs[2].set_ylim([ymin, ymax])\n",
    "axs[2].set_xlim([2.5, 6.5])\n",
    "axs[2].set_title(\"Time period 3 (Holdout)\", fontsize=15)\n",
    "    \n",
    "## Positive cases\n",
    "mask = (y_t_3 == 1)\n",
    "axs[2].scatter(x_1[mask], x_2[mask], color=\"g\", marker=\"X\", s=200)\n",
    "\n",
    "axs[0].locator_params(axis='y', nbins=4)\n",
    "axs[0].locator_params(axis='x', nbins=2)\n",
    "\n",
    "axs[1].locator_params(axis='y', nbins=4)\n",
    "axs[1].locator_params(axis='x', nbins=2)\n",
    "\n",
    "axs[2].locator_params(axis='y', nbins=4)\n",
    "axs[2].locator_params(axis='x', nbins=2)\n",
    "\n",
    "fig.add_subplot(111, frameon=False)\n",
    "# hide tick and tick label of the big axes\n",
    "plt.tick_params(labelcolor='none', top=False, bottom=False, left=False, right=False)\n",
    "plt.grid(False)\n",
    "plt.xlabel(\"X_1\", fontsize=15)\n",
    "plt.ylabel(\"X_2\", fontsize=15)\n",
    "\n",
    "plt.savefig('../images/motivating_example.eps', format='eps')\n",
    "\n",
    "plt.plot()"
   ]
  },
  {
   "cell_type": "code",
   "execution_count": null,
   "metadata": {},
   "outputs": [],
   "source": [
    "fig, axs = plt.subplots(nrows=1, ncols=3)\n",
    "x_1 = t_1[\"x_1\"].values\n",
    "x_2 = t_1[\"x_2\"].values\n",
    "\n",
    "## Negative\n",
    "mask = (y_t_1 == 0)\n",
    "axs[0].scatter(x_1[mask], x_2[mask], s=200)\n",
    "#ax.scatter(x_1, x_2)\n",
    "\n",
    "axs[0].xaxis.set_tick_params(labelsize=12)\n",
    "axs[0].yaxis.set_tick_params(labelsize=12)\n",
    "axs[0].set_title(\"Time period 1\", fontsize=15)\n",
    "\n",
    "    \n",
    "## Positive cases\n",
    "mask = (y_t_1 == 1)\n",
    "axs[0].scatter(x_1[mask], x_2[mask], color=\"g\", marker=\"X\", s=200)\n",
    "\n",
    "xmin, xmax, ymin, ymax = axs[0].axis()\n",
    "ymax += 0.2\n",
    "ymin -= 0.2\n",
    "\n",
    "axs[0].set_ylim([ymin, ymax])\n",
    "axs[0].set_xlim([2.5, 6.5])\n",
    "\n",
    "### T2\n",
    "x_1 = t_2[\"x_1\"].values\n",
    "x_2 = t_2[\"x_2\"].values\n",
    "\n",
    "## Negative\n",
    "mask = (y_t_2 == 0)\n",
    "axs[1].scatter(x_1[mask], x_2[mask], s=200)\n",
    "axs[1].xaxis.set_tick_params(labelsize=12)\n",
    "axs[1].yaxis.set_tick_params(labelsize=12)\n",
    "axs[1].set_ylim([ymin, ymax])\n",
    "axs[1].set_xlim([2.5, 6.5])\n",
    "axs[1].set_title(\"Time period 2\", fontsize=15)\n",
    "    \n",
    "## Positive cases\n",
    "mask = (y_t_2 == 1)\n",
    "axs[1].scatter(x_1[mask], x_2[mask], color=\"g\", marker=\"X\", s=200)\n",
    "\n",
    "### T3\n",
    "x_1 = holdout[\"x_1\"].values\n",
    "x_2 = holdout[\"x_2\"].values\n",
    "\n",
    "## Negative\n",
    "mask = (y_t_3 == 0)\n",
    "axs[2].scatter(x_1[mask], x_2[mask], s=200)\n",
    "axs[2].xaxis.set_tick_params(labelsize=12)\n",
    "axs[2].yaxis.set_tick_params(labelsize=12)\n",
    "axs[2].set_ylim([ymin, ymax])\n",
    "axs[2].set_xlim([2.5, 6.5])\n",
    "axs[2].set_title(\"Time period 3 (Holdout)\", fontsize=15)\n",
    "    \n",
    "## Positive cases\n",
    "mask = (y_t_3 == 1)\n",
    "axs[2].scatter(x_1[mask], x_2[mask], color=\"g\", marker=\"X\", s=200)\n",
    "\n",
    "axs[0].locator_params(axis='y', nbins=4)\n",
    "axs[0].locator_params(axis='x', nbins=2)\n",
    "\n",
    "axs[1].locator_params(axis='y', nbins=4)\n",
    "axs[1].locator_params(axis='x', nbins=2)\n",
    "\n",
    "axs[2].locator_params(axis='y', nbins=4)\n",
    "axs[2].locator_params(axis='x', nbins=2)\n",
    "\n",
    "fig.add_subplot(111, frameon=False)\n",
    "# hide tick and tick label of the big axes\n",
    "plt.tick_params(labelcolor='none', top=False, bottom=False, left=False, right=False)\n",
    "plt.grid(False)\n",
    "plt.xlabel(\"X_1\", fontsize=15)\n",
    "plt.ylabel(\"X_2\", fontsize=15)\n",
    "\n",
    "plt.savefig('../images/motivating_example_split.eps', format='eps')\n",
    "\n",
    "plt.plot()"
   ]
  },
  {
   "cell_type": "markdown",
   "metadata": {},
   "source": [
    "Train the benchmark:"
   ]
  },
  {
   "cell_type": "code",
   "execution_count": 248,
   "metadata": {
    "ExecuteTime": {
     "end_time": "2021-08-14T20:32:57.152208Z",
     "start_time": "2021-08-14T20:32:57.114061Z"
    }
   },
   "outputs": [
    {
     "name": "stdout",
     "output_type": "stream",
     "text": [
      "Splits used: 1\n",
      "x_2    1\n",
      "Name: Feature Importance, dtype: int64\n",
      "Train performance: 0.75\n",
      "Holdout performance: 0.5\n"
     ]
    }
   ],
   "source": [
    "model = DecisionTree(train[[\"x_1\", \"x_2\"]], y, max_depth=0,\n",
    "                     min_leaf=1)\n",
    "train[\"prediction\"] = model.predict(train)\n",
    "\n",
    "print(\"Splits used: {}\".format(model.feature_importance.sum()))\n",
    "print(model.feature_importance)\n",
    "\n",
    "holdout[\"prediction\"] = model.predict(holdout)\n",
    "print(\"Train performance: {}\".format(roc_auc_score(y, train[\"prediction\"])))\n",
    "print(\"Holdout performance: {}\".format(roc_auc_score(y_t_3, holdout[\"prediction\"])))"
   ]
  },
  {
   "cell_type": "markdown",
   "metadata": {},
   "source": [
    "The RandomTimeSplitTree when used without bootstrapping and `max_feature` parameter equals to `1.0` (use 100% of the available features) is equivalent to the Time Robust Tree."
   ]
  },
  {
   "cell_type": "markdown",
   "metadata": {},
   "source": [
    "The model from the package:"
   ]
  },
  {
   "cell_type": "code",
   "execution_count": 249,
   "metadata": {
    "ExecuteTime": {
     "end_time": "2021-08-14T20:32:58.931528Z",
     "start_time": "2021-08-14T20:32:57.155877Z"
    }
   },
   "outputs": [
    {
     "name": "stdout",
     "output_type": "stream",
     "text": [
      "Train performance: 0.6666666666666667\n",
      "Holdout performance: 0.6666666666666667\n"
     ]
    }
   ],
   "source": [
    "time_model_tree = TimeForestClassifier(time_column=\"period\",\n",
    "                                        n_estimators=1,\n",
    "                                        max_depth=1,\n",
    "                                        min_leaf=1,\n",
    "                                        min_sample_periods=1,\n",
    "                                        bootstrapping=False,\n",
    "                                        max_features=1.0,\n",
    "                                        period_criterion=\"max\")\n",
    "\n",
    "time_model_tree.fit(train[[\"x_1\", \"x_2\", \"period\"]], y)\n",
    "train[\"time_prediction\"] = time_model_tree.predict_proba(train)[:, 1]\n",
    "\n",
    "holdout[\"time_prediction\"] = time_model_tree.predict_proba(holdout)[:, 1]\n",
    "print(\"Train performance: {}\".format(roc_auc_score(y, train[\"time_prediction\"])))\n",
    "print(\"Holdout performance: {}\".format(roc_auc_score(y_t_3, holdout[\"time_prediction\"])))"
   ]
  },
  {
   "cell_type": "code",
   "execution_count": 250,
   "metadata": {
    "ExecuteTime": {
     "end_time": "2021-08-14T20:32:58.946405Z",
     "start_time": "2021-08-14T20:32:58.934647Z"
    }
   },
   "outputs": [
    {
     "data": {
      "text/plain": [
       "x_1    1\n",
       "Name: Feature Importance, dtype: int64"
      ]
     },
     "execution_count": 250,
     "metadata": {},
     "output_type": "execute_result"
    }
   ],
   "source": [
    "time_model_tree.feature_importance()"
   ]
  },
  {
   "cell_type": "code",
   "execution_count": 251,
   "metadata": {
    "ExecuteTime": {
     "end_time": "2021-08-14T20:32:59.009343Z",
     "start_time": "2021-08-14T20:32:58.948849Z"
    }
   },
   "outputs": [
    {
     "name": "stdout",
     "output_type": "stream",
     "text": [
      "Depth: 0\n",
      "Max Depth: 0\n",
      "Node periods distribution\n",
      "1    120\n",
      "2    120\n",
      "Name: period, dtype: int64\n",
      "Depth: 1\n",
      "Max Depth: 0\n",
      "Node periods distribution\n",
      "1    60\n",
      "2    60\n",
      "Name: period, dtype: int64\n",
      "Depth: 1\n",
      "Max Depth: 0\n",
      "Node periods distribution\n",
      "1    60\n",
      "2    60\n",
      "Name: period, dtype: int64\n",
      "Splits used: 1\n",
      "x_1    1\n",
      "Name: Feature Importance, dtype: int64\n",
      "Train performance: 0.6666666666666667\n",
      "Holdout performance: 0.6666666666666667\n"
     ]
    }
   ],
   "source": [
    "time_model_tree = RandomTimeSplitTree(train[[\"x_1\", \"x_2\", \"period\"]], \n",
    "                                        y,\n",
    "                                        time_column=\"period\",\n",
    "                                        max_depth=0,\n",
    "                                        min_sample_periods=1,\n",
    "                                        min_leaf=2,\n",
    "                                        verbose=True,\n",
    "                                        split_verbose=False,\n",
    "                                        bootstrapping=False,\n",
    "                                        max_features=1.0,\n",
    "                                        period_criterion=\"max\")\n",
    "\n",
    "train[\"time_prediction\"] = time_model_tree.predict(train)\n",
    "\n",
    "print(\"Splits used: {}\".format(time_model_tree.feature_importance.sum()))\n",
    "print(time_model_tree.feature_importance)\n",
    "\n",
    "holdout[\"time_prediction\"] = time_model_tree.predict(holdout)\n",
    "print(\"Train performance: {}\".format(roc_auc_score(y, train[\"time_prediction\"])))\n",
    "print(\"Holdout performance: {}\".format(roc_auc_score(y_t_3, holdout[\"time_prediction\"])))"
   ]
  },
  {
   "cell_type": "markdown",
   "metadata": {},
   "source": [
    "### Checking the split quality"
   ]
  },
  {
   "cell_type": "code",
   "execution_count": 252,
   "metadata": {
    "ExecuteTime": {
     "end_time": "2021-08-14T20:32:59.154262Z",
     "start_time": "2021-08-14T20:32:59.012582Z"
    }
   },
   "outputs": [
    {
     "name": "stdout",
     "output_type": "stream",
     "text": [
      "Depth: 0\n",
      "Max Depth: 10\n",
      "Node periods distribution\n",
      "1    120\n",
      "2    120\n",
      "Name: period, dtype: int64\n",
      "Evaluate a split on variable x_1 at value 3\n",
      "Score gini by period: [0.5, 0.4, 0.48148148148148145]\n",
      "Evaluate a split on variable x_1 at value 4\n",
      "Score gini by period: [0.4444444444444444, 0.4444444444444444, 0.4444444444444444]\n",
      "Evaluate a split on variable x_1 at value 5\n",
      "Score gini by period: [0.5, 0.4, 0.48148148148148145]\n",
      "Evaluate a split on variable x_2 at value 1\n",
      "Score gini by period: [0.0, 0.5, 0.3714285714285714]\n",
      "Depth: 1\n",
      "Max Depth: 10\n",
      "Node periods distribution\n",
      "1    60\n",
      "2    60\n",
      "Name: period, dtype: int64\n",
      "Depth: 2\n",
      "Max Depth: 10\n",
      "Node periods distribution\n",
      "1    40\n",
      "2    40\n",
      "Name: period, dtype: int64\n",
      "Depth: 3\n",
      "Max Depth: 10\n",
      "Node periods distribution\n",
      "1    20\n",
      "2    20\n",
      "Name: period, dtype: int64\n",
      "Depth: 3\n",
      "Max Depth: 10\n",
      "Node periods distribution\n",
      "1    20\n",
      "2    20\n",
      "Name: period, dtype: int64\n",
      "Depth: 2\n",
      "Max Depth: 10\n",
      "Node periods distribution\n",
      "1    20\n",
      "2    20\n",
      "Name: period, dtype: int64\n",
      "Depth: 1\n",
      "Max Depth: 10\n",
      "Node periods distribution\n",
      "1    60\n",
      "2    60\n",
      "Name: period, dtype: int64\n",
      "Depth: 2\n",
      "Max Depth: 10\n",
      "Node periods distribution\n",
      "1    20\n",
      "2    40\n",
      "Name: period, dtype: int64\n",
      "Depth: 2\n",
      "Max Depth: 10\n",
      "Node periods distribution\n",
      "1    40\n",
      "2    20\n",
      "Name: period, dtype: int64\n"
     ]
    },
    {
     "data": {
      "text/plain": [
       "x_1    2\n",
       "x_2    2\n",
       "Name: Feature Importance, dtype: int64"
      ]
     },
     "execution_count": 252,
     "metadata": {},
     "output_type": "execute_result"
    }
   ],
   "source": [
    "time_tree_model = RandomTimeSplitTree(train[[\"x_1\", \"x_2\", \"period\"]], \n",
    "                                        y,\n",
    "                                        time_column=\"period\",\n",
    "                                        max_depth=10,\n",
    "                                        min_leaf=1,\n",
    "                                        min_sample_periods=1,\n",
    "                                        verbose=True,\n",
    "                                        split_verbose=True,\n",
    "                                        bootstrapping=False,\n",
    "                                        max_features=1.0,\n",
    "                                        period_criterion=\"max\")\n",
    "\n",
    "time_tree_model.feature_importance"
   ]
  },
  {
   "cell_type": "markdown",
   "metadata": {},
   "source": [
    "Modify the data by making the whole training belong to a single period in time to check split quality on pooled scenario. "
   ]
  },
  {
   "cell_type": "code",
   "execution_count": 253,
   "metadata": {
    "ExecuteTime": {
     "end_time": "2021-08-14T20:32:59.160862Z",
     "start_time": "2021-08-14T20:32:59.157422Z"
    }
   },
   "outputs": [],
   "source": [
    "modified_train = train.copy(deep=True)\n",
    "modified_train[\"period\"] = 1"
   ]
  },
  {
   "cell_type": "code",
   "execution_count": 254,
   "metadata": {
    "ExecuteTime": {
     "end_time": "2021-08-14T20:32:59.174106Z",
     "start_time": "2021-08-14T20:32:59.163260Z"
    }
   },
   "outputs": [
    {
     "data": {
      "text/html": [
       "<div>\n",
       "<style scoped>\n",
       "    .dataframe tbody tr th:only-of-type {\n",
       "        vertical-align: middle;\n",
       "    }\n",
       "\n",
       "    .dataframe tbody tr th {\n",
       "        vertical-align: top;\n",
       "    }\n",
       "\n",
       "    .dataframe thead th {\n",
       "        text-align: right;\n",
       "    }\n",
       "</style>\n",
       "<table border=\"1\" class=\"dataframe\">\n",
       "  <thead>\n",
       "    <tr style=\"text-align: right;\">\n",
       "      <th></th>\n",
       "      <th>x_1</th>\n",
       "      <th>x_2</th>\n",
       "      <th>period</th>\n",
       "      <th>prediction</th>\n",
       "      <th>time_prediction</th>\n",
       "    </tr>\n",
       "  </thead>\n",
       "  <tbody>\n",
       "    <tr>\n",
       "      <th>0</th>\n",
       "      <td>3</td>\n",
       "      <td>1</td>\n",
       "      <td>1</td>\n",
       "      <td>0.285714</td>\n",
       "      <td>0.333333</td>\n",
       "    </tr>\n",
       "    <tr>\n",
       "      <th>1</th>\n",
       "      <td>4</td>\n",
       "      <td>1</td>\n",
       "      <td>1</td>\n",
       "      <td>0.285714</td>\n",
       "      <td>0.333333</td>\n",
       "    </tr>\n",
       "    <tr>\n",
       "      <th>2</th>\n",
       "      <td>6</td>\n",
       "      <td>1</td>\n",
       "      <td>1</td>\n",
       "      <td>0.285714</td>\n",
       "      <td>0.666667</td>\n",
       "    </tr>\n",
       "    <tr>\n",
       "      <th>3</th>\n",
       "      <td>3</td>\n",
       "      <td>2</td>\n",
       "      <td>1</td>\n",
       "      <td>0.800000</td>\n",
       "      <td>0.333333</td>\n",
       "    </tr>\n",
       "    <tr>\n",
       "      <th>4</th>\n",
       "      <td>5</td>\n",
       "      <td>2</td>\n",
       "      <td>1</td>\n",
       "      <td>0.800000</td>\n",
       "      <td>0.666667</td>\n",
       "    </tr>\n",
       "    <tr>\n",
       "      <th>...</th>\n",
       "      <td>...</td>\n",
       "      <td>...</td>\n",
       "      <td>...</td>\n",
       "      <td>...</td>\n",
       "      <td>...</td>\n",
       "    </tr>\n",
       "    <tr>\n",
       "      <th>235</th>\n",
       "      <td>4</td>\n",
       "      <td>1</td>\n",
       "      <td>1</td>\n",
       "      <td>0.285714</td>\n",
       "      <td>0.333333</td>\n",
       "    </tr>\n",
       "    <tr>\n",
       "      <th>236</th>\n",
       "      <td>5</td>\n",
       "      <td>2</td>\n",
       "      <td>1</td>\n",
       "      <td>0.800000</td>\n",
       "      <td>0.666667</td>\n",
       "    </tr>\n",
       "    <tr>\n",
       "      <th>237</th>\n",
       "      <td>4</td>\n",
       "      <td>2</td>\n",
       "      <td>1</td>\n",
       "      <td>0.800000</td>\n",
       "      <td>0.333333</td>\n",
       "    </tr>\n",
       "    <tr>\n",
       "      <th>238</th>\n",
       "      <td>5</td>\n",
       "      <td>1</td>\n",
       "      <td>1</td>\n",
       "      <td>0.285714</td>\n",
       "      <td>0.666667</td>\n",
       "    </tr>\n",
       "    <tr>\n",
       "      <th>239</th>\n",
       "      <td>6</td>\n",
       "      <td>1</td>\n",
       "      <td>1</td>\n",
       "      <td>0.285714</td>\n",
       "      <td>0.666667</td>\n",
       "    </tr>\n",
       "  </tbody>\n",
       "</table>\n",
       "<p>240 rows × 5 columns</p>\n",
       "</div>"
      ],
      "text/plain": [
       "     x_1  x_2  period  prediction  time_prediction\n",
       "0      3    1       1    0.285714         0.333333\n",
       "1      4    1       1    0.285714         0.333333\n",
       "2      6    1       1    0.285714         0.666667\n",
       "3      3    2       1    0.800000         0.333333\n",
       "4      5    2       1    0.800000         0.666667\n",
       "..   ...  ...     ...         ...              ...\n",
       "235    4    1       1    0.285714         0.333333\n",
       "236    5    2       1    0.800000         0.666667\n",
       "237    4    2       1    0.800000         0.333333\n",
       "238    5    1       1    0.285714         0.666667\n",
       "239    6    1       1    0.285714         0.666667\n",
       "\n",
       "[240 rows x 5 columns]"
      ]
     },
     "execution_count": 254,
     "metadata": {},
     "output_type": "execute_result"
    }
   ],
   "source": [
    "modified_train"
   ]
  },
  {
   "cell_type": "code",
   "execution_count": 255,
   "metadata": {
    "ExecuteTime": {
     "end_time": "2021-08-14T20:32:59.345542Z",
     "start_time": "2021-08-14T20:32:59.176953Z"
    }
   },
   "outputs": [
    {
     "name": "stdout",
     "output_type": "stream",
     "text": [
      "Depth: 0\n",
      "Max Depth: 10\n",
      "Node periods distribution\n",
      "1    240\n",
      "Name: period, dtype: int64\n",
      "Evaluate a split on variable x_1 at value 3\n",
      "Score gini by period: [0.48148148148148145, 0.48148148148148145]\n",
      "Evaluate a split on variable x_1 at value 4\n",
      "Score gini by period: [0.4444444444444444, 0.4444444444444444]\n",
      "Evaluate a split on variable x_1 at value 5\n",
      "Score gini by period: [0.48148148148148145, 0.48148148148148145]\n",
      "Evaluate a split on variable x_2 at value 1\n",
      "Score gini by period: [0.3714285714285714, 0.3714285714285714]\n",
      "Depth: 1\n",
      "Max Depth: 10\n",
      "Node periods distribution\n",
      "1    140\n",
      "Name: period, dtype: int64\n",
      "Depth: 2\n",
      "Max Depth: 10\n",
      "Node periods distribution\n",
      "1    80\n",
      "Name: period, dtype: int64\n",
      "Depth: 3\n",
      "Max Depth: 10\n",
      "Node periods distribution\n",
      "1    40\n",
      "Name: period, dtype: int64\n",
      "Depth: 3\n",
      "Max Depth: 10\n",
      "Node periods distribution\n",
      "1    40\n",
      "Name: period, dtype: int64\n",
      "Depth: 2\n",
      "Max Depth: 10\n",
      "Node periods distribution\n",
      "1    60\n",
      "Name: period, dtype: int64\n",
      "Depth: 3\n",
      "Max Depth: 10\n",
      "Node periods distribution\n",
      "1    20\n",
      "Name: period, dtype: int64\n",
      "Depth: 3\n",
      "Max Depth: 10\n",
      "Node periods distribution\n",
      "1    40\n",
      "Name: period, dtype: int64\n",
      "Depth: 1\n",
      "Max Depth: 10\n",
      "Node periods distribution\n",
      "1    100\n",
      "Name: period, dtype: int64\n",
      "Depth: 2\n",
      "Max Depth: 10\n",
      "Node periods distribution\n",
      "1    40\n",
      "Name: period, dtype: int64\n",
      "Depth: 3\n",
      "Max Depth: 10\n",
      "Node periods distribution\n",
      "1    20\n",
      "Name: period, dtype: int64\n",
      "Depth: 3\n",
      "Max Depth: 10\n",
      "Node periods distribution\n",
      "1    20\n",
      "Name: period, dtype: int64\n",
      "Depth: 2\n",
      "Max Depth: 10\n",
      "Node periods distribution\n",
      "1    60\n",
      "Name: period, dtype: int64\n",
      "Depth: 3\n",
      "Max Depth: 10\n",
      "Node periods distribution\n",
      "1    40\n",
      "Name: period, dtype: int64\n",
      "Depth: 3\n",
      "Max Depth: 10\n",
      "Node periods distribution\n",
      "1    20\n",
      "Name: period, dtype: int64\n"
     ]
    },
    {
     "data": {
      "text/plain": [
       "x_1    6\n",
       "x_2    1\n",
       "Name: Feature Importance, dtype: int64"
      ]
     },
     "execution_count": 255,
     "metadata": {},
     "output_type": "execute_result"
    }
   ],
   "source": [
    "model = RandomTimeSplitTree(modified_train[[\"x_1\", \"x_2\", \"period\"]], \n",
    "                    y,\n",
    "                    time_column=\"period\",\n",
    "                    max_depth=10,\n",
    "                    min_sample_periods=1,\n",
    "                    min_leaf=1,   \n",
    "                    split_verbose=True,\n",
    "                    verbose=True,\n",
    "                    max_features=1.0,\n",
    "                    bootstrapping=False,\n",
    "                    criterion=\"gini\",\n",
    "                    period_criterion=\"max\")\n",
    "\n",
    "model.feature_importance"
   ]
  },
  {
   "cell_type": "code",
   "execution_count": 256,
   "metadata": {
    "ExecuteTime": {
     "end_time": "2021-08-14T20:32:59.486331Z",
     "start_time": "2021-08-14T20:32:59.348856Z"
    }
   },
   "outputs": [
    {
     "name": "stdout",
     "output_type": "stream",
     "text": [
      "Evaluate a split on variable x_1 at value 3\n",
      "Score gini by period: [0.48148148148148145, 0.48148148148148145]\n",
      "Evaluate a split on variable x_1 at value 4\n",
      "Score gini by period: [0.4444444444444444, 0.4444444444444444]\n",
      "Evaluate a split on variable x_1 at value 5\n",
      "Score gini by period: [0.48148148148148145, 0.48148148148148145]\n",
      "Evaluate a split on variable x_2 at value 1\n",
      "Score gini by period: [0.3714285714285714, 0.3714285714285714]\n"
     ]
    },
    {
     "data": {
      "text/plain": [
       "x_1    6\n",
       "x_2    1\n",
       "Name: Feature Importance, dtype: int64"
      ]
     },
     "execution_count": 256,
     "metadata": {},
     "output_type": "execute_result"
    }
   ],
   "source": [
    "model = RandomTimeSplitTree(modified_train[[\"x_1\", \"x_2\", \"period\"]], \n",
    "                    y,\n",
    "                    time_column=\"period\",\n",
    "                    max_depth=20,\n",
    "                    min_sample_periods=1,\n",
    "                    min_leaf=1,   \n",
    "                    split_verbose=True,\n",
    "                    verbose=False,\n",
    "                    max_features=1.0,\n",
    "                    bootstrapping=False,\n",
    "                    criterion=\"gini\",\n",
    "                    period_criterion=\"avg\")\n",
    "\n",
    "model.feature_importance"
   ]
  },
  {
   "cell_type": "markdown",
   "metadata": {},
   "source": [
    "## Higher depth"
   ]
  },
  {
   "cell_type": "code",
   "execution_count": 1,
   "metadata": {
    "ExecuteTime": {
     "end_time": "2021-08-17T18:45:58.360767Z",
     "start_time": "2021-08-17T18:45:58.350025Z"
    }
   },
   "outputs": [],
   "source": [
    "def generate_motivational_data(t1_w, t2_w, holdout_w=1):\n",
    "    \"\"\"\n",
    "    t1_w, t2_w: the weights of the examples in t1 and t2\n",
    "    \"\"\"\n",
    "    \n",
    "    period = [1, 1, 1, 1, 1, 1] * t1_w\n",
    "    y_t_1 = np.array([0, 0, 0, 1, 1, 1] * t1_w)\n",
    "    x_1 = np.array([3, 4, 6, 3, 5, 6] * t1_w)\n",
    "    x_2 = np.array([1, 1, 1, 2, 2, 2] * t1_w)\n",
    "\n",
    "    t_1 = pd.DataFrame(np.array([x_1, x_2, period]).transpose(), columns=[\"x_1\", \"x_2\", \"period\"])\n",
    "    \n",
    "    \n",
    "    period = [2, 2, 2, 2, 2, 2] * t2_w\n",
    "    y_t_2 = np.array([0, 0, 0, 1, 1, 1] * t2_w)\n",
    "    x_1 = np.array([3, 4, 5, 4, 5, 6] * t2_w)\n",
    "    x_2 = np.array([1, 1, 2, 2, 1, 1] * t2_w)\n",
    "\n",
    "    t_2 = pd.DataFrame(np.array([x_1, x_2, period]).transpose(), columns=[\"x_1\", \"x_2\", \"period\"])\n",
    "        \n",
    "    ### Holdout\n",
    "    period = [3, 3, 3, 3, 3, 3] * holdout_w\n",
    "    y_t_3 = np.array([0, 0, 1, 1, 0, 1] * holdout_w)\n",
    "    x_1 = np.array([3, 4, 3, 5, 6, 6] * holdout_w)\n",
    "    x_2 = np.array([2, 2, 1, 2, 1, 2] * holdout_w)\n",
    "\n",
    "    holdout = pd.DataFrame(np.array([x_1, x_2, period]).transpose(), columns=[\"x_1\", \"x_2\", \"period\"])\n",
    "    y = np.hstack((y_t_1, y_t_2))\n",
    "    train = pd.concat([t_1, t_2]).reset_index(drop=True)\n",
    "    \n",
    "    return train, holdout, y, y_t_3"
   ]
  },
  {
   "cell_type": "code",
   "execution_count": null,
   "metadata": {},
   "outputs": [],
   "source": [
    "train, holdout, y, y_t_3 = generate_motivational_data(20, 20, holdout_w=1)"
   ]
  },
  {
   "cell_type": "code",
   "execution_count": 257,
   "metadata": {
    "ExecuteTime": {
     "end_time": "2021-08-14T20:32:59.798804Z",
     "start_time": "2021-08-14T20:32:59.488141Z"
    },
    "scrolled": false
   },
   "outputs": [
    {
     "name": "stdout",
     "output_type": "stream",
     "text": [
      "-----------------------\n",
      "Min leaf = 15\n",
      "Splits used: 7\n",
      "x_1    6\n",
      "x_2    1\n",
      "Name: Feature Importance, dtype: int64\n",
      "Train performance: 0.9444444444444444\n",
      "Holdout performance: 0.2777777777777778\n",
      "-----------------------\n",
      "Min leaf = 24\n",
      "Splits used: 4\n",
      "x_1    3\n",
      "x_2    1\n",
      "Name: Feature Importance, dtype: int64\n",
      "Train performance: 0.888888888888889\n",
      "Holdout performance: 0.11111111111111112\n",
      "-----------------------\n",
      "Min leaf = 33\n",
      "Splits used: 4\n",
      "x_1    3\n",
      "x_2    1\n",
      "Name: Feature Importance, dtype: int64\n",
      "Train performance: 0.888888888888889\n",
      "Holdout performance: 0.11111111111111112\n",
      "-----------------------\n",
      "Min leaf = 43\n",
      "Splits used: 2\n",
      "x_1    1\n",
      "x_2    1\n",
      "Name: Feature Importance, dtype: int64\n",
      "Train performance: 0.8611111111111112\n",
      "Holdout performance: 0.4444444444444444\n",
      "-----------------------\n",
      "Min leaf = 52\n",
      "Splits used: 2\n",
      "x_1    1\n",
      "x_2    1\n",
      "Name: Feature Importance, dtype: int64\n",
      "Train performance: 0.8611111111111112\n",
      "Holdout performance: 0.4444444444444444\n",
      "-----------------------\n",
      "Min leaf = 62\n",
      "Splits used: 1\n",
      "x_2    1\n",
      "Name: Feature Importance, dtype: int64\n",
      "Train performance: 0.75\n",
      "Holdout performance: 0.5\n",
      "-----------------------\n",
      "Min leaf = 71\n",
      "Splits used: 1\n",
      "x_2    1\n",
      "Name: Feature Importance, dtype: int64\n",
      "Train performance: 0.75\n",
      "Holdout performance: 0.5\n",
      "-----------------------\n",
      "Min leaf = 81\n",
      "Splits used: 1\n",
      "x_2    1\n",
      "Name: Feature Importance, dtype: int64\n",
      "Train performance: 0.75\n",
      "Holdout performance: 0.5\n",
      "-----------------------\n",
      "Min leaf = 90\n",
      "Splits used: 1\n",
      "x_2    1\n",
      "Name: Feature Importance, dtype: int64\n",
      "Train performance: 0.75\n",
      "Holdout performance: 0.5\n",
      "-----------------------\n",
      "Min leaf = 100\n",
      "Splits used: 1\n",
      "x_1    1\n",
      "Name: Feature Importance, dtype: int64\n",
      "Train performance: 0.6666666666666667\n",
      "Holdout performance: 0.6666666666666667\n"
     ]
    }
   ],
   "source": [
    "benchmark_train_perfs = []\n",
    "benchmark_holdout_perfs = []\n",
    "benchmark_splits = []\n",
    "min_leafs = list(np.linspace(15, 100, 10, dtype=int))\n",
    "for min_leaf in min_leafs:\n",
    "    print(\"-----------------------\")\n",
    "    print(\"Min leaf = {}\".format(min_leaf))\n",
    "    model = DecisionTree(train[[\"x_1\", \"x_2\"]], y, max_depth=20, min_leaf=min_leaf)\n",
    "    train[\"prediction\"] = model.predict(train)\n",
    "\n",
    "    n_splits = model.feature_importance.sum()\n",
    "    benchmark_splits.append(n_splits)\n",
    "    print(\"Splits used: {}\".format(n_splits))\n",
    "    print(model.feature_importance)\n",
    "\n",
    "    holdout[\"prediction\"] = model.predict(holdout)\n",
    "    benchmark_train_perfs.append(roc_auc_score(y, train[\"prediction\"]))\n",
    "    print(\"Train performance: {}\".format(roc_auc_score(y, train[\"prediction\"])))\n",
    "    benchmark_holdout_perfs.append(roc_auc_score(y_t_3, holdout[\"prediction\"]))\n",
    "    print(\"Holdout performance: {}\".format(roc_auc_score(y_t_3, holdout[\"prediction\"])))"
   ]
  },
  {
   "cell_type": "code",
   "execution_count": 258,
   "metadata": {
    "ExecuteTime": {
     "end_time": "2021-08-14T20:33:00.542240Z",
     "start_time": "2021-08-14T20:32:59.800473Z"
    },
    "scrolled": false
   },
   "outputs": [
    {
     "name": "stdout",
     "output_type": "stream",
     "text": [
      "-----------------------\n",
      "Min leaf = 15\n",
      "Splits used: 4\n",
      "x_1    2\n",
      "x_2    2\n",
      "Name: Feature Importance, dtype: int64\n",
      "Train performance: 0.888888888888889\n",
      "Holdout performance: 0.11111111111111112\n",
      "-----------------------\n",
      "Min leaf = 24\n",
      "Splits used: 4\n",
      "x_1    2\n",
      "x_2    2\n",
      "Name: Feature Importance, dtype: int64\n",
      "Train performance: 0.888888888888889\n",
      "Holdout performance: 0.11111111111111112\n",
      "-----------------------\n",
      "Min leaf = 33\n",
      "Splits used: 4\n",
      "x_1    2\n",
      "x_2    2\n",
      "Name: Feature Importance, dtype: int64\n",
      "Train performance: 0.888888888888889\n",
      "Holdout performance: 0.11111111111111112\n",
      "-----------------------\n",
      "Min leaf = 43\n",
      "Splits used: 1\n",
      "x_1    1\n",
      "Name: Feature Importance, dtype: int64\n",
      "Train performance: 0.6666666666666667\n",
      "Holdout performance: 0.6666666666666667\n",
      "-----------------------\n",
      "Min leaf = 52\n",
      "Splits used: 1\n",
      "x_1    1\n",
      "Name: Feature Importance, dtype: int64\n",
      "Train performance: 0.6666666666666667\n",
      "Holdout performance: 0.6666666666666667\n",
      "-----------------------\n",
      "Min leaf = 62\n",
      "Splits used: 1\n",
      "x_1    1\n",
      "Name: Feature Importance, dtype: int64\n",
      "Train performance: 0.6666666666666667\n",
      "Holdout performance: 0.6666666666666667\n",
      "-----------------------\n",
      "Min leaf = 71\n",
      "Splits used: 1\n",
      "x_1    1\n",
      "Name: Feature Importance, dtype: int64\n",
      "Train performance: 0.6666666666666667\n",
      "Holdout performance: 0.6666666666666667\n",
      "-----------------------\n",
      "Min leaf = 81\n",
      "Splits used: 1\n",
      "x_1    1\n",
      "Name: Feature Importance, dtype: int64\n",
      "Train performance: 0.6666666666666667\n",
      "Holdout performance: 0.6666666666666667\n",
      "-----------------------\n",
      "Min leaf = 90\n",
      "Splits used: 1\n",
      "x_1    1\n",
      "Name: Feature Importance, dtype: int64\n",
      "Train performance: 0.6666666666666667\n",
      "Holdout performance: 0.6666666666666667\n",
      "-----------------------\n",
      "Min leaf = 100\n",
      "Splits used: 1\n",
      "x_1    1\n",
      "Name: Feature Importance, dtype: int64\n",
      "Train performance: 0.6666666666666667\n",
      "Holdout performance: 0.6666666666666667\n"
     ]
    }
   ],
   "source": [
    "challenger_train_perfs = []\n",
    "challenger_holdout_perfs = []\n",
    "challenger_splits = []\n",
    "for min_leaf in min_leafs:\n",
    "    print(\"-----------------------\")\n",
    "    print(\"Min leaf = {}\".format(min_leaf))\n",
    "    time_model_tree = RandomTimeSplitTree(train[[\"x_1\", \"x_2\", \"period\"]], \n",
    "                                        y,\n",
    "                                        time_column=\"period\",\n",
    "                                        max_depth=20,\n",
    "                                        min_sample_periods=int(min_leaf/2),\n",
    "                                        min_leaf=min_leaf,  \n",
    "                                        verbose=False,\n",
    "                                        split_verbose=False,\n",
    "                                        bootstrapping=False,\n",
    "                                        max_features=1.0,\n",
    "                                        period_criterion=\"max\")\n",
    "    train[\"time_prediction\"] = time_model_tree.predict(train)\n",
    "\n",
    "    n_splits = time_model_tree.feature_importance.sum()\n",
    "    challenger_splits.append(n_splits)\n",
    "    print(\"Splits used: {}\".format(n_splits))\n",
    "    print(time_model_tree.feature_importance)\n",
    "\n",
    "    holdout[\"time_prediction\"] = time_model_tree.predict(holdout)\n",
    "    \n",
    "    challenger_train_perfs.append(roc_auc_score(y, train[\"time_prediction\"]))\n",
    "    print(\"Train performance: {}\".format(roc_auc_score(y, train[\"time_prediction\"])))\n",
    "    challenger_holdout_perfs.append(roc_auc_score(y_t_3, holdout[\"time_prediction\"]))\n",
    "    print(\"Holdout performance: {}\".format(roc_auc_score(y_t_3, holdout[\"time_prediction\"])))"
   ]
  },
  {
   "cell_type": "code",
   "execution_count": 259,
   "metadata": {
    "ExecuteTime": {
     "end_time": "2021-08-14T20:33:00.777664Z",
     "start_time": "2021-08-14T20:33:00.544400Z"
    }
   },
   "outputs": [
    {
     "data": {
      "image/png": "[encoded data removed]",
      "text/plain": [
       "<Figure size 864x288 with 1 Axes>"
      ]
     },
     "metadata": {},
     "output_type": "display_data"
    }
   ],
   "source": [
    "fig, ax = plt.subplots()\n",
    "plt.plot(min_leafs, benchmark_train_perfs, color=\"#4c72b0\", label=\"DT Train\")\n",
    "plt.plot(min_leafs, benchmark_holdout_perfs, color=\"#4c72b0\", linestyle=\"dashed\", label=\"DT Holdout\")\n",
    "\n",
    "plt.plot(min_leafs, challenger_train_perfs, color=\"green\", label=\"TRT Train\")\n",
    "plt.plot(min_leafs, challenger_holdout_perfs, color=\"green\", linestyle=\"dashed\", label=\"TRT Holdout\")\n",
    "\n",
    "\n",
    "xmin, xmax, ymin, ymax = plt.axis()\n",
    "\n",
    "ax.xaxis.set_tick_params(labelsize=12)\n",
    "ax.yaxis.set_tick_params(labelsize=12)\n",
    "\n",
    "plt.legend(fontsize=15, bbox_to_anchor=(1.0, 1.0))\n",
    "plt.ylabel(\"AUC\", fontsize=15)\n",
    "#plt.xlabel(\"Minimum sample in the leaf (DT), minimum sample by period (TRT)\", fontsize=15)\n",
    "plt.xlabel(\"Minimum sample in the leaf\", fontsize=15)\n",
    "plt.savefig(\"../images/motivational_deeper.eps\", format=\"eps\", bbox_inches=\"tight\")"
   ]
  },
  {
   "cell_type": "markdown",
   "metadata": {},
   "source": [
    "## What if we train the bechmark with the most recent data?"
   ]
  },
  {
   "cell_type": "code",
   "execution_count": 260,
   "metadata": {
    "ExecuteTime": {
     "end_time": "2021-08-14T20:33:00.785525Z",
     "start_time": "2021-08-14T20:33:00.781302Z"
    }
   },
   "outputs": [
    {
     "data": {
      "text/plain": [
       "array([False, False, False, False, False, False, False, False, False,\n",
       "       False, False, False, False, False, False, False, False, False,\n",
       "       False, False, False, False, False, False, False, False, False,\n",
       "       False, False, False, False, False, False, False, False, False,\n",
       "       False, False, False, False, False, False, False, False, False,\n",
       "       False, False, False, False, False, False, False, False, False,\n",
       "       False, False, False, False, False, False, False, False, False,\n",
       "       False, False, False, False, False, False, False, False, False,\n",
       "       False, False, False, False, False, False, False, False, False,\n",
       "       False, False, False, False, False, False, False, False, False,\n",
       "       False, False, False, False, False, False, False, False, False,\n",
       "       False, False, False, False, False, False, False, False, False,\n",
       "       False, False, False, False, False, False, False, False, False,\n",
       "       False, False, False,  True,  True,  True,  True,  True,  True,\n",
       "        True,  True,  True,  True,  True,  True,  True,  True,  True,\n",
       "        True,  True,  True,  True,  True,  True,  True,  True,  True,\n",
       "        True,  True,  True,  True,  True,  True,  True,  True,  True,\n",
       "        True,  True,  True,  True,  True,  True,  True,  True,  True,\n",
       "        True,  True,  True,  True,  True,  True,  True,  True,  True,\n",
       "        True,  True,  True,  True,  True,  True,  True,  True,  True,\n",
       "        True,  True,  True,  True,  True,  True,  True,  True,  True,\n",
       "        True,  True,  True,  True,  True,  True,  True,  True,  True,\n",
       "        True,  True,  True,  True,  True,  True,  True,  True,  True,\n",
       "        True,  True,  True,  True,  True,  True,  True,  True,  True,\n",
       "        True,  True,  True,  True,  True,  True,  True,  True,  True,\n",
       "        True,  True,  True,  True,  True,  True,  True,  True,  True,\n",
       "        True,  True,  True,  True,  True,  True])"
      ]
     },
     "execution_count": 260,
     "metadata": {},
     "output_type": "execute_result"
    }
   ],
   "source": [
    "(train[\"period\"] == 2).values"
   ]
  },
  {
   "cell_type": "code",
   "execution_count": 261,
   "metadata": {
    "ExecuteTime": {
     "end_time": "2021-08-14T20:33:00.979386Z",
     "start_time": "2021-08-14T20:33:00.787795Z"
    },
    "scrolled": true
   },
   "outputs": [
    {
     "name": "stdout",
     "output_type": "stream",
     "text": [
      "-----------------------\n",
      "Min leaf = 15\n",
      "Splits used: 5\n",
      "x_1    3\n",
      "x_2    2\n",
      "Name: Feature Importance, dtype: int64\n",
      "Train performance: 1.0\n",
      "Holdout performance: 0.33333333333333337\n",
      "-----------------------\n",
      "Min leaf = 24\n",
      "Splits used: 1\n",
      "x_1    1\n",
      "Name: Feature Importance, dtype: int64\n",
      "Train performance: 0.6666666666666667\n",
      "Holdout performance: 0.6666666666666667\n",
      "-----------------------\n",
      "Min leaf = 33\n",
      "Splits used: 1\n",
      "x_1    1\n",
      "Name: Feature Importance, dtype: int64\n",
      "Train performance: 0.6666666666666667\n",
      "Holdout performance: 0.6666666666666667\n",
      "-----------------------\n",
      "Min leaf = 43\n",
      "Splits used: 1\n",
      "x_1    1\n",
      "Name: Feature Importance, dtype: int64\n",
      "Train performance: 0.6666666666666667\n",
      "Holdout performance: 0.6666666666666667\n",
      "-----------------------\n",
      "Min leaf = 52\n",
      "Splits used: 1\n",
      "x_1    1\n",
      "Name: Feature Importance, dtype: int64\n",
      "Train performance: 0.6666666666666667\n",
      "Holdout performance: 0.6666666666666667\n",
      "-----------------------\n",
      "Min leaf = 62\n",
      "Splits used: 1\n",
      "LEAF    1\n",
      "Name: Feature Importance, dtype: int64\n",
      "Train performance: 0.5\n",
      "Holdout performance: 0.5\n",
      "-----------------------\n",
      "Min leaf = 71\n",
      "Splits used: 1\n",
      "LEAF    1\n",
      "Name: Feature Importance, dtype: int64\n",
      "Train performance: 0.5\n",
      "Holdout performance: 0.5\n",
      "-----------------------\n",
      "Min leaf = 81\n",
      "Splits used: 1\n",
      "LEAF    1\n",
      "Name: Feature Importance, dtype: int64\n",
      "Train performance: 0.5\n",
      "Holdout performance: 0.5\n",
      "-----------------------\n",
      "Min leaf = 90\n",
      "Splits used: 1\n",
      "LEAF    1\n",
      "Name: Feature Importance, dtype: int64\n",
      "Train performance: 0.5\n",
      "Holdout performance: 0.5\n",
      "-----------------------\n",
      "Min leaf = 100\n",
      "Splits used: 1\n",
      "LEAF    1\n",
      "Name: Feature Importance, dtype: int64\n",
      "Train performance: 0.5\n",
      "Holdout performance: 0.5\n"
     ]
    }
   ],
   "source": [
    "recent_train = train[train[\"period\"] == 2].reset_index()\n",
    "recent_y = y[(train[\"period\"] == 2).values]\n",
    "\n",
    "for min_leaf in min_leafs:\n",
    "    print(\"-----------------------\")\n",
    "    print(\"Min leaf = {}\".format(min_leaf))\n",
    "    model = DecisionTree(recent_train[[\"x_1\", \"x_2\"]], recent_y, max_depth=10, min_leaf=min_leaf)\n",
    "    recent_train[\"prediction\"] = model.predict(recent_train)\n",
    "\n",
    "    print(\"Splits used: {}\".format(model.feature_importance.sum()))\n",
    "    print(model.feature_importance)\n",
    "\n",
    "    holdout[\"prediction\"] = model.predict(holdout)\n",
    "    print(\"Train performance: {}\".format(roc_auc_score(recent_y, recent_train[\"prediction\"])))\n",
    "    print(\"Holdout performance: {}\".format(roc_auc_score(y_t_3, holdout[\"prediction\"])))"
   ]
  },
  {
   "cell_type": "markdown",
   "metadata": {},
   "source": [
    "## What if t=1 and t=2 are inverted?"
   ]
  },
  {
   "cell_type": "code",
   "execution_count": null,
   "metadata": {
    "ExecuteTime": {
     "end_time": "2021-08-13T13:59:41.737390Z",
     "start_time": "2021-08-13T13:59:39.743Z"
    }
   },
   "outputs": [],
   "source": [
    "recent_train = train[train[\"period\"] == 1].reset_index()\n",
    "recent_y = y[(train[\"period\"] == 1).values]\n",
    "\n",
    "for min_leaf in min_leafs:\n",
    "    print(\"-----------------------\")\n",
    "    print(\"Min leaf = {}\".format(min_leaf))\n",
    "    model = DecisionTree(recent_train[[\"x_1\", \"x_2\"]], recent_y, max_depth=10, min_leaf=min_leaf)\n",
    "    recent_train[\"prediction\"] = model.predict(recent_train)\n",
    "\n",
    "    print(\"Splits used: {}\".format(model.feature_importance.sum()))\n",
    "    print(model.feature_importance)\n",
    "\n",
    "    holdout[\"prediction\"] = model.predict(holdout)\n",
    "    print(\"Train performance: {}\".format(roc_auc_score(recent_y, recent_train[\"prediction\"])))\n",
    "    print(\"Holdout performance: {}\".format(roc_auc_score(y_t_3, holdout[\"prediction\"])))"
   ]
  },
  {
   "cell_type": "markdown",
   "metadata": {},
   "source": [
    "## Looking to different mixes of weights for t=1 and t=2"
   ]
  },
  {
   "cell_type": "markdown",
   "metadata": {},
   "source": [
    "### Using 6 for t1 and 4 fot t2 to show that in some cases they eventually converge\n",
    "\n",
    "This raises the hypothesis the TRT only regularizes sooner. "
   ]
  },
  {
   "cell_type": "code",
   "execution_count": null,
   "metadata": {
    "ExecuteTime": {
     "end_time": "2021-08-13T13:59:41.739568Z",
     "start_time": "2021-08-13T13:59:39.749Z"
    }
   },
   "outputs": [],
   "source": [
    "train, holdout, y, y_t_3 = generate_motivational_data(2, 1, holdout_w=1)"
   ]
  },
  {
   "cell_type": "code",
   "execution_count": null,
   "metadata": {
    "ExecuteTime": {
     "end_time": "2021-08-13T13:59:41.740740Z",
     "start_time": "2021-08-13T13:59:39.753Z"
    }
   },
   "outputs": [],
   "source": [
    "benchmark_train_perfs = []\n",
    "benchmark_holdout_perfs = []\n",
    "benchmark_splits = []\n",
    "min_leafs = list(np.linspace(2, 20, 20, dtype=int))\n",
    "for min_leaf in min_leafs:\n",
    "    print(\"-----------------------\")\n",
    "    print(\"Min leaf = {}\".format(min_leaf))\n",
    "    model = DecisionTree(train[[\"x_1\", \"x_2\"]], y, max_depth=20, min_leaf=min_leaf)\n",
    "    train[\"prediction\"] = model.predict(train)\n",
    "\n",
    "    n_splits = model.feature_importance.sum()\n",
    "    benchmark_splits.append(n_splits)\n",
    "    print(\"Splits used: {}\".format(n_splits))\n",
    "    print(model.feature_importance)\n",
    "\n",
    "    holdout[\"prediction\"] = model.predict(holdout)\n",
    "    benchmark_train_perfs.append(roc_auc_score(y, train[\"prediction\"]))\n",
    "    print(\"Train performance: {}\".format(roc_auc_score(y, train[\"prediction\"])))\n",
    "    benchmark_holdout_perfs.append(roc_auc_score(y_t_3, holdout[\"prediction\"]))\n",
    "    print(\"Holdout performance: {}\".format(roc_auc_score(y_t_3, holdout[\"prediction\"])))"
   ]
  },
  {
   "cell_type": "code",
   "execution_count": null,
   "metadata": {
    "ExecuteTime": {
     "end_time": "2021-08-13T13:59:41.741781Z",
     "start_time": "2021-08-13T13:59:39.756Z"
    }
   },
   "outputs": [],
   "source": [
    "challenger_train_perfs = []\n",
    "challenger_holdout_perfs = []\n",
    "challenger_splits = []\n",
    "for min_leaf in min_leafs:\n",
    "    print(\"-----------------------\")\n",
    "    print(\"Min leaf = {}\".format(min_leaf))\n",
    "    time_model_tree = RandomTimeSplitTree(train[[\"x_1\", \"x_2\", \"period\"]], \n",
    "                                        y,\n",
    "                                        time_column=\"period\",\n",
    "                                        max_depth=20,\n",
    "                                        min_sample_periods=int(min_leaf/2),\n",
    "                                        min_leaf=min_leaf,  \n",
    "                                        verbose=False,\n",
    "                                        split_verbose=False,\n",
    "                                        bootstrapping=False,\n",
    "                                        max_features=1.0,\n",
    "                                        period_criterion=\"max\")\n",
    "    train[\"time_prediction\"] = time_model_tree.predict(train)\n",
    "\n",
    "    n_splits = time_model_tree.feature_importance.sum()\n",
    "    challenger_splits.append(n_splits)\n",
    "    print(\"Splits used: {}\".format(n_splits))\n",
    "    print(time_model_tree.feature_importance)\n",
    "\n",
    "    holdout[\"time_prediction\"] = time_model_tree.predict(holdout)\n",
    "    \n",
    "    challenger_train_perfs.append(roc_auc_score(y, train[\"time_prediction\"]))\n",
    "    print(\"Train performance: {}\".format(roc_auc_score(y, train[\"time_prediction\"])))\n",
    "    challenger_holdout_perfs.append(roc_auc_score(y_t_3, holdout[\"time_prediction\"]))\n",
    "    print(\"Holdout performance: {}\".format(roc_auc_score(y_t_3, holdout[\"time_prediction\"])))"
   ]
  },
  {
   "cell_type": "code",
   "execution_count": null,
   "metadata": {
    "ExecuteTime": {
     "end_time": "2021-08-13T13:59:41.742839Z",
     "start_time": "2021-08-13T13:59:39.758Z"
    }
   },
   "outputs": [],
   "source": [
    "fig, ax = plt.subplots()\n",
    "plt.plot(min_leafs, benchmark_train_perfs, color=\"#4c72b0\", label=\"DT Train\")\n",
    "plt.plot(min_leafs, benchmark_holdout_perfs, color=\"#4c72b0\", linestyle=\"dashed\", label=\"DT Holdout\")\n",
    "\n",
    "plt.plot(min_leafs, challenger_train_perfs, color=\"green\", label=\"TRT Train\")\n",
    "plt.plot(min_leafs, challenger_holdout_perfs, color=\"green\", linestyle=\"dashed\", label=\"TRT Holdout\")\n",
    "\n",
    "\n",
    "xmin, xmax, ymin, ymax = plt.axis()\n",
    "\n",
    "ax.xaxis.set_tick_params(labelsize=12)\n",
    "ax.yaxis.set_tick_params(labelsize=12)\n",
    "\n",
    "plt.legend(fontsize=15, bbox_to_anchor=(1.0, 1.0))\n",
    "plt.ylabel(\"AUC\", fontsize=15)\n",
    "#plt.xlabel(\"Minimum sample in the leaf (DT), minimum sample by period (TRT)\", fontsize=15)\n",
    "plt.xlabel(\"Minimum sample in the leaf\", fontsize=15)\n",
    "plt.savefig(\"../images/motivational_deeper_6_4.eps\", format=\"eps\", bbox_inches=\"tight\")"
   ]
  },
  {
   "cell_type": "markdown",
   "metadata": {},
   "source": [
    "### Averaging multiple scenarios"
   ]
  },
  {
   "cell_type": "code",
   "execution_count": null,
   "metadata": {
    "ExecuteTime": {
     "end_time": "2021-08-13T13:59:41.744088Z",
     "start_time": "2021-08-13T13:59:39.762Z"
    }
   },
   "outputs": [],
   "source": [
    "experiment_results = {}\n",
    "experiment_results[\"result\"] = {\"benchmark\": [], \n",
    "                                \"challenger\": []}  \n",
    "n_rounds = 50\n",
    "min_leafs = list(np.linspace(2, 200, 40, dtype=int))\n",
    "\n",
    "for n_round in range(n_rounds):\n",
    "    experiment_results[n_round] = {\"benchmark\": {}, \n",
    "                                   \"challenger\": {}}    \n",
    "    weights = np.random.randint(1, 30, 2)\n",
    "    train, holdout, y, y_t_3 = generate_motivational_data(weights[0],\n",
    "                               weights[1])\n",
    "\n",
    "    \n",
    "\n",
    "    for model_type in [\"benchmark\", \"challenger\"]:\n",
    "        #experiment_results[n_round][model_type] = []\n",
    "        experiment_results[n_round][model_type][\"df\"] = []\n",
    "        experiment_results[n_round][model_type][\"train\"] = []\n",
    "        experiment_results[n_round][model_type][\"holdout\"] = []\n",
    "        experiment_results[n_round][model_type][\"splits\"] = []   \n",
    "        \n",
    "        \n",
    "    for min_leaf in min_leafs:\n",
    "        ### Benchmark model\n",
    "        model_type = \"benchmark\"\n",
    "        model = DecisionTree(train[[\"x_1\", \"x_2\"]], y, max_depth=10, min_leaf=min_leaf)\n",
    "        train[\"prediction\"] = model.predict(train)\n",
    "        n_splits = model.feature_importance.sum()\n",
    "        experiment_results[n_round][model_type][\"splits\"].append(min_leaf)\n",
    "        holdout[\"prediction\"] = model.predict(holdout)\n",
    "        experiment_results[n_round][model_type][\"train\"].append(roc_auc_score(y, train[\"prediction\"]))\n",
    "        experiment_results[n_round][model_type][\"holdout\"].append(roc_auc_score(y_t_3, holdout[\"prediction\"]))\n",
    "        \n",
    " \n",
    "        ### Challenger model\n",
    "        model_type = \"challenger\"\n",
    "        time_model_tree = RandomTimeSplitTree(train[[\"x_1\", \"x_2\", \"period\"]], \n",
    "                                            y,\n",
    "                                            time_column=\"period\",\n",
    "                                            max_depth=10,\n",
    "                                            min_sample_periods=int(min_leaf/2),\n",
    "                                            min_leaf=min_leaf,  \n",
    "                                            verbose=False,\n",
    "                                            split_verbose=False,\n",
    "                                            bootstrapping=False,\n",
    "                                            max_features=1.0,\n",
    "                                            period_criterion=\"max\")\n",
    "        train[\"time_prediction\"] = time_model_tree.predict(train)\n",
    "\n",
    "        n_splits = time_model_tree.feature_importance.sum()\n",
    "        experiment_results[n_round][model_type][\"splits\"].append(min_leaf)\n",
    "        holdout[\"time_prediction\"] = time_model_tree.predict(holdout)\n",
    "        experiment_results[n_round][model_type][\"train\"].append(roc_auc_score(y, train[\"time_prediction\"]))\n",
    "        experiment_results[n_round][model_type][\"holdout\"].append(roc_auc_score(y_t_3, holdout[\"time_prediction\"]))\n",
    "        \n",
    "    benchmark_df = pd.DataFrame(list(zip(experiment_results[n_round][\"benchmark\"][\"train\"],\n",
    "                             experiment_results[n_round][\"benchmark\"][\"holdout\"],\n",
    "                             experiment_results[n_round][\"benchmark\"][\"splits\"])), \n",
    "                             columns=[\"train\", \"holdout\", \"splits\"])\n",
    "    \n",
    "    challenger_df = pd.DataFrame(list(zip(experiment_results[n_round][\"challenger\"][\"train\"],\n",
    "                                  experiment_results[n_round][\"challenger\"][\"holdout\"],\n",
    "                                  experiment_results[n_round][\"challenger\"][\"splits\"])), \n",
    "                                  columns=[\"train\", \"holdout\", \"splits\"])\n",
    "    \n",
    "    benchmark_df.loc[:, \"weight\"] = str(weights)\n",
    "    challenger_df.loc[:, \"weight\"] = str(weights)\n",
    "    \n",
    "    experiment_results[\"result\"][\"benchmark\"].append(benchmark_df)\n",
    "    experiment_results[\"result\"][\"challenger\"].append(challenger_df)"
   ]
  },
  {
   "cell_type": "code",
   "execution_count": null,
   "metadata": {
    "ExecuteTime": {
     "end_time": "2021-08-13T13:59:41.745447Z",
     "start_time": "2021-08-13T13:59:39.765Z"
    }
   },
   "outputs": [],
   "source": [
    "benchmark_results = pd.concat(experiment_results[\"result\"][\"benchmark\"])\n",
    "benchmark_results[\"model\"] = \"benchmark\"\n",
    "\n",
    "challenger_results = pd.concat(experiment_results[\"result\"][\"challenger\"])\n",
    "challenger_results[\"model\"] = \"challenger\"    "
   ]
  },
  {
   "cell_type": "code",
   "execution_count": null,
   "metadata": {
    "ExecuteTime": {
     "end_time": "2021-08-13T13:59:41.746798Z",
     "start_time": "2021-08-13T13:59:39.768Z"
    }
   },
   "outputs": [],
   "source": [
    "benchmark_results"
   ]
  },
  {
   "cell_type": "code",
   "execution_count": null,
   "metadata": {
    "ExecuteTime": {
     "end_time": "2021-08-13T13:59:41.747890Z",
     "start_time": "2021-08-13T13:59:39.772Z"
    }
   },
   "outputs": [],
   "source": [
    "challenger_results"
   ]
  },
  {
   "cell_type": "code",
   "execution_count": null,
   "metadata": {
    "ExecuteTime": {
     "end_time": "2021-08-13T13:59:41.749259Z",
     "start_time": "2021-08-13T13:59:39.774Z"
    }
   },
   "outputs": [],
   "source": [
    "# w = benchmark_results.pivot(\"weight\", \"splits\", \"holdout\")\n",
    "# sns.heatmap(w)"
   ]
  },
  {
   "cell_type": "code",
   "execution_count": null,
   "metadata": {
    "ExecuteTime": {
     "end_time": "2021-08-13T13:59:41.750306Z",
     "start_time": "2021-08-13T13:59:39.777Z"
    }
   },
   "outputs": [],
   "source": [
    "# w = challenger_results.pivot(\"weight\", \"splits\", \"holdout\")\n",
    "# sns.heatmap(w)"
   ]
  },
  {
   "cell_type": "code",
   "execution_count": null,
   "metadata": {
    "ExecuteTime": {
     "end_time": "2021-08-13T13:59:41.751533Z",
     "start_time": "2021-08-13T13:59:39.780Z"
    }
   },
   "outputs": [],
   "source": [
    "print((challenger_results.groupby(\"weight\")[\"holdout\"].max() >= 0.70).mean())\n",
    "challenger_results.groupby(\"weight\")[\"holdout\"].max()"
   ]
  },
  {
   "cell_type": "code",
   "execution_count": null,
   "metadata": {
    "ExecuteTime": {
     "end_time": "2021-08-13T13:59:41.752737Z",
     "start_time": "2021-08-13T13:59:39.784Z"
    }
   },
   "outputs": [],
   "source": [
    "print((benchmark_results.groupby(\"weight\")[\"holdout\"].max() >= 0.70).mean())\n",
    "benchmark_results.groupby(\"weight\")[\"holdout\"].max()"
   ]
  },
  {
   "cell_type": "code",
   "execution_count": null,
   "metadata": {
    "ExecuteTime": {
     "end_time": "2021-08-13T13:59:41.753751Z",
     "start_time": "2021-08-13T13:59:39.787Z"
    }
   },
   "outputs": [],
   "source": [
    "from matplotlib.collections import PolyCollection as p"
   ]
  },
  {
   "cell_type": "code",
   "execution_count": null,
   "metadata": {
    "ExecuteTime": {
     "end_time": "2021-08-13T13:59:41.754789Z",
     "start_time": "2021-08-13T13:59:39.790Z"
    }
   },
   "outputs": [],
   "source": [
    "fig, ax = plt.subplots()\n",
    "sns.lineplot(data=challenger_results, x=\"splits\", y=\"train\", label=\"TRT Train\")\n",
    "sns.lineplot(data=benchmark_results, x=\"splits\", y=\"train\", label=\"DT Train\")\n",
    "\n",
    "sns.lineplot(data=challenger_results, x=\"splits\", y=\"holdout\", linestyle=\"dashed\", label=\"TRT Holdout\")\n",
    "sns.lineplot(data=benchmark_results, x=\"splits\", y=\"holdout\", linestyle=\"dashed\", label=\"DT Holdout\")\n",
    "plt.legend()\n",
    "\n",
    "xmin, xmax, ymin, ymax = plt.axis()\n",
    "plt.hlines(0.5, xmin, xmax, linestyle=\"dotted\", color=\"black\", label=\"Random\")\n",
    "\n",
    "ax.xaxis.set_tick_params(labelsize=12)\n",
    "ax.yaxis.set_tick_params(labelsize=12)\n",
    "\n",
    "plt.legend(fontsize=15, bbox_to_anchor=(1.0, 1.0))\n",
    "plt.ylabel(\"AUC\", fontsize=15)\n",
    "#plt.xlabel(\"Minimum sample in the leaf (DT), minimum sample by period (TRT)\", fontsize=15)\n",
    "plt.xlabel(\"Minimum sample in the leaf\", fontsize=15)\n",
    "\n",
    "__file__ = \"../images/motivational_deeper_robust\"\n",
    "plt.savefig(__file__+\".jpg\", quality=95)\n",
    "for c in ax.findobj(p):\n",
    "    c.set_zorder(-1)\n",
    "    c.set_rasterized(True)\n",
    "ax.set_rasterization_zorder(0)\n",
    "\n",
    "plt.savefig(__file__+\".eps\")\n",
    "\n",
    "plt.savefig(\"../images/motivational_deeper_robust.eps\", format=\"eps\", bbox_inches=\"tight\")"
   ]
  },
  {
   "cell_type": "code",
   "execution_count": null,
   "metadata": {
    "ExecuteTime": {
     "end_time": "2021-08-13T13:59:41.756111Z",
     "start_time": "2021-08-13T13:59:39.794Z"
    }
   },
   "outputs": [],
   "source": [
    "fig, ax = plt.subplots()\n",
    "sns.lineplot(data=challenger_results, x=\"weight\", y=\"train\", label=\"TRT Train\")\n",
    "sns.lineplot(data=benchmark_results, x=\"weight\", y=\"train\", label=\"DT Train\")\n",
    "\n",
    "sns.lineplot(data=challenger_results, x=\"weight\", y=\"holdout\", linestyle=\"dashed\", label=\"TRT Holdout\")\n",
    "sns.lineplot(data=benchmark_results, x=\"weight\", y=\"holdout\", linestyle=\"dashed\", label=\"DT Holdout\")\n",
    "plt.legend()\n",
    "\n",
    "xmin, xmax, ymin, ymax = plt.axis()\n",
    "\n",
    "ax.xaxis.set_tick_params(labelsize=12, labelrotation=90)\n",
    "ax.yaxis.set_tick_params(labelsize=12)\n",
    "\n",
    "plt.legend(fontsize=15, bbox_to_anchor=(1.0, 1.0))\n",
    "plt.ylabel(\"AUC\", fontsize=15)\n",
    "#plt.xlabel(\"Minimum sample in the leaf (DT), minimum sample by period (TRT)\", fontsize=15)\n",
    "plt.xlabel(\"Weight for first and second training periods\", fontsize=15)\n",
    "\n",
    "__file__ = \"../images/motivational_deeper_robust_weight\"\n",
    "plt.savefig(__file__+\".jpg\", quality=95)\n",
    "for c in ax.findobj(p):\n",
    "    c.set_zorder(-1)\n",
    "    c.set_rasterized(True)\n",
    "ax.set_rasterization_zorder(0)\n",
    "\n",
    "plt.savefig(__file__+\".eps\")\n",
    "\n",
    "#plt.savefig(\"../images/motivational_deeper_robust.eps\", format=\"eps\", bbox_inches=\"tight\")"
   ]
  },
  {
   "cell_type": "code",
   "execution_count": null,
   "metadata": {
    "ExecuteTime": {
     "end_time": "2021-08-13T13:59:41.757662Z",
     "start_time": "2021-08-13T13:59:39.797Z"
    }
   },
   "outputs": [],
   "source": [
    "challenger_results.groupby(\"splits\")[\"holdout\"].mean().plot()\n",
    "benchmark_results.groupby(\"splits\")[\"holdout\"].mean().plot()"
   ]
  },
  {
   "cell_type": "code",
   "execution_count": null,
   "metadata": {
    "ExecuteTime": {
     "end_time": "2021-08-13T13:59:41.759082Z",
     "start_time": "2021-08-13T13:59:39.801Z"
    }
   },
   "outputs": [],
   "source": [
    "challenger_results.groupby(\"splits\")[\"holdout\"].max().plot()\n",
    "benchmark_results.groupby(\"splits\")[\"holdout\"].max().plot()"
   ]
  },
  {
   "cell_type": "code",
   "execution_count": null,
   "metadata": {
    "ExecuteTime": {
     "end_time": "2021-08-13T13:59:41.760436Z",
     "start_time": "2021-08-13T13:59:39.804Z"
    }
   },
   "outputs": [],
   "source": [
    "challenger_results.groupby(\"weight\")[\"holdout\"].max().plot()\n",
    "benchmark_results.groupby(\"weight\")[\"holdout\"].max().plot()"
   ]
  },
  {
   "cell_type": "code",
   "execution_count": null,
   "metadata": {
    "ExecuteTime": {
     "end_time": "2021-08-13T13:59:41.761843Z",
     "start_time": "2021-08-13T13:59:39.808Z"
    }
   },
   "outputs": [],
   "source": [
    "benchmark_results[\"holdout\"].max()"
   ]
  },
  {
   "cell_type": "code",
   "execution_count": null,
   "metadata": {
    "ExecuteTime": {
     "end_time": "2021-08-13T13:59:41.763773Z",
     "start_time": "2021-08-13T13:59:39.811Z"
    }
   },
   "outputs": [],
   "source": [
    "challenger_results[\"holdout\"].max()"
   ]
  }
 ],
 "metadata": {
  "hide_input": false,
  "kernelspec": {
   "display_name": "ml3",
   "language": "python",
   "name": "lgm"
  },
  "language_info": {
   "codemirror_mode": {
    "name": "ipython",
    "version": 3
   },
   "file_extension": ".py",
   "mimetype": "text/x-python",
   "name": "python",
   "nbconvert_exporter": "python",
   "pygments_lexer": "ipython3",
   "version": "3.6.3"
  },
  "toc": {
   "base_numbering": 1,
   "nav_menu": {},
   "number_sections": true,
   "sideBar": true,
   "skip_h1_title": true,
   "title_cell": "Index",
   "title_sidebar": "Contents",
   "toc_cell": true,
   "toc_position": {},
   "toc_section_display": true,
   "toc_window_display": true
  }
 },
 "nbformat": 4,
 "nbformat_minor": 2
}
