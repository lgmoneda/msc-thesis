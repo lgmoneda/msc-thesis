{
 "cells": [
  {
   "cell_type": "markdown",
   "metadata": {},
   "source": [
    "# Example - Kickstarter"
   ]
  },
  {
   "cell_type": "markdown",
   "metadata": {
    "toc": true
   },
   "source": [
    "<h1>Index<span class=\"tocSkip\"></span></h1>\n",
    "<div class=\"toc\"><ul class=\"toc-item\"><li><span><a href=\"#Create-a-target\" data-toc-modified-id=\"Create-a-target-1\"><span class=\"toc-item-num\">1&nbsp;&nbsp;</span>Create a target</a></span></li><li><span><a href=\"#Modeling\" data-toc-modified-id=\"Modeling-2\"><span class=\"toc-item-num\">2&nbsp;&nbsp;</span>Modeling</a></span><ul class=\"toc-item\"><li><span><a href=\"#Data\" data-toc-modified-id=\"Data-2.1\"><span class=\"toc-item-num\">2.1&nbsp;&nbsp;</span>Data</a></span></li></ul></li><li><span><a href=\"#Checking-the-support-in-the-different-environments\" data-toc-modified-id=\"Checking-the-support-in-the-different-environments-3\"><span class=\"toc-item-num\">3&nbsp;&nbsp;</span>Checking the support in the different environments</a></span><ul class=\"toc-item\"><li><span><a href=\"#Benchmark\" data-toc-modified-id=\"Benchmark-3.1\"><span class=\"toc-item-num\">3.1&nbsp;&nbsp;</span>Benchmark</a></span></li></ul></li><li><span><a href=\"#Challenger-model\" data-toc-modified-id=\"Challenger-model-4\"><span class=\"toc-item-num\">4&nbsp;&nbsp;</span>Challenger model</a></span><ul class=\"toc-item\"><li><span><a href=\"#Feature-importance-migration\" data-toc-modified-id=\"Feature-importance-migration-4.1\"><span class=\"toc-item-num\">4.1&nbsp;&nbsp;</span>Feature importance migration</a></span></li><li><span><a href=\"#Reverse-learning-curve\" data-toc-modified-id=\"Reverse-learning-curve-4.2\"><span class=\"toc-item-num\">4.2&nbsp;&nbsp;</span>Reverse learning curve</a></span></li></ul></li><li><span><a href=\"#TRF-feature-importance-for-feature-selection\" data-toc-modified-id=\"TRF-feature-importance-for-feature-selection-5\"><span class=\"toc-item-num\">5&nbsp;&nbsp;</span>TRF feature importance for feature selection</a></span></li><li><span><a href=\"#Feature-impact\" data-toc-modified-id=\"Feature-impact-6\"><span class=\"toc-item-num\">6&nbsp;&nbsp;</span>Feature impact</a></span><ul class=\"toc-item\"><li><span><a href=\"#Categoricals\" data-toc-modified-id=\"Categoricals-6.1\"><span class=\"toc-item-num\">6.1&nbsp;&nbsp;</span>Categoricals</a></span></li></ul></li><li><span><a href=\"#Minimum-samples-by-period-effect\" data-toc-modified-id=\"Minimum-samples-by-period-effect-7\"><span class=\"toc-item-num\">7&nbsp;&nbsp;</span>Minimum samples by period effect</a></span></li><li><span><a href=\"#Domain-classifier\" data-toc-modified-id=\"Domain-classifier-8\"><span class=\"toc-item-num\">8&nbsp;&nbsp;</span>Domain classifier</a></span></li><li><span><a href=\"#Other-optimization-designs-for-the-RF\" data-toc-modified-id=\"Other-optimization-designs-for-the-RF-9\"><span class=\"toc-item-num\">9&nbsp;&nbsp;</span>Other optimization designs for the RF</a></span></li></ul></div>"
   ]
  },
  {
   "cell_type": "code",
   "execution_count": 1,
   "metadata": {
    "ExecuteTime": {
     "end_time": "2021-08-16T21:16:24.241861Z",
     "start_time": "2021-08-16T21:16:24.195333Z"
    },
    "execution": {
     "iopub.execute_input": "2021-08-19T00:05:56.811852Z",
     "iopub.status.busy": "2021-08-19T00:05:56.811633Z",
     "iopub.status.idle": "2021-08-19T00:05:58.220527Z",
     "shell.execute_reply": "2021-08-19T00:05:58.219353Z",
     "shell.execute_reply.started": "2021-08-19T00:05:56.811827Z"
    }
   },
   "outputs": [],
   "source": [
    "import pandas as pd\n",
    "import matplotlib.pyplot as plt\n",
    "import numpy as np\n",
    "import shap\n",
    "import seaborn as sns\n",
    "\n",
    "from sklearn.preprocessing import LabelEncoder\n",
    "from sklearn.tree import DecisionTreeClassifier\n",
    "from sklearn.ensemble import RandomForestClassifier\n",
    "from sklearn.model_selection import train_test_split\n",
    "from sklearn.metrics import roc_auc_score\n",
    "\n",
    "from time_robust_forest.models import TimeForestClassifier\n",
    "#from models.time_robust_forest import TimeForestClassifier\n",
    "from models.aux_functions import *\n",
    "from time_robust_forest.functions import check_categoricals_match, check_numerical_match\n",
    "\n",
    "import warnings\n",
    "warnings.filterwarnings('ignore')\n",
    "np.random.seed(42)"
   ]
  },
  {
   "cell_type": "code",
   "execution_count": 2,
   "metadata": {
    "ExecuteTime": {
     "end_time": "2021-08-16T18:04:40.994797Z",
     "start_time": "2021-08-16T18:04:40.992073Z"
    },
    "execution": {
     "iopub.execute_input": "2021-08-19T00:05:58.221972Z",
     "iopub.status.busy": "2021-08-19T00:05:58.221782Z",
     "iopub.status.idle": "2021-08-19T00:05:58.225409Z",
     "shell.execute_reply": "2021-08-19T00:05:58.224838Z",
     "shell.execute_reply.started": "2021-08-19T00:05:58.221950Z"
    }
   },
   "outputs": [],
   "source": [
    "def set_style():\n",
    "    plt.style.use(['seaborn-white', 'seaborn-paper'])\n",
    "    plt.rcParams['figure.figsize'] = (12, 4)"
   ]
  },
  {
   "cell_type": "code",
   "execution_count": 3,
   "metadata": {
    "ExecuteTime": {
     "end_time": "2021-08-16T18:04:41.001073Z",
     "start_time": "2021-08-16T18:04:40.997901Z"
    },
    "execution": {
     "iopub.execute_input": "2021-08-19T00:05:58.226719Z",
     "iopub.status.busy": "2021-08-19T00:05:58.226555Z",
     "iopub.status.idle": "2021-08-19T00:05:58.235236Z",
     "shell.execute_reply": "2021-08-19T00:05:58.234431Z",
     "shell.execute_reply.started": "2021-08-19T00:05:58.226699Z"
    }
   },
   "outputs": [],
   "source": [
    "set_style()"
   ]
  },
  {
   "cell_type": "markdown",
   "metadata": {},
   "source": [
    "# Loading and cleaning the data"
   ]
  },
  {
   "cell_type": "code",
   "execution_count": 4,
   "metadata": {
    "ExecuteTime": {
     "end_time": "2021-08-16T18:04:41.007006Z",
     "start_time": "2021-08-16T18:04:41.004450Z"
    },
    "execution": {
     "iopub.execute_input": "2021-08-19T00:05:58.236373Z",
     "iopub.status.busy": "2021-08-19T00:05:58.236211Z",
     "iopub.status.idle": "2021-08-19T00:05:58.240821Z",
     "shell.execute_reply": "2021-08-19T00:05:58.240304Z",
     "shell.execute_reply.started": "2021-08-19T00:05:58.236354Z"
    }
   },
   "outputs": [],
   "source": [
    "DATASETS_PATH = \"~/Documents/datasets/kickstarter/\""
   ]
  },
  {
   "cell_type": "code",
   "execution_count": 5,
   "metadata": {
    "ExecuteTime": {
     "end_time": "2021-08-16T18:04:45.389119Z",
     "start_time": "2021-08-16T18:04:41.009440Z"
    },
    "execution": {
     "iopub.execute_input": "2021-08-19T00:05:58.241715Z",
     "iopub.status.busy": "2021-08-19T00:05:58.241534Z",
     "iopub.status.idle": "2021-08-19T00:06:02.253612Z",
     "shell.execute_reply": "2021-08-19T00:06:02.252568Z",
     "shell.execute_reply.started": "2021-08-19T00:05:58.241695Z"
    }
   },
   "outputs": [],
   "source": [
    "data = pd.read_csv(DATASETS_PATH + \"ks-projects-201801.csv\", engine=\"python\")"
   ]
  },
  {
   "cell_type": "code",
   "execution_count": 6,
   "metadata": {
    "ExecuteTime": {
     "end_time": "2021-08-16T18:04:45.393456Z",
     "start_time": "2021-08-16T18:04:45.391181Z"
    },
    "execution": {
     "iopub.execute_input": "2021-08-19T00:06:02.254933Z",
     "iopub.status.busy": "2021-08-19T00:06:02.254741Z",
     "iopub.status.idle": "2021-08-19T00:06:02.258083Z",
     "shell.execute_reply": "2021-08-19T00:06:02.257425Z",
     "shell.execute_reply.started": "2021-08-19T00:06:02.254910Z"
    }
   },
   "outputs": [],
   "source": [
    "#data = data.sample(frac=0.1)"
   ]
  },
  {
   "cell_type": "code",
   "execution_count": 7,
   "metadata": {
    "ExecuteTime": {
     "end_time": "2021-08-16T18:04:45.419324Z",
     "start_time": "2021-08-16T18:04:45.395850Z"
    },
    "execution": {
     "iopub.execute_input": "2021-08-19T00:06:02.259014Z",
     "iopub.status.busy": "2021-08-19T00:06:02.258857Z",
     "iopub.status.idle": "2021-08-19T00:06:02.286864Z",
     "shell.execute_reply": "2021-08-19T00:06:02.286310Z",
     "shell.execute_reply.started": "2021-08-19T00:06:02.258994Z"
    }
   },
   "outputs": [
    {
     "data": {
      "text/html": [
       "<div>\n",
       "<style scoped>\n",
       "    .dataframe tbody tr th:only-of-type {\n",
       "        vertical-align: middle;\n",
       "    }\n",
       "\n",
       "    .dataframe tbody tr th {\n",
       "        vertical-align: top;\n",
       "    }\n",
       "\n",
       "    .dataframe thead th {\n",
       "        text-align: right;\n",
       "    }\n",
       "</style>\n",
       "<table border=\"1\" class=\"dataframe\">\n",
       "  <thead>\n",
       "    <tr style=\"text-align: right;\">\n",
       "      <th></th>\n",
       "      <th>ID</th>\n",
       "      <th>name</th>\n",
       "      <th>category</th>\n",
       "      <th>main_category</th>\n",
       "      <th>currency</th>\n",
       "      <th>deadline</th>\n",
       "      <th>goal</th>\n",
       "      <th>launched</th>\n",
       "      <th>pledged</th>\n",
       "      <th>state</th>\n",
       "      <th>backers</th>\n",
       "      <th>country</th>\n",
       "      <th>usd pledged</th>\n",
       "      <th>usd_pledged_real</th>\n",
       "      <th>usd_goal_real</th>\n",
       "    </tr>\n",
       "  </thead>\n",
       "  <tbody>\n",
       "    <tr>\n",
       "      <th>0</th>\n",
       "      <td>1000002330</td>\n",
       "      <td>The Songs of Adelaide &amp; Abullah</td>\n",
       "      <td>Poetry</td>\n",
       "      <td>Publishing</td>\n",
       "      <td>GBP</td>\n",
       "      <td>2015-10-09</td>\n",
       "      <td>1000.0</td>\n",
       "      <td>2015-08-11 12:12:28</td>\n",
       "      <td>0.0</td>\n",
       "      <td>failed</td>\n",
       "      <td>0</td>\n",
       "      <td>GB</td>\n",
       "      <td>0.0</td>\n",
       "      <td>0.0</td>\n",
       "      <td>1533.95</td>\n",
       "    </tr>\n",
       "    <tr>\n",
       "      <th>1</th>\n",
       "      <td>1000003930</td>\n",
       "      <td>Greeting From Earth: ZGAC Arts Capsule For ET</td>\n",
       "      <td>Narrative Film</td>\n",
       "      <td>Film &amp; Video</td>\n",
       "      <td>USD</td>\n",
       "      <td>2017-11-01</td>\n",
       "      <td>30000.0</td>\n",
       "      <td>2017-09-02 04:43:57</td>\n",
       "      <td>2421.0</td>\n",
       "      <td>failed</td>\n",
       "      <td>15</td>\n",
       "      <td>US</td>\n",
       "      <td>100.0</td>\n",
       "      <td>2421.0</td>\n",
       "      <td>30000.00</td>\n",
       "    </tr>\n",
       "    <tr>\n",
       "      <th>2</th>\n",
       "      <td>1000004038</td>\n",
       "      <td>Where is Hank?</td>\n",
       "      <td>Narrative Film</td>\n",
       "      <td>Film &amp; Video</td>\n",
       "      <td>USD</td>\n",
       "      <td>2013-02-26</td>\n",
       "      <td>45000.0</td>\n",
       "      <td>2013-01-12 00:20:50</td>\n",
       "      <td>220.0</td>\n",
       "      <td>failed</td>\n",
       "      <td>3</td>\n",
       "      <td>US</td>\n",
       "      <td>220.0</td>\n",
       "      <td>220.0</td>\n",
       "      <td>45000.00</td>\n",
       "    </tr>\n",
       "    <tr>\n",
       "      <th>3</th>\n",
       "      <td>1000007540</td>\n",
       "      <td>ToshiCapital Rekordz Needs Help to Complete Album</td>\n",
       "      <td>Music</td>\n",
       "      <td>Music</td>\n",
       "      <td>USD</td>\n",
       "      <td>2012-04-16</td>\n",
       "      <td>5000.0</td>\n",
       "      <td>2012-03-17 03:24:11</td>\n",
       "      <td>1.0</td>\n",
       "      <td>failed</td>\n",
       "      <td>1</td>\n",
       "      <td>US</td>\n",
       "      <td>1.0</td>\n",
       "      <td>1.0</td>\n",
       "      <td>5000.00</td>\n",
       "    </tr>\n",
       "    <tr>\n",
       "      <th>4</th>\n",
       "      <td>1000011046</td>\n",
       "      <td>Community Film Project: The Art of Neighborhoo...</td>\n",
       "      <td>Film &amp; Video</td>\n",
       "      <td>Film &amp; Video</td>\n",
       "      <td>USD</td>\n",
       "      <td>2015-08-29</td>\n",
       "      <td>19500.0</td>\n",
       "      <td>2015-07-04 08:35:03</td>\n",
       "      <td>1283.0</td>\n",
       "      <td>canceled</td>\n",
       "      <td>14</td>\n",
       "      <td>US</td>\n",
       "      <td>1283.0</td>\n",
       "      <td>1283.0</td>\n",
       "      <td>19500.00</td>\n",
       "    </tr>\n",
       "  </tbody>\n",
       "</table>\n",
       "</div>"
      ],
      "text/plain": [
       "           ID                                               name  \\\n",
       "0  1000002330                    The Songs of Adelaide & Abullah   \n",
       "1  1000003930      Greeting From Earth: ZGAC Arts Capsule For ET   \n",
       "2  1000004038                                     Where is Hank?   \n",
       "3  1000007540  ToshiCapital Rekordz Needs Help to Complete Album   \n",
       "4  1000011046  Community Film Project: The Art of Neighborhoo...   \n",
       "\n",
       "         category main_category currency    deadline     goal  \\\n",
       "0          Poetry    Publishing      GBP  2015-10-09   1000.0   \n",
       "1  Narrative Film  Film & Video      USD  2017-11-01  30000.0   \n",
       "2  Narrative Film  Film & Video      USD  2013-02-26  45000.0   \n",
       "3           Music         Music      USD  2012-04-16   5000.0   \n",
       "4    Film & Video  Film & Video      USD  2015-08-29  19500.0   \n",
       "\n",
       "              launched  pledged     state  backers country  usd pledged  \\\n",
       "0  2015-08-11 12:12:28      0.0    failed        0      GB          0.0   \n",
       "1  2017-09-02 04:43:57   2421.0    failed       15      US        100.0   \n",
       "2  2013-01-12 00:20:50    220.0    failed        3      US        220.0   \n",
       "3  2012-03-17 03:24:11      1.0    failed        1      US          1.0   \n",
       "4  2015-07-04 08:35:03   1283.0  canceled       14      US       1283.0   \n",
       "\n",
       "   usd_pledged_real  usd_goal_real  \n",
       "0               0.0        1533.95  \n",
       "1            2421.0       30000.00  \n",
       "2             220.0       45000.00  \n",
       "3               1.0        5000.00  \n",
       "4            1283.0       19500.00  "
      ]
     },
     "execution_count": 7,
     "metadata": {},
     "output_type": "execute_result"
    }
   ],
   "source": [
    "data.head()"
   ]
  },
  {
   "cell_type": "code",
   "execution_count": 8,
   "metadata": {
    "ExecuteTime": {
     "end_time": "2021-08-16T18:04:45.427211Z",
     "start_time": "2021-08-16T18:04:45.423579Z"
    },
    "execution": {
     "iopub.execute_input": "2021-08-19T00:06:02.287925Z",
     "iopub.status.busy": "2021-08-19T00:06:02.287753Z",
     "iopub.status.idle": "2021-08-19T00:06:02.291568Z",
     "shell.execute_reply": "2021-08-19T00:06:02.291024Z",
     "shell.execute_reply.started": "2021-08-19T00:06:02.287904Z"
    }
   },
   "outputs": [
    {
     "data": {
      "text/plain": [
       "(378661, 15)"
      ]
     },
     "execution_count": 8,
     "metadata": {},
     "output_type": "execute_result"
    }
   ],
   "source": [
    "data.shape"
   ]
  },
  {
   "cell_type": "code",
   "execution_count": 9,
   "metadata": {
    "ExecuteTime": {
     "end_time": "2021-08-16T18:04:45.793406Z",
     "start_time": "2021-08-16T18:04:45.430169Z"
    },
    "execution": {
     "iopub.execute_input": "2021-08-19T00:06:02.293528Z",
     "iopub.status.busy": "2021-08-19T00:06:02.293369Z",
     "iopub.status.idle": "2021-08-19T00:06:02.624401Z",
     "shell.execute_reply": "2021-08-19T00:06:02.623690Z",
     "shell.execute_reply.started": "2021-08-19T00:06:02.293509Z"
    }
   },
   "outputs": [
    {
     "data": {
      "text/plain": [
       "ID                  378661\n",
       "name                375764\n",
       "category               159\n",
       "main_category           15\n",
       "currency                14\n",
       "deadline              3164\n",
       "goal                  8353\n",
       "launched            378089\n",
       "pledged              62130\n",
       "state                    6\n",
       "backers               3963\n",
       "country                 23\n",
       "usd pledged          95455\n",
       "usd_pledged_real    106065\n",
       "usd_goal_real        50339\n",
       "dtype: int64"
      ]
     },
     "execution_count": 9,
     "metadata": {},
     "output_type": "execute_result"
    }
   ],
   "source": [
    "data.nunique()"
   ]
  },
  {
   "cell_type": "code",
   "execution_count": 10,
   "metadata": {
    "ExecuteTime": {
     "end_time": "2021-08-16T18:04:45.800213Z",
     "start_time": "2021-08-16T18:04:45.795310Z"
    },
    "execution": {
     "iopub.execute_input": "2021-08-19T00:06:02.626074Z",
     "iopub.status.busy": "2021-08-19T00:06:02.625885Z",
     "iopub.status.idle": "2021-08-19T00:06:02.631442Z",
     "shell.execute_reply": "2021-08-19T00:06:02.630487Z",
     "shell.execute_reply.started": "2021-08-19T00:06:02.626052Z"
    }
   },
   "outputs": [
    {
     "data": {
      "text/plain": [
       "ID                    int64\n",
       "name                 object\n",
       "category             object\n",
       "main_category        object\n",
       "currency             object\n",
       "deadline             object\n",
       "goal                float64\n",
       "launched             object\n",
       "pledged             float64\n",
       "state                object\n",
       "backers               int64\n",
       "country              object\n",
       "usd pledged         float64\n",
       "usd_pledged_real    float64\n",
       "usd_goal_real       float64\n",
       "dtype: object"
      ]
     },
     "execution_count": 10,
     "metadata": {},
     "output_type": "execute_result"
    }
   ],
   "source": [
    "data.dtypes"
   ]
  },
  {
   "cell_type": "code",
   "execution_count": 11,
   "metadata": {
    "ExecuteTime": {
     "end_time": "2021-08-16T18:04:45.868130Z",
     "start_time": "2021-08-16T18:04:45.802097Z"
    },
    "execution": {
     "iopub.execute_input": "2021-08-19T00:06:02.632458Z",
     "iopub.status.busy": "2021-08-19T00:06:02.632295Z",
     "iopub.status.idle": "2021-08-19T00:06:02.693420Z",
     "shell.execute_reply": "2021-08-19T00:06:02.692591Z",
     "shell.execute_reply.started": "2021-08-19T00:06:02.632438Z"
    }
   },
   "outputs": [
    {
     "name": "stdout",
     "output_type": "stream",
     "text": [
      "1970-01-01 01:00:00\n",
      "2018-01-02 15:02:31\n"
     ]
    }
   ],
   "source": [
    "print(data[\"launched\"].min())\n",
    "print(data[\"launched\"].max())"
   ]
  },
  {
   "cell_type": "code",
   "execution_count": 12,
   "metadata": {
    "ExecuteTime": {
     "end_time": "2021-08-16T18:04:45.928417Z",
     "start_time": "2021-08-16T18:04:45.870140Z"
    },
    "execution": {
     "iopub.execute_input": "2021-08-19T00:06:02.694518Z",
     "iopub.status.busy": "2021-08-19T00:06:02.694343Z",
     "iopub.status.idle": "2021-08-19T00:06:02.741290Z",
     "shell.execute_reply": "2021-08-19T00:06:02.740546Z",
     "shell.execute_reply.started": "2021-08-19T00:06:02.694497Z"
    }
   },
   "outputs": [
    {
     "name": "stdout",
     "output_type": "stream",
     "text": [
      "2009-05-03\n",
      "2018-03-03\n"
     ]
    }
   ],
   "source": [
    "print(data[\"deadline\"].min())\n",
    "print(data[\"deadline\"].max())"
   ]
  },
  {
   "cell_type": "code",
   "execution_count": 13,
   "metadata": {
    "ExecuteTime": {
     "end_time": "2021-08-16T18:04:46.079923Z",
     "start_time": "2021-08-16T18:04:45.930390Z"
    },
    "execution": {
     "iopub.execute_input": "2021-08-19T00:06:02.742418Z",
     "iopub.status.busy": "2021-08-19T00:06:02.742249Z",
     "iopub.status.idle": "2021-08-19T00:06:02.892765Z",
     "shell.execute_reply": "2021-08-19T00:06:02.891635Z",
     "shell.execute_reply.started": "2021-08-19T00:06:02.742397Z"
    }
   },
   "outputs": [],
   "source": [
    "data[\"launched\"] = pd.to_datetime(data[\"launched\"])\n",
    "data[\"deadline\"] = pd.to_datetime(data[\"deadline\"])"
   ]
  },
  {
   "cell_type": "code",
   "execution_count": 14,
   "metadata": {
    "ExecuteTime": {
     "end_time": "2021-08-16T18:04:47.743197Z",
     "start_time": "2021-08-16T18:04:46.082036Z"
    },
    "execution": {
     "iopub.execute_input": "2021-08-19T00:06:02.894034Z",
     "iopub.status.busy": "2021-08-19T00:06:02.893851Z",
     "iopub.status.idle": "2021-08-19T00:06:05.179244Z",
     "shell.execute_reply": "2021-08-19T00:06:05.177819Z",
     "shell.execute_reply.started": "2021-08-19T00:06:02.894012Z"
    }
   },
   "outputs": [],
   "source": [
    "data[\"Year\"] = data[\"launched\"].apply(lambda x: int(x.year))"
   ]
  },
  {
   "cell_type": "code",
   "execution_count": 15,
   "metadata": {
    "ExecuteTime": {
     "end_time": "2021-08-16T18:04:49.526572Z",
     "start_time": "2021-08-16T18:04:47.745046Z"
    },
    "execution": {
     "iopub.execute_input": "2021-08-19T00:06:05.181467Z",
     "iopub.status.busy": "2021-08-19T00:06:05.181295Z",
     "iopub.status.idle": "2021-08-19T00:06:07.563235Z",
     "shell.execute_reply": "2021-08-19T00:06:07.562119Z",
     "shell.execute_reply.started": "2021-08-19T00:06:05.181445Z"
    }
   },
   "outputs": [],
   "source": [
    "data[\"Year-Month\"] = data[\"launched\"].apply(lambda x: str(int(x.year)) + str(int(x.month)))"
   ]
  },
  {
   "cell_type": "code",
   "execution_count": 16,
   "metadata": {
    "ExecuteTime": {
     "end_time": "2021-08-16T18:04:51.370822Z",
     "start_time": "2021-08-16T18:04:49.528233Z"
    },
    "execution": {
     "iopub.execute_input": "2021-08-19T00:06:07.564546Z",
     "iopub.status.busy": "2021-08-19T00:06:07.564371Z",
     "iopub.status.idle": "2021-08-19T00:06:10.004699Z",
     "shell.execute_reply": "2021-08-19T00:06:10.003593Z",
     "shell.execute_reply.started": "2021-08-19T00:06:07.564525Z"
    }
   },
   "outputs": [],
   "source": [
    "data[\"Year-Month\"] = data[\"launched\"].apply(lambda x: str(int(x.year)) + str(int(x.month)))"
   ]
  },
  {
   "cell_type": "code",
   "execution_count": 17,
   "metadata": {
    "ExecuteTime": {
     "end_time": "2021-08-16T18:04:51.392027Z",
     "start_time": "2021-08-16T18:04:51.372625Z"
    },
    "execution": {
     "iopub.execute_input": "2021-08-19T00:06:10.006171Z",
     "iopub.status.busy": "2021-08-19T00:06:10.005984Z",
     "iopub.status.idle": "2021-08-19T00:06:10.024972Z",
     "shell.execute_reply": "2021-08-19T00:06:10.024061Z",
     "shell.execute_reply.started": "2021-08-19T00:06:10.006148Z"
    }
   },
   "outputs": [],
   "source": [
    "data[\"difference_launched_deadline\"] = (data[\"deadline\"] - data[\"launched\"]).dt.days"
   ]
  },
  {
   "cell_type": "markdown",
   "metadata": {},
   "source": [
    "## Create a target"
   ]
  },
  {
   "cell_type": "code",
   "execution_count": 18,
   "metadata": {
    "ExecuteTime": {
     "end_time": "2021-08-16T18:04:51.418013Z",
     "start_time": "2021-08-16T18:04:51.394021Z"
    },
    "execution": {
     "iopub.execute_input": "2021-08-19T00:06:10.026225Z",
     "iopub.status.busy": "2021-08-19T00:06:10.025928Z",
     "iopub.status.idle": "2021-08-19T00:06:10.045909Z",
     "shell.execute_reply": "2021-08-19T00:06:10.045370Z",
     "shell.execute_reply.started": "2021-08-19T00:06:10.026199Z"
    }
   },
   "outputs": [
    {
     "data": {
      "text/plain": [
       "array(['failed', 'canceled', 'successful', 'live', 'undefined',\n",
       "       'suspended'], dtype=object)"
      ]
     },
     "execution_count": 18,
     "metadata": {},
     "output_type": "execute_result"
    }
   ],
   "source": [
    "data[\"state\"].unique()"
   ]
  },
  {
   "cell_type": "code",
   "execution_count": 19,
   "metadata": {
    "ExecuteTime": {
     "end_time": "2021-08-16T18:04:51.443536Z",
     "start_time": "2021-08-16T18:04:51.419805Z"
    },
    "execution": {
     "iopub.execute_input": "2021-08-19T00:06:10.046909Z",
     "iopub.status.busy": "2021-08-19T00:06:10.046731Z",
     "iopub.status.idle": "2021-08-19T00:06:10.068664Z",
     "shell.execute_reply": "2021-08-19T00:06:10.068136Z",
     "shell.execute_reply.started": "2021-08-19T00:06:10.046889Z"
    }
   },
   "outputs": [],
   "source": [
    "data[\"target\"] = (data[\"state\"] == \"successful\").astype(int)"
   ]
  },
  {
   "cell_type": "code",
   "execution_count": 20,
   "metadata": {
    "ExecuteTime": {
     "end_time": "2021-08-16T18:04:51.450215Z",
     "start_time": "2021-08-16T18:04:51.445413Z"
    },
    "execution": {
     "iopub.execute_input": "2021-08-19T00:06:10.069570Z",
     "iopub.status.busy": "2021-08-19T00:06:10.069414Z",
     "iopub.status.idle": "2021-08-19T00:06:10.076745Z",
     "shell.execute_reply": "2021-08-19T00:06:10.076205Z",
     "shell.execute_reply.started": "2021-08-19T00:06:10.069551Z"
    }
   },
   "outputs": [
    {
     "data": {
      "text/plain": [
       "0.3537623362321443"
      ]
     },
     "execution_count": 20,
     "metadata": {},
     "output_type": "execute_result"
    }
   ],
   "source": [
    "data[\"target\"].mean()"
   ]
  },
  {
   "cell_type": "markdown",
   "metadata": {},
   "source": [
    "## Modeling"
   ]
  },
  {
   "cell_type": "markdown",
   "metadata": {},
   "source": [
    "### Data"
   ]
  },
  {
   "cell_type": "code",
   "execution_count": 21,
   "metadata": {
    "ExecuteTime": {
     "end_time": "2021-08-16T18:04:51.454638Z",
     "start_time": "2021-08-16T18:04:51.452107Z"
    },
    "execution": {
     "iopub.execute_input": "2021-08-19T00:06:10.077633Z",
     "iopub.status.busy": "2021-08-19T00:06:10.077481Z",
     "iopub.status.idle": "2021-08-19T00:06:10.082686Z",
     "shell.execute_reply": "2021-08-19T00:06:10.082129Z",
     "shell.execute_reply.started": "2021-08-19T00:06:10.077615Z"
    }
   },
   "outputs": [],
   "source": [
    "TIME_COLUMN = \"Year\"\n",
    "TARGET = \"target\""
   ]
  },
  {
   "cell_type": "code",
   "execution_count": 22,
   "metadata": {
    "ExecuteTime": {
     "end_time": "2021-08-16T18:04:51.458979Z",
     "start_time": "2021-08-16T18:04:51.456675Z"
    },
    "execution": {
     "iopub.execute_input": "2021-08-19T00:06:10.083657Z",
     "iopub.status.busy": "2021-08-19T00:06:10.083481Z",
     "iopub.status.idle": "2021-08-19T00:06:10.089718Z",
     "shell.execute_reply": "2021-08-19T00:06:10.089194Z",
     "shell.execute_reply.started": "2021-08-19T00:06:10.083637Z"
    }
   },
   "outputs": [],
   "source": [
    "columns_to_label_encode = [\"country\", \n",
    "                           \"currency\",\n",
    "                           \"category\",\n",
    "                           \"main_category\"]"
   ]
  },
  {
   "cell_type": "code",
   "execution_count": 23,
   "metadata": {
    "ExecuteTime": {
     "end_time": "2021-08-16T18:04:51.981622Z",
     "start_time": "2021-08-16T18:04:51.466763Z"
    },
    "execution": {
     "iopub.execute_input": "2021-08-19T00:06:10.090630Z",
     "iopub.status.busy": "2021-08-19T00:06:10.090474Z",
     "iopub.status.idle": "2021-08-19T00:06:10.543067Z",
     "shell.execute_reply": "2021-08-19T00:06:10.541736Z",
     "shell.execute_reply.started": "2021-08-19T00:06:10.090611Z"
    }
   },
   "outputs": [
    {
     "name": "stdout",
     "output_type": "stream",
     "text": [
      "country\n",
      "currency\n",
      "category\n",
      "main_category\n"
     ]
    }
   ],
   "source": [
    "encoder_mappings = {}\n",
    "le = LabelEncoder()\n",
    "for column in columns_to_label_encode:\n",
    "    print(column)\n",
    "    data[column].fillna(\"None\", inplace=True)\n",
    "    data[column] = le.fit_transform(data[[column]])\n",
    "    encoder_mappings[column] = {i: le.__dict__[\"classes_\"][i] for i in range(len(le.__dict__[\"classes_\"]))}"
   ]
  },
  {
   "cell_type": "code",
   "execution_count": 24,
   "metadata": {
    "ExecuteTime": {
     "end_time": "2021-08-16T18:04:51.993880Z",
     "start_time": "2021-08-16T18:04:51.986947Z"
    },
    "execution": {
     "iopub.execute_input": "2021-08-19T00:06:10.544358Z",
     "iopub.status.busy": "2021-08-19T00:06:10.544178Z",
     "iopub.status.idle": "2021-08-19T00:06:10.552549Z",
     "shell.execute_reply": "2021-08-19T00:06:10.551535Z",
     "shell.execute_reply.started": "2021-08-19T00:06:10.544335Z"
    }
   },
   "outputs": [],
   "source": [
    "data[\"goal\"] = data[\"goal\"].astype(int)"
   ]
  },
  {
   "cell_type": "code",
   "execution_count": 25,
   "metadata": {
    "ExecuteTime": {
     "end_time": "2021-08-16T18:04:51.998387Z",
     "start_time": "2021-08-16T18:04:51.995672Z"
    },
    "execution": {
     "iopub.execute_input": "2021-08-19T00:06:10.554039Z",
     "iopub.status.busy": "2021-08-19T00:06:10.553873Z",
     "iopub.status.idle": "2021-08-19T00:06:10.557117Z",
     "shell.execute_reply": "2021-08-19T00:06:10.556582Z",
     "shell.execute_reply.started": "2021-08-19T00:06:10.554018Z"
    }
   },
   "outputs": [],
   "source": [
    "features = [\"goal\"] + columns_to_label_encode"
   ]
  },
  {
   "cell_type": "code",
   "execution_count": 26,
   "metadata": {
    "ExecuteTime": {
     "end_time": "2021-08-16T18:04:52.009411Z",
     "start_time": "2021-08-16T18:04:52.001372Z"
    },
    "execution": {
     "iopub.execute_input": "2021-08-19T00:06:10.558051Z",
     "iopub.status.busy": "2021-08-19T00:06:10.557891Z",
     "iopub.status.idle": "2021-08-19T00:06:10.568326Z",
     "shell.execute_reply": "2021-08-19T00:06:10.567801Z",
     "shell.execute_reply.started": "2021-08-19T00:06:10.558033Z"
    }
   },
   "outputs": [
    {
     "data": {
      "text/plain": [
       "2015    77300\n",
       "2014    67745\n",
       "2016    57184\n",
       "2017    52200\n",
       "2013    44851\n",
       "2012    41165\n",
       "2011    26237\n",
       "2010    10519\n",
       "2009     1329\n",
       "2018      124\n",
       "1970        7\n",
       "Name: Year, dtype: int64"
      ]
     },
     "execution_count": 26,
     "metadata": {},
     "output_type": "execute_result"
    }
   ],
   "source": [
    "data[\"Year\"].value_counts()"
   ]
  },
  {
   "cell_type": "code",
   "execution_count": 27,
   "metadata": {
    "ExecuteTime": {
     "end_time": "2021-08-16T18:04:52.111154Z",
     "start_time": "2021-08-16T18:04:52.011468Z"
    },
    "execution": {
     "iopub.execute_input": "2021-08-19T00:06:10.572030Z",
     "iopub.status.busy": "2021-08-19T00:06:10.571867Z",
     "iopub.status.idle": "2021-08-19T00:06:10.643274Z",
     "shell.execute_reply": "2021-08-19T00:06:10.642133Z",
     "shell.execute_reply.started": "2021-08-19T00:06:10.572011Z"
    }
   },
   "outputs": [],
   "source": [
    "data = data[~data[\"Year\"].isin([1970, 2018, 2009])]"
   ]
  },
  {
   "cell_type": "code",
   "execution_count": 28,
   "metadata": {
    "ExecuteTime": {
     "end_time": "2021-08-16T18:04:52.121373Z",
     "start_time": "2021-08-16T18:04:52.112887Z"
    },
    "execution": {
     "iopub.execute_input": "2021-08-19T00:06:10.646124Z",
     "iopub.status.busy": "2021-08-19T00:06:10.645935Z",
     "iopub.status.idle": "2021-08-19T00:06:10.653356Z",
     "shell.execute_reply": "2021-08-19T00:06:10.652832Z",
     "shell.execute_reply.started": "2021-08-19T00:06:10.646101Z"
    }
   },
   "outputs": [
    {
     "data": {
      "text/plain": [
       "2015    77300\n",
       "2014    67745\n",
       "2016    57184\n",
       "2017    52200\n",
       "2013    44851\n",
       "2012    41165\n",
       "2011    26237\n",
       "2010    10519\n",
       "Name: Year, dtype: int64"
      ]
     },
     "execution_count": 28,
     "metadata": {},
     "output_type": "execute_result"
    }
   ],
   "source": [
    "data[\"Year\"].value_counts()"
   ]
  },
  {
   "cell_type": "code",
   "execution_count": 29,
   "metadata": {
    "ExecuteTime": {
     "end_time": "2021-08-16T18:04:52.125907Z",
     "start_time": "2021-08-16T18:04:52.123234Z"
    },
    "execution": {
     "iopub.execute_input": "2021-08-19T00:06:10.654483Z",
     "iopub.status.busy": "2021-08-19T00:06:10.654199Z",
     "iopub.status.idle": "2021-08-19T00:06:10.657242Z",
     "shell.execute_reply": "2021-08-19T00:06:10.656698Z",
     "shell.execute_reply.started": "2021-08-19T00:06:10.654460Z"
    }
   },
   "outputs": [],
   "source": [
    "training_start_year = 2010\n",
    "training_end_year = 2013\n",
    "holdout_end_year = 2017"
   ]
  },
  {
   "cell_type": "code",
   "execution_count": 30,
   "metadata": {
    "ExecuteTime": {
     "end_time": "2021-08-16T18:04:52.214064Z",
     "start_time": "2021-08-16T18:04:52.127993Z"
    },
    "execution": {
     "iopub.execute_input": "2021-08-19T00:06:10.658138Z",
     "iopub.status.busy": "2021-08-19T00:06:10.657986Z",
     "iopub.status.idle": "2021-08-19T00:06:10.763057Z",
     "shell.execute_reply": "2021-08-19T00:06:10.762476Z",
     "shell.execute_reply.started": "2021-08-19T00:06:10.658120Z"
    }
   },
   "outputs": [],
   "source": [
    "in_time = data[data[\"Year\"] <= training_end_year]\n",
    "in_time = in_time[in_time[\"Year\"] >= training_start_year]\n",
    "out_of_time = data[data[\"Year\"] > training_end_year]"
   ]
  },
  {
   "cell_type": "code",
   "execution_count": 31,
   "metadata": {
    "ExecuteTime": {
     "end_time": "2021-08-16T18:04:52.252172Z",
     "start_time": "2021-08-16T18:04:52.216217Z"
    },
    "execution": {
     "iopub.execute_input": "2021-08-19T00:06:10.764234Z",
     "iopub.status.busy": "2021-08-19T00:06:10.764052Z",
     "iopub.status.idle": "2021-08-19T00:06:10.811151Z",
     "shell.execute_reply": "2021-08-19T00:06:10.810632Z",
     "shell.execute_reply.started": "2021-08-19T00:06:10.764212Z"
    }
   },
   "outputs": [],
   "source": [
    "train, test = train_test_split(in_time, \n",
    "                               test_size=0.2,\n",
    "                               random_state=42)\n",
    "\n"
   ]
  },
  {
   "cell_type": "code",
   "execution_count": 32,
   "metadata": {
    "ExecuteTime": {
     "end_time": "2021-08-16T18:04:52.257489Z",
     "start_time": "2021-08-16T18:04:52.253903Z"
    },
    "execution": {
     "iopub.execute_input": "2021-08-19T00:06:10.812184Z",
     "iopub.status.busy": "2021-08-19T00:06:10.812016Z",
     "iopub.status.idle": "2021-08-19T00:06:10.815512Z",
     "shell.execute_reply": "2021-08-19T00:06:10.815045Z",
     "shell.execute_reply.started": "2021-08-19T00:06:10.812163Z"
    }
   },
   "outputs": [
    {
     "data": {
      "text/plain": [
       "(24555, 19)"
      ]
     },
     "execution_count": 32,
     "metadata": {},
     "output_type": "execute_result"
    }
   ],
   "source": [
    "test.shape"
   ]
  },
  {
   "cell_type": "code",
   "execution_count": 33,
   "metadata": {
    "ExecuteTime": {
     "end_time": "2021-08-16T18:04:52.268592Z",
     "start_time": "2021-08-16T18:04:52.259594Z"
    },
    "execution": {
     "iopub.execute_input": "2021-08-19T00:06:10.816405Z",
     "iopub.status.busy": "2021-08-19T00:06:10.816188Z",
     "iopub.status.idle": "2021-08-19T00:06:10.822313Z",
     "shell.execute_reply": "2021-08-19T00:06:10.821899Z",
     "shell.execute_reply.started": "2021-08-19T00:06:10.816384Z"
    }
   },
   "outputs": [
    {
     "data": {
      "text/plain": [
       "(98217, 19)"
      ]
     },
     "execution_count": 33,
     "metadata": {},
     "output_type": "execute_result"
    }
   ],
   "source": [
    "train.shape"
   ]
  },
  {
   "cell_type": "code",
   "execution_count": 34,
   "metadata": {
    "ExecuteTime": {
     "end_time": "2021-08-16T18:04:52.274591Z",
     "start_time": "2021-08-16T18:04:52.270863Z"
    },
    "execution": {
     "iopub.execute_input": "2021-08-19T00:06:10.823138Z",
     "iopub.status.busy": "2021-08-19T00:06:10.822986Z",
     "iopub.status.idle": "2021-08-19T00:06:10.827614Z",
     "shell.execute_reply": "2021-08-19T00:06:10.827169Z",
     "shell.execute_reply.started": "2021-08-19T00:06:10.823120Z"
    }
   },
   "outputs": [
    {
     "data": {
      "text/plain": [
       "(254429, 19)"
      ]
     },
     "execution_count": 34,
     "metadata": {},
     "output_type": "execute_result"
    }
   ],
   "source": [
    "out_of_time.shape"
   ]
  },
  {
   "cell_type": "code",
   "execution_count": 35,
   "metadata": {
    "ExecuteTime": {
     "end_time": "2021-08-16T18:04:52.415619Z",
     "start_time": "2021-08-16T18:04:52.277186Z"
    },
    "execution": {
     "iopub.execute_input": "2021-08-19T00:06:10.828419Z",
     "iopub.status.busy": "2021-08-19T00:06:10.828268Z",
     "iopub.status.idle": "2021-08-19T00:06:10.971873Z",
     "shell.execute_reply": "2021-08-19T00:06:10.971311Z",
     "shell.execute_reply.started": "2021-08-19T00:06:10.828401Z"
    }
   },
   "outputs": [],
   "source": [
    "median_input = train.median()\n",
    "train.fillna(median_input, inplace=True)\n",
    "test.fillna(median_input, inplace=True)\n",
    "out_of_time.fillna(median_input, inplace=True)"
   ]
  },
  {
   "cell_type": "code",
   "execution_count": 36,
   "metadata": {
    "ExecuteTime": {
     "end_time": "2021-08-16T18:04:52.430136Z",
     "start_time": "2021-08-16T18:04:52.417550Z"
    },
    "execution": {
     "iopub.execute_input": "2021-08-19T00:06:10.972856Z",
     "iopub.status.busy": "2021-08-19T00:06:10.972690Z",
     "iopub.status.idle": "2021-08-19T00:06:10.983788Z",
     "shell.execute_reply": "2021-08-19T00:06:10.983336Z",
     "shell.execute_reply.started": "2021-08-19T00:06:10.972836Z"
    }
   },
   "outputs": [
    {
     "data": {
      "text/html": [
       "<div>\n",
       "<style scoped>\n",
       "    .dataframe tbody tr th:only-of-type {\n",
       "        vertical-align: middle;\n",
       "    }\n",
       "\n",
       "    .dataframe tbody tr th {\n",
       "        vertical-align: top;\n",
       "    }\n",
       "\n",
       "    .dataframe thead th {\n",
       "        text-align: right;\n",
       "    }\n",
       "</style>\n",
       "<table border=\"1\" class=\"dataframe\">\n",
       "  <thead>\n",
       "    <tr style=\"text-align: right;\">\n",
       "      <th></th>\n",
       "      <th>goal</th>\n",
       "      <th>country</th>\n",
       "      <th>currency</th>\n",
       "      <th>category</th>\n",
       "      <th>main_category</th>\n",
       "    </tr>\n",
       "  </thead>\n",
       "  <tbody>\n",
       "    <tr>\n",
       "      <th>262406</th>\n",
       "      <td>1600</td>\n",
       "      <td>22</td>\n",
       "      <td>13</td>\n",
       "      <td>39</td>\n",
       "      <td>6</td>\n",
       "    </tr>\n",
       "    <tr>\n",
       "      <th>84676</th>\n",
       "      <td>35000</td>\n",
       "      <td>22</td>\n",
       "      <td>13</td>\n",
       "      <td>55</td>\n",
       "      <td>6</td>\n",
       "    </tr>\n",
       "    <tr>\n",
       "      <th>290580</th>\n",
       "      <td>12500</td>\n",
       "      <td>22</td>\n",
       "      <td>13</td>\n",
       "      <td>58</td>\n",
       "      <td>7</td>\n",
       "    </tr>\n",
       "    <tr>\n",
       "      <th>366566</th>\n",
       "      <td>20000</td>\n",
       "      <td>22</td>\n",
       "      <td>13</td>\n",
       "      <td>54</td>\n",
       "      <td>12</td>\n",
       "    </tr>\n",
       "    <tr>\n",
       "      <th>361597</th>\n",
       "      <td>2000</td>\n",
       "      <td>22</td>\n",
       "      <td>13</td>\n",
       "      <td>26</td>\n",
       "      <td>1</td>\n",
       "    </tr>\n",
       "    <tr>\n",
       "      <th>...</th>\n",
       "      <td>...</td>\n",
       "      <td>...</td>\n",
       "      <td>...</td>\n",
       "      <td>...</td>\n",
       "      <td>...</td>\n",
       "    </tr>\n",
       "    <tr>\n",
       "      <th>369808</th>\n",
       "      <td>15000</td>\n",
       "      <td>22</td>\n",
       "      <td>13</td>\n",
       "      <td>141</td>\n",
       "      <td>14</td>\n",
       "    </tr>\n",
       "    <tr>\n",
       "      <th>320026</th>\n",
       "      <td>3000</td>\n",
       "      <td>22</td>\n",
       "      <td>13</td>\n",
       "      <td>108</td>\n",
       "      <td>12</td>\n",
       "    </tr>\n",
       "    <tr>\n",
       "      <th>2644</th>\n",
       "      <td>3000</td>\n",
       "      <td>22</td>\n",
       "      <td>13</td>\n",
       "      <td>125</td>\n",
       "      <td>10</td>\n",
       "    </tr>\n",
       "    <tr>\n",
       "      <th>48740</th>\n",
       "      <td>30000</td>\n",
       "      <td>22</td>\n",
       "      <td>13</td>\n",
       "      <td>129</td>\n",
       "      <td>6</td>\n",
       "    </tr>\n",
       "    <tr>\n",
       "      <th>376171</th>\n",
       "      <td>1500</td>\n",
       "      <td>22</td>\n",
       "      <td>13</td>\n",
       "      <td>108</td>\n",
       "      <td>12</td>\n",
       "    </tr>\n",
       "  </tbody>\n",
       "</table>\n",
       "<p>98217 rows × 5 columns</p>\n",
       "</div>"
      ],
      "text/plain": [
       "         goal  country  currency  category  main_category\n",
       "262406   1600       22        13        39              6\n",
       "84676   35000       22        13        55              6\n",
       "290580  12500       22        13        58              7\n",
       "366566  20000       22        13        54             12\n",
       "361597   2000       22        13        26              1\n",
       "...       ...      ...       ...       ...            ...\n",
       "369808  15000       22        13       141             14\n",
       "320026   3000       22        13       108             12\n",
       "2644     3000       22        13       125             10\n",
       "48740   30000       22        13       129              6\n",
       "376171   1500       22        13       108             12\n",
       "\n",
       "[98217 rows x 5 columns]"
      ]
     },
     "execution_count": 36,
     "metadata": {},
     "output_type": "execute_result"
    }
   ],
   "source": [
    "train[features]"
   ]
  },
  {
   "cell_type": "code",
   "execution_count": 37,
   "metadata": {
    "ExecuteTime": {
     "end_time": "2021-08-16T18:04:52.440701Z",
     "start_time": "2021-08-16T18:04:52.432746Z"
    },
    "execution": {
     "iopub.execute_input": "2021-08-19T00:06:10.984675Z",
     "iopub.status.busy": "2021-08-19T00:06:10.984521Z",
     "iopub.status.idle": "2021-08-19T00:06:10.991915Z",
     "shell.execute_reply": "2021-08-19T00:06:10.991493Z",
     "shell.execute_reply.started": "2021-08-19T00:06:10.984656Z"
    }
   },
   "outputs": [
    {
     "data": {
      "text/plain": [
       "goal             int64\n",
       "country          int64\n",
       "currency         int64\n",
       "category         int64\n",
       "main_category    int64\n",
       "dtype: object"
      ]
     },
     "execution_count": 37,
     "metadata": {},
     "output_type": "execute_result"
    }
   ],
   "source": [
    "train[features].dtypes"
   ]
  },
  {
   "cell_type": "code",
   "execution_count": 38,
   "metadata": {
    "ExecuteTime": {
     "end_time": "2021-08-16T18:04:52.447114Z",
     "start_time": "2021-08-16T18:04:52.442632Z"
    },
    "execution": {
     "iopub.execute_input": "2021-08-19T00:06:10.992737Z",
     "iopub.status.busy": "2021-08-19T00:06:10.992588Z",
     "iopub.status.idle": "2021-08-19T00:06:10.997788Z",
     "shell.execute_reply": "2021-08-19T00:06:10.997373Z",
     "shell.execute_reply.started": "2021-08-19T00:06:10.992719Z"
    }
   },
   "outputs": [
    {
     "data": {
      "text/plain": [
       "dtype('int64')"
      ]
     },
     "execution_count": 38,
     "metadata": {},
     "output_type": "execute_result"
    }
   ],
   "source": [
    "train[TARGET].dtypes"
   ]
  },
  {
   "cell_type": "code",
   "execution_count": 39,
   "metadata": {
    "ExecuteTime": {
     "end_time": "2021-08-16T18:04:52.453707Z",
     "start_time": "2021-08-16T18:04:52.449185Z"
    },
    "execution": {
     "iopub.execute_input": "2021-08-19T00:06:10.998592Z",
     "iopub.status.busy": "2021-08-19T00:06:10.998442Z",
     "iopub.status.idle": "2021-08-19T00:06:11.004257Z",
     "shell.execute_reply": "2021-08-19T00:06:11.003731Z",
     "shell.execute_reply.started": "2021-08-19T00:06:10.998573Z"
    }
   },
   "outputs": [
    {
     "data": {
      "text/plain": [
       "Index(['ID', 'name', 'category', 'main_category', 'currency', 'deadline',\n",
       "       'goal', 'launched', 'pledged', 'state', 'backers', 'country',\n",
       "       'usd pledged', 'usd_pledged_real', 'usd_goal_real', 'Year',\n",
       "       'Year-Month', 'difference_launched_deadline', 'target'],\n",
       "      dtype='object')"
      ]
     },
     "execution_count": 39,
     "metadata": {},
     "output_type": "execute_result"
    }
   ],
   "source": [
    "train.columns"
   ]
  },
  {
   "cell_type": "markdown",
   "metadata": {},
   "source": [
    "## Checking the support in the different environments"
   ]
  },
  {
   "cell_type": "code",
   "execution_count": 40,
   "metadata": {
    "ExecuteTime": {
     "end_time": "2021-08-16T18:04:52.497949Z",
     "start_time": "2021-08-16T18:04:52.455678Z"
    },
    "execution": {
     "iopub.execute_input": "2021-08-19T00:06:11.005046Z",
     "iopub.status.busy": "2021-08-19T00:06:11.004899Z",
     "iopub.status.idle": "2021-08-19T00:06:11.036073Z",
     "shell.execute_reply": "2021-08-19T00:06:11.035623Z",
     "shell.execute_reply.started": "2021-08-19T00:06:11.005027Z"
    }
   },
   "outputs": [
    {
     "name": "stdout",
     "output_type": "stream",
     "text": [
      "Year\n",
      "2010    0.166667\n",
      "2011    0.166667\n",
      "2012    0.500000\n",
      "2013    1.000000\n",
      "Name: country, dtype: float64\n",
      "Year\n",
      "2010    0.2\n",
      "2011    0.2\n",
      "2012    0.4\n",
      "2013    1.0\n",
      "Name: currency, dtype: float64\n",
      "Year\n",
      "2010    0.493421\n",
      "2011    0.559211\n",
      "2012    0.710526\n",
      "2013    0.973684\n",
      "Name: category, dtype: float64\n",
      "Year\n",
      "2010    1.0\n",
      "2011    1.0\n",
      "2012    1.0\n",
      "2013    1.0\n",
      "Name: main_category, dtype: float64\n"
     ]
    },
    {
     "data": {
      "text/plain": [
       "0.6481359649122806"
      ]
     },
     "execution_count": 40,
     "metadata": {},
     "output_type": "execute_result"
    }
   ],
   "source": [
    "check_categoricals_match(train, columns_to_label_encode, \"Year\")"
   ]
  },
  {
   "cell_type": "code",
   "execution_count": 41,
   "metadata": {
    "ExecuteTime": {
     "end_time": "2021-08-16T18:04:52.520887Z",
     "start_time": "2021-08-16T18:04:52.500204Z"
    },
    "execution": {
     "iopub.execute_input": "2021-08-19T00:06:11.036934Z",
     "iopub.status.busy": "2021-08-19T00:06:11.036776Z",
     "iopub.status.idle": "2021-08-19T00:06:11.052063Z",
     "shell.execute_reply": "2021-08-19T00:06:11.051635Z",
     "shell.execute_reply.started": "2021-08-19T00:06:11.036915Z"
    }
   },
   "outputs": [
    {
     "name": "stdout",
     "output_type": "stream",
     "text": [
      "Year\n",
      "2010    0.222222\n",
      "2011    0.333333\n",
      "2012    0.666667\n",
      "2013    0.777778\n",
      "Name: goal_quant, dtype: float64\n"
     ]
    },
    {
     "data": {
      "text/plain": [
       "0.5"
      ]
     },
     "execution_count": 41,
     "metadata": {},
     "output_type": "execute_result"
    }
   ],
   "source": [
    "check_numerical_match(train, [\"goal\"], \"Year\")"
   ]
  },
  {
   "cell_type": "markdown",
   "metadata": {},
   "source": [
    "### Benchmark"
   ]
  },
  {
   "cell_type": "code",
   "execution_count": 42,
   "metadata": {
    "ExecuteTime": {
     "end_time": "2021-08-16T18:04:53.486146Z",
     "start_time": "2021-08-16T18:04:52.522941Z"
    },
    "execution": {
     "iopub.execute_input": "2021-08-19T00:06:11.052977Z",
     "iopub.status.busy": "2021-08-19T00:06:11.052734Z",
     "iopub.status.idle": "2021-08-19T00:06:12.927076Z",
     "shell.execute_reply": "2021-08-19T00:06:12.926525Z",
     "shell.execute_reply.started": "2021-08-19T00:06:11.052956Z"
    }
   },
   "outputs": [],
   "source": [
    "from pycaret.classification import *"
   ]
  },
  {
   "cell_type": "code",
   "execution_count": 43,
   "metadata": {
    "ExecuteTime": {
     "end_time": "2021-08-16T18:08:21.883681Z",
     "start_time": "2021-08-16T18:04:53.521257Z"
    },
    "execution": {
     "iopub.execute_input": "2021-08-19T00:06:12.928106Z",
     "iopub.status.busy": "2021-08-19T00:06:12.927936Z",
     "iopub.status.idle": "2021-08-19T00:06:54.131479Z",
     "shell.execute_reply": "2021-08-19T00:06:54.130674Z",
     "shell.execute_reply.started": "2021-08-19T00:06:12.928086Z"
    }
   },
   "outputs": [
    {
     "data": {
      "text/html": [
       "<style  type=\"text/css\" >\n",
       "#T_5c416b78_0081_11ec_ba65_9631b936701brow5_col0,#T_5c416b78_0081_11ec_ba65_9631b936701brow5_col1,#T_5c416b78_0081_11ec_ba65_9631b936701brow5_col2,#T_5c416b78_0081_11ec_ba65_9631b936701brow5_col3,#T_5c416b78_0081_11ec_ba65_9631b936701brow5_col4,#T_5c416b78_0081_11ec_ba65_9631b936701brow5_col5,#T_5c416b78_0081_11ec_ba65_9631b936701brow5_col6{\n",
       "            background:  yellow;\n",
       "        }</style><table id=\"T_5c416b78_0081_11ec_ba65_9631b936701b\" ><thead>    <tr>        <th class=\"blank level0\" ></th>        <th class=\"col_heading level0 col0\" >Accuracy</th>        <th class=\"col_heading level0 col1\" >AUC</th>        <th class=\"col_heading level0 col2\" >Recall</th>        <th class=\"col_heading level0 col3\" >Prec.</th>        <th class=\"col_heading level0 col4\" >F1</th>        <th class=\"col_heading level0 col5\" >Kappa</th>        <th class=\"col_heading level0 col6\" >MCC</th>    </tr></thead><tbody>\n",
       "                <tr>\n",
       "                        <th id=\"T_5c416b78_0081_11ec_ba65_9631b936701blevel0_row0\" class=\"row_heading level0 row0\" >0</th>\n",
       "                        <td id=\"T_5c416b78_0081_11ec_ba65_9631b936701brow0_col0\" class=\"data row0 col0\" >0.6440</td>\n",
       "                        <td id=\"T_5c416b78_0081_11ec_ba65_9631b936701brow0_col1\" class=\"data row0 col1\" >0.6895</td>\n",
       "                        <td id=\"T_5c416b78_0081_11ec_ba65_9631b936701brow0_col2\" class=\"data row0 col2\" >0.5120</td>\n",
       "                        <td id=\"T_5c416b78_0081_11ec_ba65_9631b936701brow0_col3\" class=\"data row0 col3\" >0.6166</td>\n",
       "                        <td id=\"T_5c416b78_0081_11ec_ba65_9631b936701brow0_col4\" class=\"data row0 col4\" >0.5595</td>\n",
       "                        <td id=\"T_5c416b78_0081_11ec_ba65_9631b936701brow0_col5\" class=\"data row0 col5\" >0.2650</td>\n",
       "                        <td id=\"T_5c416b78_0081_11ec_ba65_9631b936701brow0_col6\" class=\"data row0 col6\" >0.2682</td>\n",
       "            </tr>\n",
       "            <tr>\n",
       "                        <th id=\"T_5c416b78_0081_11ec_ba65_9631b936701blevel0_row1\" class=\"row_heading level0 row1\" >1</th>\n",
       "                        <td id=\"T_5c416b78_0081_11ec_ba65_9631b936701brow1_col0\" class=\"data row1 col0\" >0.6539</td>\n",
       "                        <td id=\"T_5c416b78_0081_11ec_ba65_9631b936701brow1_col1\" class=\"data row1 col1\" >0.6984</td>\n",
       "                        <td id=\"T_5c416b78_0081_11ec_ba65_9631b936701brow1_col2\" class=\"data row1 col2\" >0.5310</td>\n",
       "                        <td id=\"T_5c416b78_0081_11ec_ba65_9631b936701brow1_col3\" class=\"data row1 col3\" >0.6278</td>\n",
       "                        <td id=\"T_5c416b78_0081_11ec_ba65_9631b936701brow1_col4\" class=\"data row1 col4\" >0.5754</td>\n",
       "                        <td id=\"T_5c416b78_0081_11ec_ba65_9631b936701brow1_col5\" class=\"data row1 col5\" >0.2867</td>\n",
       "                        <td id=\"T_5c416b78_0081_11ec_ba65_9631b936701brow1_col6\" class=\"data row1 col6\" >0.2896</td>\n",
       "            </tr>\n",
       "            <tr>\n",
       "                        <th id=\"T_5c416b78_0081_11ec_ba65_9631b936701blevel0_row2\" class=\"row_heading level0 row2\" >2</th>\n",
       "                        <td id=\"T_5c416b78_0081_11ec_ba65_9631b936701brow2_col0\" class=\"data row2 col0\" >0.6498</td>\n",
       "                        <td id=\"T_5c416b78_0081_11ec_ba65_9631b936701brow2_col1\" class=\"data row2 col1\" >0.6976</td>\n",
       "                        <td id=\"T_5c416b78_0081_11ec_ba65_9631b936701brow2_col2\" class=\"data row2 col2\" >0.5094</td>\n",
       "                        <td id=\"T_5c416b78_0081_11ec_ba65_9631b936701brow2_col3\" class=\"data row2 col3\" >0.6275</td>\n",
       "                        <td id=\"T_5c416b78_0081_11ec_ba65_9631b936701brow2_col4\" class=\"data row2 col4\" >0.5623</td>\n",
       "                        <td id=\"T_5c416b78_0081_11ec_ba65_9631b936701brow2_col5\" class=\"data row2 col5\" >0.2757</td>\n",
       "                        <td id=\"T_5c416b78_0081_11ec_ba65_9631b936701brow2_col6\" class=\"data row2 col6\" >0.2799</td>\n",
       "            </tr>\n",
       "            <tr>\n",
       "                        <th id=\"T_5c416b78_0081_11ec_ba65_9631b936701blevel0_row3\" class=\"row_heading level0 row3\" >3</th>\n",
       "                        <td id=\"T_5c416b78_0081_11ec_ba65_9631b936701brow3_col0\" class=\"data row3 col0\" >0.6452</td>\n",
       "                        <td id=\"T_5c416b78_0081_11ec_ba65_9631b936701brow3_col1\" class=\"data row3 col1\" >0.6937</td>\n",
       "                        <td id=\"T_5c416b78_0081_11ec_ba65_9631b936701brow3_col2\" class=\"data row3 col2\" >0.5221</td>\n",
       "                        <td id=\"T_5c416b78_0081_11ec_ba65_9631b936701brow3_col3\" class=\"data row3 col3\" >0.6159</td>\n",
       "                        <td id=\"T_5c416b78_0081_11ec_ba65_9631b936701brow3_col4\" class=\"data row3 col4\" >0.5651</td>\n",
       "                        <td id=\"T_5c416b78_0081_11ec_ba65_9631b936701brow3_col5\" class=\"data row3 col5\" >0.2689</td>\n",
       "                        <td id=\"T_5c416b78_0081_11ec_ba65_9631b936701brow3_col6\" class=\"data row3 col6\" >0.2715</td>\n",
       "            </tr>\n",
       "            <tr>\n",
       "                        <th id=\"T_5c416b78_0081_11ec_ba65_9631b936701blevel0_row4\" class=\"row_heading level0 row4\" >4</th>\n",
       "                        <td id=\"T_5c416b78_0081_11ec_ba65_9631b936701brow4_col0\" class=\"data row4 col0\" >0.6488</td>\n",
       "                        <td id=\"T_5c416b78_0081_11ec_ba65_9631b936701brow4_col1\" class=\"data row4 col1\" >0.6884</td>\n",
       "                        <td id=\"T_5c416b78_0081_11ec_ba65_9631b936701brow4_col2\" class=\"data row4 col2\" >0.5221</td>\n",
       "                        <td id=\"T_5c416b78_0081_11ec_ba65_9631b936701brow4_col3\" class=\"data row4 col3\" >0.6219</td>\n",
       "                        <td id=\"T_5c416b78_0081_11ec_ba65_9631b936701brow4_col4\" class=\"data row4 col4\" >0.5676</td>\n",
       "                        <td id=\"T_5c416b78_0081_11ec_ba65_9631b936701brow4_col5\" class=\"data row4 col5\" >0.2757</td>\n",
       "                        <td id=\"T_5c416b78_0081_11ec_ba65_9631b936701brow4_col6\" class=\"data row4 col6\" >0.2787</td>\n",
       "            </tr>\n",
       "            <tr>\n",
       "                        <th id=\"T_5c416b78_0081_11ec_ba65_9631b936701blevel0_row5\" class=\"row_heading level0 row5\" >Mean</th>\n",
       "                        <td id=\"T_5c416b78_0081_11ec_ba65_9631b936701brow5_col0\" class=\"data row5 col0\" >0.6483</td>\n",
       "                        <td id=\"T_5c416b78_0081_11ec_ba65_9631b936701brow5_col1\" class=\"data row5 col1\" >0.6935</td>\n",
       "                        <td id=\"T_5c416b78_0081_11ec_ba65_9631b936701brow5_col2\" class=\"data row5 col2\" >0.5193</td>\n",
       "                        <td id=\"T_5c416b78_0081_11ec_ba65_9631b936701brow5_col3\" class=\"data row5 col3\" >0.6220</td>\n",
       "                        <td id=\"T_5c416b78_0081_11ec_ba65_9631b936701brow5_col4\" class=\"data row5 col4\" >0.5660</td>\n",
       "                        <td id=\"T_5c416b78_0081_11ec_ba65_9631b936701brow5_col5\" class=\"data row5 col5\" >0.2744</td>\n",
       "                        <td id=\"T_5c416b78_0081_11ec_ba65_9631b936701brow5_col6\" class=\"data row5 col6\" >0.2776</td>\n",
       "            </tr>\n",
       "            <tr>\n",
       "                        <th id=\"T_5c416b78_0081_11ec_ba65_9631b936701blevel0_row6\" class=\"row_heading level0 row6\" >SD</th>\n",
       "                        <td id=\"T_5c416b78_0081_11ec_ba65_9631b936701brow6_col0\" class=\"data row6 col0\" >0.0035</td>\n",
       "                        <td id=\"T_5c416b78_0081_11ec_ba65_9631b936701brow6_col1\" class=\"data row6 col1\" >0.0041</td>\n",
       "                        <td id=\"T_5c416b78_0081_11ec_ba65_9631b936701brow6_col2\" class=\"data row6 col2\" >0.0078</td>\n",
       "                        <td id=\"T_5c416b78_0081_11ec_ba65_9631b936701brow6_col3\" class=\"data row6 col3\" >0.0051</td>\n",
       "                        <td id=\"T_5c416b78_0081_11ec_ba65_9631b936701brow6_col4\" class=\"data row6 col4\" >0.0054</td>\n",
       "                        <td id=\"T_5c416b78_0081_11ec_ba65_9631b936701brow6_col5\" class=\"data row6 col5\" >0.0074</td>\n",
       "                        <td id=\"T_5c416b78_0081_11ec_ba65_9631b936701brow6_col6\" class=\"data row6 col6\" >0.0074</td>\n",
       "            </tr>\n",
       "    </tbody></table>"
      ],
      "text/plain": [
       "<pandas.io.formats.style.Styler at 0x7f339790a748>"
      ]
     },
     "metadata": {},
     "output_type": "display_data"
    }
   ],
   "source": [
    "clf1 = setup(train[features + [TARGET]], target=\"target\",\n",
    "             session_id=1,\n",
    "             log_experiment=False,\n",
    "             experiment_name=\"kickstarter\",\n",
    "             silent=True)\n",
    "\n",
    "rf = create_model('rf')\n",
    "tuned_rf = tune_model(rf,\n",
    "                     optimize=\"AUC\",\n",
    "                     fold=5,\n",
    "                     n_iter=50)"
   ]
  },
  {
   "cell_type": "code",
   "execution_count": 44,
   "metadata": {
    "ExecuteTime": {
     "end_time": "2021-08-16T18:08:21.891809Z",
     "start_time": "2021-08-16T18:08:21.886219Z"
    },
    "execution": {
     "iopub.execute_input": "2021-08-19T00:06:54.132735Z",
     "iopub.status.busy": "2021-08-19T00:06:54.132548Z",
     "iopub.status.idle": "2021-08-19T00:06:54.136946Z",
     "shell.execute_reply": "2021-08-19T00:06:54.136425Z",
     "shell.execute_reply.started": "2021-08-19T00:06:54.132709Z"
    }
   },
   "outputs": [
    {
     "data": {
      "text/plain": [
       "RandomForestClassifier(bootstrap=False, ccp_alpha=0.0, class_weight={},\n",
       "                       criterion='entropy', max_depth=8, max_features='log2',\n",
       "                       max_leaf_nodes=None, max_samples=None,\n",
       "                       min_impurity_decrease=0, min_impurity_split=None,\n",
       "                       min_samples_leaf=2, min_samples_split=2,\n",
       "                       min_weight_fraction_leaf=0.0, n_estimators=140,\n",
       "                       n_jobs=-1, oob_score=False, random_state=1, verbose=0,\n",
       "                       warm_start=False)"
      ]
     },
     "execution_count": 44,
     "metadata": {},
     "output_type": "execute_result"
    }
   ],
   "source": [
    "tuned_rf"
   ]
  },
  {
   "cell_type": "code",
   "execution_count": 45,
   "metadata": {
    "ExecuteTime": {
     "end_time": "2021-08-16T18:08:24.536808Z",
     "start_time": "2021-08-16T18:08:21.894010Z"
    },
    "execution": {
     "iopub.execute_input": "2021-08-19T00:06:54.137918Z",
     "iopub.status.busy": "2021-08-19T00:06:54.137759Z",
     "iopub.status.idle": "2021-08-19T00:06:55.247390Z",
     "shell.execute_reply": "2021-08-19T00:06:55.246855Z",
     "shell.execute_reply.started": "2021-08-19T00:06:54.137899Z"
    }
   },
   "outputs": [],
   "source": [
    "benchmark_model = tuned_rf\n",
    "benchmark_model.fit(train[features], train[TARGET])\n",
    "\n",
    "train[\"benchmark_prediction_opt\"] = benchmark_model.predict_proba(train[features])[:, 1]\n",
    "test[\"benchmark_prediction_opt\"] = benchmark_model.predict_proba(test[features])[:, 1]\n",
    "out_of_time[\"benchmark_prediction_opt\"] = benchmark_model.predict_proba(out_of_time[features])[:, 1]"
   ]
  },
  {
   "cell_type": "code",
   "execution_count": 46,
   "metadata": {
    "ExecuteTime": {
     "end_time": "2021-08-16T18:08:24.670720Z",
     "start_time": "2021-08-16T18:08:24.538945Z"
    },
    "execution": {
     "iopub.execute_input": "2021-08-19T00:06:55.248492Z",
     "iopub.status.busy": "2021-08-19T00:06:55.248324Z",
     "iopub.status.idle": "2021-08-19T00:06:55.350335Z",
     "shell.execute_reply": "2021-08-19T00:06:55.349844Z",
     "shell.execute_reply.started": "2021-08-19T00:06:55.248472Z"
    }
   },
   "outputs": [
    {
     "name": "stdout",
     "output_type": "stream",
     "text": [
      "0.7002353698829513\n",
      "0.6883284829068772\n",
      "0.6199022688805165\n"
     ]
    }
   ],
   "source": [
    "print(roc_auc_score(train[TARGET], train[\"benchmark_prediction_opt\"]))\n",
    "print(roc_auc_score(test[TARGET], test[\"benchmark_prediction_opt\"]))\n",
    "print(roc_auc_score(out_of_time[TARGET], out_of_time[\"benchmark_prediction_opt\"]))"
   ]
  },
  {
   "cell_type": "code",
   "execution_count": 47,
   "metadata": {
    "ExecuteTime": {
     "end_time": "2021-08-16T18:08:29.643833Z",
     "start_time": "2021-08-16T18:08:24.672648Z"
    },
    "execution": {
     "iopub.execute_input": "2021-08-19T00:06:55.351312Z",
     "iopub.status.busy": "2021-08-19T00:06:55.351151Z",
     "iopub.status.idle": "2021-08-19T00:07:00.562357Z",
     "shell.execute_reply": "2021-08-19T00:07:00.561846Z",
     "shell.execute_reply.started": "2021-08-19T00:06:55.351292Z"
    }
   },
   "outputs": [],
   "source": [
    "benchmark_model = RandomForestClassifier(n_estimators=140, max_depth=4)\n",
    "benchmark_model.fit(train[features], train[TARGET])\n",
    "\n",
    "train[\"benchmark_prediction\"] = benchmark_model.predict_proba(train[features])[:, 1]\n",
    "test[\"benchmark_prediction\"] = benchmark_model.predict_proba(test[features])[:, 1]\n",
    "out_of_time[\"benchmark_prediction\"] = benchmark_model.predict_proba(out_of_time[features])[:, 1]"
   ]
  },
  {
   "cell_type": "code",
   "execution_count": 48,
   "metadata": {
    "ExecuteTime": {
     "end_time": "2021-08-16T18:08:29.761045Z",
     "start_time": "2021-08-16T18:08:29.645484Z"
    },
    "execution": {
     "iopub.execute_input": "2021-08-19T00:07:00.563345Z",
     "iopub.status.busy": "2021-08-19T00:07:00.563181Z",
     "iopub.status.idle": "2021-08-19T00:07:00.661385Z",
     "shell.execute_reply": "2021-08-19T00:07:00.660915Z",
     "shell.execute_reply.started": "2021-08-19T00:07:00.563326Z"
    }
   },
   "outputs": [
    {
     "name": "stdout",
     "output_type": "stream",
     "text": [
      "0.6784592206615705\n",
      "0.671453055423226\n",
      "0.6404481803461431\n"
     ]
    }
   ],
   "source": [
    "print(roc_auc_score(train[TARGET], train[\"benchmark_prediction\"]))\n",
    "print(roc_auc_score(test[TARGET], test[\"benchmark_prediction\"]))\n",
    "print(roc_auc_score(out_of_time[TARGET], out_of_time[\"benchmark_prediction\"]))"
   ]
  },
  {
   "cell_type": "code",
   "execution_count": 49,
   "metadata": {
    "ExecuteTime": {
     "end_time": "2021-08-16T18:09:39.778410Z",
     "start_time": "2021-08-16T18:09:25.832169Z"
    },
    "execution": {
     "iopub.execute_input": "2021-08-19T00:07:00.662382Z",
     "iopub.status.busy": "2021-08-19T00:07:00.662208Z",
     "iopub.status.idle": "2021-08-19T00:07:18.625526Z",
     "shell.execute_reply": "2021-08-19T00:07:18.624332Z",
     "shell.execute_reply.started": "2021-08-19T00:07:00.662362Z"
    }
   },
   "outputs": [],
   "source": [
    "results = reverse_learning_curve(train, out_of_time, tuned_rf, features, TARGET, TIME_COLUMN, roc_auc_score, n_rounds=5)"
   ]
  },
  {
   "cell_type": "code",
   "execution_count": 50,
   "metadata": {
    "ExecuteTime": {
     "end_time": "2021-08-16T18:09:25.830027Z",
     "start_time": "2021-08-16T18:09:25.809912Z"
    },
    "execution": {
     "iopub.execute_input": "2021-08-19T00:07:18.627185Z",
     "iopub.status.busy": "2021-08-19T00:07:18.627002Z",
     "iopub.status.idle": "2021-08-19T00:07:18.632740Z",
     "shell.execute_reply": "2021-08-19T00:07:18.632209Z",
     "shell.execute_reply.started": "2021-08-19T00:07:18.627163Z"
    }
   },
   "outputs": [
    {
     "data": {
      "text/plain": [
       "goal             0.065502\n",
       "country         -0.001402\n",
       "currency         0.003089\n",
       "category         0.012237\n",
       "main_category    0.010303\n",
       "Name: RF, dtype: float64"
      ]
     },
     "execution_count": 50,
     "metadata": {},
     "output_type": "execute_result"
    }
   ],
   "source": [
    "benchmark_importances = results[\"feature_importance\"][-1].copy(deep=True)\n",
    "benchmark_importances.rename(\"RF\", inplace=True)"
   ]
  },
  {
   "cell_type": "code",
   "execution_count": 51,
   "metadata": {
    "ExecuteTime": {
     "end_time": "2021-08-16T18:09:39.969589Z",
     "start_time": "2021-08-16T18:09:39.785633Z"
    },
    "execution": {
     "iopub.execute_input": "2021-08-19T00:07:18.633739Z",
     "iopub.status.busy": "2021-08-19T00:07:18.633577Z",
     "iopub.status.idle": "2021-08-19T00:07:18.968012Z",
     "shell.execute_reply": "2021-08-19T00:07:18.966829Z",
     "shell.execute_reply.started": "2021-08-19T00:07:18.633720Z"
    }
   },
   "outputs": [
    {
     "data": {
      "image/png": "[encoded data removed]",
      "text/plain": [
       "<Figure size 450x900 with 2 Axes>"
      ]
     },
     "metadata": {},
     "output_type": "display_data"
    }
   ],
   "source": [
    "importance_by_reverse_segment_benchmark = plot_feature_migration_from_learning_curve_results(results, features, \n",
    "                                                                                             save_as=\"../images/kickstarter_benchmark_importance_migration_learning_curve.eps\")\n",
    "\n"
   ]
  },
  {
   "cell_type": "code",
   "execution_count": 52,
   "metadata": {
    "ExecuteTime": {
     "end_time": "2021-08-16T18:09:39.978380Z",
     "start_time": "2021-08-16T18:09:39.971536Z"
    },
    "execution": {
     "iopub.execute_input": "2021-08-19T00:07:18.969195Z",
     "iopub.status.busy": "2021-08-19T00:07:18.969006Z",
     "iopub.status.idle": "2021-08-19T00:07:19.303442Z",
     "shell.execute_reply": "2021-08-19T00:07:19.302782Z",
     "shell.execute_reply.started": "2021-08-19T00:07:18.969174Z"
    }
   },
   "outputs": [
    {
     "data": {
      "image/png": "[encoded data removed]",
      "text/plain": [
       "<Figure size 864x288 with 1 Axes>"
      ]
     },
     "metadata": {},
     "output_type": "display_data"
    }
   ],
   "source": [
    "fig, ax = plt.subplots()\n",
    "\n",
    "blues = plt.get_cmap(\"Blues\")\n",
    "gradient = np.linspace(.2, 0.8, len(results[\"holdout_performance\"]))\n",
    "\n",
    "for i, r in enumerate(results[\"holdout_performance_by_period\"]):\n",
    "    r.plot(label=results[\"last_period_included\"][i], color=blues(gradient[i]))\n",
    "\n",
    "ax.xaxis.set_tick_params(labelsize=12)\n",
    "ax.yaxis.set_tick_params(labelsize=12)\n",
    "plt.legend(bbox_to_anchor=(1.05, 1.0), fontsize=12, title=\"Oldest time period included in train\")\n",
    "plt.ylabel(\"AUC\", fontsize=15)\n",
    "plt.xlabel(\"Year\", fontsize=15)\n",
    "\n",
    "plt.savefig(\"../images/kickstarter_perf_by_period_reverse_learning_curve_benchmark.eps\", format=\"eps\", bbox_inches = \"tight\")\n",
    "plt.show()"
   ]
  },
  {
   "cell_type": "code",
   "execution_count": 53,
   "metadata": {
    "execution": {
     "iopub.execute_input": "2021-08-19T00:07:19.304518Z",
     "iopub.status.busy": "2021-08-19T00:07:19.304357Z",
     "iopub.status.idle": "2021-08-19T00:07:19.312111Z",
     "shell.execute_reply": "2021-08-19T00:07:19.311604Z",
     "shell.execute_reply.started": "2021-08-19T00:07:19.304498Z"
    }
   },
   "outputs": [
    {
     "data": {
      "text/plain": [
       "{'round': [],\n",
       " 'holdout_performance': [0.6248124727374662,\n",
       "  0.6207448522846839,\n",
       "  0.6198821351415693,\n",
       "  0.619902268916518],\n",
       " 'feature_importance': [goal             0.063596\n",
       "  country         -0.002399\n",
       "  currency         0.003788\n",
       "  category         0.017440\n",
       "  main_category    0.009651\n",
       "  Name: 2013, dtype: float64,\n",
       "  goal             0.065124\n",
       "  country         -0.002611\n",
       "  currency         0.001971\n",
       "  category         0.014043\n",
       "  main_category    0.006753\n",
       "  Name: 2012, dtype: float64,\n",
       "  goal             0.066512\n",
       "  country         -0.003277\n",
       "  currency         0.000370\n",
       "  category         0.008260\n",
       "  main_category    0.007060\n",
       "  Name: 2011, dtype: float64,\n",
       "  goal             0.065502\n",
       "  country         -0.001402\n",
       "  currency         0.003089\n",
       "  category         0.012237\n",
       "  main_category    0.010303\n",
       "  Name: 2010, dtype: float64],\n",
       " 'sample_size': [35832, 68785, 89837, 98217],\n",
       " 'last_period_included': [2013, 2012, 2011, 2010],\n",
       " 'holdout_performance_by_period': [Year\n",
       "  2014    0.631569\n",
       "  2015    0.623628\n",
       "  2016    0.628463\n",
       "  2017    0.619989\n",
       "  dtype: float64,\n",
       "  Year\n",
       "  2014    0.624494\n",
       "  2015    0.617078\n",
       "  2016    0.627783\n",
       "  2017    0.619117\n",
       "  dtype: float64,\n",
       "  Year\n",
       "  2014    0.622834\n",
       "  2015    0.615982\n",
       "  2016    0.627222\n",
       "  2017    0.619012\n",
       "  dtype: float64,\n",
       "  Year\n",
       "  2014    0.622146\n",
       "  2015    0.615586\n",
       "  2016    0.628020\n",
       "  2017    0.619599\n",
       "  dtype: float64]}"
      ]
     },
     "execution_count": 53,
     "metadata": {},
     "output_type": "execute_result"
    }
   ],
   "source": [
    "results"
   ]
  },
  {
   "cell_type": "markdown",
   "metadata": {},
   "source": [
    "## Challenger model"
   ]
  },
  {
   "cell_type": "code",
   "execution_count": 54,
   "metadata": {
    "ExecuteTime": {
     "end_time": "2021-08-16T18:09:39.985352Z",
     "start_time": "2021-08-16T18:09:39.982919Z"
    },
    "execution": {
     "iopub.execute_input": "2021-08-19T00:07:19.313058Z",
     "iopub.status.busy": "2021-08-19T00:07:19.312894Z",
     "iopub.status.idle": "2021-08-19T00:07:19.317718Z",
     "shell.execute_reply": "2021-08-19T00:07:19.316994Z",
     "shell.execute_reply.started": "2021-08-19T00:07:19.313038Z"
    }
   },
   "outputs": [],
   "source": [
    "train.reset_index(drop=True, inplace=True)"
   ]
  },
  {
   "cell_type": "code",
   "execution_count": 55,
   "metadata": {
    "ExecuteTime": {
     "end_time": "2021-08-16T18:09:39.997785Z",
     "start_time": "2021-08-16T18:09:39.987261Z"
    },
    "execution": {
     "iopub.execute_input": "2021-08-19T00:07:19.318653Z",
     "iopub.status.busy": "2021-08-19T00:07:19.318504Z",
     "iopub.status.idle": "2021-08-19T00:07:19.331985Z",
     "shell.execute_reply": "2021-08-19T00:07:19.331463Z",
     "shell.execute_reply.started": "2021-08-19T00:07:19.318635Z"
    }
   },
   "outputs": [
    {
     "data": {
      "text/html": [
       "<div>\n",
       "<style scoped>\n",
       "    .dataframe tbody tr th:only-of-type {\n",
       "        vertical-align: middle;\n",
       "    }\n",
       "\n",
       "    .dataframe tbody tr th {\n",
       "        vertical-align: top;\n",
       "    }\n",
       "\n",
       "    .dataframe thead th {\n",
       "        text-align: right;\n",
       "    }\n",
       "</style>\n",
       "<table border=\"1\" class=\"dataframe\">\n",
       "  <thead>\n",
       "    <tr style=\"text-align: right;\">\n",
       "      <th></th>\n",
       "      <th>goal</th>\n",
       "      <th>country</th>\n",
       "      <th>currency</th>\n",
       "      <th>category</th>\n",
       "      <th>main_category</th>\n",
       "      <th>Year</th>\n",
       "    </tr>\n",
       "  </thead>\n",
       "  <tbody>\n",
       "    <tr>\n",
       "      <th>0</th>\n",
       "      <td>1600</td>\n",
       "      <td>22</td>\n",
       "      <td>13</td>\n",
       "      <td>39</td>\n",
       "      <td>6</td>\n",
       "      <td>2011</td>\n",
       "    </tr>\n",
       "    <tr>\n",
       "      <th>1</th>\n",
       "      <td>35000</td>\n",
       "      <td>22</td>\n",
       "      <td>13</td>\n",
       "      <td>55</td>\n",
       "      <td>6</td>\n",
       "      <td>2011</td>\n",
       "    </tr>\n",
       "    <tr>\n",
       "      <th>2</th>\n",
       "      <td>12500</td>\n",
       "      <td>22</td>\n",
       "      <td>13</td>\n",
       "      <td>58</td>\n",
       "      <td>7</td>\n",
       "      <td>2012</td>\n",
       "    </tr>\n",
       "    <tr>\n",
       "      <th>3</th>\n",
       "      <td>20000</td>\n",
       "      <td>22</td>\n",
       "      <td>13</td>\n",
       "      <td>54</td>\n",
       "      <td>12</td>\n",
       "      <td>2013</td>\n",
       "    </tr>\n",
       "    <tr>\n",
       "      <th>4</th>\n",
       "      <td>2000</td>\n",
       "      <td>22</td>\n",
       "      <td>13</td>\n",
       "      <td>26</td>\n",
       "      <td>1</td>\n",
       "      <td>2012</td>\n",
       "    </tr>\n",
       "    <tr>\n",
       "      <th>...</th>\n",
       "      <td>...</td>\n",
       "      <td>...</td>\n",
       "      <td>...</td>\n",
       "      <td>...</td>\n",
       "      <td>...</td>\n",
       "      <td>...</td>\n",
       "    </tr>\n",
       "    <tr>\n",
       "      <th>98212</th>\n",
       "      <td>15000</td>\n",
       "      <td>22</td>\n",
       "      <td>13</td>\n",
       "      <td>141</td>\n",
       "      <td>14</td>\n",
       "      <td>2012</td>\n",
       "    </tr>\n",
       "    <tr>\n",
       "      <th>98213</th>\n",
       "      <td>3000</td>\n",
       "      <td>22</td>\n",
       "      <td>13</td>\n",
       "      <td>108</td>\n",
       "      <td>12</td>\n",
       "      <td>2010</td>\n",
       "    </tr>\n",
       "    <tr>\n",
       "      <th>98214</th>\n",
       "      <td>3000</td>\n",
       "      <td>22</td>\n",
       "      <td>13</td>\n",
       "      <td>125</td>\n",
       "      <td>10</td>\n",
       "      <td>2011</td>\n",
       "    </tr>\n",
       "    <tr>\n",
       "      <th>98215</th>\n",
       "      <td>30000</td>\n",
       "      <td>22</td>\n",
       "      <td>13</td>\n",
       "      <td>129</td>\n",
       "      <td>6</td>\n",
       "      <td>2012</td>\n",
       "    </tr>\n",
       "    <tr>\n",
       "      <th>98216</th>\n",
       "      <td>1500</td>\n",
       "      <td>22</td>\n",
       "      <td>13</td>\n",
       "      <td>108</td>\n",
       "      <td>12</td>\n",
       "      <td>2013</td>\n",
       "    </tr>\n",
       "  </tbody>\n",
       "</table>\n",
       "<p>98217 rows × 6 columns</p>\n",
       "</div>"
      ],
      "text/plain": [
       "        goal  country  currency  category  main_category  Year\n",
       "0       1600       22        13        39              6  2011\n",
       "1      35000       22        13        55              6  2011\n",
       "2      12500       22        13        58              7  2012\n",
       "3      20000       22        13        54             12  2013\n",
       "4       2000       22        13        26              1  2012\n",
       "...      ...      ...       ...       ...            ...   ...\n",
       "98212  15000       22        13       141             14  2012\n",
       "98213   3000       22        13       108             12  2010\n",
       "98214   3000       22        13       125             10  2011\n",
       "98215  30000       22        13       129              6  2012\n",
       "98216   1500       22        13       108             12  2013\n",
       "\n",
       "[98217 rows x 6 columns]"
      ]
     },
     "execution_count": 55,
     "metadata": {},
     "output_type": "execute_result"
    }
   ],
   "source": [
    "train[features + [TIME_COLUMN]]"
   ]
  },
  {
   "cell_type": "code",
   "execution_count": 56,
   "metadata": {
    "ExecuteTime": {
     "end_time": "2021-08-16T18:09:40.004656Z",
     "start_time": "2021-08-16T18:09:39.999266Z"
    },
    "execution": {
     "iopub.execute_input": "2021-08-19T00:07:19.332861Z",
     "iopub.status.busy": "2021-08-19T00:07:19.332709Z",
     "iopub.status.idle": "2021-08-19T00:07:19.338901Z",
     "shell.execute_reply": "2021-08-19T00:07:19.338398Z",
     "shell.execute_reply.started": "2021-08-19T00:07:19.332843Z"
    }
   },
   "outputs": [
    {
     "data": {
      "text/plain": [
       "2013    35832\n",
       "2012    32953\n",
       "2011    21052\n",
       "2010     8380\n",
       "Name: Year, dtype: int64"
      ]
     },
     "execution_count": 56,
     "metadata": {},
     "output_type": "execute_result"
    }
   ],
   "source": [
    "train[\"Year\"].value_counts()"
   ]
  },
  {
   "cell_type": "code",
   "execution_count": 57,
   "metadata": {
    "ExecuteTime": {
     "end_time": "2021-08-16T18:43:08.125240Z",
     "start_time": "2021-08-16T18:09:40.006141Z"
    },
    "execution": {
     "iopub.execute_input": "2021-08-19T00:07:19.339962Z",
     "iopub.status.busy": "2021-08-19T00:07:19.339705Z",
     "iopub.status.idle": "2021-08-19T00:09:08.360956Z",
     "shell.execute_reply": "2021-08-19T00:09:08.359722Z",
     "shell.execute_reply.started": "2021-08-19T00:07:19.339941Z"
    }
   },
   "outputs": [],
   "source": [
    "challenger_model_max = TimeForestClassifier(time_column=TIME_COLUMN,\n",
    "                                        n_estimators=140,\n",
    "                                        min_sample_periods=15,\n",
    "                                        max_depth=8,\n",
    "                                        period_criterion='max',\n",
    "                                        n_jobs=60,\n",
    "                                        multi=True)\n",
    "challenger_model_max.fit(train[features + [TIME_COLUMN]], train[TARGET].values)"
   ]
  },
  {
   "cell_type": "code",
   "execution_count": 58,
   "metadata": {
    "execution": {
     "iopub.execute_input": "2021-08-19T00:09:08.362814Z",
     "iopub.status.busy": "2021-08-19T00:09:08.362420Z",
     "iopub.status.idle": "2021-08-19T00:13:58.099557Z",
     "shell.execute_reply": "2021-08-19T00:13:58.098700Z",
     "shell.execute_reply.started": "2021-08-19T00:09:08.362773Z"
    }
   },
   "outputs": [],
   "source": [
    "train[\"challenger_prediction_max\"] = challenger_model_max.predict_proba(train[features])[:, 1]\n",
    "test[\"challenger_prediction_max\"] = challenger_model_max.predict_proba(test[features])[:, 1]\n",
    "out_of_time[\"challenger_prediction_max\"] = challenger_model_max.predict_proba(out_of_time[features])[:, 1]"
   ]
  },
  {
   "cell_type": "code",
   "execution_count": 59,
   "metadata": {
    "ExecuteTime": {
     "end_time": "2021-08-16T18:43:08.242256Z",
     "start_time": "2021-08-16T18:43:08.127069Z"
    },
    "execution": {
     "iopub.execute_input": "2021-08-19T00:13:58.101384Z",
     "iopub.status.busy": "2021-08-19T00:13:58.100816Z",
     "iopub.status.idle": "2021-08-19T00:13:58.256397Z",
     "shell.execute_reply": "2021-08-19T00:13:58.255644Z",
     "shell.execute_reply.started": "2021-08-19T00:13:58.101346Z"
    }
   },
   "outputs": [
    {
     "name": "stdout",
     "output_type": "stream",
     "text": [
      "0.6904833219606213\n",
      "0.6826876073741214\n",
      "0.6506819025465561\n"
     ]
    }
   ],
   "source": [
    "print(roc_auc_score(train[TARGET], train[\"challenger_prediction_max\"]))\n",
    "print(roc_auc_score(test[TARGET], test[\"challenger_prediction_max\"]))\n",
    "print(roc_auc_score(out_of_time[TARGET], out_of_time[\"challenger_prediction_max\"]))"
   ]
  },
  {
   "cell_type": "code",
   "execution_count": 60,
   "metadata": {
    "ExecuteTime": {
     "end_time": "2021-08-16T18:43:08.404764Z",
     "start_time": "2021-08-16T18:43:08.244037Z"
    },
    "execution": {
     "iopub.execute_input": "2021-08-19T00:13:58.258262Z",
     "iopub.status.busy": "2021-08-19T00:13:58.257771Z",
     "iopub.status.idle": "2021-08-19T00:13:58.934521Z",
     "shell.execute_reply": "2021-08-19T00:13:58.933772Z",
     "shell.execute_reply.started": "2021-08-19T00:13:58.258224Z"
    }
   },
   "outputs": [
    {
     "data": {
      "text/plain": [
       "goal             2323\n",
       "category         1839\n",
       "main_category    1494\n",
       "LEAF               11\n",
       "Name: TRF Max, dtype: int64"
      ]
     },
     "execution_count": 60,
     "metadata": {},
     "output_type": "execute_result"
    }
   ],
   "source": [
    "challenger_model_max.feature_importance()\n",
    "\n",
    "challenger_model_max_importances = challenger_model_max.feature_importance()\n",
    "challenger_model_max_importances.rename(\"TRF Max\", inplace=True)"
   ]
  },
  {
   "cell_type": "code",
   "execution_count": 61,
   "metadata": {
    "ExecuteTime": {
     "end_time": "2021-08-16T19:26:51.561996Z",
     "start_time": "2021-08-16T18:43:08.417153Z"
    },
    "execution": {
     "iopub.execute_input": "2021-08-19T00:13:58.936461Z",
     "iopub.status.busy": "2021-08-19T00:13:58.935967Z",
     "iopub.status.idle": "2021-08-19T00:20:35.181350Z",
     "shell.execute_reply": "2021-08-19T00:20:35.180595Z",
     "shell.execute_reply.started": "2021-08-19T00:13:58.936423Z"
    }
   },
   "outputs": [],
   "source": [
    "challenger_model = TimeForestClassifier(time_column=TIME_COLUMN,\n",
    "                                        n_estimators=140,\n",
    "                                        min_sample_periods=15,\n",
    "                                        max_depth=8,\n",
    "                                        multi=True)\n",
    "challenger_model.fit(train[features + [TIME_COLUMN]], train[TARGET].values)\n",
    "\n",
    "train[\"challenger_prediction\"] = challenger_model.predict_proba(train[features])[:, 1]\n",
    "test[\"challenger_prediction\"] = challenger_model.predict_proba(test[features])[:, 1]\n",
    "out_of_time[\"challenger_prediction\"] = challenger_model.predict_proba(out_of_time[features])[:, 1]"
   ]
  },
  {
   "cell_type": "code",
   "execution_count": 62,
   "metadata": {
    "ExecuteTime": {
     "end_time": "2021-08-16T19:26:51.712739Z",
     "start_time": "2021-08-16T19:26:51.568353Z"
    },
    "execution": {
     "iopub.execute_input": "2021-08-19T00:20:35.182488Z",
     "iopub.status.busy": "2021-08-19T00:20:35.182313Z",
     "iopub.status.idle": "2021-08-19T00:20:35.283842Z",
     "shell.execute_reply": "2021-08-19T00:20:35.283328Z",
     "shell.execute_reply.started": "2021-08-19T00:20:35.182467Z"
    }
   },
   "outputs": [
    {
     "name": "stdout",
     "output_type": "stream",
     "text": [
      "0.688848262336029\n",
      "0.6811361355803203\n",
      "0.648027205377895\n"
     ]
    }
   ],
   "source": [
    "print(roc_auc_score(train[TARGET], train[\"challenger_prediction\"]))\n",
    "print(roc_auc_score(test[TARGET], test[\"challenger_prediction\"]))\n",
    "print(roc_auc_score(out_of_time[TARGET], out_of_time[\"challenger_prediction\"]))"
   ]
  },
  {
   "cell_type": "markdown",
   "metadata": {},
   "source": [
    "### Feature importance migration"
   ]
  },
  {
   "cell_type": "code",
   "execution_count": null,
   "metadata": {
    "execution": {
     "iopub.execute_input": "2021-08-19T00:20:35.284844Z",
     "iopub.status.busy": "2021-08-19T00:20:35.284678Z"
    }
   },
   "outputs": [],
   "source": [
    "challenger_model = TimeForestClassifier(time_column=TIME_COLUMN,\n",
    "                                        n_estimators=140,\n",
    "                                        min_sample_periods=15,\n",
    "                                        max_depth=8,\n",
    "                                        multi=True)\n",
    "\n",
    "results_trt = reverse_learning_curve(train, out_of_time, challenger_model, features, TARGET, TIME_COLUMN, roc_auc_score, n_rounds=5, trt_model=True)"
   ]
  },
  {
   "cell_type": "code",
   "execution_count": null,
   "metadata": {
    "ExecuteTime": {
     "end_time": "2021-08-16T19:26:51.807727Z",
     "start_time": "2021-08-16T19:26:51.714734Z"
    }
   },
   "outputs": [],
   "source": [
    "challenger_model_importances = results_trt[\"feature_importance\"][-1].copy(deep=True)\n",
    "challenger_model_importances.rename(\"TRF\", inplace=True)"
   ]
  },
  {
   "cell_type": "code",
   "execution_count": null,
   "metadata": {
    "ExecuteTime": {
     "end_time": "2021-08-16T19:26:51.812993Z",
     "start_time": "2021-08-16T19:26:51.809834Z"
    }
   },
   "outputs": [],
   "source": [
    "all_models_importance = pd.DataFrame(index=features)"
   ]
  },
  {
   "cell_type": "code",
   "execution_count": null,
   "metadata": {
    "ExecuteTime": {
     "end_time": "2021-08-16T19:26:51.829247Z",
     "start_time": "2021-08-16T19:26:51.815009Z"
    }
   },
   "outputs": [],
   "source": [
    "all_models_importance = all_models_importance.merge(benchmark_importances, how=\"left\", left_index=True, \n",
    "                            right_index=True)\n",
    "all_models_importance = all_models_importance.merge(challenger_model_importances, how=\"left\", left_index=True, \n",
    "                            right_index=True)\n",
    "all_models_importance = all_models_importance.merge(challenger_model_max_importances, how=\"left\", left_index=True, \n",
    "                            right_index=True)\n",
    "\n",
    "all_models_importance.fillna(0, inplace=True)\n",
    "all_models_importance"
   ]
  },
  {
   "cell_type": "code",
   "execution_count": null,
   "metadata": {
    "ExecuteTime": {
     "end_time": "2021-08-16T19:26:52.033576Z",
     "start_time": "2021-08-16T19:26:51.831164Z"
    }
   },
   "outputs": [],
   "source": [
    "plot_shap_difference(all_models_importance[[\"RF\", \"TRF\"]], title=\"\", save_as=\"../images/kickstarter_importance_migration.eps\")"
   ]
  },
  {
   "cell_type": "code",
   "execution_count": null,
   "metadata": {
    "ExecuteTime": {
     "end_time": "2021-08-16T19:26:52.204732Z",
     "start_time": "2021-08-16T19:26:52.035422Z"
    }
   },
   "outputs": [],
   "source": [
    "plot_shap_difference(all_models_importance, title=\"\", save_as=\"../images/kickstarter_importance_migration_trf_max.eps\")"
   ]
  },
  {
   "cell_type": "markdown",
   "metadata": {},
   "source": [
    "### Reverse learning curve"
   ]
  },
  {
   "cell_type": "code",
   "execution_count": null,
   "metadata": {
    "ExecuteTime": {
     "end_time": "2021-08-16T21:01:38.292573Z",
     "start_time": "2021-08-16T21:01:38.010201Z"
    }
   },
   "outputs": [],
   "source": [
    "importance_by_reverse_segment_challenger = plot_feature_migration_from_learning_curve_results(results_trt, features, \n",
    "                                                                                             save_as=\"../images/kickstarter_challenger_importance_migration_learning_curve.eps\")\n",
    "importance_by_reverse_segment_challenger"
   ]
  },
  {
   "cell_type": "code",
   "execution_count": null,
   "metadata": {},
   "outputs": [],
   "source": [
    "fig, ax = plt.subplots()\n",
    "\n",
    "greens = plt.get_cmap(\"Greens\")\n",
    "gradient = np.linspace(.2, 0.8, len(results_trt[\"holdout_performance\"]))\n",
    "\n",
    "for i, r in enumerate(results_trt[\"holdout_performance_by_period\"]):\n",
    "    r.plot(label=results_trt[\"last_period_included\"][i], color=greens(gradient[i]))\n",
    "\n",
    "ax.xaxis.set_tick_params(labelsize=12)\n",
    "ax.yaxis.set_tick_params(labelsize=12)\n",
    "plt.legend(bbox_to_anchor=(1.05, 1.0), fontsize=12, title=\"Oldest time period included in train\")\n",
    "plt.ylabel(\"AUC\", fontsize=15)\n",
    "plt.xlabel(\"Year\", fontsize=15)\n",
    "\n",
    "plt.savefig(\"../images/kickstarter_perf_by_period_reverse_learning_curve_challenger.eps\", format=\"eps\", bbox_inches = \"tight\")\n",
    "plt.show()"
   ]
  },
  {
   "cell_type": "code",
   "execution_count": null,
   "metadata": {
    "ExecuteTime": {
     "end_time": "2021-08-16T21:01:38.577148Z",
     "start_time": "2021-08-16T21:01:38.295049Z"
    }
   },
   "outputs": [],
   "source": [
    "fig, ax = plt.subplots()\n",
    "plt.plot([str(i) for i in results[\"sample_size\"]], results[\"holdout_performance\"], label=\"RF\")\n",
    "plt.plot(results_trt[\"holdout_performance\"], label=\"TRF\", linestyle=\"dashed\", color=\"green\")\n",
    "ax.xaxis.set_tick_params(labelsize=12)\n",
    "ax.yaxis.set_tick_params(labelsize=12)\n",
    "plt.legend(fontsize=15, bbox_to_anchor=(1.0, 1.0))\n",
    "plt.ylabel(\"AUC in the holdout\", fontsize=15)\n",
    "plt.xlabel(\"Sample size\", fontsize=15)\n",
    "plt.savefig(\"../images/kickstarter_reverse_learning_curve_sample.eps\", format=\"eps\")\n",
    "plt.show()"
   ]
  },
  {
   "cell_type": "code",
   "execution_count": null,
   "metadata": {
    "ExecuteTime": {
     "end_time": "2021-08-16T21:01:38.813404Z",
     "start_time": "2021-08-16T21:01:38.579998Z"
    }
   },
   "outputs": [],
   "source": [
    "fig, ax = plt.subplots()\n",
    "plt.plot([str(i) for i in results[\"last_period_included\"]], results[\"holdout_performance\"], label=\"RF\")\n",
    "plt.plot(results_trt[\"holdout_performance\"], label=\"TRF\", linestyle=\"dashed\", color=\"green\")\n",
    "ax.xaxis.set_tick_params(labelsize=12)\n",
    "ax.yaxis.set_tick_params(labelsize=12)\n",
    "plt.legend(fontsize=15, bbox_to_anchor=(1.0, 1.0))\n",
    "plt.ylabel(\"AUC in the holdout\", fontsize=15)\n",
    "plt.xlabel(\"Oldest time period included in the training\", fontsize=15)\n",
    "plt.savefig(\"../images/kickstarter_reverse_learning_curve_segments.eps\", format=\"eps\")\n",
    "plt.show()"
   ]
  },
  {
   "cell_type": "code",
   "execution_count": null,
   "metadata": {},
   "outputs": [],
   "source": [
    "fig, ax = plt.subplots()\n",
    "\n",
    "greens = plt.get_cmap(\"Greens\")\n",
    "gradient = np.linspace(.2, 0.8, len(results_trt[\"holdout_performance\"]))\n",
    "\n",
    "for i, r in enumerate(results_trt[\"holdout_performance_by_period\"]):\n",
    "    r.plot(label=results_trt[\"last_period_included\"][i], color=greens(gradient[i]))\n",
    "    \n",
    "for i, r in enumerate(results[\"holdout_performance_by_period\"]):\n",
    "    r.plot(label=results[\"last_period_included\"][i], color=blues(gradient[i]))\n",
    "\n",
    "ax.xaxis.set_tick_params(labelsize=12)\n",
    "ax.yaxis.set_tick_params(labelsize=12)\n",
    "plt.legend(bbox_to_anchor=(1.05, 1.0), fontsize=12, title=\"Oldest time period included in train\")\n",
    "plt.ylabel(\"AUC\", fontsize=15)\n",
    "plt.xlabel(\"Year\", fontsize=15)\n",
    "\n",
    "plt.savefig(\"../images/kickstarter_perf_by_period_reverse_learning_curve_both.eps\", format=\"eps\", bbox_inches = \"tight\")\n",
    "plt.show()"
   ]
  },
  {
   "cell_type": "code",
   "execution_count": null,
   "metadata": {
    "ExecuteTime": {
     "end_time": "2021-08-16T21:01:40.322772Z",
     "start_time": "2021-08-16T21:01:38.817400Z"
    }
   },
   "outputs": [],
   "source": [
    "fig, ax = plt.subplots()\n",
    "pd.concat([test, out_of_time]).groupby(TIME_COLUMN).apply(lambda x: roc_auc_score(x[TARGET], x[\"challenger_prediction\"])).plot(label=\"Time Robust Forest\", \n",
    "                                                                                                      linestyle=\"dashed\",\n",
    "                                                                                                      color=\"green\", ax=ax)\n",
    "pd.concat([test, out_of_time]).groupby(TIME_COLUMN).apply(lambda x: roc_auc_score(x[TARGET], x[\"benchmark_prediction_opt\"])).plot(label=\"Random Forest\", ax=ax)\n",
    "\n",
    "ax.xaxis.set_tick_params(labelsize=12)\n",
    "ax.yaxis.set_tick_params(labelsize=12)\n",
    "\n",
    "xmin, xmax, ymin, ymax = plt.axis()\n",
    "plt.vlines(training_end_year + 1, ymin, ymax, linestyle=\"dotted\", color=\"red\", label=\"Holdout start\")\n",
    "plt.ylim([ymin, ymax])\n",
    "plt.legend(fontsize=15, bbox_to_anchor=(1.0, 1.0))\n",
    "plt.ylabel(\"AUC\", fontsize=15)\n",
    "plt.xlabel(\"Year\", fontsize=15)\n",
    "plt.savefig(\"../images/kickstarter_test_holdout_auc_years.eps\", format=\"eps\")\n",
    "plt.show()"
   ]
  },
  {
   "cell_type": "code",
   "execution_count": null,
   "metadata": {
    "ExecuteTime": {
     "end_time": "2021-08-16T21:01:41.475541Z",
     "start_time": "2021-08-16T21:01:40.324878Z"
    }
   },
   "outputs": [],
   "source": [
    "plt.rcParams['figure.figsize'] = (8, 6)\n",
    "fig, ax = plt.subplots()\n",
    "pd.concat([test, out_of_time]).groupby(TIME_COLUMN).apply(lambda x: roc_auc_score(x[TARGET], x[\"challenger_prediction\"])).plot(label=\"Time Robust Forest\", \n",
    "                                                                                                      linestyle=\"dashed\",\n",
    "                                                                                                      color=\"green\", ax=ax)\n",
    "pd.concat([test, out_of_time]).groupby(TIME_COLUMN).apply(lambda x: roc_auc_score(x[TARGET], x[\"benchmark_prediction_opt\"])).plot(label=\"Random Forest\", ax=ax)\n",
    "\n",
    "\n",
    "ax.xaxis.set_tick_params(labelsize=15)\n",
    "ax.yaxis.set_tick_params(labelsize=15)\n",
    "\n",
    "xmin, xmax, ymin, ymax = plt.axis()\n",
    "plt.vlines(training_end_year + 1, ymin, ymax, linestyle=\"dotted\", color=\"red\", label=\"Holdout start\")\n",
    "plt.ylim([ymin, ymax])\n",
    "plt.legend(fontsize=15, bbox_to_anchor=(1.0, 1.0))\n",
    "\n",
    "plt.ylabel(\"AUC\", fontsize=16)\n",
    "plt.xlabel(\"Year\", fontsize=16)\n",
    "plt.savefig(\"../images/kickstarter_test_holdout_auc_years_square.eps\", format=\"eps\")\n",
    "plt.show()"
   ]
  },
  {
   "cell_type": "code",
   "execution_count": null,
   "metadata": {
    "ExecuteTime": {
     "end_time": "2021-08-16T21:01:41.481581Z",
     "start_time": "2021-08-16T21:01:41.478390Z"
    }
   },
   "outputs": [],
   "source": [
    "#pd.concat([test, out_of_time])[[TIME_COLUMN, \"benchmark_prediction\", \"benchmark_prediction_opt\", \"challenger_prediction\"]].to_csv(\"results/7_kickstarter_example.csv\")"
   ]
  },
  {
   "cell_type": "markdown",
   "metadata": {},
   "source": [
    "## TRF feature importance for feature selection"
   ]
  },
  {
   "cell_type": "code",
   "execution_count": null,
   "metadata": {
    "ExecuteTime": {
     "end_time": "2021-08-16T21:01:41.610712Z",
     "start_time": "2021-08-16T21:01:41.484653Z"
    }
   },
   "outputs": [],
   "source": [
    "challenger_model.feature_importance()"
   ]
  },
  {
   "cell_type": "code",
   "execution_count": null,
   "metadata": {
    "ExecuteTime": {
     "end_time": "2021-08-16T21:01:42.127770Z",
     "start_time": "2021-08-16T21:01:41.613313Z"
    }
   },
   "outputs": [],
   "source": [
    "selected_features = [feature for feature in features if feature in challenger_model.feature_importance().index]\n",
    "selected_features"
   ]
  },
  {
   "cell_type": "code",
   "execution_count": null,
   "metadata": {
    "ExecuteTime": {
     "end_time": "2021-08-16T21:06:45.980256Z",
     "start_time": "2021-08-16T21:01:42.131179Z"
    }
   },
   "outputs": [],
   "source": [
    "clf1 = setup(train[selected_features + [TARGET]], target=\"target\",\n",
    "             session_id=2,\n",
    "             log_experiment=False,\n",
    "             experiment_name=\"kickstarter_selected\",\n",
    "             silent=True)\n",
    "\n",
    "rf = create_model('rf')\n",
    "tuned_rf = tune_model(rf,\n",
    "                     optimize=\"AUC\",\n",
    "                     fold=5,\n",
    "                     n_iter=50)"
   ]
  },
  {
   "cell_type": "code",
   "execution_count": null,
   "metadata": {
    "ExecuteTime": {
     "end_time": "2021-08-16T21:06:45.988236Z",
     "start_time": "2021-08-16T21:06:45.982801Z"
    }
   },
   "outputs": [],
   "source": [
    "tuned_rf"
   ]
  },
  {
   "cell_type": "code",
   "execution_count": null,
   "metadata": {
    "ExecuteTime": {
     "end_time": "2021-08-16T21:06:48.030051Z",
     "start_time": "2021-08-16T21:06:45.992303Z"
    }
   },
   "outputs": [],
   "source": [
    "benchmark_model = tuned_rf\n",
    "benchmark_model.fit(train[selected_features], train[TARGET])\n",
    "\n",
    "train[\"benchmark_prediction_opt_selected_features\"] = benchmark_model.predict_proba(train[selected_features])[:, 1]\n",
    "test[\"benchmark_prediction_opt_selected_features\"] = benchmark_model.predict_proba(test[selected_features])[:, 1]\n",
    "out_of_time[\"benchmark_prediction_opt_selected_features\"] = benchmark_model.predict_proba(out_of_time[selected_features])[:, 1]"
   ]
  },
  {
   "cell_type": "code",
   "execution_count": null,
   "metadata": {
    "ExecuteTime": {
     "end_time": "2021-08-16T21:06:48.251777Z",
     "start_time": "2021-08-16T21:06:48.032274Z"
    }
   },
   "outputs": [],
   "source": [
    "print(roc_auc_score(train[TARGET], train[\"benchmark_prediction_opt_selected_features\"]))\n",
    "print(roc_auc_score(test[TARGET], test[\"benchmark_prediction_opt_selected_features\"]))\n",
    "print(roc_auc_score(out_of_time[TARGET], out_of_time[\"benchmark_prediction_opt_selected_features\"]))"
   ]
  },
  {
   "cell_type": "code",
   "execution_count": null,
   "metadata": {
    "ExecuteTime": {
     "end_time": "2021-08-16T21:06:49.939074Z",
     "start_time": "2021-08-16T21:06:48.255885Z"
    }
   },
   "outputs": [],
   "source": [
    "fig, ax = plt.subplots()\n",
    "pd.concat([test, out_of_time]).groupby(TIME_COLUMN).apply(lambda x: roc_auc_score(x[TARGET], x[\"challenger_prediction\"])).plot(label=\"Time Robust Forest\", \n",
    "                                                                                                      linestyle=\"dashed\",\n",
    "                                                                                                      color=\"green\", ax=ax)\n",
    "pd.concat([test, out_of_time]).groupby(TIME_COLUMN).apply(lambda x: roc_auc_score(x[TARGET], x[\"benchmark_prediction_opt\"])).plot(label=\"Random Forest\", ax=ax)\n",
    "pd.concat([test, out_of_time]).groupby(TIME_COLUMN).apply(lambda x: roc_auc_score(x[TARGET], x[\"benchmark_prediction_opt_selected_features\"])).plot(label=\"Random Forest w/ TRF feature selection\", ax=ax)\n",
    "\n",
    "ax.xaxis.set_tick_params(labelsize=12)\n",
    "ax.yaxis.set_tick_params(labelsize=12)\n",
    "\n",
    "xmin, xmax, ymin, ymax = plt.axis()\n",
    "plt.vlines(training_end_year + 1, ymin, ymax, linestyle=\"dotted\", color=\"red\", label=\"Holdout start\")\n",
    "plt.ylim([ymin, ymax])\n",
    "plt.legend(fontsize=15, bbox_to_anchor=(1.0, 1.0))\n",
    "plt.ylabel(\"AUC\", fontsize=15)\n",
    "plt.xlabel(\"Year\", fontsize=15)\n",
    "plt.savefig(\"../images/kickstarter_test_holdout_auc_years_fs.eps\", format=\"eps\")\n",
    "plt.show()"
   ]
  },
  {
   "cell_type": "markdown",
   "metadata": {},
   "source": [
    "## Feature impact"
   ]
  },
  {
   "cell_type": "code",
   "execution_count": null,
   "metadata": {
    "ExecuteTime": {
     "end_time": "2021-08-16T21:06:50.002396Z",
     "start_time": "2021-08-16T21:06:49.941772Z"
    }
   },
   "outputs": [],
   "source": [
    "from pygam import LinearGAM\n",
    "from sklearn.model_selection import train_test_split\n",
    "from sklearn.metrics import r2_score\n",
    "from sklearn.preprocessing import StandardScaler\n",
    "from matplotlib.collections import PolyCollection as p"
   ]
  },
  {
   "cell_type": "code",
   "execution_count": null,
   "metadata": {
    "ExecuteTime": {
     "end_time": "2021-08-16T21:17:06.856276Z",
     "start_time": "2021-08-16T21:17:04.945791Z"
    }
   },
   "outputs": [],
   "source": [
    "fig, ax = plt.subplots()\n",
    "\n",
    "sns.distplot(out_of_time[\"challenger_prediction\"], label=\"TRF\")\n",
    "sns.distplot(out_of_time[\"benchmark_prediction_opt\"], label=\"RF\")\n",
    "\n",
    "ax.xaxis.set_tick_params(labelsize=12)\n",
    "ax.yaxis.set_tick_params(labelsize=12)\n",
    "\n",
    "plt.legend(fontsize=15, bbox_to_anchor=(1.0, 1.0))\n",
    "plt.ylabel(\"Density\", fontsize=15)\n",
    "plt.xlabel(\"Score\", fontsize=15)\n",
    "\n",
    "__file__ = \"../images/kickstarter_trf_rf_score_distribution\"\n",
    "plt.savefig(__file__+\".jpg\", quality=95)\n",
    "for c in ax.findobj(p):\n",
    "    c.set_zorder(-1)\n",
    "    c.set_rasterized(True)\n",
    "ax.set_rasterization_zorder(0)\n",
    "\n",
    "ax.set_rasterized(True)\n",
    "plt.savefig(__file__+\".eps\")        \n",
    "\n",
    "#plt.savefig(\"../images/kickstarter_trf_rf_score_distribution.eps\", format=\"eps\")\n",
    "plt.show()"
   ]
  },
  {
   "cell_type": "code",
   "execution_count": null,
   "metadata": {
    "ExecuteTime": {
     "end_time": "2021-08-16T21:17:06.899345Z",
     "start_time": "2021-08-16T21:17:06.857973Z"
    }
   },
   "outputs": [],
   "source": [
    "ss = StandardScaler()\n",
    "out_of_time[\"challenger_prediction_norm\"] = ss.fit_transform(out_of_time[[\"challenger_prediction\"]])\n",
    "out_of_time[\"benchmark_prediction_norm\"] = ss.fit_transform(out_of_time[[\"benchmark_prediction_opt\"]])"
   ]
  },
  {
   "cell_type": "code",
   "execution_count": null,
   "metadata": {
    "ExecuteTime": {
     "end_time": "2021-08-16T21:17:08.626339Z",
     "start_time": "2021-08-16T21:17:06.901851Z"
    }
   },
   "outputs": [],
   "source": [
    "sns.distplot(out_of_time[\"challenger_prediction_norm\"])\n",
    "sns.distplot(out_of_time[\"benchmark_prediction_norm\"])"
   ]
  },
  {
   "cell_type": "code",
   "execution_count": null,
   "metadata": {
    "ExecuteTime": {
     "end_time": "2021-08-16T21:17:08.698294Z",
     "start_time": "2021-08-16T21:17:08.628282Z"
    }
   },
   "outputs": [],
   "source": [
    "X_train, X_test, y_train, y_test = train_test_split(out_of_time[features], \n",
    "                                                    out_of_time[[\"challenger_prediction_norm\", \n",
    "                                                                 \"benchmark_prediction_norm\"]],\n",
    "                                                    test_size=0.6,\n",
    "                                                    random_state=42)\n",
    "\n",
    "print(X_train.shape)\n",
    "print(X_test.shape)"
   ]
  },
  {
   "cell_type": "markdown",
   "metadata": {},
   "source": [
    "Treat outliers"
   ]
  },
  {
   "cell_type": "code",
   "execution_count": null,
   "metadata": {
    "ExecuteTime": {
     "end_time": "2021-08-16T21:17:08.704257Z",
     "start_time": "2021-08-16T21:17:08.701202Z"
    }
   },
   "outputs": [],
   "source": [
    "numerical_features = [feature for feature in features if feature not in columns_to_label_encode]"
   ]
  },
  {
   "cell_type": "code",
   "execution_count": null,
   "metadata": {
    "ExecuteTime": {
     "end_time": "2021-08-16T21:17:08.787415Z",
     "start_time": "2021-08-16T21:17:08.706689Z"
    }
   },
   "outputs": [],
   "source": [
    "p99 = X_train[numerical_features].quantile(.99)\n",
    "p01 = X_train[numerical_features].quantile(.01)\n",
    "p005 = X_train.quantile(.005)\n",
    "\n",
    "X_train[numerical_features] = X_train[numerical_features].where(\n",
    "    X_train[numerical_features] < p99, other=p99, axis=1)\n",
    "X_test[numerical_features] = X_test[numerical_features].where(\n",
    "    X_test[numerical_features] < p99, other=p99, axis=1)\n",
    "\n",
    "X_train[numerical_features] = X_train[numerical_features].where(\n",
    "    X_train[numerical_features] > p01, other=p01, axis=1)\n",
    "X_test[numerical_features] = X_test[numerical_features].where(\n",
    "    X_test[numerical_features] > p01, other=p01, axis=1)\n",
    "\n",
    "X_train = X_train.fillna(p005)\n",
    "X_test = X_test.fillna(p005)"
   ]
  },
  {
   "cell_type": "code",
   "execution_count": null,
   "metadata": {
    "ExecuteTime": {
     "end_time": "2021-08-16T21:18:35.296272Z",
     "start_time": "2021-08-16T21:17:09.218549Z"
    }
   },
   "outputs": [],
   "source": [
    "dtype = [\"numerical\" if feature not in columns_to_label_encode else \"categorical\" for feature in features]\n",
    "\n",
    "gam_challenger = LinearGAM(dtype=dtype).gridsearch(X_train[features].values, y_train[\"challenger_prediction_norm\"].values)\n",
    "gam_benchmark = LinearGAM(dtype=dtype).gridsearch(X_train[features].values, y_train[\"benchmark_prediction_norm\"].values)"
   ]
  },
  {
   "cell_type": "code",
   "execution_count": null,
   "metadata": {
    "ExecuteTime": {
     "end_time": "2021-08-16T21:18:37.672233Z",
     "start_time": "2021-08-16T21:18:35.298901Z"
    }
   },
   "outputs": [],
   "source": [
    "pred_test = gam_challenger.predict(X_test[features])\n",
    "print(\"r2 test (challenger): %f\" %r2_score(y_test[\"challenger_prediction_norm\"], pred_test))\n",
    "\n",
    "pred_test = gam_benchmark.predict(X_test[features])\n",
    "print(\"r2 test (benchmark): %f\" %r2_score(y_test[\"benchmark_prediction_norm\"], pred_test))"
   ]
  },
  {
   "cell_type": "code",
   "execution_count": null,
   "metadata": {
    "ExecuteTime": {
     "end_time": "2021-08-16T21:18:38.782439Z",
     "start_time": "2021-08-16T21:18:37.674929Z"
    }
   },
   "outputs": [],
   "source": [
    "for i, feat in enumerate(numerical_features):\n",
    "    print(feat)\n",
    "    XX = gam_challenger.generate_X_grid(i, n=X_test.shape[0])\n",
    "    #pdb.set_trace()\n",
    "    pdep, confi = gam_challenger.partial_dependence(i, X=XX, width=.95)\n",
    "    fig, ax = plt.subplots(figsize=(10, 6), dpi=150)\n",
    "\n",
    "    plt.plot(XX[:, i], pdep, c=\"green\", label=\"TRF\")\n",
    "    #plt.plot(XX[:, i], confi, c='green', ls='--', label=\"95% interval\")\n",
    "    plt.plot(XX[:, i], confi, c='green', ls='--')\n",
    "    plt.ylabel(\"Score\")\n",
    "    plt.legend()\n",
    "    \n",
    "    ### Benchmark\n",
    "    pdep, confi = gam_benchmark.partial_dependence(i, X=XX, width=.95)\n",
    "    #fig, ax = plt.subplots(figsize=(10, 6), dpi=150)\n",
    "    plt.plot(XX[:, i], pdep, color=\"#4c72b0\", label=\"RF\")\n",
    "    #plt.plot(XX[:, i], confi, c='', ls='--', label=\"95% interval\")\n",
    "    plt.plot(XX[:, i], confi, c='#4c72b0', ls='--')\n",
    "    #plt.title(\"Average impact on the score by different values of the feature {}\".format(feat))    \n",
    "    plt.ylabel(\"Score\", fontsize=15)\n",
    "    plt.legend()\n",
    "    \n",
    "    plt.xlabel(feat, fontsize=15)\n",
    "    \n",
    "    ax.xaxis.set_tick_params(labelsize=12)\n",
    "    ax.yaxis.set_tick_params(labelsize=12)\n",
    "    xmin, xmax, ymin, ymax = plt.axis()\n",
    "    plt.ylim([ymin, ymax])\n",
    "    plt.legend(fontsize=15)\n",
    "    plt.savefig(\"../images/kickstarter_feature_impact_{}.eps\".format(feat), format=\"eps\")\n",
    "    \n",
    "    plt.show()\n",
    "    plt.clf()"
   ]
  },
  {
   "cell_type": "markdown",
   "metadata": {},
   "source": [
    "### Categoricals"
   ]
  },
  {
   "cell_type": "code",
   "execution_count": null,
   "metadata": {
    "ExecuteTime": {
     "end_time": "2021-08-16T21:18:42.580493Z",
     "start_time": "2021-08-16T21:18:38.784297Z"
    }
   },
   "outputs": [],
   "source": [
    "for i, feat in enumerate(features):\n",
    "    if feat in columns_to_label_encode:\n",
    "        print(feat)\n",
    "        mapping = encoder_mappings[feat]\n",
    "        max_cat = np.max(list(mapping.keys()))\n",
    "        XX = np.copy(X_test)\n",
    "        XX[:, i] = np.random.randint(1, max_cat+1, size=X_test.shape[0])\n",
    "        pdep, confi = gam_challenger.partial_dependence(i, X=XX, width=.95)\n",
    "        fig, ax = plt.subplots(figsize=(10, 5), dpi=150)\n",
    "        data = pd.DataFrame(np.hstack([XX[:, i].reshape(-1, 1), pdep.reshape(-1, 1), confi]),\n",
    "                            columns=[feat, \"Mean Impact\", \"low\", \"high\"])\n",
    "        data[\"low\"] = np.abs(data[\"low\"] - data[\"Mean Impact\"])\n",
    "        data[\"high\"] = np.abs(data[\"high\"] - data[\"Mean Impact\"])\n",
    "        agg = data.groupby(feat).mean()\n",
    "\n",
    "        impact_plot = plt.bar([i for i in range(len(agg))],\n",
    "                              agg[\"Mean Impact\"],\n",
    "                              yerr=agg[[\"low\", \"high\"]].values.transpose(),\n",
    "                              color=\"#9370DB\",\n",
    "                              capsize=7)\n",
    "\n",
    "        plt.title(feat, fontsize=15)\n",
    "        plt.xticks([i for i in range(len(list(mapping.keys())))])\n",
    "        ax.set_xticklabels(list(mapping.values()), rotation=90)\n",
    "        plt.hlines(0.0, -1, max_cat, linestyles=\"dashed\")\n",
    "        plt.ylabel(\"Score\", fontsize=15)\n",
    "        \n",
    "        ax.xaxis.set_tick_params(labelsize=12)\n",
    "        ax.yaxis.set_tick_params(labelsize=12)\n",
    "        xmin, xmax, ymin, ymax = plt.axis()\n",
    "        plt.ylim([ymin, ymax])\n",
    "        plt.legend(fontsize=15)\n",
    "        plt.savefig(\"../images/kickstarter_feature_impact_cat_{}.eps\".format(feat), format=\"eps\")\n",
    "        \n",
    "        plt.show()\n",
    "        plt.clf()"
   ]
  },
  {
   "cell_type": "code",
   "execution_count": null,
   "metadata": {
    "ExecuteTime": {
     "end_time": "2021-08-16T21:18:42.585295Z",
     "start_time": "2021-08-16T21:18:42.582712Z"
    }
   },
   "outputs": [],
   "source": [
    "import seaborn as sns"
   ]
  },
  {
   "cell_type": "code",
   "execution_count": null,
   "metadata": {
    "ExecuteTime": {
     "end_time": "2021-08-16T21:19:05.086320Z",
     "start_time": "2021-08-16T21:18:42.587538Z"
    }
   },
   "outputs": [],
   "source": [
    "for i, feat in enumerate(features):\n",
    "    if feat in columns_to_label_encode:\n",
    "        print(feat)\n",
    "        mapping = encoder_mappings[feat]\n",
    "        max_cat = np.max(list(mapping.keys()))\n",
    "        XX = np.copy(X_test)\n",
    "        XX[:, i] = np.random.randint(1, max_cat+1, size=X_test.shape[0])\n",
    "        ### Challenger\n",
    "        pdep, confi = gam_challenger.partial_dependence(i, X=XX, width=.95)\n",
    "        fig, ax = plt.subplots(figsize=(10, 5), dpi=150)\n",
    "        data = pd.DataFrame(np.hstack([XX[:, i].reshape(-1, 1), pdep.reshape(-1, 1), confi]),\n",
    "                            columns=[feat, \"Mean Impact\", \"low\", \"high\"])\n",
    "        data[\"low\"] = np.abs(data[\"low\"] - data[\"Mean Impact\"])\n",
    "        data[\"high\"] = np.abs(data[\"high\"] - data[\"Mean Impact\"])\n",
    "        data[\"model\"] = \"TRF\"\n",
    "        agg = data.groupby(feat).mean()\n",
    "\n",
    "\n",
    "        ### Benchmark\n",
    "        pdep, confi = gam_benchmark.partial_dependence(i, X=XX, width=.95)\n",
    "        data_benchmark = pd.DataFrame(np.hstack([XX[:, i].reshape(-1, 1), pdep.reshape(-1, 1), confi]),\n",
    "                            columns=[feat, \"Mean Impact\", \"low\", \"high\"])\n",
    "        data_benchmark[\"low\"] = np.abs(data_benchmark[\"low\"] - data_benchmark[\"Mean Impact\"])\n",
    "        data_benchmark[\"high\"] = np.abs(data_benchmark[\"high\"] - data_benchmark[\"Mean Impact\"])\n",
    "        data_benchmark[\"model\"] = \"RF\"\n",
    "        \n",
    "        data = pd.concat([data, data_benchmark])\n",
    "        agg = data.groupby(feat).mean()\n",
    "        \n",
    "        sns.barplot(data=data, x=feat, y=\"Mean Impact\", hue=\"model\")\n",
    "\n",
    "\n",
    "        plt.xticks([i for i in range(len(list(mapping.keys())))])\n",
    "        ax.set_xticklabels(list(mapping.values()), rotation=90)\n",
    "        plt.hlines(0.0, -1, max_cat, linestyles=\"dashed\")\n",
    "        plt.ylabel(\"Score\", fontsize=15)\n",
    "        \n",
    "        ax.xaxis.set_tick_params(labelsize=12)\n",
    "        ax.yaxis.set_tick_params(labelsize=12)\n",
    "        xmin, xmax, ymin, ymax = plt.axis()\n",
    "        plt.ylim([ymin, ymax])\n",
    "        plt.legend(fontsize=15)\n",
    "        plt.xlabel(feat, fontsize=15)\n",
    "        plt.savefig(\"../images/kickstarter_feature_impact_cat_comparison_{}.eps\".format(feat), format=\"eps\")\n",
    "        \n",
    "        plt.show()\n",
    "        plt.clf()"
   ]
  },
  {
   "cell_type": "markdown",
   "metadata": {},
   "source": [
    "## Minimum samples by period effect"
   ]
  },
  {
   "cell_type": "code",
   "execution_count": null,
   "metadata": {
    "ExecuteTime": {
     "end_time": "2021-08-16T21:19:05.090765Z",
     "start_time": "2021-08-16T21:19:05.088342Z"
    }
   },
   "outputs": [],
   "source": [
    "from sklearn import metrics"
   ]
  },
  {
   "cell_type": "code",
   "execution_count": null,
   "metadata": {
    "ExecuteTime": {
     "end_time": "2021-08-16T21:19:05.096880Z",
     "start_time": "2021-08-16T21:19:05.094793Z"
    }
   },
   "outputs": [],
   "source": [
    "MAX_DEPTH = 8\n",
    "target = TARGET"
   ]
  },
  {
   "cell_type": "code",
   "execution_count": null,
   "metadata": {
    "ExecuteTime": {
     "end_time": "2021-08-16T21:19:05.102908Z",
     "start_time": "2021-08-16T21:19:05.099903Z"
    }
   },
   "outputs": [],
   "source": [
    "min_sample_periods_values = [1, 5, 10, 20, 50, 100, 250, 500]"
   ]
  },
  {
   "cell_type": "code",
   "execution_count": null,
   "metadata": {
    "ExecuteTime": {
     "end_time": "2021-08-17T06:13:50.524455Z",
     "start_time": "2021-08-16T21:19:05.105223Z"
    }
   },
   "outputs": [],
   "source": [
    "min_sample_knob = {}\n",
    "min_sample_knob[\"challenger\"] = {\"unseen_performance\": [], \"train_performance\": [],\n",
    "                                \"test_performance\": [], \"unseen_performance_by_period\": []}\n",
    "unseen_performance = []\n",
    "train_performance = []\n",
    "test_performance = []\n",
    "unseen_performance_by_period = []\n",
    "\n",
    "for min_sample_periods in min_sample_periods_values:\n",
    "    model_split_time = TimeForestClassifier(time_column=TIME_COLUMN,\n",
    "                                        n_estimators=120,\n",
    "                                        min_sample_periods=min_sample_periods,\n",
    "                                        max_depth=MAX_DEPTH,\n",
    "                                        multi=True)\n",
    "    \n",
    "    model_split_time.fit(train[features + [TIME_COLUMN]], train[target])\n",
    "    out_of_time[\"time_split_prediction\"] = model_split_time.predict_proba(out_of_time[features])[:, 1]\n",
    "    \n",
    "    performance = metrics.roc_auc_score(out_of_time[target], out_of_time[\"time_split_prediction\"])\n",
    "    min_sample_knob[\"challenger\"][\"unseen_performance\"].append(performance)\n",
    "    min_sample_knob[\"challenger\"][\"unseen_performance_by_period\"].append(out_of_time.groupby(TIME_COLUMN).apply(lambda x: roc_auc_score(x[target], x[\"time_split_prediction\"])))\n",
    "\n",
    "    train[\"time_split_prediction\"] = model_split_time.predict(train[features])\n",
    "    min_sample_knob[\"challenger\"][\"train_performance\"].append(metrics.roc_auc_score(train[target], train[\"time_split_prediction\"]))\n",
    "    \n",
    "    test[\"time_split_prediction\"] = model_split_time.predict(test[features])\n",
    "    min_sample_knob[\"challenger\"][\"test_performance\"].append(metrics.roc_auc_score(test[target], test[\"time_split_prediction\"]))"
   ]
  },
  {
   "cell_type": "code",
   "execution_count": null,
   "metadata": {
    "ExecuteTime": {
     "end_time": "2021-08-17T06:13:50.741613Z",
     "start_time": "2021-08-17T06:13:50.526307Z"
    }
   },
   "outputs": [],
   "source": [
    "fig, ax = plt.subplots()\n",
    "plt.plot(min_sample_periods_values, min_sample_knob[\"challenger\"][\"train_performance\"], label=\"Train\")\n",
    "plt.plot(min_sample_periods_values, min_sample_knob[\"challenger\"][\"test_performance\"], label=\"Test\", \n",
    "         color=\"magenta\",\n",
    "         linestyle=\"dotted\")\n",
    "plt.plot(min_sample_periods_values, min_sample_knob[\"challenger\"][\"unseen_performance\"], label=\"Holdout\", \n",
    "                                                         linestyle=\"dashed\",\n",
    "                                                         color=\"green\")\n",
    "\n",
    "#plt.title(\"Holdout AUC by minimum examples by period parameter\", fontsize=15)\n",
    "ax.xaxis.set_tick_params(labelsize=12)\n",
    "ax.yaxis.set_tick_params(labelsize=12)\n",
    "xmin, xmax, ymin, ymax = plt.axis()\n",
    "plt.ylim([ymin, ymax])\n",
    "plt.legend(fontsize=15)\n",
    "plt.ylabel(\"AUC\", fontsize=15)\n",
    "plt.xlabel(\"Minimum examples by period\", fontsize=15)\n",
    "plt.savefig(\"../images/kickstarter_test_min_example_by_period_train_and_holdout_whole.eps\", format=\"eps\")\n",
    "plt.show()"
   ]
  },
  {
   "cell_type": "code",
   "execution_count": null,
   "metadata": {
    "ExecuteTime": {
     "end_time": "2021-08-17T06:13:51.418630Z",
     "start_time": "2021-08-17T06:13:50.742876Z"
    }
   },
   "outputs": [],
   "source": [
    "fig, ax = plt.subplots()\n",
    "\n",
    "greens = plt.get_cmap(\"Greens\")\n",
    "gradient = np.linspace(.1, 0.9, len(min_sample_periods_values))\n",
    "for i, experiment in enumerate(min_sample_knob[\"challenger\"][\"unseen_performance_by_period\"]):\n",
    "    experiment.plot(label=min_sample_periods_values[i], color=greens(gradient[i]))\n",
    "\n",
    "out_of_time.groupby(TIME_COLUMN).apply(lambda x: roc_auc_score(x[target], x[\"benchmark_prediction_opt\"])).plot(label=\"Optimal RF benchmark\", \n",
    "                                                                                                 color=\"red\", linestyle=\"dashed\", ax=ax)\n",
    "ax.xaxis.set_tick_params(labelsize=12)\n",
    "ax.yaxis.set_tick_params(labelsize=12)\n",
    "plt.legend(bbox_to_anchor=(1.05, 1.0), fontsize=12, title=\"Minimum examples by period\")\n",
    "plt.ylabel(\"AUC\", fontsize=15)\n",
    "plt.xlabel(\"Year\", fontsize=15)\n",
    "\n",
    "x_labels = np.sort(out_of_time[TIME_COLUMN].unique())\n",
    "plt.xticks(x_labels)\n",
    "\n",
    "plt.savefig(\"../images/kickstarter_holdout_dif_min_samples.eps\", format=\"eps\", bbox_inches = \"tight\")\n",
    "plt.show()"
   ]
  },
  {
   "cell_type": "code",
   "execution_count": null,
   "metadata": {
    "ExecuteTime": {
     "end_time": "2021-08-17T06:13:51.425577Z",
     "start_time": "2021-08-17T06:13:51.420003Z"
    }
   },
   "outputs": [],
   "source": [
    "np.sort(out_of_time[TIME_COLUMN].unique())"
   ]
  },
  {
   "cell_type": "code",
   "execution_count": null,
   "metadata": {
    "ExecuteTime": {
     "end_time": "2021-08-17T06:14:11.884802Z",
     "start_time": "2021-08-17T06:13:51.427387Z"
    }
   },
   "outputs": [],
   "source": [
    "min_sample_knob[\"benchmark\"] = {\"unseen_performance\": [], \"train_performance\": [],\n",
    "                                \"test_performance\": [], \"unseen_performance_by_period\": []}\n",
    "\n",
    "training_segments = train[TIME_COLUMN].nunique()\n",
    "for min_sample_periods in min_sample_periods_values:\n",
    "\n",
    "    model = tuned_rf\n",
    "    model.set_params(min_samples_leaf=training_segments * min_sample_periods)\n",
    "    \n",
    "    \n",
    "    model.fit(train[features],\n",
    "              train[TARGET])\n",
    "     \n",
    "    out_of_time[\"time_split_prediction\"] = model.predict_proba(out_of_time[features])[:, 1]\n",
    "    \n",
    "    performance = metrics.roc_auc_score(out_of_time[target], out_of_time[\"time_split_prediction\"])\n",
    "    min_sample_knob[\"benchmark\"][\"unseen_performance\"].append(performance)\n",
    "    min_sample_knob[\"benchmark\"][\"unseen_performance_by_period\"].append(out_of_time.groupby(TIME_COLUMN).apply(lambda x: roc_auc_score(x[target], x[\"time_split_prediction\"])))\n",
    "\n",
    "    train[\"time_split_prediction\"] = model.predict(train[features])\n",
    "    min_sample_knob[\"benchmark\"][\"train_performance\"].append(metrics.roc_auc_score(train[target], train[\"time_split_prediction\"]))\n",
    "    \n",
    "    test[\"time_split_prediction\"] = model.predict(test[features])\n",
    "    min_sample_knob[\"benchmark\"][\"test_performance\"].append(metrics.roc_auc_score(test[target], test[\"time_split_prediction\"]))"
   ]
  },
  {
   "cell_type": "code",
   "execution_count": null,
   "metadata": {
    "ExecuteTime": {
     "end_time": "2021-08-17T06:14:12.562063Z",
     "start_time": "2021-08-17T06:14:11.886501Z"
    }
   },
   "outputs": [],
   "source": [
    "#min_sample_periods_values = [i for i in range(5, 501, 50)] + [550, 650, 750, 850, 1000]\n",
    "fig, ax = plt.subplots()\n",
    "\n",
    "blues = plt.get_cmap(\"Blues\")\n",
    "for i, experiment in enumerate(min_sample_knob[\"benchmark\"][\"unseen_performance_by_period\"]):\n",
    "    experiment.plot(label=min_sample_periods_values[i], color=blues(gradient[i]))\n",
    "\n",
    "out_of_time.groupby(TIME_COLUMN).apply(lambda x: roc_auc_score(x[target], x[\"benchmark_prediction_opt\"])).plot(label=\"Optimal RF benchmark\", \n",
    "                                                                                                 color=\"red\", linestyle=\"dashed\", ax=ax)\n",
    "\n",
    "ax.xaxis.set_tick_params(labelsize=12)\n",
    "ax.yaxis.set_tick_params(labelsize=12)\n",
    "plt.legend(bbox_to_anchor=(1.05, 1.0), fontsize=12, title=\"Minimum examples by period\")\n",
    "plt.ylabel(\"AUC\", fontsize=15)\n",
    "plt.xlabel(\"Year\", fontsize=15)\n",
    "\n",
    "x_labels = np.sort(out_of_time[TIME_COLUMN].unique())\n",
    "plt.xticks(x_labels)\n",
    "\n",
    "plt.savefig(\"../images/kickstarter_holdout_dif_min_samples_benchmark.eps\", format=\"eps\", bbox_inches = \"tight\")\n",
    "plt.show()"
   ]
  },
  {
   "cell_type": "code",
   "execution_count": null,
   "metadata": {
    "ExecuteTime": {
     "end_time": "2021-08-17T13:08:19.060447Z",
     "start_time": "2021-08-17T13:08:18.268956Z"
    }
   },
   "outputs": [],
   "source": [
    "#min_sample_periods_values = [i for i in range(5, 501, 50)] + [550, 650, 750, 850, 1000]\n",
    "fig, ax = plt.subplots()\n",
    "for i, experiment in enumerate(min_sample_knob[\"challenger\"][\"unseen_performance_by_period\"]):\n",
    "    experiment.plot(label=min_sample_periods_values[i], color=greens(gradient[i]))\n",
    "    \n",
    "for i, experiment in enumerate(min_sample_knob[\"benchmark\"][\"unseen_performance_by_period\"]):\n",
    "    experiment.plot(label=min_sample_periods_values[i], color=blues(gradient[i]))    \n",
    "\n",
    "ax.xaxis.set_tick_params(labelsize=12)\n",
    "ax.yaxis.set_tick_params(labelsize=12)\n",
    "plt.legend(bbox_to_anchor=(1.05, 1.0), fontsize=12, title=\"Minimum examples by period\")\n",
    "plt.ylabel(\"AUC\", fontsize=15)\n",
    "plt.xlabel(\"Year\", fontsize=15)\n",
    "\n",
    "x_labels = np.sort(out_of_time[TIME_COLUMN].unique())\n",
    "plt.xticks(x_labels)\n",
    "\n",
    "plt.savefig(\"../images/kickstarter_holdout_dif_min_samples_benchmark_challenger.eps\", format=\"eps\", bbox_inches = \"tight\")\n",
    "plt.show()"
   ]
  },
  {
   "cell_type": "code",
   "execution_count": null,
   "metadata": {
    "ExecuteTime": {
     "end_time": "2021-08-17T06:14:13.637188Z",
     "start_time": "2021-08-17T06:14:13.382120Z"
    }
   },
   "outputs": [],
   "source": [
    "fig, ax = plt.subplots()\n",
    "plt.plot(min_sample_periods_values, min_sample_knob[\"challenger\"][\"train_performance\"], label=\"TRF Train\",\n",
    "        color=\"#4c72b0\", linestyle=\"dashed\")\n",
    "plt.plot(min_sample_periods_values, min_sample_knob[\"challenger\"][\"test_performance\"], label=\"TRF Test\", \n",
    "         color=\"magenta\",\n",
    "         linestyle=\"dashed\")\n",
    "plt.plot(min_sample_periods_values, min_sample_knob[\"challenger\"][\"unseen_performance\"], label=\"TRF Holdout\", \n",
    "                                                         linestyle=\"dashed\",\n",
    "                                                         color=\"green\")\n",
    "\n",
    "plt.plot(min_sample_periods_values, min_sample_knob[\"benchmark\"][\"train_performance\"], label=\"RF Train\",\n",
    "        color=\"#4c72b0\")\n",
    "plt.plot(min_sample_periods_values, min_sample_knob[\"benchmark\"][\"test_performance\"], label=\"RF Test\", \n",
    "         color=\"magenta\")\n",
    "plt.plot(min_sample_periods_values, min_sample_knob[\"benchmark\"][\"unseen_performance\"], label=\"RF Holdout\", \n",
    "                                                         color=\"green\")\n",
    "\n",
    "#plt.title(\"Holdout AUC by minimum examples by period parameter\", fontsize=15)\n",
    "ax.xaxis.set_tick_params(labelsize=12)\n",
    "ax.yaxis.set_tick_params(labelsize=12)\n",
    "xmin, xmax, ymin, ymax = plt.axis()\n",
    "plt.ylim([ymin, ymax])\n",
    "plt.legend(fontsize=15)\n",
    "plt.ylabel(\"AUC\", fontsize=15)\n",
    "plt.xlabel(\"Minimum examples by period\", fontsize=15)\n",
    "plt.savefig(\"../images/kickstarter_test_min_example_by_period_train_and_holdout_whole_bench_challenger.eps\", format=\"eps\")\n",
    "plt.show()"
   ]
  },
  {
   "cell_type": "code",
   "execution_count": null,
   "metadata": {
    "ExecuteTime": {
     "end_time": "2021-08-17T06:14:13.821068Z",
     "start_time": "2021-08-17T06:14:13.639300Z"
    }
   },
   "outputs": [],
   "source": [
    "fig, ax = plt.subplots()\n",
    "\n",
    "plt.plot(min_sample_periods_values, min_sample_knob[\"challenger\"][\"unseen_performance\"], label=\"TRF Holdout\", \n",
    "                                                         linestyle=\"dashed\",\n",
    "                                                         color=\"green\")\n",
    "\n",
    "plt.plot(min_sample_periods_values, min_sample_knob[\"benchmark\"][\"unseen_performance\"], label=\"RF Holdout\", \n",
    "                                                         color=\"green\")\n",
    "\n",
    "#plt.title(\"Holdout AUC by minimum examples by period parameter\", fontsize=15)\n",
    "ax.xaxis.set_tick_params(labelsize=12)\n",
    "ax.yaxis.set_tick_params(labelsize=12)\n",
    "xmin, xmax, ymin, ymax = plt.axis()\n",
    "plt.ylim([ymin, ymax])\n",
    "plt.legend(fontsize=15)\n",
    "plt.ylabel(\"AUC\", fontsize=15)\n",
    "plt.xlabel(\"Minimum examples by period\", fontsize=15)\n",
    "plt.savefig(\"../images/kickstarter_holdout_min_example_by_period_train_and_holdout_whole_bench_challenger.eps\", format=\"eps\")\n",
    "plt.show()"
   ]
  },
  {
   "cell_type": "markdown",
   "metadata": {},
   "source": [
    "## Domain classifier"
   ]
  },
  {
   "cell_type": "code",
   "execution_count": null,
   "metadata": {
    "ExecuteTime": {
     "end_time": "2021-08-17T06:14:13.829024Z",
     "start_time": "2021-08-17T06:14:13.823078Z"
    }
   },
   "outputs": [],
   "source": [
    "train[\"domain\"] = 1\n",
    "test[\"domain\"] = 1\n",
    "out_of_time[\"domain\"] = 0"
   ]
  },
  {
   "cell_type": "code",
   "execution_count": null,
   "metadata": {
    "ExecuteTime": {
     "end_time": "2021-08-17T06:14:14.046442Z",
     "start_time": "2021-08-17T06:14:13.830420Z"
    }
   },
   "outputs": [],
   "source": [
    "domain_data = pd.concat([train, test, out_of_time])"
   ]
  },
  {
   "cell_type": "code",
   "execution_count": null,
   "metadata": {
    "ExecuteTime": {
     "end_time": "2021-08-17T06:14:14.323934Z",
     "start_time": "2021-08-17T06:14:14.048297Z"
    }
   },
   "outputs": [],
   "source": [
    "train_domain, test_domain = train_test_split(domain_data, \n",
    "                               test_size=0.2,\n",
    "                               random_state=42)\n",
    "\n"
   ]
  },
  {
   "cell_type": "code",
   "execution_count": null,
   "metadata": {
    "ExecuteTime": {
     "end_time": "2021-08-17T06:29:31.249303Z",
     "start_time": "2021-08-17T06:14:14.325790Z"
    }
   },
   "outputs": [],
   "source": [
    "clf2 = setup(train_domain[features + [\"domain\"]], target=\"domain\",\n",
    "             session_id=123, \n",
    "             log_experiment=False, \n",
    "             experiment_name=\"kickstarter_domain\",\n",
    "             silent=True)\n",
    "\n",
    "rf = create_model('rf')\n",
    "tuned_domain_rf = tune_model(rf,\n",
    "                             optimize=\"AUC\",\n",
    "                             fold=5,\n",
    "                             n_iter=50)"
   ]
  },
  {
   "cell_type": "code",
   "execution_count": null,
   "metadata": {
    "ExecuteTime": {
     "end_time": "2021-08-17T06:29:31.261980Z",
     "start_time": "2021-08-17T06:29:31.259165Z"
    }
   },
   "outputs": [],
   "source": [
    "domain_model = tuned_domain_rf"
   ]
  },
  {
   "cell_type": "code",
   "execution_count": null,
   "metadata": {
    "ExecuteTime": {
     "end_time": "2021-08-17T06:29:43.693952Z",
     "start_time": "2021-08-17T06:29:31.265315Z"
    }
   },
   "outputs": [],
   "source": [
    "domain_model.fit(train_domain[features], train_domain[\"domain\"])"
   ]
  },
  {
   "cell_type": "code",
   "execution_count": null,
   "metadata": {
    "ExecuteTime": {
     "end_time": "2021-08-17T06:29:43.918199Z",
     "start_time": "2021-08-17T06:29:43.695782Z"
    }
   },
   "outputs": [],
   "source": [
    "test_domain[\"pred_domain\"] = domain_model.predict_proba(test_domain[features])[:, 1]"
   ]
  },
  {
   "cell_type": "code",
   "execution_count": null,
   "metadata": {
    "ExecuteTime": {
     "end_time": "2021-08-17T06:29:43.944478Z",
     "start_time": "2021-08-17T06:29:43.919598Z"
    }
   },
   "outputs": [],
   "source": [
    "roc_auc_score(test_domain[\"domain\"], test_domain[\"pred_domain\"])"
   ]
  },
  {
   "cell_type": "code",
   "execution_count": null,
   "metadata": {
    "ExecuteTime": {
     "end_time": "2021-08-17T06:29:43.948183Z",
     "start_time": "2021-08-17T06:29:43.946073Z"
    }
   },
   "outputs": [],
   "source": [
    "#.78"
   ]
  },
  {
   "cell_type": "markdown",
   "metadata": {},
   "source": [
    "## Other optimization designs for the RF"
   ]
  },
  {
   "cell_type": "code",
   "execution_count": null,
   "metadata": {
    "ExecuteTime": {
     "end_time": "2021-08-17T13:52:49.022839Z",
     "start_time": "2021-08-17T13:52:48.993464Z"
    }
   },
   "outputs": [],
   "source": [
    "new_train = in_time[in_time[\"Year\"] < 2013]\n",
    "new_validation = in_time[in_time[\"Year\"] == 2013]"
   ]
  },
  {
   "cell_type": "code",
   "execution_count": null,
   "metadata": {
    "ExecuteTime": {
     "end_time": "2021-08-17T14:02:16.455177Z",
     "start_time": "2021-08-17T13:52:52.434865Z"
    }
   },
   "outputs": [],
   "source": [
    "clf1 = setup(new_train[features + [TARGET]], target=\"target\",\n",
    "             test_data=new_validation,\n",
    "             session_id=3,\n",
    "             log_experiment=False,\n",
    "             experiment_name=\"kickstarter_opt1\",\n",
    "             silent=True)\n",
    "\n",
    "rf = create_model('rf')\n",
    "tuned_rf = tune_model(rf,\n",
    "                     optimize=\"AUC\",\n",
    "                     n_iter=50)"
   ]
  },
  {
   "cell_type": "code",
   "execution_count": null,
   "metadata": {
    "ExecuteTime": {
     "end_time": "2021-08-17T14:02:16.464717Z",
     "start_time": "2021-08-17T14:02:16.458357Z"
    }
   },
   "outputs": [],
   "source": [
    "tuned_rf"
   ]
  },
  {
   "cell_type": "code",
   "execution_count": null,
   "metadata": {
    "ExecuteTime": {
     "end_time": "2021-08-17T14:02:27.123407Z",
     "start_time": "2021-08-17T14:02:16.469455Z"
    }
   },
   "outputs": [],
   "source": [
    "benchmark_model = tuned_rf\n",
    "benchmark_model.fit(train[features], train[TARGET])\n",
    "\n",
    "train[\"benchmark_prediction_opt_2013\"] = benchmark_model.predict_proba(train[features])[:, 1]\n",
    "test[\"benchmark_prediction_opt_2013\"] = benchmark_model.predict_proba(test[features])[:, 1]\n",
    "out_of_time[\"benchmark_prediction_opt_2013\"] = benchmark_model.predict_proba(out_of_time[features])[:, 1]"
   ]
  },
  {
   "cell_type": "code",
   "execution_count": null,
   "metadata": {
    "ExecuteTime": {
     "end_time": "2021-08-17T13:23:17.456396Z",
     "start_time": "2021-08-17T13:23:17.318602Z"
    }
   },
   "outputs": [],
   "source": [
    "new_validation, add_to_train = train_test_split(new_validation, test_size=0.5)\n",
    "\n",
    "new_train = pd.concat([new_train, add_to_train])"
   ]
  },
  {
   "cell_type": "code",
   "execution_count": null,
   "metadata": {
    "ExecuteTime": {
     "end_time": "2021-08-17T13:37:08.894825Z",
     "start_time": "2021-08-17T13:23:17.459007Z"
    }
   },
   "outputs": [],
   "source": [
    "clf1 = setup(new_train[features + [TARGET]], target=\"target\",\n",
    "             test_data=new_validation,\n",
    "             session_id=2,\n",
    "             log_experiment=False,\n",
    "             experiment_name=\"kickstarter_opt2\",\n",
    "             silent=True)\n",
    "\n",
    "rf = create_model('rf')\n",
    "tuned_rf = tune_model(rf,\n",
    "                     optimize=\"AUC\",\n",
    "                     n_iter=50)"
   ]
  },
  {
   "cell_type": "code",
   "execution_count": null,
   "metadata": {},
   "outputs": [],
   "source": [
    "tuned_rf"
   ]
  },
  {
   "cell_type": "code",
   "execution_count": null,
   "metadata": {
    "ExecuteTime": {
     "end_time": "2021-08-17T13:37:11.185304Z",
     "start_time": "2021-08-17T13:37:08.899024Z"
    }
   },
   "outputs": [],
   "source": [
    "benchmark_model = tuned_rf\n",
    "benchmark_model.fit(train[features], train[TARGET])\n",
    "\n",
    "train[\"benchmark_prediction_opt_half_2013\"] = benchmark_model.predict_proba(train[features])[:, 1]\n",
    "test[\"benchmark_prediction_opt_half_2013\"] = benchmark_model.predict_proba(test[features])[:, 1]\n",
    "out_of_time[\"benchmark_prediction_opt_half_2013\"] = benchmark_model.predict_proba(out_of_time[features])[:, 1]"
   ]
  },
  {
   "cell_type": "code",
   "execution_count": null,
   "metadata": {
    "ExecuteTime": {
     "end_time": "2021-08-17T14:56:49.505497Z",
     "start_time": "2021-08-17T14:56:45.532816Z"
    }
   },
   "outputs": [],
   "source": [
    "fig, ax = plt.subplots()\n",
    "pd.concat([test, out_of_time]).groupby(TIME_COLUMN).apply(lambda x: roc_auc_score(x[TARGET], x[\"challenger_prediction\"])).plot(label=\"Time Robust Forest\", \n",
    "                                                                                                      linestyle=\"dashed\",\n",
    "                                                                                                      color=\"green\", ax=ax)\n",
    "\n",
    "pd.concat([test, out_of_time]).groupby(TIME_COLUMN).apply(lambda x: roc_auc_score(x[TARGET], x[\"benchmark_prediction_opt_half_2013\"])).plot(label=\"RF: Half 2013 in validation\", \n",
    "                                                                                                      #linestyle=\"dashed\",\n",
    "                                                                                                      color=\"purple\", ax=ax)\n",
    "pd.concat([test, out_of_time]).groupby(TIME_COLUMN).apply(lambda x: roc_auc_score(x[TARGET], x[\"benchmark_prediction_opt\"])).plot(label=\"RF: K-fold in the in-time\", ax=ax)\n",
    "pd.concat([test, out_of_time]).groupby(TIME_COLUMN).apply(lambda x: roc_auc_score(x[TARGET], x[\"benchmark_prediction_opt_2013\"])).plot(label=\"RF: Full 2013 in validation\", ax=ax)\n",
    "\n",
    "ax.xaxis.set_tick_params(labelsize=12)\n",
    "ax.yaxis.set_tick_params(labelsize=12)\n",
    "\n",
    "xmin, xmax, ymin, ymax = plt.axis()\n",
    "plt.vlines(training_end_year + 1, ymin, ymax, linestyle=\"dotted\", color=\"red\", label=\"Holdout start\")\n",
    "plt.ylim([ymin, ymax])\n",
    "plt.legend(fontsize=15, bbox_to_anchor=(1.0, 1.0))\n",
    "plt.ylabel(\"AUC\", fontsize=15)\n",
    "plt.xlabel(\"Year\", fontsize=15)\n",
    "plt.savefig(\"../images/kickstarter_performance_proof.eps\", format=\"eps\", bbox_inches = \"tight\")\n",
    "plt.show()"
   ]
  }
 ],
 "metadata": {
  "hide_input": false,
  "kernelspec": {
   "display_name": "Python [conda env:.conda-msc]",
   "language": "python",
   "name": "conda-env-.conda-msc-py"
  },
  "language_info": {
   "codemirror_mode": {
    "name": "ipython",
    "version": 3
   },
   "file_extension": ".py",
   "mimetype": "text/x-python",
   "name": "python",
   "nbconvert_exporter": "python",
   "pygments_lexer": "ipython3",
   "version": "3.6.3"
  },
  "toc": {
   "base_numbering": 1,
   "nav_menu": {},
   "number_sections": true,
   "sideBar": true,
   "skip_h1_title": true,
   "title_cell": "Index",
   "title_sidebar": "Contents",
   "toc_cell": true,
   "toc_position": {
    "height": "calc(100% - 180px)",
    "left": "10px",
    "top": "150px",
    "width": "162px"
   },
   "toc_section_display": true,
   "toc_window_display": true
  }
 },
 "nbformat": 4,
 "nbformat_minor": 5
}
