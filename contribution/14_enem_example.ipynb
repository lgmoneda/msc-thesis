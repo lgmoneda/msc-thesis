{
 "cells": [
  {
   "cell_type": "markdown",
   "id": "downtown-techno",
   "metadata": {},
   "source": [
    "# Example - ENEM"
   ]
  },
  {
   "cell_type": "markdown",
   "id": "third-anthony",
   "metadata": {
    "toc": true
   },
   "source": [
    "<h1>Index<span class=\"tocSkip\"></span></h1>\n",
    "<div class=\"toc\"><ul class=\"toc-item\"><li><span><a href=\"#Creating-the-target\" data-toc-modified-id=\"Creating-the-target-1\"><span class=\"toc-item-num\">1&nbsp;&nbsp;</span>Creating the target</a></span></li><li><span><a href=\"#Modeling\" data-toc-modified-id=\"Modeling-2\"><span class=\"toc-item-num\">2&nbsp;&nbsp;</span>Modeling</a></span><ul class=\"toc-item\"><li><span><a href=\"#Data\" data-toc-modified-id=\"Data-2.1\"><span class=\"toc-item-num\">2.1&nbsp;&nbsp;</span>Data</a></span></li></ul></li><li><span><a href=\"#Checking-the-support-in-the-different-environments\" data-toc-modified-id=\"Checking-the-support-in-the-different-environments-3\"><span class=\"toc-item-num\">3&nbsp;&nbsp;</span>Checking the support in the different environments</a></span><ul class=\"toc-item\"><li><span><a href=\"#Benchmark\" data-toc-modified-id=\"Benchmark-3.1\"><span class=\"toc-item-num\">3.1&nbsp;&nbsp;</span>Benchmark</a></span></li></ul></li><li><span><a href=\"#Challenger-model\" data-toc-modified-id=\"Challenger-model-4\"><span class=\"toc-item-num\">4&nbsp;&nbsp;</span>Challenger model</a></span></li><li><span><a href=\"#Feature-Importance-migration\" data-toc-modified-id=\"Feature-Importance-migration-5\"><span class=\"toc-item-num\">5&nbsp;&nbsp;</span>Feature Importance migration</a></span></li><li><span><a href=\"#Reverse-Learning-Curve\" data-toc-modified-id=\"Reverse-Learning-Curve-6\"><span class=\"toc-item-num\">6&nbsp;&nbsp;</span>Reverse Learning Curve</a></span></li><li><span><a href=\"#Performance-comparison\" data-toc-modified-id=\"Performance-comparison-7\"><span class=\"toc-item-num\">7&nbsp;&nbsp;</span>Performance comparison</a></span></li><li><span><a href=\"#TRF-as-feature-selection\" data-toc-modified-id=\"TRF-as-feature-selection-8\"><span class=\"toc-item-num\">8&nbsp;&nbsp;</span>TRF as feature selection</a></span></li><li><span><a href=\"#Feature-Impact\" data-toc-modified-id=\"Feature-Impact-9\"><span class=\"toc-item-num\">9&nbsp;&nbsp;</span>Feature Impact</a></span></li><li><span><a href=\"#Minimum-samples-by-period-effect\" data-toc-modified-id=\"Minimum-samples-by-period-effect-10\"><span class=\"toc-item-num\">10&nbsp;&nbsp;</span>Minimum samples by period effect</a></span></li><li><span><a href=\"#Domain-classifier\" data-toc-modified-id=\"Domain-classifier-11\"><span class=\"toc-item-num\">11&nbsp;&nbsp;</span>Domain classifier</a></span></li><li><span><a href=\"#Other-optimization-design-for-the-RF\" data-toc-modified-id=\"Other-optimization-design-for-the-RF-12\"><span class=\"toc-item-num\">12&nbsp;&nbsp;</span>Other optimization design for the RF</a></span></li></ul></div>"
   ]
  },
  {
   "cell_type": "code",
   "execution_count": 1,
   "id": "altered-stopping",
   "metadata": {
    "ExecuteTime": {
     "end_time": "2021-09-22T06:20:39.066255Z",
     "start_time": "2021-09-22T06:20:36.525981Z"
    },
    "execution": {
     "iopub.execute_input": "2021-08-20T11:38:08.555368Z",
     "iopub.status.busy": "2021-08-20T11:38:08.555037Z",
     "iopub.status.idle": "2021-08-20T11:38:12.653586Z",
     "shell.execute_reply": "2021-08-20T11:38:12.652435Z",
     "shell.execute_reply.started": "2021-08-20T11:38:08.555337Z"
    }
   },
   "outputs": [],
   "source": [
    "import pandas as pd\n",
    "import matplotlib.pyplot as plt\n",
    "import numpy as np\n",
    "import shap\n",
    "import seaborn as sns\n",
    "\n",
    "from sklearn.preprocessing import LabelEncoder\n",
    "from sklearn.tree import DecisionTreeClassifier\n",
    "from sklearn.ensemble import RandomForestClassifier\n",
    "from sklearn.model_selection import train_test_split\n",
    "from sklearn.metrics import roc_auc_score\n",
    "from sklearn import metrics\n",
    "from time_robust_forest.models import TimeForestClassifier\n",
    "from time_robust_forest.functions import check_categoricals_match, check_numerical_match\n",
    "from models.aux_functions import *\n",
    "\n",
    "np.random.seed(42)"
   ]
  },
  {
   "cell_type": "code",
   "execution_count": 2,
   "id": "prompt-abuse",
   "metadata": {
    "ExecuteTime": {
     "end_time": "2021-09-22T06:20:39.070575Z",
     "start_time": "2021-09-22T06:20:39.067851Z"
    },
    "execution": {
     "iopub.execute_input": "2021-08-20T11:38:13.253164Z",
     "iopub.status.busy": "2021-08-20T11:38:13.252822Z",
     "iopub.status.idle": "2021-08-20T11:38:13.257262Z",
     "shell.execute_reply": "2021-08-20T11:38:13.256510Z",
     "shell.execute_reply.started": "2021-08-20T11:38:13.253133Z"
    }
   },
   "outputs": [],
   "source": [
    "def set_style():\n",
    "    plt.style.use(['seaborn-white', 'seaborn-paper'])\n",
    "    plt.rcParams['figure.figsize'] = (12, 4)"
   ]
  },
  {
   "cell_type": "code",
   "execution_count": 3,
   "id": "deadly-limitation",
   "metadata": {
    "ExecuteTime": {
     "end_time": "2021-09-22T06:20:39.075815Z",
     "start_time": "2021-09-22T06:20:39.073111Z"
    },
    "execution": {
     "iopub.execute_input": "2021-08-20T11:38:13.455940Z",
     "iopub.status.busy": "2021-08-20T11:38:13.455737Z",
     "iopub.status.idle": "2021-08-20T11:38:13.459390Z",
     "shell.execute_reply": "2021-08-20T11:38:13.458705Z",
     "shell.execute_reply.started": "2021-08-20T11:38:13.455919Z"
    }
   },
   "outputs": [],
   "source": [
    "set_style()"
   ]
  },
  {
   "cell_type": "code",
   "execution_count": 4,
   "id": "meaningful-personal",
   "metadata": {
    "ExecuteTime": {
     "end_time": "2021-09-22T06:20:39.081535Z",
     "start_time": "2021-09-22T06:20:39.078573Z"
    },
    "execution": {
     "iopub.execute_input": "2021-08-20T11:38:13.645901Z",
     "iopub.status.busy": "2021-08-20T11:38:13.645718Z",
     "iopub.status.idle": "2021-08-20T11:38:13.648691Z",
     "shell.execute_reply": "2021-08-20T11:38:13.648149Z",
     "shell.execute_reply.started": "2021-08-20T11:38:13.645880Z"
    }
   },
   "outputs": [],
   "source": [
    "DATASETS_PATH = \"~/Documents/datasets/enem/\"\n",
    "PREFIX = \"enem\""
   ]
  },
  {
   "cell_type": "code",
   "execution_count": 5,
   "id": "novel-visitor",
   "metadata": {
    "ExecuteTime": {
     "end_time": "2021-09-22T06:20:42.699228Z",
     "start_time": "2021-09-22T06:20:39.083616Z"
    }
   },
   "outputs": [],
   "source": [
    "data = pd.read_csv(DATASETS_PATH + \"enem_all_years.csv\")"
   ]
  },
  {
   "cell_type": "code",
   "execution_count": 6,
   "id": "pacific-principal",
   "metadata": {
    "ExecuteTime": {
     "end_time": "2021-09-22T06:20:43.040631Z",
     "start_time": "2021-09-22T06:20:42.701248Z"
    }
   },
   "outputs": [],
   "source": [
    "data = data.sample(frac=0.5)"
   ]
  },
  {
   "cell_type": "code",
   "execution_count": 7,
   "id": "confidential-improvement",
   "metadata": {
    "ExecuteTime": {
     "end_time": "2021-09-22T06:20:43.047680Z",
     "start_time": "2021-09-22T06:20:43.042750Z"
    }
   },
   "outputs": [
    {
     "data": {
      "text/plain": [
       "(168570, 135)"
      ]
     },
     "execution_count": 7,
     "metadata": {},
     "output_type": "execute_result"
    }
   ],
   "source": [
    "data.shape"
   ]
  },
  {
   "cell_type": "code",
   "execution_count": 8,
   "id": "thrown-prague",
   "metadata": {
    "ExecuteTime": {
     "end_time": "2021-09-22T06:20:43.670224Z",
     "start_time": "2021-09-22T06:20:43.051717Z"
    }
   },
   "outputs": [
    {
     "data": {
      "text/plain": [
       "Unnamed: 0                 167117\n",
       "IN_TREINEIRO                    2\n",
       "NO_MUNICIPIO_NASCIMENTO      4502\n",
       "TX_RESPOSTAS_CH            122634\n",
       "Q006                           17\n",
       "                            ...  \n",
       "IN_ACESSO                       2\n",
       "IN_LEDOR                        2\n",
       "NU_NOTA_COMP1                  17\n",
       "Q005                           20\n",
       "IN_DISCALCULIA                  2\n",
       "Length: 135, dtype: int64"
      ]
     },
     "execution_count": 8,
     "metadata": {},
     "output_type": "execute_result"
    }
   ],
   "source": [
    "data.nunique()"
   ]
  },
  {
   "cell_type": "code",
   "execution_count": 9,
   "id": "shaped-joshua",
   "metadata": {
    "ExecuteTime": {
     "end_time": "2021-09-22T06:20:43.702030Z",
     "start_time": "2021-09-22T06:20:43.673319Z"
    }
   },
   "outputs": [
    {
     "data": {
      "text/html": [
       "<div>\n",
       "<style scoped>\n",
       "    .dataframe tbody tr th:only-of-type {\n",
       "        vertical-align: middle;\n",
       "    }\n",
       "\n",
       "    .dataframe tbody tr th {\n",
       "        vertical-align: top;\n",
       "    }\n",
       "\n",
       "    .dataframe thead th {\n",
       "        text-align: right;\n",
       "    }\n",
       "</style>\n",
       "<table border=\"1\" class=\"dataframe\">\n",
       "  <thead>\n",
       "    <tr style=\"text-align: right;\">\n",
       "      <th></th>\n",
       "      <th>Unnamed: 0</th>\n",
       "      <th>IN_TREINEIRO</th>\n",
       "      <th>NO_MUNICIPIO_NASCIMENTO</th>\n",
       "      <th>TX_RESPOSTAS_CH</th>\n",
       "      <th>Q006</th>\n",
       "      <th>IN_SONDA</th>\n",
       "      <th>Q012</th>\n",
       "      <th>Q023</th>\n",
       "      <th>CO_ESCOLA</th>\n",
       "      <th>NO_MUNICIPIO_RESIDENCIA</th>\n",
       "      <th>...</th>\n",
       "      <th>IN_SALA_ACOMPANHANTE</th>\n",
       "      <th>IN_MAQUINA_BRAILE</th>\n",
       "      <th>IN_MOBILIARIO_ESPECIFICO</th>\n",
       "      <th>Q002</th>\n",
       "      <th>TX_RESPOSTAS_LC</th>\n",
       "      <th>IN_ACESSO</th>\n",
       "      <th>IN_LEDOR</th>\n",
       "      <th>NU_NOTA_COMP1</th>\n",
       "      <th>Q005</th>\n",
       "      <th>IN_DISCALCULIA</th>\n",
       "    </tr>\n",
       "  </thead>\n",
       "  <tbody>\n",
       "    <tr>\n",
       "      <th>32685</th>\n",
       "      <td>7698531</td>\n",
       "      <td>0</td>\n",
       "      <td>Dois Irmãos</td>\n",
       "      <td>NaN</td>\n",
       "      <td>B</td>\n",
       "      <td>0</td>\n",
       "      <td>B</td>\n",
       "      <td>A</td>\n",
       "      <td>NaN</td>\n",
       "      <td>Dois Irmãos</td>\n",
       "      <td>...</td>\n",
       "      <td>0</td>\n",
       "      <td>0</td>\n",
       "      <td>0</td>\n",
       "      <td>C</td>\n",
       "      <td>NaN</td>\n",
       "      <td>0</td>\n",
       "      <td>0</td>\n",
       "      <td>0.0</td>\n",
       "      <td>4.0</td>\n",
       "      <td>0</td>\n",
       "    </tr>\n",
       "    <tr>\n",
       "      <th>217248</th>\n",
       "      <td>4681225</td>\n",
       "      <td>0</td>\n",
       "      <td>Carapicuíba</td>\n",
       "      <td>NaN</td>\n",
       "      <td>C</td>\n",
       "      <td>0</td>\n",
       "      <td>B</td>\n",
       "      <td>A</td>\n",
       "      <td>NaN</td>\n",
       "      <td>Iguatu</td>\n",
       "      <td>...</td>\n",
       "      <td>0</td>\n",
       "      <td>0</td>\n",
       "      <td>0</td>\n",
       "      <td>D</td>\n",
       "      <td>NaN</td>\n",
       "      <td>0</td>\n",
       "      <td>0</td>\n",
       "      <td>NaN</td>\n",
       "      <td>2.0</td>\n",
       "      <td>0</td>\n",
       "    </tr>\n",
       "    <tr>\n",
       "      <th>3945</th>\n",
       "      <td>6993724</td>\n",
       "      <td>0</td>\n",
       "      <td>Taquari</td>\n",
       "      <td>NaN</td>\n",
       "      <td>B</td>\n",
       "      <td>0</td>\n",
       "      <td>B</td>\n",
       "      <td>A</td>\n",
       "      <td>NaN</td>\n",
       "      <td>Taquari</td>\n",
       "      <td>...</td>\n",
       "      <td>0</td>\n",
       "      <td>0</td>\n",
       "      <td>0</td>\n",
       "      <td>C</td>\n",
       "      <td>NaN</td>\n",
       "      <td>0</td>\n",
       "      <td>0</td>\n",
       "      <td>0.0</td>\n",
       "      <td>2.0</td>\n",
       "      <td>0</td>\n",
       "    </tr>\n",
       "    <tr>\n",
       "      <th>298014</th>\n",
       "      <td>2659142</td>\n",
       "      <td>0</td>\n",
       "      <td>Barcarena</td>\n",
       "      <td>BBACABBAAEEEDCDBCEABEDBDAADAADEABEECAC.BDACBC</td>\n",
       "      <td>A</td>\n",
       "      <td>0</td>\n",
       "      <td>B</td>\n",
       "      <td>A</td>\n",
       "      <td>NaN</td>\n",
       "      <td>Barcarena</td>\n",
       "      <td>...</td>\n",
       "      <td>0</td>\n",
       "      <td>0</td>\n",
       "      <td>0</td>\n",
       "      <td>E</td>\n",
       "      <td>BAEED99999ABCDAEDEECCBBCBCBBDBEADBAAADEDEEDBCA...</td>\n",
       "      <td>0</td>\n",
       "      <td>0</td>\n",
       "      <td>100.0</td>\n",
       "      <td>3.0</td>\n",
       "      <td>0</td>\n",
       "    </tr>\n",
       "    <tr>\n",
       "      <th>102332</th>\n",
       "      <td>1117272</td>\n",
       "      <td>0</td>\n",
       "      <td>Uberlândia</td>\n",
       "      <td>DDBCADBDADDDABEAACCACAAABEDBABCBEEABAAAADCACE</td>\n",
       "      <td>E</td>\n",
       "      <td>0</td>\n",
       "      <td>B</td>\n",
       "      <td>B</td>\n",
       "      <td>NaN</td>\n",
       "      <td>Uberlândia</td>\n",
       "      <td>...</td>\n",
       "      <td>0</td>\n",
       "      <td>0</td>\n",
       "      <td>0</td>\n",
       "      <td>D</td>\n",
       "      <td>99999DDBDADADADCECDDBBCCBACBBAACCCBDCAEEDACBAE...</td>\n",
       "      <td>0</td>\n",
       "      <td>0</td>\n",
       "      <td>120.0</td>\n",
       "      <td>4.0</td>\n",
       "      <td>0</td>\n",
       "    </tr>\n",
       "  </tbody>\n",
       "</table>\n",
       "<p>5 rows × 135 columns</p>\n",
       "</div>"
      ],
      "text/plain": [
       "        Unnamed: 0  IN_TREINEIRO NO_MUNICIPIO_NASCIMENTO  \\\n",
       "32685      7698531             0             Dois Irmãos   \n",
       "217248     4681225             0             Carapicuíba   \n",
       "3945       6993724             0                 Taquari   \n",
       "298014     2659142             0               Barcarena   \n",
       "102332     1117272             0              Uberlândia   \n",
       "\n",
       "                                      TX_RESPOSTAS_CH Q006  IN_SONDA Q012  \\\n",
       "32685                                             NaN    B         0    B   \n",
       "217248                                            NaN    C         0    B   \n",
       "3945                                              NaN    B         0    B   \n",
       "298014  BBACABBAAEEEDCDBCEABEDBDAADAADEABEECAC.BDACBC    A         0    B   \n",
       "102332  DDBCADBDADDDABEAACCACAAABEDBABCBEEABAAAADCACE    E         0    B   \n",
       "\n",
       "       Q023  CO_ESCOLA NO_MUNICIPIO_RESIDENCIA  ...  IN_SALA_ACOMPANHANTE  \\\n",
       "32685     A        NaN             Dois Irmãos  ...                     0   \n",
       "217248    A        NaN                  Iguatu  ...                     0   \n",
       "3945      A        NaN                 Taquari  ...                     0   \n",
       "298014    A        NaN               Barcarena  ...                     0   \n",
       "102332    B        NaN              Uberlândia  ...                     0   \n",
       "\n",
       "        IN_MAQUINA_BRAILE IN_MOBILIARIO_ESPECIFICO  Q002  \\\n",
       "32685                   0                        0     C   \n",
       "217248                  0                        0     D   \n",
       "3945                    0                        0     C   \n",
       "298014                  0                        0     E   \n",
       "102332                  0                        0     D   \n",
       "\n",
       "                                          TX_RESPOSTAS_LC IN_ACESSO  IN_LEDOR  \\\n",
       "32685                                                 NaN         0         0   \n",
       "217248                                                NaN         0         0   \n",
       "3945                                                  NaN         0         0   \n",
       "298014  BAEED99999ABCDAEDEECCBBCBCBBDBEADBAAADEDEEDBCA...         0         0   \n",
       "102332  99999DDBDADADADCECDDBBCCBACBBAACCCBDCAEEDACBAE...         0         0   \n",
       "\n",
       "        NU_NOTA_COMP1 Q005  IN_DISCALCULIA  \n",
       "32685             0.0  4.0               0  \n",
       "217248            NaN  2.0               0  \n",
       "3945              0.0  2.0               0  \n",
       "298014          100.0  3.0               0  \n",
       "102332          120.0  4.0               0  \n",
       "\n",
       "[5 rows x 135 columns]"
      ]
     },
     "execution_count": 9,
     "metadata": {},
     "output_type": "execute_result"
    }
   ],
   "source": [
    "data.head()"
   ]
  },
  {
   "cell_type": "markdown",
   "id": "existing-moment",
   "metadata": {},
   "source": [
    "## Creating the target"
   ]
  },
  {
   "cell_type": "code",
   "execution_count": 10,
   "id": "human-venue",
   "metadata": {
    "ExecuteTime": {
     "end_time": "2021-09-22T06:20:43.742129Z",
     "start_time": "2021-09-22T06:20:43.704292Z"
    }
   },
   "outputs": [],
   "source": [
    "data[\"NOTA_TOTAL\"] = data[[\"NU_NOTA_COMP{}\".format(i) for i in range(1, 6)]].sum(axis=1)"
   ]
  },
  {
   "cell_type": "code",
   "execution_count": 11,
   "id": "innocent-pressure",
   "metadata": {
    "ExecuteTime": {
     "end_time": "2021-09-22T06:20:43.903568Z",
     "start_time": "2021-09-22T06:20:43.744228Z"
    }
   },
   "outputs": [
    {
     "data": {
      "text/plain": [
       "<AxesSubplot:>"
      ]
     },
     "execution_count": 11,
     "metadata": {},
     "output_type": "execute_result"
    },
    {
     "data": {
      "image/png": "[encoded data removed]",
      "text/plain": [
       "<Figure size 864x288 with 1 Axes>"
      ]
     },
     "metadata": {},
     "output_type": "display_data"
    }
   ],
   "source": [
    "data[\"NOTA_TOTAL\"].hist()"
   ]
  },
  {
   "cell_type": "code",
   "execution_count": 12,
   "id": "illegal-nowhere",
   "metadata": {
    "ExecuteTime": {
     "end_time": "2021-09-22T06:20:43.914158Z",
     "start_time": "2021-09-22T06:20:43.905241Z"
    }
   },
   "outputs": [],
   "source": [
    "median_grade = data.groupby(\"NU_ANO\")[\"NOTA_TOTAL\"].median()"
   ]
  },
  {
   "cell_type": "code",
   "execution_count": 13,
   "id": "brown-montreal",
   "metadata": {
    "ExecuteTime": {
     "end_time": "2021-09-22T06:20:43.920306Z",
     "start_time": "2021-09-22T06:20:43.915742Z"
    }
   },
   "outputs": [
    {
     "data": {
      "text/plain": [
       "NU_ANO\n",
       "2015    480.0\n",
       "2016    460.0\n",
       "2017    460.0\n",
       "2018    400.0\n",
       "2019    520.0\n",
       "Name: MEDIAN_NOTA, dtype: float64"
      ]
     },
     "execution_count": 13,
     "metadata": {},
     "output_type": "execute_result"
    }
   ],
   "source": [
    "median_grade.rename(\"MEDIAN_NOTA\", inplace=True)"
   ]
  },
  {
   "cell_type": "code",
   "execution_count": 14,
   "id": "established-california",
   "metadata": {
    "ExecuteTime": {
     "end_time": "2021-09-22T06:20:48.106905Z",
     "start_time": "2021-09-22T06:20:43.921999Z"
    }
   },
   "outputs": [],
   "source": [
    "data = data.merge(median_grade, left_on=\"NU_ANO\", right_index=True)"
   ]
  },
  {
   "cell_type": "code",
   "execution_count": 15,
   "id": "palestinian-peeing",
   "metadata": {
    "ExecuteTime": {
     "end_time": "2021-09-22T06:20:48.128848Z",
     "start_time": "2021-09-22T06:20:48.108620Z"
    }
   },
   "outputs": [],
   "source": [
    "data[\"target\"] = (data[\"NOTA_TOTAL\"] >= data[\"MEDIAN_NOTA\"]).astype(int)"
   ]
  },
  {
   "cell_type": "code",
   "execution_count": 16,
   "id": "personal-barcelona",
   "metadata": {
    "ExecuteTime": {
     "end_time": "2021-09-22T06:20:48.137423Z",
     "start_time": "2021-09-22T06:20:48.131705Z"
    }
   },
   "outputs": [
    {
     "data": {
      "text/plain": [
       "0.5179332028237528"
      ]
     },
     "execution_count": 16,
     "metadata": {},
     "output_type": "execute_result"
    }
   ],
   "source": [
    "data[\"target\"].mean()"
   ]
  },
  {
   "cell_type": "markdown",
   "id": "vulnerable-lexington",
   "metadata": {},
   "source": [
    "## Modeling"
   ]
  },
  {
   "cell_type": "markdown",
   "id": "worse-situation",
   "metadata": {},
   "source": [
    "### Data"
   ]
  },
  {
   "cell_type": "code",
   "execution_count": 17,
   "id": "brazilian-checkout",
   "metadata": {
    "ExecuteTime": {
     "end_time": "2021-09-22T06:20:48.144851Z",
     "start_time": "2021-09-22T06:20:48.139658Z"
    }
   },
   "outputs": [
    {
     "data": {
      "text/plain": [
       "['CO_ESCOLA',\n",
       " 'CO_UF_RESIDENCIA',\n",
       " 'CO_PROVA_LC',\n",
       " 'CO_PROVA_CH',\n",
       " 'CO_PROVA_CN',\n",
       " 'CO_MUNICIPIO_NASCIMENTO',\n",
       " 'CO_UF_PROVA',\n",
       " 'CO_UF_NASCIMENTO',\n",
       " 'CO_MUNICIPIO_PROVA',\n",
       " 'CO_MUNICIPIO_ESC',\n",
       " 'CO_PROVA_MT',\n",
       " 'CO_UF_ESC',\n",
       " 'CO_MUNICIPIO_RESIDENCIA']"
      ]
     },
     "execution_count": 17,
     "metadata": {},
     "output_type": "execute_result"
    }
   ],
   "source": [
    "[col for col in data.columns if \"CO_\" in col]"
   ]
  },
  {
   "cell_type": "code",
   "execution_count": 18,
   "id": "lovely-shuttle",
   "metadata": {
    "ExecuteTime": {
     "end_time": "2021-09-22T06:20:48.152744Z",
     "start_time": "2021-09-22T06:20:48.147521Z"
    }
   },
   "outputs": [
    {
     "data": {
      "text/plain": [
       "['TP_STATUS_REDACAO',\n",
       " 'TP_ST_CONCLUSAO',\n",
       " 'TP_SIT_FUNC_ESC',\n",
       " 'TP_PRESENCA_MT',\n",
       " 'TP_ESCOLA',\n",
       " 'TP_COR_RACA',\n",
       " 'TP_PRESENCA_CN',\n",
       " 'TP_PRESENCA_LC',\n",
       " 'TP_LOCALIZACAO_ESC',\n",
       " 'TP_DEPENDENCIA_ADM_ESC',\n",
       " 'TP_SEXO',\n",
       " 'TP_ENSINO',\n",
       " 'TP_PRESENCA_CH',\n",
       " 'TP_ANO_CONCLUIU',\n",
       " 'TP_LINGUA',\n",
       " 'TP_NACIONALIDADE',\n",
       " 'TP_ESTADO_CIVIL']"
      ]
     },
     "execution_count": 18,
     "metadata": {},
     "output_type": "execute_result"
    }
   ],
   "source": [
    "[col for col in data.columns if \"TP_\" in col]"
   ]
  },
  {
   "cell_type": "code",
   "execution_count": 19,
   "id": "professional-casting",
   "metadata": {
    "ExecuteTime": {
     "end_time": "2021-09-22T06:20:48.158085Z",
     "start_time": "2021-09-22T06:20:48.155264Z"
    }
   },
   "outputs": [],
   "source": [
    "TIME_COLUMN = \"Year\"\n",
    "TARGET = \"target\""
   ]
  },
  {
   "cell_type": "code",
   "execution_count": 20,
   "id": "fifth-jewelry",
   "metadata": {
    "ExecuteTime": {
     "end_time": "2021-09-22T06:20:48.163488Z",
     "start_time": "2021-09-22T06:20:48.160449Z"
    }
   },
   "outputs": [],
   "source": [
    "columns_to_label_encode = [\"TP_SEXO\"] + [\"Q{}\".format(str(i).zfill(3)) for i in range(1, 26)]"
   ]
  },
  {
   "cell_type": "code",
   "execution_count": 22,
   "id": "honey-device",
   "metadata": {
    "ExecuteTime": {
     "end_time": "2021-09-22T06:21:14.074197Z",
     "start_time": "2021-09-22T06:21:07.372976Z"
    }
   },
   "outputs": [
    {
     "name": "stdout",
     "output_type": "stream",
     "text": [
      "TP_SEXO\n"
     ]
    },
    {
     "name": "stderr",
     "output_type": "stream",
     "text": [
      "A column-vector y was passed when a 1d array was expected. Please change the shape of y to (n_samples, ), for example using ravel().\n"
     ]
    },
    {
     "name": "stdout",
     "output_type": "stream",
     "text": [
      "Q001\n",
      "Q002\n",
      "Q003\n",
      "Q004\n",
      "Q005\n",
      "Q006\n",
      "Q007\n",
      "Q008\n",
      "Q009\n",
      "Q010\n",
      "Q011\n",
      "Q012\n",
      "Q013\n",
      "Q014\n",
      "Q015\n",
      "Q016\n",
      "Q017\n",
      "Q018\n",
      "Q019\n",
      "Q020\n",
      "Q021\n",
      "Q022\n",
      "Q023\n",
      "Q024\n",
      "Q025\n"
     ]
    }
   ],
   "source": [
    "encoder_mappings = {}\n",
    "le = LabelEncoder()\n",
    "for column in columns_to_label_encode:\n",
    "    print(column)\n",
    "    data[column].fillna(\"None\", inplace=True)\n",
    "    data[column] = data[column].astype(str)\n",
    "    data[column] = le.fit_transform(data[[column]])\n",
    "    encoder_mappings[column] = {i: le.__dict__[\"classes_\"][i] for i in range(len(le.__dict__[\"classes_\"]))}"
   ]
  },
  {
   "cell_type": "code",
   "execution_count": 23,
   "id": "universal-defense",
   "metadata": {
    "ExecuteTime": {
     "end_time": "2021-09-22T06:21:15.176455Z",
     "start_time": "2021-09-22T06:21:15.171166Z"
    }
   },
   "outputs": [],
   "source": [
    "numerical_features = [\"CO_UF_PROVA\",\n",
    "                      \"CO_UF_NASCIMENTO\",\n",
    "                      \"CO_UF_RESIDENCIA\",\n",
    "                      \"NU_IDADE\",\n",
    "                      \"IN_SEM_RECURSO\",\n",
    "                      \"TP_ESTADO_CIVIL\"] "
   ]
  },
  {
   "cell_type": "code",
   "execution_count": 24,
   "id": "northern-python",
   "metadata": {
    "ExecuteTime": {
     "end_time": "2021-09-22T06:21:15.922062Z",
     "start_time": "2021-09-22T06:21:15.752725Z"
    }
   },
   "outputs": [
    {
     "data": {
      "text/plain": [
       "CO_UF_PROVA           int64\n",
       "CO_UF_NASCIMENTO    float64\n",
       "CO_UF_RESIDENCIA      int64\n",
       "NU_IDADE            float64\n",
       "IN_SEM_RECURSO        int64\n",
       "TP_ESTADO_CIVIL     float64\n",
       "dtype: object"
      ]
     },
     "execution_count": 24,
     "metadata": {},
     "output_type": "execute_result"
    }
   ],
   "source": [
    "data[numerical_features].dtypes"
   ]
  },
  {
   "cell_type": "code",
   "execution_count": 25,
   "id": "sustained-stadium",
   "metadata": {
    "ExecuteTime": {
     "end_time": "2021-09-22T06:21:15.936852Z",
     "start_time": "2021-09-22T06:21:15.924453Z"
    }
   },
   "outputs": [
    {
     "data": {
      "text/html": [
       "<div>\n",
       "<style scoped>\n",
       "    .dataframe tbody tr th:only-of-type {\n",
       "        vertical-align: middle;\n",
       "    }\n",
       "\n",
       "    .dataframe tbody tr th {\n",
       "        vertical-align: top;\n",
       "    }\n",
       "\n",
       "    .dataframe thead th {\n",
       "        text-align: right;\n",
       "    }\n",
       "</style>\n",
       "<table border=\"1\" class=\"dataframe\">\n",
       "  <thead>\n",
       "    <tr style=\"text-align: right;\">\n",
       "      <th></th>\n",
       "      <th>CO_UF_PROVA</th>\n",
       "      <th>CO_UF_NASCIMENTO</th>\n",
       "      <th>CO_UF_RESIDENCIA</th>\n",
       "      <th>NU_IDADE</th>\n",
       "      <th>IN_SEM_RECURSO</th>\n",
       "      <th>TP_ESTADO_CIVIL</th>\n",
       "    </tr>\n",
       "  </thead>\n",
       "  <tbody>\n",
       "    <tr>\n",
       "      <th>32685</th>\n",
       "      <td>43</td>\n",
       "      <td>43.0</td>\n",
       "      <td>43</td>\n",
       "      <td>20.0</td>\n",
       "      <td>0</td>\n",
       "      <td>0.0</td>\n",
       "    </tr>\n",
       "    <tr>\n",
       "      <th>3945</th>\n",
       "      <td>43</td>\n",
       "      <td>43.0</td>\n",
       "      <td>43</td>\n",
       "      <td>36.0</td>\n",
       "      <td>0</td>\n",
       "      <td>2.0</td>\n",
       "    </tr>\n",
       "    <tr>\n",
       "      <th>45966</th>\n",
       "      <td>51</td>\n",
       "      <td>51.0</td>\n",
       "      <td>51</td>\n",
       "      <td>39.0</td>\n",
       "      <td>0</td>\n",
       "      <td>1.0</td>\n",
       "    </tr>\n",
       "    <tr>\n",
       "      <th>69192</th>\n",
       "      <td>11</td>\n",
       "      <td>31.0</td>\n",
       "      <td>11</td>\n",
       "      <td>24.0</td>\n",
       "      <td>0</td>\n",
       "      <td>NaN</td>\n",
       "    </tr>\n",
       "    <tr>\n",
       "      <th>73177</th>\n",
       "      <td>15</td>\n",
       "      <td>15.0</td>\n",
       "      <td>15</td>\n",
       "      <td>17.0</td>\n",
       "      <td>0</td>\n",
       "      <td>0.0</td>\n",
       "    </tr>\n",
       "  </tbody>\n",
       "</table>\n",
       "</div>"
      ],
      "text/plain": [
       "       CO_UF_PROVA  CO_UF_NASCIMENTO  CO_UF_RESIDENCIA  NU_IDADE  \\\n",
       "32685           43              43.0                43      20.0   \n",
       "3945            43              43.0                43      36.0   \n",
       "45966           51              51.0                51      39.0   \n",
       "69192           11              31.0                11      24.0   \n",
       "73177           15              15.0                15      17.0   \n",
       "\n",
       "       IN_SEM_RECURSO  TP_ESTADO_CIVIL  \n",
       "32685               0              0.0  \n",
       "3945                0              2.0  \n",
       "45966               0              1.0  \n",
       "69192               0              NaN  \n",
       "73177               0              0.0  "
      ]
     },
     "execution_count": 25,
     "metadata": {},
     "output_type": "execute_result"
    }
   ],
   "source": [
    "data[numerical_features].head()"
   ]
  },
  {
   "cell_type": "code",
   "execution_count": 26,
   "id": "incorrect-courtesy",
   "metadata": {
    "ExecuteTime": {
     "end_time": "2021-09-22T06:21:15.969346Z",
     "start_time": "2021-09-22T06:21:15.966830Z"
    }
   },
   "outputs": [],
   "source": [
    "features = numerical_features + columns_to_label_encode"
   ]
  },
  {
   "cell_type": "code",
   "execution_count": 27,
   "id": "proved-intelligence",
   "metadata": {
    "ExecuteTime": {
     "end_time": "2021-09-22T06:21:16.061541Z",
     "start_time": "2021-09-22T06:21:16.056895Z"
    }
   },
   "outputs": [
    {
     "data": {
      "text/plain": [
       "2015"
      ]
     },
     "execution_count": 27,
     "metadata": {},
     "output_type": "execute_result"
    }
   ],
   "source": [
    "data[\"NU_ANO\"].min()"
   ]
  },
  {
   "cell_type": "code",
   "execution_count": 28,
   "id": "handled-working",
   "metadata": {
    "ExecuteTime": {
     "end_time": "2021-09-22T06:21:16.161723Z",
     "start_time": "2021-09-22T06:21:16.157015Z"
    }
   },
   "outputs": [
    {
     "data": {
      "text/plain": [
       "2019"
      ]
     },
     "execution_count": 28,
     "metadata": {},
     "output_type": "execute_result"
    }
   ],
   "source": [
    "data[\"NU_ANO\"].max()"
   ]
  },
  {
   "cell_type": "code",
   "execution_count": 29,
   "id": "industrial-facial",
   "metadata": {
    "ExecuteTime": {
     "end_time": "2021-09-22T06:21:16.261744Z",
     "start_time": "2021-09-22T06:21:16.258057Z"
    }
   },
   "outputs": [],
   "source": [
    "data[\"Year\"] = data[\"NU_ANO\"]"
   ]
  },
  {
   "cell_type": "code",
   "execution_count": 30,
   "id": "changed-adaptation",
   "metadata": {
    "ExecuteTime": {
     "end_time": "2021-09-22T06:21:16.365233Z",
     "start_time": "2021-09-22T06:21:16.359390Z"
    }
   },
   "outputs": [
    {
     "data": {
      "text/plain": [
       "32685     2015\n",
       "3945      2015\n",
       "45966     2015\n",
       "69192     2015\n",
       "73177     2015\n",
       "          ... \n",
       "255851    2018\n",
       "231078    2018\n",
       "271555    2018\n",
       "284494    2018\n",
       "278792    2018\n",
       "Name: Year, Length: 168570, dtype: int64"
      ]
     },
     "execution_count": 30,
     "metadata": {},
     "output_type": "execute_result"
    }
   ],
   "source": [
    "data[\"Year\"]"
   ]
  },
  {
   "cell_type": "code",
   "execution_count": 31,
   "id": "physical-visit",
   "metadata": {
    "ExecuteTime": {
     "end_time": "2021-09-22T06:21:16.463968Z",
     "start_time": "2021-09-22T06:21:16.459134Z"
    }
   },
   "outputs": [
    {
     "data": {
      "text/plain": [
       "2015"
      ]
     },
     "execution_count": 31,
     "metadata": {},
     "output_type": "execute_result"
    }
   ],
   "source": [
    "data[\"Year\"].min()"
   ]
  },
  {
   "cell_type": "code",
   "execution_count": 32,
   "id": "discrete-europe",
   "metadata": {
    "ExecuteTime": {
     "end_time": "2021-09-22T06:21:16.564843Z",
     "start_time": "2021-09-22T06:21:16.559454Z"
    }
   },
   "outputs": [
    {
     "data": {
      "text/plain": [
       "2019"
      ]
     },
     "execution_count": 32,
     "metadata": {},
     "output_type": "execute_result"
    }
   ],
   "source": [
    "data[\"Year\"].max()"
   ]
  },
  {
   "cell_type": "code",
   "execution_count": 33,
   "id": "prescription-spine",
   "metadata": {
    "ExecuteTime": {
     "end_time": "2021-09-22T06:21:16.663218Z",
     "start_time": "2021-09-22T06:21:16.660776Z"
    }
   },
   "outputs": [],
   "source": [
    "training_start_year = 2015\n",
    "training_end_year = 2017\n",
    "holdout_end_year = 2019"
   ]
  },
  {
   "cell_type": "code",
   "execution_count": 34,
   "id": "piano-austria",
   "metadata": {
    "ExecuteTime": {
     "end_time": "2021-09-22T06:21:17.143765Z",
     "start_time": "2021-09-22T06:21:16.760261Z"
    }
   },
   "outputs": [],
   "source": [
    "in_time = data[data[\"Year\"] <= training_end_year]\n",
    "in_time = in_time[in_time[\"Year\"] >= training_start_year]\n",
    "out_of_time = data[data[\"Year\"] > training_end_year]"
   ]
  },
  {
   "cell_type": "code",
   "execution_count": 35,
   "id": "great-arnold",
   "metadata": {
    "ExecuteTime": {
     "end_time": "2021-09-22T06:21:17.275396Z",
     "start_time": "2021-09-22T06:21:17.145968Z"
    }
   },
   "outputs": [],
   "source": [
    "train, test = train_test_split(in_time, \n",
    "                               test_size=0.2,\n",
    "                               random_state=42)"
   ]
  },
  {
   "cell_type": "code",
   "execution_count": 36,
   "id": "personal-carroll",
   "metadata": {
    "ExecuteTime": {
     "end_time": "2021-09-22T06:21:17.655665Z",
     "start_time": "2021-09-22T06:21:17.278296Z"
    }
   },
   "outputs": [
    {
     "name": "stderr",
     "output_type": "stream",
     "text": [
      "\n",
      "A value is trying to be set on a copy of a slice from a DataFrame\n",
      "\n",
      "See the caveats in the documentation: https://pandas.pydata.org/pandas-docs/stable/user_guide/indexing.html#returning-a-view-versus-a-copy\n"
     ]
    }
   ],
   "source": [
    "median_input = train.median()\n",
    "train.fillna(median_input, inplace=True)\n",
    "test.fillna(median_input, inplace=True)\n",
    "out_of_time.fillna(median_input, inplace=True)"
   ]
  },
  {
   "cell_type": "code",
   "execution_count": 37,
   "id": "pregnant-florida",
   "metadata": {
    "ExecuteTime": {
     "end_time": "2021-09-22T06:21:17.701376Z",
     "start_time": "2021-09-22T06:21:17.658516Z"
    }
   },
   "outputs": [
    {
     "name": "stderr",
     "output_type": "stream",
     "text": [
      "\n",
      "A value is trying to be set on a copy of a slice from a DataFrame.\n",
      "Try using .loc[row_indexer,col_indexer] = value instead\n",
      "\n",
      "See the caveats in the documentation: https://pandas.pydata.org/pandas-docs/stable/user_guide/indexing.html#returning-a-view-versus-a-copy\n"
     ]
    }
   ],
   "source": [
    "train[numerical_features] = train[numerical_features].astype(int)"
   ]
  },
  {
   "cell_type": "markdown",
   "id": "clinical-alloy",
   "metadata": {},
   "source": [
    "## Checking the support in the different environments"
   ]
  },
  {
   "cell_type": "code",
   "execution_count": 38,
   "id": "friendly-hebrew",
   "metadata": {
    "ExecuteTime": {
     "end_time": "2021-09-22T06:21:17.891997Z",
     "start_time": "2021-09-22T06:21:17.704105Z"
    },
    "execution": {
     "iopub.execute_input": "2021-08-20T11:40:04.600260Z",
     "iopub.status.busy": "2021-08-20T11:40:04.600086Z",
     "iopub.status.idle": "2021-08-20T11:40:04.836391Z",
     "shell.execute_reply": "2021-08-20T11:40:04.835910Z",
     "shell.execute_reply.started": "2021-08-20T11:40:04.600238Z"
    }
   },
   "outputs": [
    {
     "name": "stdout",
     "output_type": "stream",
     "text": [
      "Year\n",
      "2015    1.0\n",
      "2016    1.0\n",
      "2017    1.0\n",
      "Name: TP_SEXO, dtype: float64\n",
      "Year\n",
      "2015    1.000000\n",
      "2016    0.888889\n",
      "2017    0.888889\n",
      "Name: Q001, dtype: float64\n",
      "Year\n",
      "2015    1.000000\n",
      "2016    0.888889\n",
      "2017    0.888889\n",
      "Name: Q002, dtype: float64\n",
      "Year\n",
      "2015    1.000000\n",
      "2016    0.857143\n",
      "2017    0.857143\n",
      "Name: Q003, dtype: float64\n",
      "Year\n",
      "2015    1.000000\n",
      "2016    0.857143\n",
      "2017    0.857143\n",
      "Name: Q004, dtype: float64\n",
      "Year\n",
      "2015    0.952381\n",
      "2016    0.952381\n",
      "2017    0.952381\n",
      "Name: Q005, dtype: float64\n",
      "Year\n",
      "2015    1.000000\n",
      "2016    0.944444\n",
      "2017    0.944444\n",
      "Name: Q006, dtype: float64\n",
      "Year\n",
      "2015    1.0\n",
      "2016    0.8\n",
      "2017    0.8\n",
      "Name: Q007, dtype: float64\n",
      "Year\n",
      "2015    1.000000\n",
      "2016    0.833333\n",
      "2017    0.833333\n",
      "Name: Q008, dtype: float64\n",
      "Year\n",
      "2015    1.000000\n",
      "2016    0.833333\n",
      "2017    0.833333\n",
      "Name: Q009, dtype: float64\n",
      "Year\n",
      "2015    1.000000\n",
      "2016    0.833333\n",
      "2017    0.833333\n",
      "Name: Q010, dtype: float64\n",
      "Year\n",
      "2015    1.000000\n",
      "2016    0.833333\n",
      "2017    0.833333\n",
      "Name: Q011, dtype: float64\n",
      "Year\n",
      "2015    1.000000\n",
      "2016    0.833333\n",
      "2017    0.833333\n",
      "Name: Q012, dtype: float64\n",
      "Year\n",
      "2015    1.000000\n",
      "2016    0.833333\n",
      "2017    0.833333\n",
      "Name: Q013, dtype: float64\n",
      "Year\n",
      "2015    1.000000\n",
      "2016    0.833333\n",
      "2017    0.833333\n",
      "Name: Q014, dtype: float64\n",
      "Year\n",
      "2015    1.000000\n",
      "2016    0.833333\n",
      "2017    0.833333\n",
      "Name: Q015, dtype: float64\n",
      "Year\n",
      "2015    1.000000\n",
      "2016    0.833333\n",
      "2017    0.833333\n",
      "Name: Q016, dtype: float64\n",
      "Year\n",
      "2015    1.000000\n",
      "2016    0.833333\n",
      "2017    0.833333\n",
      "Name: Q017, dtype: float64\n",
      "Year\n",
      "2015    1.000000\n",
      "2016    0.666667\n",
      "2017    0.666667\n",
      "Name: Q018, dtype: float64\n",
      "Year\n",
      "2015    1.000000\n",
      "2016    0.833333\n",
      "2017    0.833333\n",
      "Name: Q019, dtype: float64\n",
      "Year\n",
      "2015    1.000000\n",
      "2016    0.666667\n",
      "2017    0.666667\n",
      "Name: Q020, dtype: float64\n",
      "Year\n",
      "2015    1.000000\n",
      "2016    0.666667\n",
      "2017    0.666667\n",
      "Name: Q021, dtype: float64\n",
      "Year\n",
      "2015    1.000000\n",
      "2016    0.833333\n",
      "2017    0.833333\n",
      "Name: Q022, dtype: float64\n",
      "Year\n",
      "2015    1.000000\n",
      "2016    0.666667\n",
      "2017    0.666667\n",
      "Name: Q023, dtype: float64\n",
      "Year\n",
      "2015    1.000000\n",
      "2016    0.833333\n",
      "2017    0.833333\n",
      "Name: Q024, dtype: float64\n",
      "Year\n",
      "2015    1.000000\n",
      "2016    0.666667\n",
      "2017    0.666667\n",
      "Name: Q025, dtype: float64\n"
     ]
    },
    {
     "data": {
      "text/plain": [
       "0.8803011803011803"
      ]
     },
     "execution_count": 38,
     "metadata": {},
     "output_type": "execute_result"
    }
   ],
   "source": [
    "check_categoricals_match(train, columns_to_label_encode, \"Year\")"
   ]
  },
  {
   "cell_type": "code",
   "execution_count": 39,
   "id": "operating-freeware",
   "metadata": {
    "ExecuteTime": {
     "end_time": "2021-09-22T06:21:17.988626Z",
     "start_time": "2021-09-22T06:21:17.893967Z"
    },
    "execution": {
     "iopub.execute_input": "2021-08-20T11:40:04.837508Z",
     "iopub.status.busy": "2021-08-20T11:40:04.837310Z",
     "iopub.status.idle": "2021-08-20T11:40:04.991569Z",
     "shell.execute_reply": "2021-08-20T11:40:04.991078Z",
     "shell.execute_reply.started": "2021-08-20T11:40:04.837484Z"
    }
   },
   "outputs": [
    {
     "name": "stdout",
     "output_type": "stream",
     "text": [
      "Year\n",
      "2015    1.0\n",
      "2016    1.0\n",
      "2017    1.0\n",
      "Name: CO_UF_PROVA_quant, dtype: float64\n",
      "Year\n",
      "2015    1.0\n",
      "2016    1.0\n",
      "2017    1.0\n",
      "Name: CO_UF_NASCIMENTO_quant, dtype: float64\n",
      "Year\n",
      "2015    1.0\n",
      "2016    1.0\n",
      "2017    1.0\n",
      "Name: CO_UF_RESIDENCIA_quant, dtype: float64\n",
      "Year\n",
      "2015    0.888889\n",
      "2016    1.000000\n",
      "2017    0.777778\n",
      "Name: NU_IDADE_quant, dtype: float64\n",
      "Year\n",
      "2015    1.0\n",
      "2016    1.0\n",
      "2017    1.0\n",
      "Name: IN_SEM_RECURSO_quant, dtype: float64\n",
      "Year\n",
      "2015    1.0\n",
      "2016    1.0\n",
      "2017    1.0\n",
      "Name: TP_ESTADO_CIVIL_quant, dtype: float64\n"
     ]
    },
    {
     "name": "stderr",
     "output_type": "stream",
     "text": [
      "\n",
      "A value is trying to be set on a copy of a slice from a DataFrame.\n",
      "Try using .loc[row_indexer,col_indexer] = value instead\n",
      "\n",
      "See the caveats in the documentation: https://pandas.pydata.org/pandas-docs/stable/user_guide/indexing.html#returning-a-view-versus-a-copy\n"
     ]
    },
    {
     "data": {
      "text/plain": [
       "0.9814814814814815"
      ]
     },
     "execution_count": 39,
     "metadata": {},
     "output_type": "execute_result"
    }
   ],
   "source": [
    "check_numerical_match(train, numerical_features, TIME_COLUMN, verbose=True, n_q=10)"
   ]
  },
  {
   "cell_type": "markdown",
   "id": "partial-possession",
   "metadata": {},
   "source": [
    "### Benchmark"
   ]
  },
  {
   "cell_type": "code",
   "execution_count": 40,
   "id": "important-google",
   "metadata": {
    "ExecuteTime": {
     "end_time": "2021-09-22T06:21:19.032352Z",
     "start_time": "2021-09-22T06:21:17.993176Z"
    },
    "execution": {
     "iopub.execute_input": "2021-08-20T11:40:04.992535Z",
     "iopub.status.busy": "2021-08-20T11:40:04.992369Z",
     "iopub.status.idle": "2021-08-20T11:40:06.879566Z",
     "shell.execute_reply": "2021-08-20T11:40:06.878830Z",
     "shell.execute_reply.started": "2021-08-20T11:40:04.992514Z"
    }
   },
   "outputs": [],
   "source": [
    "from pycaret.classification import *"
   ]
  },
  {
   "cell_type": "code",
   "execution_count": 41,
   "id": "laughing-statistics",
   "metadata": {
    "ExecuteTime": {
     "end_time": "2021-09-22T06:21:19.038516Z",
     "start_time": "2021-09-22T06:21:19.034534Z"
    },
    "execution": {
     "iopub.execute_input": "2021-08-20T11:40:06.880640Z",
     "iopub.status.busy": "2021-08-20T11:40:06.880460Z",
     "iopub.status.idle": "2021-08-20T11:40:06.884231Z",
     "shell.execute_reply": "2021-08-20T11:40:06.883773Z",
     "shell.execute_reply.started": "2021-08-20T11:40:06.880618Z"
    }
   },
   "outputs": [
    {
     "data": {
      "text/plain": [
       "'target'"
      ]
     },
     "execution_count": 41,
     "metadata": {},
     "output_type": "execute_result"
    }
   ],
   "source": [
    "TARGET"
   ]
  },
  {
   "cell_type": "code",
   "execution_count": 42,
   "id": "monetary-collect",
   "metadata": {
    "ExecuteTime": {
     "end_time": "2021-09-22T06:31:56.041899Z",
     "start_time": "2021-09-22T06:21:19.040550Z"
    },
    "execution": {
     "iopub.execute_input": "2021-08-20T11:40:06.885094Z",
     "iopub.status.busy": "2021-08-20T11:40:06.884934Z",
     "iopub.status.idle": "2021-08-20T11:43:31.686121Z",
     "shell.execute_reply": "2021-08-20T11:43:31.685356Z",
     "shell.execute_reply.started": "2021-08-20T11:40:06.885073Z"
    }
   },
   "outputs": [
    {
     "data": {
      "text/html": [
       "<style  type=\"text/css\" >\n",
       "#T_c8204a46_1b6e_11ec_a920_acde48001122row5_col0,#T_c8204a46_1b6e_11ec_a920_acde48001122row5_col1,#T_c8204a46_1b6e_11ec_a920_acde48001122row5_col2,#T_c8204a46_1b6e_11ec_a920_acde48001122row5_col3,#T_c8204a46_1b6e_11ec_a920_acde48001122row5_col4,#T_c8204a46_1b6e_11ec_a920_acde48001122row5_col5,#T_c8204a46_1b6e_11ec_a920_acde48001122row5_col6{\n",
       "            background:  yellow;\n",
       "        }</style><table id=\"T_c8204a46_1b6e_11ec_a920_acde48001122\" ><thead>    <tr>        <th class=\"blank level0\" ></th>        <th class=\"col_heading level0 col0\" >Accuracy</th>        <th class=\"col_heading level0 col1\" >AUC</th>        <th class=\"col_heading level0 col2\" >Recall</th>        <th class=\"col_heading level0 col3\" >Prec.</th>        <th class=\"col_heading level0 col4\" >F1</th>        <th class=\"col_heading level0 col5\" >Kappa</th>        <th class=\"col_heading level0 col6\" >MCC</th>    </tr></thead><tbody>\n",
       "                <tr>\n",
       "                        <th id=\"T_c8204a46_1b6e_11ec_a920_acde48001122level0_row0\" class=\"row_heading level0 row0\" >0</th>\n",
       "                        <td id=\"T_c8204a46_1b6e_11ec_a920_acde48001122row0_col0\" class=\"data row0 col0\" >0.6292</td>\n",
       "                        <td id=\"T_c8204a46_1b6e_11ec_a920_acde48001122row0_col1\" class=\"data row0 col1\" >0.6809</td>\n",
       "                        <td id=\"T_c8204a46_1b6e_11ec_a920_acde48001122row0_col2\" class=\"data row0 col2\" >0.5494</td>\n",
       "                        <td id=\"T_c8204a46_1b6e_11ec_a920_acde48001122row0_col3\" class=\"data row0 col3\" >0.6675</td>\n",
       "                        <td id=\"T_c8204a46_1b6e_11ec_a920_acde48001122row0_col4\" class=\"data row0 col4\" >0.6027</td>\n",
       "                        <td id=\"T_c8204a46_1b6e_11ec_a920_acde48001122row0_col5\" class=\"data row0 col5\" >0.2611</td>\n",
       "                        <td id=\"T_c8204a46_1b6e_11ec_a920_acde48001122row0_col6\" class=\"data row0 col6\" >0.2655</td>\n",
       "            </tr>\n",
       "            <tr>\n",
       "                        <th id=\"T_c8204a46_1b6e_11ec_a920_acde48001122level0_row1\" class=\"row_heading level0 row1\" >1</th>\n",
       "                        <td id=\"T_c8204a46_1b6e_11ec_a920_acde48001122row1_col0\" class=\"data row1 col0\" >0.6315</td>\n",
       "                        <td id=\"T_c8204a46_1b6e_11ec_a920_acde48001122row1_col1\" class=\"data row1 col1\" >0.6844</td>\n",
       "                        <td id=\"T_c8204a46_1b6e_11ec_a920_acde48001122row1_col2\" class=\"data row1 col2\" >0.5597</td>\n",
       "                        <td id=\"T_c8204a46_1b6e_11ec_a920_acde48001122row1_col3\" class=\"data row1 col3\" >0.6670</td>\n",
       "                        <td id=\"T_c8204a46_1b6e_11ec_a920_acde48001122row1_col4\" class=\"data row1 col4\" >0.6087</td>\n",
       "                        <td id=\"T_c8204a46_1b6e_11ec_a920_acde48001122row1_col5\" class=\"data row1 col5\" >0.2654</td>\n",
       "                        <td id=\"T_c8204a46_1b6e_11ec_a920_acde48001122row1_col6\" class=\"data row1 col6\" >0.2691</td>\n",
       "            </tr>\n",
       "            <tr>\n",
       "                        <th id=\"T_c8204a46_1b6e_11ec_a920_acde48001122level0_row2\" class=\"row_heading level0 row2\" >2</th>\n",
       "                        <td id=\"T_c8204a46_1b6e_11ec_a920_acde48001122row2_col0\" class=\"data row2 col0\" >0.6311</td>\n",
       "                        <td id=\"T_c8204a46_1b6e_11ec_a920_acde48001122row2_col1\" class=\"data row2 col1\" >0.6814</td>\n",
       "                        <td id=\"T_c8204a46_1b6e_11ec_a920_acde48001122row2_col2\" class=\"data row2 col2\" >0.5668</td>\n",
       "                        <td id=\"T_c8204a46_1b6e_11ec_a920_acde48001122row2_col3\" class=\"data row2 col3\" >0.6637</td>\n",
       "                        <td id=\"T_c8204a46_1b6e_11ec_a920_acde48001122row2_col4\" class=\"data row2 col4\" >0.6114</td>\n",
       "                        <td id=\"T_c8204a46_1b6e_11ec_a920_acde48001122row2_col5\" class=\"data row2 col5\" >0.2644</td>\n",
       "                        <td id=\"T_c8204a46_1b6e_11ec_a920_acde48001122row2_col6\" class=\"data row2 col6\" >0.2674</td>\n",
       "            </tr>\n",
       "            <tr>\n",
       "                        <th id=\"T_c8204a46_1b6e_11ec_a920_acde48001122level0_row3\" class=\"row_heading level0 row3\" >3</th>\n",
       "                        <td id=\"T_c8204a46_1b6e_11ec_a920_acde48001122row3_col0\" class=\"data row3 col0\" >0.6352</td>\n",
       "                        <td id=\"T_c8204a46_1b6e_11ec_a920_acde48001122row3_col1\" class=\"data row3 col1\" >0.6792</td>\n",
       "                        <td id=\"T_c8204a46_1b6e_11ec_a920_acde48001122row3_col2\" class=\"data row3 col2\" >0.5705</td>\n",
       "                        <td id=\"T_c8204a46_1b6e_11ec_a920_acde48001122row3_col3\" class=\"data row3 col3\" >0.6685</td>\n",
       "                        <td id=\"T_c8204a46_1b6e_11ec_a920_acde48001122row3_col4\" class=\"data row3 col4\" >0.6156</td>\n",
       "                        <td id=\"T_c8204a46_1b6e_11ec_a920_acde48001122row3_col5\" class=\"data row3 col5\" >0.2727</td>\n",
       "                        <td id=\"T_c8204a46_1b6e_11ec_a920_acde48001122row3_col6\" class=\"data row3 col6\" >0.2758</td>\n",
       "            </tr>\n",
       "            <tr>\n",
       "                        <th id=\"T_c8204a46_1b6e_11ec_a920_acde48001122level0_row4\" class=\"row_heading level0 row4\" >4</th>\n",
       "                        <td id=\"T_c8204a46_1b6e_11ec_a920_acde48001122row4_col0\" class=\"data row4 col0\" >0.6239</td>\n",
       "                        <td id=\"T_c8204a46_1b6e_11ec_a920_acde48001122row4_col1\" class=\"data row4 col1\" >0.6753</td>\n",
       "                        <td id=\"T_c8204a46_1b6e_11ec_a920_acde48001122row4_col2\" class=\"data row4 col2\" >0.5584</td>\n",
       "                        <td id=\"T_c8204a46_1b6e_11ec_a920_acde48001122row4_col3\" class=\"data row4 col3\" >0.6560</td>\n",
       "                        <td id=\"T_c8204a46_1b6e_11ec_a920_acde48001122row4_col4\" class=\"data row4 col4\" >0.6033</td>\n",
       "                        <td id=\"T_c8204a46_1b6e_11ec_a920_acde48001122row4_col5\" class=\"data row4 col5\" >0.2502</td>\n",
       "                        <td id=\"T_c8204a46_1b6e_11ec_a920_acde48001122row4_col6\" class=\"data row4 col6\" >0.2531</td>\n",
       "            </tr>\n",
       "            <tr>\n",
       "                        <th id=\"T_c8204a46_1b6e_11ec_a920_acde48001122level0_row5\" class=\"row_heading level0 row5\" >Mean</th>\n",
       "                        <td id=\"T_c8204a46_1b6e_11ec_a920_acde48001122row5_col0\" class=\"data row5 col0\" >0.6302</td>\n",
       "                        <td id=\"T_c8204a46_1b6e_11ec_a920_acde48001122row5_col1\" class=\"data row5 col1\" >0.6802</td>\n",
       "                        <td id=\"T_c8204a46_1b6e_11ec_a920_acde48001122row5_col2\" class=\"data row5 col2\" >0.5610</td>\n",
       "                        <td id=\"T_c8204a46_1b6e_11ec_a920_acde48001122row5_col3\" class=\"data row5 col3\" >0.6645</td>\n",
       "                        <td id=\"T_c8204a46_1b6e_11ec_a920_acde48001122row5_col4\" class=\"data row5 col4\" >0.6083</td>\n",
       "                        <td id=\"T_c8204a46_1b6e_11ec_a920_acde48001122row5_col5\" class=\"data row5 col5\" >0.2628</td>\n",
       "                        <td id=\"T_c8204a46_1b6e_11ec_a920_acde48001122row5_col6\" class=\"data row5 col6\" >0.2662</td>\n",
       "            </tr>\n",
       "            <tr>\n",
       "                        <th id=\"T_c8204a46_1b6e_11ec_a920_acde48001122level0_row6\" class=\"row_heading level0 row6\" >SD</th>\n",
       "                        <td id=\"T_c8204a46_1b6e_11ec_a920_acde48001122row6_col0\" class=\"data row6 col0\" >0.0037</td>\n",
       "                        <td id=\"T_c8204a46_1b6e_11ec_a920_acde48001122row6_col1\" class=\"data row6 col1\" >0.0030</td>\n",
       "                        <td id=\"T_c8204a46_1b6e_11ec_a920_acde48001122row6_col2\" class=\"data row6 col2\" >0.0073</td>\n",
       "                        <td id=\"T_c8204a46_1b6e_11ec_a920_acde48001122row6_col3\" class=\"data row6 col3\" >0.0046</td>\n",
       "                        <td id=\"T_c8204a46_1b6e_11ec_a920_acde48001122row6_col4\" class=\"data row6 col4\" >0.0049</td>\n",
       "                        <td id=\"T_c8204a46_1b6e_11ec_a920_acde48001122row6_col5\" class=\"data row6 col5\" >0.0073</td>\n",
       "                        <td id=\"T_c8204a46_1b6e_11ec_a920_acde48001122row6_col6\" class=\"data row6 col6\" >0.0074</td>\n",
       "            </tr>\n",
       "    </tbody></table>"
      ],
      "text/plain": [
       "<pandas.io.formats.style.Styler at 0x7fd4cfb7b048>"
      ]
     },
     "metadata": {},
     "output_type": "display_data"
    }
   ],
   "source": [
    "clf1 = setup(train[features + [TARGET]], \n",
    "             target=TARGET,\n",
    "             session_id=200, \n",
    "             log_experiment=False, \n",
    "             experiment_name=\"{}\".format(PREFIX),\n",
    "             silent=True)\n",
    "\n",
    "rf = create_model('rf')\n",
    "tuned_rf = tune_model(rf,\n",
    "                     optimize=\"AUC\",\n",
    "                     fold=5,\n",
    "                     n_iter=150)"
   ]
  },
  {
   "cell_type": "code",
   "execution_count": 43,
   "id": "civic-microwave",
   "metadata": {
    "ExecuteTime": {
     "end_time": "2021-09-22T06:31:56.049450Z",
     "start_time": "2021-09-22T06:31:56.044401Z"
    },
    "execution": {
     "iopub.execute_input": "2021-08-20T11:43:31.687518Z",
     "iopub.status.busy": "2021-08-20T11:43:31.687323Z",
     "iopub.status.idle": "2021-08-20T11:43:31.691768Z",
     "shell.execute_reply": "2021-08-20T11:43:31.691250Z",
     "shell.execute_reply.started": "2021-08-20T11:43:31.687494Z"
    }
   },
   "outputs": [
    {
     "data": {
      "text/plain": [
       "RandomForestClassifier(bootstrap=False, ccp_alpha=0.0,\n",
       "                       class_weight='balanced_subsample', criterion='entropy',\n",
       "                       max_depth=11, max_features='sqrt', max_leaf_nodes=None,\n",
       "                       max_samples=None, min_impurity_decrease=0.0001,\n",
       "                       min_impurity_split=None, min_samples_leaf=6,\n",
       "                       min_samples_split=7, min_weight_fraction_leaf=0.0,\n",
       "                       n_estimators=250, n_jobs=-1, oob_score=False,\n",
       "                       random_state=2, verbose=0, warm_start=False)"
      ]
     },
     "execution_count": 43,
     "metadata": {},
     "output_type": "execute_result"
    }
   ],
   "source": [
    "tuned_rf"
   ]
  },
  {
   "cell_type": "code",
   "execution_count": 44,
   "id": "institutional-fellow",
   "metadata": {
    "ExecuteTime": {
     "end_time": "2021-09-22T06:32:00.180022Z",
     "start_time": "2021-09-22T06:31:56.052073Z"
    },
    "execution": {
     "iopub.execute_input": "2021-08-20T11:43:31.692760Z",
     "iopub.status.busy": "2021-08-20T11:43:31.692607Z",
     "iopub.status.idle": "2021-08-20T11:43:35.387482Z",
     "shell.execute_reply": "2021-08-20T11:43:35.386878Z",
     "shell.execute_reply.started": "2021-08-20T11:43:31.692742Z"
    }
   },
   "outputs": [],
   "source": [
    "benchmark_model = tuned_rf\n",
    "benchmark_model.fit(train[features], train[TARGET])\n",
    "\n",
    "train[\"benchmark_prediction_opt\"] = benchmark_model.predict_proba(train[features])[:, 1]\n",
    "test[\"benchmark_prediction_opt\"] = benchmark_model.predict_proba(test[features])[:, 1]\n",
    "out_of_time[\"benchmark_prediction_opt\"] = benchmark_model.predict_proba(out_of_time[features])[:, 1]"
   ]
  },
  {
   "cell_type": "code",
   "execution_count": 45,
   "id": "romance-bahamas",
   "metadata": {
    "ExecuteTime": {
     "end_time": "2021-09-22T06:32:00.252148Z",
     "start_time": "2021-09-22T06:32:00.182361Z"
    },
    "execution": {
     "iopub.execute_input": "2021-08-20T11:43:35.388633Z",
     "iopub.status.busy": "2021-08-20T11:43:35.388453Z",
     "iopub.status.idle": "2021-08-20T11:43:35.512815Z",
     "shell.execute_reply": "2021-08-20T11:43:35.512313Z",
     "shell.execute_reply.started": "2021-08-20T11:43:35.388610Z"
    }
   },
   "outputs": [
    {
     "name": "stdout",
     "output_type": "stream",
     "text": [
      "0.6912943123734847\n",
      "0.6915045296065403\n",
      "0.6824757712301587\n"
     ]
    }
   ],
   "source": [
    "print(roc_auc_score(train[TARGET], train[\"benchmark_prediction_opt\"]))\n",
    "print(roc_auc_score(test[TARGET], test[\"benchmark_prediction_opt\"]))\n",
    "print(roc_auc_score(out_of_time[TARGET], out_of_time[\"benchmark_prediction_opt\"]))"
   ]
  },
  {
   "cell_type": "code",
   "execution_count": 46,
   "id": "personalized-aquarium",
   "metadata": {
    "ExecuteTime": {
     "end_time": "2021-09-22T06:32:14.222659Z",
     "start_time": "2021-09-22T06:32:00.256916Z"
    },
    "execution": {
     "iopub.execute_input": "2021-08-20T10:29:51.406993Z",
     "iopub.status.busy": "2021-08-20T10:29:51.406825Z",
     "iopub.status.idle": "2021-08-20T10:30:43.490187Z",
     "shell.execute_reply": "2021-08-20T10:30:43.489343Z",
     "shell.execute_reply.started": "2021-08-20T10:29:51.406973Z"
    }
   },
   "outputs": [],
   "source": [
    "benchmark_model = RandomForestClassifier(n_estimators=250, max_depth=8)\n",
    "benchmark_model.fit(train[features], train[TARGET])\n",
    "\n",
    "train[\"benchmark_prediction\"] = benchmark_model.predict_proba(train[features])[:, 1]\n",
    "test[\"benchmark_prediction\"] = benchmark_model.predict_proba(test[features])[:, 1]\n",
    "out_of_time[\"benchmark_prediction\"] = benchmark_model.predict_proba(out_of_time[features])[:, 1]"
   ]
  },
  {
   "cell_type": "code",
   "execution_count": 47,
   "id": "hungry-hampton",
   "metadata": {
    "ExecuteTime": {
     "end_time": "2021-09-22T06:32:14.287784Z",
     "start_time": "2021-09-22T06:32:14.225671Z"
    },
    "execution": {
     "iopub.execute_input": "2021-08-19T23:04:40.556841Z",
     "iopub.status.busy": "2021-08-19T23:04:40.556661Z",
     "iopub.status.idle": "2021-08-19T23:04:40.675676Z",
     "shell.execute_reply": "2021-08-19T23:04:40.675138Z",
     "shell.execute_reply.started": "2021-08-19T23:04:40.556821Z"
    }
   },
   "outputs": [
    {
     "name": "stdout",
     "output_type": "stream",
     "text": [
      "0.7069387721038481\n",
      "0.6946692493400899\n",
      "0.6864472117334859\n"
     ]
    }
   ],
   "source": [
    "print(roc_auc_score(train[TARGET], train[\"benchmark_prediction\"]))\n",
    "print(roc_auc_score(test[TARGET], test[\"benchmark_prediction\"]))\n",
    "print(roc_auc_score(out_of_time[TARGET], out_of_time[\"benchmark_prediction\"]))"
   ]
  },
  {
   "cell_type": "code",
   "execution_count": 48,
   "id": "enabling-heath",
   "metadata": {
    "ExecuteTime": {
     "end_time": "2021-09-22T06:32:14.292267Z",
     "start_time": "2021-09-22T06:32:14.290005Z"
    },
    "execution": {
     "iopub.execute_input": "2021-08-19T23:04:40.676735Z",
     "iopub.status.busy": "2021-08-19T23:04:40.676558Z",
     "iopub.status.idle": "2021-08-19T23:04:40.678956Z",
     "shell.execute_reply": "2021-08-19T23:04:40.678509Z",
     "shell.execute_reply.started": "2021-08-19T23:04:40.676714Z"
    }
   },
   "outputs": [],
   "source": [
    "# benchmark_importances = benchmark_model.feature_importances_\n",
    "# benchmark_importances = pd.Series(benchmark_importances, index=features)\n",
    "# benchmark_importances.rename(\"RF\", inplace=True)"
   ]
  },
  {
   "cell_type": "code",
   "execution_count": 49,
   "id": "offshore-tribute",
   "metadata": {
    "ExecuteTime": {
     "end_time": "2021-09-22T06:33:17.572813Z",
     "start_time": "2021-09-22T06:32:14.294538Z"
    },
    "execution": {
     "iopub.execute_input": "2021-08-19T23:04:40.679881Z",
     "iopub.status.busy": "2021-08-19T23:04:40.679722Z",
     "iopub.status.idle": "2021-08-19T23:06:20.151299Z",
     "shell.execute_reply": "2021-08-19T23:06:20.150724Z",
     "shell.execute_reply.started": "2021-08-19T23:04:40.679862Z"
    }
   },
   "outputs": [],
   "source": [
    "results = reverse_learning_curve(train, out_of_time, tuned_rf, features, TARGET, TIME_COLUMN, roc_auc_score, n_rounds=5)"
   ]
  },
  {
   "cell_type": "code",
   "execution_count": 50,
   "id": "national-cable",
   "metadata": {
    "ExecuteTime": {
     "end_time": "2021-09-22T06:33:17.580619Z",
     "start_time": "2021-09-22T06:33:17.574872Z"
    },
    "execution": {
     "iopub.execute_input": "2021-08-19T23:06:20.152515Z",
     "iopub.status.busy": "2021-08-19T23:06:20.152325Z",
     "iopub.status.idle": "2021-08-19T23:06:20.157819Z",
     "shell.execute_reply": "2021-08-19T23:06:20.157378Z",
     "shell.execute_reply.started": "2021-08-19T23:06:20.152492Z"
    }
   },
   "outputs": [
    {
     "data": {
      "text/plain": [
       "CO_UF_PROVA         0.000267\n",
       "CO_UF_NASCIMENTO    0.000049\n",
       "CO_UF_RESIDENCIA    0.001015\n",
       "NU_IDADE            0.032596\n",
       "IN_SEM_RECURSO      0.000000\n",
       "TP_ESTADO_CIVIL    -0.003406\n",
       "TP_SEXO             0.000882\n",
       "Q001               -0.000107\n",
       "Q002               -0.000533\n",
       "Q003                0.001695\n",
       "Q004                0.000141\n",
       "Q005                0.000005\n",
       "Q006                0.003854\n",
       "Q007                0.000044\n",
       "Q008               -0.000294\n",
       "Q009                0.000579\n",
       "Q010                0.000049\n",
       "Q011               -0.000080\n",
       "Q012                0.000000\n",
       "Q013               -0.000125\n",
       "Q014                0.000000\n",
       "Q015                0.000000\n",
       "Q016               -0.000129\n",
       "Q017                0.000000\n",
       "Q018                0.000022\n",
       "Q019                0.000418\n",
       "Q020                0.000521\n",
       "Q021               -0.000062\n",
       "Q022               -0.002715\n",
       "Q023                0.001010\n",
       "Q024                0.000403\n",
       "Q025                0.002423\n",
       "Name: RF, dtype: float64"
      ]
     },
     "execution_count": 50,
     "metadata": {},
     "output_type": "execute_result"
    }
   ],
   "source": [
    "benchmark_importances = results[\"feature_importance\"][-1].copy(deep=True)\n",
    "benchmark_importances.rename(\"RF\", inplace=True)"
   ]
  },
  {
   "cell_type": "code",
   "execution_count": 51,
   "id": "later-visiting",
   "metadata": {
    "ExecuteTime": {
     "end_time": "2021-09-22T06:33:18.744058Z",
     "start_time": "2021-09-22T06:33:17.582729Z"
    },
    "execution": {
     "iopub.execute_input": "2021-08-19T23:06:20.158704Z",
     "iopub.status.busy": "2021-08-19T23:06:20.158543Z",
     "iopub.status.idle": "2021-08-19T23:06:20.909156Z",
     "shell.execute_reply": "2021-08-19T23:06:20.908522Z",
     "shell.execute_reply.started": "2021-08-19T23:06:20.158685Z"
    }
   },
   "outputs": [
    {
     "data": {
      "image/png": "[encoded data removed]",
      "text/plain": [
       "<Figure size 450x900 with 2 Axes>"
      ]
     },
     "metadata": {},
     "output_type": "display_data"
    }
   ],
   "source": [
    "importance_by_reverse_segment_benchmark = plot_feature_migration_from_learning_curve_results(results, features, \n",
    "                                                                                             save_as=\"../images/{}_benchmark_importance_migration_learning_curve.eps\".format(PREFIX))"
   ]
  },
  {
   "cell_type": "code",
   "execution_count": 52,
   "id": "focal-snowboard",
   "metadata": {
    "ExecuteTime": {
     "end_time": "2021-09-22T06:33:18.994271Z",
     "start_time": "2021-09-22T06:33:18.745337Z"
    },
    "execution": {
     "iopub.execute_input": "2021-08-19T23:06:20.910213Z",
     "iopub.status.busy": "2021-08-19T23:06:20.910040Z",
     "iopub.status.idle": "2021-08-19T23:06:21.336250Z",
     "shell.execute_reply": "2021-08-19T23:06:21.335775Z",
     "shell.execute_reply.started": "2021-08-19T23:06:20.910191Z"
    }
   },
   "outputs": [
    {
     "data": {
      "image/png": "[encoded data removed]",
      "text/plain": [
       "<Figure size 864x288 with 1 Axes>"
      ]
     },
     "metadata": {},
     "output_type": "display_data"
    }
   ],
   "source": [
    "fig, ax = plt.subplots()\n",
    "\n",
    "blues = plt.get_cmap(\"Blues\")\n",
    "gradient = np.linspace(.2, 0.8, len(results[\"holdout_performance\"]))\n",
    "\n",
    "for i, r in enumerate(results[\"holdout_performance_by_period\"]):\n",
    "    r.plot(label=results[\"last_period_included\"][i], color=blues(gradient[i]))\n",
    "\n",
    "ax.xaxis.set_tick_params(labelsize=12)\n",
    "ax.yaxis.set_tick_params(labelsize=12)\n",
    "plt.legend(bbox_to_anchor=(1.05, 1.0), fontsize=12, title=\"Oldest time period included in train\")\n",
    "plt.ylabel(\"AUC\", fontsize=15)\n",
    "plt.xlabel(\"Year\", fontsize=15)\n",
    "\n",
    "plt.savefig(\"../images/{}_perf_by_period_reverse_learning_curve_benchmark.eps\".format(PREFIX), format=\"eps\", bbox_inches = \"tight\")\n",
    "plt.show()"
   ]
  },
  {
   "cell_type": "code",
   "execution_count": 53,
   "id": "vertical-salem",
   "metadata": {
    "ExecuteTime": {
     "end_time": "2021-09-22T06:33:19.004143Z",
     "start_time": "2021-09-22T06:33:18.996218Z"
    },
    "execution": {
     "iopub.execute_input": "2021-08-19T23:06:21.337230Z",
     "iopub.status.busy": "2021-08-19T23:06:21.337061Z",
     "iopub.status.idle": "2021-08-19T23:06:21.351981Z",
     "shell.execute_reply": "2021-08-19T23:06:21.351546Z",
     "shell.execute_reply.started": "2021-08-19T23:06:21.337210Z"
    }
   },
   "outputs": [
    {
     "data": {
      "text/plain": [
       "{'round': [],\n",
       " 'holdout_performance': [0.6840963018862694,\n",
       "  0.6826620023979764,\n",
       "  0.6824757712301587],\n",
       " 'feature_importance': [CO_UF_PROVA         0.001847\n",
       "  CO_UF_NASCIMENTO    0.001121\n",
       "  CO_UF_RESIDENCIA    0.000730\n",
       "  NU_IDADE            0.040164\n",
       "  IN_SEM_RECURSO     -0.000040\n",
       "  TP_ESTADO_CIVIL    -0.000193\n",
       "  TP_SEXO             0.001602\n",
       "  Q001               -0.000769\n",
       "  Q002               -0.000806\n",
       "  Q003                0.000948\n",
       "  Q004                0.001709\n",
       "  Q005               -0.000672\n",
       "  Q006                0.003520\n",
       "  Q007                0.000338\n",
       "  Q008               -0.000102\n",
       "  Q009               -0.001325\n",
       "  Q010               -0.000251\n",
       "  Q011               -0.000748\n",
       "  Q012                0.000058\n",
       "  Q013               -0.000636\n",
       "  Q014               -0.000116\n",
       "  Q015               -0.000209\n",
       "  Q016               -0.000387\n",
       "  Q017                0.000067\n",
       "  Q018               -0.000481\n",
       "  Q019               -0.000895\n",
       "  Q020               -0.000044\n",
       "  Q021               -0.000151\n",
       "  Q022               -0.001614\n",
       "  Q023               -0.000308\n",
       "  Q024                0.001366\n",
       "  Q025                0.001300\n",
       "  Name: 2017, dtype: float64,\n",
       "  CO_UF_PROVA        -5.783829e-04\n",
       "  CO_UF_NASCIMENTO   -7.340915e-04\n",
       "  CO_UF_RESIDENCIA   -1.081378e-03\n",
       "  NU_IDADE            3.193629e-02\n",
       "  IN_SEM_RECURSO      0.000000e+00\n",
       "  TP_ESTADO_CIVIL    -5.151386e-03\n",
       "  TP_SEXO             6.236043e-04\n",
       "  Q001               -1.579697e-03\n",
       "  Q002               -2.192922e-03\n",
       "  Q003               -2.566155e-07\n",
       "  Q004                3.926218e-05\n",
       "  Q005               -5.648678e-04\n",
       "  Q006                4.066473e-03\n",
       "  Q007                2.890632e-04\n",
       "  Q008               -1.147670e-03\n",
       "  Q009                2.004167e-04\n",
       "  Q010               -1.006503e-03\n",
       "  Q011               -4.419490e-06\n",
       "  Q012                8.006405e-05\n",
       "  Q013                4.892233e-04\n",
       "  Q014               -4.494479e-04\n",
       "  Q015               -4.445152e-05\n",
       "  Q016               -1.240023e-04\n",
       "  Q017                0.000000e+00\n",
       "  Q018               -7.564456e-04\n",
       "  Q019               -2.407054e-04\n",
       "  Q020               -2.092557e-04\n",
       "  Q021                1.245156e-04\n",
       "  Q022               -3.684743e-03\n",
       "  Q023                1.151634e-04\n",
       "  Q024                4.349634e-04\n",
       "  Q025                1.440383e-03\n",
       "  Name: 2016, dtype: float64,\n",
       "  CO_UF_PROVA         0.000267\n",
       "  CO_UF_NASCIMENTO    0.000049\n",
       "  CO_UF_RESIDENCIA    0.001015\n",
       "  NU_IDADE            0.032596\n",
       "  IN_SEM_RECURSO      0.000000\n",
       "  TP_ESTADO_CIVIL    -0.003406\n",
       "  TP_SEXO             0.000882\n",
       "  Q001               -0.000107\n",
       "  Q002               -0.000533\n",
       "  Q003                0.001695\n",
       "  Q004                0.000141\n",
       "  Q005                0.000005\n",
       "  Q006                0.003854\n",
       "  Q007                0.000044\n",
       "  Q008               -0.000294\n",
       "  Q009                0.000579\n",
       "  Q010                0.000049\n",
       "  Q011               -0.000080\n",
       "  Q012                0.000000\n",
       "  Q013               -0.000125\n",
       "  Q014                0.000000\n",
       "  Q015                0.000000\n",
       "  Q016               -0.000129\n",
       "  Q017                0.000000\n",
       "  Q018                0.000022\n",
       "  Q019                0.000418\n",
       "  Q020                0.000521\n",
       "  Q021               -0.000062\n",
       "  Q022               -0.002715\n",
       "  Q023                0.001010\n",
       "  Q024                0.000403\n",
       "  Q025                0.002423\n",
       "  Name: 2015, dtype: float64],\n",
       " 'sample_size': [26996, 61567, 92412],\n",
       " 'last_period_included': [2017, 2016, 2015],\n",
       " 'holdout_performance_by_period': [Year\n",
       "  2018    0.688035\n",
       "  2019    0.689953\n",
       "  dtype: float64,\n",
       "  Year\n",
       "  2018    0.686039\n",
       "  2019    0.688509\n",
       "  dtype: float64,\n",
       "  Year\n",
       "  2018    0.685402\n",
       "  2019    0.687628\n",
       "  dtype: float64]}"
      ]
     },
     "execution_count": 53,
     "metadata": {},
     "output_type": "execute_result"
    }
   ],
   "source": [
    "results"
   ]
  },
  {
   "cell_type": "markdown",
   "id": "superb-container",
   "metadata": {},
   "source": [
    "## Challenger model"
   ]
  },
  {
   "cell_type": "code",
   "execution_count": 54,
   "id": "closing-summer",
   "metadata": {
    "ExecuteTime": {
     "end_time": "2021-09-22T06:33:19.008618Z",
     "start_time": "2021-09-22T06:33:19.005860Z"
    },
    "execution": {
     "iopub.execute_input": "2021-08-20T11:43:35.513920Z",
     "iopub.status.busy": "2021-08-20T11:43:35.513720Z",
     "iopub.status.idle": "2021-08-20T11:43:35.516942Z",
     "shell.execute_reply": "2021-08-20T11:43:35.516433Z",
     "shell.execute_reply.started": "2021-08-20T11:43:35.513872Z"
    }
   },
   "outputs": [],
   "source": [
    "train.reset_index(drop=True, inplace=True)"
   ]
  },
  {
   "cell_type": "code",
   "execution_count": 55,
   "id": "bronze-lebanon",
   "metadata": {
    "ExecuteTime": {
     "end_time": "2021-09-22T06:33:19.050217Z",
     "start_time": "2021-09-22T06:33:19.010376Z"
    },
    "execution": {
     "iopub.execute_input": "2021-08-20T11:43:35.517931Z",
     "iopub.status.busy": "2021-08-20T11:43:35.517729Z",
     "iopub.status.idle": "2021-08-20T11:43:35.558301Z",
     "shell.execute_reply": "2021-08-20T11:43:35.557838Z",
     "shell.execute_reply.started": "2021-08-20T11:43:35.517909Z"
    }
   },
   "outputs": [
    {
     "data": {
      "text/html": [
       "<div>\n",
       "<style scoped>\n",
       "    .dataframe tbody tr th:only-of-type {\n",
       "        vertical-align: middle;\n",
       "    }\n",
       "\n",
       "    .dataframe tbody tr th {\n",
       "        vertical-align: top;\n",
       "    }\n",
       "\n",
       "    .dataframe thead th {\n",
       "        text-align: right;\n",
       "    }\n",
       "</style>\n",
       "<table border=\"1\" class=\"dataframe\">\n",
       "  <thead>\n",
       "    <tr style=\"text-align: right;\">\n",
       "      <th></th>\n",
       "      <th>CO_UF_PROVA</th>\n",
       "      <th>CO_UF_NASCIMENTO</th>\n",
       "      <th>CO_UF_RESIDENCIA</th>\n",
       "      <th>NU_IDADE</th>\n",
       "      <th>IN_SEM_RECURSO</th>\n",
       "      <th>TP_ESTADO_CIVIL</th>\n",
       "      <th>TP_SEXO</th>\n",
       "      <th>Q001</th>\n",
       "      <th>Q002</th>\n",
       "      <th>Q003</th>\n",
       "      <th>...</th>\n",
       "      <th>Q017</th>\n",
       "      <th>Q018</th>\n",
       "      <th>Q019</th>\n",
       "      <th>Q020</th>\n",
       "      <th>Q021</th>\n",
       "      <th>Q022</th>\n",
       "      <th>Q023</th>\n",
       "      <th>Q024</th>\n",
       "      <th>Q025</th>\n",
       "      <th>Year</th>\n",
       "    </tr>\n",
       "  </thead>\n",
       "  <tbody>\n",
       "    <tr>\n",
       "      <th>0</th>\n",
       "      <td>15</td>\n",
       "      <td>15</td>\n",
       "      <td>15</td>\n",
       "      <td>26</td>\n",
       "      <td>0</td>\n",
       "      <td>0</td>\n",
       "      <td>0</td>\n",
       "      <td>1</td>\n",
       "      <td>1</td>\n",
       "      <td>0</td>\n",
       "      <td>...</td>\n",
       "      <td>0</td>\n",
       "      <td>0</td>\n",
       "      <td>1</td>\n",
       "      <td>1</td>\n",
       "      <td>0</td>\n",
       "      <td>2</td>\n",
       "      <td>0</td>\n",
       "      <td>0</td>\n",
       "      <td>0</td>\n",
       "      <td>2015</td>\n",
       "    </tr>\n",
       "    <tr>\n",
       "      <th>1</th>\n",
       "      <td>31</td>\n",
       "      <td>31</td>\n",
       "      <td>31</td>\n",
       "      <td>21</td>\n",
       "      <td>0</td>\n",
       "      <td>0</td>\n",
       "      <td>1</td>\n",
       "      <td>6</td>\n",
       "      <td>6</td>\n",
       "      <td>3</td>\n",
       "      <td>...</td>\n",
       "      <td>0</td>\n",
       "      <td>0</td>\n",
       "      <td>1</td>\n",
       "      <td>0</td>\n",
       "      <td>0</td>\n",
       "      <td>3</td>\n",
       "      <td>1</td>\n",
       "      <td>1</td>\n",
       "      <td>1</td>\n",
       "      <td>2016</td>\n",
       "    </tr>\n",
       "    <tr>\n",
       "      <th>2</th>\n",
       "      <td>32</td>\n",
       "      <td>32</td>\n",
       "      <td>32</td>\n",
       "      <td>21</td>\n",
       "      <td>0</td>\n",
       "      <td>0</td>\n",
       "      <td>1</td>\n",
       "      <td>4</td>\n",
       "      <td>3</td>\n",
       "      <td>1</td>\n",
       "      <td>...</td>\n",
       "      <td>0</td>\n",
       "      <td>0</td>\n",
       "      <td>1</td>\n",
       "      <td>1</td>\n",
       "      <td>0</td>\n",
       "      <td>3</td>\n",
       "      <td>0</td>\n",
       "      <td>0</td>\n",
       "      <td>1</td>\n",
       "      <td>2016</td>\n",
       "    </tr>\n",
       "    <tr>\n",
       "      <th>3</th>\n",
       "      <td>13</td>\n",
       "      <td>13</td>\n",
       "      <td>13</td>\n",
       "      <td>18</td>\n",
       "      <td>0</td>\n",
       "      <td>0</td>\n",
       "      <td>0</td>\n",
       "      <td>2</td>\n",
       "      <td>2</td>\n",
       "      <td>1</td>\n",
       "      <td>...</td>\n",
       "      <td>0</td>\n",
       "      <td>0</td>\n",
       "      <td>1</td>\n",
       "      <td>0</td>\n",
       "      <td>0</td>\n",
       "      <td>2</td>\n",
       "      <td>0</td>\n",
       "      <td>1</td>\n",
       "      <td>0</td>\n",
       "      <td>2017</td>\n",
       "    </tr>\n",
       "    <tr>\n",
       "      <th>4</th>\n",
       "      <td>35</td>\n",
       "      <td>35</td>\n",
       "      <td>35</td>\n",
       "      <td>28</td>\n",
       "      <td>0</td>\n",
       "      <td>1</td>\n",
       "      <td>0</td>\n",
       "      <td>2</td>\n",
       "      <td>2</td>\n",
       "      <td>2</td>\n",
       "      <td>...</td>\n",
       "      <td>0</td>\n",
       "      <td>1</td>\n",
       "      <td>1</td>\n",
       "      <td>1</td>\n",
       "      <td>0</td>\n",
       "      <td>2</td>\n",
       "      <td>0</td>\n",
       "      <td>0</td>\n",
       "      <td>0</td>\n",
       "      <td>2016</td>\n",
       "    </tr>\n",
       "    <tr>\n",
       "      <th>...</th>\n",
       "      <td>...</td>\n",
       "      <td>...</td>\n",
       "      <td>...</td>\n",
       "      <td>...</td>\n",
       "      <td>...</td>\n",
       "      <td>...</td>\n",
       "      <td>...</td>\n",
       "      <td>...</td>\n",
       "      <td>...</td>\n",
       "      <td>...</td>\n",
       "      <td>...</td>\n",
       "      <td>...</td>\n",
       "      <td>...</td>\n",
       "      <td>...</td>\n",
       "      <td>...</td>\n",
       "      <td>...</td>\n",
       "      <td>...</td>\n",
       "      <td>...</td>\n",
       "      <td>...</td>\n",
       "      <td>...</td>\n",
       "      <td>...</td>\n",
       "    </tr>\n",
       "    <tr>\n",
       "      <th>92407</th>\n",
       "      <td>15</td>\n",
       "      <td>15</td>\n",
       "      <td>15</td>\n",
       "      <td>21</td>\n",
       "      <td>0</td>\n",
       "      <td>0</td>\n",
       "      <td>1</td>\n",
       "      <td>7</td>\n",
       "      <td>7</td>\n",
       "      <td>1</td>\n",
       "      <td>...</td>\n",
       "      <td>0</td>\n",
       "      <td>0</td>\n",
       "      <td>2</td>\n",
       "      <td>0</td>\n",
       "      <td>0</td>\n",
       "      <td>2</td>\n",
       "      <td>0</td>\n",
       "      <td>0</td>\n",
       "      <td>0</td>\n",
       "      <td>2016</td>\n",
       "    </tr>\n",
       "    <tr>\n",
       "      <th>92408</th>\n",
       "      <td>41</td>\n",
       "      <td>41</td>\n",
       "      <td>41</td>\n",
       "      <td>16</td>\n",
       "      <td>0</td>\n",
       "      <td>0</td>\n",
       "      <td>1</td>\n",
       "      <td>2</td>\n",
       "      <td>5</td>\n",
       "      <td>2</td>\n",
       "      <td>...</td>\n",
       "      <td>0</td>\n",
       "      <td>0</td>\n",
       "      <td>2</td>\n",
       "      <td>0</td>\n",
       "      <td>1</td>\n",
       "      <td>4</td>\n",
       "      <td>0</td>\n",
       "      <td>0</td>\n",
       "      <td>1</td>\n",
       "      <td>2016</td>\n",
       "    </tr>\n",
       "    <tr>\n",
       "      <th>92409</th>\n",
       "      <td>35</td>\n",
       "      <td>35</td>\n",
       "      <td>35</td>\n",
       "      <td>24</td>\n",
       "      <td>0</td>\n",
       "      <td>0</td>\n",
       "      <td>1</td>\n",
       "      <td>5</td>\n",
       "      <td>5</td>\n",
       "      <td>4</td>\n",
       "      <td>...</td>\n",
       "      <td>0</td>\n",
       "      <td>0</td>\n",
       "      <td>1</td>\n",
       "      <td>0</td>\n",
       "      <td>1</td>\n",
       "      <td>1</td>\n",
       "      <td>1</td>\n",
       "      <td>1</td>\n",
       "      <td>1</td>\n",
       "      <td>2016</td>\n",
       "    </tr>\n",
       "    <tr>\n",
       "      <th>92410</th>\n",
       "      <td>31</td>\n",
       "      <td>31</td>\n",
       "      <td>31</td>\n",
       "      <td>32</td>\n",
       "      <td>0</td>\n",
       "      <td>0</td>\n",
       "      <td>1</td>\n",
       "      <td>1</td>\n",
       "      <td>1</td>\n",
       "      <td>0</td>\n",
       "      <td>...</td>\n",
       "      <td>0</td>\n",
       "      <td>0</td>\n",
       "      <td>1</td>\n",
       "      <td>0</td>\n",
       "      <td>0</td>\n",
       "      <td>2</td>\n",
       "      <td>0</td>\n",
       "      <td>0</td>\n",
       "      <td>0</td>\n",
       "      <td>2015</td>\n",
       "    </tr>\n",
       "    <tr>\n",
       "      <th>92411</th>\n",
       "      <td>52</td>\n",
       "      <td>51</td>\n",
       "      <td>51</td>\n",
       "      <td>15</td>\n",
       "      <td>0</td>\n",
       "      <td>0</td>\n",
       "      <td>0</td>\n",
       "      <td>3</td>\n",
       "      <td>2</td>\n",
       "      <td>0</td>\n",
       "      <td>...</td>\n",
       "      <td>0</td>\n",
       "      <td>1</td>\n",
       "      <td>1</td>\n",
       "      <td>1</td>\n",
       "      <td>0</td>\n",
       "      <td>3</td>\n",
       "      <td>1</td>\n",
       "      <td>1</td>\n",
       "      <td>1</td>\n",
       "      <td>2015</td>\n",
       "    </tr>\n",
       "  </tbody>\n",
       "</table>\n",
       "<p>92412 rows × 33 columns</p>\n",
       "</div>"
      ],
      "text/plain": [
       "       CO_UF_PROVA  CO_UF_NASCIMENTO  CO_UF_RESIDENCIA  NU_IDADE  \\\n",
       "0               15                15                15        26   \n",
       "1               31                31                31        21   \n",
       "2               32                32                32        21   \n",
       "3               13                13                13        18   \n",
       "4               35                35                35        28   \n",
       "...            ...               ...               ...       ...   \n",
       "92407           15                15                15        21   \n",
       "92408           41                41                41        16   \n",
       "92409           35                35                35        24   \n",
       "92410           31                31                31        32   \n",
       "92411           52                51                51        15   \n",
       "\n",
       "       IN_SEM_RECURSO  TP_ESTADO_CIVIL  TP_SEXO  Q001  Q002  Q003  ...  Q017  \\\n",
       "0                   0                0        0     1     1     0  ...     0   \n",
       "1                   0                0        1     6     6     3  ...     0   \n",
       "2                   0                0        1     4     3     1  ...     0   \n",
       "3                   0                0        0     2     2     1  ...     0   \n",
       "4                   0                1        0     2     2     2  ...     0   \n",
       "...               ...              ...      ...   ...   ...   ...  ...   ...   \n",
       "92407               0                0        1     7     7     1  ...     0   \n",
       "92408               0                0        1     2     5     2  ...     0   \n",
       "92409               0                0        1     5     5     4  ...     0   \n",
       "92410               0                0        1     1     1     0  ...     0   \n",
       "92411               0                0        0     3     2     0  ...     0   \n",
       "\n",
       "       Q018  Q019  Q020  Q021  Q022  Q023  Q024  Q025  Year  \n",
       "0         0     1     1     0     2     0     0     0  2015  \n",
       "1         0     1     0     0     3     1     1     1  2016  \n",
       "2         0     1     1     0     3     0     0     1  2016  \n",
       "3         0     1     0     0     2     0     1     0  2017  \n",
       "4         1     1     1     0     2     0     0     0  2016  \n",
       "...     ...   ...   ...   ...   ...   ...   ...   ...   ...  \n",
       "92407     0     2     0     0     2     0     0     0  2016  \n",
       "92408     0     2     0     1     4     0     0     1  2016  \n",
       "92409     0     1     0     1     1     1     1     1  2016  \n",
       "92410     0     1     0     0     2     0     0     0  2015  \n",
       "92411     1     1     1     0     3     1     1     1  2015  \n",
       "\n",
       "[92412 rows x 33 columns]"
      ]
     },
     "execution_count": 55,
     "metadata": {},
     "output_type": "execute_result"
    }
   ],
   "source": [
    "train[features + [TIME_COLUMN]]"
   ]
  },
  {
   "cell_type": "code",
   "execution_count": 56,
   "id": "frozen-awareness",
   "metadata": {
    "ExecuteTime": {
     "end_time": "2021-09-22T06:33:19.057366Z",
     "start_time": "2021-09-22T06:33:19.052039Z"
    },
    "execution": {
     "iopub.execute_input": "2021-08-20T11:43:35.559318Z",
     "iopub.status.busy": "2021-08-20T11:43:35.559149Z",
     "iopub.status.idle": "2021-08-20T11:43:35.564933Z",
     "shell.execute_reply": "2021-08-20T11:43:35.564485Z",
     "shell.execute_reply.started": "2021-08-20T11:43:35.559297Z"
    }
   },
   "outputs": [
    {
     "data": {
      "text/plain": [
       "2016    34571\n",
       "2015    30845\n",
       "2017    26996\n",
       "Name: Year, dtype: int64"
      ]
     },
     "execution_count": 56,
     "metadata": {},
     "output_type": "execute_result"
    }
   ],
   "source": [
    "train[\"Year\"].value_counts()"
   ]
  },
  {
   "cell_type": "code",
   "execution_count": 57,
   "id": "brilliant-nevada",
   "metadata": {
    "ExecuteTime": {
     "end_time": "2021-09-22T06:33:19.061370Z",
     "start_time": "2021-09-22T06:33:19.058959Z"
    },
    "execution": {
     "iopub.execute_input": "2021-08-20T11:43:35.565891Z",
     "iopub.status.busy": "2021-08-20T11:43:35.565648Z",
     "iopub.status.idle": "2021-08-20T11:43:35.568374Z",
     "shell.execute_reply": "2021-08-20T11:43:35.567907Z",
     "shell.execute_reply.started": "2021-08-20T11:43:35.565869Z"
    }
   },
   "outputs": [],
   "source": [
    "CHALLENGER_MAX_DEPTH = int(tuned_rf.max_depth)\n",
    "CHALLENGER_N_ESTIMATORS = int(tuned_rf.n_estimators)\n",
    "CHALLENGER_MIN_SAMPLES_BY_PERIODS = 10"
   ]
  },
  {
   "cell_type": "code",
   "execution_count": 58,
   "id": "portuguese-acrobat",
   "metadata": {
    "ExecuteTime": {
     "end_time": "2021-09-22T07:50:33.867254Z",
     "start_time": "2021-09-22T06:33:19.063256Z"
    },
    "execution": {
     "iopub.execute_input": "2021-08-19T23:06:21.398005Z",
     "iopub.status.busy": "2021-08-19T23:06:21.397850Z",
     "iopub.status.idle": "2021-08-19T23:13:54.787282Z",
     "shell.execute_reply": "2021-08-19T23:13:54.786568Z",
     "shell.execute_reply.started": "2021-08-19T23:06:21.397986Z"
    }
   },
   "outputs": [],
   "source": [
    "challenger_model_max = TimeForestClassifier(time_column=TIME_COLUMN,\n",
    "                                        n_estimators=CHALLENGER_N_ESTIMATORS,\n",
    "                                        min_sample_periods=CHALLENGER_MIN_SAMPLES_BY_PERIODS,\n",
    "                                        max_depth=CHALLENGER_MAX_DEPTH,\n",
    "                                        period_criterion='max',\n",
    "                                        multi=True)\n",
    "\n",
    "challenger_model_max.fit(train[features + [TIME_COLUMN]], train[TARGET].values)"
   ]
  },
  {
   "cell_type": "code",
   "execution_count": 59,
   "id": "valuable-bridal",
   "metadata": {
    "ExecuteTime": {
     "end_time": "2021-09-22T08:04:58.565436Z",
     "start_time": "2021-09-22T07:50:33.870241Z"
    },
    "execution": {
     "iopub.execute_input": "2021-08-19T23:13:54.788440Z",
     "iopub.status.busy": "2021-08-19T23:13:54.788255Z",
     "iopub.status.idle": "2021-08-19T23:15:52.772293Z",
     "shell.execute_reply": "2021-08-19T23:15:52.771513Z",
     "shell.execute_reply.started": "2021-08-19T23:13:54.788418Z"
    }
   },
   "outputs": [],
   "source": [
    "train[\"challenger_prediction_max\"] = challenger_model_max.predict_proba(train[features])[:, 1]\n",
    "test[\"challenger_prediction_max\"] = challenger_model_max.predict_proba(test[features])[:, 1]\n",
    "out_of_time[\"challenger_prediction_max\"] = challenger_model_max.predict_proba(out_of_time[features])[:, 1]"
   ]
  },
  {
   "cell_type": "code",
   "execution_count": 60,
   "id": "allied-campus",
   "metadata": {
    "ExecuteTime": {
     "end_time": "2021-09-22T08:04:58.642316Z",
     "start_time": "2021-09-22T08:04:58.568594Z"
    },
    "execution": {
     "iopub.execute_input": "2021-08-19T23:15:52.773419Z",
     "iopub.status.busy": "2021-08-19T23:15:52.773233Z",
     "iopub.status.idle": "2021-08-19T23:15:52.891648Z",
     "shell.execute_reply": "2021-08-19T23:15:52.891099Z",
     "shell.execute_reply.started": "2021-08-19T23:15:52.773397Z"
    }
   },
   "outputs": [
    {
     "name": "stdout",
     "output_type": "stream",
     "text": [
      "0.7118482250161537\n",
      "0.6965696131508561\n",
      "0.6877436619092652\n"
     ]
    }
   ],
   "source": [
    "print(roc_auc_score(train[TARGET], train[\"challenger_prediction_max\"]))\n",
    "print(roc_auc_score(test[TARGET], test[\"challenger_prediction_max\"]))\n",
    "print(roc_auc_score(out_of_time[TARGET], out_of_time[\"challenger_prediction_max\"]))"
   ]
  },
  {
   "cell_type": "code",
   "execution_count": 61,
   "id": "mexican-stocks",
   "metadata": {
    "ExecuteTime": {
     "end_time": "2021-09-22T08:04:59.838970Z",
     "start_time": "2021-09-22T08:04:58.645104Z"
    },
    "execution": {
     "iopub.execute_input": "2021-08-19T23:15:52.892653Z",
     "iopub.status.busy": "2021-08-19T23:15:52.892488Z",
     "iopub.status.idle": "2021-08-19T23:15:53.223910Z",
     "shell.execute_reply": "2021-08-19T23:15:53.223420Z",
     "shell.execute_reply.started": "2021-08-19T23:15:52.892633Z"
    }
   },
   "outputs": [
    {
     "data": {
      "text/plain": [
       "NU_IDADE            12912\n",
       "CO_UF_PROVA         10600\n",
       "CO_UF_NASCIMENTO    10224\n",
       "CO_UF_RESIDENCIA     9587\n",
       "Q006                 9004\n",
       "Q001                 7769\n",
       "Q005                 7614\n",
       "Q002                 7597\n",
       "Q003                 6852\n",
       "Q004                 5885\n",
       "Q022                 5576\n",
       "TP_SEXO              4441\n",
       "Q009                 4422\n",
       "Q024                 3607\n",
       "Q020                 3533\n",
       "Q019                 3465\n",
       "Q010                 2909\n",
       "Q013                 2827\n",
       "Q011                 2695\n",
       "Q008                 2669\n",
       "Q016                 2643\n",
       "Q023                 2562\n",
       "Q014                 2533\n",
       "Q021                 2144\n",
       "TP_ESTADO_CIVIL      1884\n",
       "Q025                 1860\n",
       "Q018                 1548\n",
       "Q015                 1208\n",
       "Q007                  921\n",
       "Q012                  605\n",
       "Q017                  201\n",
       "IN_SEM_RECURSO         19\n",
       "Name: TRF Max, dtype: int64"
      ]
     },
     "execution_count": 61,
     "metadata": {},
     "output_type": "execute_result"
    }
   ],
   "source": [
    "challenger_model_max.feature_importance()\n",
    "\n",
    "challenger_model_max_importances = challenger_model_max.feature_importance()\n",
    "challenger_model_max_importances.rename(\"TRF Max\", inplace=True)"
   ]
  },
  {
   "cell_type": "code",
   "execution_count": 62,
   "id": "dangerous-strategy",
   "metadata": {
    "ExecuteTime": {
     "end_time": "2021-09-22T09:53:29.709973Z",
     "start_time": "2021-09-22T08:04:59.841989Z"
    },
    "execution": {
     "iopub.execute_input": "2021-08-20T11:43:35.569248Z",
     "iopub.status.busy": "2021-08-20T11:43:35.569090Z",
     "iopub.status.idle": "2021-08-20T11:50:34.734163Z",
     "shell.execute_reply": "2021-08-20T11:50:34.733397Z",
     "shell.execute_reply.started": "2021-08-20T11:43:35.569229Z"
    }
   },
   "outputs": [],
   "source": [
    "challenger_model = TimeForestClassifier(time_column=TIME_COLUMN,\n",
    "                                        n_estimators=CHALLENGER_N_ESTIMATORS,\n",
    "                                        min_sample_periods=CHALLENGER_MIN_SAMPLES_BY_PERIODS,\n",
    "                                        max_depth=CHALLENGER_MAX_DEPTH,\n",
    "                                        criterion=\"std_norm\",\n",
    "                                        multi=True)\n",
    "challenger_model.fit(train[features + [TIME_COLUMN]], train[TARGET].values)\n",
    "\n",
    "train[\"challenger_prediction\"] = challenger_model.predict_proba(train[features])[:, 1]\n",
    "test[\"challenger_prediction\"] = challenger_model.predict_proba(test[features])[:, 1]\n",
    "out_of_time[\"challenger_prediction\"] = challenger_model.predict_proba(out_of_time[features])[:, 1]"
   ]
  },
  {
   "cell_type": "code",
   "execution_count": 63,
   "id": "senior-settlement",
   "metadata": {
    "ExecuteTime": {
     "end_time": "2021-09-22T09:53:29.804648Z",
     "start_time": "2021-09-22T09:53:29.735887Z"
    },
    "execution": {
     "iopub.execute_input": "2021-08-20T11:50:34.735479Z",
     "iopub.status.busy": "2021-08-20T11:50:34.735284Z",
     "iopub.status.idle": "2021-08-20T11:50:34.857697Z",
     "shell.execute_reply": "2021-08-20T11:50:34.857179Z",
     "shell.execute_reply.started": "2021-08-20T11:50:34.735455Z"
    }
   },
   "outputs": [
    {
     "name": "stdout",
     "output_type": "stream",
     "text": [
      "0.7160959012653743\n",
      "0.697681364692047\n",
      "0.6874654993736665\n"
     ]
    }
   ],
   "source": [
    "print(roc_auc_score(train[TARGET], train[\"challenger_prediction\"]))\n",
    "print(roc_auc_score(test[TARGET], test[\"challenger_prediction\"]))\n",
    "print(roc_auc_score(out_of_time[TARGET], out_of_time[\"challenger_prediction\"]))"
   ]
  },
  {
   "cell_type": "markdown",
   "id": "identified-scholarship",
   "metadata": {},
   "source": [
    "## Feature Importance migration"
   ]
  },
  {
   "cell_type": "code",
   "execution_count": 64,
   "id": "reflected-footwear",
   "metadata": {
    "ExecuteTime": {
     "end_time": "2021-09-22T19:33:37.467787Z",
     "start_time": "2021-09-22T09:53:29.810522Z"
    },
    "execution": {
     "iopub.execute_input": "2021-08-19T23:25:12.246775Z",
     "iopub.status.busy": "2021-08-19T23:25:12.246612Z",
     "iopub.status.idle": "2021-08-20T02:43:39.274026Z",
     "shell.execute_reply": "2021-08-20T02:43:39.272519Z",
     "shell.execute_reply.started": "2021-08-19T23:25:12.246754Z"
    }
   },
   "outputs": [
    {
     "ename": "KeyboardInterrupt",
     "evalue": "",
     "output_type": "error",
     "traceback": [
      "\u001b[0;31m---------------------------------------------------------------------------\u001b[0m",
      "\u001b[0;31mKeyboardInterrupt\u001b[0m                         Traceback (most recent call last)",
      "\u001b[0;32m~/opt/miniconda3/envs/ml3/lib/python3.6/site-packages/joblib/parallel.py\u001b[0m in \u001b[0;36mretrieve\u001b[0;34m(self)\u001b[0m\n\u001b[1;32m    932\u001b[0m                 \u001b[0;32mif\u001b[0m \u001b[0mgetattr\u001b[0m\u001b[0;34m(\u001b[0m\u001b[0mself\u001b[0m\u001b[0;34m.\u001b[0m\u001b[0m_backend\u001b[0m\u001b[0;34m,\u001b[0m \u001b[0;34m'supports_timeout'\u001b[0m\u001b[0;34m,\u001b[0m \u001b[0;32mFalse\u001b[0m\u001b[0;34m)\u001b[0m\u001b[0;34m:\u001b[0m\u001b[0;34m\u001b[0m\u001b[0m\n\u001b[0;32m--> 933\u001b[0;31m                     \u001b[0mself\u001b[0m\u001b[0;34m.\u001b[0m\u001b[0m_output\u001b[0m\u001b[0;34m.\u001b[0m\u001b[0mextend\u001b[0m\u001b[0;34m(\u001b[0m\u001b[0mjob\u001b[0m\u001b[0;34m.\u001b[0m\u001b[0mget\u001b[0m\u001b[0;34m(\u001b[0m\u001b[0mtimeout\u001b[0m\u001b[0;34m=\u001b[0m\u001b[0mself\u001b[0m\u001b[0;34m.\u001b[0m\u001b[0mtimeout\u001b[0m\u001b[0;34m)\u001b[0m\u001b[0;34m)\u001b[0m\u001b[0;34m\u001b[0m\u001b[0m\n\u001b[0m\u001b[1;32m    934\u001b[0m                 \u001b[0;32melse\u001b[0m\u001b[0;34m:\u001b[0m\u001b[0;34m\u001b[0m\u001b[0m\n",
      "\u001b[0;32m~/opt/miniconda3/envs/ml3/lib/python3.6/site-packages/joblib/_parallel_backends.py\u001b[0m in \u001b[0;36mwrap_future_result\u001b[0;34m(future, timeout)\u001b[0m\n\u001b[1;32m    541\u001b[0m         \u001b[0;32mtry\u001b[0m\u001b[0;34m:\u001b[0m\u001b[0;34m\u001b[0m\u001b[0m\n\u001b[0;32m--> 542\u001b[0;31m             \u001b[0;32mreturn\u001b[0m \u001b[0mfuture\u001b[0m\u001b[0;34m.\u001b[0m\u001b[0mresult\u001b[0m\u001b[0;34m(\u001b[0m\u001b[0mtimeout\u001b[0m\u001b[0;34m=\u001b[0m\u001b[0mtimeout\u001b[0m\u001b[0;34m)\u001b[0m\u001b[0;34m\u001b[0m\u001b[0m\n\u001b[0m\u001b[1;32m    543\u001b[0m         \u001b[0;32mexcept\u001b[0m \u001b[0mCfTimeoutError\u001b[0m \u001b[0;32mas\u001b[0m \u001b[0me\u001b[0m\u001b[0;34m:\u001b[0m\u001b[0;34m\u001b[0m\u001b[0m\n",
      "\u001b[0;32m~/opt/miniconda3/envs/ml3/lib/python3.6/concurrent/futures/_base.py\u001b[0m in \u001b[0;36mresult\u001b[0;34m(self, timeout)\u001b[0m\n\u001b[1;32m    426\u001b[0m \u001b[0;34m\u001b[0m\u001b[0m\n\u001b[0;32m--> 427\u001b[0;31m             \u001b[0mself\u001b[0m\u001b[0;34m.\u001b[0m\u001b[0m_condition\u001b[0m\u001b[0;34m.\u001b[0m\u001b[0mwait\u001b[0m\u001b[0;34m(\u001b[0m\u001b[0mtimeout\u001b[0m\u001b[0;34m)\u001b[0m\u001b[0;34m\u001b[0m\u001b[0m\n\u001b[0m\u001b[1;32m    428\u001b[0m \u001b[0;34m\u001b[0m\u001b[0m\n",
      "\u001b[0;32m~/opt/miniconda3/envs/ml3/lib/python3.6/threading.py\u001b[0m in \u001b[0;36mwait\u001b[0;34m(self, timeout)\u001b[0m\n\u001b[1;32m    294\u001b[0m             \u001b[0;32mif\u001b[0m \u001b[0mtimeout\u001b[0m \u001b[0;32mis\u001b[0m \u001b[0;32mNone\u001b[0m\u001b[0;34m:\u001b[0m\u001b[0;34m\u001b[0m\u001b[0m\n\u001b[0;32m--> 295\u001b[0;31m                 \u001b[0mwaiter\u001b[0m\u001b[0;34m.\u001b[0m\u001b[0macquire\u001b[0m\u001b[0;34m(\u001b[0m\u001b[0;34m)\u001b[0m\u001b[0;34m\u001b[0m\u001b[0m\n\u001b[0m\u001b[1;32m    296\u001b[0m                 \u001b[0mgotit\u001b[0m \u001b[0;34m=\u001b[0m \u001b[0;32mTrue\u001b[0m\u001b[0;34m\u001b[0m\u001b[0m\n",
      "\u001b[0;31mKeyboardInterrupt\u001b[0m: ",
      "\nDuring handling of the above exception, another exception occurred:\n",
      "\u001b[0;31mKeyboardInterrupt\u001b[0m                         Traceback (most recent call last)",
      "\u001b[0;32m<ipython-input-64-a57f17dc2e50>\u001b[0m in \u001b[0;36m<module>\u001b[0;34m\u001b[0m\n\u001b[1;32m      5\u001b[0m                                         multi=True)\n\u001b[1;32m      6\u001b[0m \u001b[0;34m\u001b[0m\u001b[0m\n\u001b[0;32m----> 7\u001b[0;31m \u001b[0mresults_trt\u001b[0m \u001b[0;34m=\u001b[0m \u001b[0mreverse_learning_curve\u001b[0m\u001b[0;34m(\u001b[0m\u001b[0mtrain\u001b[0m\u001b[0;34m,\u001b[0m \u001b[0mout_of_time\u001b[0m\u001b[0;34m,\u001b[0m \u001b[0mchallenger_model\u001b[0m\u001b[0;34m,\u001b[0m \u001b[0mfeatures\u001b[0m\u001b[0;34m,\u001b[0m \u001b[0mTARGET\u001b[0m\u001b[0;34m,\u001b[0m \u001b[0mTIME_COLUMN\u001b[0m\u001b[0;34m,\u001b[0m \u001b[0mroc_auc_score\u001b[0m\u001b[0;34m,\u001b[0m \u001b[0mn_rounds\u001b[0m\u001b[0;34m=\u001b[0m\u001b[0;36m5\u001b[0m\u001b[0;34m,\u001b[0m \u001b[0mtrt_model\u001b[0m\u001b[0;34m=\u001b[0m\u001b[0;32mTrue\u001b[0m\u001b[0;34m)\u001b[0m\u001b[0;34m\u001b[0m\u001b[0m\n\u001b[0m",
      "\u001b[0;32m~/repos/msc-thesis/contribution/models/aux_functions.py\u001b[0m in \u001b[0;36mreverse_learning_curve\u001b[0;34m(train, holdout, model, features, target, time_column, performance_function, n_rounds, trt_model, verbose, use_permutation_importance)\u001b[0m\n\u001b[1;32m     37\u001b[0m         \u001b[0;32mif\u001b[0m \u001b[0mtrt_model\u001b[0m\u001b[0;34m:\u001b[0m\u001b[0;34m\u001b[0m\u001b[0m\n\u001b[1;32m     38\u001b[0m             model.fit(train[train[time_column].isin(train_time_segments[:nth+1])][features + [time_column]].reset_index(inplace=False, drop=True),\n\u001b[0;32m---> 39\u001b[0;31m             train[train[time_column].isin(train_time_segments[:nth+1])][target].reset_index(inplace=False, drop=True))\n\u001b[0m\u001b[1;32m     40\u001b[0m         \u001b[0;32melse\u001b[0m\u001b[0;34m:\u001b[0m\u001b[0;34m\u001b[0m\u001b[0m\n\u001b[1;32m     41\u001b[0m             model.fit(train[train[time_column].isin(train_time_segments[:nth+1])][features].reset_index(inplace=False, drop=True),\n",
      "\u001b[0;32m~/opt/miniconda3/envs/ml3/lib/python3.6/site-packages/time_robust_forest/models.py\u001b[0m in \u001b[0;36mfit\u001b[0;34m(self, X, y, sample_weight, verbose)\u001b[0m\n\u001b[1;32m    304\u001b[0m                     \u001b[0mrandom_state\u001b[0m\u001b[0;34m=\u001b[0m\u001b[0mi\u001b[0m\u001b[0;34m,\u001b[0m\u001b[0;34m\u001b[0m\u001b[0m\n\u001b[1;32m    305\u001b[0m                 )\n\u001b[0;32m--> 306\u001b[0;31m                 \u001b[0;32mfor\u001b[0m \u001b[0mi\u001b[0m \u001b[0;32min\u001b[0m \u001b[0mrange\u001b[0m\u001b[0;34m(\u001b[0m\u001b[0mself\u001b[0m\u001b[0;34m.\u001b[0m\u001b[0mn_estimators\u001b[0m\u001b[0;34m)\u001b[0m\u001b[0;34m\u001b[0m\u001b[0m\n\u001b[0m\u001b[1;32m    307\u001b[0m             )\n\u001b[1;32m    308\u001b[0m \u001b[0;34m\u001b[0m\u001b[0m\n",
      "\u001b[0;32m~/opt/miniconda3/envs/ml3/lib/python3.6/site-packages/joblib/parallel.py\u001b[0m in \u001b[0;36m__call__\u001b[0;34m(self, iterable)\u001b[0m\n\u001b[1;32m   1052\u001b[0m \u001b[0;34m\u001b[0m\u001b[0m\n\u001b[1;32m   1053\u001b[0m             \u001b[0;32mwith\u001b[0m \u001b[0mself\u001b[0m\u001b[0;34m.\u001b[0m\u001b[0m_backend\u001b[0m\u001b[0;34m.\u001b[0m\u001b[0mretrieval_context\u001b[0m\u001b[0;34m(\u001b[0m\u001b[0;34m)\u001b[0m\u001b[0;34m:\u001b[0m\u001b[0;34m\u001b[0m\u001b[0m\n\u001b[0;32m-> 1054\u001b[0;31m                 \u001b[0mself\u001b[0m\u001b[0;34m.\u001b[0m\u001b[0mretrieve\u001b[0m\u001b[0;34m(\u001b[0m\u001b[0;34m)\u001b[0m\u001b[0;34m\u001b[0m\u001b[0m\n\u001b[0m\u001b[1;32m   1055\u001b[0m             \u001b[0;31m# Make sure that we get a last message telling us we are done\u001b[0m\u001b[0;34m\u001b[0m\u001b[0;34m\u001b[0m\u001b[0m\n\u001b[1;32m   1056\u001b[0m             \u001b[0melapsed_time\u001b[0m \u001b[0;34m=\u001b[0m \u001b[0mtime\u001b[0m\u001b[0;34m.\u001b[0m\u001b[0mtime\u001b[0m\u001b[0;34m(\u001b[0m\u001b[0;34m)\u001b[0m \u001b[0;34m-\u001b[0m \u001b[0mself\u001b[0m\u001b[0;34m.\u001b[0m\u001b[0m_start_time\u001b[0m\u001b[0;34m\u001b[0m\u001b[0m\n",
      "\u001b[0;32m~/opt/miniconda3/envs/ml3/lib/python3.6/site-packages/joblib/parallel.py\u001b[0m in \u001b[0;36mretrieve\u001b[0;34m(self)\u001b[0m\n\u001b[1;32m    953\u001b[0m                     \u001b[0;31m# scheduling.\u001b[0m\u001b[0;34m\u001b[0m\u001b[0;34m\u001b[0m\u001b[0m\n\u001b[1;32m    954\u001b[0m                     \u001b[0mensure_ready\u001b[0m \u001b[0;34m=\u001b[0m \u001b[0mself\u001b[0m\u001b[0;34m.\u001b[0m\u001b[0m_managed_backend\u001b[0m\u001b[0;34m\u001b[0m\u001b[0m\n\u001b[0;32m--> 955\u001b[0;31m                     \u001b[0mbackend\u001b[0m\u001b[0;34m.\u001b[0m\u001b[0mabort_everything\u001b[0m\u001b[0;34m(\u001b[0m\u001b[0mensure_ready\u001b[0m\u001b[0;34m=\u001b[0m\u001b[0mensure_ready\u001b[0m\u001b[0;34m)\u001b[0m\u001b[0;34m\u001b[0m\u001b[0m\n\u001b[0m\u001b[1;32m    956\u001b[0m                 \u001b[0;32mraise\u001b[0m\u001b[0;34m\u001b[0m\u001b[0m\n\u001b[1;32m    957\u001b[0m \u001b[0;34m\u001b[0m\u001b[0m\n",
      "\u001b[0;32m~/opt/miniconda3/envs/ml3/lib/python3.6/site-packages/joblib/_parallel_backends.py\u001b[0m in \u001b[0;36mabort_everything\u001b[0;34m(self, ensure_ready)\u001b[0m\n\u001b[1;32m    559\u001b[0m         \"\"\"Shutdown the workers and restart a new one with the same parameters\n\u001b[1;32m    560\u001b[0m         \"\"\"\n\u001b[0;32m--> 561\u001b[0;31m         \u001b[0mself\u001b[0m\u001b[0;34m.\u001b[0m\u001b[0m_workers\u001b[0m\u001b[0;34m.\u001b[0m\u001b[0mterminate\u001b[0m\u001b[0;34m(\u001b[0m\u001b[0mkill_workers\u001b[0m\u001b[0;34m=\u001b[0m\u001b[0;32mTrue\u001b[0m\u001b[0;34m)\u001b[0m\u001b[0;34m\u001b[0m\u001b[0m\n\u001b[0m\u001b[1;32m    562\u001b[0m         \u001b[0mself\u001b[0m\u001b[0;34m.\u001b[0m\u001b[0m_workers\u001b[0m \u001b[0;34m=\u001b[0m \u001b[0;32mNone\u001b[0m\u001b[0;34m\u001b[0m\u001b[0m\n\u001b[1;32m    563\u001b[0m \u001b[0;34m\u001b[0m\u001b[0m\n",
      "\u001b[0;32m~/opt/miniconda3/envs/ml3/lib/python3.6/site-packages/joblib/executor.py\u001b[0m in \u001b[0;36mterminate\u001b[0;34m(self, kill_workers)\u001b[0m\n\u001b[1;32m     72\u001b[0m \u001b[0;34m\u001b[0m\u001b[0m\n\u001b[1;32m     73\u001b[0m     \u001b[0;32mdef\u001b[0m \u001b[0mterminate\u001b[0m\u001b[0;34m(\u001b[0m\u001b[0mself\u001b[0m\u001b[0;34m,\u001b[0m \u001b[0mkill_workers\u001b[0m\u001b[0;34m=\u001b[0m\u001b[0;32mFalse\u001b[0m\u001b[0;34m)\u001b[0m\u001b[0;34m:\u001b[0m\u001b[0;34m\u001b[0m\u001b[0m\n\u001b[0;32m---> 74\u001b[0;31m         \u001b[0mself\u001b[0m\u001b[0;34m.\u001b[0m\u001b[0mshutdown\u001b[0m\u001b[0;34m(\u001b[0m\u001b[0mkill_workers\u001b[0m\u001b[0;34m=\u001b[0m\u001b[0mkill_workers\u001b[0m\u001b[0;34m)\u001b[0m\u001b[0;34m\u001b[0m\u001b[0m\n\u001b[0m\u001b[1;32m     75\u001b[0m         \u001b[0;32mif\u001b[0m \u001b[0mkill_workers\u001b[0m\u001b[0;34m:\u001b[0m\u001b[0;34m\u001b[0m\u001b[0m\n\u001b[1;32m     76\u001b[0m             \u001b[0;31m# When workers are killed in such a brutal manner, they cannot\u001b[0m\u001b[0;34m\u001b[0m\u001b[0;34m\u001b[0m\u001b[0m\n",
      "\u001b[0;32m~/opt/miniconda3/envs/ml3/lib/python3.6/site-packages/joblib/externals/loky/process_executor.py\u001b[0m in \u001b[0;36mshutdown\u001b[0;34m(self, wait, kill_workers)\u001b[0m\n\u001b[1;32m   1169\u001b[0m \u001b[0;34m\u001b[0m\u001b[0m\n\u001b[1;32m   1170\u001b[0m         \u001b[0;32mif\u001b[0m \u001b[0mexecutor_manager_thread\u001b[0m \u001b[0;32mis\u001b[0m \u001b[0;32mnot\u001b[0m \u001b[0;32mNone\u001b[0m \u001b[0;32mand\u001b[0m \u001b[0mwait\u001b[0m\u001b[0;34m:\u001b[0m\u001b[0;34m\u001b[0m\u001b[0m\n\u001b[0;32m-> 1171\u001b[0;31m             \u001b[0mexecutor_manager_thread\u001b[0m\u001b[0;34m.\u001b[0m\u001b[0mjoin\u001b[0m\u001b[0;34m(\u001b[0m\u001b[0;34m)\u001b[0m\u001b[0;34m\u001b[0m\u001b[0m\n\u001b[0m\u001b[1;32m   1172\u001b[0m \u001b[0;34m\u001b[0m\u001b[0m\n\u001b[1;32m   1173\u001b[0m         \u001b[0;31m# To reduce the risk of opening too many files, remove references to\u001b[0m\u001b[0;34m\u001b[0m\u001b[0;34m\u001b[0m\u001b[0m\n",
      "\u001b[0;32m~/opt/miniconda3/envs/ml3/lib/python3.6/threading.py\u001b[0m in \u001b[0;36mjoin\u001b[0;34m(self, timeout)\u001b[0m\n\u001b[1;32m   1054\u001b[0m \u001b[0;34m\u001b[0m\u001b[0m\n\u001b[1;32m   1055\u001b[0m         \u001b[0;32mif\u001b[0m \u001b[0mtimeout\u001b[0m \u001b[0;32mis\u001b[0m \u001b[0;32mNone\u001b[0m\u001b[0;34m:\u001b[0m\u001b[0;34m\u001b[0m\u001b[0m\n\u001b[0;32m-> 1056\u001b[0;31m             \u001b[0mself\u001b[0m\u001b[0;34m.\u001b[0m\u001b[0m_wait_for_tstate_lock\u001b[0m\u001b[0;34m(\u001b[0m\u001b[0;34m)\u001b[0m\u001b[0;34m\u001b[0m\u001b[0m\n\u001b[0m\u001b[1;32m   1057\u001b[0m         \u001b[0;32melse\u001b[0m\u001b[0;34m:\u001b[0m\u001b[0;34m\u001b[0m\u001b[0m\n\u001b[1;32m   1058\u001b[0m             \u001b[0;31m# the behavior of a negative timeout isn't documented, but\u001b[0m\u001b[0;34m\u001b[0m\u001b[0;34m\u001b[0m\u001b[0m\n",
      "\u001b[0;32m~/opt/miniconda3/envs/ml3/lib/python3.6/threading.py\u001b[0m in \u001b[0;36m_wait_for_tstate_lock\u001b[0;34m(self, block, timeout)\u001b[0m\n\u001b[1;32m   1070\u001b[0m         \u001b[0;32mif\u001b[0m \u001b[0mlock\u001b[0m \u001b[0;32mis\u001b[0m \u001b[0;32mNone\u001b[0m\u001b[0;34m:\u001b[0m  \u001b[0;31m# already determined that the C code is done\u001b[0m\u001b[0;34m\u001b[0m\u001b[0m\n\u001b[1;32m   1071\u001b[0m             \u001b[0;32massert\u001b[0m \u001b[0mself\u001b[0m\u001b[0;34m.\u001b[0m\u001b[0m_is_stopped\u001b[0m\u001b[0;34m\u001b[0m\u001b[0m\n\u001b[0;32m-> 1072\u001b[0;31m         \u001b[0;32melif\u001b[0m \u001b[0mlock\u001b[0m\u001b[0;34m.\u001b[0m\u001b[0macquire\u001b[0m\u001b[0;34m(\u001b[0m\u001b[0mblock\u001b[0m\u001b[0;34m,\u001b[0m \u001b[0mtimeout\u001b[0m\u001b[0;34m)\u001b[0m\u001b[0;34m:\u001b[0m\u001b[0;34m\u001b[0m\u001b[0m\n\u001b[0m\u001b[1;32m   1073\u001b[0m             \u001b[0mlock\u001b[0m\u001b[0;34m.\u001b[0m\u001b[0mrelease\u001b[0m\u001b[0;34m(\u001b[0m\u001b[0;34m)\u001b[0m\u001b[0;34m\u001b[0m\u001b[0m\n\u001b[1;32m   1074\u001b[0m             \u001b[0mself\u001b[0m\u001b[0;34m.\u001b[0m\u001b[0m_stop\u001b[0m\u001b[0;34m(\u001b[0m\u001b[0;34m)\u001b[0m\u001b[0;34m\u001b[0m\u001b[0m\n",
      "\u001b[0;31mKeyboardInterrupt\u001b[0m: "
     ]
    }
   ],
   "source": [
    "challenger_model = TimeForestClassifier(time_column=TIME_COLUMN,\n",
    "                                        n_estimators=CHALLENGER_N_ESTIMATORS,\n",
    "                                        min_sample_periods=CHALLENGER_MIN_SAMPLES_BY_PERIODS,\n",
    "                                        max_depth=CHALLENGER_MAX_DEPTH,\n",
    "                                        multi=True)\n",
    "\n",
    "results_trt = reverse_learning_curve(train, out_of_time, challenger_model, features, TARGET, TIME_COLUMN, roc_auc_score, n_rounds=5, trt_model=True)"
   ]
  },
  {
   "cell_type": "code",
   "execution_count": null,
   "id": "declared-approval",
   "metadata": {
    "ExecuteTime": {
     "end_time": "2021-09-22T19:33:37.474181Z",
     "start_time": "2021-09-22T06:21:20.377Z"
    },
    "execution": {
     "iopub.execute_input": "2021-08-20T02:43:39.275313Z",
     "iopub.status.busy": "2021-08-20T02:43:39.275148Z",
     "iopub.status.idle": "2021-08-20T02:43:39.281148Z",
     "shell.execute_reply": "2021-08-20T02:43:39.280630Z",
     "shell.execute_reply.started": "2021-08-20T02:43:39.275292Z"
    }
   },
   "outputs": [],
   "source": [
    "challenger_model_importances = results_trt[\"feature_importance\"][-1].copy(deep=True)\n",
    "challenger_model_importances.rename(\"TRF\", inplace=True)"
   ]
  },
  {
   "cell_type": "code",
   "execution_count": null,
   "id": "decent-reset",
   "metadata": {
    "ExecuteTime": {
     "end_time": "2021-09-22T19:33:37.476525Z",
     "start_time": "2021-09-22T06:21:20.477Z"
    },
    "execution": {
     "iopub.execute_input": "2021-08-20T02:43:39.282142Z",
     "iopub.status.busy": "2021-08-20T02:43:39.281971Z",
     "iopub.status.idle": "2021-08-20T02:43:39.295361Z",
     "shell.execute_reply": "2021-08-20T02:43:39.294849Z",
     "shell.execute_reply.started": "2021-08-20T02:43:39.282121Z"
    }
   },
   "outputs": [],
   "source": [
    "all_models_importance = pd.DataFrame(index=features)\n",
    "all_models_importance = all_models_importance.merge(benchmark_importances, how=\"left\", left_index=True, \n",
    "                            right_index=True)\n",
    "all_models_importance = all_models_importance.merge(challenger_model_importances, how=\"left\", left_index=True, \n",
    "                            right_index=True)\n",
    "all_models_importance = all_models_importance.merge(challenger_model_max_importances, how=\"left\", left_index=True, \n",
    "                            right_index=True)\n",
    "\n",
    "all_models_importance.fillna(0, inplace=True)\n",
    "all_models_importance"
   ]
  },
  {
   "cell_type": "code",
   "execution_count": null,
   "id": "opponent-humanity",
   "metadata": {
    "ExecuteTime": {
     "end_time": "2021-09-22T19:33:37.478188Z",
     "start_time": "2021-09-22T06:21:20.577Z"
    },
    "execution": {
     "iopub.execute_input": "2021-08-20T02:43:39.296295Z",
     "iopub.status.busy": "2021-08-20T02:43:39.296140Z",
     "iopub.status.idle": "2021-08-20T02:43:39.880778Z",
     "shell.execute_reply": "2021-08-20T02:43:39.880041Z",
     "shell.execute_reply.started": "2021-08-20T02:43:39.296277Z"
    }
   },
   "outputs": [],
   "source": [
    "plot_shap_difference(all_models_importance[[\"RF\", \"TRF\"]], title=\"\", save_as=\"../images/{}_importance_migration.eps\".format(PREFIX))"
   ]
  },
  {
   "cell_type": "code",
   "execution_count": null,
   "id": "caring-philip",
   "metadata": {
    "ExecuteTime": {
     "end_time": "2021-09-22T19:33:37.481382Z",
     "start_time": "2021-09-22T06:21:20.678Z"
    },
    "execution": {
     "iopub.execute_input": "2021-08-20T02:43:39.881887Z",
     "iopub.status.busy": "2021-08-20T02:43:39.881713Z",
     "iopub.status.idle": "2021-08-20T02:43:40.820829Z",
     "shell.execute_reply": "2021-08-20T02:43:40.820104Z",
     "shell.execute_reply.started": "2021-08-20T02:43:39.881865Z"
    }
   },
   "outputs": [],
   "source": [
    "plot_shap_difference(all_models_importance, title=\"\", save_as=\"../images/{}_importance_migration_trf_max.eps\".format(PREFIX))"
   ]
  },
  {
   "cell_type": "markdown",
   "id": "suitable-virgin",
   "metadata": {},
   "source": [
    "## Reverse Learning Curve"
   ]
  },
  {
   "cell_type": "code",
   "execution_count": null,
   "id": "private-weather",
   "metadata": {
    "ExecuteTime": {
     "end_time": "2021-09-22T19:33:37.482766Z",
     "start_time": "2021-09-22T06:21:20.880Z"
    },
    "execution": {
     "iopub.execute_input": "2021-08-20T02:43:40.822208Z",
     "iopub.status.busy": "2021-08-20T02:43:40.822026Z",
     "iopub.status.idle": "2021-08-20T02:43:41.506859Z",
     "shell.execute_reply": "2021-08-20T02:43:41.505874Z",
     "shell.execute_reply.started": "2021-08-20T02:43:40.822186Z"
    }
   },
   "outputs": [],
   "source": [
    "importance_by_reverse_segment_challenger = plot_feature_migration_from_learning_curve_results(results_trt, features, \n",
    "                                                                                             save_as=\"../images/{}_challenger_importance_migration_learning_curve.eps\".format(PREFIX))\n",
    "importance_by_reverse_segment_challenger"
   ]
  },
  {
   "cell_type": "code",
   "execution_count": null,
   "id": "express-agriculture",
   "metadata": {
    "ExecuteTime": {
     "end_time": "2021-09-22T19:33:37.484323Z",
     "start_time": "2021-09-22T06:21:20.980Z"
    },
    "execution": {
     "iopub.execute_input": "2021-08-20T02:43:41.507992Z",
     "iopub.status.busy": "2021-08-20T02:43:41.507820Z",
     "iopub.status.idle": "2021-08-20T02:43:41.926884Z",
     "shell.execute_reply": "2021-08-20T02:43:41.926161Z",
     "shell.execute_reply.started": "2021-08-20T02:43:41.507972Z"
    }
   },
   "outputs": [],
   "source": [
    "fig, ax = plt.subplots()\n",
    "\n",
    "greens = plt.get_cmap(\"Greens\")\n",
    "gradient = np.linspace(.2, 0.8, len(results_trt[\"holdout_performance\"]))\n",
    "\n",
    "for i, r in enumerate(results_trt[\"holdout_performance_by_period\"]):\n",
    "    r.plot(label=results_trt[\"last_period_included\"][i], color=greens(gradient[i]))\n",
    "\n",
    "ax.xaxis.set_tick_params(labelsize=12)\n",
    "ax.yaxis.set_tick_params(labelsize=12)\n",
    "plt.legend(bbox_to_anchor=(1.05, 1.0), fontsize=12, title=\"Oldest time period included in train\")\n",
    "plt.ylabel(\"AUC\", fontsize=15)\n",
    "plt.xlabel(\"Year\", fontsize=15)\n",
    "\n",
    "plt.savefig(\"../images/{}_perf_by_period_reverse_learning_curve_challenger.eps\".format(PREFIX), format=\"eps\", bbox_inches = \"tight\")\n",
    "plt.show()"
   ]
  },
  {
   "cell_type": "code",
   "execution_count": null,
   "id": "timely-huntington",
   "metadata": {
    "ExecuteTime": {
     "end_time": "2021-09-22T19:33:37.485889Z",
     "start_time": "2021-09-22T06:21:21.081Z"
    },
    "execution": {
     "iopub.execute_input": "2021-08-20T02:43:41.928199Z",
     "iopub.status.busy": "2021-08-20T02:43:41.928026Z",
     "iopub.status.idle": "2021-08-20T02:43:42.130605Z",
     "shell.execute_reply": "2021-08-20T02:43:42.129748Z",
     "shell.execute_reply.started": "2021-08-20T02:43:41.928177Z"
    }
   },
   "outputs": [],
   "source": [
    "fig, ax = plt.subplots()\n",
    "plt.plot([str(i) for i in results[\"sample_size\"]], results[\"holdout_performance\"], label=\"RF\")\n",
    "plt.plot(results_trt[\"holdout_performance\"], label=\"TRF\", linestyle=\"dashed\", color=\"green\")\n",
    "ax.xaxis.set_tick_params(labelsize=12)\n",
    "ax.yaxis.set_tick_params(labelsize=12)\n",
    "plt.legend(fontsize=15, bbox_to_anchor=(1.0, 1.0))\n",
    "plt.ylabel(\"AUC in the holdout\", fontsize=15)\n",
    "plt.xlabel(\"Sample size\", fontsize=15)\n",
    "plt.savefig(\"../images/{}_reverse_learning_curve_sample.eps\".format(PREFIX), format=\"eps\")\n",
    "plt.show()"
   ]
  },
  {
   "cell_type": "code",
   "execution_count": null,
   "id": "conservative-looking",
   "metadata": {
    "ExecuteTime": {
     "end_time": "2021-09-22T19:33:37.487363Z",
     "start_time": "2021-09-22T06:21:21.182Z"
    },
    "execution": {
     "iopub.execute_input": "2021-08-20T02:43:42.131735Z",
     "iopub.status.busy": "2021-08-20T02:43:42.131562Z",
     "iopub.status.idle": "2021-08-20T02:43:42.336632Z",
     "shell.execute_reply": "2021-08-20T02:43:42.335744Z",
     "shell.execute_reply.started": "2021-08-20T02:43:42.131715Z"
    }
   },
   "outputs": [],
   "source": [
    "fig, ax = plt.subplots()\n",
    "plt.plot([str(i) for i in results[\"last_period_included\"]], results[\"holdout_performance\"], label=\"RF\")\n",
    "plt.plot(results_trt[\"holdout_performance\"], label=\"TRF\", linestyle=\"dashed\", color=\"green\")\n",
    "ax.xaxis.set_tick_params(labelsize=12)\n",
    "ax.yaxis.set_tick_params(labelsize=12)\n",
    "plt.legend(fontsize=15, bbox_to_anchor=(1.0, 1.0))\n",
    "plt.ylabel(\"AUC in the holdout\", fontsize=15)\n",
    "plt.xlabel(\"Oldest time period included in the training\", fontsize=15)\n",
    "plt.savefig(\"../images/{}_reverse_learning_curve_segments.eps\".format(PREFIX), format=\"eps\")\n",
    "plt.show()"
   ]
  },
  {
   "cell_type": "code",
   "execution_count": null,
   "id": "embedded-temperature",
   "metadata": {
    "ExecuteTime": {
     "end_time": "2021-09-22T19:33:37.488715Z",
     "start_time": "2021-09-22T06:21:21.283Z"
    },
    "execution": {
     "iopub.execute_input": "2021-08-20T02:43:42.337739Z",
     "iopub.status.busy": "2021-08-20T02:43:42.337561Z",
     "iopub.status.idle": "2021-08-20T02:43:42.945421Z",
     "shell.execute_reply": "2021-08-20T02:43:42.944815Z",
     "shell.execute_reply.started": "2021-08-20T02:43:42.337720Z"
    }
   },
   "outputs": [],
   "source": [
    "fig, ax = plt.subplots()\n",
    "\n",
    "greens = plt.get_cmap(\"Greens\")\n",
    "gradient = np.linspace(.2, 0.8, len(results_trt[\"holdout_performance\"]))\n",
    "\n",
    "for i, r in enumerate(results_trt[\"holdout_performance_by_period\"]):\n",
    "    r.plot(label=results_trt[\"last_period_included\"][i], color=greens(gradient[i]))\n",
    "    \n",
    "for i, r in enumerate(results[\"holdout_performance_by_period\"]):\n",
    "    r.plot(label=results[\"last_period_included\"][i], color=blues(gradient[i]))\n",
    "\n",
    "ax.xaxis.set_tick_params(labelsize=12)\n",
    "ax.yaxis.set_tick_params(labelsize=12)\n",
    "plt.legend(bbox_to_anchor=(1.05, 1.0), fontsize=12, title=\"Oldest time period included in train\")\n",
    "plt.ylabel(\"AUC\", fontsize=15)\n",
    "plt.xlabel(\"Year\", fontsize=15)\n",
    "\n",
    "plt.savefig(\"../images/{}_perf_by_period_reverse_learning_curve_both.eps\".format(PREFIX), format=\"eps\", bbox_inches = \"tight\")\n",
    "plt.show()"
   ]
  },
  {
   "cell_type": "markdown",
   "id": "elder-bailey",
   "metadata": {},
   "source": [
    "## Performance comparison"
   ]
  },
  {
   "cell_type": "code",
   "execution_count": 67,
   "id": "informational-shuttle",
   "metadata": {
    "ExecuteTime": {
     "end_time": "2021-09-22T19:34:03.108622Z",
     "start_time": "2021-09-22T19:34:02.173627Z"
    }
   },
   "outputs": [
    {
     "data": {
      "image/png": "[encoded data removed]",
      "text/plain": [
       "<Figure size 576x432 with 1 Axes>"
      ]
     },
     "metadata": {},
     "output_type": "display_data"
    }
   ],
   "source": [
    "fig, ax = plt.subplots()\n",
    "pd.concat([test, out_of_time]).groupby(TIME_COLUMN).apply(lambda x: roc_auc_score(x[TARGET], x[\"challenger_prediction\"])).plot(label=\"Time Robust Forest\", \n",
    "                                                                                                      linestyle=\"dashed\",\n",
    "                                                                                                      color=\"green\", ax=ax)\n",
    "pd.concat([test, out_of_time]).groupby(TIME_COLUMN).apply(lambda x: roc_auc_score(x[TARGET], x[\"benchmark_prediction\"])).plot(label=\"Random Forest\", ax=ax)\n",
    "\n",
    "ax.xaxis.set_tick_params(labelsize=12)\n",
    "ax.yaxis.set_tick_params(labelsize=12)\n",
    "\n",
    "xmin, xmax, ymin, ymax = plt.axis()\n",
    "plt.vlines(training_end_year + 1, ymin, ymax, linestyle=\"dotted\", color=\"red\", label=\"Holdout start\")\n",
    "plt.ylim([ymin, ymax])\n",
    "plt.legend(fontsize=15, bbox_to_anchor=(1.0, 1.0))\n",
    "plt.ylabel(\"AUC\", fontsize=15)\n",
    "plt.xlabel(\"Year\", fontsize=15)\n",
    "plt.savefig(\"../images/{}_test_holdout_auc_years_non_opt.eps\".format(PREFIX), format=\"eps\")\n",
    "plt.show()"
   ]
  },
  {
   "cell_type": "code",
   "execution_count": 65,
   "id": "rubber-feeding",
   "metadata": {
    "ExecuteTime": {
     "end_time": "2021-09-22T19:33:43.956252Z",
     "start_time": "2021-09-22T19:33:42.548228Z"
    },
    "execution": {
     "iopub.execute_input": "2021-08-20T02:43:42.946546Z",
     "iopub.status.busy": "2021-08-20T02:43:42.946361Z",
     "iopub.status.idle": "2021-08-20T02:43:43.812439Z",
     "shell.execute_reply": "2021-08-20T02:43:43.811737Z",
     "shell.execute_reply.started": "2021-08-20T02:43:42.946525Z"
    }
   },
   "outputs": [
    {
     "data": {
      "image/png": "[encoded data removed]",
      "text/plain": [
       "<Figure size 864x288 with 1 Axes>"
      ]
     },
     "metadata": {},
     "output_type": "display_data"
    }
   ],
   "source": [
    "fig, ax = plt.subplots()\n",
    "pd.concat([test, out_of_time]).groupby(TIME_COLUMN).apply(lambda x: roc_auc_score(x[TARGET], x[\"challenger_prediction\"])).plot(label=\"Time Robust Forest\", \n",
    "                                                                                                      linestyle=\"dashed\",\n",
    "                                                                                                      color=\"green\", ax=ax)\n",
    "pd.concat([test, out_of_time]).groupby(TIME_COLUMN).apply(lambda x: roc_auc_score(x[TARGET], x[\"benchmark_prediction_opt\"])).plot(label=\"Random Forest\", ax=ax)\n",
    "\n",
    "ax.xaxis.set_tick_params(labelsize=12)\n",
    "ax.yaxis.set_tick_params(labelsize=12)\n",
    "\n",
    "xmin, xmax, ymin, ymax = plt.axis()\n",
    "plt.vlines(training_end_year + 1, ymin, ymax, linestyle=\"dotted\", color=\"red\", label=\"Holdout start\")\n",
    "plt.ylim([ymin, ymax])\n",
    "plt.legend(fontsize=15, bbox_to_anchor=(1.0, 1.0))\n",
    "plt.ylabel(\"AUC\", fontsize=15)\n",
    "plt.xlabel(\"Year\", fontsize=15)\n",
    "plt.savefig(\"../images/{}_test_holdout_auc_years.eps\".format(PREFIX), format=\"eps\")\n",
    "plt.show()"
   ]
  },
  {
   "cell_type": "code",
   "execution_count": 66,
   "id": "egyptian-calculation",
   "metadata": {
    "ExecuteTime": {
     "end_time": "2021-09-22T19:33:44.910297Z",
     "start_time": "2021-09-22T19:33:43.957866Z"
    },
    "execution": {
     "iopub.execute_input": "2021-08-20T02:43:43.813610Z",
     "iopub.status.busy": "2021-08-20T02:43:43.813434Z",
     "iopub.status.idle": "2021-08-20T02:43:44.666953Z",
     "shell.execute_reply": "2021-08-20T02:43:44.666039Z",
     "shell.execute_reply.started": "2021-08-20T02:43:43.813589Z"
    }
   },
   "outputs": [
    {
     "data": {
      "image/png": "[encoded data removed]",
      "text/plain": [
       "<Figure size 576x432 with 1 Axes>"
      ]
     },
     "metadata": {},
     "output_type": "display_data"
    }
   ],
   "source": [
    "plt.rcParams['figure.figsize'] = (8, 6)\n",
    "fig, ax = plt.subplots()\n",
    "pd.concat([test, out_of_time]).groupby(TIME_COLUMN).apply(lambda x: roc_auc_score(x[TARGET], x[\"challenger_prediction\"])).plot(label=\"Time Robust Forest\", \n",
    "                                                                                                      linestyle=\"dashed\",\n",
    "                                                                                                      color=\"green\", ax=ax)\n",
    "pd.concat([test, out_of_time]).groupby(TIME_COLUMN).apply(lambda x: roc_auc_score(x[TARGET], x[\"benchmark_prediction_opt\"])).plot(label=\"Random Forest\", ax=ax)\n",
    "\n",
    "\n",
    "ax.xaxis.set_tick_params(labelsize=15)\n",
    "ax.yaxis.set_tick_params(labelsize=15)\n",
    "\n",
    "xmin, xmax, ymin, ymax = plt.axis()\n",
    "plt.vlines(training_end_year + 1, ymin, ymax, linestyle=\"dotted\", color=\"red\", label=\"Holdout start\")\n",
    "plt.ylim([ymin, ymax])\n",
    "plt.legend(fontsize=13, bbox_to_anchor=(0.42, 1.0))\n",
    "\n",
    "plt.ylabel(\"AUC\", fontsize=16)\n",
    "plt.xlabel(\"Year\", fontsize=16)\n",
    "plt.savefig(\"../images/{}_test_holdout_auc_years_square.eps\".format(PREFIX), format=\"eps\")\n",
    "plt.show()"
   ]
  },
  {
   "cell_type": "markdown",
   "id": "mechanical-promotion",
   "metadata": {},
   "source": [
    "## TRF as feature selection"
   ]
  },
  {
   "cell_type": "code",
   "execution_count": null,
   "id": "congressional-spread",
   "metadata": {
    "ExecuteTime": {
     "end_time": "2021-09-22T19:33:37.492750Z",
     "start_time": "2021-09-22T06:21:21.787Z"
    },
    "execution": {
     "iopub.execute_input": "2021-08-20T02:43:44.668165Z",
     "iopub.status.busy": "2021-08-20T02:43:44.667993Z",
     "iopub.status.idle": "2021-08-20T02:43:44.842232Z",
     "shell.execute_reply": "2021-08-20T02:43:44.841661Z",
     "shell.execute_reply.started": "2021-08-20T02:43:44.668143Z"
    }
   },
   "outputs": [],
   "source": [
    "challenger_model.feature_importance()"
   ]
  },
  {
   "cell_type": "code",
   "execution_count": null,
   "id": "spread-spouse",
   "metadata": {
    "ExecuteTime": {
     "end_time": "2021-09-22T19:33:37.493962Z",
     "start_time": "2021-09-22T06:21:21.889Z"
    },
    "execution": {
     "iopub.execute_input": "2021-08-20T02:43:44.843309Z",
     "iopub.status.busy": "2021-08-20T02:43:44.843147Z",
     "iopub.status.idle": "2021-08-20T02:43:46.830628Z",
     "shell.execute_reply": "2021-08-20T02:43:46.829927Z",
     "shell.execute_reply.started": "2021-08-20T02:43:44.843290Z"
    }
   },
   "outputs": [],
   "source": [
    "selected_features = [feature for feature in features if feature in challenger_model.feature_importance().index]\n",
    "selected_features"
   ]
  },
  {
   "cell_type": "code",
   "execution_count": null,
   "id": "unlikely-official",
   "metadata": {
    "ExecuteTime": {
     "end_time": "2021-09-22T19:33:37.495218Z",
     "start_time": "2021-09-22T06:21:21.990Z"
    },
    "execution": {
     "iopub.execute_input": "2021-08-20T02:43:46.831757Z",
     "iopub.status.busy": "2021-08-20T02:43:46.831574Z",
     "iopub.status.idle": "2021-08-20T02:43:47.001025Z",
     "shell.execute_reply": "2021-08-20T02:43:47.000490Z",
     "shell.execute_reply.started": "2021-08-20T02:43:46.831735Z"
    }
   },
   "outputs": [],
   "source": [
    "if len(selected_features) == len(features):\n",
    "    selected_features = list(challenger_model.feature_importance().sort_values(ascending=False).index[:int(len(features)/2)+2].values)\n",
    "    \n",
    "selected_features    "
   ]
  },
  {
   "cell_type": "code",
   "execution_count": null,
   "id": "proprietary-norman",
   "metadata": {
    "ExecuteTime": {
     "end_time": "2021-09-22T19:33:37.496954Z",
     "start_time": "2021-09-22T06:21:22.092Z"
    },
    "execution": {
     "iopub.execute_input": "2021-08-20T02:43:47.002063Z",
     "iopub.status.busy": "2021-08-20T02:43:47.001885Z",
     "iopub.status.idle": "2021-08-20T02:43:47.005908Z",
     "shell.execute_reply": "2021-08-20T02:43:47.005397Z",
     "shell.execute_reply.started": "2021-08-20T02:43:47.002042Z"
    }
   },
   "outputs": [],
   "source": [
    "selected_features"
   ]
  },
  {
   "cell_type": "code",
   "execution_count": null,
   "id": "excited-prospect",
   "metadata": {
    "ExecuteTime": {
     "end_time": "2021-09-22T19:33:37.498330Z",
     "start_time": "2021-09-22T06:21:22.191Z"
    },
    "execution": {
     "iopub.execute_input": "2021-08-20T02:43:47.006894Z",
     "iopub.status.busy": "2021-08-20T02:43:47.006733Z",
     "iopub.status.idle": "2021-08-20T02:46:29.912038Z",
     "shell.execute_reply": "2021-08-20T02:46:29.911388Z",
     "shell.execute_reply.started": "2021-08-20T02:43:47.006874Z"
    }
   },
   "outputs": [],
   "source": [
    "clf1 = setup(train[selected_features + [TARGET]], \n",
    "             target=TARGET,\n",
    "             session_id=3, \n",
    "             log_experiment=False, \n",
    "             experiment_name=\"{}_fs\".format(PREFIX),\n",
    "             silent=True)\n",
    "\n",
    "rf = create_model('rf')\n",
    "tuned_rf = tune_model(rf,\n",
    "                     optimize=\"AUC\",\n",
    "                     fold=5,\n",
    "                     n_iter=50)"
   ]
  },
  {
   "cell_type": "code",
   "execution_count": null,
   "id": "capital-ending",
   "metadata": {
    "ExecuteTime": {
     "end_time": "2021-09-22T19:33:37.499611Z",
     "start_time": "2021-09-22T06:21:22.295Z"
    },
    "execution": {
     "iopub.execute_input": "2021-08-20T02:46:29.913204Z",
     "iopub.status.busy": "2021-08-20T02:46:29.913030Z",
     "iopub.status.idle": "2021-08-20T02:46:29.917138Z",
     "shell.execute_reply": "2021-08-20T02:46:29.916724Z",
     "shell.execute_reply.started": "2021-08-20T02:46:29.913182Z"
    }
   },
   "outputs": [],
   "source": [
    "tuned_rf"
   ]
  },
  {
   "cell_type": "code",
   "execution_count": null,
   "id": "growing-cradle",
   "metadata": {
    "ExecuteTime": {
     "end_time": "2021-09-22T19:33:37.501319Z",
     "start_time": "2021-09-22T06:21:22.394Z"
    },
    "execution": {
     "iopub.execute_input": "2021-08-20T02:46:29.918015Z",
     "iopub.status.busy": "2021-08-20T02:46:29.917839Z",
     "iopub.status.idle": "2021-08-20T02:46:42.121328Z",
     "shell.execute_reply": "2021-08-20T02:46:42.119953Z",
     "shell.execute_reply.started": "2021-08-20T02:46:29.917996Z"
    }
   },
   "outputs": [],
   "source": [
    "benchmark_model = tuned_rf\n",
    "benchmark_model.fit(train[selected_features], train[TARGET])\n",
    "\n",
    "train[\"benchmark_prediction_opt_selected_features\"] = benchmark_model.predict_proba(train[selected_features])[:, 1]\n",
    "test[\"benchmark_prediction_opt_selected_features\"] = benchmark_model.predict_proba(test[selected_features])[:, 1]\n",
    "out_of_time[\"benchmark_prediction_opt_selected_features\"] = benchmark_model.predict_proba(out_of_time[selected_features])[:, 1]"
   ]
  },
  {
   "cell_type": "code",
   "execution_count": null,
   "id": "better-wrist",
   "metadata": {
    "ExecuteTime": {
     "end_time": "2021-09-22T19:33:37.502408Z",
     "start_time": "2021-09-22T06:21:22.495Z"
    },
    "execution": {
     "iopub.execute_input": "2021-08-20T02:46:42.122748Z",
     "iopub.status.busy": "2021-08-20T02:46:42.122548Z",
     "iopub.status.idle": "2021-08-20T02:46:42.244316Z",
     "shell.execute_reply": "2021-08-20T02:46:42.243250Z",
     "shell.execute_reply.started": "2021-08-20T02:46:42.122725Z"
    }
   },
   "outputs": [],
   "source": [
    "print(roc_auc_score(train[TARGET], train[\"benchmark_prediction_opt_selected_features\"]))\n",
    "print(roc_auc_score(test[TARGET], test[\"benchmark_prediction_opt_selected_features\"]))\n",
    "print(roc_auc_score(out_of_time[TARGET], out_of_time[\"benchmark_prediction_opt_selected_features\"]))"
   ]
  },
  {
   "cell_type": "code",
   "execution_count": null,
   "id": "closing-machinery",
   "metadata": {
    "ExecuteTime": {
     "end_time": "2021-09-22T19:33:37.503612Z",
     "start_time": "2021-09-22T06:21:22.599Z"
    },
    "execution": {
     "iopub.execute_input": "2021-08-20T03:46:53.374840Z",
     "iopub.status.busy": "2021-08-20T03:46:53.374535Z",
     "iopub.status.idle": "2021-08-20T03:46:54.948143Z",
     "shell.execute_reply": "2021-08-20T03:46:54.947649Z",
     "shell.execute_reply.started": "2021-08-20T03:46:53.374812Z"
    }
   },
   "outputs": [],
   "source": [
    "fig, ax = plt.subplots(figsize=(8, 6))\n",
    "pd.concat([test, out_of_time]).groupby(TIME_COLUMN).apply(lambda x: roc_auc_score(x[TARGET], x[\"challenger_prediction\"])).plot(label=\"Time Robust Forest\", \n",
    "                                                                                                      linestyle=\"dashed\",\n",
    "                                                                                                      color=\"green\", ax=ax)\n",
    "pd.concat([test, out_of_time]).groupby(TIME_COLUMN).apply(lambda x: roc_auc_score(x[TARGET], x[\"benchmark_prediction_opt\"])).plot(label=\"Random Forest\", ax=ax)\n",
    "\n",
    "pd.concat([test, out_of_time]).groupby(TIME_COLUMN).apply(lambda x: roc_auc_score(x[TARGET], x[\"benchmark_prediction_opt_selected_features\"])).plot(label=\"RF with TRF feature selection\", ax=ax)\n",
    "\n",
    "\n",
    "ax.xaxis.set_tick_params(labelsize=15)\n",
    "ax.yaxis.set_tick_params(labelsize=15)\n",
    "\n",
    "xmin, xmax, ymin, ymax = plt.axis()\n",
    "plt.vlines(training_end_year + 1, ymin, ymax, linestyle=\"dotted\", color=\"red\", label=\"Holdout start\")\n",
    "plt.ylim([ymin, ymax])\n",
    "plt.legend(fontsize=12, bbox_to_anchor=(0.12, 0.25))\n",
    "plt.ylabel(\"AUC\", fontsize=16)\n",
    "plt.xlabel(\"Year\", fontsize=16)\n",
    "plt.savefig(\"../images/{}_test_holdout_auc_years_square_fs.eps\".format(PREFIX), format=\"eps\")\n",
    "plt.show()"
   ]
  },
  {
   "cell_type": "markdown",
   "id": "convinced-reggae",
   "metadata": {},
   "source": [
    "## Feature Impact"
   ]
  },
  {
   "cell_type": "code",
   "execution_count": null,
   "id": "noble-crack",
   "metadata": {
    "ExecuteTime": {
     "end_time": "2021-09-22T19:33:37.504761Z",
     "start_time": "2021-09-22T06:21:22.798Z"
    },
    "execution": {
     "iopub.execute_input": "2021-08-20T02:46:44.124948Z",
     "iopub.status.busy": "2021-08-20T02:46:44.124778Z",
     "iopub.status.idle": "2021-08-20T02:46:44.172905Z",
     "shell.execute_reply": "2021-08-20T02:46:44.172039Z",
     "shell.execute_reply.started": "2021-08-20T02:46:44.124927Z"
    }
   },
   "outputs": [],
   "source": [
    "from pygam import LinearGAM\n",
    "from sklearn.model_selection import train_test_split\n",
    "from sklearn.metrics import r2_score\n",
    "from sklearn.preprocessing import StandardScaler\n",
    "from matplotlib.collections import PolyCollection as p"
   ]
  },
  {
   "cell_type": "code",
   "execution_count": null,
   "id": "baking-republic",
   "metadata": {
    "ExecuteTime": {
     "end_time": "2021-09-22T19:33:37.506529Z",
     "start_time": "2021-09-22T06:21:22.899Z"
    },
    "execution": {
     "iopub.execute_input": "2021-08-20T02:46:44.174858Z",
     "iopub.status.busy": "2021-08-20T02:46:44.174690Z",
     "iopub.status.idle": "2021-08-20T02:46:45.244951Z",
     "shell.execute_reply": "2021-08-20T02:46:45.243912Z",
     "shell.execute_reply.started": "2021-08-20T02:46:44.174839Z"
    }
   },
   "outputs": [],
   "source": [
    "fig, ax = plt.subplots()\n",
    "\n",
    "sns.distplot(out_of_time[\"challenger_prediction\"], label=\"TRF\")\n",
    "sns.distplot(out_of_time[\"benchmark_prediction_opt\"], label=\"RF\")\n",
    "\n",
    "ax.xaxis.set_tick_params(labelsize=12)\n",
    "ax.yaxis.set_tick_params(labelsize=12)\n",
    "\n",
    "plt.legend(fontsize=15, bbox_to_anchor=(1.0, 1.0))\n",
    "plt.ylabel(\"Density\", fontsize=15)\n",
    "plt.xlabel(\"Score\", fontsize=15)\n",
    "\n",
    "__file__ = \"../images/{}_trf_rf_score_distribution\".format(PREFIX)\n",
    "plt.savefig(__file__+\".jpg\", quality=95)\n",
    "for c in ax.findobj(p):\n",
    "    c.set_zorder(-1)\n",
    "    c.set_rasterized(True)\n",
    "ax.set_rasterization_zorder(0)\n",
    "\n",
    "ax.set_rasterized(True)\n",
    "plt.savefig(__file__+\".eps\")        \n",
    "\n",
    "plt.savefig(\"../images/{}_trf_rf_score_distribution.eps\".format(PREFIX), format=\"eps\")\n",
    "plt.show()"
   ]
  },
  {
   "cell_type": "code",
   "execution_count": null,
   "id": "polished-state",
   "metadata": {
    "ExecuteTime": {
     "end_time": "2021-09-22T19:33:37.507905Z",
     "start_time": "2021-09-22T06:21:23.000Z"
    },
    "execution": {
     "iopub.execute_input": "2021-08-20T02:46:45.246106Z",
     "iopub.status.busy": "2021-08-20T02:46:45.245932Z",
     "iopub.status.idle": "2021-08-20T02:46:45.268900Z",
     "shell.execute_reply": "2021-08-20T02:46:45.267824Z",
     "shell.execute_reply.started": "2021-08-20T02:46:45.246086Z"
    }
   },
   "outputs": [],
   "source": [
    "ss = StandardScaler()\n",
    "out_of_time[\"challenger_prediction_norm\"] = ss.fit_transform(out_of_time[[\"challenger_prediction\"]])\n",
    "out_of_time[\"benchmark_prediction_norm\"] = ss.fit_transform(out_of_time[[\"benchmark_prediction_opt\"]])"
   ]
  },
  {
   "cell_type": "code",
   "execution_count": null,
   "id": "synthetic-graphic",
   "metadata": {
    "ExecuteTime": {
     "end_time": "2021-09-22T19:33:37.510661Z",
     "start_time": "2021-09-22T06:21:23.102Z"
    },
    "execution": {
     "iopub.execute_input": "2021-08-20T02:46:45.270395Z",
     "iopub.status.busy": "2021-08-20T02:46:45.270224Z",
     "iopub.status.idle": "2021-08-20T02:46:45.942114Z",
     "shell.execute_reply": "2021-08-20T02:46:45.941025Z",
     "shell.execute_reply.started": "2021-08-20T02:46:45.270375Z"
    }
   },
   "outputs": [],
   "source": [
    "sns.distplot(out_of_time[\"challenger_prediction_norm\"])\n",
    "sns.distplot(out_of_time[\"benchmark_prediction_norm\"])"
   ]
  },
  {
   "cell_type": "code",
   "execution_count": null,
   "id": "spare-expansion",
   "metadata": {
    "ExecuteTime": {
     "end_time": "2021-09-22T19:33:37.513360Z",
     "start_time": "2021-09-22T06:21:23.201Z"
    },
    "execution": {
     "iopub.execute_input": "2021-08-20T02:46:45.943635Z",
     "iopub.status.busy": "2021-08-20T02:46:45.943431Z",
     "iopub.status.idle": "2021-08-20T02:46:45.977619Z",
     "shell.execute_reply": "2021-08-20T02:46:45.976507Z",
     "shell.execute_reply.started": "2021-08-20T02:46:45.943613Z"
    }
   },
   "outputs": [],
   "source": [
    "X_train, X_test, y_train, y_test = train_test_split(out_of_time[features], \n",
    "                                                    out_of_time[[\"challenger_prediction\", \n",
    "                                                                 \"benchmark_prediction\"]],\n",
    "                                                    test_size=0.6,\n",
    "                                                    random_state=42)\n",
    "\n",
    "print(X_train.shape)\n",
    "print(X_test.shape)"
   ]
  },
  {
   "cell_type": "code",
   "execution_count": null,
   "id": "inside-thought",
   "metadata": {
    "ExecuteTime": {
     "end_time": "2021-09-22T19:33:37.515343Z",
     "start_time": "2021-09-22T06:21:23.301Z"
    },
    "execution": {
     "iopub.execute_input": "2021-08-20T02:46:45.983533Z",
     "iopub.status.busy": "2021-08-20T02:46:45.983324Z",
     "iopub.status.idle": "2021-08-20T02:46:45.987608Z",
     "shell.execute_reply": "2021-08-20T02:46:45.987065Z",
     "shell.execute_reply.started": "2021-08-20T02:46:45.983510Z"
    }
   },
   "outputs": [],
   "source": [
    "numerical_features = [feature for feature in features if feature not in columns_to_label_encode]\n",
    "numerical_features"
   ]
  },
  {
   "cell_type": "code",
   "execution_count": null,
   "id": "latter-cardiff",
   "metadata": {
    "ExecuteTime": {
     "end_time": "2021-09-22T19:33:37.516620Z",
     "start_time": "2021-09-22T06:21:23.403Z"
    },
    "execution": {
     "iopub.execute_input": "2021-08-20T02:46:45.989057Z",
     "iopub.status.busy": "2021-08-20T02:46:45.988903Z",
     "iopub.status.idle": "2021-08-20T02:46:46.059925Z",
     "shell.execute_reply": "2021-08-20T02:46:46.058857Z",
     "shell.execute_reply.started": "2021-08-20T02:46:45.989038Z"
    }
   },
   "outputs": [],
   "source": [
    "p99 = X_train[numerical_features].quantile(.99)\n",
    "p01 = X_train[numerical_features].quantile(.01)\n",
    "p005 = X_train.quantile(.005)\n",
    "\n",
    "X_train[numerical_features] = X_train[numerical_features].where(\n",
    "    X_train[numerical_features] < p99, other=p99, axis=1)\n",
    "X_test[numerical_features] = X_test[numerical_features].where(\n",
    "    X_test[numerical_features] < p99, other=p99, axis=1)\n",
    "\n",
    "X_train[numerical_features] = X_train[numerical_features].where(\n",
    "    X_train[numerical_features] > p01, other=p01, axis=1)\n",
    "X_test[numerical_features] = X_test[numerical_features].where(\n",
    "    X_test[numerical_features] > p01, other=p01, axis=1)\n",
    "\n",
    "X_train = X_train.fillna(p005)\n",
    "X_test = X_test.fillna(p005)"
   ]
  },
  {
   "cell_type": "code",
   "execution_count": null,
   "id": "integrated-blackberry",
   "metadata": {
    "ExecuteTime": {
     "end_time": "2021-09-22T19:33:37.518130Z",
     "start_time": "2021-09-22T06:21:23.505Z"
    },
    "execution": {
     "iopub.execute_input": "2021-08-20T02:46:46.061481Z",
     "iopub.status.busy": "2021-08-20T02:46:46.061306Z",
     "iopub.status.idle": "2021-08-20T02:47:28.732638Z",
     "shell.execute_reply": "2021-08-20T02:47:28.731732Z",
     "shell.execute_reply.started": "2021-08-20T02:46:46.061460Z"
    }
   },
   "outputs": [],
   "source": [
    "dtype = [\"numerical\" if feature not in columns_to_label_encode else \"categorical\" for feature in features]\n",
    "\n",
    "gam_challenger = LinearGAM(dtype=dtype).gridsearch(X_train[features].values, y_train[\"challenger_prediction\"].values)\n",
    "gam_benchmark = LinearGAM(dtype=dtype).gridsearch(X_train[features].values, y_train[\"benchmark_prediction\"].values)"
   ]
  },
  {
   "cell_type": "code",
   "execution_count": null,
   "id": "verbal-context",
   "metadata": {
    "ExecuteTime": {
     "end_time": "2021-09-22T19:33:37.519765Z",
     "start_time": "2021-09-22T06:21:23.604Z"
    },
    "execution": {
     "iopub.execute_input": "2021-08-20T03:42:49.870683Z",
     "iopub.status.busy": "2021-08-20T03:42:49.870395Z",
     "iopub.status.idle": "2021-08-20T03:42:49.873532Z",
     "shell.execute_reply": "2021-08-20T03:42:49.872981Z",
     "shell.execute_reply.started": "2021-08-20T03:42:49.870653Z"
    }
   },
   "outputs": [],
   "source": [
    "# pred_test = gam_challenger.predict(X_test[features])\n",
    "# print(\"r2 test (challenger): %f\" %r2_score(y_test[\"challenger_prediction\"], pred_test))\n",
    "\n",
    "# pred_test = gam_benchmark.predict(X_test[features])\n",
    "# print(\"r2 test (benchmark): %f\" %r2_score(y_test[\"benchmark_prediction\"], pred_test))"
   ]
  },
  {
   "cell_type": "code",
   "execution_count": null,
   "id": "unnecessary-chemistry",
   "metadata": {
    "ExecuteTime": {
     "end_time": "2021-09-22T19:33:37.522050Z",
     "start_time": "2021-09-22T06:21:23.703Z"
    },
    "execution": {
     "iopub.execute_input": "2021-08-20T03:43:45.022277Z",
     "iopub.status.busy": "2021-08-20T03:43:45.021928Z",
     "iopub.status.idle": "2021-08-20T03:43:45.080939Z",
     "shell.execute_reply": "2021-08-20T03:43:45.080463Z",
     "shell.execute_reply.started": "2021-08-20T03:43:45.022248Z"
    }
   },
   "outputs": [],
   "source": [
    "X_test.describe()"
   ]
  },
  {
   "cell_type": "code",
   "execution_count": null,
   "id": "intense-context",
   "metadata": {
    "ExecuteTime": {
     "end_time": "2021-09-22T19:33:37.523795Z",
     "start_time": "2021-09-22T06:21:23.807Z"
    },
    "execution": {
     "iopub.execute_input": "2021-08-20T03:50:18.398424Z",
     "iopub.status.busy": "2021-08-20T03:50:18.398115Z",
     "iopub.status.idle": "2021-08-20T03:50:24.789934Z",
     "shell.execute_reply": "2021-08-20T03:50:24.789442Z",
     "shell.execute_reply.started": "2021-08-20T03:50:18.398394Z"
    },
    "scrolled": false
   },
   "outputs": [],
   "source": [
    "for i, feat in enumerate(features):\n",
    "    if feat not in numerical_features:\n",
    "        continue\n",
    "    print(feat)\n",
    "    print(i)\n",
    "    XX = gam_challenger.generate_X_grid(i, n=X_test.shape[0])\n",
    "    ### Fix needed for this dataset\n",
    "    XX[:, 1] = np.where(X_test.values[:, 1].astype(int) >= 329, 328, X_test.values[:, 1].astype(int))\n",
    "    XX[:, 5] = np.where(X_test.values[:, 5].astype(int) >= 2445, 2444, X_test.values[:, 5].astype(int))\n",
    "    pdep, confi = gam_challenger.partial_dependence(i, X=XX, width=.95)\n",
    "    fig, ax = plt.subplots(figsize=(10, 6), dpi=150)\n",
    "\n",
    "    plt.plot(XX[:, i], pdep, c=\"green\", label=\"TRF\")\n",
    "    plt.plot(XX[:, i], confi, c='green', ls='--')\n",
    "    plt.ylabel(\"Score\")\n",
    "    plt.legend()\n",
    "\n",
    "    ### Benchmark\n",
    "    pdep, confi = gam_benchmark.partial_dependence(i, X=XX, width=.95)\n",
    "    plt.plot(XX[:, i], pdep, color=\"#4c72b0\", label=\"RF\")\n",
    "    plt.plot(XX[:, i], confi, c='#4c72b0', ls='--')\n",
    "    plt.ylabel(\"Score\", fontsize=15)\n",
    "    plt.legend()\n",
    "\n",
    "    plt.xlabel(feat, fontsize=15)\n",
    "\n",
    "    ax.xaxis.set_tick_params(labelsize=12)\n",
    "    ax.yaxis.set_tick_params(labelsize=12)\n",
    "    xmin, xmax, ymin, ymax = plt.axis()\n",
    "    plt.ylim([ymin, ymax])\n",
    "    plt.legend(fontsize=15)\n",
    "    plt.savefig(\"../images/{}_feature_impact_{}.eps\".format(PREFIX, feat), format=\"eps\")\n",
    "\n",
    "    plt.show()\n",
    "    plt.clf()"
   ]
  },
  {
   "cell_type": "code",
   "execution_count": null,
   "id": "muslim-contest",
   "metadata": {
    "ExecuteTime": {
     "end_time": "2021-09-22T19:33:37.525923Z",
     "start_time": "2021-09-22T06:21:23.904Z"
    },
    "execution": {
     "iopub.execute_input": "2021-08-20T03:51:30.289202Z",
     "iopub.status.busy": "2021-08-20T03:51:30.288892Z",
     "iopub.status.idle": "2021-08-20T03:51:32.386285Z",
     "shell.execute_reply": "2021-08-20T03:51:32.385789Z",
     "shell.execute_reply.started": "2021-08-20T03:51:30.289171Z"
    }
   },
   "outputs": [],
   "source": [
    "# for i, feat in enumerate(features):\n",
    "#     if feat in columns_to_label_encode:\n",
    "#         print(feat)\n",
    "#         #try:\n",
    "#         mapping = encoder_mappings[feat]\n",
    "#         max_cat = np.max(list(mapping.keys()))\n",
    "#         if max_cat > 100:\n",
    "#             continue\n",
    "#         XX = np.copy(X_test)\n",
    "#         XX[:, i] = np.random.randint(0, max_cat, size=X_test.shape[0])\n",
    "#         XX[:, 1] = np.where(X_test.values[:, 1].astype(int) >= 329, 328, X_test.values[:, 1].astype(int))\n",
    "#         XX[:, 5] = np.where(X_test.values[:, 5].astype(int) >= 2445, 2444, X_test.values[:, 5].astype(int))\n",
    "#         pdep, confi = gam_challenger.partial_dependence(i, X=XX, width=.95)\n",
    "#         fig, ax = plt.subplots(figsize=(10, 5), dpi=150)\n",
    "#         data = pd.DataFrame(np.hstack([XX[:, i].reshape(-1, 1), pdep.reshape(-1, 1), confi]),\n",
    "#                             columns=[feat, \"Mean Impact\", \"low\", \"high\"])\n",
    "#         data[\"low\"] = np.abs(data[\"low\"] - data[\"Mean Impact\"])\n",
    "#         data[\"high\"] = np.abs(data[\"high\"] - data[\"Mean Impact\"])\n",
    "#         agg = data.groupby(feat).mean()\n",
    "\n",
    "#         impact_plot = plt.bar([i for i in range(len(agg))],\n",
    "#                               agg[\"Mean Impact\"],\n",
    "#                               yerr=agg[[\"low\", \"high\"]].values.transpose(),\n",
    "#                               color=\"#9370DB\",\n",
    "#                               capsize=7)\n",
    "\n",
    "#         plt.title(feat, fontsize=15)\n",
    "#         plt.xticks([i for i in range(len(list(mapping.keys())))])\n",
    "#         ax.set_xticklabels(list(mapping.values()), rotation=90)\n",
    "#         plt.hlines(0.0, -1, max_cat, linestyles=\"dashed\")\n",
    "#         plt.ylabel(\"Score\", fontsize=15)\n",
    "\n",
    "#         ax.xaxis.set_tick_params(labelsize=12)\n",
    "#         ax.yaxis.set_tick_params(labelsize=12)\n",
    "#         xmin, xmax, ymin, ymax = plt.axis()\n",
    "#         plt.ylim([ymin, ymax])\n",
    "#         plt.legend(fontsize=15)\n",
    "#         plt.savefig(\"../images/{}_feature_impact_cat_{}.eps\".format(PREFIX, feat), format=\"eps\")\n",
    "\n",
    "#         plt.show()\n",
    "#         plt.clf()\n",
    "# plt.show()"
   ]
  },
  {
   "cell_type": "code",
   "execution_count": null,
   "id": "worth-maryland",
   "metadata": {
    "ExecuteTime": {
     "end_time": "2021-09-22T19:33:37.527696Z",
     "start_time": "2021-09-22T06:21:24.007Z"
    },
    "execution": {
     "iopub.execute_input": "2021-08-20T03:51:43.082827Z",
     "iopub.status.busy": "2021-08-20T03:51:43.082501Z",
     "iopub.status.idle": "2021-08-20T03:51:52.108511Z",
     "shell.execute_reply": "2021-08-20T03:51:52.107992Z",
     "shell.execute_reply.started": "2021-08-20T03:51:43.082798Z"
    }
   },
   "outputs": [],
   "source": [
    "# for i, feat in enumerate(features):\n",
    "#     if feat in columns_to_label_encode:\n",
    "#         print(feat)\n",
    "#         mapping = encoder_mappings[feat]\n",
    "#         max_cat = np.max(list(mapping.keys()))\n",
    "#         if max_cat > 100:\n",
    "#             continue\n",
    "#         XX = np.copy(X_test)\n",
    "#         XX[:, i] = np.random.randint(0, max_cat, size=X_test.shape[0])\n",
    "#         XX[:, 1] = np.where(X_test.values[:, 1].astype(int) >= 329, 328, X_test.values[:, 1].astype(int))\n",
    "#         XX[:, 5] = np.where(X_test.values[:, 5].astype(int) >= 2445, 2444, X_test.values[:, 5].astype(int))\n",
    "\n",
    "#         ### Challenger\n",
    "#         pdep, confi = gam_challenger.partial_dependence(i, X=XX, width=.95)\n",
    "#         fig, ax = plt.subplots(figsize=(10, 5), dpi=150)\n",
    "#         data = pd.DataFrame(np.hstack([XX[:, i].reshape(-1, 1), pdep.reshape(-1, 1), confi]),\n",
    "#                             columns=[feat, \"Mean Impact\", \"low\", \"high\"])\n",
    "#         data[\"low\"] = np.abs(data[\"low\"] - data[\"Mean Impact\"])\n",
    "#         data[\"high\"] = np.abs(data[\"high\"] - data[\"Mean Impact\"])\n",
    "#         data[\"model\"] = \"TRF\"\n",
    "#         agg = data.groupby(feat).mean()\n",
    "\n",
    "\n",
    "#         ### Benchmark\n",
    "#         pdep, confi = gam_benchmark.partial_dependence(i, X=XX, width=.95)\n",
    "#         data_benchmark = pd.DataFrame(np.hstack([XX[:, i].reshape(-1, 1), pdep.reshape(-1, 1), confi]),\n",
    "#                             columns=[feat, \"Mean Impact\", \"low\", \"high\"])\n",
    "#         data_benchmark[\"low\"] = np.abs(data_benchmark[\"low\"] - data_benchmark[\"Mean Impact\"])\n",
    "#         data_benchmark[\"high\"] = np.abs(data_benchmark[\"high\"] - data_benchmark[\"Mean Impact\"])\n",
    "#         data_benchmark[\"model\"] = \"RF\"\n",
    "        \n",
    "#         data = pd.concat([data, data_benchmark])\n",
    "#         agg = data.groupby(feat).mean()\n",
    "        \n",
    "#         sns.barplot(data=data, x=feat, y=\"Mean Impact\", hue=\"model\")\n",
    "\n",
    "\n",
    "#         plt.xticks([i for i in range(len(list(mapping.keys())))])\n",
    "#         ax.set_xticklabels(list(mapping.values()), rotation=90)\n",
    "#         plt.hlines(0.0, -1, max_cat, linestyles=\"dashed\")\n",
    "#         plt.ylabel(\"Score\", fontsize=15)\n",
    "        \n",
    "#         ax.xaxis.set_tick_params(labelsize=12)\n",
    "#         ax.yaxis.set_tick_params(labelsize=12)\n",
    "#         xmin, xmax, ymin, ymax = plt.axis()\n",
    "#         plt.ylim([ymin, ymax])\n",
    "#         plt.legend(fontsize=15)\n",
    "#         plt.xlabel(feat, fontsize=15)\n",
    "#         plt.savefig(\"../images/{}_feature_impact_cat_comparison_{}.eps\".format(PREFIX, feat), format=\"eps\")\n",
    "        \n",
    "#         plt.show()\n",
    "#         plt.clf()"
   ]
  },
  {
   "cell_type": "markdown",
   "id": "proper-verification",
   "metadata": {},
   "source": [
    "## Minimum samples by period effect"
   ]
  },
  {
   "cell_type": "code",
   "execution_count": null,
   "id": "visible-yesterday",
   "metadata": {
    "ExecuteTime": {
     "end_time": "2021-09-22T19:33:37.529222Z",
     "start_time": "2021-09-22T06:21:24.207Z"
    },
    "execution": {
     "iopub.execute_input": "2021-08-20T03:51:52.109649Z",
     "iopub.status.busy": "2021-08-20T03:51:52.109470Z",
     "iopub.status.idle": "2021-08-20T03:51:52.112387Z",
     "shell.execute_reply": "2021-08-20T03:51:52.111898Z",
     "shell.execute_reply.started": "2021-08-20T03:51:52.109628Z"
    }
   },
   "outputs": [],
   "source": [
    "target = TARGET\n",
    "min_sample_periods_values = [1, 5, 10, 20, 50, 100, 250, 500]"
   ]
  },
  {
   "cell_type": "code",
   "execution_count": null,
   "id": "tender-climate",
   "metadata": {
    "ExecuteTime": {
     "end_time": "2021-09-22T19:33:37.530597Z",
     "start_time": "2021-09-22T06:21:24.309Z"
    },
    "execution": {
     "iopub.execute_input": "2021-08-20T03:51:52.328917Z",
     "iopub.status.busy": "2021-08-20T03:51:52.328699Z",
     "iopub.status.idle": "2021-08-20T04:59:41.410659Z",
     "shell.execute_reply": "2021-08-20T04:59:41.409888Z",
     "shell.execute_reply.started": "2021-08-20T03:51:52.328894Z"
    }
   },
   "outputs": [],
   "source": [
    "min_sample_knob = {}\n",
    "min_sample_knob[\"challenger\"] = {\"unseen_performance\": [], \"train_performance\": [],\n",
    "                                \"test_performance\": [], \"unseen_performance_by_period\": []}\n",
    "unseen_performance = []\n",
    "train_performance = []\n",
    "test_performance = []\n",
    "unseen_performance_by_period = []\n",
    "\n",
    "for min_sample_periods in min_sample_periods_values:\n",
    "    model_split_time = TimeForestClassifier(time_column=TIME_COLUMN,\n",
    "                                        n_estimators=CHALLENGER_N_ESTIMATORS,\n",
    "                                        min_sample_periods=min_sample_periods,\n",
    "                                        max_depth=CHALLENGER_MAX_DEPTH,\n",
    "                                        multi=True)\n",
    "    \n",
    "    model_split_time.fit(train[features + [TIME_COLUMN]], train[target])\n",
    "    out_of_time[\"time_split_prediction\"] = model_split_time.predict_proba(out_of_time[features])[:, 1]\n",
    "    \n",
    "    performance = metrics.roc_auc_score(out_of_time[target], out_of_time[\"time_split_prediction\"])\n",
    "    min_sample_knob[\"challenger\"][\"unseen_performance\"].append(performance)\n",
    "    min_sample_knob[\"challenger\"][\"unseen_performance_by_period\"].append(out_of_time.groupby(TIME_COLUMN).apply(lambda x: roc_auc_score(x[target], x[\"time_split_prediction\"])))\n",
    "\n",
    "    train[\"time_split_prediction\"] = model_split_time.predict(train[features])\n",
    "    min_sample_knob[\"challenger\"][\"train_performance\"].append(metrics.roc_auc_score(train[target], train[\"time_split_prediction\"]))\n",
    "    \n",
    "    test[\"time_split_prediction\"] = model_split_time.predict(test[features])\n",
    "    min_sample_knob[\"challenger\"][\"test_performance\"].append(metrics.roc_auc_score(test[target], test[\"time_split_prediction\"]))"
   ]
  },
  {
   "cell_type": "code",
   "execution_count": null,
   "id": "stunning-murder",
   "metadata": {
    "ExecuteTime": {
     "end_time": "2021-09-22T19:33:37.532163Z",
     "start_time": "2021-09-22T06:21:24.410Z"
    },
    "execution": {
     "iopub.execute_input": "2021-08-20T04:59:41.412011Z",
     "iopub.status.busy": "2021-08-20T04:59:41.411826Z",
     "iopub.status.idle": "2021-08-20T04:59:41.616965Z",
     "shell.execute_reply": "2021-08-20T04:59:41.616528Z",
     "shell.execute_reply.started": "2021-08-20T04:59:41.411990Z"
    }
   },
   "outputs": [],
   "source": [
    "fig, ax = plt.subplots()\n",
    "plt.plot(min_sample_periods_values, min_sample_knob[\"challenger\"][\"train_performance\"], label=\"Train\")\n",
    "plt.plot(min_sample_periods_values, min_sample_knob[\"challenger\"][\"test_performance\"], label=\"Test\", \n",
    "         color=\"magenta\",\n",
    "         linestyle=\"dotted\")\n",
    "plt.plot(min_sample_periods_values, min_sample_knob[\"challenger\"][\"unseen_performance\"], label=\"Holdout\", \n",
    "                                                         linestyle=\"dashed\",\n",
    "                                                         color=\"green\")\n",
    "\n",
    "#plt.title(\"Holdout AUC by minimum examples by period parameter\", fontsize=15)\n",
    "ax.xaxis.set_tick_params(labelsize=12)\n",
    "ax.yaxis.set_tick_params(labelsize=12)\n",
    "xmin, xmax, ymin, ymax = plt.axis()\n",
    "plt.ylim([ymin, ymax])\n",
    "plt.legend(fontsize=15)\n",
    "plt.ylabel(\"AUC\", fontsize=15)\n",
    "plt.xlabel(\"Minimum examples by period\", fontsize=15)\n",
    "plt.savefig(\"../images/{}_test_min_example_by_period_train_and_holdout_whole.eps\".format(PREFIX), format=\"eps\")\n",
    "plt.show()"
   ]
  },
  {
   "cell_type": "code",
   "execution_count": null,
   "id": "choice-mayor",
   "metadata": {
    "ExecuteTime": {
     "end_time": "2021-09-22T19:33:37.534413Z",
     "start_time": "2021-09-22T06:21:24.509Z"
    },
    "execution": {
     "iopub.execute_input": "2021-08-20T04:59:41.618141Z",
     "iopub.status.busy": "2021-08-20T04:59:41.617986Z",
     "iopub.status.idle": "2021-08-20T04:59:42.110123Z",
     "shell.execute_reply": "2021-08-20T04:59:42.109652Z",
     "shell.execute_reply.started": "2021-08-20T04:59:41.618122Z"
    }
   },
   "outputs": [],
   "source": [
    "fig, ax = plt.subplots()\n",
    "\n",
    "greens = plt.get_cmap(\"Greens\")\n",
    "gradient = np.linspace(.1, 0.9, len(min_sample_periods_values))\n",
    "for i, experiment in enumerate(min_sample_knob[\"challenger\"][\"unseen_performance_by_period\"]):\n",
    "    experiment.plot(label=min_sample_periods_values[i], color=greens(gradient[i]))\n",
    "\n",
    "out_of_time.groupby(TIME_COLUMN).apply(lambda x: roc_auc_score(x[target], x[\"benchmark_prediction_opt\"])).plot(label=\"Optimal RF benchmark\", \n",
    "                                                                                                 color=\"red\", linestyle=\"dashed\", ax=ax)\n",
    "ax.xaxis.set_tick_params(labelsize=12)\n",
    "ax.yaxis.set_tick_params(labelsize=12)\n",
    "plt.legend(bbox_to_anchor=(1.05, 1.0), fontsize=12, title=\"Minimum examples by period\")\n",
    "plt.ylabel(\"AUC\", fontsize=15)\n",
    "plt.xlabel(\"Year\", fontsize=15)\n",
    "\n",
    "x_labels = np.sort(out_of_time[TIME_COLUMN].unique())\n",
    "plt.xticks(x_labels)\n",
    "\n",
    "plt.savefig(\"../images/{}_holdout_dif_min_samples.eps\".format(PREFIX), format=\"eps\", bbox_inches = \"tight\")\n",
    "plt.show()"
   ]
  },
  {
   "cell_type": "code",
   "execution_count": null,
   "id": "spatial-peeing",
   "metadata": {
    "ExecuteTime": {
     "end_time": "2021-09-22T19:33:37.535931Z",
     "start_time": "2021-09-22T06:21:24.610Z"
    },
    "execution": {
     "iopub.execute_input": "2021-08-20T04:59:42.111284Z",
     "iopub.status.busy": "2021-08-20T04:59:42.111118Z",
     "iopub.status.idle": "2021-08-20T05:01:15.078335Z",
     "shell.execute_reply": "2021-08-20T05:01:15.077729Z",
     "shell.execute_reply.started": "2021-08-20T04:59:42.111264Z"
    }
   },
   "outputs": [],
   "source": [
    "min_sample_knob[\"benchmark\"] = {\"unseen_performance\": [], \"train_performance\": [],\n",
    "                                \"test_performance\": [], \"unseen_performance_by_period\": []}\n",
    "\n",
    "training_segments = train[TIME_COLUMN].nunique()\n",
    "for min_sample_periods in min_sample_periods_values:\n",
    "\n",
    "    model = tuned_rf\n",
    "    model.set_params(min_samples_leaf=training_segments * min_sample_periods)\n",
    "    \n",
    "    \n",
    "    model.fit(train[features],\n",
    "              train[TARGET])\n",
    "     \n",
    "    out_of_time[\"time_split_prediction\"] = model.predict_proba(out_of_time[features])[:, 1]\n",
    "    \n",
    "    performance = metrics.roc_auc_score(out_of_time[target], out_of_time[\"time_split_prediction\"])\n",
    "    min_sample_knob[\"benchmark\"][\"unseen_performance\"].append(performance)\n",
    "    min_sample_knob[\"benchmark\"][\"unseen_performance_by_period\"].append(out_of_time.groupby(TIME_COLUMN).apply(lambda x: roc_auc_score(x[target], x[\"time_split_prediction\"])))\n",
    "\n",
    "    train[\"time_split_prediction\"] = model.predict(train[features])\n",
    "    min_sample_knob[\"benchmark\"][\"train_performance\"].append(metrics.roc_auc_score(train[target], train[\"time_split_prediction\"]))\n",
    "    \n",
    "    test[\"time_split_prediction\"] = model.predict(test[features])\n",
    "    min_sample_knob[\"benchmark\"][\"test_performance\"].append(metrics.roc_auc_score(test[target], test[\"time_split_prediction\"]))"
   ]
  },
  {
   "cell_type": "code",
   "execution_count": null,
   "id": "concerned-athletics",
   "metadata": {
    "ExecuteTime": {
     "end_time": "2021-09-22T19:33:37.537465Z",
     "start_time": "2021-09-22T06:21:24.713Z"
    },
    "execution": {
     "iopub.execute_input": "2021-08-20T05:01:15.079518Z",
     "iopub.status.busy": "2021-08-20T05:01:15.079305Z",
     "iopub.status.idle": "2021-08-20T05:01:15.574250Z",
     "shell.execute_reply": "2021-08-20T05:01:15.573781Z",
     "shell.execute_reply.started": "2021-08-20T05:01:15.079494Z"
    }
   },
   "outputs": [],
   "source": [
    "fig, ax = plt.subplots()\n",
    "\n",
    "blues = plt.get_cmap(\"Blues\")\n",
    "for i, experiment in enumerate(min_sample_knob[\"benchmark\"][\"unseen_performance_by_period\"]):\n",
    "    experiment.plot(label=min_sample_periods_values[i], color=blues(gradient[i]))\n",
    "\n",
    "out_of_time.groupby(TIME_COLUMN).apply(lambda x: roc_auc_score(x[target], x[\"benchmark_prediction_opt\"])).plot(label=\"Optimal RF benchmark\", \n",
    "                                                                                                 color=\"red\", linestyle=\"dashed\", ax=ax)\n",
    "\n",
    "ax.xaxis.set_tick_params(labelsize=12)\n",
    "ax.yaxis.set_tick_params(labelsize=12)\n",
    "plt.legend(bbox_to_anchor=(1.05, 1.0), fontsize=12, title=\"Minimum examples by period\")\n",
    "plt.ylabel(\"AUC\", fontsize=15)\n",
    "plt.xlabel(\"Year\", fontsize=15)\n",
    "\n",
    "x_labels = np.sort(out_of_time[TIME_COLUMN].unique())\n",
    "plt.xticks(x_labels)\n",
    "\n",
    "plt.savefig(\"../images/{}_holdout_dif_min_samples_benchmark.eps\".format(PREFIX), format=\"eps\", bbox_inches = \"tight\")\n",
    "plt.show()"
   ]
  },
  {
   "cell_type": "code",
   "execution_count": null,
   "id": "viral-packaging",
   "metadata": {
    "ExecuteTime": {
     "end_time": "2021-09-22T19:33:37.538979Z",
     "start_time": "2021-09-22T06:21:24.814Z"
    },
    "execution": {
     "iopub.execute_input": "2021-08-20T05:01:15.575229Z",
     "iopub.status.busy": "2021-08-20T05:01:15.575065Z",
     "iopub.status.idle": "2021-08-20T05:01:16.115221Z",
     "shell.execute_reply": "2021-08-20T05:01:16.114762Z",
     "shell.execute_reply.started": "2021-08-20T05:01:15.575210Z"
    }
   },
   "outputs": [],
   "source": [
    "fig, ax = plt.subplots()\n",
    "for i, experiment in enumerate(min_sample_knob[\"challenger\"][\"unseen_performance_by_period\"]):\n",
    "    experiment.plot(label=min_sample_periods_values[i], color=greens(gradient[i]))\n",
    "    \n",
    "for i, experiment in enumerate(min_sample_knob[\"benchmark\"][\"unseen_performance_by_period\"]):\n",
    "    experiment.plot(label=min_sample_periods_values[i], color=blues(gradient[i]))    \n",
    "\n",
    "ax.xaxis.set_tick_params(labelsize=12)\n",
    "ax.yaxis.set_tick_params(labelsize=12)\n",
    "plt.legend(bbox_to_anchor=(1.05, 1.0), fontsize=12, title=\"Minimum examples by period\")\n",
    "plt.ylabel(\"AUC\", fontsize=15)\n",
    "plt.xlabel(\"Year\", fontsize=15)\n",
    "\n",
    "x_labels = np.sort(out_of_time[TIME_COLUMN].unique())\n",
    "plt.xticks(x_labels)\n",
    "\n",
    "plt.savefig(\"../images/{}_holdout_dif_min_samples_benchmark_challenger.eps\".format(PREFIX), format=\"eps\", bbox_inches = \"tight\")\n",
    "plt.show()"
   ]
  },
  {
   "cell_type": "code",
   "execution_count": null,
   "id": "accurate-classic",
   "metadata": {
    "ExecuteTime": {
     "end_time": "2021-09-22T19:33:37.542462Z",
     "start_time": "2021-09-22T06:21:24.917Z"
    },
    "execution": {
     "iopub.execute_input": "2021-08-20T05:01:16.116225Z",
     "iopub.status.busy": "2021-08-20T05:01:16.116041Z",
     "iopub.status.idle": "2021-08-20T05:01:16.757570Z",
     "shell.execute_reply": "2021-08-20T05:01:16.757105Z",
     "shell.execute_reply.started": "2021-08-20T05:01:16.116205Z"
    }
   },
   "outputs": [],
   "source": [
    "fig, ax = plt.subplots()\n",
    "plt.plot(min_sample_periods_values, min_sample_knob[\"challenger\"][\"train_performance\"], label=\"TRF Train\",\n",
    "        color=\"#4c72b0\", linestyle=\"dashed\")\n",
    "plt.plot(min_sample_periods_values, min_sample_knob[\"challenger\"][\"test_performance\"], label=\"TRF Test\", \n",
    "         color=\"magenta\",\n",
    "         linestyle=\"dashed\")\n",
    "plt.plot(min_sample_periods_values, min_sample_knob[\"challenger\"][\"unseen_performance\"], label=\"TRF Holdout\", \n",
    "                                                         linestyle=\"dashed\",\n",
    "                                                         color=\"green\")\n",
    "\n",
    "plt.plot(min_sample_periods_values, min_sample_knob[\"benchmark\"][\"train_performance\"], label=\"RF Train\",\n",
    "        color=\"#4c72b0\")\n",
    "plt.plot(min_sample_periods_values, min_sample_knob[\"benchmark\"][\"test_performance\"], label=\"RF Test\", \n",
    "         color=\"magenta\")\n",
    "plt.plot(min_sample_periods_values, min_sample_knob[\"benchmark\"][\"unseen_performance\"], label=\"RF Holdout\", \n",
    "                                                         color=\"green\")\n",
    "\n",
    "#plt.title(\"Holdout AUC by minimum examples by period parameter\", fontsize=15)\n",
    "ax.xaxis.set_tick_params(labelsize=12)\n",
    "ax.yaxis.set_tick_params(labelsize=12)\n",
    "xmin, xmax, ymin, ymax = plt.axis()\n",
    "plt.ylim([ymin, ymax])\n",
    "plt.legend(fontsize=15)\n",
    "plt.ylabel(\"AUC\", fontsize=15)\n",
    "plt.xlabel(\"Minimum examples by period\", fontsize=15)\n",
    "plt.savefig(\"../images/{}_test_min_example_by_period_train_and_holdout_whole_bench_challenger.eps\".format(PREFIX), format=\"eps\")\n",
    "plt.show()"
   ]
  },
  {
   "cell_type": "code",
   "execution_count": null,
   "id": "hispanic-helen",
   "metadata": {
    "ExecuteTime": {
     "end_time": "2021-09-22T19:33:37.544226Z",
     "start_time": "2021-09-22T06:21:25.013Z"
    },
    "execution": {
     "iopub.execute_input": "2021-08-20T05:01:16.759313Z",
     "iopub.status.busy": "2021-08-20T05:01:16.759139Z",
     "iopub.status.idle": "2021-08-20T05:01:16.953368Z",
     "shell.execute_reply": "2021-08-20T05:01:16.952920Z",
     "shell.execute_reply.started": "2021-08-20T05:01:16.759293Z"
    }
   },
   "outputs": [],
   "source": [
    "fig, ax = plt.subplots()\n",
    "\n",
    "plt.plot(min_sample_periods_values, min_sample_knob[\"challenger\"][\"unseen_performance\"], label=\"TRF Holdout\", \n",
    "                                                         linestyle=\"dashed\",\n",
    "                                                         color=\"green\")\n",
    "\n",
    "plt.plot(min_sample_periods_values, min_sample_knob[\"benchmark\"][\"unseen_performance\"], label=\"RF Holdout\", \n",
    "                                                         color=\"green\")\n",
    "\n",
    "#plt.title(\"Holdout AUC by minimum examples by period parameter\", fontsize=15)\n",
    "ax.xaxis.set_tick_params(labelsize=12)\n",
    "ax.yaxis.set_tick_params(labelsize=12)\n",
    "xmin, xmax, ymin, ymax = plt.axis()\n",
    "plt.ylim([ymin, ymax])\n",
    "plt.legend(fontsize=15)\n",
    "plt.ylabel(\"AUC\", fontsize=15)\n",
    "plt.xlabel(\"Minimum examples by period\", fontsize=15)\n",
    "plt.savefig(\"../images/{}_holdout_min_example_by_period_train_and_holdout_whole_bench_challenger.eps\".format(PREFIX), format=\"eps\")\n",
    "plt.show()"
   ]
  },
  {
   "cell_type": "markdown",
   "id": "moderate-finance",
   "metadata": {},
   "source": [
    "## Domain classifier"
   ]
  },
  {
   "cell_type": "code",
   "execution_count": null,
   "id": "simplified-kruger",
   "metadata": {
    "ExecuteTime": {
     "end_time": "2021-09-22T19:33:37.546143Z",
     "start_time": "2021-09-22T06:21:25.215Z"
    },
    "execution": {
     "iopub.execute_input": "2021-08-20T05:01:16.954637Z",
     "iopub.status.busy": "2021-08-20T05:01:16.954473Z",
     "iopub.status.idle": "2021-08-20T05:01:16.959289Z",
     "shell.execute_reply": "2021-08-20T05:01:16.958853Z",
     "shell.execute_reply.started": "2021-08-20T05:01:16.954617Z"
    }
   },
   "outputs": [],
   "source": [
    "train[\"domain\"] = 1\n",
    "test[\"domain\"] = 1\n",
    "out_of_time[\"domain\"] = 0"
   ]
  },
  {
   "cell_type": "code",
   "execution_count": null,
   "id": "boolean-vermont",
   "metadata": {
    "ExecuteTime": {
     "end_time": "2021-09-22T19:33:37.547540Z",
     "start_time": "2021-09-22T06:21:25.319Z"
    },
    "execution": {
     "iopub.execute_input": "2021-08-20T05:01:16.960165Z",
     "iopub.status.busy": "2021-08-20T05:01:16.960007Z",
     "iopub.status.idle": "2021-08-20T05:01:17.737290Z",
     "shell.execute_reply": "2021-08-20T05:01:17.736737Z",
     "shell.execute_reply.started": "2021-08-20T05:01:16.960146Z"
    }
   },
   "outputs": [],
   "source": [
    "domain_data = pd.concat([train, test, out_of_time])"
   ]
  },
  {
   "cell_type": "code",
   "execution_count": null,
   "id": "rural-headset",
   "metadata": {
    "ExecuteTime": {
     "end_time": "2021-09-22T19:33:37.549104Z",
     "start_time": "2021-09-22T06:21:25.417Z"
    },
    "execution": {
     "iopub.execute_input": "2021-08-20T05:01:17.738370Z",
     "iopub.status.busy": "2021-08-20T05:01:17.738194Z",
     "iopub.status.idle": "2021-08-20T05:01:18.758566Z",
     "shell.execute_reply": "2021-08-20T05:01:18.758002Z",
     "shell.execute_reply.started": "2021-08-20T05:01:17.738350Z"
    }
   },
   "outputs": [],
   "source": [
    "train_domain, test_domain = train_test_split(domain_data, \n",
    "                               test_size=0.2,\n",
    "                               random_state=42)"
   ]
  },
  {
   "cell_type": "code",
   "execution_count": null,
   "id": "embedded-semester",
   "metadata": {
    "ExecuteTime": {
     "end_time": "2021-09-22T19:33:37.551010Z",
     "start_time": "2021-09-22T06:21:25.519Z"
    },
    "execution": {
     "iopub.execute_input": "2021-08-20T05:01:18.759678Z",
     "iopub.status.busy": "2021-08-20T05:01:18.759503Z",
     "iopub.status.idle": "2021-08-20T05:05:42.504469Z",
     "shell.execute_reply": "2021-08-20T05:05:42.503619Z",
     "shell.execute_reply.started": "2021-08-20T05:01:18.759657Z"
    }
   },
   "outputs": [],
   "source": [
    "clf2 = setup(train_domain[features + [\"domain\"]], target=\"domain\",\n",
    "             session_id=124, \n",
    "             log_experiment=False, \n",
    "             experiment_name=\"{}_domain\".format(PREFIX),\n",
    "             silent=True)\n",
    "\n",
    "rf = create_model('rf')\n",
    "tuned_domain_rf = tune_model(rf,\n",
    "                             optimize=\"AUC\",\n",
    "                             fold=5,\n",
    "                             n_iter=50)"
   ]
  },
  {
   "cell_type": "code",
   "execution_count": null,
   "id": "finite-rachel",
   "metadata": {
    "ExecuteTime": {
     "end_time": "2021-09-22T19:33:37.553335Z",
     "start_time": "2021-09-22T06:21:25.620Z"
    },
    "execution": {
     "iopub.execute_input": "2021-08-20T05:05:42.505816Z",
     "iopub.status.busy": "2021-08-20T05:05:42.505631Z",
     "iopub.status.idle": "2021-08-20T05:05:42.508965Z",
     "shell.execute_reply": "2021-08-20T05:05:42.508304Z",
     "shell.execute_reply.started": "2021-08-20T05:05:42.505792Z"
    }
   },
   "outputs": [],
   "source": [
    "domain_model = tuned_domain_rf"
   ]
  },
  {
   "cell_type": "code",
   "execution_count": null,
   "id": "amazing-honey",
   "metadata": {
    "ExecuteTime": {
     "end_time": "2021-09-22T19:33:37.555724Z",
     "start_time": "2021-09-22T06:21:25.719Z"
    },
    "execution": {
     "iopub.execute_input": "2021-08-20T05:05:42.509950Z",
     "iopub.status.busy": "2021-08-20T05:05:42.509795Z",
     "iopub.status.idle": "2021-08-20T05:05:55.645202Z",
     "shell.execute_reply": "2021-08-20T05:05:55.644599Z",
     "shell.execute_reply.started": "2021-08-20T05:05:42.509932Z"
    }
   },
   "outputs": [],
   "source": [
    "domain_model.fit(train_domain[features], train_domain[\"domain\"])"
   ]
  },
  {
   "cell_type": "code",
   "execution_count": null,
   "id": "agricultural-registration",
   "metadata": {
    "ExecuteTime": {
     "end_time": "2021-09-22T19:33:37.557628Z",
     "start_time": "2021-09-22T06:21:25.820Z"
    },
    "execution": {
     "iopub.execute_input": "2021-08-20T05:05:55.646363Z",
     "iopub.status.busy": "2021-08-20T05:05:55.646189Z",
     "iopub.status.idle": "2021-08-20T05:05:55.881925Z",
     "shell.execute_reply": "2021-08-20T05:05:55.881114Z",
     "shell.execute_reply.started": "2021-08-20T05:05:55.646343Z"
    }
   },
   "outputs": [],
   "source": [
    "test_domain[\"pred_domain\"] = domain_model.predict_proba(test_domain[features])[:, 1]"
   ]
  },
  {
   "cell_type": "code",
   "execution_count": null,
   "id": "ethical-incidence",
   "metadata": {
    "ExecuteTime": {
     "end_time": "2021-09-22T19:33:37.559065Z",
     "start_time": "2021-09-22T06:21:25.920Z"
    },
    "execution": {
     "iopub.execute_input": "2021-08-20T05:05:55.883189Z",
     "iopub.status.busy": "2021-08-20T05:05:55.882997Z",
     "iopub.status.idle": "2021-08-20T05:05:55.910457Z",
     "shell.execute_reply": "2021-08-20T05:05:55.909787Z",
     "shell.execute_reply.started": "2021-08-20T05:05:55.883167Z"
    }
   },
   "outputs": [],
   "source": [
    "roc_auc_score(test_domain[\"domain\"], test_domain[\"pred_domain\"])"
   ]
  },
  {
   "cell_type": "markdown",
   "id": "humanitarian-primary",
   "metadata": {},
   "source": [
    "## Other optimization design for the RF"
   ]
  },
  {
   "cell_type": "code",
   "execution_count": null,
   "id": "saved-sphere",
   "metadata": {
    "ExecuteTime": {
     "end_time": "2021-09-22T19:33:37.561063Z",
     "start_time": "2021-09-22T06:21:26.122Z"
    },
    "execution": {
     "iopub.execute_input": "2021-08-20T11:50:34.858776Z",
     "iopub.status.busy": "2021-08-20T11:50:34.858602Z",
     "iopub.status.idle": "2021-08-20T11:50:34.864159Z",
     "shell.execute_reply": "2021-08-20T11:50:34.863716Z",
     "shell.execute_reply.started": "2021-08-20T11:50:34.858755Z"
    }
   },
   "outputs": [],
   "source": [
    "last_time_segment_in_train = np.max(in_time[TIME_COLUMN].unique())\n",
    "last_time_segment_in_train"
   ]
  },
  {
   "cell_type": "code",
   "execution_count": null,
   "id": "ahead-beaver",
   "metadata": {
    "ExecuteTime": {
     "end_time": "2021-09-22T19:33:37.562782Z",
     "start_time": "2021-09-22T06:21:26.221Z"
    },
    "execution": {
     "iopub.execute_input": "2021-08-20T11:50:34.865029Z",
     "iopub.status.busy": "2021-08-20T11:50:34.864868Z",
     "iopub.status.idle": "2021-08-20T11:50:34.867590Z",
     "shell.execute_reply": "2021-08-20T11:50:34.867127Z",
     "shell.execute_reply.started": "2021-08-20T11:50:34.865009Z"
    }
   },
   "outputs": [],
   "source": [
    "posfix = str(last_time_segment_in_train)"
   ]
  },
  {
   "cell_type": "code",
   "execution_count": null,
   "id": "labeled-throat",
   "metadata": {
    "ExecuteTime": {
     "end_time": "2021-09-22T19:33:37.564462Z",
     "start_time": "2021-09-22T06:21:26.322Z"
    },
    "execution": {
     "iopub.execute_input": "2021-08-20T11:50:34.868464Z",
     "iopub.status.busy": "2021-08-20T11:50:34.868306Z",
     "iopub.status.idle": "2021-08-20T11:50:35.318318Z",
     "shell.execute_reply": "2021-08-20T11:50:35.317755Z",
     "shell.execute_reply.started": "2021-08-20T11:50:34.868445Z"
    }
   },
   "outputs": [],
   "source": [
    "new_train = in_time[in_time[\"Year\"] < last_time_segment_in_train]\n",
    "new_validation = in_time[in_time[\"Year\"] == last_time_segment_in_train]"
   ]
  },
  {
   "cell_type": "code",
   "execution_count": null,
   "id": "great-symphony",
   "metadata": {
    "ExecuteTime": {
     "end_time": "2021-09-22T19:33:37.566182Z",
     "start_time": "2021-09-22T06:21:26.423Z"
    },
    "execution": {
     "iopub.execute_input": "2021-08-20T11:50:35.319391Z",
     "iopub.status.busy": "2021-08-20T11:50:35.319216Z",
     "iopub.status.idle": "2021-08-20T11:58:36.535074Z",
     "shell.execute_reply": "2021-08-20T11:58:36.534250Z",
     "shell.execute_reply.started": "2021-08-20T11:50:35.319370Z"
    }
   },
   "outputs": [],
   "source": [
    "clf1 = setup(new_train[features + [TARGET]], target=TARGET,\n",
    "             test_data=new_validation,\n",
    "             session_id=44,\n",
    "             log_experiment=False,\n",
    "             experiment_name=\"{}_opt1\".format(PREFIX),\n",
    "             silent=True)\n",
    "\n",
    "rf = create_model('rf')\n",
    "tuned_rf = tune_model(rf,\n",
    "                      optimize=\"AUC\",\n",
    "                      n_iter=25)"
   ]
  },
  {
   "cell_type": "code",
   "execution_count": null,
   "id": "convertible-january",
   "metadata": {
    "ExecuteTime": {
     "end_time": "2021-09-22T19:33:37.567671Z",
     "start_time": "2021-09-22T06:21:26.524Z"
    },
    "execution": {
     "iopub.execute_input": "2021-08-20T11:58:36.536309Z",
     "iopub.status.busy": "2021-08-20T11:58:36.536133Z",
     "iopub.status.idle": "2021-08-20T11:58:36.540598Z",
     "shell.execute_reply": "2021-08-20T11:58:36.540067Z",
     "shell.execute_reply.started": "2021-08-20T11:58:36.536287Z"
    }
   },
   "outputs": [],
   "source": [
    "tuned_rf"
   ]
  },
  {
   "cell_type": "code",
   "execution_count": null,
   "id": "vulnerable-transition",
   "metadata": {
    "ExecuteTime": {
     "end_time": "2021-09-22T19:33:37.569413Z",
     "start_time": "2021-09-22T06:21:26.625Z"
    },
    "execution": {
     "iopub.execute_input": "2021-08-20T11:58:36.541554Z",
     "iopub.status.busy": "2021-08-20T11:58:36.541394Z",
     "iopub.status.idle": "2021-08-20T11:58:44.763105Z",
     "shell.execute_reply": "2021-08-20T11:58:44.762321Z",
     "shell.execute_reply.started": "2021-08-20T11:58:36.541535Z"
    }
   },
   "outputs": [],
   "source": [
    "benchmark_model = tuned_rf\n",
    "benchmark_model.fit(train[features], train[TARGET])\n",
    "\n",
    "train[\"benchmark_prediction_opt_{}\".format(posfix)] = benchmark_model.predict_proba(train[features])[:, 1]\n",
    "test[\"benchmark_prediction_opt_{}\".format(posfix)] = benchmark_model.predict_proba(test[features])[:, 1]\n",
    "out_of_time[\"benchmark_prediction_opt_{}\".format(posfix)] = benchmark_model.predict_proba(out_of_time[features])[:, 1]"
   ]
  },
  {
   "cell_type": "code",
   "execution_count": null,
   "id": "convenient-worth",
   "metadata": {
    "ExecuteTime": {
     "end_time": "2021-09-22T19:33:37.571218Z",
     "start_time": "2021-09-22T06:21:26.725Z"
    },
    "execution": {
     "iopub.execute_input": "2021-08-20T11:58:44.764268Z",
     "iopub.status.busy": "2021-08-20T11:58:44.764083Z",
     "iopub.status.idle": "2021-08-20T11:58:45.307136Z",
     "shell.execute_reply": "2021-08-20T11:58:45.306481Z",
     "shell.execute_reply.started": "2021-08-20T11:58:44.764245Z"
    }
   },
   "outputs": [],
   "source": [
    "new_validation, add_to_train = train_test_split(new_validation, test_size=0.5)\n",
    "\n",
    "new_train = pd.concat([new_train, add_to_train])"
   ]
  },
  {
   "cell_type": "code",
   "execution_count": null,
   "id": "accessible-lindsay",
   "metadata": {
    "ExecuteTime": {
     "end_time": "2021-09-22T19:33:37.573321Z",
     "start_time": "2021-09-22T06:21:26.828Z"
    },
    "execution": {
     "iopub.execute_input": "2021-08-20T11:58:45.308338Z",
     "iopub.status.busy": "2021-08-20T11:58:45.308148Z",
     "iopub.status.idle": "2021-08-20T12:12:59.618534Z",
     "shell.execute_reply": "2021-08-20T12:12:59.617912Z",
     "shell.execute_reply.started": "2021-08-20T11:58:45.308316Z"
    }
   },
   "outputs": [],
   "source": [
    "clf1 = setup(new_train[features + [TARGET]], target=TARGET,\n",
    "             test_data=new_validation,\n",
    "             session_id=22,\n",
    "             log_experiment=False,\n",
    "             experiment_name=\"{}_opt2\".format(PREFIX),\n",
    "             silent=True)\n",
    "\n",
    "rf = create_model('rf')\n",
    "tuned_rf = tune_model(rf,\n",
    "                     optimize=\"AUC\",\n",
    "                     n_iter=50)"
   ]
  },
  {
   "cell_type": "code",
   "execution_count": null,
   "id": "presidential-highland",
   "metadata": {
    "ExecuteTime": {
     "end_time": "2021-09-22T19:33:37.575553Z",
     "start_time": "2021-09-22T06:21:26.929Z"
    },
    "execution": {
     "iopub.execute_input": "2021-08-20T12:12:59.619678Z",
     "iopub.status.busy": "2021-08-20T12:12:59.619489Z",
     "iopub.status.idle": "2021-08-20T12:13:01.555675Z",
     "shell.execute_reply": "2021-08-20T12:13:01.554947Z",
     "shell.execute_reply.started": "2021-08-20T12:12:59.619655Z"
    }
   },
   "outputs": [],
   "source": [
    "benchmark_model = tuned_rf\n",
    "benchmark_model.fit(train[features], train[TARGET])\n",
    "\n",
    "train[\"benchmark_prediction_opt_half_{}\".format(posfix)] = benchmark_model.predict_proba(train[features])[:, 1]\n",
    "test[\"benchmark_prediction_opt_half_{}\".format(posfix)] = benchmark_model.predict_proba(test[features])[:, 1]\n",
    "out_of_time[\"benchmark_prediction_opt_half_{}\".format(posfix)] = benchmark_model.predict_proba(out_of_time[features])[:, 1]"
   ]
  },
  {
   "cell_type": "code",
   "execution_count": null,
   "id": "checked-cruise",
   "metadata": {
    "ExecuteTime": {
     "end_time": "2021-09-22T19:33:37.577542Z",
     "start_time": "2021-09-22T06:21:27.029Z"
    },
    "execution": {
     "iopub.execute_input": "2021-08-20T12:13:01.557000Z",
     "iopub.status.busy": "2021-08-20T12:13:01.556800Z",
     "iopub.status.idle": "2021-08-20T12:13:03.308731Z",
     "shell.execute_reply": "2021-08-20T12:13:03.308089Z",
     "shell.execute_reply.started": "2021-08-20T12:13:01.556976Z"
    }
   },
   "outputs": [],
   "source": [
    "fig, ax = plt.subplots()\n",
    "pd.concat([test, out_of_time]).groupby(TIME_COLUMN).apply(lambda x: roc_auc_score(x[TARGET], x[\"challenger_prediction\"])).plot(label=\"Time Robust Forest\", \n",
    "                                                                                                      linestyle=\"dashed\",\n",
    "                                                                                                      color=\"green\", ax=ax)\n",
    "\n",
    "pd.concat([test, out_of_time]).groupby(TIME_COLUMN).apply(lambda x: roc_auc_score(x[TARGET], x[\"benchmark_prediction_opt_half_{}\".format(posfix)])).plot(label=\"RF: Half {} in validation\".format(posfix), \n",
    "                                                                                                      #linestyle=\"dashed\",\n",
    "                                                                                                      color=\"purple\", ax=ax)\n",
    "pd.concat([test, out_of_time]).groupby(TIME_COLUMN).apply(lambda x: roc_auc_score(x[TARGET], x[\"benchmark_prediction_opt\"])).plot(label=\"RF: K-fold in the in-time\", ax=ax)\n",
    "pd.concat([test, out_of_time]).groupby(TIME_COLUMN).apply(lambda x: roc_auc_score(x[TARGET], x[\"benchmark_prediction_opt_{}\".format(posfix)])).plot(label=\"RF: Full {} in validation\".format(posfix), ax=ax)\n",
    "\n",
    "ax.xaxis.set_tick_params(labelsize=12)\n",
    "ax.yaxis.set_tick_params(labelsize=12)\n",
    "\n",
    "xmin, xmax, ymin, ymax = plt.axis()\n",
    "plt.vlines(training_end_year + 1, ymin, ymax, linestyle=\"dotted\", color=\"red\", label=\"Holdout start\")\n",
    "plt.ylim([ymin, ymax])\n",
    "plt.legend(fontsize=15, bbox_to_anchor=(1.0, 1.0))\n",
    "plt.ylabel(\"AUC\", fontsize=15)\n",
    "plt.xlabel(\"Year\", fontsize=15)\n",
    "plt.savefig(\"../images/{}_performance_proof.eps\".format(PREFIX), format=\"eps\", bbox_inches = \"tight\")\n",
    "plt.show()\n"
   ]
  },
  {
   "cell_type": "code",
   "execution_count": null,
   "id": "mighty-paintball",
   "metadata": {},
   "outputs": [],
   "source": []
  },
  {
   "cell_type": "code",
   "execution_count": null,
   "id": "behind-plastic",
   "metadata": {},
   "outputs": [],
   "source": []
  },
  {
   "cell_type": "code",
   "execution_count": null,
   "id": "processed-network",
   "metadata": {},
   "outputs": [],
   "source": []
  },
  {
   "cell_type": "code",
   "execution_count": null,
   "id": "detected-kinase",
   "metadata": {},
   "outputs": [],
   "source": []
  },
  {
   "cell_type": "code",
   "execution_count": null,
   "id": "broke-sucking",
   "metadata": {},
   "outputs": [],
   "source": []
  }
 ],
 "metadata": {
  "hide_input": false,
  "kernelspec": {
   "display_name": "ml3",
   "language": "python",
   "name": "lgm"
  },
  "language_info": {
   "codemirror_mode": {
    "name": "ipython",
    "version": 3
   },
   "file_extension": ".py",
   "mimetype": "text/x-python",
   "name": "python",
   "nbconvert_exporter": "python",
   "pygments_lexer": "ipython3",
   "version": "3.6.3"
  },
  "toc": {
   "base_numbering": 1,
   "nav_menu": {},
   "number_sections": true,
   "sideBar": true,
   "skip_h1_title": true,
   "title_cell": "Index",
   "title_sidebar": "Contents",
   "toc_cell": true,
   "toc_position": {},
   "toc_section_display": true,
   "toc_window_display": false
  }
 },
 "nbformat": 4,
 "nbformat_minor": 5
}
