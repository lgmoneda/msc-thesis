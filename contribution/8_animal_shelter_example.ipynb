{
 "cells": [
  {
   "cell_type": "markdown",
   "metadata": {},
   "source": [
    "# Example - Animal Shelter"
   ]
  },
  {
   "cell_type": "markdown",
   "metadata": {
    "toc": true
   },
   "source": [
    "<h1>Index<span class=\"tocSkip\"></span></h1>\n",
    "<div class=\"toc\"><ul class=\"toc-item\"><li><span><a href=\"#Create-a-target\" data-toc-modified-id=\"Create-a-target-1\"><span class=\"toc-item-num\">1&nbsp;&nbsp;</span>Create a target</a></span></li><li><span><a href=\"#Modeling\" data-toc-modified-id=\"Modeling-2\"><span class=\"toc-item-num\">2&nbsp;&nbsp;</span>Modeling</a></span><ul class=\"toc-item\"><li><span><a href=\"#Data\" data-toc-modified-id=\"Data-2.1\"><span class=\"toc-item-num\">2.1&nbsp;&nbsp;</span>Data</a></span></li></ul></li><li><span><a href=\"#Checking-the-support-in-the-different-environments\" data-toc-modified-id=\"Checking-the-support-in-the-different-environments-3\"><span class=\"toc-item-num\">3&nbsp;&nbsp;</span>Checking the support in the different environments</a></span><ul class=\"toc-item\"><li><span><a href=\"#Benchmark\" data-toc-modified-id=\"Benchmark-3.1\"><span class=\"toc-item-num\">3.1&nbsp;&nbsp;</span>Benchmark</a></span></li></ul></li><li><span><a href=\"#Challenger-model\" data-toc-modified-id=\"Challenger-model-4\"><span class=\"toc-item-num\">4&nbsp;&nbsp;</span>Challenger model</a></span></li><li><span><a href=\"#TRF-as-feature-selection\" data-toc-modified-id=\"TRF-as-feature-selection-5\"><span class=\"toc-item-num\">5&nbsp;&nbsp;</span>TRF as feature selection</a></span></li><li><span><a href=\"#Domain-classifier\" data-toc-modified-id=\"Domain-classifier-6\"><span class=\"toc-item-num\">6&nbsp;&nbsp;</span>Domain classifier</a></span></li></ul></div>"
   ]
  },
  {
   "cell_type": "code",
   "execution_count": 1,
   "metadata": {
    "ExecuteTime": {
     "end_time": "2021-06-26T16:52:31.740769Z",
     "start_time": "2021-06-26T16:52:31.736512Z"
    },
    "execution": {
     "iopub.execute_input": "2021-08-19T00:07:45.636892Z",
     "iopub.status.busy": "2021-08-19T00:07:45.636561Z",
     "iopub.status.idle": "2021-08-19T00:07:47.783146Z",
     "shell.execute_reply": "2021-08-19T00:07:47.782309Z",
     "shell.execute_reply.started": "2021-08-19T00:07:45.636852Z"
    }
   },
   "outputs": [],
   "source": [
    "import pandas as pd\n",
    "import matplotlib.pyplot as plt\n",
    "import numpy as np\n",
    "import shap\n",
    "import seaborn as sns\n",
    "\n",
    "from sklearn.preprocessing import LabelEncoder\n",
    "from sklearn.tree import DecisionTreeClassifier\n",
    "from sklearn.ensemble import RandomForestClassifier\n",
    "from sklearn.model_selection import train_test_split\n",
    "from sklearn.metrics import roc_auc_score\n",
    "from sklearn import metrics\n",
    "from time_robust_forest.models import TimeForestClassifier\n",
    "from time_robust_forest.functions import check_categoricals_match, check_numerical_match\n",
    "from models.aux_functions import *\n",
    "\n",
    "np.random.seed(42)"
   ]
  },
  {
   "cell_type": "code",
   "execution_count": 2,
   "metadata": {
    "ExecuteTime": {
     "end_time": "2021-06-26T16:52:33.359680Z",
     "start_time": "2021-06-26T16:52:33.356688Z"
    },
    "execution": {
     "iopub.execute_input": "2021-08-19T00:07:47.785036Z",
     "iopub.status.busy": "2021-08-19T00:07:47.784763Z",
     "iopub.status.idle": "2021-08-19T00:07:47.789525Z",
     "shell.execute_reply": "2021-08-19T00:07:47.788817Z",
     "shell.execute_reply.started": "2021-08-19T00:07:47.785000Z"
    }
   },
   "outputs": [],
   "source": [
    "def set_style():\n",
    "    plt.style.use(['seaborn-white', 'seaborn-paper'])\n",
    "    plt.rcParams['figure.figsize'] = (12, 4)"
   ]
  },
  {
   "cell_type": "code",
   "execution_count": 3,
   "metadata": {
    "ExecuteTime": {
     "end_time": "2021-06-26T16:52:33.784329Z",
     "start_time": "2021-06-26T16:52:33.781776Z"
    },
    "execution": {
     "iopub.execute_input": "2021-08-19T00:07:47.791548Z",
     "iopub.status.busy": "2021-08-19T00:07:47.791259Z",
     "iopub.status.idle": "2021-08-19T00:07:47.796241Z",
     "shell.execute_reply": "2021-08-19T00:07:47.795531Z",
     "shell.execute_reply.started": "2021-08-19T00:07:47.791513Z"
    }
   },
   "outputs": [],
   "source": [
    "set_style()"
   ]
  },
  {
   "cell_type": "code",
   "execution_count": 4,
   "metadata": {
    "ExecuteTime": {
     "end_time": "2021-06-26T16:52:34.054791Z",
     "start_time": "2021-06-26T16:52:34.052577Z"
    },
    "execution": {
     "iopub.execute_input": "2021-08-19T00:07:47.797965Z",
     "iopub.status.busy": "2021-08-19T00:07:47.797718Z",
     "iopub.status.idle": "2021-08-19T00:07:47.801865Z",
     "shell.execute_reply": "2021-08-19T00:07:47.801165Z",
     "shell.execute_reply.started": "2021-08-19T00:07:47.797933Z"
    }
   },
   "outputs": [],
   "source": [
    "DATASETS_PATH = \"~/Documents/datasets/animal_shelter/\"\n",
    "PREFIX = \"animal_shelter\""
   ]
  },
  {
   "cell_type": "code",
   "execution_count": 5,
   "metadata": {
    "ExecuteTime": {
     "end_time": "2021-06-26T16:52:35.041247Z",
     "start_time": "2021-06-26T16:52:34.254730Z"
    },
    "execution": {
     "iopub.execute_input": "2021-08-19T00:07:47.803286Z",
     "iopub.status.busy": "2021-08-19T00:07:47.802918Z",
     "iopub.status.idle": "2021-08-19T00:07:48.897361Z",
     "shell.execute_reply": "2021-08-19T00:07:48.896528Z",
     "shell.execute_reply.started": "2021-08-19T00:07:47.803252Z"
    }
   },
   "outputs": [],
   "source": [
    "intakes = pd.read_csv(DATASETS_PATH + \"Austin_Animal_Center_Intakes.csv\")\n",
    "outcomes = pd.read_csv(DATASETS_PATH + \"Austin_Animal_Center_Outcomes.csv\")"
   ]
  },
  {
   "cell_type": "code",
   "execution_count": 6,
   "metadata": {
    "ExecuteTime": {
     "end_time": "2021-06-26T16:52:35.048266Z",
     "start_time": "2021-06-26T16:52:35.043194Z"
    },
    "execution": {
     "iopub.execute_input": "2021-08-19T00:07:48.898927Z",
     "iopub.status.busy": "2021-08-19T00:07:48.898663Z",
     "iopub.status.idle": "2021-08-19T00:07:48.905717Z",
     "shell.execute_reply": "2021-08-19T00:07:48.905012Z",
     "shell.execute_reply.started": "2021-08-19T00:07:48.898892Z"
    }
   },
   "outputs": [
    {
     "data": {
      "text/plain": [
       "(124120, 12)"
      ]
     },
     "execution_count": 6,
     "metadata": {},
     "output_type": "execute_result"
    }
   ],
   "source": [
    "intakes.shape"
   ]
  },
  {
   "cell_type": "code",
   "execution_count": 7,
   "metadata": {
    "ExecuteTime": {
     "end_time": "2021-06-26T16:52:35.210039Z",
     "start_time": "2021-06-26T16:52:35.051018Z"
    },
    "execution": {
     "iopub.execute_input": "2021-08-19T00:07:48.907125Z",
     "iopub.status.busy": "2021-08-19T00:07:48.906875Z",
     "iopub.status.idle": "2021-08-19T00:07:49.119980Z",
     "shell.execute_reply": "2021-08-19T00:07:49.119180Z",
     "shell.execute_reply.started": "2021-08-19T00:07:48.907093Z"
    }
   },
   "outputs": [
    {
     "data": {
      "text/plain": [
       "Animal ID           110926\n",
       "Name                 19748\n",
       "DateTime             87660\n",
       "MonthYear            87660\n",
       "Found Location       53703\n",
       "Intake Type              6\n",
       "Intake Condition        10\n",
       "Animal Type              5\n",
       "Sex upon Intake          5\n",
       "Age upon Intake         52\n",
       "Breed                 2629\n",
       "Color                  595\n",
       "dtype: int64"
      ]
     },
     "execution_count": 7,
     "metadata": {},
     "output_type": "execute_result"
    }
   ],
   "source": [
    "intakes.nunique()"
   ]
  },
  {
   "cell_type": "code",
   "execution_count": 8,
   "metadata": {
    "ExecuteTime": {
     "end_time": "2021-06-26T16:52:35.217164Z",
     "start_time": "2021-06-26T16:52:35.212054Z"
    },
    "execution": {
     "iopub.execute_input": "2021-08-19T00:07:49.121477Z",
     "iopub.status.busy": "2021-08-19T00:07:49.121220Z",
     "iopub.status.idle": "2021-08-19T00:07:49.127865Z",
     "shell.execute_reply": "2021-08-19T00:07:49.127134Z",
     "shell.execute_reply.started": "2021-08-19T00:07:49.121444Z"
    }
   },
   "outputs": [
    {
     "data": {
      "text/plain": [
       "Animal ID           object\n",
       "Name                object\n",
       "DateTime            object\n",
       "MonthYear           object\n",
       "Found Location      object\n",
       "Intake Type         object\n",
       "Intake Condition    object\n",
       "Animal Type         object\n",
       "Sex upon Intake     object\n",
       "Age upon Intake     object\n",
       "Breed               object\n",
       "Color               object\n",
       "dtype: object"
      ]
     },
     "execution_count": 8,
     "metadata": {},
     "output_type": "execute_result"
    }
   ],
   "source": [
    "intakes.dtypes"
   ]
  },
  {
   "cell_type": "code",
   "execution_count": 9,
   "metadata": {
    "ExecuteTime": {
     "end_time": "2021-06-26T16:52:35.237698Z",
     "start_time": "2021-06-26T16:52:35.219022Z"
    },
    "execution": {
     "iopub.execute_input": "2021-08-19T00:07:49.130898Z",
     "iopub.status.busy": "2021-08-19T00:07:49.130647Z",
     "iopub.status.idle": "2021-08-19T00:07:49.158802Z",
     "shell.execute_reply": "2021-08-19T00:07:49.158091Z",
     "shell.execute_reply.started": "2021-08-19T00:07:49.130865Z"
    }
   },
   "outputs": [
    {
     "data": {
      "text/html": [
       "<div>\n",
       "<style scoped>\n",
       "    .dataframe tbody tr th:only-of-type {\n",
       "        vertical-align: middle;\n",
       "    }\n",
       "\n",
       "    .dataframe tbody tr th {\n",
       "        vertical-align: top;\n",
       "    }\n",
       "\n",
       "    .dataframe thead th {\n",
       "        text-align: right;\n",
       "    }\n",
       "</style>\n",
       "<table border=\"1\" class=\"dataframe\">\n",
       "  <thead>\n",
       "    <tr style=\"text-align: right;\">\n",
       "      <th></th>\n",
       "      <th>Animal ID</th>\n",
       "      <th>Name</th>\n",
       "      <th>DateTime</th>\n",
       "      <th>MonthYear</th>\n",
       "      <th>Found Location</th>\n",
       "      <th>Intake Type</th>\n",
       "      <th>Intake Condition</th>\n",
       "      <th>Animal Type</th>\n",
       "      <th>Sex upon Intake</th>\n",
       "      <th>Age upon Intake</th>\n",
       "      <th>Breed</th>\n",
       "      <th>Color</th>\n",
       "    </tr>\n",
       "  </thead>\n",
       "  <tbody>\n",
       "    <tr>\n",
       "      <th>0</th>\n",
       "      <td>A786884</td>\n",
       "      <td>*Brock</td>\n",
       "      <td>01/03/2019 04:19:00 PM</td>\n",
       "      <td>01/03/2019 04:19:00 PM</td>\n",
       "      <td>2501 Magin Meadow Dr in Austin (TX)</td>\n",
       "      <td>Stray</td>\n",
       "      <td>Normal</td>\n",
       "      <td>Dog</td>\n",
       "      <td>Neutered Male</td>\n",
       "      <td>2 years</td>\n",
       "      <td>Beagle Mix</td>\n",
       "      <td>Tricolor</td>\n",
       "    </tr>\n",
       "    <tr>\n",
       "      <th>1</th>\n",
       "      <td>A706918</td>\n",
       "      <td>Belle</td>\n",
       "      <td>07/05/2015 12:59:00 PM</td>\n",
       "      <td>07/05/2015 12:59:00 PM</td>\n",
       "      <td>9409 Bluegrass Dr in Austin (TX)</td>\n",
       "      <td>Stray</td>\n",
       "      <td>Normal</td>\n",
       "      <td>Dog</td>\n",
       "      <td>Spayed Female</td>\n",
       "      <td>8 years</td>\n",
       "      <td>English Springer Spaniel</td>\n",
       "      <td>White/Liver</td>\n",
       "    </tr>\n",
       "    <tr>\n",
       "      <th>2</th>\n",
       "      <td>A724273</td>\n",
       "      <td>Runster</td>\n",
       "      <td>04/14/2016 06:43:00 PM</td>\n",
       "      <td>04/14/2016 06:43:00 PM</td>\n",
       "      <td>2818 Palomino Trail in Austin (TX)</td>\n",
       "      <td>Stray</td>\n",
       "      <td>Normal</td>\n",
       "      <td>Dog</td>\n",
       "      <td>Intact Male</td>\n",
       "      <td>11 months</td>\n",
       "      <td>Basenji Mix</td>\n",
       "      <td>Sable/White</td>\n",
       "    </tr>\n",
       "    <tr>\n",
       "      <th>3</th>\n",
       "      <td>A665644</td>\n",
       "      <td>NaN</td>\n",
       "      <td>10/21/2013 07:59:00 AM</td>\n",
       "      <td>10/21/2013 07:59:00 AM</td>\n",
       "      <td>Austin (TX)</td>\n",
       "      <td>Stray</td>\n",
       "      <td>Sick</td>\n",
       "      <td>Cat</td>\n",
       "      <td>Intact Female</td>\n",
       "      <td>4 weeks</td>\n",
       "      <td>Domestic Shorthair Mix</td>\n",
       "      <td>Calico</td>\n",
       "    </tr>\n",
       "    <tr>\n",
       "      <th>4</th>\n",
       "      <td>A682524</td>\n",
       "      <td>Rio</td>\n",
       "      <td>06/29/2014 10:38:00 AM</td>\n",
       "      <td>06/29/2014 10:38:00 AM</td>\n",
       "      <td>800 Grove Blvd in Austin (TX)</td>\n",
       "      <td>Stray</td>\n",
       "      <td>Normal</td>\n",
       "      <td>Dog</td>\n",
       "      <td>Neutered Male</td>\n",
       "      <td>4 years</td>\n",
       "      <td>Doberman Pinsch/Australian Cattle Dog</td>\n",
       "      <td>Tan/Gray</td>\n",
       "    </tr>\n",
       "  </tbody>\n",
       "</table>\n",
       "</div>"
      ],
      "text/plain": [
       "  Animal ID     Name                DateTime               MonthYear  \\\n",
       "0   A786884   *Brock  01/03/2019 04:19:00 PM  01/03/2019 04:19:00 PM   \n",
       "1   A706918    Belle  07/05/2015 12:59:00 PM  07/05/2015 12:59:00 PM   \n",
       "2   A724273  Runster  04/14/2016 06:43:00 PM  04/14/2016 06:43:00 PM   \n",
       "3   A665644      NaN  10/21/2013 07:59:00 AM  10/21/2013 07:59:00 AM   \n",
       "4   A682524      Rio  06/29/2014 10:38:00 AM  06/29/2014 10:38:00 AM   \n",
       "\n",
       "                        Found Location Intake Type Intake Condition  \\\n",
       "0  2501 Magin Meadow Dr in Austin (TX)       Stray           Normal   \n",
       "1     9409 Bluegrass Dr in Austin (TX)       Stray           Normal   \n",
       "2   2818 Palomino Trail in Austin (TX)       Stray           Normal   \n",
       "3                          Austin (TX)       Stray             Sick   \n",
       "4        800 Grove Blvd in Austin (TX)       Stray           Normal   \n",
       "\n",
       "  Animal Type Sex upon Intake Age upon Intake  \\\n",
       "0         Dog   Neutered Male         2 years   \n",
       "1         Dog   Spayed Female         8 years   \n",
       "2         Dog     Intact Male       11 months   \n",
       "3         Cat   Intact Female         4 weeks   \n",
       "4         Dog   Neutered Male         4 years   \n",
       "\n",
       "                                   Breed        Color  \n",
       "0                             Beagle Mix     Tricolor  \n",
       "1               English Springer Spaniel  White/Liver  \n",
       "2                            Basenji Mix  Sable/White  \n",
       "3                 Domestic Shorthair Mix       Calico  \n",
       "4  Doberman Pinsch/Australian Cattle Dog     Tan/Gray  "
      ]
     },
     "execution_count": 9,
     "metadata": {},
     "output_type": "execute_result"
    }
   ],
   "source": [
    "intakes.head()"
   ]
  },
  {
   "cell_type": "code",
   "execution_count": 10,
   "metadata": {
    "ExecuteTime": {
     "end_time": "2021-06-26T16:52:35.324368Z",
     "start_time": "2021-06-26T16:52:35.241089Z"
    },
    "execution": {
     "iopub.execute_input": "2021-08-19T00:07:49.161037Z",
     "iopub.status.busy": "2021-08-19T00:07:49.160674Z",
     "iopub.status.idle": "2021-08-19T00:07:49.341909Z",
     "shell.execute_reply": "2021-08-19T00:07:49.341100Z",
     "shell.execute_reply.started": "2021-08-19T00:07:49.161003Z"
    }
   },
   "outputs": [],
   "source": [
    "intakes[\"Age upon Intake\"] = intakes[\"Age upon Intake\"].apply(lambda x: float(x.split(\" \")[0]) / 12.0 if \"month\" in x else float(x.split(\" \")[0]))"
   ]
  },
  {
   "cell_type": "code",
   "execution_count": 11,
   "metadata": {
    "ExecuteTime": {
     "end_time": "2021-06-26T16:52:35.359343Z",
     "start_time": "2021-06-26T16:52:35.340802Z"
    },
    "execution": {
     "iopub.execute_input": "2021-08-19T00:07:49.343436Z",
     "iopub.status.busy": "2021-08-19T00:07:49.343170Z",
     "iopub.status.idle": "2021-08-19T00:07:49.371318Z",
     "shell.execute_reply": "2021-08-19T00:07:49.370606Z",
     "shell.execute_reply.started": "2021-08-19T00:07:49.343402Z"
    }
   },
   "outputs": [
    {
     "data": {
      "text/html": [
       "<div>\n",
       "<style scoped>\n",
       "    .dataframe tbody tr th:only-of-type {\n",
       "        vertical-align: middle;\n",
       "    }\n",
       "\n",
       "    .dataframe tbody tr th {\n",
       "        vertical-align: top;\n",
       "    }\n",
       "\n",
       "    .dataframe thead th {\n",
       "        text-align: right;\n",
       "    }\n",
       "</style>\n",
       "<table border=\"1\" class=\"dataframe\">\n",
       "  <thead>\n",
       "    <tr style=\"text-align: right;\">\n",
       "      <th></th>\n",
       "      <th>Animal ID</th>\n",
       "      <th>Name</th>\n",
       "      <th>DateTime</th>\n",
       "      <th>MonthYear</th>\n",
       "      <th>Date of Birth</th>\n",
       "      <th>Outcome Type</th>\n",
       "      <th>Outcome Subtype</th>\n",
       "      <th>Animal Type</th>\n",
       "      <th>Sex upon Outcome</th>\n",
       "      <th>Age upon Outcome</th>\n",
       "      <th>Breed</th>\n",
       "      <th>Color</th>\n",
       "    </tr>\n",
       "  </thead>\n",
       "  <tbody>\n",
       "    <tr>\n",
       "      <th>0</th>\n",
       "      <td>A794011</td>\n",
       "      <td>Chunk</td>\n",
       "      <td>05/08/2019 06:20:00 PM</td>\n",
       "      <td>05/08/2019 06:20:00 PM</td>\n",
       "      <td>05/02/2017</td>\n",
       "      <td>Rto-Adopt</td>\n",
       "      <td>NaN</td>\n",
       "      <td>Cat</td>\n",
       "      <td>Neutered Male</td>\n",
       "      <td>2 years</td>\n",
       "      <td>Domestic Shorthair Mix</td>\n",
       "      <td>Brown Tabby/White</td>\n",
       "    </tr>\n",
       "    <tr>\n",
       "      <th>1</th>\n",
       "      <td>A776359</td>\n",
       "      <td>Gizmo</td>\n",
       "      <td>07/18/2018 04:02:00 PM</td>\n",
       "      <td>07/18/2018 04:02:00 PM</td>\n",
       "      <td>07/12/2017</td>\n",
       "      <td>Adoption</td>\n",
       "      <td>NaN</td>\n",
       "      <td>Dog</td>\n",
       "      <td>Neutered Male</td>\n",
       "      <td>1 year</td>\n",
       "      <td>Chihuahua Shorthair Mix</td>\n",
       "      <td>White/Brown</td>\n",
       "    </tr>\n",
       "    <tr>\n",
       "      <th>2</th>\n",
       "      <td>A821648</td>\n",
       "      <td>NaN</td>\n",
       "      <td>08/16/2020 11:38:00 AM</td>\n",
       "      <td>08/16/2020 11:38:00 AM</td>\n",
       "      <td>08/16/2019</td>\n",
       "      <td>Euthanasia</td>\n",
       "      <td>NaN</td>\n",
       "      <td>Other</td>\n",
       "      <td>Unknown</td>\n",
       "      <td>1 year</td>\n",
       "      <td>Raccoon</td>\n",
       "      <td>Gray</td>\n",
       "    </tr>\n",
       "    <tr>\n",
       "      <th>3</th>\n",
       "      <td>A720371</td>\n",
       "      <td>Moose</td>\n",
       "      <td>02/13/2016 05:59:00 PM</td>\n",
       "      <td>02/13/2016 05:59:00 PM</td>\n",
       "      <td>10/08/2015</td>\n",
       "      <td>Adoption</td>\n",
       "      <td>NaN</td>\n",
       "      <td>Dog</td>\n",
       "      <td>Neutered Male</td>\n",
       "      <td>4 months</td>\n",
       "      <td>Anatol Shepherd/Labrador Retriever</td>\n",
       "      <td>Buff</td>\n",
       "    </tr>\n",
       "    <tr>\n",
       "      <th>4</th>\n",
       "      <td>A674754</td>\n",
       "      <td>NaN</td>\n",
       "      <td>03/18/2014 11:47:00 AM</td>\n",
       "      <td>03/18/2014 11:47:00 AM</td>\n",
       "      <td>03/12/2014</td>\n",
       "      <td>Transfer</td>\n",
       "      <td>Partner</td>\n",
       "      <td>Cat</td>\n",
       "      <td>Intact Male</td>\n",
       "      <td>6 days</td>\n",
       "      <td>Domestic Shorthair Mix</td>\n",
       "      <td>Orange Tabby</td>\n",
       "    </tr>\n",
       "    <tr>\n",
       "      <th>...</th>\n",
       "      <td>...</td>\n",
       "      <td>...</td>\n",
       "      <td>...</td>\n",
       "      <td>...</td>\n",
       "      <td>...</td>\n",
       "      <td>...</td>\n",
       "      <td>...</td>\n",
       "      <td>...</td>\n",
       "      <td>...</td>\n",
       "      <td>...</td>\n",
       "      <td>...</td>\n",
       "      <td>...</td>\n",
       "    </tr>\n",
       "    <tr>\n",
       "      <th>124486</th>\n",
       "      <td>A828810</td>\n",
       "      <td>*Rory</td>\n",
       "      <td>03/03/2021 04:20:00 PM</td>\n",
       "      <td>03/03/2021 04:20:00 PM</td>\n",
       "      <td>03/26/2020</td>\n",
       "      <td>Adoption</td>\n",
       "      <td>NaN</td>\n",
       "      <td>Dog</td>\n",
       "      <td>Spayed Female</td>\n",
       "      <td>11 months</td>\n",
       "      <td>Chihuahua Shorthair/American Staffordshire Ter...</td>\n",
       "      <td>Brown/Tan</td>\n",
       "    </tr>\n",
       "    <tr>\n",
       "      <th>124487</th>\n",
       "      <td>A791377</td>\n",
       "      <td>Bolt</td>\n",
       "      <td>12/28/2020 03:49:00 PM</td>\n",
       "      <td>12/28/2020 03:49:00 PM</td>\n",
       "      <td>01/14/2019</td>\n",
       "      <td>Return to Owner</td>\n",
       "      <td>NaN</td>\n",
       "      <td>Dog</td>\n",
       "      <td>Neutered Male</td>\n",
       "      <td>1 year</td>\n",
       "      <td>Siberian Husky Mix</td>\n",
       "      <td>White</td>\n",
       "    </tr>\n",
       "    <tr>\n",
       "      <th>124488</th>\n",
       "      <td>A829611</td>\n",
       "      <td>Chief</td>\n",
       "      <td>03/03/2021 04:59:00 PM</td>\n",
       "      <td>03/03/2021 04:59:00 PM</td>\n",
       "      <td>02/17/2012</td>\n",
       "      <td>Rto-Adopt</td>\n",
       "      <td>NaN</td>\n",
       "      <td>Cat</td>\n",
       "      <td>Neutered Male</td>\n",
       "      <td>9 years</td>\n",
       "      <td>Domestic Shorthair</td>\n",
       "      <td>Orange Tabby</td>\n",
       "    </tr>\n",
       "    <tr>\n",
       "      <th>124489</th>\n",
       "      <td>A829964</td>\n",
       "      <td>NaN</td>\n",
       "      <td>03/03/2021 05:57:00 PM</td>\n",
       "      <td>03/03/2021 05:57:00 PM</td>\n",
       "      <td>11/27/2020</td>\n",
       "      <td>Adoption</td>\n",
       "      <td>NaN</td>\n",
       "      <td>Dog</td>\n",
       "      <td>Neutered Male</td>\n",
       "      <td>3 months</td>\n",
       "      <td>Labrador Retriever</td>\n",
       "      <td>Cream</td>\n",
       "    </tr>\n",
       "    <tr>\n",
       "      <th>124490</th>\n",
       "      <td>A828158</td>\n",
       "      <td>Odin</td>\n",
       "      <td>03/03/2021 05:19:00 PM</td>\n",
       "      <td>03/03/2021 05:19:00 PM</td>\n",
       "      <td>03/09/2020</td>\n",
       "      <td>Adoption</td>\n",
       "      <td>NaN</td>\n",
       "      <td>Dog</td>\n",
       "      <td>Neutered Male</td>\n",
       "      <td>11 months</td>\n",
       "      <td>Rottweiler Mix</td>\n",
       "      <td>Black/Tan</td>\n",
       "    </tr>\n",
       "  </tbody>\n",
       "</table>\n",
       "<p>124491 rows × 12 columns</p>\n",
       "</div>"
      ],
      "text/plain": [
       "       Animal ID   Name                DateTime               MonthYear  \\\n",
       "0        A794011  Chunk  05/08/2019 06:20:00 PM  05/08/2019 06:20:00 PM   \n",
       "1        A776359  Gizmo  07/18/2018 04:02:00 PM  07/18/2018 04:02:00 PM   \n",
       "2        A821648    NaN  08/16/2020 11:38:00 AM  08/16/2020 11:38:00 AM   \n",
       "3        A720371  Moose  02/13/2016 05:59:00 PM  02/13/2016 05:59:00 PM   \n",
       "4        A674754    NaN  03/18/2014 11:47:00 AM  03/18/2014 11:47:00 AM   \n",
       "...          ...    ...                     ...                     ...   \n",
       "124486   A828810  *Rory  03/03/2021 04:20:00 PM  03/03/2021 04:20:00 PM   \n",
       "124487   A791377   Bolt  12/28/2020 03:49:00 PM  12/28/2020 03:49:00 PM   \n",
       "124488   A829611  Chief  03/03/2021 04:59:00 PM  03/03/2021 04:59:00 PM   \n",
       "124489   A829964    NaN  03/03/2021 05:57:00 PM  03/03/2021 05:57:00 PM   \n",
       "124490   A828158   Odin  03/03/2021 05:19:00 PM  03/03/2021 05:19:00 PM   \n",
       "\n",
       "       Date of Birth     Outcome Type Outcome Subtype Animal Type  \\\n",
       "0         05/02/2017        Rto-Adopt             NaN         Cat   \n",
       "1         07/12/2017         Adoption             NaN         Dog   \n",
       "2         08/16/2019       Euthanasia             NaN       Other   \n",
       "3         10/08/2015         Adoption             NaN         Dog   \n",
       "4         03/12/2014         Transfer         Partner         Cat   \n",
       "...              ...              ...             ...         ...   \n",
       "124486    03/26/2020         Adoption             NaN         Dog   \n",
       "124487    01/14/2019  Return to Owner             NaN         Dog   \n",
       "124488    02/17/2012        Rto-Adopt             NaN         Cat   \n",
       "124489    11/27/2020         Adoption             NaN         Dog   \n",
       "124490    03/09/2020         Adoption             NaN         Dog   \n",
       "\n",
       "       Sex upon Outcome Age upon Outcome  \\\n",
       "0         Neutered Male          2 years   \n",
       "1         Neutered Male           1 year   \n",
       "2               Unknown           1 year   \n",
       "3         Neutered Male         4 months   \n",
       "4           Intact Male           6 days   \n",
       "...                 ...              ...   \n",
       "124486    Spayed Female        11 months   \n",
       "124487    Neutered Male           1 year   \n",
       "124488    Neutered Male          9 years   \n",
       "124489    Neutered Male         3 months   \n",
       "124490    Neutered Male        11 months   \n",
       "\n",
       "                                                    Breed              Color  \n",
       "0                                  Domestic Shorthair Mix  Brown Tabby/White  \n",
       "1                                 Chihuahua Shorthair Mix        White/Brown  \n",
       "2                                                 Raccoon               Gray  \n",
       "3                      Anatol Shepherd/Labrador Retriever               Buff  \n",
       "4                                  Domestic Shorthair Mix       Orange Tabby  \n",
       "...                                                   ...                ...  \n",
       "124486  Chihuahua Shorthair/American Staffordshire Ter...          Brown/Tan  \n",
       "124487                                 Siberian Husky Mix              White  \n",
       "124488                                 Domestic Shorthair       Orange Tabby  \n",
       "124489                                 Labrador Retriever              Cream  \n",
       "124490                                     Rottweiler Mix          Black/Tan  \n",
       "\n",
       "[124491 rows x 12 columns]"
      ]
     },
     "execution_count": 11,
     "metadata": {},
     "output_type": "execute_result"
    }
   ],
   "source": [
    "outcomes"
   ]
  },
  {
   "cell_type": "code",
   "execution_count": 12,
   "metadata": {
    "ExecuteTime": {
     "end_time": "2021-06-26T16:52:35.443911Z",
     "start_time": "2021-06-26T16:52:35.440644Z"
    },
    "execution": {
     "iopub.execute_input": "2021-08-19T00:07:49.372770Z",
     "iopub.status.busy": "2021-08-19T00:07:49.372517Z",
     "iopub.status.idle": "2021-08-19T00:07:49.377315Z",
     "shell.execute_reply": "2021-08-19T00:07:49.376614Z",
     "shell.execute_reply.started": "2021-08-19T00:07:49.372737Z"
    }
   },
   "outputs": [],
   "source": [
    "outcomes.rename(columns={\"DateTime\": \"Outcome DateTime\", \"Outcome Type\": \"Outcome\"},\n",
    "                inplace=True)"
   ]
  },
  {
   "cell_type": "markdown",
   "metadata": {},
   "source": [
    "## Create a target"
   ]
  },
  {
   "cell_type": "markdown",
   "metadata": {},
   "source": [
    "Let's create if the animal was adopted in the following 6 months."
   ]
  },
  {
   "cell_type": "code",
   "execution_count": 13,
   "metadata": {
    "ExecuteTime": {
     "end_time": "2021-06-26T16:52:35.927768Z",
     "start_time": "2021-06-26T16:52:35.742540Z"
    },
    "execution": {
     "iopub.execute_input": "2021-08-19T00:07:49.378655Z",
     "iopub.status.busy": "2021-08-19T00:07:49.378408Z",
     "iopub.status.idle": "2021-08-19T00:07:49.638845Z",
     "shell.execute_reply": "2021-08-19T00:07:49.637908Z",
     "shell.execute_reply.started": "2021-08-19T00:07:49.378623Z"
    }
   },
   "outputs": [],
   "source": [
    "data = intakes.merge(outcomes[[\"Animal ID\", \"Outcome DateTime\", \"Outcome\"]], on=\"Animal ID\")"
   ]
  },
  {
   "cell_type": "code",
   "execution_count": 14,
   "metadata": {
    "ExecuteTime": {
     "end_time": "2021-06-26T16:52:35.947808Z",
     "start_time": "2021-06-26T16:52:35.929804Z"
    },
    "execution": {
     "iopub.execute_input": "2021-08-19T00:07:49.640460Z",
     "iopub.status.busy": "2021-08-19T00:07:49.640195Z",
     "iopub.status.idle": "2021-08-19T00:07:49.664429Z",
     "shell.execute_reply": "2021-08-19T00:07:49.663644Z",
     "shell.execute_reply.started": "2021-08-19T00:07:49.640425Z"
    }
   },
   "outputs": [
    {
     "data": {
      "text/html": [
       "<div>\n",
       "<style scoped>\n",
       "    .dataframe tbody tr th:only-of-type {\n",
       "        vertical-align: middle;\n",
       "    }\n",
       "\n",
       "    .dataframe tbody tr th {\n",
       "        vertical-align: top;\n",
       "    }\n",
       "\n",
       "    .dataframe thead th {\n",
       "        text-align: right;\n",
       "    }\n",
       "</style>\n",
       "<table border=\"1\" class=\"dataframe\">\n",
       "  <thead>\n",
       "    <tr style=\"text-align: right;\">\n",
       "      <th></th>\n",
       "      <th>Animal ID</th>\n",
       "      <th>Name</th>\n",
       "      <th>DateTime</th>\n",
       "      <th>MonthYear</th>\n",
       "      <th>Found Location</th>\n",
       "      <th>Intake Type</th>\n",
       "      <th>Intake Condition</th>\n",
       "      <th>Animal Type</th>\n",
       "      <th>Sex upon Intake</th>\n",
       "      <th>Age upon Intake</th>\n",
       "      <th>Breed</th>\n",
       "      <th>Color</th>\n",
       "      <th>Outcome DateTime</th>\n",
       "      <th>Outcome</th>\n",
       "    </tr>\n",
       "  </thead>\n",
       "  <tbody>\n",
       "    <tr>\n",
       "      <th>0</th>\n",
       "      <td>A786884</td>\n",
       "      <td>*Brock</td>\n",
       "      <td>01/03/2019 04:19:00 PM</td>\n",
       "      <td>01/03/2019 04:19:00 PM</td>\n",
       "      <td>2501 Magin Meadow Dr in Austin (TX)</td>\n",
       "      <td>Stray</td>\n",
       "      <td>Normal</td>\n",
       "      <td>Dog</td>\n",
       "      <td>Neutered Male</td>\n",
       "      <td>2.000000</td>\n",
       "      <td>Beagle Mix</td>\n",
       "      <td>Tricolor</td>\n",
       "      <td>01/08/2019 03:11:00 PM</td>\n",
       "      <td>Transfer</td>\n",
       "    </tr>\n",
       "    <tr>\n",
       "      <th>1</th>\n",
       "      <td>A706918</td>\n",
       "      <td>Belle</td>\n",
       "      <td>07/05/2015 12:59:00 PM</td>\n",
       "      <td>07/05/2015 12:59:00 PM</td>\n",
       "      <td>9409 Bluegrass Dr in Austin (TX)</td>\n",
       "      <td>Stray</td>\n",
       "      <td>Normal</td>\n",
       "      <td>Dog</td>\n",
       "      <td>Spayed Female</td>\n",
       "      <td>8.000000</td>\n",
       "      <td>English Springer Spaniel</td>\n",
       "      <td>White/Liver</td>\n",
       "      <td>07/05/2015 03:13:00 PM</td>\n",
       "      <td>Return to Owner</td>\n",
       "    </tr>\n",
       "    <tr>\n",
       "      <th>2</th>\n",
       "      <td>A724273</td>\n",
       "      <td>Runster</td>\n",
       "      <td>04/14/2016 06:43:00 PM</td>\n",
       "      <td>04/14/2016 06:43:00 PM</td>\n",
       "      <td>2818 Palomino Trail in Austin (TX)</td>\n",
       "      <td>Stray</td>\n",
       "      <td>Normal</td>\n",
       "      <td>Dog</td>\n",
       "      <td>Intact Male</td>\n",
       "      <td>0.916667</td>\n",
       "      <td>Basenji Mix</td>\n",
       "      <td>Sable/White</td>\n",
       "      <td>04/21/2016 05:17:00 PM</td>\n",
       "      <td>Return to Owner</td>\n",
       "    </tr>\n",
       "    <tr>\n",
       "      <th>3</th>\n",
       "      <td>A665644</td>\n",
       "      <td>NaN</td>\n",
       "      <td>10/21/2013 07:59:00 AM</td>\n",
       "      <td>10/21/2013 07:59:00 AM</td>\n",
       "      <td>Austin (TX)</td>\n",
       "      <td>Stray</td>\n",
       "      <td>Sick</td>\n",
       "      <td>Cat</td>\n",
       "      <td>Intact Female</td>\n",
       "      <td>4.000000</td>\n",
       "      <td>Domestic Shorthair Mix</td>\n",
       "      <td>Calico</td>\n",
       "      <td>10/21/2013 11:39:00 AM</td>\n",
       "      <td>Transfer</td>\n",
       "    </tr>\n",
       "    <tr>\n",
       "      <th>4</th>\n",
       "      <td>A682524</td>\n",
       "      <td>Rio</td>\n",
       "      <td>06/29/2014 10:38:00 AM</td>\n",
       "      <td>06/29/2014 10:38:00 AM</td>\n",
       "      <td>800 Grove Blvd in Austin (TX)</td>\n",
       "      <td>Stray</td>\n",
       "      <td>Normal</td>\n",
       "      <td>Dog</td>\n",
       "      <td>Neutered Male</td>\n",
       "      <td>4.000000</td>\n",
       "      <td>Doberman Pinsch/Australian Cattle Dog</td>\n",
       "      <td>Tan/Gray</td>\n",
       "      <td>07/02/2014 02:16:00 PM</td>\n",
       "      <td>Return to Owner</td>\n",
       "    </tr>\n",
       "  </tbody>\n",
       "</table>\n",
       "</div>"
      ],
      "text/plain": [
       "  Animal ID     Name                DateTime               MonthYear  \\\n",
       "0   A786884   *Brock  01/03/2019 04:19:00 PM  01/03/2019 04:19:00 PM   \n",
       "1   A706918    Belle  07/05/2015 12:59:00 PM  07/05/2015 12:59:00 PM   \n",
       "2   A724273  Runster  04/14/2016 06:43:00 PM  04/14/2016 06:43:00 PM   \n",
       "3   A665644      NaN  10/21/2013 07:59:00 AM  10/21/2013 07:59:00 AM   \n",
       "4   A682524      Rio  06/29/2014 10:38:00 AM  06/29/2014 10:38:00 AM   \n",
       "\n",
       "                        Found Location Intake Type Intake Condition  \\\n",
       "0  2501 Magin Meadow Dr in Austin (TX)       Stray           Normal   \n",
       "1     9409 Bluegrass Dr in Austin (TX)       Stray           Normal   \n",
       "2   2818 Palomino Trail in Austin (TX)       Stray           Normal   \n",
       "3                          Austin (TX)       Stray             Sick   \n",
       "4        800 Grove Blvd in Austin (TX)       Stray           Normal   \n",
       "\n",
       "  Animal Type Sex upon Intake  Age upon Intake  \\\n",
       "0         Dog   Neutered Male         2.000000   \n",
       "1         Dog   Spayed Female         8.000000   \n",
       "2         Dog     Intact Male         0.916667   \n",
       "3         Cat   Intact Female         4.000000   \n",
       "4         Dog   Neutered Male         4.000000   \n",
       "\n",
       "                                   Breed        Color        Outcome DateTime  \\\n",
       "0                             Beagle Mix     Tricolor  01/08/2019 03:11:00 PM   \n",
       "1               English Springer Spaniel  White/Liver  07/05/2015 03:13:00 PM   \n",
       "2                            Basenji Mix  Sable/White  04/21/2016 05:17:00 PM   \n",
       "3                 Domestic Shorthair Mix       Calico  10/21/2013 11:39:00 AM   \n",
       "4  Doberman Pinsch/Australian Cattle Dog     Tan/Gray  07/02/2014 02:16:00 PM   \n",
       "\n",
       "           Outcome  \n",
       "0         Transfer  \n",
       "1  Return to Owner  \n",
       "2  Return to Owner  \n",
       "3         Transfer  \n",
       "4  Return to Owner  "
      ]
     },
     "execution_count": 14,
     "metadata": {},
     "output_type": "execute_result"
    }
   ],
   "source": [
    "data.head()"
   ]
  },
  {
   "cell_type": "code",
   "execution_count": 15,
   "metadata": {
    "ExecuteTime": {
     "end_time": "2021-06-26T16:52:53.374776Z",
     "start_time": "2021-06-26T16:52:35.950369Z"
    },
    "execution": {
     "iopub.execute_input": "2021-08-19T00:07:49.665875Z",
     "iopub.status.busy": "2021-08-19T00:07:49.665619Z",
     "iopub.status.idle": "2021-08-19T00:08:20.972467Z",
     "shell.execute_reply": "2021-08-19T00:08:20.971630Z",
     "shell.execute_reply.started": "2021-08-19T00:07:49.665841Z"
    }
   },
   "outputs": [
    {
     "data": {
      "text/plain": [
       "0          4\n",
       "1          0\n",
       "2          6\n",
       "3          0\n",
       "4          3\n",
       "          ..\n",
       "160423     0\n",
       "160424     0\n",
       "160425     1\n",
       "160426     6\n",
       "160427    53\n",
       "Name: time_until_adoption, Length: 160428, dtype: int64"
      ]
     },
     "execution_count": 15,
     "metadata": {},
     "output_type": "execute_result"
    }
   ],
   "source": [
    "data[\"time_until_adoption\"] = (pd.to_datetime(data[\"Outcome DateTime\"]) - pd.to_datetime(data[\"DateTime\"])).dt.days\n",
    "data[\"time_until_adoption\"]"
   ]
  },
  {
   "cell_type": "code",
   "execution_count": 16,
   "metadata": {
    "ExecuteTime": {
     "end_time": "2021-06-26T16:52:53.387223Z",
     "start_time": "2021-06-26T16:52:53.376640Z"
    },
    "execution": {
     "iopub.execute_input": "2021-08-19T00:08:20.974020Z",
     "iopub.status.busy": "2021-08-19T00:08:20.973743Z",
     "iopub.status.idle": "2021-08-19T00:08:20.988042Z",
     "shell.execute_reply": "2021-08-19T00:08:20.987289Z",
     "shell.execute_reply.started": "2021-08-19T00:08:20.973985Z"
    }
   },
   "outputs": [
    {
     "data": {
      "text/plain": [
       "count    160428.000000\n",
       "mean         17.239223\n",
       "std         248.480625\n",
       "min       -2583.000000\n",
       "25%           0.000000\n",
       "50%           5.000000\n",
       "75%          24.000000\n",
       "max        2553.000000\n",
       "Name: time_until_adoption, dtype: float64"
      ]
     },
     "execution_count": 16,
     "metadata": {},
     "output_type": "execute_result"
    }
   ],
   "source": [
    "data[\"time_until_adoption\"].describe()"
   ]
  },
  {
   "cell_type": "code",
   "execution_count": 17,
   "metadata": {
    "ExecuteTime": {
     "end_time": "2021-06-26T16:52:53.402762Z",
     "start_time": "2021-06-26T16:52:53.389701Z"
    },
    "execution": {
     "iopub.execute_input": "2021-08-19T00:08:20.989491Z",
     "iopub.status.busy": "2021-08-19T00:08:20.989235Z",
     "iopub.status.idle": "2021-08-19T00:08:21.006432Z",
     "shell.execute_reply": "2021-08-19T00:08:21.005736Z",
     "shell.execute_reply.started": "2021-08-19T00:08:20.989457Z"
    }
   },
   "outputs": [
    {
     "data": {
      "text/plain": [
       "array(['Transfer', 'Return to Owner', 'Adoption', 'Euthanasia',\n",
       "       'Disposal', 'Died', 'Rto-Adopt', 'Missing', nan, 'Relocate'],\n",
       "      dtype=object)"
      ]
     },
     "execution_count": 17,
     "metadata": {},
     "output_type": "execute_result"
    }
   ],
   "source": [
    "data[\"Outcome\"].unique()"
   ]
  },
  {
   "cell_type": "code",
   "execution_count": 18,
   "metadata": {
    "ExecuteTime": {
     "end_time": "2021-06-26T16:52:53.430242Z",
     "start_time": "2021-06-26T16:52:53.405922Z"
    },
    "execution": {
     "iopub.execute_input": "2021-08-19T00:08:21.007846Z",
     "iopub.status.busy": "2021-08-19T00:08:21.007594Z",
     "iopub.status.idle": "2021-08-19T00:08:21.037163Z",
     "shell.execute_reply": "2021-08-19T00:08:21.036384Z",
     "shell.execute_reply.started": "2021-08-19T00:08:21.007813Z"
    }
   },
   "outputs": [],
   "source": [
    "data[\"target\"] = (data[\"time_until_adoption\"] < 30) & (data[\"Outcome\"] == \"Adoption\")"
   ]
  },
  {
   "cell_type": "code",
   "execution_count": 19,
   "metadata": {
    "ExecuteTime": {
     "end_time": "2021-06-26T16:52:53.435339Z",
     "start_time": "2021-06-26T16:52:53.431850Z"
    },
    "execution": {
     "iopub.execute_input": "2021-08-19T00:08:21.038589Z",
     "iopub.status.busy": "2021-08-19T00:08:21.038334Z",
     "iopub.status.idle": "2021-08-19T00:08:21.043374Z",
     "shell.execute_reply": "2021-08-19T00:08:21.042644Z",
     "shell.execute_reply.started": "2021-08-19T00:08:21.038555Z"
    }
   },
   "outputs": [],
   "source": [
    "data[\"target\"] = data[\"target\"].astype(int)"
   ]
  },
  {
   "cell_type": "code",
   "execution_count": 20,
   "metadata": {
    "ExecuteTime": {
     "end_time": "2021-06-26T16:52:53.440822Z",
     "start_time": "2021-06-26T16:52:53.436780Z"
    },
    "execution": {
     "iopub.execute_input": "2021-08-19T00:08:21.044801Z",
     "iopub.status.busy": "2021-08-19T00:08:21.044556Z",
     "iopub.status.idle": "2021-08-19T00:08:21.050149Z",
     "shell.execute_reply": "2021-08-19T00:08:21.049451Z",
     "shell.execute_reply.started": "2021-08-19T00:08:21.044768Z"
    }
   },
   "outputs": [
    {
     "data": {
      "text/plain": [
       "0.2998167402199117"
      ]
     },
     "execution_count": 20,
     "metadata": {},
     "output_type": "execute_result"
    }
   ],
   "source": [
    "data[\"target\"].mean()"
   ]
  },
  {
   "cell_type": "markdown",
   "metadata": {},
   "source": [
    "## Modeling"
   ]
  },
  {
   "cell_type": "markdown",
   "metadata": {},
   "source": [
    "### Data"
   ]
  },
  {
   "cell_type": "code",
   "execution_count": 21,
   "metadata": {
    "ExecuteTime": {
     "end_time": "2021-06-26T16:52:53.445115Z",
     "start_time": "2021-06-26T16:52:53.442627Z"
    },
    "execution": {
     "iopub.execute_input": "2021-08-19T00:08:21.051619Z",
     "iopub.status.busy": "2021-08-19T00:08:21.051240Z",
     "iopub.status.idle": "2021-08-19T00:08:21.054846Z",
     "shell.execute_reply": "2021-08-19T00:08:21.054160Z",
     "shell.execute_reply.started": "2021-08-19T00:08:21.051586Z"
    }
   },
   "outputs": [],
   "source": [
    "TIME_COLUMN = \"Year\"\n",
    "TARGET = \"target\""
   ]
  },
  {
   "cell_type": "code",
   "execution_count": 22,
   "metadata": {
    "ExecuteTime": {
     "end_time": "2021-06-26T16:52:53.450958Z",
     "start_time": "2021-06-26T16:52:53.448743Z"
    },
    "execution": {
     "iopub.execute_input": "2021-08-19T00:08:21.056191Z",
     "iopub.status.busy": "2021-08-19T00:08:21.055946Z",
     "iopub.status.idle": "2021-08-19T00:08:21.060873Z",
     "shell.execute_reply": "2021-08-19T00:08:21.060189Z",
     "shell.execute_reply.started": "2021-08-19T00:08:21.056160Z"
    }
   },
   "outputs": [],
   "source": [
    "columns_to_label_encode = [\"Intake Type\", \n",
    "                           \"Intake Condition\",\n",
    "                           \"Animal Type\",\n",
    "                           \"Sex upon Intake\",\n",
    "                           \"Breed\",\n",
    "                           \"Color\"]"
   ]
  },
  {
   "cell_type": "code",
   "execution_count": 23,
   "metadata": {
    "ExecuteTime": {
     "end_time": "2021-06-26T16:52:53.859050Z",
     "start_time": "2021-06-26T16:52:53.453922Z"
    },
    "execution": {
     "iopub.execute_input": "2021-08-19T00:08:21.062172Z",
     "iopub.status.busy": "2021-08-19T00:08:21.061930Z",
     "iopub.status.idle": "2021-08-19T00:08:21.633950Z",
     "shell.execute_reply": "2021-08-19T00:08:21.633128Z",
     "shell.execute_reply.started": "2021-08-19T00:08:21.062141Z"
    }
   },
   "outputs": [
    {
     "name": "stdout",
     "output_type": "stream",
     "text": [
      "Intake Type\n",
      "Intake Condition\n"
     ]
    },
    {
     "name": "stderr",
     "output_type": "stream",
     "text": [
      "A column-vector y was passed when a 1d array was expected. Please change the shape of y to (n_samples, ), for example using ravel().\n"
     ]
    },
    {
     "name": "stdout",
     "output_type": "stream",
     "text": [
      "Animal Type\n",
      "Sex upon Intake\n",
      "Breed\n",
      "Color\n"
     ]
    }
   ],
   "source": [
    "encoder_mappings = {}\n",
    "le = LabelEncoder()\n",
    "for column in columns_to_label_encode:\n",
    "    print(column)\n",
    "    data[column].fillna(\"None\", inplace=True)\n",
    "    data[column] = le.fit_transform(data[[column]])\n",
    "    encoder_mappings[column] = {i: le.__dict__[\"classes_\"][i] for i in range(len(le.__dict__[\"classes_\"]))}"
   ]
  },
  {
   "cell_type": "code",
   "execution_count": 24,
   "metadata": {
    "ExecuteTime": {
     "end_time": "2021-06-26T16:52:53.863731Z",
     "start_time": "2021-06-26T16:52:53.860886Z"
    },
    "execution": {
     "iopub.execute_input": "2021-08-19T00:08:21.635500Z",
     "iopub.status.busy": "2021-08-19T00:08:21.635200Z",
     "iopub.status.idle": "2021-08-19T00:08:21.639157Z",
     "shell.execute_reply": "2021-08-19T00:08:21.638380Z",
     "shell.execute_reply.started": "2021-08-19T00:08:21.635426Z"
    }
   },
   "outputs": [],
   "source": [
    "features = [\"Age upon Intake\"] + columns_to_label_encode"
   ]
  },
  {
   "cell_type": "code",
   "execution_count": 25,
   "metadata": {
    "ExecuteTime": {
     "end_time": "2021-06-26T16:52:53.885266Z",
     "start_time": "2021-06-26T16:52:53.865693Z"
    },
    "execution": {
     "iopub.execute_input": "2021-08-19T00:08:21.640503Z",
     "iopub.status.busy": "2021-08-19T00:08:21.640239Z",
     "iopub.status.idle": "2021-08-19T00:08:21.668773Z",
     "shell.execute_reply": "2021-08-19T00:08:21.668012Z",
     "shell.execute_reply.started": "2021-08-19T00:08:21.640471Z"
    }
   },
   "outputs": [
    {
     "data": {
      "text/plain": [
       "'01/01/2014 01:05:00 PM'"
      ]
     },
     "execution_count": 25,
     "metadata": {},
     "output_type": "execute_result"
    }
   ],
   "source": [
    "data[\"DateTime\"].min()"
   ]
  },
  {
   "cell_type": "code",
   "execution_count": 26,
   "metadata": {
    "ExecuteTime": {
     "end_time": "2021-06-26T16:52:53.908082Z",
     "start_time": "2021-06-26T16:52:53.887370Z"
    },
    "execution": {
     "iopub.execute_input": "2021-08-19T00:08:21.670212Z",
     "iopub.status.busy": "2021-08-19T00:08:21.669958Z",
     "iopub.status.idle": "2021-08-19T00:08:21.693406Z",
     "shell.execute_reply": "2021-08-19T00:08:21.692685Z",
     "shell.execute_reply.started": "2021-08-19T00:08:21.670179Z"
    }
   },
   "outputs": [
    {
     "data": {
      "text/plain": [
       "'12/31/2020 12:50:00 PM'"
      ]
     },
     "execution_count": 26,
     "metadata": {},
     "output_type": "execute_result"
    }
   ],
   "source": [
    "data[\"DateTime\"].max()"
   ]
  },
  {
   "cell_type": "code",
   "execution_count": 27,
   "metadata": {
    "ExecuteTime": {
     "end_time": "2021-06-26T16:53:02.569762Z",
     "start_time": "2021-06-26T16:52:53.910132Z"
    },
    "execution": {
     "iopub.execute_input": "2021-08-19T00:08:21.699586Z",
     "iopub.status.busy": "2021-08-19T00:08:21.699300Z",
     "iopub.status.idle": "2021-08-19T00:08:38.371010Z",
     "shell.execute_reply": "2021-08-19T00:08:38.370470Z",
     "shell.execute_reply.started": "2021-08-19T00:08:21.699551Z"
    }
   },
   "outputs": [],
   "source": [
    "data[\"Year\"] = pd.to_datetime(data[\"DateTime\"]).apply(lambda x: int(x.year))"
   ]
  },
  {
   "cell_type": "code",
   "execution_count": 28,
   "metadata": {
    "ExecuteTime": {
     "end_time": "2021-06-26T16:53:02.576056Z",
     "start_time": "2021-06-26T16:53:02.571026Z"
    },
    "execution": {
     "iopub.execute_input": "2021-08-19T00:08:38.373000Z",
     "iopub.status.busy": "2021-08-19T00:08:38.372825Z",
     "iopub.status.idle": "2021-08-19T00:08:38.377433Z",
     "shell.execute_reply": "2021-08-19T00:08:38.377020Z",
     "shell.execute_reply.started": "2021-08-19T00:08:38.372978Z"
    }
   },
   "outputs": [
    {
     "data": {
      "text/plain": [
       "0         2019\n",
       "1         2015\n",
       "2         2016\n",
       "3         2013\n",
       "4         2014\n",
       "          ... \n",
       "160423    2021\n",
       "160424    2021\n",
       "160425    2018\n",
       "160426    2021\n",
       "160427    2021\n",
       "Name: Year, Length: 160428, dtype: int64"
      ]
     },
     "execution_count": 28,
     "metadata": {},
     "output_type": "execute_result"
    }
   ],
   "source": [
    "data[\"Year\"]"
   ]
  },
  {
   "cell_type": "code",
   "execution_count": 29,
   "metadata": {
    "ExecuteTime": {
     "end_time": "2021-06-26T16:53:02.581383Z",
     "start_time": "2021-06-26T16:53:02.577819Z"
    },
    "execution": {
     "iopub.execute_input": "2021-08-19T00:08:38.378255Z",
     "iopub.status.busy": "2021-08-19T00:08:38.378105Z",
     "iopub.status.idle": "2021-08-19T00:08:38.384882Z",
     "shell.execute_reply": "2021-08-19T00:08:38.384476Z",
     "shell.execute_reply.started": "2021-08-19T00:08:38.378236Z"
    }
   },
   "outputs": [
    {
     "data": {
      "text/plain": [
       "2013"
      ]
     },
     "execution_count": 29,
     "metadata": {},
     "output_type": "execute_result"
    }
   ],
   "source": [
    "data[\"Year\"].min()"
   ]
  },
  {
   "cell_type": "code",
   "execution_count": 30,
   "metadata": {
    "ExecuteTime": {
     "end_time": "2021-06-26T16:53:02.586682Z",
     "start_time": "2021-06-26T16:53:02.583014Z"
    },
    "execution": {
     "iopub.execute_input": "2021-08-19T00:08:38.385641Z",
     "iopub.status.busy": "2021-08-19T00:08:38.385495Z",
     "iopub.status.idle": "2021-08-19T00:08:38.390630Z",
     "shell.execute_reply": "2021-08-19T00:08:38.390233Z",
     "shell.execute_reply.started": "2021-08-19T00:08:38.385622Z"
    }
   },
   "outputs": [
    {
     "data": {
      "text/plain": [
       "2021"
      ]
     },
     "execution_count": 30,
     "metadata": {},
     "output_type": "execute_result"
    }
   ],
   "source": [
    "data[\"Year\"].max()"
   ]
  },
  {
   "cell_type": "code",
   "execution_count": 31,
   "metadata": {
    "ExecuteTime": {
     "end_time": "2021-06-26T16:53:02.591068Z",
     "start_time": "2021-06-26T16:53:02.588456Z"
    },
    "execution": {
     "iopub.execute_input": "2021-08-19T00:08:38.391382Z",
     "iopub.status.busy": "2021-08-19T00:08:38.391239Z",
     "iopub.status.idle": "2021-08-19T00:08:38.395756Z",
     "shell.execute_reply": "2021-08-19T00:08:38.395314Z",
     "shell.execute_reply.started": "2021-08-19T00:08:38.391364Z"
    }
   },
   "outputs": [],
   "source": [
    "training_start_year = 2014\n",
    "training_end_year = 2017\n",
    "holdout_end_year = 2020"
   ]
  },
  {
   "cell_type": "code",
   "execution_count": 32,
   "metadata": {
    "ExecuteTime": {
     "end_time": "2021-06-26T16:53:02.655738Z",
     "start_time": "2021-06-26T16:53:02.592800Z"
    },
    "execution": {
     "iopub.execute_input": "2021-08-19T00:08:38.396516Z",
     "iopub.status.busy": "2021-08-19T00:08:38.396371Z",
     "iopub.status.idle": "2021-08-19T00:08:38.452160Z",
     "shell.execute_reply": "2021-08-19T00:08:38.451633Z",
     "shell.execute_reply.started": "2021-08-19T00:08:38.396497Z"
    }
   },
   "outputs": [],
   "source": [
    "in_time = data[data[\"Year\"] <= training_end_year]\n",
    "in_time = in_time[in_time[\"Year\"] >= training_start_year]\n",
    "out_of_time = data[data[\"Year\"] > training_end_year]"
   ]
  },
  {
   "cell_type": "code",
   "execution_count": 33,
   "metadata": {
    "ExecuteTime": {
     "end_time": "2021-06-26T16:53:02.688535Z",
     "start_time": "2021-06-26T16:53:02.657523Z"
    },
    "execution": {
     "iopub.execute_input": "2021-08-19T00:08:38.453122Z",
     "iopub.status.busy": "2021-08-19T00:08:38.452959Z",
     "iopub.status.idle": "2021-08-19T00:08:38.486326Z",
     "shell.execute_reply": "2021-08-19T00:08:38.485811Z",
     "shell.execute_reply.started": "2021-08-19T00:08:38.453101Z"
    }
   },
   "outputs": [],
   "source": [
    "train, test = train_test_split(in_time, \n",
    "                               test_size=0.2,\n",
    "                               random_state=42)"
   ]
  },
  {
   "cell_type": "code",
   "execution_count": 34,
   "metadata": {
    "ExecuteTime": {
     "end_time": "2021-06-26T16:53:02.694026Z",
     "start_time": "2021-06-26T16:53:02.690250Z"
    },
    "execution": {
     "iopub.execute_input": "2021-08-19T00:08:38.487293Z",
     "iopub.status.busy": "2021-08-19T00:08:38.487129Z",
     "iopub.status.idle": "2021-08-19T00:08:38.490472Z",
     "shell.execute_reply": "2021-08-19T00:08:38.490060Z",
     "shell.execute_reply.started": "2021-08-19T00:08:38.487272Z"
    }
   },
   "outputs": [
    {
     "data": {
      "text/plain": [
       "(75272, 17)"
      ]
     },
     "execution_count": 34,
     "metadata": {},
     "output_type": "execute_result"
    }
   ],
   "source": [
    "train.shape"
   ]
  },
  {
   "cell_type": "code",
   "execution_count": 35,
   "metadata": {
    "ExecuteTime": {
     "end_time": "2021-06-26T16:53:02.700521Z",
     "start_time": "2021-06-26T16:53:02.696151Z"
    },
    "execution": {
     "iopub.execute_input": "2021-08-19T00:08:38.491291Z",
     "iopub.status.busy": "2021-08-19T00:08:38.491142Z",
     "iopub.status.idle": "2021-08-19T00:08:38.498891Z",
     "shell.execute_reply": "2021-08-19T00:08:38.498483Z",
     "shell.execute_reply.started": "2021-08-19T00:08:38.491272Z"
    }
   },
   "outputs": [
    {
     "data": {
      "text/plain": [
       "(18818, 17)"
      ]
     },
     "execution_count": 35,
     "metadata": {},
     "output_type": "execute_result"
    }
   ],
   "source": [
    "test.shape"
   ]
  },
  {
   "cell_type": "code",
   "execution_count": 36,
   "metadata": {
    "ExecuteTime": {
     "end_time": "2021-06-26T16:53:02.706978Z",
     "start_time": "2021-06-26T16:53:02.702920Z"
    },
    "execution": {
     "iopub.execute_input": "2021-08-19T00:08:38.499728Z",
     "iopub.status.busy": "2021-08-19T00:08:38.499573Z",
     "iopub.status.idle": "2021-08-19T00:08:38.506987Z",
     "shell.execute_reply": "2021-08-19T00:08:38.506585Z",
     "shell.execute_reply.started": "2021-08-19T00:08:38.499708Z"
    }
   },
   "outputs": [
    {
     "data": {
      "text/plain": [
       "(61402, 17)"
      ]
     },
     "execution_count": 36,
     "metadata": {},
     "output_type": "execute_result"
    }
   ],
   "source": [
    "out_of_time.shape"
   ]
  },
  {
   "cell_type": "code",
   "execution_count": 37,
   "metadata": {
    "ExecuteTime": {
     "end_time": "2021-06-26T16:53:02.779975Z",
     "start_time": "2021-06-26T16:53:02.715762Z"
    },
    "execution": {
     "iopub.execute_input": "2021-08-19T00:08:38.507783Z",
     "iopub.status.busy": "2021-08-19T00:08:38.507638Z",
     "iopub.status.idle": "2021-08-19T00:08:38.575295Z",
     "shell.execute_reply": "2021-08-19T00:08:38.574790Z",
     "shell.execute_reply.started": "2021-08-19T00:08:38.507765Z"
    }
   },
   "outputs": [
    {
     "name": "stderr",
     "output_type": "stream",
     "text": [
      "\n",
      "A value is trying to be set on a copy of a slice from a DataFrame\n",
      "\n",
      "See the caveats in the documentation: https://pandas.pydata.org/pandas-docs/stable/user_guide/indexing.html#returning-a-view-versus-a-copy\n"
     ]
    }
   ],
   "source": [
    "median_input = train.median()\n",
    "train.fillna(median_input, inplace=True)\n",
    "test.fillna(median_input, inplace=True)\n",
    "out_of_time.fillna(median_input, inplace=True)"
   ]
  },
  {
   "cell_type": "markdown",
   "metadata": {},
   "source": [
    "## Checking the support in the different environments"
   ]
  },
  {
   "cell_type": "code",
   "execution_count": 38,
   "metadata": {
    "ExecuteTime": {
     "end_time": "2021-06-26T16:53:02.861409Z",
     "start_time": "2021-06-26T16:53:02.783659Z"
    },
    "execution": {
     "iopub.execute_input": "2021-08-19T00:08:38.576250Z",
     "iopub.status.busy": "2021-08-19T00:08:38.576087Z",
     "iopub.status.idle": "2021-08-19T00:08:38.653199Z",
     "shell.execute_reply": "2021-08-19T00:08:38.652733Z",
     "shell.execute_reply.started": "2021-08-19T00:08:38.576229Z"
    }
   },
   "outputs": [
    {
     "name": "stdout",
     "output_type": "stream",
     "text": [
      "Year\n",
      "2014    1.0\n",
      "2015    1.0\n",
      "2016    1.0\n",
      "2017    1.0\n",
      "Name: Intake Type, dtype: float64\n",
      "Year\n",
      "2014    1.0\n",
      "2015    1.0\n",
      "2016    1.0\n",
      "2017    1.0\n",
      "Name: Intake Condition, dtype: float64\n",
      "Year\n",
      "2014    1.0\n",
      "2015    1.0\n",
      "2016    1.0\n",
      "2017    1.0\n",
      "Name: Animal Type, dtype: float64\n",
      "Year\n",
      "2014    1.0\n",
      "2015    1.0\n",
      "2016    1.0\n",
      "2017    1.0\n",
      "Name: Sex upon Intake, dtype: float64\n",
      "Year\n",
      "2014    0.580352\n",
      "2015    0.560598\n",
      "2016    0.429792\n",
      "2017    0.413241\n",
      "Name: Breed, dtype: float64\n",
      "Year\n",
      "2014    0.645435\n",
      "2015    0.613588\n",
      "2016    0.611465\n",
      "2017    0.626327\n",
      "Name: Color, dtype: float64\n"
     ]
    },
    {
     "data": {
      "text/plain": [
       "0.8533665917389023"
      ]
     },
     "execution_count": 38,
     "metadata": {},
     "output_type": "execute_result"
    }
   ],
   "source": [
    "check_categoricals_match(train, columns_to_label_encode, \"Year\")"
   ]
  },
  {
   "cell_type": "code",
   "execution_count": 39,
   "metadata": {
    "ExecuteTime": {
     "end_time": "2021-06-26T16:53:02.881251Z",
     "start_time": "2021-06-26T16:53:02.863347Z"
    },
    "execution": {
     "iopub.execute_input": "2021-08-19T00:08:38.654155Z",
     "iopub.status.busy": "2021-08-19T00:08:38.653988Z",
     "iopub.status.idle": "2021-08-19T00:08:38.669008Z",
     "shell.execute_reply": "2021-08-19T00:08:38.668565Z",
     "shell.execute_reply.started": "2021-08-19T00:08:38.654134Z"
    }
   },
   "outputs": [
    {
     "name": "stdout",
     "output_type": "stream",
     "text": [
      "Year\n",
      "2014    0.8\n",
      "2015    0.9\n",
      "2016    1.0\n",
      "2017    0.9\n",
      "Name: Age upon Intake_quant, dtype: float64\n"
     ]
    },
    {
     "name": "stderr",
     "output_type": "stream",
     "text": [
      "\n",
      "A value is trying to be set on a copy of a slice from a DataFrame.\n",
      "Try using .loc[row_indexer,col_indexer] = value instead\n",
      "\n",
      "See the caveats in the documentation: https://pandas.pydata.org/pandas-docs/stable/user_guide/indexing.html#returning-a-view-versus-a-copy\n"
     ]
    },
    {
     "data": {
      "text/plain": [
       "0.9"
      ]
     },
     "execution_count": 39,
     "metadata": {},
     "output_type": "execute_result"
    }
   ],
   "source": [
    "check_numerical_match(train, [\"Age upon Intake\"], \"Year\", verbose=True, n_q=10)"
   ]
  },
  {
   "cell_type": "markdown",
   "metadata": {},
   "source": [
    "### Benchmark"
   ]
  },
  {
   "cell_type": "code",
   "execution_count": 40,
   "metadata": {
    "ExecuteTime": {
     "end_time": "2021-06-26T16:53:04.332770Z",
     "start_time": "2021-06-26T16:53:02.883712Z"
    },
    "execution": {
     "iopub.execute_input": "2021-08-19T00:08:38.669895Z",
     "iopub.status.busy": "2021-08-19T00:08:38.669734Z",
     "iopub.status.idle": "2021-08-19T00:08:39.201096Z",
     "shell.execute_reply": "2021-08-19T00:08:39.200572Z",
     "shell.execute_reply.started": "2021-08-19T00:08:38.669875Z"
    }
   },
   "outputs": [],
   "source": [
    "from pycaret.classification import *"
   ]
  },
  {
   "cell_type": "code",
   "execution_count": 41,
   "metadata": {
    "ExecuteTime": {
     "end_time": "2021-06-26T16:56:17.349726Z",
     "start_time": "2021-06-26T16:53:04.334088Z"
    },
    "execution": {
     "iopub.execute_input": "2021-08-19T00:08:39.202086Z",
     "iopub.status.busy": "2021-08-19T00:08:39.201914Z",
     "iopub.status.idle": "2021-08-19T00:09:30.674224Z",
     "shell.execute_reply": "2021-08-19T00:09:30.673320Z",
     "shell.execute_reply.started": "2021-08-19T00:08:39.202063Z"
    }
   },
   "outputs": [
    {
     "data": {
      "text/html": [
       "<style  type=\"text/css\" >\n",
       "#T_b98971a4_0081_11ec_b0ed_9631b936701brow5_col0,#T_b98971a4_0081_11ec_b0ed_9631b936701brow5_col1,#T_b98971a4_0081_11ec_b0ed_9631b936701brow5_col2,#T_b98971a4_0081_11ec_b0ed_9631b936701brow5_col3,#T_b98971a4_0081_11ec_b0ed_9631b936701brow5_col4,#T_b98971a4_0081_11ec_b0ed_9631b936701brow5_col5,#T_b98971a4_0081_11ec_b0ed_9631b936701brow5_col6{\n",
       "            background:  yellow;\n",
       "        }</style><table id=\"T_b98971a4_0081_11ec_b0ed_9631b936701b\" ><thead>    <tr>        <th class=\"blank level0\" ></th>        <th class=\"col_heading level0 col0\" >Accuracy</th>        <th class=\"col_heading level0 col1\" >AUC</th>        <th class=\"col_heading level0 col2\" >Recall</th>        <th class=\"col_heading level0 col3\" >Prec.</th>        <th class=\"col_heading level0 col4\" >F1</th>        <th class=\"col_heading level0 col5\" >Kappa</th>        <th class=\"col_heading level0 col6\" >MCC</th>    </tr></thead><tbody>\n",
       "                <tr>\n",
       "                        <th id=\"T_b98971a4_0081_11ec_b0ed_9631b936701blevel0_row0\" class=\"row_heading level0 row0\" >0</th>\n",
       "                        <td id=\"T_b98971a4_0081_11ec_b0ed_9631b936701brow0_col0\" class=\"data row0 col0\" >0.6874</td>\n",
       "                        <td id=\"T_b98971a4_0081_11ec_b0ed_9631b936701brow0_col1\" class=\"data row0 col1\" >0.7817</td>\n",
       "                        <td id=\"T_b98971a4_0081_11ec_b0ed_9631b936701brow0_col2\" class=\"data row0 col2\" >0.7666</td>\n",
       "                        <td id=\"T_b98971a4_0081_11ec_b0ed_9631b936701brow0_col3\" class=\"data row0 col3\" >0.4708</td>\n",
       "                        <td id=\"T_b98971a4_0081_11ec_b0ed_9631b936701brow0_col4\" class=\"data row0 col4\" >0.5834</td>\n",
       "                        <td id=\"T_b98971a4_0081_11ec_b0ed_9631b936701brow0_col5\" class=\"data row0 col5\" >0.3554</td>\n",
       "                        <td id=\"T_b98971a4_0081_11ec_b0ed_9631b936701brow0_col6\" class=\"data row0 col6\" >0.3825</td>\n",
       "            </tr>\n",
       "            <tr>\n",
       "                        <th id=\"T_b98971a4_0081_11ec_b0ed_9631b936701blevel0_row1\" class=\"row_heading level0 row1\" >1</th>\n",
       "                        <td id=\"T_b98971a4_0081_11ec_b0ed_9631b936701brow1_col0\" class=\"data row1 col0\" >0.7006</td>\n",
       "                        <td id=\"T_b98971a4_0081_11ec_b0ed_9631b936701brow1_col1\" class=\"data row1 col1\" >0.7946</td>\n",
       "                        <td id=\"T_b98971a4_0081_11ec_b0ed_9631b936701brow1_col2\" class=\"data row1 col2\" >0.7866</td>\n",
       "                        <td id=\"T_b98971a4_0081_11ec_b0ed_9631b936701brow1_col3\" class=\"data row1 col3\" >0.4849</td>\n",
       "                        <td id=\"T_b98971a4_0081_11ec_b0ed_9631b936701brow1_col4\" class=\"data row1 col4\" >0.6000</td>\n",
       "                        <td id=\"T_b98971a4_0081_11ec_b0ed_9631b936701brow1_col5\" class=\"data row1 col5\" >0.3816</td>\n",
       "                        <td id=\"T_b98971a4_0081_11ec_b0ed_9631b936701brow1_col6\" class=\"data row1 col6\" >0.4102</td>\n",
       "            </tr>\n",
       "            <tr>\n",
       "                        <th id=\"T_b98971a4_0081_11ec_b0ed_9631b936701blevel0_row2\" class=\"row_heading level0 row2\" >2</th>\n",
       "                        <td id=\"T_b98971a4_0081_11ec_b0ed_9631b936701brow2_col0\" class=\"data row2 col0\" >0.6859</td>\n",
       "                        <td id=\"T_b98971a4_0081_11ec_b0ed_9631b936701brow2_col1\" class=\"data row2 col1\" >0.7772</td>\n",
       "                        <td id=\"T_b98971a4_0081_11ec_b0ed_9631b936701brow2_col2\" class=\"data row2 col2\" >0.7746</td>\n",
       "                        <td id=\"T_b98971a4_0081_11ec_b0ed_9631b936701brow2_col3\" class=\"data row2 col3\" >0.4696</td>\n",
       "                        <td id=\"T_b98971a4_0081_11ec_b0ed_9631b936701brow2_col4\" class=\"data row2 col4\" >0.5847</td>\n",
       "                        <td id=\"T_b98971a4_0081_11ec_b0ed_9631b936701brow2_col5\" class=\"data row2 col5\" >0.3557</td>\n",
       "                        <td id=\"T_b98971a4_0081_11ec_b0ed_9631b936701brow2_col6\" class=\"data row2 col6\" >0.3846</td>\n",
       "            </tr>\n",
       "            <tr>\n",
       "                        <th id=\"T_b98971a4_0081_11ec_b0ed_9631b936701blevel0_row3\" class=\"row_heading level0 row3\" >3</th>\n",
       "                        <td id=\"T_b98971a4_0081_11ec_b0ed_9631b936701brow3_col0\" class=\"data row3 col0\" >0.6942</td>\n",
       "                        <td id=\"T_b98971a4_0081_11ec_b0ed_9631b936701brow3_col1\" class=\"data row3 col1\" >0.7871</td>\n",
       "                        <td id=\"T_b98971a4_0081_11ec_b0ed_9631b936701brow3_col2\" class=\"data row3 col2\" >0.7840</td>\n",
       "                        <td id=\"T_b98971a4_0081_11ec_b0ed_9631b936701brow3_col3\" class=\"data row3 col3\" >0.4784</td>\n",
       "                        <td id=\"T_b98971a4_0081_11ec_b0ed_9631b936701brow3_col4\" class=\"data row3 col4\" >0.5942</td>\n",
       "                        <td id=\"T_b98971a4_0081_11ec_b0ed_9631b936701brow3_col5\" class=\"data row3 col5\" >0.3712</td>\n",
       "                        <td id=\"T_b98971a4_0081_11ec_b0ed_9631b936701brow3_col6\" class=\"data row3 col6\" >0.4004</td>\n",
       "            </tr>\n",
       "            <tr>\n",
       "                        <th id=\"T_b98971a4_0081_11ec_b0ed_9631b936701blevel0_row4\" class=\"row_heading level0 row4\" >4</th>\n",
       "                        <td id=\"T_b98971a4_0081_11ec_b0ed_9631b936701brow4_col0\" class=\"data row4 col0\" >0.6962</td>\n",
       "                        <td id=\"T_b98971a4_0081_11ec_b0ed_9631b936701brow4_col1\" class=\"data row4 col1\" >0.7905</td>\n",
       "                        <td id=\"T_b98971a4_0081_11ec_b0ed_9631b936701brow4_col2\" class=\"data row4 col2\" >0.7767</td>\n",
       "                        <td id=\"T_b98971a4_0081_11ec_b0ed_9631b936701brow4_col3\" class=\"data row4 col3\" >0.4803</td>\n",
       "                        <td id=\"T_b98971a4_0081_11ec_b0ed_9631b936701brow4_col4\" class=\"data row4 col4\" >0.5935</td>\n",
       "                        <td id=\"T_b98971a4_0081_11ec_b0ed_9631b936701brow4_col5\" class=\"data row4 col5\" >0.3719</td>\n",
       "                        <td id=\"T_b98971a4_0081_11ec_b0ed_9631b936701brow4_col6\" class=\"data row4 col6\" >0.3993</td>\n",
       "            </tr>\n",
       "            <tr>\n",
       "                        <th id=\"T_b98971a4_0081_11ec_b0ed_9631b936701blevel0_row5\" class=\"row_heading level0 row5\" >Mean</th>\n",
       "                        <td id=\"T_b98971a4_0081_11ec_b0ed_9631b936701brow5_col0\" class=\"data row5 col0\" >0.6929</td>\n",
       "                        <td id=\"T_b98971a4_0081_11ec_b0ed_9631b936701brow5_col1\" class=\"data row5 col1\" >0.7862</td>\n",
       "                        <td id=\"T_b98971a4_0081_11ec_b0ed_9631b936701brow5_col2\" class=\"data row5 col2\" >0.7777</td>\n",
       "                        <td id=\"T_b98971a4_0081_11ec_b0ed_9631b936701brow5_col3\" class=\"data row5 col3\" >0.4768</td>\n",
       "                        <td id=\"T_b98971a4_0081_11ec_b0ed_9631b936701brow5_col4\" class=\"data row5 col4\" >0.5912</td>\n",
       "                        <td id=\"T_b98971a4_0081_11ec_b0ed_9631b936701brow5_col5\" class=\"data row5 col5\" >0.3671</td>\n",
       "                        <td id=\"T_b98971a4_0081_11ec_b0ed_9631b936701brow5_col6\" class=\"data row5 col6\" >0.3954</td>\n",
       "            </tr>\n",
       "            <tr>\n",
       "                        <th id=\"T_b98971a4_0081_11ec_b0ed_9631b936701blevel0_row6\" class=\"row_heading level0 row6\" >SD</th>\n",
       "                        <td id=\"T_b98971a4_0081_11ec_b0ed_9631b936701brow6_col0\" class=\"data row6 col0\" >0.0055</td>\n",
       "                        <td id=\"T_b98971a4_0081_11ec_b0ed_9631b936701brow6_col1\" class=\"data row6 col1\" >0.0062</td>\n",
       "                        <td id=\"T_b98971a4_0081_11ec_b0ed_9631b936701brow6_col2\" class=\"data row6 col2\" >0.0071</td>\n",
       "                        <td id=\"T_b98971a4_0081_11ec_b0ed_9631b936701brow6_col3\" class=\"data row6 col3\" >0.0058</td>\n",
       "                        <td id=\"T_b98971a4_0081_11ec_b0ed_9631b936701brow6_col4\" class=\"data row6 col4\" >0.0063</td>\n",
       "                        <td id=\"T_b98971a4_0081_11ec_b0ed_9631b936701brow6_col5\" class=\"data row6 col5\" >0.0102</td>\n",
       "                        <td id=\"T_b98971a4_0081_11ec_b0ed_9631b936701brow6_col6\" class=\"data row6 col6\" >0.0104</td>\n",
       "            </tr>\n",
       "    </tbody></table>"
      ],
      "text/plain": [
       "<pandas.io.formats.style.Styler at 0x7f82a694bb00>"
      ]
     },
     "metadata": {},
     "output_type": "display_data"
    }
   ],
   "source": [
    "clf1 = setup(train[features + [TARGET]], \n",
    "             target=\"target\",\n",
    "             session_id=2, \n",
    "             log_experiment=False, \n",
    "             experiment_name=\"shelter\",\n",
    "             silent=True)\n",
    "\n",
    "rf = create_model('rf')\n",
    "tuned_rf = tune_model(rf,\n",
    "                     optimize=\"AUC\",\n",
    "                     fold=5,\n",
    "                     n_iter=50)"
   ]
  },
  {
   "cell_type": "code",
   "execution_count": 42,
   "metadata": {
    "ExecuteTime": {
     "end_time": "2021-06-26T16:56:17.357530Z",
     "start_time": "2021-06-26T16:56:17.352011Z"
    },
    "execution": {
     "iopub.execute_input": "2021-08-19T00:09:30.675905Z",
     "iopub.status.busy": "2021-08-19T00:09:30.675634Z",
     "iopub.status.idle": "2021-08-19T00:09:30.681731Z",
     "shell.execute_reply": "2021-08-19T00:09:30.680985Z",
     "shell.execute_reply.started": "2021-08-19T00:09:30.675869Z"
    }
   },
   "outputs": [
    {
     "data": {
      "text/plain": [
       "RandomForestClassifier(bootstrap=False, ccp_alpha=0.0,\n",
       "                       class_weight='balanced_subsample', criterion='entropy',\n",
       "                       max_depth=11, max_features='sqrt', max_leaf_nodes=None,\n",
       "                       max_samples=None, min_impurity_decrease=0.0001,\n",
       "                       min_impurity_split=None, min_samples_leaf=6,\n",
       "                       min_samples_split=7, min_weight_fraction_leaf=0.0,\n",
       "                       n_estimators=250, n_jobs=-1, oob_score=False,\n",
       "                       random_state=2, verbose=0, warm_start=False)"
      ]
     },
     "execution_count": 42,
     "metadata": {},
     "output_type": "execute_result"
    }
   ],
   "source": [
    "tuned_rf"
   ]
  },
  {
   "cell_type": "code",
   "execution_count": 43,
   "metadata": {
    "ExecuteTime": {
     "end_time": "2021-06-26T16:56:19.998278Z",
     "start_time": "2021-06-26T16:56:17.360101Z"
    },
    "execution": {
     "iopub.execute_input": "2021-08-19T00:09:30.683165Z",
     "iopub.status.busy": "2021-08-19T00:09:30.682908Z",
     "iopub.status.idle": "2021-08-19T00:09:33.776410Z",
     "shell.execute_reply": "2021-08-19T00:09:33.775440Z",
     "shell.execute_reply.started": "2021-08-19T00:09:30.683130Z"
    }
   },
   "outputs": [],
   "source": [
    "benchmark_model = tuned_rf\n",
    "benchmark_model.fit(train[features], train[TARGET])\n",
    "\n",
    "train[\"benchmark_prediction_opt\"] = benchmark_model.predict_proba(train[features])[:, 1]\n",
    "test[\"benchmark_prediction_opt\"] = benchmark_model.predict_proba(test[features])[:, 1]\n",
    "out_of_time[\"benchmark_prediction_opt\"] = benchmark_model.predict_proba(out_of_time[features])[:, 1]"
   ]
  },
  {
   "cell_type": "code",
   "execution_count": 44,
   "metadata": {
    "ExecuteTime": {
     "end_time": "2021-06-26T16:56:20.057290Z",
     "start_time": "2021-06-26T16:56:20.000457Z"
    },
    "execution": {
     "iopub.execute_input": "2021-08-19T00:09:33.778181Z",
     "iopub.status.busy": "2021-08-19T00:09:33.777893Z",
     "iopub.status.idle": "2021-08-19T00:09:33.851297Z",
     "shell.execute_reply": "2021-08-19T00:09:33.850411Z",
     "shell.execute_reply.started": "2021-08-19T00:09:33.778142Z"
    }
   },
   "outputs": [
    {
     "name": "stdout",
     "output_type": "stream",
     "text": [
      "0.7946691360135414\n",
      "0.7872893826981108\n",
      "0.7888780899420342\n"
     ]
    }
   ],
   "source": [
    "print(roc_auc_score(train[TARGET], train[\"benchmark_prediction_opt\"]))\n",
    "print(roc_auc_score(test[TARGET], test[\"benchmark_prediction_opt\"]))\n",
    "print(roc_auc_score(out_of_time[TARGET], out_of_time[\"benchmark_prediction_opt\"]))"
   ]
  },
  {
   "cell_type": "code",
   "execution_count": 45,
   "metadata": {
    "ExecuteTime": {
     "end_time": "2021-06-26T16:56:28.716799Z",
     "start_time": "2021-06-26T16:56:20.059182Z"
    },
    "execution": {
     "iopub.execute_input": "2021-08-19T00:09:33.853116Z",
     "iopub.status.busy": "2021-08-19T00:09:33.852833Z",
     "iopub.status.idle": "2021-08-19T00:09:43.080633Z",
     "shell.execute_reply": "2021-08-19T00:09:43.079982Z",
     "shell.execute_reply.started": "2021-08-19T00:09:33.853078Z"
    }
   },
   "outputs": [],
   "source": [
    "benchmark_model = RandomForestClassifier(n_estimators=250, max_depth=8)\n",
    "benchmark_model.fit(train[features], train[TARGET])\n",
    "\n",
    "train[\"benchmark_prediction\"] = benchmark_model.predict_proba(train[features])[:, 1]\n",
    "test[\"benchmark_prediction\"] = benchmark_model.predict_proba(test[features])[:, 1]\n",
    "out_of_time[\"benchmark_prediction\"] = benchmark_model.predict_proba(out_of_time[features])[:, 1]"
   ]
  },
  {
   "cell_type": "code",
   "execution_count": 46,
   "metadata": {
    "ExecuteTime": {
     "end_time": "2021-06-26T16:56:28.766515Z",
     "start_time": "2021-06-26T16:56:28.718220Z"
    },
    "execution": {
     "iopub.execute_input": "2021-08-19T00:09:43.081805Z",
     "iopub.status.busy": "2021-08-19T00:09:43.081619Z",
     "iopub.status.idle": "2021-08-19T00:09:43.128723Z",
     "shell.execute_reply": "2021-08-19T00:09:43.128144Z",
     "shell.execute_reply.started": "2021-08-19T00:09:43.081782Z"
    }
   },
   "outputs": [
    {
     "name": "stdout",
     "output_type": "stream",
     "text": [
      "0.7915515579550967\n",
      "0.7816972073299906\n",
      "0.7872495208567774\n"
     ]
    }
   ],
   "source": [
    "print(roc_auc_score(train[TARGET], train[\"benchmark_prediction\"]))\n",
    "print(roc_auc_score(test[TARGET], test[\"benchmark_prediction\"]))\n",
    "print(roc_auc_score(out_of_time[TARGET], out_of_time[\"benchmark_prediction\"]))"
   ]
  },
  {
   "cell_type": "code",
   "execution_count": 47,
   "metadata": {
    "execution": {
     "iopub.execute_input": "2021-08-19T00:09:43.129915Z",
     "iopub.status.busy": "2021-08-19T00:09:43.129712Z",
     "iopub.status.idle": "2021-08-19T00:09:43.132281Z",
     "shell.execute_reply": "2021-08-19T00:09:43.131793Z",
     "shell.execute_reply.started": "2021-08-19T00:09:43.129888Z"
    }
   },
   "outputs": [],
   "source": [
    "# benchmark_importances = benchmark_model.feature_importances_\n",
    "# benchmark_importances = pd.Series(benchmark_importances, index=features)\n",
    "# benchmark_importances.rename(\"RF\", inplace=True)"
   ]
  },
  {
   "cell_type": "code",
   "execution_count": 48,
   "metadata": {
    "execution": {
     "iopub.execute_input": "2021-08-19T00:09:43.133258Z",
     "iopub.status.busy": "2021-08-19T00:09:43.133095Z",
     "iopub.status.idle": "2021-08-19T00:10:13.723836Z",
     "shell.execute_reply": "2021-08-19T00:10:13.723142Z",
     "shell.execute_reply.started": "2021-08-19T00:09:43.133237Z"
    }
   },
   "outputs": [],
   "source": [
    "results = reverse_learning_curve(train, out_of_time, tuned_rf, features, TARGET, TIME_COLUMN, roc_auc_score, n_rounds=5)"
   ]
  },
  {
   "cell_type": "code",
   "execution_count": 49,
   "metadata": {
    "execution": {
     "iopub.execute_input": "2021-08-19T00:10:13.725073Z",
     "iopub.status.busy": "2021-08-19T00:10:13.724890Z",
     "iopub.status.idle": "2021-08-19T00:10:13.730283Z",
     "shell.execute_reply": "2021-08-19T00:10:13.729743Z",
     "shell.execute_reply.started": "2021-08-19T00:10:13.725050Z"
    }
   },
   "outputs": [
    {
     "data": {
      "text/plain": [
       "Age upon Intake     0.069565\n",
       "Intake Type         0.090854\n",
       "Intake Condition    0.020643\n",
       "Animal Type         0.007732\n",
       "Sex upon Intake     0.030200\n",
       "Breed               0.004213\n",
       "Color              -0.001762\n",
       "Name: RF, dtype: float64"
      ]
     },
     "execution_count": 49,
     "metadata": {},
     "output_type": "execute_result"
    }
   ],
   "source": [
    "benchmark_importances = results[\"feature_importance\"][-1].copy(deep=True)\n",
    "benchmark_importances.rename(\"RF\", inplace=True)"
   ]
  },
  {
   "cell_type": "code",
   "execution_count": 50,
   "metadata": {
    "execution": {
     "iopub.execute_input": "2021-08-19T00:10:13.731327Z",
     "iopub.status.busy": "2021-08-19T00:10:13.731158Z",
     "iopub.status.idle": "2021-08-19T00:10:14.222554Z",
     "shell.execute_reply": "2021-08-19T00:10:14.222082Z",
     "shell.execute_reply.started": "2021-08-19T00:10:13.731307Z"
    }
   },
   "outputs": [
    {
     "data": {
      "image/png": "[encoded data removed]",
      "text/plain": [
       "<Figure size 450x900 with 2 Axes>"
      ]
     },
     "metadata": {},
     "output_type": "display_data"
    }
   ],
   "source": [
    "importance_by_reverse_segment_benchmark = plot_feature_migration_from_learning_curve_results(results, features, \n",
    "                                                                                             save_as=\"../images/{}_benchmark_importance_migration_learning_curve.eps\".format(PREFIX))"
   ]
  },
  {
   "cell_type": "code",
   "execution_count": 51,
   "metadata": {
    "execution": {
     "iopub.execute_input": "2021-08-19T00:10:14.223549Z",
     "iopub.status.busy": "2021-08-19T00:10:14.223352Z",
     "iopub.status.idle": "2021-08-19T00:10:14.553362Z",
     "shell.execute_reply": "2021-08-19T00:10:14.552913Z",
     "shell.execute_reply.started": "2021-08-19T00:10:14.223527Z"
    }
   },
   "outputs": [
    {
     "data": {
      "image/png": "[encoded data removed]",
      "text/plain": [
       "<Figure size 864x288 with 1 Axes>"
      ]
     },
     "metadata": {},
     "output_type": "display_data"
    }
   ],
   "source": [
    "fig, ax = plt.subplots()\n",
    "\n",
    "blues = plt.get_cmap(\"Blues\")\n",
    "gradient = np.linspace(.2, 0.8, len(results[\"holdout_performance\"]))\n",
    "\n",
    "for i, r in enumerate(results[\"holdout_performance_by_period\"]):\n",
    "    r.plot(label=results[\"last_period_included\"][i], color=blues(gradient[i]))\n",
    "\n",
    "ax.xaxis.set_tick_params(labelsize=12)\n",
    "ax.yaxis.set_tick_params(labelsize=12)\n",
    "plt.legend(bbox_to_anchor=(1.05, 1.0), fontsize=12, title=\"Oldest time period included in train\")\n",
    "plt.ylabel(\"AUC\", fontsize=15)\n",
    "plt.xlabel(\"Year\", fontsize=15)\n",
    "\n",
    "plt.savefig(\"../images/{}_perf_by_period_reverse_learning_curve_benchmark.eps\".format(PREFIX), format=\"eps\", bbox_inches = \"tight\")\n",
    "plt.show()"
   ]
  },
  {
   "cell_type": "code",
   "execution_count": 52,
   "metadata": {
    "execution": {
     "iopub.execute_input": "2021-08-19T00:10:14.554301Z",
     "iopub.status.busy": "2021-08-19T00:10:14.554133Z",
     "iopub.status.idle": "2021-08-19T00:10:14.561604Z",
     "shell.execute_reply": "2021-08-19T00:10:14.561180Z",
     "shell.execute_reply.started": "2021-08-19T00:10:14.554281Z"
    }
   },
   "outputs": [
    {
     "data": {
      "text/plain": [
       "{'round': [],\n",
       " 'holdout_performance': [0.7882858393150809,\n",
       "  0.7907144743869128,\n",
       "  0.7901566520395171,\n",
       "  0.7888780899420342],\n",
       " 'feature_importance': [Age upon Intake     0.078357\n",
       "  Intake Type         0.092863\n",
       "  Intake Condition    0.023082\n",
       "  Animal Type         0.002820\n",
       "  Sex upon Intake     0.030633\n",
       "  Breed               0.006903\n",
       "  Color              -0.004017\n",
       "  Name: 2017, dtype: float64,\n",
       "  Age upon Intake     0.075576\n",
       "  Intake Type         0.091965\n",
       "  Intake Condition    0.023224\n",
       "  Animal Type         0.004099\n",
       "  Sex upon Intake     0.026744\n",
       "  Breed               0.006309\n",
       "  Color               0.000403\n",
       "  Name: 2016, dtype: float64,\n",
       "  Age upon Intake     0.073497\n",
       "  Intake Type         0.095039\n",
       "  Intake Condition    0.021109\n",
       "  Animal Type         0.008419\n",
       "  Sex upon Intake     0.030646\n",
       "  Breed               0.007255\n",
       "  Color               0.000131\n",
       "  Name: 2015, dtype: float64,\n",
       "  Age upon Intake     0.069565\n",
       "  Intake Type         0.090854\n",
       "  Intake Condition    0.020643\n",
       "  Animal Type         0.007732\n",
       "  Sex upon Intake     0.030200\n",
       "  Breed               0.004213\n",
       "  Color              -0.001762\n",
       "  Name: 2014, dtype: float64],\n",
       " 'sample_size': [19000, 37852, 56988, 75272],\n",
       " 'last_period_included': [2017, 2016, 2015, 2014],\n",
       " 'holdout_performance_by_period': [Year\n",
       "  2018    0.783514\n",
       "  2019    0.794652\n",
       "  2020    0.784730\n",
       "  2021    0.783846\n",
       "  dtype: float64,\n",
       "  Year\n",
       "  2018    0.784291\n",
       "  2019    0.798060\n",
       "  2020    0.788409\n",
       "  2021    0.788205\n",
       "  dtype: float64,\n",
       "  Year\n",
       "  2018    0.783363\n",
       "  2019    0.798350\n",
       "  2020    0.787270\n",
       "  2021    0.783529\n",
       "  dtype: float64,\n",
       "  Year\n",
       "  2018    0.782412\n",
       "  2019    0.797020\n",
       "  2020    0.786037\n",
       "  2021    0.778109\n",
       "  dtype: float64]}"
      ]
     },
     "execution_count": 52,
     "metadata": {},
     "output_type": "execute_result"
    }
   ],
   "source": [
    "results"
   ]
  },
  {
   "cell_type": "markdown",
   "metadata": {},
   "source": [
    "## Challenger model"
   ]
  },
  {
   "cell_type": "code",
   "execution_count": 53,
   "metadata": {
    "ExecuteTime": {
     "end_time": "2021-06-26T16:56:28.771371Z",
     "start_time": "2021-06-26T16:56:28.768379Z"
    },
    "execution": {
     "iopub.execute_input": "2021-08-19T00:10:14.562509Z",
     "iopub.status.busy": "2021-08-19T00:10:14.562287Z",
     "iopub.status.idle": "2021-08-19T00:10:14.567417Z",
     "shell.execute_reply": "2021-08-19T00:10:14.566989Z",
     "shell.execute_reply.started": "2021-08-19T00:10:14.562488Z"
    }
   },
   "outputs": [],
   "source": [
    "train.reset_index(drop=True, inplace=True)"
   ]
  },
  {
   "cell_type": "code",
   "execution_count": 54,
   "metadata": {
    "ExecuteTime": {
     "end_time": "2021-06-26T16:56:28.789493Z",
     "start_time": "2021-06-26T16:56:28.773208Z"
    },
    "execution": {
     "iopub.execute_input": "2021-08-19T00:10:14.568270Z",
     "iopub.status.busy": "2021-08-19T00:10:14.568114Z",
     "iopub.status.idle": "2021-08-19T00:10:14.582704Z",
     "shell.execute_reply": "2021-08-19T00:10:14.582284Z",
     "shell.execute_reply.started": "2021-08-19T00:10:14.568251Z"
    }
   },
   "outputs": [
    {
     "data": {
      "text/html": [
       "<div>\n",
       "<style scoped>\n",
       "    .dataframe tbody tr th:only-of-type {\n",
       "        vertical-align: middle;\n",
       "    }\n",
       "\n",
       "    .dataframe tbody tr th {\n",
       "        vertical-align: top;\n",
       "    }\n",
       "\n",
       "    .dataframe thead th {\n",
       "        text-align: right;\n",
       "    }\n",
       "</style>\n",
       "<table border=\"1\" class=\"dataframe\">\n",
       "  <thead>\n",
       "    <tr style=\"text-align: right;\">\n",
       "      <th></th>\n",
       "      <th>Age upon Intake</th>\n",
       "      <th>Intake Type</th>\n",
       "      <th>Intake Condition</th>\n",
       "      <th>Animal Type</th>\n",
       "      <th>Sex upon Intake</th>\n",
       "      <th>Breed</th>\n",
       "      <th>Color</th>\n",
       "      <th>Year</th>\n",
       "    </tr>\n",
       "  </thead>\n",
       "  <tbody>\n",
       "    <tr>\n",
       "      <th>0</th>\n",
       "      <td>6.000000</td>\n",
       "      <td>4</td>\n",
       "      <td>5</td>\n",
       "      <td>2</td>\n",
       "      <td>2</td>\n",
       "      <td>2231</td>\n",
       "      <td>56</td>\n",
       "      <td>2015</td>\n",
       "    </tr>\n",
       "    <tr>\n",
       "      <th>1</th>\n",
       "      <td>2.000000</td>\n",
       "      <td>4</td>\n",
       "      <td>5</td>\n",
       "      <td>2</td>\n",
       "      <td>2</td>\n",
       "      <td>1982</td>\n",
       "      <td>252</td>\n",
       "      <td>2017</td>\n",
       "    </tr>\n",
       "    <tr>\n",
       "      <th>2</th>\n",
       "      <td>1.000000</td>\n",
       "      <td>4</td>\n",
       "      <td>5</td>\n",
       "      <td>1</td>\n",
       "      <td>0</td>\n",
       "      <td>1160</td>\n",
       "      <td>489</td>\n",
       "      <td>2017</td>\n",
       "    </tr>\n",
       "    <tr>\n",
       "      <th>3</th>\n",
       "      <td>0.583333</td>\n",
       "      <td>2</td>\n",
       "      <td>5</td>\n",
       "      <td>2</td>\n",
       "      <td>1</td>\n",
       "      <td>1278</td>\n",
       "      <td>9</td>\n",
       "      <td>2017</td>\n",
       "    </tr>\n",
       "    <tr>\n",
       "      <th>4</th>\n",
       "      <td>1.000000</td>\n",
       "      <td>3</td>\n",
       "      <td>5</td>\n",
       "      <td>2</td>\n",
       "      <td>4</td>\n",
       "      <td>1563</td>\n",
       "      <td>455</td>\n",
       "      <td>2016</td>\n",
       "    </tr>\n",
       "    <tr>\n",
       "      <th>...</th>\n",
       "      <td>...</td>\n",
       "      <td>...</td>\n",
       "      <td>...</td>\n",
       "      <td>...</td>\n",
       "      <td>...</td>\n",
       "      <td>...</td>\n",
       "      <td>...</td>\n",
       "      <td>...</td>\n",
       "    </tr>\n",
       "    <tr>\n",
       "      <th>75267</th>\n",
       "      <td>0.583333</td>\n",
       "      <td>4</td>\n",
       "      <td>5</td>\n",
       "      <td>2</td>\n",
       "      <td>1</td>\n",
       "      <td>2435</td>\n",
       "      <td>530</td>\n",
       "      <td>2017</td>\n",
       "    </tr>\n",
       "    <tr>\n",
       "      <th>75268</th>\n",
       "      <td>1.000000</td>\n",
       "      <td>4</td>\n",
       "      <td>6</td>\n",
       "      <td>1</td>\n",
       "      <td>5</td>\n",
       "      <td>1160</td>\n",
       "      <td>155</td>\n",
       "      <td>2014</td>\n",
       "    </tr>\n",
       "    <tr>\n",
       "      <th>75269</th>\n",
       "      <td>1.000000</td>\n",
       "      <td>4</td>\n",
       "      <td>5</td>\n",
       "      <td>2</td>\n",
       "      <td>1</td>\n",
       "      <td>822</td>\n",
       "      <td>416</td>\n",
       "      <td>2017</td>\n",
       "    </tr>\n",
       "    <tr>\n",
       "      <th>75270</th>\n",
       "      <td>0.500000</td>\n",
       "      <td>4</td>\n",
       "      <td>5</td>\n",
       "      <td>2</td>\n",
       "      <td>1</td>\n",
       "      <td>822</td>\n",
       "      <td>130</td>\n",
       "      <td>2014</td>\n",
       "    </tr>\n",
       "    <tr>\n",
       "      <th>75271</th>\n",
       "      <td>1.000000</td>\n",
       "      <td>2</td>\n",
       "      <td>5</td>\n",
       "      <td>1</td>\n",
       "      <td>4</td>\n",
       "      <td>1160</td>\n",
       "      <td>215</td>\n",
       "      <td>2015</td>\n",
       "    </tr>\n",
       "  </tbody>\n",
       "</table>\n",
       "<p>75272 rows × 8 columns</p>\n",
       "</div>"
      ],
      "text/plain": [
       "       Age upon Intake  Intake Type  Intake Condition  Animal Type  \\\n",
       "0             6.000000            4                 5            2   \n",
       "1             2.000000            4                 5            2   \n",
       "2             1.000000            4                 5            1   \n",
       "3             0.583333            2                 5            2   \n",
       "4             1.000000            3                 5            2   \n",
       "...                ...          ...               ...          ...   \n",
       "75267         0.583333            4                 5            2   \n",
       "75268         1.000000            4                 6            1   \n",
       "75269         1.000000            4                 5            2   \n",
       "75270         0.500000            4                 5            2   \n",
       "75271         1.000000            2                 5            1   \n",
       "\n",
       "       Sex upon Intake  Breed  Color  Year  \n",
       "0                    2   2231     56  2015  \n",
       "1                    2   1982    252  2017  \n",
       "2                    0   1160    489  2017  \n",
       "3                    1   1278      9  2017  \n",
       "4                    4   1563    455  2016  \n",
       "...                ...    ...    ...   ...  \n",
       "75267                1   2435    530  2017  \n",
       "75268                5   1160    155  2014  \n",
       "75269                1    822    416  2017  \n",
       "75270                1    822    130  2014  \n",
       "75271                4   1160    215  2015  \n",
       "\n",
       "[75272 rows x 8 columns]"
      ]
     },
     "execution_count": 54,
     "metadata": {},
     "output_type": "execute_result"
    }
   ],
   "source": [
    "train[features + [TIME_COLUMN]]"
   ]
  },
  {
   "cell_type": "code",
   "execution_count": 55,
   "metadata": {
    "ExecuteTime": {
     "end_time": "2021-06-26T16:56:28.796459Z",
     "start_time": "2021-06-26T16:56:28.791288Z"
    },
    "execution": {
     "iopub.execute_input": "2021-08-19T00:10:14.583558Z",
     "iopub.status.busy": "2021-08-19T00:10:14.583377Z",
     "iopub.status.idle": "2021-08-19T00:10:14.589560Z",
     "shell.execute_reply": "2021-08-19T00:10:14.589154Z",
     "shell.execute_reply.started": "2021-08-19T00:10:14.583538Z"
    }
   },
   "outputs": [
    {
     "data": {
      "text/plain": [
       "2015    19136\n",
       "2017    19000\n",
       "2016    18852\n",
       "2014    18284\n",
       "Name: Year, dtype: int64"
      ]
     },
     "execution_count": 55,
     "metadata": {},
     "output_type": "execute_result"
    }
   ],
   "source": [
    "train[\"Year\"].value_counts()"
   ]
  },
  {
   "cell_type": "code",
   "execution_count": 56,
   "metadata": {
    "execution": {
     "iopub.execute_input": "2021-08-19T00:10:14.590380Z",
     "iopub.status.busy": "2021-08-19T00:10:14.590224Z",
     "iopub.status.idle": "2021-08-19T00:16:21.094242Z",
     "shell.execute_reply": "2021-08-19T00:16:21.093344Z",
     "shell.execute_reply.started": "2021-08-19T00:10:14.590361Z"
    }
   },
   "outputs": [],
   "source": [
    "challenger_model_max = TimeForestClassifier(time_column=TIME_COLUMN,\n",
    "                                        n_estimators=250,\n",
    "                                        min_sample_periods=30,\n",
    "                                        max_depth=11,\n",
    "                                        period_criterion='max',\n",
    "                                        multi=True)\n",
    "\n",
    "challenger_model_max.fit(train[features + [TIME_COLUMN]], train[TARGET].values)"
   ]
  },
  {
   "cell_type": "code",
   "execution_count": 57,
   "metadata": {
    "execution": {
     "iopub.execute_input": "2021-08-19T00:16:21.095944Z",
     "iopub.status.busy": "2021-08-19T00:16:21.095652Z",
     "iopub.status.idle": "2021-08-19T00:20:35.170607Z",
     "shell.execute_reply": "2021-08-19T00:20:35.169874Z",
     "shell.execute_reply.started": "2021-08-19T00:16:21.095896Z"
    }
   },
   "outputs": [],
   "source": [
    "train[\"challenger_prediction_max\"] = challenger_model_max.predict_proba(train[features])[:, 1]\n",
    "test[\"challenger_prediction_max\"] = challenger_model_max.predict_proba(test[features])[:, 1]\n",
    "out_of_time[\"challenger_prediction_max\"] = challenger_model_max.predict_proba(out_of_time[features])[:, 1]"
   ]
  },
  {
   "cell_type": "code",
   "execution_count": 58,
   "metadata": {
    "execution": {
     "iopub.execute_input": "2021-08-19T00:20:35.172140Z",
     "iopub.status.busy": "2021-08-19T00:20:35.171836Z",
     "iopub.status.idle": "2021-08-19T00:20:35.221281Z",
     "shell.execute_reply": "2021-08-19T00:20:35.220709Z",
     "shell.execute_reply.started": "2021-08-19T00:20:35.172101Z"
    }
   },
   "outputs": [
    {
     "name": "stdout",
     "output_type": "stream",
     "text": [
      "0.7900186927425221\n",
      "0.7830354039827165\n",
      "0.7873700462293747\n"
     ]
    }
   ],
   "source": [
    "print(roc_auc_score(train[TARGET], train[\"challenger_prediction_max\"]))\n",
    "print(roc_auc_score(test[TARGET], test[\"challenger_prediction_max\"]))\n",
    "print(roc_auc_score(out_of_time[TARGET], out_of_time[\"challenger_prediction_max\"]))"
   ]
  },
  {
   "cell_type": "code",
   "execution_count": 59,
   "metadata": {
    "execution": {
     "iopub.execute_input": "2021-08-19T00:20:35.222577Z",
     "iopub.status.busy": "2021-08-19T00:20:35.222308Z",
     "iopub.status.idle": "2021-08-19T00:20:36.383150Z",
     "shell.execute_reply": "2021-08-19T00:20:36.382384Z",
     "shell.execute_reply.started": "2021-08-19T00:20:35.222541Z"
    }
   },
   "outputs": [
    {
     "data": {
      "text/plain": [
       "Age upon Intake     7734\n",
       "Color               7323\n",
       "Breed               7213\n",
       "Sex upon Intake     5359\n",
       "Intake Type         2211\n",
       "Animal Type         1690\n",
       "Intake Condition    1549\n",
       "Name: TRF Max, dtype: int64"
      ]
     },
     "execution_count": 59,
     "metadata": {},
     "output_type": "execute_result"
    }
   ],
   "source": [
    "challenger_model_max.feature_importance()\n",
    "\n",
    "challenger_model_max_importances = challenger_model_max.feature_importance()\n",
    "challenger_model_max_importances.rename(\"TRF Max\", inplace=True)"
   ]
  },
  {
   "cell_type": "code",
   "execution_count": 60,
   "metadata": {
    "ExecuteTime": {
     "end_time": "2021-06-26T18:23:39.252988Z",
     "start_time": "2021-06-26T16:56:28.798016Z"
    },
    "execution": {
     "iopub.execute_input": "2021-08-19T00:20:36.385104Z",
     "iopub.status.busy": "2021-08-19T00:20:36.384617Z",
     "iopub.status.idle": "2021-08-19T00:28:47.375115Z",
     "shell.execute_reply": "2021-08-19T00:28:47.374451Z",
     "shell.execute_reply.started": "2021-08-19T00:20:36.385063Z"
    }
   },
   "outputs": [],
   "source": [
    "challenger_model = TimeForestClassifier(time_column=TIME_COLUMN,\n",
    "                                        n_estimators=250,\n",
    "                                        min_sample_periods=30,\n",
    "                                        max_depth=11,\n",
    "                                        multi=True)\n",
    "challenger_model.fit(train[features + [TIME_COLUMN]], train[TARGET].values)\n",
    "\n",
    "train[\"challenger_prediction\"] = challenger_model.predict_proba(train[features])[:, 1]\n",
    "test[\"challenger_prediction\"] = challenger_model.predict_proba(test[features])[:, 1]\n",
    "out_of_time[\"challenger_prediction\"] = challenger_model.predict_proba(out_of_time[features])[:, 1]"
   ]
  },
  {
   "cell_type": "code",
   "execution_count": 61,
   "metadata": {
    "ExecuteTime": {
     "end_time": "2021-06-26T18:23:39.311366Z",
     "start_time": "2021-06-26T18:23:39.254800Z"
    },
    "execution": {
     "iopub.execute_input": "2021-08-19T00:28:47.376683Z",
     "iopub.status.busy": "2021-08-19T00:28:47.376428Z",
     "iopub.status.idle": "2021-08-19T00:28:47.425704Z",
     "shell.execute_reply": "2021-08-19T00:28:47.424952Z",
     "shell.execute_reply.started": "2021-08-19T00:28:47.376651Z"
    }
   },
   "outputs": [
    {
     "name": "stdout",
     "output_type": "stream",
     "text": [
      "0.7901488289530674\n",
      "0.7830139488101211\n",
      "0.7869197342108423\n"
     ]
    }
   ],
   "source": [
    "print(roc_auc_score(train[TARGET], train[\"challenger_prediction\"]))\n",
    "print(roc_auc_score(test[TARGET], test[\"challenger_prediction\"]))\n",
    "print(roc_auc_score(out_of_time[TARGET], out_of_time[\"challenger_prediction\"]))"
   ]
  },
  {
   "cell_type": "markdown",
   "metadata": {},
   "source": [
    "## Feature Importance migration"
   ]
  },
  {
   "cell_type": "code",
   "execution_count": null,
   "metadata": {
    "execution": {
     "iopub.execute_input": "2021-08-19T00:28:47.427378Z",
     "iopub.status.busy": "2021-08-19T00:28:47.426956Z"
    }
   },
   "outputs": [],
   "source": [
    "challenger_model = TimeForestClassifier(time_column=TIME_COLUMN,\n",
    "                                        n_estimators=250,\n",
    "                                        min_sample_periods=30,\n",
    "                                        max_depth=11,\n",
    "                                        multi=True)\n",
    "\n",
    "results_trt = reverse_learning_curve(train, out_of_time, challenger_model, features, TARGET, TIME_COLUMN, roc_auc_score, n_rounds=5, trt_model=True)"
   ]
  },
  {
   "cell_type": "code",
   "execution_count": null,
   "metadata": {},
   "outputs": [],
   "source": [
    "challenger_model_importances = results_trt[\"feature_importance\"][-1].copy(deep=True)\n",
    "challenger_model_importances.rename(\"TRF\", inplace=True)"
   ]
  },
  {
   "cell_type": "code",
   "execution_count": null,
   "metadata": {},
   "outputs": [],
   "source": [
    "all_models_importance = pd.DataFrame(index=features)\n",
    "all_models_importance = all_models_importance.merge(benchmark_importances, how=\"left\", left_index=True, \n",
    "                            right_index=True)\n",
    "all_models_importance = all_models_importance.merge(challenger_model_importances, how=\"left\", left_index=True, \n",
    "                            right_index=True)\n",
    "all_models_importance = all_models_importance.merge(challenger_model_max_importances, how=\"left\", left_index=True, \n",
    "                            right_index=True)\n",
    "\n",
    "all_models_importance.fillna(0, inplace=True)\n",
    "all_models_importance"
   ]
  },
  {
   "cell_type": "code",
   "execution_count": null,
   "metadata": {},
   "outputs": [],
   "source": [
    "plot_shap_difference(all_models_importance[[\"RF\", \"TRF\"]], title=\"\", save_as=\"../images/{}_importance_migration.eps\".format(PREFIX))"
   ]
  },
  {
   "cell_type": "code",
   "execution_count": null,
   "metadata": {},
   "outputs": [],
   "source": [
    "plot_shap_difference(all_models_importance, title=\"\", save_as=\"../images/{}_importance_migration_trf_max.eps\".format(PREFIX))"
   ]
  },
  {
   "cell_type": "markdown",
   "metadata": {},
   "source": [
    "## Reverse Learning Curve"
   ]
  },
  {
   "cell_type": "code",
   "execution_count": null,
   "metadata": {},
   "outputs": [],
   "source": []
  },
  {
   "cell_type": "code",
   "execution_count": null,
   "metadata": {},
   "outputs": [],
   "source": []
  },
  {
   "cell_type": "code",
   "execution_count": null,
   "metadata": {},
   "outputs": [],
   "source": [
    "importance_by_reverse_segment_challenger = plot_feature_migration_from_learning_curve_results(results_trt, features, \n",
    "                                                                                             save_as=\"../images/{}_challenger_importance_migration_learning_curve.eps\".format(PREFIX))\n",
    "importance_by_reverse_segment_challenger"
   ]
  },
  {
   "cell_type": "code",
   "execution_count": null,
   "metadata": {},
   "outputs": [],
   "source": [
    "fig, ax = plt.subplots()\n",
    "\n",
    "greens = plt.get_cmap(\"Greens\")\n",
    "gradient = np.linspace(.2, 0.8, len(results_trt[\"holdout_performance\"]))\n",
    "\n",
    "for i, r in enumerate(results_trt[\"holdout_performance_by_period\"]):\n",
    "    r.plot(label=results_trt[\"last_period_included\"][i], color=greens(gradient[i]))\n",
    "\n",
    "ax.xaxis.set_tick_params(labelsize=12)\n",
    "ax.yaxis.set_tick_params(labelsize=12)\n",
    "plt.legend(bbox_to_anchor=(1.05, 1.0), fontsize=12, title=\"Oldest time period included in train\")\n",
    "plt.ylabel(\"AUC\", fontsize=15)\n",
    "plt.xlabel(\"Year\", fontsize=15)\n",
    "\n",
    "plt.savefig(\"../images/{}_perf_by_period_reverse_learning_curve_challenger.eps\".format(PREFIX), format=\"eps\", bbox_inches = \"tight\")\n",
    "plt.show()"
   ]
  },
  {
   "cell_type": "code",
   "execution_count": null,
   "metadata": {},
   "outputs": [],
   "source": [
    "fig, ax = plt.subplots()\n",
    "plt.plot([str(i) for i in results[\"sample_size\"]], results[\"holdout_performance\"], label=\"RF\")\n",
    "plt.plot(results_trt[\"holdout_performance\"], label=\"TRF\", linestyle=\"dashed\", color=\"green\")\n",
    "ax.xaxis.set_tick_params(labelsize=12)\n",
    "ax.yaxis.set_tick_params(labelsize=12)\n",
    "plt.legend(fontsize=15, bbox_to_anchor=(1.0, 1.0))\n",
    "plt.ylabel(\"AUC in the holdout\", fontsize=15)\n",
    "plt.xlabel(\"Sample size\", fontsize=15)\n",
    "plt.savefig(\"../images/{}_reverse_learning_curve_sample.eps\".format(PREFIX), format=\"eps\")\n",
    "plt.show()"
   ]
  },
  {
   "cell_type": "code",
   "execution_count": null,
   "metadata": {},
   "outputs": [],
   "source": [
    "fig, ax = plt.subplots()\n",
    "plt.plot([str(i) for i in results[\"last_period_included\"]], results[\"holdout_performance\"], label=\"RF\")\n",
    "plt.plot(results_trt[\"holdout_performance\"], label=\"TRF\", linestyle=\"dashed\", color=\"green\")\n",
    "ax.xaxis.set_tick_params(labelsize=12)\n",
    "ax.yaxis.set_tick_params(labelsize=12)\n",
    "plt.legend(fontsize=15, bbox_to_anchor=(1.0, 1.0))\n",
    "plt.ylabel(\"AUC in the holdout\", fontsize=15)\n",
    "plt.xlabel(\"Oldest time period included in the training\", fontsize=15)\n",
    "plt.savefig(\"../images/{}_reverse_learning_curve_segments.eps\".format(PREFIX), format=\"eps\")\n",
    "plt.show()"
   ]
  },
  {
   "cell_type": "code",
   "execution_count": null,
   "metadata": {},
   "outputs": [],
   "source": [
    "fig, ax = plt.subplots()\n",
    "\n",
    "greens = plt.get_cmap(\"Greens\")\n",
    "gradient = np.linspace(.2, 0.8, len(results_trt[\"holdout_performance\"]))\n",
    "\n",
    "for i, r in enumerate(results_trt[\"holdout_performance_by_period\"]):\n",
    "    r.plot(label=results_trt[\"last_period_included\"][i], color=greens(gradient[i]))\n",
    "    \n",
    "for i, r in enumerate(results[\"holdout_performance_by_period\"]):\n",
    "    r.plot(label=results[\"last_period_included\"][i], color=blues(gradient[i]))\n",
    "\n",
    "ax.xaxis.set_tick_params(labelsize=12)\n",
    "ax.yaxis.set_tick_params(labelsize=12)\n",
    "plt.legend(bbox_to_anchor=(1.05, 1.0), fontsize=12, title=\"Oldest time period included in train\")\n",
    "plt.ylabel(\"AUC\", fontsize=15)\n",
    "plt.xlabel(\"Year\", fontsize=15)\n",
    "\n",
    "plt.savefig(\"../images/{}_perf_by_period_reverse_learning_curve_both.eps\".format(PREFIX), format=\"eps\", bbox_inches = \"tight\")\n",
    "plt.show()"
   ]
  },
  {
   "cell_type": "markdown",
   "metadata": {},
   "source": [
    "## Performance comparison"
   ]
  },
  {
   "cell_type": "code",
   "execution_count": null,
   "metadata": {},
   "outputs": [],
   "source": [
    "fig, ax = plt.subplots()\n",
    "pd.concat([test, out_of_time]).groupby(TIME_COLUMN).apply(lambda x: roc_auc_score(x[TARGET], x[\"challenger_prediction\"])).plot(label=\"Time Robust Forest\", \n",
    "                                                                                                      linestyle=\"dashed\",\n",
    "                                                                                                      color=\"green\", ax=ax)\n",
    "pd.concat([test, out_of_time]).groupby(TIME_COLUMN).apply(lambda x: roc_auc_score(x[TARGET], x[\"benchmark_prediction_opt\"])).plot(label=\"Random Forest\", ax=ax)\n",
    "\n",
    "ax.xaxis.set_tick_params(labelsize=12)\n",
    "ax.yaxis.set_tick_params(labelsize=12)\n",
    "\n",
    "xmin, xmax, ymin, ymax = plt.axis()\n",
    "plt.vlines(training_end_year + 1, ymin, ymax, linestyle=\"dotted\", color=\"red\", label=\"Holdout start\")\n",
    "plt.ylim([ymin, ymax])\n",
    "plt.legend(fontsize=15, bbox_to_anchor=(1.0, 1.0))\n",
    "plt.ylabel(\"AUC\", fontsize=15)\n",
    "plt.xlabel(\"Year\", fontsize=15)\n",
    "plt.savefig(\"../images/{}_test_holdout_auc_years.eps\".format(PREFIX), format=\"eps\")\n",
    "plt.show()"
   ]
  },
  {
   "cell_type": "code",
   "execution_count": null,
   "metadata": {},
   "outputs": [],
   "source": [
    "plt.rcParams['figure.figsize'] = (8, 6)\n",
    "fig, ax = plt.subplots()\n",
    "pd.concat([test, out_of_time]).groupby(TIME_COLUMN).apply(lambda x: roc_auc_score(x[TARGET], x[\"challenger_prediction\"])).plot(label=\"Time Robust Forest\", \n",
    "                                                                                                      linestyle=\"dashed\",\n",
    "                                                                                                      color=\"green\", ax=ax)\n",
    "pd.concat([test, out_of_time]).groupby(TIME_COLUMN).apply(lambda x: roc_auc_score(x[TARGET], x[\"benchmark_prediction_opt\"])).plot(label=\"Random Forest\", ax=ax)\n",
    "\n",
    "\n",
    "ax.xaxis.set_tick_params(labelsize=15)\n",
    "ax.yaxis.set_tick_params(labelsize=15)\n",
    "\n",
    "xmin, xmax, ymin, ymax = plt.axis()\n",
    "plt.vlines(training_end_year + 1, ymin, ymax, linestyle=\"dotted\", color=\"red\", label=\"Holdout start\")\n",
    "plt.ylim([ymin, ymax])\n",
    "plt.legend(fontsize=13, bbox_to_anchor=(0.42, 1.0))\n",
    "\n",
    "plt.ylabel(\"AUC\", fontsize=16)\n",
    "plt.xlabel(\"Year\", fontsize=16)\n",
    "plt.savefig(\"../images/{}_test_holdout_auc_years_square.eps\".format(PREFIX), format=\"eps\")\n",
    "plt.show()"
   ]
  },
  {
   "cell_type": "code",
   "execution_count": null,
   "metadata": {},
   "outputs": [],
   "source": []
  },
  {
   "cell_type": "code",
   "execution_count": null,
   "metadata": {
    "ExecuteTime": {
     "end_time": "2021-06-26T18:23:39.878038Z",
     "start_time": "2021-06-26T18:23:39.313373Z"
    }
   },
   "outputs": [],
   "source": [
    "# fig, ax = plt.subplots()\n",
    "# pd.concat([test, out_of_time]).groupby(TIME_COLUMN).apply(lambda x: roc_auc_score(x[TARGET], x[\"challenger_prediction\"])).plot(label=\"Time Robust Forest\", \n",
    "#                                                                                                       linestyle=\"dashed\",\n",
    "#                                                                                                       color=\"green\", ax=ax)\n",
    "# pd.concat([test, out_of_time]).groupby(TIME_COLUMN).apply(lambda x: roc_auc_score(x[TARGET], x[\"benchmark_prediction_opt\"])).plot(label=\"Random Forest\", ax=ax)\n",
    "# #plt.title(\"AUC by year on the GE Club News dataset - Out of time set from {}\".format(train_end_date), fontsize=15)\n",
    "\n",
    "# ax.xaxis.set_tick_params(labelsize=12)\n",
    "# ax.yaxis.set_tick_params(labelsize=12)\n",
    "\n",
    "# xmin, xmax, ymin, ymax = plt.axis()\n",
    "# plt.vlines(training_end_year + 1, ymin, ymax, linestyle=\"dotted\", color=\"red\", label=\"Holdout start\")\n",
    "# plt.ylim([ymin, ymax])\n",
    "# plt.legend(fontsize=12, bbox_to_anchor=(1.0, 1.0))\n",
    "# plt.ylabel(\"AUC\", fontsize=15)\n",
    "# plt.xlabel(\"Year\", fontsize=15)\n",
    "# plt.savefig(\"../images/shelter_test_holdout_auc_years.eps\", format=\"eps\")\n",
    "# plt.show()"
   ]
  },
  {
   "cell_type": "code",
   "execution_count": null,
   "metadata": {
    "ExecuteTime": {
     "end_time": "2021-06-26T18:23:40.302892Z",
     "start_time": "2021-06-26T18:23:39.879928Z"
    }
   },
   "outputs": [],
   "source": [
    "# fig, ax = plt.subplots(figsize=(8, 6))\n",
    "# pd.concat([test, out_of_time]).groupby(TIME_COLUMN).apply(lambda x: roc_auc_score(x[TARGET], x[\"challenger_prediction\"])).plot(label=\"Time Robust Forest\", \n",
    "#                                                                                                       linestyle=\"dashed\",\n",
    "#                                                                                                       color=\"green\", ax=ax)\n",
    "# pd.concat([test, out_of_time]).groupby(TIME_COLUMN).apply(lambda x: roc_auc_score(x[TARGET], x[\"benchmark_prediction_opt\"])).plot(label=\"Random Forest\", ax=ax)\n",
    "\n",
    "# ax.xaxis.set_tick_params(labelsize=15)\n",
    "# ax.yaxis.set_tick_params(labelsize=15)\n",
    "\n",
    "# xmin, xmax, ymin, ymax = plt.axis()\n",
    "# plt.vlines(training_end_year + 1, ymin, ymax, linestyle=\"dotted\", color=\"red\", label=\"Holdout start\")\n",
    "# plt.ylim([ymin, ymax])\n",
    "# plt.legend(fontsize=15, bbox_to_anchor=(0.45, 1.0))\n",
    "# plt.ylabel(\"AUC\", fontsize=16)\n",
    "# plt.xlabel(\"Year\", fontsize=16)\n",
    "# plt.savefig(\"../images/shelter_test_holdout_auc_years_square.eps\", format=\"eps\")\n",
    "# plt.show()"
   ]
  },
  {
   "cell_type": "code",
   "execution_count": null,
   "metadata": {
    "ExecuteTime": {
     "end_time": "2021-06-26T18:30:45.799577Z",
     "start_time": "2021-06-26T18:30:45.797340Z"
    }
   },
   "outputs": [],
   "source": [
    "#pd.concat([test, out_of_time])[[TIME_COLUMN, \"benchmark_prediction\", \"benchmark_prediction_opt\", \"challenger_prediction\"]].to_csv(\"results/8_animal_shelter_example.csv\")"
   ]
  },
  {
   "cell_type": "markdown",
   "metadata": {},
   "source": [
    "## TRF as feature selection"
   ]
  },
  {
   "cell_type": "code",
   "execution_count": null,
   "metadata": {
    "ExecuteTime": {
     "end_time": "2021-06-26T18:30:46.653572Z",
     "start_time": "2021-06-26T18:30:46.288845Z"
    }
   },
   "outputs": [],
   "source": [
    "challenger_model.feature_importance()"
   ]
  },
  {
   "cell_type": "code",
   "execution_count": null,
   "metadata": {
    "ExecuteTime": {
     "end_time": "2021-06-26T18:30:49.053954Z",
     "start_time": "2021-06-26T18:30:46.655784Z"
    }
   },
   "outputs": [],
   "source": [
    "selected_features = [feature for feature in features if feature in challenger_model.feature_importance().index]\n",
    "selected_features"
   ]
  },
  {
   "cell_type": "code",
   "execution_count": null,
   "metadata": {},
   "outputs": [],
   "source": [
    "if len(selected_features) == len(features):\n",
    "    selected_features = list(challenger_model.feature_importance().sort_values(ascending=False).index[:int(len(features)/2)+2].values)\n",
    "    \n",
    "selected_features    "
   ]
  },
  {
   "cell_type": "code",
   "execution_count": null,
   "metadata": {},
   "outputs": [],
   "source": [
    "selected_features"
   ]
  },
  {
   "cell_type": "code",
   "execution_count": null,
   "metadata": {
    "ExecuteTime": {
     "end_time": "2021-06-26T18:33:38.708090Z",
     "start_time": "2021-06-26T18:30:49.057135Z"
    }
   },
   "outputs": [],
   "source": [
    "clf1 = setup(train[selected_features + [TARGET]], \n",
    "             target=\"target\",\n",
    "             session_id=22, \n",
    "             log_experiment=False, \n",
    "             experiment_name=\"shelter_fs\",\n",
    "             silent=True)\n",
    "\n",
    "rf = create_model('rf')\n",
    "tuned_rf = tune_model(rf,\n",
    "                     optimize=\"AUC\",\n",
    "                     fold=5,\n",
    "                     n_iter=50)"
   ]
  },
  {
   "cell_type": "code",
   "execution_count": null,
   "metadata": {
    "ExecuteTime": {
     "end_time": "2021-06-26T18:33:38.716121Z",
     "start_time": "2021-06-26T18:33:38.711054Z"
    }
   },
   "outputs": [],
   "source": [
    "tuned_rf"
   ]
  },
  {
   "cell_type": "code",
   "execution_count": null,
   "metadata": {
    "ExecuteTime": {
     "end_time": "2021-06-26T18:33:39.742023Z",
     "start_time": "2021-06-26T18:33:38.718506Z"
    }
   },
   "outputs": [],
   "source": [
    "benchmark_model = tuned_rf\n",
    "benchmark_model.fit(train[selected_features], train[TARGET])\n",
    "\n",
    "train[\"benchmark_prediction_opt_selected_features\"] = benchmark_model.predict_proba(train[selected_features])[:, 1]\n",
    "test[\"benchmark_prediction_opt_selected_features\"] = benchmark_model.predict_proba(test[selected_features])[:, 1]\n",
    "out_of_time[\"benchmark_prediction_opt_selected_features\"] = benchmark_model.predict_proba(out_of_time[selected_features])[:, 1]"
   ]
  },
  {
   "cell_type": "code",
   "execution_count": null,
   "metadata": {
    "ExecuteTime": {
     "end_time": "2021-06-26T18:33:39.798579Z",
     "start_time": "2021-06-26T18:33:39.744812Z"
    }
   },
   "outputs": [],
   "source": [
    "print(roc_auc_score(train[TARGET], train[\"benchmark_prediction_opt_selected_features\"]))\n",
    "print(roc_auc_score(test[TARGET], test[\"benchmark_prediction_opt_selected_features\"]))\n",
    "print(roc_auc_score(out_of_time[TARGET], out_of_time[\"benchmark_prediction_opt_selected_features\"]))"
   ]
  },
  {
   "cell_type": "code",
   "execution_count": null,
   "metadata": {
    "ExecuteTime": {
     "end_time": "2021-06-26T18:33:40.395501Z",
     "start_time": "2021-06-26T18:33:39.801672Z"
    }
   },
   "outputs": [],
   "source": [
    "fig, ax = plt.subplots(figsize=(8, 6))\n",
    "pd.concat([test, out_of_time]).groupby(TIME_COLUMN).apply(lambda x: roc_auc_score(x[TARGET], x[\"challenger_prediction\"])).plot(label=\"Time Robust Forest\", \n",
    "                                                                                                      linestyle=\"dashed\",\n",
    "                                                                                                      color=\"green\", ax=ax)\n",
    "pd.concat([test, out_of_time]).groupby(TIME_COLUMN).apply(lambda x: roc_auc_score(x[TARGET], x[\"benchmark_prediction_opt\"])).plot(label=\"Random Forest\", ax=ax)\n",
    "\n",
    "pd.concat([test, out_of_time]).groupby(TIME_COLUMN).apply(lambda x: roc_auc_score(x[TARGET], x[\"benchmark_prediction_opt_selected_features\"])).plot(label=\"Random Forest w/ TRF feature selection\", ax=ax)\n",
    "\n",
    "\n",
    "ax.xaxis.set_tick_params(labelsize=15)\n",
    "ax.yaxis.set_tick_params(labelsize=15)\n",
    "\n",
    "xmin, xmax, ymin, ymax = plt.axis()\n",
    "plt.vlines(training_end_year + 1, ymin, ymax, linestyle=\"dotted\", color=\"red\", label=\"Holdout start\")\n",
    "plt.ylim([ymin, ymax])\n",
    "plt.legend(fontsize=10, bbox_to_anchor=(0.52, 0.25))\n",
    "plt.ylabel(\"AUC\", fontsize=16)\n",
    "plt.xlabel(\"Year\", fontsize=16)\n",
    "plt.savefig(\"../images/{}_test_holdout_auc_years_square_fs.eps\".format(PREFIX), format=\"eps\")\n",
    "plt.show()"
   ]
  },
  {
   "cell_type": "markdown",
   "metadata": {},
   "source": [
    "## Feature Impact"
   ]
  },
  {
   "cell_type": "code",
   "execution_count": null,
   "metadata": {},
   "outputs": [],
   "source": [
    "from pygam import LinearGAM\n",
    "from sklearn.model_selection import train_test_split\n",
    "from sklearn.metrics import r2_score\n",
    "from sklearn.preprocessing import StandardScaler\n",
    "from matplotlib.collections import PolyCollection as p"
   ]
  },
  {
   "cell_type": "code",
   "execution_count": null,
   "metadata": {},
   "outputs": [],
   "source": [
    "fig, ax = plt.subplots()\n",
    "\n",
    "sns.distplot(out_of_time[\"challenger_prediction\"], label=\"TRF\")\n",
    "sns.distplot(out_of_time[\"benchmark_prediction_opt\"], label=\"RF\")\n",
    "\n",
    "ax.xaxis.set_tick_params(labelsize=12)\n",
    "ax.yaxis.set_tick_params(labelsize=12)\n",
    "\n",
    "plt.legend(fontsize=15, bbox_to_anchor=(1.0, 1.0))\n",
    "plt.ylabel(\"Density\", fontsize=15)\n",
    "plt.xlabel(\"Score\", fontsize=15)\n",
    "\n",
    "__file__ = \"../images/_trf_rf_score_distribution\".format(PREFIX)\n",
    "plt.savefig(__file__+\".jpg\", quality=95)\n",
    "for c in ax.findobj(p):\n",
    "    c.set_zorder(-1)\n",
    "    c.set_rasterized(True)\n",
    "ax.set_rasterization_zorder(0)\n",
    "\n",
    "ax.set_rasterized(True)\n",
    "plt.savefig(__file__+\".eps\")        \n",
    "\n",
    "#plt.savefig(\"../images/kickstarter_trf_rf_score_distribution.eps\", format=\"eps\")\n",
    "plt.show()"
   ]
  },
  {
   "cell_type": "code",
   "execution_count": null,
   "metadata": {},
   "outputs": [],
   "source": [
    "ss = StandardScaler()\n",
    "out_of_time[\"challenger_prediction_norm\"] = ss.fit_transform(out_of_time[[\"challenger_prediction\"]])\n",
    "out_of_time[\"benchmark_prediction_norm\"] = ss.fit_transform(out_of_time[[\"benchmark_prediction_opt\"]])"
   ]
  },
  {
   "cell_type": "code",
   "execution_count": null,
   "metadata": {},
   "outputs": [],
   "source": [
    "sns.distplot(out_of_time[\"challenger_prediction_norm\"])\n",
    "sns.distplot(out_of_time[\"benchmark_prediction_norm\"])"
   ]
  },
  {
   "cell_type": "code",
   "execution_count": null,
   "metadata": {},
   "outputs": [],
   "source": [
    "X_train, X_test, y_train, y_test = train_test_split(out_of_time[features], \n",
    "                                                    out_of_time[[\"challenger_prediction_norm\", \n",
    "                                                                 \"benchmark_prediction_norm\"]],\n",
    "                                                    test_size=0.6,\n",
    "                                                    random_state=42)\n",
    "\n",
    "print(X_train.shape)\n",
    "print(X_test.shape)"
   ]
  },
  {
   "cell_type": "code",
   "execution_count": null,
   "metadata": {},
   "outputs": [],
   "source": [
    "numerical_features = [feature for feature in features if feature not in columns_to_label_encode]\n",
    "numerical_features"
   ]
  },
  {
   "cell_type": "code",
   "execution_count": null,
   "metadata": {},
   "outputs": [],
   "source": [
    "p99 = X_train[numerical_features].quantile(.99)\n",
    "p01 = X_train[numerical_features].quantile(.01)\n",
    "p005 = X_train.quantile(.005)\n",
    "\n",
    "X_train[numerical_features] = X_train[numerical_features].where(\n",
    "    X_train[numerical_features] < p99, other=p99, axis=1)\n",
    "X_test[numerical_features] = X_test[numerical_features].where(\n",
    "    X_test[numerical_features] < p99, other=p99, axis=1)\n",
    "\n",
    "X_train[numerical_features] = X_train[numerical_features].where(\n",
    "    X_train[numerical_features] > p01, other=p01, axis=1)\n",
    "X_test[numerical_features] = X_test[numerical_features].where(\n",
    "    X_test[numerical_features] > p01, other=p01, axis=1)\n",
    "\n",
    "X_train = X_train.fillna(p005)\n",
    "X_test = X_test.fillna(p005)\n"
   ]
  },
  {
   "cell_type": "code",
   "execution_count": null,
   "metadata": {},
   "outputs": [],
   "source": [
    "dtype = [\"numerical\" if feature not in columns_to_label_encode else \"categorical\" for feature in features]\n",
    "\n",
    "gam_challenger = LinearGAM(dtype=dtype).gridsearch(X_train[features].values, y_train[\"challenger_prediction_norm\"].values)\n",
    "gam_benchmark = LinearGAM(dtype=dtype).gridsearch(X_train[features].values, y_train[\"benchmark_prediction_norm\"].values)"
   ]
  },
  {
   "cell_type": "code",
   "execution_count": null,
   "metadata": {},
   "outputs": [],
   "source": [
    "pred_test = gam_challenger.predict(X_test[features])\n",
    "print(\"r2 test (challenger): %f\" %r2_score(y_test[\"challenger_prediction_norm\"], pred_test))\n",
    "\n",
    "pred_test = gam_benchmark.predict(X_test[features])\n",
    "print(\"r2 test (benchmark): %f\" %r2_score(y_test[\"benchmark_prediction_norm\"], pred_test))"
   ]
  },
  {
   "cell_type": "code",
   "execution_count": null,
   "metadata": {},
   "outputs": [],
   "source": [
    "for i, feat in enumerate(numerical_features):\n",
    "    print(feat)\n",
    "    XX = gam_challenger.generate_X_grid(i, n=X_test.shape[0])\n",
    "    #pdb.set_trace()\n",
    "    pdep, confi = gam_challenger.partial_dependence(i, X=XX, width=.95)\n",
    "    fig, ax = plt.subplots(figsize=(10, 6), dpi=150)\n",
    "\n",
    "    plt.plot(XX[:, i], pdep, c=\"green\", label=\"TRF\")\n",
    "    #plt.plot(XX[:, i], confi, c='green', ls='--', label=\"95% interval\")\n",
    "    plt.plot(XX[:, i], confi, c='green', ls='--')\n",
    "    plt.ylabel(\"Score\")\n",
    "    plt.legend()\n",
    "    \n",
    "    ### Benchmark\n",
    "    pdep, confi = gam_benchmark.partial_dependence(i, X=XX, width=.95)\n",
    "    #fig, ax = plt.subplots(figsize=(10, 6), dpi=150)\n",
    "    plt.plot(XX[:, i], pdep, color=\"#4c72b0\", label=\"RF\")\n",
    "    #plt.plot(XX[:, i], confi, c='', ls='--', label=\"95% interval\")\n",
    "    plt.plot(XX[:, i], confi, c='#4c72b0', ls='--')\n",
    "    #plt.title(\"Average impact on the score by different values of the feature {}\".format(feat))    \n",
    "    plt.ylabel(\"Score\", fontsize=15)\n",
    "    plt.legend()\n",
    "    \n",
    "    plt.xlabel(feat, fontsize=15)\n",
    "    \n",
    "    ax.xaxis.set_tick_params(labelsize=12)\n",
    "    ax.yaxis.set_tick_params(labelsize=12)\n",
    "    xmin, xmax, ymin, ymax = plt.axis()\n",
    "    plt.ylim([ymin, ymax])\n",
    "    plt.legend(fontsize=15)\n",
    "    plt.savefig(\"../images/{}_feature_impact_{}.eps\".format(PREFIX, feat), format=\"eps\")\n",
    "    \n",
    "    plt.show()\n",
    "    plt.clf()"
   ]
  },
  {
   "cell_type": "code",
   "execution_count": null,
   "metadata": {},
   "outputs": [],
   "source": [
    "for i, feat in enumerate(features):\n",
    "    if feat in columns_to_label_encode:\n",
    "        print(feat)\n",
    "        try:\n",
    "            mapping = encoder_mappings[feat]\n",
    "            max_cat = np.max(list(mapping.keys()))\n",
    "            if max_cat > 100:\n",
    "                continue\n",
    "            XX = np.copy(X_test)\n",
    "            XX[:, i] = np.random.randint(0, max_cat, size=X_test.shape[0])\n",
    "            pdep, confi = gam_challenger.partial_dependence(i, X=XX, width=.95)\n",
    "            fig, ax = plt.subplots(figsize=(10, 5), dpi=150)\n",
    "            data = pd.DataFrame(np.hstack([XX[:, i].reshape(-1, 1), pdep.reshape(-1, 1), confi]),\n",
    "                                columns=[feat, \"Mean Impact\", \"low\", \"high\"])\n",
    "            data[\"low\"] = np.abs(data[\"low\"] - data[\"Mean Impact\"])\n",
    "            data[\"high\"] = np.abs(data[\"high\"] - data[\"Mean Impact\"])\n",
    "            agg = data.groupby(feat).mean()\n",
    "\n",
    "            impact_plot = plt.bar([i for i in range(len(agg))],\n",
    "                                  agg[\"Mean Impact\"],\n",
    "                                  yerr=agg[[\"low\", \"high\"]].values.transpose(),\n",
    "                                  color=\"#9370DB\",\n",
    "                                  capsize=7)\n",
    "\n",
    "            plt.title(feat, fontsize=15)\n",
    "            plt.xticks([i for i in range(len(list(mapping.keys())))])\n",
    "            ax.set_xticklabels(list(mapping.values()), rotation=90)\n",
    "            plt.hlines(0.0, -1, max_cat, linestyles=\"dashed\")\n",
    "            plt.ylabel(\"Score\", fontsize=15)\n",
    "\n",
    "            ax.xaxis.set_tick_params(labelsize=12)\n",
    "            ax.yaxis.set_tick_params(labelsize=12)\n",
    "            xmin, xmax, ymin, ymax = plt.axis()\n",
    "            plt.ylim([ymin, ymax])\n",
    "            plt.legend(fontsize=15)\n",
    "            plt.savefig(\"../images/{}_feature_impact_cat_{}.eps\".format(PREFIX, feat), format=\"eps\")\n",
    "\n",
    "            plt.show()\n",
    "            plt.clf()\n",
    "        except:\n",
    "            print(\"No plot for {}\".format(feat))\n",
    "plt.show()"
   ]
  },
  {
   "cell_type": "code",
   "execution_count": null,
   "metadata": {},
   "outputs": [],
   "source": [
    "for i, feat in enumerate(features):\n",
    "    if feat in columns_to_label_encode:\n",
    "        print(feat)\n",
    "        mapping = encoder_mappings[feat]\n",
    "        max_cat = np.max(list(mapping.keys()))\n",
    "        if max_cat > 100:\n",
    "            continue\n",
    "        XX = np.copy(X_test)\n",
    "        XX[:, i] = np.random.randint(0, max_cat, size=X_test.shape[0])\n",
    "        ### Challenger\n",
    "        pdep, confi = gam_challenger.partial_dependence(i, X=XX, width=.95)\n",
    "        fig, ax = plt.subplots(figsize=(10, 5), dpi=150)\n",
    "        data = pd.DataFrame(np.hstack([XX[:, i].reshape(-1, 1), pdep.reshape(-1, 1), confi]),\n",
    "                            columns=[feat, \"Mean Impact\", \"low\", \"high\"])\n",
    "        data[\"low\"] = np.abs(data[\"low\"] - data[\"Mean Impact\"])\n",
    "        data[\"high\"] = np.abs(data[\"high\"] - data[\"Mean Impact\"])\n",
    "        data[\"model\"] = \"TRF\"\n",
    "        agg = data.groupby(feat).mean()\n",
    "\n",
    "\n",
    "        ### Benchmark\n",
    "        pdep, confi = gam_benchmark.partial_dependence(i, X=XX, width=.95)\n",
    "        data_benchmark = pd.DataFrame(np.hstack([XX[:, i].reshape(-1, 1), pdep.reshape(-1, 1), confi]),\n",
    "                            columns=[feat, \"Mean Impact\", \"low\", \"high\"])\n",
    "        data_benchmark[\"low\"] = np.abs(data_benchmark[\"low\"] - data_benchmark[\"Mean Impact\"])\n",
    "        data_benchmark[\"high\"] = np.abs(data_benchmark[\"high\"] - data_benchmark[\"Mean Impact\"])\n",
    "        data_benchmark[\"model\"] = \"RF\"\n",
    "        \n",
    "        data = pd.concat([data, data_benchmark])\n",
    "        agg = data.groupby(feat).mean()\n",
    "        \n",
    "        sns.barplot(data=data, x=feat, y=\"Mean Impact\", hue=\"model\")\n",
    "\n",
    "\n",
    "        plt.xticks([i for i in range(len(list(mapping.keys())))])\n",
    "        ax.set_xticklabels(list(mapping.values()), rotation=90)\n",
    "        plt.hlines(0.0, -1, max_cat, linestyles=\"dashed\")\n",
    "        plt.ylabel(\"Score\", fontsize=15)\n",
    "        \n",
    "        ax.xaxis.set_tick_params(labelsize=12)\n",
    "        ax.yaxis.set_tick_params(labelsize=12)\n",
    "        xmin, xmax, ymin, ymax = plt.axis()\n",
    "        plt.ylim([ymin, ymax])\n",
    "        plt.legend(fontsize=15)\n",
    "        plt.xlabel(feat, fontsize=15)\n",
    "        plt.savefig(\"../images/{}_feature_impact_cat_comparison_{}.eps\".format(PREFIX, feat), format=\"eps\")\n",
    "        \n",
    "        plt.show()\n",
    "        plt.clf()"
   ]
  },
  {
   "cell_type": "markdown",
   "metadata": {},
   "source": [
    "## Minimum samples by period effect"
   ]
  },
  {
   "cell_type": "code",
   "execution_count": null,
   "metadata": {},
   "outputs": [],
   "source": [
    "MAX_DEPTH = 8\n",
    "target = TARGET\n",
    "min_sample_periods_values = [1, 5, 10, 20, 50, 100, 250, 500]"
   ]
  },
  {
   "cell_type": "code",
   "execution_count": null,
   "metadata": {},
   "outputs": [],
   "source": [
    "min_sample_knob = {}\n",
    "min_sample_knob[\"challenger\"] = {\"unseen_performance\": [], \"train_performance\": [],\n",
    "                                \"test_performance\": [], \"unseen_performance_by_period\": []}\n",
    "unseen_performance = []\n",
    "train_performance = []\n",
    "test_performance = []\n",
    "unseen_performance_by_period = []\n",
    "\n",
    "for min_sample_periods in min_sample_periods_values:\n",
    "    model_split_time = TimeForestClassifier(time_column=TIME_COLUMN,\n",
    "                                        n_estimators=120,\n",
    "                                        min_sample_periods=min_sample_periods,\n",
    "                                        max_depth=MAX_DEPTH,\n",
    "                                        multi=True)\n",
    "    \n",
    "    model_split_time.fit(train[features + [TIME_COLUMN]], train[target])\n",
    "    out_of_time[\"time_split_prediction\"] = model_split_time.predict_proba(out_of_time[features])[:, 1]\n",
    "    \n",
    "    performance = metrics.roc_auc_score(out_of_time[target], out_of_time[\"time_split_prediction\"])\n",
    "    min_sample_knob[\"challenger\"][\"unseen_performance\"].append(performance)\n",
    "    min_sample_knob[\"challenger\"][\"unseen_performance_by_period\"].append(out_of_time.groupby(TIME_COLUMN).apply(lambda x: roc_auc_score(x[target], x[\"time_split_prediction\"])))\n",
    "\n",
    "    train[\"time_split_prediction\"] = model_split_time.predict(train[features])\n",
    "    min_sample_knob[\"challenger\"][\"train_performance\"].append(metrics.roc_auc_score(train[target], train[\"time_split_prediction\"]))\n",
    "    \n",
    "    test[\"time_split_prediction\"] = model_split_time.predict(test[features])\n",
    "    min_sample_knob[\"challenger\"][\"test_performance\"].append(metrics.roc_auc_score(test[target], test[\"time_split_prediction\"]))"
   ]
  },
  {
   "cell_type": "code",
   "execution_count": null,
   "metadata": {},
   "outputs": [],
   "source": [
    "fig, ax = plt.subplots()\n",
    "plt.plot(min_sample_periods_values, min_sample_knob[\"challenger\"][\"train_performance\"], label=\"Train\")\n",
    "plt.plot(min_sample_periods_values, min_sample_knob[\"challenger\"][\"test_performance\"], label=\"Test\", \n",
    "         color=\"magenta\",\n",
    "         linestyle=\"dotted\")\n",
    "plt.plot(min_sample_periods_values, min_sample_knob[\"challenger\"][\"unseen_performance\"], label=\"Holdout\", \n",
    "                                                         linestyle=\"dashed\",\n",
    "                                                         color=\"green\")\n",
    "\n",
    "#plt.title(\"Holdout AUC by minimum examples by period parameter\", fontsize=15)\n",
    "ax.xaxis.set_tick_params(labelsize=12)\n",
    "ax.yaxis.set_tick_params(labelsize=12)\n",
    "xmin, xmax, ymin, ymax = plt.axis()\n",
    "plt.ylim([ymin, ymax])\n",
    "plt.legend(fontsize=15)\n",
    "plt.ylabel(\"AUC\", fontsize=15)\n",
    "plt.xlabel(\"Minimum examples by period\", fontsize=15)\n",
    "plt.savefig(\"../images/{}_test_min_example_by_period_train_and_holdout_whole.eps\".format(PREFIX), format=\"eps\")\n",
    "plt.show()"
   ]
  },
  {
   "cell_type": "code",
   "execution_count": null,
   "metadata": {},
   "outputs": [],
   "source": [
    "fig, ax = plt.subplots()\n",
    "\n",
    "greens = plt.get_cmap(\"Greens\")\n",
    "gradient = np.linspace(.1, 0.9, len(min_sample_periods_values))\n",
    "for i, experiment in enumerate(min_sample_knob[\"challenger\"][\"unseen_performance_by_period\"]):\n",
    "    experiment.plot(label=min_sample_periods_values[i], color=greens(gradient[i]))\n",
    "\n",
    "out_of_time.groupby(TIME_COLUMN).apply(lambda x: roc_auc_score(x[target], x[\"benchmark_prediction_opt\"])).plot(label=\"Optimal RF benchmark\", \n",
    "                                                                                                 color=\"red\", linestyle=\"dashed\", ax=ax)\n",
    "ax.xaxis.set_tick_params(labelsize=12)\n",
    "ax.yaxis.set_tick_params(labelsize=12)\n",
    "plt.legend(bbox_to_anchor=(1.05, 1.0), fontsize=12, title=\"Minimum examples by period\")\n",
    "plt.ylabel(\"AUC\", fontsize=15)\n",
    "plt.xlabel(\"Year\", fontsize=15)\n",
    "\n",
    "x_labels = np.sort(out_of_time[TIME_COLUMN].unique())\n",
    "plt.xticks(x_labels)\n",
    "\n",
    "plt.savefig(\"../images/{}_holdout_dif_min_samples.eps\".format(PREFIX), format=\"eps\", bbox_inches = \"tight\")\n",
    "plt.show()"
   ]
  },
  {
   "cell_type": "code",
   "execution_count": null,
   "metadata": {},
   "outputs": [],
   "source": [
    "min_sample_knob[\"benchmark\"] = {\"unseen_performance\": [], \"train_performance\": [],\n",
    "                                \"test_performance\": [], \"unseen_performance_by_period\": []}\n",
    "\n",
    "training_segments = train[TIME_COLUMN].nunique()\n",
    "for min_sample_periods in min_sample_periods_values:\n",
    "\n",
    "    model = tuned_rf\n",
    "    model.set_params(min_samples_leaf=training_segments * min_sample_periods)\n",
    "    \n",
    "    \n",
    "    model.fit(train[features],\n",
    "              train[TARGET])\n",
    "     \n",
    "    out_of_time[\"time_split_prediction\"] = model.predict_proba(out_of_time[features])[:, 1]\n",
    "    \n",
    "    performance = metrics.roc_auc_score(out_of_time[target], out_of_time[\"time_split_prediction\"])\n",
    "    min_sample_knob[\"benchmark\"][\"unseen_performance\"].append(performance)\n",
    "    min_sample_knob[\"benchmark\"][\"unseen_performance_by_period\"].append(out_of_time.groupby(TIME_COLUMN).apply(lambda x: roc_auc_score(x[target], x[\"time_split_prediction\"])))\n",
    "\n",
    "    train[\"time_split_prediction\"] = model.predict(train[features])\n",
    "    min_sample_knob[\"benchmark\"][\"train_performance\"].append(metrics.roc_auc_score(train[target], train[\"time_split_prediction\"]))\n",
    "    \n",
    "    test[\"time_split_prediction\"] = model.predict(test[features])\n",
    "    min_sample_knob[\"benchmark\"][\"test_performance\"].append(metrics.roc_auc_score(test[target], test[\"time_split_prediction\"]))"
   ]
  },
  {
   "cell_type": "code",
   "execution_count": null,
   "metadata": {},
   "outputs": [],
   "source": [
    "fig, ax = plt.subplots()\n",
    "\n",
    "blues = plt.get_cmap(\"Blues\")\n",
    "for i, experiment in enumerate(min_sample_knob[\"benchmark\"][\"unseen_performance_by_period\"]):\n",
    "    experiment.plot(label=min_sample_periods_values[i], color=blues(gradient[i]))\n",
    "\n",
    "out_of_time.groupby(TIME_COLUMN).apply(lambda x: roc_auc_score(x[target], x[\"benchmark_prediction_opt\"])).plot(label=\"Optimal RF benchmark\", \n",
    "                                                                                                 color=\"red\", linestyle=\"dashed\", ax=ax)\n",
    "\n",
    "ax.xaxis.set_tick_params(labelsize=12)\n",
    "ax.yaxis.set_tick_params(labelsize=12)\n",
    "plt.legend(bbox_to_anchor=(1.05, 1.0), fontsize=12, title=\"Minimum examples by period\")\n",
    "plt.ylabel(\"AUC\", fontsize=15)\n",
    "plt.xlabel(\"Year\", fontsize=15)\n",
    "\n",
    "x_labels = np.sort(out_of_time[TIME_COLUMN].unique())\n",
    "plt.xticks(x_labels)\n",
    "\n",
    "plt.savefig(\"../images/{}_holdout_dif_min_samples_benchmark.eps\".format(PREFIX), format=\"eps\", bbox_inches = \"tight\")\n",
    "plt.show()"
   ]
  },
  {
   "cell_type": "code",
   "execution_count": null,
   "metadata": {},
   "outputs": [],
   "source": [
    "fig, ax = plt.subplots()\n",
    "for i, experiment in enumerate(min_sample_knob[\"challenger\"][\"unseen_performance_by_period\"]):\n",
    "    experiment.plot(label=min_sample_periods_values[i], color=greens(gradient[i]))\n",
    "    \n",
    "for i, experiment in enumerate(min_sample_knob[\"benchmark\"][\"unseen_performance_by_period\"]):\n",
    "    experiment.plot(label=min_sample_periods_values[i], color=blues(gradient[i]))    \n",
    "\n",
    "ax.xaxis.set_tick_params(labelsize=12)\n",
    "ax.yaxis.set_tick_params(labelsize=12)\n",
    "plt.legend(bbox_to_anchor=(1.05, 1.0), fontsize=12, title=\"Minimum examples by period\")\n",
    "plt.ylabel(\"AUC\", fontsize=15)\n",
    "plt.xlabel(\"Year\", fontsize=15)\n",
    "\n",
    "x_labels = np.sort(out_of_time[TIME_COLUMN].unique())\n",
    "plt.xticks(x_labels)\n",
    "\n",
    "plt.savefig(\"../images/{}_holdout_dif_min_samples_benchmark_challenger.eps\".format(PREFIX), format=\"eps\", bbox_inches = \"tight\")\n",
    "plt.show()"
   ]
  },
  {
   "cell_type": "code",
   "execution_count": null,
   "metadata": {},
   "outputs": [],
   "source": [
    "fig, ax = plt.subplots()\n",
    "plt.plot(min_sample_periods_values, min_sample_knob[\"challenger\"][\"train_performance\"], label=\"TRF Train\",\n",
    "        color=\"#4c72b0\", linestyle=\"dashed\")\n",
    "plt.plot(min_sample_periods_values, min_sample_knob[\"challenger\"][\"test_performance\"], label=\"TRF Test\", \n",
    "         color=\"magenta\",\n",
    "         linestyle=\"dashed\")\n",
    "plt.plot(min_sample_periods_values, min_sample_knob[\"challenger\"][\"unseen_performance\"], label=\"TRF Holdout\", \n",
    "                                                         linestyle=\"dashed\",\n",
    "                                                         color=\"green\")\n",
    "\n",
    "plt.plot(min_sample_periods_values, min_sample_knob[\"benchmark\"][\"train_performance\"], label=\"RF Train\",\n",
    "        color=\"#4c72b0\")\n",
    "plt.plot(min_sample_periods_values, min_sample_knob[\"benchmark\"][\"test_performance\"], label=\"RF Test\", \n",
    "         color=\"magenta\")\n",
    "plt.plot(min_sample_periods_values, min_sample_knob[\"benchmark\"][\"unseen_performance\"], label=\"RF Holdout\", \n",
    "                                                         color=\"green\")\n",
    "\n",
    "#plt.title(\"Holdout AUC by minimum examples by period parameter\", fontsize=15)\n",
    "ax.xaxis.set_tick_params(labelsize=12)\n",
    "ax.yaxis.set_tick_params(labelsize=12)\n",
    "xmin, xmax, ymin, ymax = plt.axis()\n",
    "plt.ylim([ymin, ymax])\n",
    "plt.legend(fontsize=15)\n",
    "plt.ylabel(\"AUC\", fontsize=15)\n",
    "plt.xlabel(\"Minimum examples by period\", fontsize=15)\n",
    "plt.savefig(\"../images/{}_test_min_example_by_period_train_and_holdout_whole_bench_challenger.eps\".format(PREFIX), format=\"eps\")\n",
    "plt.show()"
   ]
  },
  {
   "cell_type": "code",
   "execution_count": null,
   "metadata": {},
   "outputs": [],
   "source": [
    "fig, ax = plt.subplots()\n",
    "\n",
    "plt.plot(min_sample_periods_values, min_sample_knob[\"challenger\"][\"unseen_performance\"], label=\"TRF Holdout\", \n",
    "                                                         linestyle=\"dashed\",\n",
    "                                                         color=\"green\")\n",
    "\n",
    "plt.plot(min_sample_periods_values, min_sample_knob[\"benchmark\"][\"unseen_performance\"], label=\"RF Holdout\", \n",
    "                                                         color=\"green\")\n",
    "\n",
    "#plt.title(\"Holdout AUC by minimum examples by period parameter\", fontsize=15)\n",
    "ax.xaxis.set_tick_params(labelsize=12)\n",
    "ax.yaxis.set_tick_params(labelsize=12)\n",
    "xmin, xmax, ymin, ymax = plt.axis()\n",
    "plt.ylim([ymin, ymax])\n",
    "plt.legend(fontsize=15)\n",
    "plt.ylabel(\"AUC\", fontsize=15)\n",
    "plt.xlabel(\"Minimum examples by period\", fontsize=15)\n",
    "plt.savefig(\"../images/{}_holdout_min_example_by_period_train_and_holdout_whole_bench_challenger.eps\".format(PREFIX), format=\"eps\")\n",
    "plt.show()"
   ]
  },
  {
   "cell_type": "markdown",
   "metadata": {},
   "source": [
    "## Domain classifier"
   ]
  },
  {
   "cell_type": "code",
   "execution_count": null,
   "metadata": {
    "ExecuteTime": {
     "end_time": "2021-04-02T22:07:53.853460Z",
     "start_time": "2021-04-02T22:07:51.540803Z"
    }
   },
   "outputs": [],
   "source": [
    "train[\"domain\"] = 1\n",
    "test[\"domain\"] = 1\n",
    "out_of_time[\"domain\"] = 0"
   ]
  },
  {
   "cell_type": "code",
   "execution_count": null,
   "metadata": {
    "ExecuteTime": {
     "end_time": "2021-04-02T22:08:07.073605Z",
     "start_time": "2021-04-02T22:07:59.614541Z"
    }
   },
   "outputs": [],
   "source": [
    "domain_data = pd.concat([train, test, out_of_time])"
   ]
  },
  {
   "cell_type": "code",
   "execution_count": null,
   "metadata": {
    "ExecuteTime": {
     "end_time": "2021-04-02T22:08:24.870133Z",
     "start_time": "2021-04-02T22:08:15.972350Z"
    }
   },
   "outputs": [],
   "source": [
    "train_domain, test_domain = train_test_split(domain_data, \n",
    "                               test_size=0.2,\n",
    "                               random_state=42)"
   ]
  },
  {
   "cell_type": "code",
   "execution_count": null,
   "metadata": {
    "ExecuteTime": {
     "end_time": "2021-04-02T22:37:20.824417Z",
     "start_time": "2021-04-02T22:09:11.137931Z"
    }
   },
   "outputs": [],
   "source": [
    "clf2 = setup(train_domain[features + [\"domain\"]], target=\"domain\",\n",
    "             session_id=124, \n",
    "             log_experiment=False, \n",
    "             experiment_name=\"shelter_domain\",\n",
    "             silent=True)\n",
    "\n",
    "rf = create_model('rf')\n",
    "tuned_domain_rf = tune_model(rf,\n",
    "                             optimize=\"AUC\",\n",
    "                             fold=5,\n",
    "                             n_iter=50)"
   ]
  },
  {
   "cell_type": "code",
   "execution_count": null,
   "metadata": {
    "ExecuteTime": {
     "end_time": "2021-04-02T22:37:20.843589Z",
     "start_time": "2021-04-02T22:37:20.836135Z"
    }
   },
   "outputs": [],
   "source": [
    "domain_model = tuned_domain_rf"
   ]
  },
  {
   "cell_type": "code",
   "execution_count": null,
   "metadata": {
    "ExecuteTime": {
     "end_time": "2021-04-02T22:38:45.077018Z",
     "start_time": "2021-04-02T22:37:20.855449Z"
    }
   },
   "outputs": [],
   "source": [
    "domain_model.fit(train_domain[features], train_domain[\"domain\"])"
   ]
  },
  {
   "cell_type": "code",
   "execution_count": null,
   "metadata": {
    "ExecuteTime": {
     "end_time": "2021-04-02T22:38:45.314167Z",
     "start_time": "2021-04-02T22:38:45.082144Z"
    }
   },
   "outputs": [],
   "source": [
    "test_domain[\"pred_domain\"] = domain_model.predict_proba(test_domain[features])[:, 1]"
   ]
  },
  {
   "cell_type": "code",
   "execution_count": null,
   "metadata": {
    "ExecuteTime": {
     "end_time": "2021-04-02T22:38:45.346608Z",
     "start_time": "2021-04-02T22:38:45.318204Z"
    }
   },
   "outputs": [],
   "source": [
    "roc_auc_score(test_domain[\"domain\"], test_domain[\"pred_domain\"])"
   ]
  },
  {
   "cell_type": "markdown",
   "metadata": {},
   "source": [
    "## Other optimization design for the RF"
   ]
  },
  {
   "cell_type": "code",
   "execution_count": null,
   "metadata": {},
   "outputs": [],
   "source": [
    "last_time_segment_in_train = np.max(in_time[TIME_COLUMN].unique())\n",
    "last_time_segment_in_train"
   ]
  },
  {
   "cell_type": "code",
   "execution_count": null,
   "metadata": {},
   "outputs": [],
   "source": [
    "posfix = str(last_time_segment_in_train)"
   ]
  },
  {
   "cell_type": "code",
   "execution_count": null,
   "metadata": {},
   "outputs": [],
   "source": [
    "new_train = in_time[in_time[\"Year\"] < last_time_segment_in_train]\n",
    "new_validation = in_time[in_time[\"Year\"] == last_time_segment_in_train]"
   ]
  },
  {
   "cell_type": "code",
   "execution_count": null,
   "metadata": {},
   "outputs": [],
   "source": [
    "clf1 = setup(new_train[features + [TARGET]], target=\"target\",\n",
    "             test_data=new_validation,\n",
    "             session_id=33,\n",
    "             log_experiment=False,\n",
    "             experiment_name=\"{}_opt1\".format(PREFIX),\n",
    "             silent=True)\n",
    "\n",
    "rf = create_model('rf')\n",
    "tuned_rf = tune_model(rf,\n",
    "                     optimize=\"AUC\",\n",
    "                     n_iter=50)"
   ]
  },
  {
   "cell_type": "code",
   "execution_count": null,
   "metadata": {},
   "outputs": [],
   "source": [
    "tuned_rf"
   ]
  },
  {
   "cell_type": "code",
   "execution_count": null,
   "metadata": {},
   "outputs": [],
   "source": [
    "benchmark_model = tuned_rf\n",
    "benchmark_model.fit(train[features], train[TARGET])\n",
    "\n",
    "train[\"benchmark_prediction_opt_{}\".format(posfix)] = benchmark_model.predict_proba(train[features])[:, 1]\n",
    "test[\"benchmark_prediction_opt_{}\".format(posfix)] = benchmark_model.predict_proba(test[features])[:, 1]\n",
    "out_of_time[\"benchmark_prediction_opt_{}\".format(posfix)] = benchmark_model.predict_proba(out_of_time[features])[:, 1]"
   ]
  },
  {
   "cell_type": "code",
   "execution_count": null,
   "metadata": {},
   "outputs": [],
   "source": [
    "new_validation, add_to_train = train_test_split(new_validation, test_size=0.5)\n",
    "\n",
    "new_train = pd.concat([new_train, add_to_train])"
   ]
  },
  {
   "cell_type": "code",
   "execution_count": null,
   "metadata": {},
   "outputs": [],
   "source": [
    "clf1 = setup(new_train[features + [TARGET]], target=\"target\",\n",
    "             test_data=new_validation,\n",
    "             session_id=22,\n",
    "             log_experiment=False,\n",
    "             experiment_name=\"{}_opt2\".format(PREFIX),\n",
    "             silent=True)\n",
    "\n",
    "rf = create_model('rf')\n",
    "tuned_rf = tune_model(rf,\n",
    "                     optimize=\"AUC\",\n",
    "                     n_iter=50)"
   ]
  },
  {
   "cell_type": "code",
   "execution_count": null,
   "metadata": {},
   "outputs": [],
   "source": [
    "benchmark_model = tuned_rf\n",
    "benchmark_model.fit(train[features], train[TARGET])\n",
    "\n",
    "train[\"benchmark_prediction_opt_half_{}\".format(posfix)] = benchmark_model.predict_proba(train[features])[:, 1]\n",
    "test[\"benchmark_prediction_opt_half_{}\".format(posfix)] = benchmark_model.predict_proba(test[features])[:, 1]\n",
    "out_of_time[\"benchmark_prediction_opt_half_{}\".format(posfix)] = benchmark_model.predict_proba(out_of_time[features])[:, 1]"
   ]
  },
  {
   "cell_type": "code",
   "execution_count": null,
   "metadata": {},
   "outputs": [],
   "source": [
    "fig, ax = plt.subplots()\n",
    "pd.concat([test, out_of_time]).groupby(TIME_COLUMN).apply(lambda x: roc_auc_score(x[TARGET], x[\"challenger_prediction\"])).plot(label=\"Time Robust Forest\", \n",
    "                                                                                                      linestyle=\"dashed\",\n",
    "                                                                                                      color=\"green\", ax=ax)\n",
    "\n",
    "pd.concat([test, out_of_time]).groupby(TIME_COLUMN).apply(lambda x: roc_auc_score(x[TARGET], x[\"benchmark_prediction_opt_half_{}\".format(posfix)])).plot(label=\"RF: Half {} in validation\".format(posfix), \n",
    "                                                                                                      #linestyle=\"dashed\",\n",
    "                                                                                                      color=\"purple\", ax=ax)\n",
    "pd.concat([test, out_of_time]).groupby(TIME_COLUMN).apply(lambda x: roc_auc_score(x[TARGET], x[\"benchmark_prediction_opt\"])).plot(label=\"RF: K-fold in the in-time\", ax=ax)\n",
    "pd.concat([test, out_of_time]).groupby(TIME_COLUMN).apply(lambda x: roc_auc_score(x[TARGET], x[\"benchmark_prediction_opt_{}\".format(posfix)])).plot(label=\"RF: Full {} in validation\".format(posfix), ax=ax)\n",
    "\n",
    "ax.xaxis.set_tick_params(labelsize=12)\n",
    "ax.yaxis.set_tick_params(labelsize=12)\n",
    "\n",
    "xmin, xmax, ymin, ymax = plt.axis()\n",
    "plt.vlines(training_end_year + 1, ymin, ymax, linestyle=\"dotted\", color=\"red\", label=\"Holdout start\")\n",
    "plt.ylim([ymin, ymax])\n",
    "plt.legend(fontsize=15, bbox_to_anchor=(1.0, 1.0))\n",
    "plt.ylabel(\"AUC\", fontsize=15)\n",
    "plt.xlabel(\"Year\", fontsize=15)\n",
    "plt.savefig(\"../images/{}_performance_proof.eps\".format(PREFIX), format=\"eps\", bbox_inches = \"tight\")\n",
    "plt.show()\n"
   ]
  }
 ],
 "metadata": {
  "hide_input": false,
  "kernelspec": {
   "display_name": "Python [conda env:.conda-msc]",
   "language": "python",
   "name": "conda-env-.conda-msc-py"
  },
  "language_info": {
   "codemirror_mode": {
    "name": "ipython",
    "version": 3
   },
   "file_extension": ".py",
   "mimetype": "text/x-python",
   "name": "python",
   "nbconvert_exporter": "python",
   "pygments_lexer": "ipython3",
   "version": "3.6.3"
  },
  "toc": {
   "base_numbering": 1,
   "nav_menu": {},
   "number_sections": true,
   "sideBar": true,
   "skip_h1_title": true,
   "title_cell": "Index",
   "title_sidebar": "Contents",
   "toc_cell": true,
   "toc_position": {},
   "toc_section_display": true,
   "toc_window_display": false
  }
 },
 "nbformat": 4,
 "nbformat_minor": 5
}
