{
 "cells": [
  {
   "cell_type": "markdown",
   "id": "occupational-seattle",
   "metadata": {},
   "source": [
    "# Example - Animal Shelter"
   ]
  },
  {
   "cell_type": "markdown",
   "id": "naked-architecture",
   "metadata": {
    "toc": true
   },
   "source": [
    "<h1>Index<span class=\"tocSkip\"></span></h1>\n",
    "<div class=\"toc\"><ul class=\"toc-item\"><li><span><a href=\"#Create-a-target\" data-toc-modified-id=\"Create-a-target-1\"><span class=\"toc-item-num\">1&nbsp;&nbsp;</span>Create a target</a></span></li><li><span><a href=\"#Modeling\" data-toc-modified-id=\"Modeling-2\"><span class=\"toc-item-num\">2&nbsp;&nbsp;</span>Modeling</a></span><ul class=\"toc-item\"><li><span><a href=\"#Data\" data-toc-modified-id=\"Data-2.1\"><span class=\"toc-item-num\">2.1&nbsp;&nbsp;</span>Data</a></span></li></ul></li><li><span><a href=\"#Checking-the-support-in-the-different-environments\" data-toc-modified-id=\"Checking-the-support-in-the-different-environments-3\"><span class=\"toc-item-num\">3&nbsp;&nbsp;</span>Checking the support in the different environments</a></span><ul class=\"toc-item\"><li><span><a href=\"#Benchmark\" data-toc-modified-id=\"Benchmark-3.1\"><span class=\"toc-item-num\">3.1&nbsp;&nbsp;</span>Benchmark</a></span></li></ul></li><li><span><a href=\"#Challenger-model\" data-toc-modified-id=\"Challenger-model-4\"><span class=\"toc-item-num\">4&nbsp;&nbsp;</span>Challenger model</a></span></li><li><span><a href=\"#TRF-as-feature-selection\" data-toc-modified-id=\"TRF-as-feature-selection-5\"><span class=\"toc-item-num\">5&nbsp;&nbsp;</span>TRF as feature selection</a></span></li><li><span><a href=\"#Domain-classifier\" data-toc-modified-id=\"Domain-classifier-6\"><span class=\"toc-item-num\">6&nbsp;&nbsp;</span>Domain classifier</a></span></li></ul></div>"
   ]
  },
  {
   "cell_type": "code",
   "execution_count": 2,
   "id": "common-reference",
   "metadata": {
    "ExecuteTime": {
     "end_time": "2021-06-26T16:52:31.740769Z",
     "start_time": "2021-06-26T16:52:31.736512Z"
    }
   },
   "outputs": [],
   "source": [
    "import pandas as pd\n",
    "import matplotlib.pyplot as plt\n",
    "import numpy as np\n",
    "\n",
    "from sklearn.preprocessing import LabelEncoder\n",
    "from sklearn.tree import DecisionTreeClassifier\n",
    "from sklearn.ensemble import RandomForestClassifier\n",
    "from sklearn.model_selection import train_test_split\n",
    "from sklearn.metrics import roc_auc_score\n",
    "from time_robust_forest.models import TimeForestClassifier\n",
    "from time_robust_forest.functions import check_categoricals_match, check_numerical_match\n",
    "\n",
    "np.random.seed(42)"
   ]
  },
  {
   "cell_type": "code",
   "execution_count": 3,
   "id": "endangered-syria",
   "metadata": {
    "ExecuteTime": {
     "end_time": "2021-06-26T16:52:33.359680Z",
     "start_time": "2021-06-26T16:52:33.356688Z"
    }
   },
   "outputs": [],
   "source": [
    "def set_style():\n",
    "    plt.style.use(['seaborn-white', 'seaborn-paper'])\n",
    "    plt.rcParams['figure.figsize'] = (12, 4)"
   ]
  },
  {
   "cell_type": "code",
   "execution_count": 4,
   "id": "talented-courage",
   "metadata": {
    "ExecuteTime": {
     "end_time": "2021-06-26T16:52:33.784329Z",
     "start_time": "2021-06-26T16:52:33.781776Z"
    }
   },
   "outputs": [],
   "source": [
    "set_style()"
   ]
  },
  {
   "cell_type": "code",
   "execution_count": 5,
   "id": "later-petersburg",
   "metadata": {
    "ExecuteTime": {
     "end_time": "2021-06-26T16:52:34.054791Z",
     "start_time": "2021-06-26T16:52:34.052577Z"
    }
   },
   "outputs": [],
   "source": [
    "DATASETS_PATH = \"~/Documents/datasets/animal_shelter/\""
   ]
  },
  {
   "cell_type": "code",
   "execution_count": 6,
   "id": "raising-economics",
   "metadata": {
    "ExecuteTime": {
     "end_time": "2021-06-26T16:52:35.041247Z",
     "start_time": "2021-06-26T16:52:34.254730Z"
    }
   },
   "outputs": [],
   "source": [
    "intakes = pd.read_csv(DATASETS_PATH + \"Austin_Animal_Center_Intakes.csv\")\n",
    "outcomes = pd.read_csv(DATASETS_PATH + \"Austin_Animal_Center_Outcomes.csv\")"
   ]
  },
  {
   "cell_type": "code",
   "execution_count": 7,
   "id": "focal-campbell",
   "metadata": {
    "ExecuteTime": {
     "end_time": "2021-06-26T16:52:35.048266Z",
     "start_time": "2021-06-26T16:52:35.043194Z"
    }
   },
   "outputs": [
    {
     "data": {
      "text/plain": [
       "(124120, 12)"
      ]
     },
     "execution_count": 7,
     "metadata": {},
     "output_type": "execute_result"
    }
   ],
   "source": [
    "intakes.shape"
   ]
  },
  {
   "cell_type": "code",
   "execution_count": 8,
   "id": "functional-instrument",
   "metadata": {
    "ExecuteTime": {
     "end_time": "2021-06-26T16:52:35.210039Z",
     "start_time": "2021-06-26T16:52:35.051018Z"
    }
   },
   "outputs": [
    {
     "data": {
      "text/plain": [
       "Animal ID           110926\n",
       "Name                 19748\n",
       "DateTime             87660\n",
       "MonthYear            87660\n",
       "Found Location       53703\n",
       "Intake Type              6\n",
       "Intake Condition        10\n",
       "Animal Type              5\n",
       "Sex upon Intake          5\n",
       "Age upon Intake         52\n",
       "Breed                 2629\n",
       "Color                  595\n",
       "dtype: int64"
      ]
     },
     "execution_count": 8,
     "metadata": {},
     "output_type": "execute_result"
    }
   ],
   "source": [
    "intakes.nunique()"
   ]
  },
  {
   "cell_type": "code",
   "execution_count": 9,
   "id": "following-plate",
   "metadata": {
    "ExecuteTime": {
     "end_time": "2021-06-26T16:52:35.217164Z",
     "start_time": "2021-06-26T16:52:35.212054Z"
    }
   },
   "outputs": [
    {
     "data": {
      "text/plain": [
       "Animal ID           object\n",
       "Name                object\n",
       "DateTime            object\n",
       "MonthYear           object\n",
       "Found Location      object\n",
       "Intake Type         object\n",
       "Intake Condition    object\n",
       "Animal Type         object\n",
       "Sex upon Intake     object\n",
       "Age upon Intake     object\n",
       "Breed               object\n",
       "Color               object\n",
       "dtype: object"
      ]
     },
     "execution_count": 9,
     "metadata": {},
     "output_type": "execute_result"
    }
   ],
   "source": [
    "intakes.dtypes"
   ]
  },
  {
   "cell_type": "code",
   "execution_count": 10,
   "id": "extended-toner",
   "metadata": {
    "ExecuteTime": {
     "end_time": "2021-06-26T16:52:35.237698Z",
     "start_time": "2021-06-26T16:52:35.219022Z"
    }
   },
   "outputs": [
    {
     "data": {
      "text/html": [
       "<div>\n",
       "<style scoped>\n",
       "    .dataframe tbody tr th:only-of-type {\n",
       "        vertical-align: middle;\n",
       "    }\n",
       "\n",
       "    .dataframe tbody tr th {\n",
       "        vertical-align: top;\n",
       "    }\n",
       "\n",
       "    .dataframe thead th {\n",
       "        text-align: right;\n",
       "    }\n",
       "</style>\n",
       "<table border=\"1\" class=\"dataframe\">\n",
       "  <thead>\n",
       "    <tr style=\"text-align: right;\">\n",
       "      <th></th>\n",
       "      <th>Animal ID</th>\n",
       "      <th>Name</th>\n",
       "      <th>DateTime</th>\n",
       "      <th>MonthYear</th>\n",
       "      <th>Found Location</th>\n",
       "      <th>Intake Type</th>\n",
       "      <th>Intake Condition</th>\n",
       "      <th>Animal Type</th>\n",
       "      <th>Sex upon Intake</th>\n",
       "      <th>Age upon Intake</th>\n",
       "      <th>Breed</th>\n",
       "      <th>Color</th>\n",
       "    </tr>\n",
       "  </thead>\n",
       "  <tbody>\n",
       "    <tr>\n",
       "      <th>0</th>\n",
       "      <td>A786884</td>\n",
       "      <td>*Brock</td>\n",
       "      <td>01/03/2019 04:19:00 PM</td>\n",
       "      <td>01/03/2019 04:19:00 PM</td>\n",
       "      <td>2501 Magin Meadow Dr in Austin (TX)</td>\n",
       "      <td>Stray</td>\n",
       "      <td>Normal</td>\n",
       "      <td>Dog</td>\n",
       "      <td>Neutered Male</td>\n",
       "      <td>2 years</td>\n",
       "      <td>Beagle Mix</td>\n",
       "      <td>Tricolor</td>\n",
       "    </tr>\n",
       "    <tr>\n",
       "      <th>1</th>\n",
       "      <td>A706918</td>\n",
       "      <td>Belle</td>\n",
       "      <td>07/05/2015 12:59:00 PM</td>\n",
       "      <td>07/05/2015 12:59:00 PM</td>\n",
       "      <td>9409 Bluegrass Dr in Austin (TX)</td>\n",
       "      <td>Stray</td>\n",
       "      <td>Normal</td>\n",
       "      <td>Dog</td>\n",
       "      <td>Spayed Female</td>\n",
       "      <td>8 years</td>\n",
       "      <td>English Springer Spaniel</td>\n",
       "      <td>White/Liver</td>\n",
       "    </tr>\n",
       "    <tr>\n",
       "      <th>2</th>\n",
       "      <td>A724273</td>\n",
       "      <td>Runster</td>\n",
       "      <td>04/14/2016 06:43:00 PM</td>\n",
       "      <td>04/14/2016 06:43:00 PM</td>\n",
       "      <td>2818 Palomino Trail in Austin (TX)</td>\n",
       "      <td>Stray</td>\n",
       "      <td>Normal</td>\n",
       "      <td>Dog</td>\n",
       "      <td>Intact Male</td>\n",
       "      <td>11 months</td>\n",
       "      <td>Basenji Mix</td>\n",
       "      <td>Sable/White</td>\n",
       "    </tr>\n",
       "    <tr>\n",
       "      <th>3</th>\n",
       "      <td>A665644</td>\n",
       "      <td>NaN</td>\n",
       "      <td>10/21/2013 07:59:00 AM</td>\n",
       "      <td>10/21/2013 07:59:00 AM</td>\n",
       "      <td>Austin (TX)</td>\n",
       "      <td>Stray</td>\n",
       "      <td>Sick</td>\n",
       "      <td>Cat</td>\n",
       "      <td>Intact Female</td>\n",
       "      <td>4 weeks</td>\n",
       "      <td>Domestic Shorthair Mix</td>\n",
       "      <td>Calico</td>\n",
       "    </tr>\n",
       "    <tr>\n",
       "      <th>4</th>\n",
       "      <td>A682524</td>\n",
       "      <td>Rio</td>\n",
       "      <td>06/29/2014 10:38:00 AM</td>\n",
       "      <td>06/29/2014 10:38:00 AM</td>\n",
       "      <td>800 Grove Blvd in Austin (TX)</td>\n",
       "      <td>Stray</td>\n",
       "      <td>Normal</td>\n",
       "      <td>Dog</td>\n",
       "      <td>Neutered Male</td>\n",
       "      <td>4 years</td>\n",
       "      <td>Doberman Pinsch/Australian Cattle Dog</td>\n",
       "      <td>Tan/Gray</td>\n",
       "    </tr>\n",
       "  </tbody>\n",
       "</table>\n",
       "</div>"
      ],
      "text/plain": [
       "  Animal ID     Name                DateTime               MonthYear  \\\n",
       "0   A786884   *Brock  01/03/2019 04:19:00 PM  01/03/2019 04:19:00 PM   \n",
       "1   A706918    Belle  07/05/2015 12:59:00 PM  07/05/2015 12:59:00 PM   \n",
       "2   A724273  Runster  04/14/2016 06:43:00 PM  04/14/2016 06:43:00 PM   \n",
       "3   A665644      NaN  10/21/2013 07:59:00 AM  10/21/2013 07:59:00 AM   \n",
       "4   A682524      Rio  06/29/2014 10:38:00 AM  06/29/2014 10:38:00 AM   \n",
       "\n",
       "                        Found Location Intake Type Intake Condition  \\\n",
       "0  2501 Magin Meadow Dr in Austin (TX)       Stray           Normal   \n",
       "1     9409 Bluegrass Dr in Austin (TX)       Stray           Normal   \n",
       "2   2818 Palomino Trail in Austin (TX)       Stray           Normal   \n",
       "3                          Austin (TX)       Stray             Sick   \n",
       "4        800 Grove Blvd in Austin (TX)       Stray           Normal   \n",
       "\n",
       "  Animal Type Sex upon Intake Age upon Intake  \\\n",
       "0         Dog   Neutered Male         2 years   \n",
       "1         Dog   Spayed Female         8 years   \n",
       "2         Dog     Intact Male       11 months   \n",
       "3         Cat   Intact Female         4 weeks   \n",
       "4         Dog   Neutered Male         4 years   \n",
       "\n",
       "                                   Breed        Color  \n",
       "0                             Beagle Mix     Tricolor  \n",
       "1               English Springer Spaniel  White/Liver  \n",
       "2                            Basenji Mix  Sable/White  \n",
       "3                 Domestic Shorthair Mix       Calico  \n",
       "4  Doberman Pinsch/Australian Cattle Dog     Tan/Gray  "
      ]
     },
     "execution_count": 10,
     "metadata": {},
     "output_type": "execute_result"
    }
   ],
   "source": [
    "intakes.head()"
   ]
  },
  {
   "cell_type": "code",
   "execution_count": 11,
   "id": "vital-influence",
   "metadata": {
    "ExecuteTime": {
     "end_time": "2021-06-26T16:52:35.324368Z",
     "start_time": "2021-06-26T16:52:35.241089Z"
    }
   },
   "outputs": [],
   "source": [
    "intakes[\"Age upon Intake\"] = intakes[\"Age upon Intake\"].apply(lambda x: float(x.split(\" \")[0]) / 12.0 if \"month\" in x else float(x.split(\" \")[0]))"
   ]
  },
  {
   "cell_type": "code",
   "execution_count": 12,
   "id": "constant-flashing",
   "metadata": {
    "ExecuteTime": {
     "end_time": "2021-06-26T16:52:35.359343Z",
     "start_time": "2021-06-26T16:52:35.340802Z"
    }
   },
   "outputs": [
    {
     "data": {
      "text/html": [
       "<div>\n",
       "<style scoped>\n",
       "    .dataframe tbody tr th:only-of-type {\n",
       "        vertical-align: middle;\n",
       "    }\n",
       "\n",
       "    .dataframe tbody tr th {\n",
       "        vertical-align: top;\n",
       "    }\n",
       "\n",
       "    .dataframe thead th {\n",
       "        text-align: right;\n",
       "    }\n",
       "</style>\n",
       "<table border=\"1\" class=\"dataframe\">\n",
       "  <thead>\n",
       "    <tr style=\"text-align: right;\">\n",
       "      <th></th>\n",
       "      <th>Animal ID</th>\n",
       "      <th>Name</th>\n",
       "      <th>DateTime</th>\n",
       "      <th>MonthYear</th>\n",
       "      <th>Date of Birth</th>\n",
       "      <th>Outcome Type</th>\n",
       "      <th>Outcome Subtype</th>\n",
       "      <th>Animal Type</th>\n",
       "      <th>Sex upon Outcome</th>\n",
       "      <th>Age upon Outcome</th>\n",
       "      <th>Breed</th>\n",
       "      <th>Color</th>\n",
       "    </tr>\n",
       "  </thead>\n",
       "  <tbody>\n",
       "    <tr>\n",
       "      <th>0</th>\n",
       "      <td>A794011</td>\n",
       "      <td>Chunk</td>\n",
       "      <td>05/08/2019 06:20:00 PM</td>\n",
       "      <td>05/08/2019 06:20:00 PM</td>\n",
       "      <td>05/02/2017</td>\n",
       "      <td>Rto-Adopt</td>\n",
       "      <td>NaN</td>\n",
       "      <td>Cat</td>\n",
       "      <td>Neutered Male</td>\n",
       "      <td>2 years</td>\n",
       "      <td>Domestic Shorthair Mix</td>\n",
       "      <td>Brown Tabby/White</td>\n",
       "    </tr>\n",
       "    <tr>\n",
       "      <th>1</th>\n",
       "      <td>A776359</td>\n",
       "      <td>Gizmo</td>\n",
       "      <td>07/18/2018 04:02:00 PM</td>\n",
       "      <td>07/18/2018 04:02:00 PM</td>\n",
       "      <td>07/12/2017</td>\n",
       "      <td>Adoption</td>\n",
       "      <td>NaN</td>\n",
       "      <td>Dog</td>\n",
       "      <td>Neutered Male</td>\n",
       "      <td>1 year</td>\n",
       "      <td>Chihuahua Shorthair Mix</td>\n",
       "      <td>White/Brown</td>\n",
       "    </tr>\n",
       "    <tr>\n",
       "      <th>2</th>\n",
       "      <td>A821648</td>\n",
       "      <td>NaN</td>\n",
       "      <td>08/16/2020 11:38:00 AM</td>\n",
       "      <td>08/16/2020 11:38:00 AM</td>\n",
       "      <td>08/16/2019</td>\n",
       "      <td>Euthanasia</td>\n",
       "      <td>NaN</td>\n",
       "      <td>Other</td>\n",
       "      <td>Unknown</td>\n",
       "      <td>1 year</td>\n",
       "      <td>Raccoon</td>\n",
       "      <td>Gray</td>\n",
       "    </tr>\n",
       "    <tr>\n",
       "      <th>3</th>\n",
       "      <td>A720371</td>\n",
       "      <td>Moose</td>\n",
       "      <td>02/13/2016 05:59:00 PM</td>\n",
       "      <td>02/13/2016 05:59:00 PM</td>\n",
       "      <td>10/08/2015</td>\n",
       "      <td>Adoption</td>\n",
       "      <td>NaN</td>\n",
       "      <td>Dog</td>\n",
       "      <td>Neutered Male</td>\n",
       "      <td>4 months</td>\n",
       "      <td>Anatol Shepherd/Labrador Retriever</td>\n",
       "      <td>Buff</td>\n",
       "    </tr>\n",
       "    <tr>\n",
       "      <th>4</th>\n",
       "      <td>A674754</td>\n",
       "      <td>NaN</td>\n",
       "      <td>03/18/2014 11:47:00 AM</td>\n",
       "      <td>03/18/2014 11:47:00 AM</td>\n",
       "      <td>03/12/2014</td>\n",
       "      <td>Transfer</td>\n",
       "      <td>Partner</td>\n",
       "      <td>Cat</td>\n",
       "      <td>Intact Male</td>\n",
       "      <td>6 days</td>\n",
       "      <td>Domestic Shorthair Mix</td>\n",
       "      <td>Orange Tabby</td>\n",
       "    </tr>\n",
       "    <tr>\n",
       "      <th>...</th>\n",
       "      <td>...</td>\n",
       "      <td>...</td>\n",
       "      <td>...</td>\n",
       "      <td>...</td>\n",
       "      <td>...</td>\n",
       "      <td>...</td>\n",
       "      <td>...</td>\n",
       "      <td>...</td>\n",
       "      <td>...</td>\n",
       "      <td>...</td>\n",
       "      <td>...</td>\n",
       "      <td>...</td>\n",
       "    </tr>\n",
       "    <tr>\n",
       "      <th>124486</th>\n",
       "      <td>A828810</td>\n",
       "      <td>*Rory</td>\n",
       "      <td>03/03/2021 04:20:00 PM</td>\n",
       "      <td>03/03/2021 04:20:00 PM</td>\n",
       "      <td>03/26/2020</td>\n",
       "      <td>Adoption</td>\n",
       "      <td>NaN</td>\n",
       "      <td>Dog</td>\n",
       "      <td>Spayed Female</td>\n",
       "      <td>11 months</td>\n",
       "      <td>Chihuahua Shorthair/American Staffordshire Ter...</td>\n",
       "      <td>Brown/Tan</td>\n",
       "    </tr>\n",
       "    <tr>\n",
       "      <th>124487</th>\n",
       "      <td>A791377</td>\n",
       "      <td>Bolt</td>\n",
       "      <td>12/28/2020 03:49:00 PM</td>\n",
       "      <td>12/28/2020 03:49:00 PM</td>\n",
       "      <td>01/14/2019</td>\n",
       "      <td>Return to Owner</td>\n",
       "      <td>NaN</td>\n",
       "      <td>Dog</td>\n",
       "      <td>Neutered Male</td>\n",
       "      <td>1 year</td>\n",
       "      <td>Siberian Husky Mix</td>\n",
       "      <td>White</td>\n",
       "    </tr>\n",
       "    <tr>\n",
       "      <th>124488</th>\n",
       "      <td>A829611</td>\n",
       "      <td>Chief</td>\n",
       "      <td>03/03/2021 04:59:00 PM</td>\n",
       "      <td>03/03/2021 04:59:00 PM</td>\n",
       "      <td>02/17/2012</td>\n",
       "      <td>Rto-Adopt</td>\n",
       "      <td>NaN</td>\n",
       "      <td>Cat</td>\n",
       "      <td>Neutered Male</td>\n",
       "      <td>9 years</td>\n",
       "      <td>Domestic Shorthair</td>\n",
       "      <td>Orange Tabby</td>\n",
       "    </tr>\n",
       "    <tr>\n",
       "      <th>124489</th>\n",
       "      <td>A829964</td>\n",
       "      <td>NaN</td>\n",
       "      <td>03/03/2021 05:57:00 PM</td>\n",
       "      <td>03/03/2021 05:57:00 PM</td>\n",
       "      <td>11/27/2020</td>\n",
       "      <td>Adoption</td>\n",
       "      <td>NaN</td>\n",
       "      <td>Dog</td>\n",
       "      <td>Neutered Male</td>\n",
       "      <td>3 months</td>\n",
       "      <td>Labrador Retriever</td>\n",
       "      <td>Cream</td>\n",
       "    </tr>\n",
       "    <tr>\n",
       "      <th>124490</th>\n",
       "      <td>A828158</td>\n",
       "      <td>Odin</td>\n",
       "      <td>03/03/2021 05:19:00 PM</td>\n",
       "      <td>03/03/2021 05:19:00 PM</td>\n",
       "      <td>03/09/2020</td>\n",
       "      <td>Adoption</td>\n",
       "      <td>NaN</td>\n",
       "      <td>Dog</td>\n",
       "      <td>Neutered Male</td>\n",
       "      <td>11 months</td>\n",
       "      <td>Rottweiler Mix</td>\n",
       "      <td>Black/Tan</td>\n",
       "    </tr>\n",
       "  </tbody>\n",
       "</table>\n",
       "<p>124491 rows × 12 columns</p>\n",
       "</div>"
      ],
      "text/plain": [
       "       Animal ID   Name                DateTime               MonthYear  \\\n",
       "0        A794011  Chunk  05/08/2019 06:20:00 PM  05/08/2019 06:20:00 PM   \n",
       "1        A776359  Gizmo  07/18/2018 04:02:00 PM  07/18/2018 04:02:00 PM   \n",
       "2        A821648    NaN  08/16/2020 11:38:00 AM  08/16/2020 11:38:00 AM   \n",
       "3        A720371  Moose  02/13/2016 05:59:00 PM  02/13/2016 05:59:00 PM   \n",
       "4        A674754    NaN  03/18/2014 11:47:00 AM  03/18/2014 11:47:00 AM   \n",
       "...          ...    ...                     ...                     ...   \n",
       "124486   A828810  *Rory  03/03/2021 04:20:00 PM  03/03/2021 04:20:00 PM   \n",
       "124487   A791377   Bolt  12/28/2020 03:49:00 PM  12/28/2020 03:49:00 PM   \n",
       "124488   A829611  Chief  03/03/2021 04:59:00 PM  03/03/2021 04:59:00 PM   \n",
       "124489   A829964    NaN  03/03/2021 05:57:00 PM  03/03/2021 05:57:00 PM   \n",
       "124490   A828158   Odin  03/03/2021 05:19:00 PM  03/03/2021 05:19:00 PM   \n",
       "\n",
       "       Date of Birth     Outcome Type Outcome Subtype Animal Type  \\\n",
       "0         05/02/2017        Rto-Adopt             NaN         Cat   \n",
       "1         07/12/2017         Adoption             NaN         Dog   \n",
       "2         08/16/2019       Euthanasia             NaN       Other   \n",
       "3         10/08/2015         Adoption             NaN         Dog   \n",
       "4         03/12/2014         Transfer         Partner         Cat   \n",
       "...              ...              ...             ...         ...   \n",
       "124486    03/26/2020         Adoption             NaN         Dog   \n",
       "124487    01/14/2019  Return to Owner             NaN         Dog   \n",
       "124488    02/17/2012        Rto-Adopt             NaN         Cat   \n",
       "124489    11/27/2020         Adoption             NaN         Dog   \n",
       "124490    03/09/2020         Adoption             NaN         Dog   \n",
       "\n",
       "       Sex upon Outcome Age upon Outcome  \\\n",
       "0         Neutered Male          2 years   \n",
       "1         Neutered Male           1 year   \n",
       "2               Unknown           1 year   \n",
       "3         Neutered Male         4 months   \n",
       "4           Intact Male           6 days   \n",
       "...                 ...              ...   \n",
       "124486    Spayed Female        11 months   \n",
       "124487    Neutered Male           1 year   \n",
       "124488    Neutered Male          9 years   \n",
       "124489    Neutered Male         3 months   \n",
       "124490    Neutered Male        11 months   \n",
       "\n",
       "                                                    Breed              Color  \n",
       "0                                  Domestic Shorthair Mix  Brown Tabby/White  \n",
       "1                                 Chihuahua Shorthair Mix        White/Brown  \n",
       "2                                                 Raccoon               Gray  \n",
       "3                      Anatol Shepherd/Labrador Retriever               Buff  \n",
       "4                                  Domestic Shorthair Mix       Orange Tabby  \n",
       "...                                                   ...                ...  \n",
       "124486  Chihuahua Shorthair/American Staffordshire Ter...          Brown/Tan  \n",
       "124487                                 Siberian Husky Mix              White  \n",
       "124488                                 Domestic Shorthair       Orange Tabby  \n",
       "124489                                 Labrador Retriever              Cream  \n",
       "124490                                     Rottweiler Mix          Black/Tan  \n",
       "\n",
       "[124491 rows x 12 columns]"
      ]
     },
     "execution_count": 12,
     "metadata": {},
     "output_type": "execute_result"
    }
   ],
   "source": [
    "outcomes"
   ]
  },
  {
   "cell_type": "code",
   "execution_count": 13,
   "id": "hazardous-census",
   "metadata": {
    "ExecuteTime": {
     "end_time": "2021-06-26T16:52:35.443911Z",
     "start_time": "2021-06-26T16:52:35.440644Z"
    }
   },
   "outputs": [],
   "source": [
    "outcomes.rename(columns={\"DateTime\": \"Outcome DateTime\", \"Outcome Type\": \"Outcome\"},\n",
    "                inplace=True)"
   ]
  },
  {
   "cell_type": "markdown",
   "id": "excessive-belly",
   "metadata": {},
   "source": [
    "## Create a target"
   ]
  },
  {
   "cell_type": "markdown",
   "id": "vital-gather",
   "metadata": {},
   "source": [
    "Let's create if the animal was adopted in the following 6 months."
   ]
  },
  {
   "cell_type": "code",
   "execution_count": 14,
   "id": "cardiac-halifax",
   "metadata": {
    "ExecuteTime": {
     "end_time": "2021-06-26T16:52:35.927768Z",
     "start_time": "2021-06-26T16:52:35.742540Z"
    }
   },
   "outputs": [],
   "source": [
    "data = intakes.merge(outcomes[[\"Animal ID\", \"Outcome DateTime\", \"Outcome\"]], on=\"Animal ID\")"
   ]
  },
  {
   "cell_type": "code",
   "execution_count": 15,
   "id": "exceptional-robertson",
   "metadata": {
    "ExecuteTime": {
     "end_time": "2021-06-26T16:52:35.947808Z",
     "start_time": "2021-06-26T16:52:35.929804Z"
    }
   },
   "outputs": [
    {
     "data": {
      "text/html": [
       "<div>\n",
       "<style scoped>\n",
       "    .dataframe tbody tr th:only-of-type {\n",
       "        vertical-align: middle;\n",
       "    }\n",
       "\n",
       "    .dataframe tbody tr th {\n",
       "        vertical-align: top;\n",
       "    }\n",
       "\n",
       "    .dataframe thead th {\n",
       "        text-align: right;\n",
       "    }\n",
       "</style>\n",
       "<table border=\"1\" class=\"dataframe\">\n",
       "  <thead>\n",
       "    <tr style=\"text-align: right;\">\n",
       "      <th></th>\n",
       "      <th>Animal ID</th>\n",
       "      <th>Name</th>\n",
       "      <th>DateTime</th>\n",
       "      <th>MonthYear</th>\n",
       "      <th>Found Location</th>\n",
       "      <th>Intake Type</th>\n",
       "      <th>Intake Condition</th>\n",
       "      <th>Animal Type</th>\n",
       "      <th>Sex upon Intake</th>\n",
       "      <th>Age upon Intake</th>\n",
       "      <th>Breed</th>\n",
       "      <th>Color</th>\n",
       "      <th>Outcome DateTime</th>\n",
       "      <th>Outcome</th>\n",
       "    </tr>\n",
       "  </thead>\n",
       "  <tbody>\n",
       "    <tr>\n",
       "      <th>0</th>\n",
       "      <td>A786884</td>\n",
       "      <td>*Brock</td>\n",
       "      <td>01/03/2019 04:19:00 PM</td>\n",
       "      <td>01/03/2019 04:19:00 PM</td>\n",
       "      <td>2501 Magin Meadow Dr in Austin (TX)</td>\n",
       "      <td>Stray</td>\n",
       "      <td>Normal</td>\n",
       "      <td>Dog</td>\n",
       "      <td>Neutered Male</td>\n",
       "      <td>2.000000</td>\n",
       "      <td>Beagle Mix</td>\n",
       "      <td>Tricolor</td>\n",
       "      <td>01/08/2019 03:11:00 PM</td>\n",
       "      <td>Transfer</td>\n",
       "    </tr>\n",
       "    <tr>\n",
       "      <th>1</th>\n",
       "      <td>A706918</td>\n",
       "      <td>Belle</td>\n",
       "      <td>07/05/2015 12:59:00 PM</td>\n",
       "      <td>07/05/2015 12:59:00 PM</td>\n",
       "      <td>9409 Bluegrass Dr in Austin (TX)</td>\n",
       "      <td>Stray</td>\n",
       "      <td>Normal</td>\n",
       "      <td>Dog</td>\n",
       "      <td>Spayed Female</td>\n",
       "      <td>8.000000</td>\n",
       "      <td>English Springer Spaniel</td>\n",
       "      <td>White/Liver</td>\n",
       "      <td>07/05/2015 03:13:00 PM</td>\n",
       "      <td>Return to Owner</td>\n",
       "    </tr>\n",
       "    <tr>\n",
       "      <th>2</th>\n",
       "      <td>A724273</td>\n",
       "      <td>Runster</td>\n",
       "      <td>04/14/2016 06:43:00 PM</td>\n",
       "      <td>04/14/2016 06:43:00 PM</td>\n",
       "      <td>2818 Palomino Trail in Austin (TX)</td>\n",
       "      <td>Stray</td>\n",
       "      <td>Normal</td>\n",
       "      <td>Dog</td>\n",
       "      <td>Intact Male</td>\n",
       "      <td>0.916667</td>\n",
       "      <td>Basenji Mix</td>\n",
       "      <td>Sable/White</td>\n",
       "      <td>04/21/2016 05:17:00 PM</td>\n",
       "      <td>Return to Owner</td>\n",
       "    </tr>\n",
       "    <tr>\n",
       "      <th>3</th>\n",
       "      <td>A665644</td>\n",
       "      <td>NaN</td>\n",
       "      <td>10/21/2013 07:59:00 AM</td>\n",
       "      <td>10/21/2013 07:59:00 AM</td>\n",
       "      <td>Austin (TX)</td>\n",
       "      <td>Stray</td>\n",
       "      <td>Sick</td>\n",
       "      <td>Cat</td>\n",
       "      <td>Intact Female</td>\n",
       "      <td>4.000000</td>\n",
       "      <td>Domestic Shorthair Mix</td>\n",
       "      <td>Calico</td>\n",
       "      <td>10/21/2013 11:39:00 AM</td>\n",
       "      <td>Transfer</td>\n",
       "    </tr>\n",
       "    <tr>\n",
       "      <th>4</th>\n",
       "      <td>A682524</td>\n",
       "      <td>Rio</td>\n",
       "      <td>06/29/2014 10:38:00 AM</td>\n",
       "      <td>06/29/2014 10:38:00 AM</td>\n",
       "      <td>800 Grove Blvd in Austin (TX)</td>\n",
       "      <td>Stray</td>\n",
       "      <td>Normal</td>\n",
       "      <td>Dog</td>\n",
       "      <td>Neutered Male</td>\n",
       "      <td>4.000000</td>\n",
       "      <td>Doberman Pinsch/Australian Cattle Dog</td>\n",
       "      <td>Tan/Gray</td>\n",
       "      <td>07/02/2014 02:16:00 PM</td>\n",
       "      <td>Return to Owner</td>\n",
       "    </tr>\n",
       "  </tbody>\n",
       "</table>\n",
       "</div>"
      ],
      "text/plain": [
       "  Animal ID     Name                DateTime               MonthYear  \\\n",
       "0   A786884   *Brock  01/03/2019 04:19:00 PM  01/03/2019 04:19:00 PM   \n",
       "1   A706918    Belle  07/05/2015 12:59:00 PM  07/05/2015 12:59:00 PM   \n",
       "2   A724273  Runster  04/14/2016 06:43:00 PM  04/14/2016 06:43:00 PM   \n",
       "3   A665644      NaN  10/21/2013 07:59:00 AM  10/21/2013 07:59:00 AM   \n",
       "4   A682524      Rio  06/29/2014 10:38:00 AM  06/29/2014 10:38:00 AM   \n",
       "\n",
       "                        Found Location Intake Type Intake Condition  \\\n",
       "0  2501 Magin Meadow Dr in Austin (TX)       Stray           Normal   \n",
       "1     9409 Bluegrass Dr in Austin (TX)       Stray           Normal   \n",
       "2   2818 Palomino Trail in Austin (TX)       Stray           Normal   \n",
       "3                          Austin (TX)       Stray             Sick   \n",
       "4        800 Grove Blvd in Austin (TX)       Stray           Normal   \n",
       "\n",
       "  Animal Type Sex upon Intake  Age upon Intake  \\\n",
       "0         Dog   Neutered Male         2.000000   \n",
       "1         Dog   Spayed Female         8.000000   \n",
       "2         Dog     Intact Male         0.916667   \n",
       "3         Cat   Intact Female         4.000000   \n",
       "4         Dog   Neutered Male         4.000000   \n",
       "\n",
       "                                   Breed        Color        Outcome DateTime  \\\n",
       "0                             Beagle Mix     Tricolor  01/08/2019 03:11:00 PM   \n",
       "1               English Springer Spaniel  White/Liver  07/05/2015 03:13:00 PM   \n",
       "2                            Basenji Mix  Sable/White  04/21/2016 05:17:00 PM   \n",
       "3                 Domestic Shorthair Mix       Calico  10/21/2013 11:39:00 AM   \n",
       "4  Doberman Pinsch/Australian Cattle Dog     Tan/Gray  07/02/2014 02:16:00 PM   \n",
       "\n",
       "           Outcome  \n",
       "0         Transfer  \n",
       "1  Return to Owner  \n",
       "2  Return to Owner  \n",
       "3         Transfer  \n",
       "4  Return to Owner  "
      ]
     },
     "execution_count": 15,
     "metadata": {},
     "output_type": "execute_result"
    }
   ],
   "source": [
    "data.head()"
   ]
  },
  {
   "cell_type": "code",
   "execution_count": 16,
   "id": "entire-first",
   "metadata": {
    "ExecuteTime": {
     "end_time": "2021-06-26T16:52:53.374776Z",
     "start_time": "2021-06-26T16:52:35.950369Z"
    }
   },
   "outputs": [
    {
     "data": {
      "text/plain": [
       "0          4\n",
       "1          0\n",
       "2          6\n",
       "3          0\n",
       "4          3\n",
       "          ..\n",
       "160423     0\n",
       "160424     0\n",
       "160425     1\n",
       "160426     6\n",
       "160427    53\n",
       "Name: time_until_adoption, Length: 160428, dtype: int64"
      ]
     },
     "execution_count": 16,
     "metadata": {},
     "output_type": "execute_result"
    }
   ],
   "source": [
    "data[\"time_until_adoption\"] = (pd.to_datetime(data[\"Outcome DateTime\"]) - pd.to_datetime(data[\"DateTime\"])).dt.days\n",
    "data[\"time_until_adoption\"]"
   ]
  },
  {
   "cell_type": "code",
   "execution_count": 17,
   "id": "rising-actor",
   "metadata": {
    "ExecuteTime": {
     "end_time": "2021-06-26T16:52:53.387223Z",
     "start_time": "2021-06-26T16:52:53.376640Z"
    }
   },
   "outputs": [
    {
     "data": {
      "text/plain": [
       "count    160428.000000\n",
       "mean         17.239223\n",
       "std         248.480625\n",
       "min       -2583.000000\n",
       "25%           0.000000\n",
       "50%           5.000000\n",
       "75%          24.000000\n",
       "max        2553.000000\n",
       "Name: time_until_adoption, dtype: float64"
      ]
     },
     "execution_count": 17,
     "metadata": {},
     "output_type": "execute_result"
    }
   ],
   "source": [
    "data[\"time_until_adoption\"].describe()"
   ]
  },
  {
   "cell_type": "code",
   "execution_count": 18,
   "id": "inclusive-intermediate",
   "metadata": {
    "ExecuteTime": {
     "end_time": "2021-06-26T16:52:53.402762Z",
     "start_time": "2021-06-26T16:52:53.389701Z"
    }
   },
   "outputs": [
    {
     "data": {
      "text/plain": [
       "array(['Transfer', 'Return to Owner', 'Adoption', 'Euthanasia',\n",
       "       'Disposal', 'Died', 'Rto-Adopt', 'Missing', nan, 'Relocate'],\n",
       "      dtype=object)"
      ]
     },
     "execution_count": 18,
     "metadata": {},
     "output_type": "execute_result"
    }
   ],
   "source": [
    "data[\"Outcome\"].unique()"
   ]
  },
  {
   "cell_type": "code",
   "execution_count": 19,
   "id": "computational-certification",
   "metadata": {
    "ExecuteTime": {
     "end_time": "2021-06-26T16:52:53.430242Z",
     "start_time": "2021-06-26T16:52:53.405922Z"
    }
   },
   "outputs": [],
   "source": [
    "data[\"target\"] = (data[\"time_until_adoption\"] < 30) & (data[\"Outcome\"] == \"Adoption\")"
   ]
  },
  {
   "cell_type": "code",
   "execution_count": 20,
   "id": "broadband-leisure",
   "metadata": {
    "ExecuteTime": {
     "end_time": "2021-06-26T16:52:53.435339Z",
     "start_time": "2021-06-26T16:52:53.431850Z"
    }
   },
   "outputs": [],
   "source": [
    "data[\"target\"] = data[\"target\"].astype(int)"
   ]
  },
  {
   "cell_type": "code",
   "execution_count": 21,
   "id": "moving-frank",
   "metadata": {
    "ExecuteTime": {
     "end_time": "2021-06-26T16:52:53.440822Z",
     "start_time": "2021-06-26T16:52:53.436780Z"
    }
   },
   "outputs": [
    {
     "data": {
      "text/plain": [
       "0.2998167402199117"
      ]
     },
     "execution_count": 21,
     "metadata": {},
     "output_type": "execute_result"
    }
   ],
   "source": [
    "data[\"target\"].mean()"
   ]
  },
  {
   "cell_type": "markdown",
   "id": "sticky-forwarding",
   "metadata": {},
   "source": [
    "## Modeling"
   ]
  },
  {
   "cell_type": "markdown",
   "id": "radical-reducing",
   "metadata": {},
   "source": [
    "### Data"
   ]
  },
  {
   "cell_type": "code",
   "execution_count": 22,
   "id": "minute-factory",
   "metadata": {
    "ExecuteTime": {
     "end_time": "2021-06-26T16:52:53.445115Z",
     "start_time": "2021-06-26T16:52:53.442627Z"
    }
   },
   "outputs": [],
   "source": [
    "TIME_COLUMN = \"Year\"\n",
    "TARGET = \"target\""
   ]
  },
  {
   "cell_type": "code",
   "execution_count": 23,
   "id": "outside-novelty",
   "metadata": {
    "ExecuteTime": {
     "end_time": "2021-06-26T16:52:53.450958Z",
     "start_time": "2021-06-26T16:52:53.448743Z"
    }
   },
   "outputs": [],
   "source": [
    "columns_to_label_encode = [\"Intake Type\", \n",
    "                           \"Intake Condition\",\n",
    "                           \"Animal Type\",\n",
    "                           \"Sex upon Intake\",\n",
    "                           \"Breed\",\n",
    "                           \"Color\"]"
   ]
  },
  {
   "cell_type": "code",
   "execution_count": 24,
   "id": "better-surveillance",
   "metadata": {
    "ExecuteTime": {
     "end_time": "2021-06-26T16:52:53.859050Z",
     "start_time": "2021-06-26T16:52:53.453922Z"
    }
   },
   "outputs": [
    {
     "name": "stdout",
     "output_type": "stream",
     "text": [
      "Intake Type\n",
      "Intake Condition\n",
      "Animal Type\n"
     ]
    },
    {
     "name": "stderr",
     "output_type": "stream",
     "text": [
      "/Users/luis.moneda/opt/miniconda3/envs/ml3/lib/python3.6/site-packages/sklearn/utils/validation.py:72: DataConversionWarning: A column-vector y was passed when a 1d array was expected. Please change the shape of y to (n_samples, ), for example using ravel().\n",
      "  return f(**kwargs)\n"
     ]
    },
    {
     "name": "stdout",
     "output_type": "stream",
     "text": [
      "Sex upon Intake\n",
      "Breed\n",
      "Color\n"
     ]
    }
   ],
   "source": [
    "le = LabelEncoder()\n",
    "for column in columns_to_label_encode:\n",
    "    print(column)\n",
    "    data[column].fillna(\"None\", inplace=True)\n",
    "    data[column] = le.fit_transform(data[[column]])"
   ]
  },
  {
   "cell_type": "code",
   "execution_count": 25,
   "id": "billion-messaging",
   "metadata": {
    "ExecuteTime": {
     "end_time": "2021-06-26T16:52:53.863731Z",
     "start_time": "2021-06-26T16:52:53.860886Z"
    }
   },
   "outputs": [],
   "source": [
    "features = [\"Age upon Intake\"] + columns_to_label_encode"
   ]
  },
  {
   "cell_type": "code",
   "execution_count": 26,
   "id": "solar-assessment",
   "metadata": {
    "ExecuteTime": {
     "end_time": "2021-06-26T16:52:53.885266Z",
     "start_time": "2021-06-26T16:52:53.865693Z"
    }
   },
   "outputs": [
    {
     "data": {
      "text/plain": [
       "'01/01/2014 01:05:00 PM'"
      ]
     },
     "execution_count": 26,
     "metadata": {},
     "output_type": "execute_result"
    }
   ],
   "source": [
    "data[\"DateTime\"].min()"
   ]
  },
  {
   "cell_type": "code",
   "execution_count": 27,
   "id": "settled-chick",
   "metadata": {
    "ExecuteTime": {
     "end_time": "2021-06-26T16:52:53.908082Z",
     "start_time": "2021-06-26T16:52:53.887370Z"
    }
   },
   "outputs": [
    {
     "data": {
      "text/plain": [
       "'12/31/2020 12:50:00 PM'"
      ]
     },
     "execution_count": 27,
     "metadata": {},
     "output_type": "execute_result"
    }
   ],
   "source": [
    "data[\"DateTime\"].max()"
   ]
  },
  {
   "cell_type": "code",
   "execution_count": 28,
   "id": "proved-reproduction",
   "metadata": {
    "ExecuteTime": {
     "end_time": "2021-06-26T16:53:02.569762Z",
     "start_time": "2021-06-26T16:52:53.910132Z"
    }
   },
   "outputs": [],
   "source": [
    "data[\"Year\"] = pd.to_datetime(data[\"DateTime\"]).apply(lambda x: int(x.year))"
   ]
  },
  {
   "cell_type": "code",
   "execution_count": 29,
   "id": "smooth-combination",
   "metadata": {
    "ExecuteTime": {
     "end_time": "2021-06-26T16:53:02.576056Z",
     "start_time": "2021-06-26T16:53:02.571026Z"
    }
   },
   "outputs": [
    {
     "data": {
      "text/plain": [
       "0         2019\n",
       "1         2015\n",
       "2         2016\n",
       "3         2013\n",
       "4         2014\n",
       "          ... \n",
       "160423    2021\n",
       "160424    2021\n",
       "160425    2018\n",
       "160426    2021\n",
       "160427    2021\n",
       "Name: Year, Length: 160428, dtype: int64"
      ]
     },
     "execution_count": 29,
     "metadata": {},
     "output_type": "execute_result"
    }
   ],
   "source": [
    "data[\"Year\"]"
   ]
  },
  {
   "cell_type": "code",
   "execution_count": 30,
   "id": "lyric-experience",
   "metadata": {
    "ExecuteTime": {
     "end_time": "2021-06-26T16:53:02.581383Z",
     "start_time": "2021-06-26T16:53:02.577819Z"
    }
   },
   "outputs": [
    {
     "data": {
      "text/plain": [
       "2013"
      ]
     },
     "execution_count": 30,
     "metadata": {},
     "output_type": "execute_result"
    }
   ],
   "source": [
    "data[\"Year\"].min()"
   ]
  },
  {
   "cell_type": "code",
   "execution_count": 31,
   "id": "steady-single",
   "metadata": {
    "ExecuteTime": {
     "end_time": "2021-06-26T16:53:02.586682Z",
     "start_time": "2021-06-26T16:53:02.583014Z"
    }
   },
   "outputs": [
    {
     "data": {
      "text/plain": [
       "2021"
      ]
     },
     "execution_count": 31,
     "metadata": {},
     "output_type": "execute_result"
    }
   ],
   "source": [
    "data[\"Year\"].max()"
   ]
  },
  {
   "cell_type": "code",
   "execution_count": 32,
   "id": "colonial-riding",
   "metadata": {
    "ExecuteTime": {
     "end_time": "2021-06-26T16:53:02.591068Z",
     "start_time": "2021-06-26T16:53:02.588456Z"
    }
   },
   "outputs": [],
   "source": [
    "training_start_year = 2014\n",
    "training_end_year = 2017\n",
    "holdout_end_year = 2020"
   ]
  },
  {
   "cell_type": "code",
   "execution_count": 33,
   "id": "adaptive-cache",
   "metadata": {
    "ExecuteTime": {
     "end_time": "2021-06-26T16:53:02.655738Z",
     "start_time": "2021-06-26T16:53:02.592800Z"
    }
   },
   "outputs": [],
   "source": [
    "in_time = data[data[\"Year\"] <= training_end_year]\n",
    "in_time = in_time[in_time[\"Year\"] >= training_start_year]\n",
    "out_of_time = data[data[\"Year\"] > training_end_year]"
   ]
  },
  {
   "cell_type": "code",
   "execution_count": 34,
   "id": "smart-growing",
   "metadata": {
    "ExecuteTime": {
     "end_time": "2021-06-26T16:53:02.688535Z",
     "start_time": "2021-06-26T16:53:02.657523Z"
    }
   },
   "outputs": [],
   "source": [
    "train, test = train_test_split(in_time, \n",
    "                               test_size=0.2,\n",
    "                               random_state=42)"
   ]
  },
  {
   "cell_type": "code",
   "execution_count": 35,
   "id": "assisted-element",
   "metadata": {
    "ExecuteTime": {
     "end_time": "2021-06-26T16:53:02.694026Z",
     "start_time": "2021-06-26T16:53:02.690250Z"
    }
   },
   "outputs": [
    {
     "data": {
      "text/plain": [
       "(75272, 17)"
      ]
     },
     "execution_count": 35,
     "metadata": {},
     "output_type": "execute_result"
    }
   ],
   "source": [
    "train.shape"
   ]
  },
  {
   "cell_type": "code",
   "execution_count": 36,
   "id": "celtic-swedish",
   "metadata": {
    "ExecuteTime": {
     "end_time": "2021-06-26T16:53:02.700521Z",
     "start_time": "2021-06-26T16:53:02.696151Z"
    }
   },
   "outputs": [
    {
     "data": {
      "text/plain": [
       "(18818, 17)"
      ]
     },
     "execution_count": 36,
     "metadata": {},
     "output_type": "execute_result"
    }
   ],
   "source": [
    "test.shape"
   ]
  },
  {
   "cell_type": "code",
   "execution_count": 37,
   "id": "corrected-burst",
   "metadata": {
    "ExecuteTime": {
     "end_time": "2021-06-26T16:53:02.706978Z",
     "start_time": "2021-06-26T16:53:02.702920Z"
    }
   },
   "outputs": [
    {
     "data": {
      "text/plain": [
       "(61402, 17)"
      ]
     },
     "execution_count": 37,
     "metadata": {},
     "output_type": "execute_result"
    }
   ],
   "source": [
    "out_of_time.shape"
   ]
  },
  {
   "cell_type": "code",
   "execution_count": 38,
   "id": "furnished-national",
   "metadata": {
    "ExecuteTime": {
     "end_time": "2021-06-26T16:53:02.779975Z",
     "start_time": "2021-06-26T16:53:02.715762Z"
    }
   },
   "outputs": [
    {
     "name": "stderr",
     "output_type": "stream",
     "text": [
      "/Users/luis.moneda/opt/miniconda3/envs/ml3/lib/python3.6/site-packages/pandas/core/series.py:4523: SettingWithCopyWarning: \n",
      "A value is trying to be set on a copy of a slice from a DataFrame\n",
      "\n",
      "See the caveats in the documentation: https://pandas.pydata.org/pandas-docs/stable/user_guide/indexing.html#returning-a-view-versus-a-copy\n",
      "  downcast=downcast,\n"
     ]
    }
   ],
   "source": [
    "median_input = train.median()\n",
    "train.fillna(median_input, inplace=True)\n",
    "test.fillna(median_input, inplace=True)\n",
    "out_of_time.fillna(median_input, inplace=True)"
   ]
  },
  {
   "cell_type": "markdown",
   "id": "d8f778af",
   "metadata": {},
   "source": [
    "## Checking the support in the different environments"
   ]
  },
  {
   "cell_type": "code",
   "execution_count": 39,
   "id": "f3b4d955",
   "metadata": {
    "ExecuteTime": {
     "end_time": "2021-06-26T16:53:02.861409Z",
     "start_time": "2021-06-26T16:53:02.783659Z"
    }
   },
   "outputs": [
    {
     "name": "stdout",
     "output_type": "stream",
     "text": [
      "Year\n",
      "2014    1.0\n",
      "2015    1.0\n",
      "2016    1.0\n",
      "2017    1.0\n",
      "Name: Intake Type, dtype: float64\n",
      "Year\n",
      "2014    1.0\n",
      "2015    1.0\n",
      "2016    1.0\n",
      "2017    1.0\n",
      "Name: Intake Condition, dtype: float64\n",
      "Year\n",
      "2014    1.0\n",
      "2015    1.0\n",
      "2016    1.0\n",
      "2017    1.0\n",
      "Name: Animal Type, dtype: float64\n",
      "Year\n",
      "2014    1.0\n",
      "2015    1.0\n",
      "2016    1.0\n",
      "2017    1.0\n",
      "Name: Sex upon Intake, dtype: float64\n",
      "Year\n",
      "2014    0.580352\n",
      "2015    0.560598\n",
      "2016    0.429792\n",
      "2017    0.413241\n",
      "Name: Breed, dtype: float64\n",
      "Year\n",
      "2014    0.645435\n",
      "2015    0.613588\n",
      "2016    0.611465\n",
      "2017    0.626327\n",
      "Name: Color, dtype: float64\n"
     ]
    },
    {
     "data": {
      "text/plain": [
       "0.8533665917389023"
      ]
     },
     "execution_count": 39,
     "metadata": {},
     "output_type": "execute_result"
    }
   ],
   "source": [
    "check_categoricals_match(train, columns_to_label_encode, \"Year\")"
   ]
  },
  {
   "cell_type": "code",
   "execution_count": 40,
   "id": "68263839",
   "metadata": {
    "ExecuteTime": {
     "end_time": "2021-06-26T16:53:02.881251Z",
     "start_time": "2021-06-26T16:53:02.863347Z"
    }
   },
   "outputs": [
    {
     "name": "stdout",
     "output_type": "stream",
     "text": [
      "Year\n",
      "2014    0.8\n",
      "2015    0.9\n",
      "2016    1.0\n",
      "2017    0.9\n",
      "Name: Age upon Intake_quant, dtype: float64\n"
     ]
    },
    {
     "name": "stderr",
     "output_type": "stream",
     "text": [
      "/Users/luis.moneda/opt/miniconda3/envs/ml3/lib/python3.6/site-packages/time_robust_forest/functions.py:186: SettingWithCopyWarning: \n",
      "A value is trying to be set on a copy of a slice from a DataFrame.\n",
      "Try using .loc[row_indexer,col_indexer] = value instead\n",
      "\n",
      "See the caveats in the documentation: https://pandas.pydata.org/pandas-docs/stable/user_guide/indexing.html#returning-a-view-versus-a-copy\n",
      "  labels=[i for i in range(1, n_q + 1)],\n"
     ]
    },
    {
     "data": {
      "text/plain": [
       "0.9"
      ]
     },
     "execution_count": 40,
     "metadata": {},
     "output_type": "execute_result"
    }
   ],
   "source": [
    "check_numerical_match(train, [\"Age upon Intake\"], \"Year\", verbose=True, n_q=10)"
   ]
  },
  {
   "cell_type": "markdown",
   "id": "harmful-delhi",
   "metadata": {},
   "source": [
    "### Benchmark"
   ]
  },
  {
   "cell_type": "code",
   "execution_count": 41,
   "id": "metropolitan-equivalent",
   "metadata": {
    "ExecuteTime": {
     "end_time": "2021-06-26T16:53:04.332770Z",
     "start_time": "2021-06-26T16:53:02.883712Z"
    }
   },
   "outputs": [],
   "source": [
    "from pycaret.classification import *"
   ]
  },
  {
   "cell_type": "code",
   "execution_count": 42,
   "id": "single-enzyme",
   "metadata": {
    "ExecuteTime": {
     "end_time": "2021-06-26T16:56:17.349726Z",
     "start_time": "2021-06-26T16:53:04.334088Z"
    }
   },
   "outputs": [
    {
     "data": {
      "text/html": [
       "<style  type=\"text/css\" >\n",
       "#T_6c736cd2_d69f_11eb_9602_acde48001122row5_col0,#T_6c736cd2_d69f_11eb_9602_acde48001122row5_col1,#T_6c736cd2_d69f_11eb_9602_acde48001122row5_col2,#T_6c736cd2_d69f_11eb_9602_acde48001122row5_col3,#T_6c736cd2_d69f_11eb_9602_acde48001122row5_col4,#T_6c736cd2_d69f_11eb_9602_acde48001122row5_col5,#T_6c736cd2_d69f_11eb_9602_acde48001122row5_col6{\n",
       "            background:  yellow;\n",
       "        }</style><table id=\"T_6c736cd2_d69f_11eb_9602_acde48001122\" ><thead>    <tr>        <th class=\"blank level0\" ></th>        <th class=\"col_heading level0 col0\" >Accuracy</th>        <th class=\"col_heading level0 col1\" >AUC</th>        <th class=\"col_heading level0 col2\" >Recall</th>        <th class=\"col_heading level0 col3\" >Prec.</th>        <th class=\"col_heading level0 col4\" >F1</th>        <th class=\"col_heading level0 col5\" >Kappa</th>        <th class=\"col_heading level0 col6\" >MCC</th>    </tr></thead><tbody>\n",
       "                <tr>\n",
       "                        <th id=\"T_6c736cd2_d69f_11eb_9602_acde48001122level0_row0\" class=\"row_heading level0 row0\" >0</th>\n",
       "                        <td id=\"T_6c736cd2_d69f_11eb_9602_acde48001122row0_col0\" class=\"data row0 col0\" >0.6874</td>\n",
       "                        <td id=\"T_6c736cd2_d69f_11eb_9602_acde48001122row0_col1\" class=\"data row0 col1\" >0.7817</td>\n",
       "                        <td id=\"T_6c736cd2_d69f_11eb_9602_acde48001122row0_col2\" class=\"data row0 col2\" >0.7666</td>\n",
       "                        <td id=\"T_6c736cd2_d69f_11eb_9602_acde48001122row0_col3\" class=\"data row0 col3\" >0.4708</td>\n",
       "                        <td id=\"T_6c736cd2_d69f_11eb_9602_acde48001122row0_col4\" class=\"data row0 col4\" >0.5834</td>\n",
       "                        <td id=\"T_6c736cd2_d69f_11eb_9602_acde48001122row0_col5\" class=\"data row0 col5\" >0.3554</td>\n",
       "                        <td id=\"T_6c736cd2_d69f_11eb_9602_acde48001122row0_col6\" class=\"data row0 col6\" >0.3825</td>\n",
       "            </tr>\n",
       "            <tr>\n",
       "                        <th id=\"T_6c736cd2_d69f_11eb_9602_acde48001122level0_row1\" class=\"row_heading level0 row1\" >1</th>\n",
       "                        <td id=\"T_6c736cd2_d69f_11eb_9602_acde48001122row1_col0\" class=\"data row1 col0\" >0.7006</td>\n",
       "                        <td id=\"T_6c736cd2_d69f_11eb_9602_acde48001122row1_col1\" class=\"data row1 col1\" >0.7946</td>\n",
       "                        <td id=\"T_6c736cd2_d69f_11eb_9602_acde48001122row1_col2\" class=\"data row1 col2\" >0.7866</td>\n",
       "                        <td id=\"T_6c736cd2_d69f_11eb_9602_acde48001122row1_col3\" class=\"data row1 col3\" >0.4849</td>\n",
       "                        <td id=\"T_6c736cd2_d69f_11eb_9602_acde48001122row1_col4\" class=\"data row1 col4\" >0.6000</td>\n",
       "                        <td id=\"T_6c736cd2_d69f_11eb_9602_acde48001122row1_col5\" class=\"data row1 col5\" >0.3816</td>\n",
       "                        <td id=\"T_6c736cd2_d69f_11eb_9602_acde48001122row1_col6\" class=\"data row1 col6\" >0.4102</td>\n",
       "            </tr>\n",
       "            <tr>\n",
       "                        <th id=\"T_6c736cd2_d69f_11eb_9602_acde48001122level0_row2\" class=\"row_heading level0 row2\" >2</th>\n",
       "                        <td id=\"T_6c736cd2_d69f_11eb_9602_acde48001122row2_col0\" class=\"data row2 col0\" >0.6859</td>\n",
       "                        <td id=\"T_6c736cd2_d69f_11eb_9602_acde48001122row2_col1\" class=\"data row2 col1\" >0.7772</td>\n",
       "                        <td id=\"T_6c736cd2_d69f_11eb_9602_acde48001122row2_col2\" class=\"data row2 col2\" >0.7746</td>\n",
       "                        <td id=\"T_6c736cd2_d69f_11eb_9602_acde48001122row2_col3\" class=\"data row2 col3\" >0.4696</td>\n",
       "                        <td id=\"T_6c736cd2_d69f_11eb_9602_acde48001122row2_col4\" class=\"data row2 col4\" >0.5847</td>\n",
       "                        <td id=\"T_6c736cd2_d69f_11eb_9602_acde48001122row2_col5\" class=\"data row2 col5\" >0.3557</td>\n",
       "                        <td id=\"T_6c736cd2_d69f_11eb_9602_acde48001122row2_col6\" class=\"data row2 col6\" >0.3846</td>\n",
       "            </tr>\n",
       "            <tr>\n",
       "                        <th id=\"T_6c736cd2_d69f_11eb_9602_acde48001122level0_row3\" class=\"row_heading level0 row3\" >3</th>\n",
       "                        <td id=\"T_6c736cd2_d69f_11eb_9602_acde48001122row3_col0\" class=\"data row3 col0\" >0.6942</td>\n",
       "                        <td id=\"T_6c736cd2_d69f_11eb_9602_acde48001122row3_col1\" class=\"data row3 col1\" >0.7871</td>\n",
       "                        <td id=\"T_6c736cd2_d69f_11eb_9602_acde48001122row3_col2\" class=\"data row3 col2\" >0.7840</td>\n",
       "                        <td id=\"T_6c736cd2_d69f_11eb_9602_acde48001122row3_col3\" class=\"data row3 col3\" >0.4784</td>\n",
       "                        <td id=\"T_6c736cd2_d69f_11eb_9602_acde48001122row3_col4\" class=\"data row3 col4\" >0.5942</td>\n",
       "                        <td id=\"T_6c736cd2_d69f_11eb_9602_acde48001122row3_col5\" class=\"data row3 col5\" >0.3712</td>\n",
       "                        <td id=\"T_6c736cd2_d69f_11eb_9602_acde48001122row3_col6\" class=\"data row3 col6\" >0.4004</td>\n",
       "            </tr>\n",
       "            <tr>\n",
       "                        <th id=\"T_6c736cd2_d69f_11eb_9602_acde48001122level0_row4\" class=\"row_heading level0 row4\" >4</th>\n",
       "                        <td id=\"T_6c736cd2_d69f_11eb_9602_acde48001122row4_col0\" class=\"data row4 col0\" >0.6962</td>\n",
       "                        <td id=\"T_6c736cd2_d69f_11eb_9602_acde48001122row4_col1\" class=\"data row4 col1\" >0.7905</td>\n",
       "                        <td id=\"T_6c736cd2_d69f_11eb_9602_acde48001122row4_col2\" class=\"data row4 col2\" >0.7767</td>\n",
       "                        <td id=\"T_6c736cd2_d69f_11eb_9602_acde48001122row4_col3\" class=\"data row4 col3\" >0.4803</td>\n",
       "                        <td id=\"T_6c736cd2_d69f_11eb_9602_acde48001122row4_col4\" class=\"data row4 col4\" >0.5935</td>\n",
       "                        <td id=\"T_6c736cd2_d69f_11eb_9602_acde48001122row4_col5\" class=\"data row4 col5\" >0.3719</td>\n",
       "                        <td id=\"T_6c736cd2_d69f_11eb_9602_acde48001122row4_col6\" class=\"data row4 col6\" >0.3993</td>\n",
       "            </tr>\n",
       "            <tr>\n",
       "                        <th id=\"T_6c736cd2_d69f_11eb_9602_acde48001122level0_row5\" class=\"row_heading level0 row5\" >Mean</th>\n",
       "                        <td id=\"T_6c736cd2_d69f_11eb_9602_acde48001122row5_col0\" class=\"data row5 col0\" >0.6929</td>\n",
       "                        <td id=\"T_6c736cd2_d69f_11eb_9602_acde48001122row5_col1\" class=\"data row5 col1\" >0.7862</td>\n",
       "                        <td id=\"T_6c736cd2_d69f_11eb_9602_acde48001122row5_col2\" class=\"data row5 col2\" >0.7777</td>\n",
       "                        <td id=\"T_6c736cd2_d69f_11eb_9602_acde48001122row5_col3\" class=\"data row5 col3\" >0.4768</td>\n",
       "                        <td id=\"T_6c736cd2_d69f_11eb_9602_acde48001122row5_col4\" class=\"data row5 col4\" >0.5912</td>\n",
       "                        <td id=\"T_6c736cd2_d69f_11eb_9602_acde48001122row5_col5\" class=\"data row5 col5\" >0.3671</td>\n",
       "                        <td id=\"T_6c736cd2_d69f_11eb_9602_acde48001122row5_col6\" class=\"data row5 col6\" >0.3954</td>\n",
       "            </tr>\n",
       "            <tr>\n",
       "                        <th id=\"T_6c736cd2_d69f_11eb_9602_acde48001122level0_row6\" class=\"row_heading level0 row6\" >SD</th>\n",
       "                        <td id=\"T_6c736cd2_d69f_11eb_9602_acde48001122row6_col0\" class=\"data row6 col0\" >0.0055</td>\n",
       "                        <td id=\"T_6c736cd2_d69f_11eb_9602_acde48001122row6_col1\" class=\"data row6 col1\" >0.0062</td>\n",
       "                        <td id=\"T_6c736cd2_d69f_11eb_9602_acde48001122row6_col2\" class=\"data row6 col2\" >0.0071</td>\n",
       "                        <td id=\"T_6c736cd2_d69f_11eb_9602_acde48001122row6_col3\" class=\"data row6 col3\" >0.0058</td>\n",
       "                        <td id=\"T_6c736cd2_d69f_11eb_9602_acde48001122row6_col4\" class=\"data row6 col4\" >0.0063</td>\n",
       "                        <td id=\"T_6c736cd2_d69f_11eb_9602_acde48001122row6_col5\" class=\"data row6 col5\" >0.0102</td>\n",
       "                        <td id=\"T_6c736cd2_d69f_11eb_9602_acde48001122row6_col6\" class=\"data row6 col6\" >0.0104</td>\n",
       "            </tr>\n",
       "    </tbody></table>"
      ],
      "text/plain": [
       "<pandas.io.formats.style.Styler at 0x7faedc66bef0>"
      ]
     },
     "metadata": {},
     "output_type": "display_data"
    }
   ],
   "source": [
    "clf1 = setup(train[features + [TARGET]], \n",
    "             target=\"target\",\n",
    "             session_id=2, \n",
    "             log_experiment=False, \n",
    "             experiment_name=\"shelter\",\n",
    "             silent=True)\n",
    "\n",
    "rf = create_model('rf')\n",
    "tuned_rf = tune_model(rf,\n",
    "                     optimize=\"AUC\",\n",
    "                     fold=5,\n",
    "                     n_iter=50)"
   ]
  },
  {
   "cell_type": "code",
   "execution_count": 43,
   "id": "coordinated-orbit",
   "metadata": {
    "ExecuteTime": {
     "end_time": "2021-06-26T16:56:17.357530Z",
     "start_time": "2021-06-26T16:56:17.352011Z"
    }
   },
   "outputs": [
    {
     "data": {
      "text/plain": [
       "RandomForestClassifier(bootstrap=False, ccp_alpha=0.0,\n",
       "                       class_weight='balanced_subsample', criterion='entropy',\n",
       "                       max_depth=11, max_features='sqrt', max_leaf_nodes=None,\n",
       "                       max_samples=None, min_impurity_decrease=0.0001,\n",
       "                       min_impurity_split=None, min_samples_leaf=6,\n",
       "                       min_samples_split=7, min_weight_fraction_leaf=0.0,\n",
       "                       n_estimators=250, n_jobs=-1, oob_score=False,\n",
       "                       random_state=2, verbose=0, warm_start=False)"
      ]
     },
     "execution_count": 43,
     "metadata": {},
     "output_type": "execute_result"
    }
   ],
   "source": [
    "tuned_rf"
   ]
  },
  {
   "cell_type": "code",
   "execution_count": 44,
   "id": "median-gabriel",
   "metadata": {
    "ExecuteTime": {
     "end_time": "2021-06-26T16:56:19.998278Z",
     "start_time": "2021-06-26T16:56:17.360101Z"
    }
   },
   "outputs": [],
   "source": [
    "benchmark_model = tuned_rf\n",
    "benchmark_model.fit(train[features], train[TARGET])\n",
    "\n",
    "train[\"benchmark_prediction_opt\"] = benchmark_model.predict_proba(train[features])[:, 1]\n",
    "test[\"benchmark_prediction_opt\"] = benchmark_model.predict_proba(test[features])[:, 1]\n",
    "out_of_time[\"benchmark_prediction_opt\"] = benchmark_model.predict_proba(out_of_time[features])[:, 1]"
   ]
  },
  {
   "cell_type": "code",
   "execution_count": 45,
   "id": "thorough-framework",
   "metadata": {
    "ExecuteTime": {
     "end_time": "2021-06-26T16:56:20.057290Z",
     "start_time": "2021-06-26T16:56:20.000457Z"
    }
   },
   "outputs": [
    {
     "name": "stdout",
     "output_type": "stream",
     "text": [
      "0.7946691360135414\n",
      "0.7872893826981108\n",
      "0.7888780899420342\n"
     ]
    }
   ],
   "source": [
    "print(roc_auc_score(train[TARGET], train[\"benchmark_prediction_opt\"]))\n",
    "print(roc_auc_score(test[TARGET], test[\"benchmark_prediction_opt\"]))\n",
    "print(roc_auc_score(out_of_time[TARGET], out_of_time[\"benchmark_prediction_opt\"]))"
   ]
  },
  {
   "cell_type": "code",
   "execution_count": 46,
   "id": "operating-lottery",
   "metadata": {
    "ExecuteTime": {
     "end_time": "2021-06-26T16:56:28.716799Z",
     "start_time": "2021-06-26T16:56:20.059182Z"
    }
   },
   "outputs": [],
   "source": [
    "benchmark_model = RandomForestClassifier(n_estimators=250, max_depth=8)\n",
    "benchmark_model.fit(train[features], train[TARGET])\n",
    "\n",
    "train[\"benchmark_prediction\"] = benchmark_model.predict_proba(train[features])[:, 1]\n",
    "test[\"benchmark_prediction\"] = benchmark_model.predict_proba(test[features])[:, 1]\n",
    "out_of_time[\"benchmark_prediction\"] = benchmark_model.predict_proba(out_of_time[features])[:, 1]"
   ]
  },
  {
   "cell_type": "code",
   "execution_count": 47,
   "id": "printable-thanksgiving",
   "metadata": {
    "ExecuteTime": {
     "end_time": "2021-06-26T16:56:28.766515Z",
     "start_time": "2021-06-26T16:56:28.718220Z"
    }
   },
   "outputs": [
    {
     "name": "stdout",
     "output_type": "stream",
     "text": [
      "0.7915515579550967\n",
      "0.7816972073299906\n",
      "0.7872495208567774\n"
     ]
    }
   ],
   "source": [
    "print(roc_auc_score(train[TARGET], train[\"benchmark_prediction\"]))\n",
    "print(roc_auc_score(test[TARGET], test[\"benchmark_prediction\"]))\n",
    "print(roc_auc_score(out_of_time[TARGET], out_of_time[\"benchmark_prediction\"]))"
   ]
  },
  {
   "cell_type": "markdown",
   "id": "tight-alert",
   "metadata": {},
   "source": [
    "## Challenger model"
   ]
  },
  {
   "cell_type": "code",
   "execution_count": 48,
   "id": "documented-entrepreneur",
   "metadata": {
    "ExecuteTime": {
     "end_time": "2021-06-26T16:56:28.771371Z",
     "start_time": "2021-06-26T16:56:28.768379Z"
    }
   },
   "outputs": [],
   "source": [
    "train.reset_index(drop=True, inplace=True)"
   ]
  },
  {
   "cell_type": "code",
   "execution_count": 49,
   "id": "resident-sullivan",
   "metadata": {
    "ExecuteTime": {
     "end_time": "2021-06-26T16:56:28.789493Z",
     "start_time": "2021-06-26T16:56:28.773208Z"
    }
   },
   "outputs": [
    {
     "data": {
      "text/html": [
       "<div>\n",
       "<style scoped>\n",
       "    .dataframe tbody tr th:only-of-type {\n",
       "        vertical-align: middle;\n",
       "    }\n",
       "\n",
       "    .dataframe tbody tr th {\n",
       "        vertical-align: top;\n",
       "    }\n",
       "\n",
       "    .dataframe thead th {\n",
       "        text-align: right;\n",
       "    }\n",
       "</style>\n",
       "<table border=\"1\" class=\"dataframe\">\n",
       "  <thead>\n",
       "    <tr style=\"text-align: right;\">\n",
       "      <th></th>\n",
       "      <th>Age upon Intake</th>\n",
       "      <th>Intake Type</th>\n",
       "      <th>Intake Condition</th>\n",
       "      <th>Animal Type</th>\n",
       "      <th>Sex upon Intake</th>\n",
       "      <th>Breed</th>\n",
       "      <th>Color</th>\n",
       "      <th>Year</th>\n",
       "    </tr>\n",
       "  </thead>\n",
       "  <tbody>\n",
       "    <tr>\n",
       "      <th>0</th>\n",
       "      <td>6.000000</td>\n",
       "      <td>4</td>\n",
       "      <td>5</td>\n",
       "      <td>2</td>\n",
       "      <td>2</td>\n",
       "      <td>2231</td>\n",
       "      <td>56</td>\n",
       "      <td>2015</td>\n",
       "    </tr>\n",
       "    <tr>\n",
       "      <th>1</th>\n",
       "      <td>2.000000</td>\n",
       "      <td>4</td>\n",
       "      <td>5</td>\n",
       "      <td>2</td>\n",
       "      <td>2</td>\n",
       "      <td>1982</td>\n",
       "      <td>252</td>\n",
       "      <td>2017</td>\n",
       "    </tr>\n",
       "    <tr>\n",
       "      <th>2</th>\n",
       "      <td>1.000000</td>\n",
       "      <td>4</td>\n",
       "      <td>5</td>\n",
       "      <td>1</td>\n",
       "      <td>0</td>\n",
       "      <td>1160</td>\n",
       "      <td>489</td>\n",
       "      <td>2017</td>\n",
       "    </tr>\n",
       "    <tr>\n",
       "      <th>3</th>\n",
       "      <td>0.583333</td>\n",
       "      <td>2</td>\n",
       "      <td>5</td>\n",
       "      <td>2</td>\n",
       "      <td>1</td>\n",
       "      <td>1278</td>\n",
       "      <td>9</td>\n",
       "      <td>2017</td>\n",
       "    </tr>\n",
       "    <tr>\n",
       "      <th>4</th>\n",
       "      <td>1.000000</td>\n",
       "      <td>3</td>\n",
       "      <td>5</td>\n",
       "      <td>2</td>\n",
       "      <td>4</td>\n",
       "      <td>1563</td>\n",
       "      <td>455</td>\n",
       "      <td>2016</td>\n",
       "    </tr>\n",
       "    <tr>\n",
       "      <th>...</th>\n",
       "      <td>...</td>\n",
       "      <td>...</td>\n",
       "      <td>...</td>\n",
       "      <td>...</td>\n",
       "      <td>...</td>\n",
       "      <td>...</td>\n",
       "      <td>...</td>\n",
       "      <td>...</td>\n",
       "    </tr>\n",
       "    <tr>\n",
       "      <th>75267</th>\n",
       "      <td>0.583333</td>\n",
       "      <td>4</td>\n",
       "      <td>5</td>\n",
       "      <td>2</td>\n",
       "      <td>1</td>\n",
       "      <td>2435</td>\n",
       "      <td>530</td>\n",
       "      <td>2017</td>\n",
       "    </tr>\n",
       "    <tr>\n",
       "      <th>75268</th>\n",
       "      <td>1.000000</td>\n",
       "      <td>4</td>\n",
       "      <td>6</td>\n",
       "      <td>1</td>\n",
       "      <td>5</td>\n",
       "      <td>1160</td>\n",
       "      <td>155</td>\n",
       "      <td>2014</td>\n",
       "    </tr>\n",
       "    <tr>\n",
       "      <th>75269</th>\n",
       "      <td>1.000000</td>\n",
       "      <td>4</td>\n",
       "      <td>5</td>\n",
       "      <td>2</td>\n",
       "      <td>1</td>\n",
       "      <td>822</td>\n",
       "      <td>416</td>\n",
       "      <td>2017</td>\n",
       "    </tr>\n",
       "    <tr>\n",
       "      <th>75270</th>\n",
       "      <td>0.500000</td>\n",
       "      <td>4</td>\n",
       "      <td>5</td>\n",
       "      <td>2</td>\n",
       "      <td>1</td>\n",
       "      <td>822</td>\n",
       "      <td>130</td>\n",
       "      <td>2014</td>\n",
       "    </tr>\n",
       "    <tr>\n",
       "      <th>75271</th>\n",
       "      <td>1.000000</td>\n",
       "      <td>2</td>\n",
       "      <td>5</td>\n",
       "      <td>1</td>\n",
       "      <td>4</td>\n",
       "      <td>1160</td>\n",
       "      <td>215</td>\n",
       "      <td>2015</td>\n",
       "    </tr>\n",
       "  </tbody>\n",
       "</table>\n",
       "<p>75272 rows × 8 columns</p>\n",
       "</div>"
      ],
      "text/plain": [
       "       Age upon Intake  Intake Type  Intake Condition  Animal Type  \\\n",
       "0             6.000000            4                 5            2   \n",
       "1             2.000000            4                 5            2   \n",
       "2             1.000000            4                 5            1   \n",
       "3             0.583333            2                 5            2   \n",
       "4             1.000000            3                 5            2   \n",
       "...                ...          ...               ...          ...   \n",
       "75267         0.583333            4                 5            2   \n",
       "75268         1.000000            4                 6            1   \n",
       "75269         1.000000            4                 5            2   \n",
       "75270         0.500000            4                 5            2   \n",
       "75271         1.000000            2                 5            1   \n",
       "\n",
       "       Sex upon Intake  Breed  Color  Year  \n",
       "0                    2   2231     56  2015  \n",
       "1                    2   1982    252  2017  \n",
       "2                    0   1160    489  2017  \n",
       "3                    1   1278      9  2017  \n",
       "4                    4   1563    455  2016  \n",
       "...                ...    ...    ...   ...  \n",
       "75267                1   2435    530  2017  \n",
       "75268                5   1160    155  2014  \n",
       "75269                1    822    416  2017  \n",
       "75270                1    822    130  2014  \n",
       "75271                4   1160    215  2015  \n",
       "\n",
       "[75272 rows x 8 columns]"
      ]
     },
     "execution_count": 49,
     "metadata": {},
     "output_type": "execute_result"
    }
   ],
   "source": [
    "train[features + [TIME_COLUMN]]"
   ]
  },
  {
   "cell_type": "code",
   "execution_count": 50,
   "id": "understood-excuse",
   "metadata": {
    "ExecuteTime": {
     "end_time": "2021-06-26T16:56:28.796459Z",
     "start_time": "2021-06-26T16:56:28.791288Z"
    }
   },
   "outputs": [
    {
     "data": {
      "text/plain": [
       "2015    19136\n",
       "2017    19000\n",
       "2016    18852\n",
       "2014    18284\n",
       "Name: Year, dtype: int64"
      ]
     },
     "execution_count": 50,
     "metadata": {},
     "output_type": "execute_result"
    }
   ],
   "source": [
    "train[\"Year\"].value_counts()"
   ]
  },
  {
   "cell_type": "code",
   "execution_count": 51,
   "id": "compound-paris",
   "metadata": {
    "ExecuteTime": {
     "end_time": "2021-06-26T18:23:39.252988Z",
     "start_time": "2021-06-26T16:56:28.798016Z"
    }
   },
   "outputs": [],
   "source": [
    "challenger_model = TimeForestClassifier(time_column=TIME_COLUMN,\n",
    "                                        n_estimators=250,\n",
    "                                        min_sample_periods=30,\n",
    "                                        max_depth=11,\n",
    "                                        multi=True)\n",
    "challenger_model.fit(train[features + [TIME_COLUMN]], train[TARGET].values)\n",
    "\n",
    "train[\"challenger_prediction\"] = challenger_model.predict_proba(train[features])[:, 1]\n",
    "test[\"challenger_prediction\"] = challenger_model.predict_proba(test[features])[:, 1]\n",
    "out_of_time[\"challenger_prediction\"] = challenger_model.predict_proba(out_of_time[features])[:, 1]"
   ]
  },
  {
   "cell_type": "code",
   "execution_count": 52,
   "id": "endless-burden",
   "metadata": {
    "ExecuteTime": {
     "end_time": "2021-06-26T18:23:39.311366Z",
     "start_time": "2021-06-26T18:23:39.254800Z"
    }
   },
   "outputs": [
    {
     "name": "stdout",
     "output_type": "stream",
     "text": [
      "0.790822996924873\n",
      "0.7835264898096471\n",
      "0.7871875006845034\n"
     ]
    }
   ],
   "source": [
    "print(roc_auc_score(train[TARGET], train[\"challenger_prediction\"]))\n",
    "print(roc_auc_score(test[TARGET], test[\"challenger_prediction\"]))\n",
    "print(roc_auc_score(out_of_time[TARGET], out_of_time[\"challenger_prediction\"]))"
   ]
  },
  {
   "cell_type": "code",
   "execution_count": 53,
   "id": "tough-forum",
   "metadata": {
    "ExecuteTime": {
     "end_time": "2021-06-26T18:23:39.878038Z",
     "start_time": "2021-06-26T18:23:39.313373Z"
    }
   },
   "outputs": [
    {
     "data": {
      "image/png": "[encoded data removed]",
      "text/plain": [
       "<Figure size 864x288 with 1 Axes>"
      ]
     },
     "metadata": {},
     "output_type": "display_data"
    }
   ],
   "source": [
    "fig, ax = plt.subplots()\n",
    "pd.concat([test, out_of_time]).groupby(TIME_COLUMN).apply(lambda x: roc_auc_score(x[TARGET], x[\"challenger_prediction\"])).plot(label=\"Time Robust Forest\", \n",
    "                                                                                                      linestyle=\"dashed\",\n",
    "                                                                                                      color=\"green\", ax=ax)\n",
    "pd.concat([test, out_of_time]).groupby(TIME_COLUMN).apply(lambda x: roc_auc_score(x[TARGET], x[\"benchmark_prediction_opt\"])).plot(label=\"Random Forest\", ax=ax)\n",
    "#plt.title(\"AUC by year on the GE Club News dataset - Out of time set from {}\".format(train_end_date), fontsize=15)\n",
    "\n",
    "ax.xaxis.set_tick_params(labelsize=12)\n",
    "ax.yaxis.set_tick_params(labelsize=12)\n",
    "\n",
    "xmin, xmax, ymin, ymax = plt.axis()\n",
    "plt.vlines(training_end_year + 1, ymin, ymax, linestyle=\"dotted\", color=\"red\", label=\"Holdout start\")\n",
    "plt.ylim([ymin, ymax])\n",
    "plt.legend(fontsize=12, bbox_to_anchor=(1.0, 1.0))\n",
    "plt.ylabel(\"AUC\", fontsize=15)\n",
    "plt.xlabel(\"Year\", fontsize=15)\n",
    "plt.savefig(\"../images/shelter_test_holdout_auc_years.eps\", format=\"eps\")\n",
    "plt.show()"
   ]
  },
  {
   "cell_type": "code",
   "execution_count": 54,
   "id": "authorized-magnet",
   "metadata": {
    "ExecuteTime": {
     "end_time": "2021-06-26T18:23:40.302892Z",
     "start_time": "2021-06-26T18:23:39.879928Z"
    }
   },
   "outputs": [
    {
     "data": {
      "image/png": "[encoded data removed]",
      "text/plain": [
       "<Figure size 576x432 with 1 Axes>"
      ]
     },
     "metadata": {},
     "output_type": "display_data"
    }
   ],
   "source": [
    "fig, ax = plt.subplots(figsize=(8, 6))\n",
    "pd.concat([test, out_of_time]).groupby(TIME_COLUMN).apply(lambda x: roc_auc_score(x[TARGET], x[\"challenger_prediction\"])).plot(label=\"Time Robust Forest\", \n",
    "                                                                                                      linestyle=\"dashed\",\n",
    "                                                                                                      color=\"green\", ax=ax)\n",
    "pd.concat([test, out_of_time]).groupby(TIME_COLUMN).apply(lambda x: roc_auc_score(x[TARGET], x[\"benchmark_prediction_opt\"])).plot(label=\"Random Forest\", ax=ax)\n",
    "\n",
    "ax.xaxis.set_tick_params(labelsize=15)\n",
    "ax.yaxis.set_tick_params(labelsize=15)\n",
    "\n",
    "xmin, xmax, ymin, ymax = plt.axis()\n",
    "plt.vlines(training_end_year + 1, ymin, ymax, linestyle=\"dotted\", color=\"red\", label=\"Holdout start\")\n",
    "plt.ylim([ymin, ymax])\n",
    "plt.legend(fontsize=15, bbox_to_anchor=(0.45, 1.0))\n",
    "plt.ylabel(\"AUC\", fontsize=16)\n",
    "plt.xlabel(\"Year\", fontsize=16)\n",
    "plt.savefig(\"../images/shelter_test_holdout_auc_years_square.eps\", format=\"eps\")\n",
    "plt.show()"
   ]
  },
  {
   "cell_type": "code",
   "execution_count": 56,
   "id": "controversial-november",
   "metadata": {
    "ExecuteTime": {
     "end_time": "2021-06-26T18:30:45.799577Z",
     "start_time": "2021-06-26T18:30:45.797340Z"
    }
   },
   "outputs": [],
   "source": [
    "#pd.concat([test, out_of_time])[[TIME_COLUMN, \"benchmark_prediction\", \"benchmark_prediction_opt\", \"challenger_prediction\"]].to_csv(\"results/8_animal_shelter_example.csv\")"
   ]
  },
  {
   "cell_type": "markdown",
   "id": "outstanding-nevada",
   "metadata": {},
   "source": [
    "## TRF as feature selection"
   ]
  },
  {
   "cell_type": "code",
   "execution_count": 57,
   "id": "optical-desert",
   "metadata": {
    "ExecuteTime": {
     "end_time": "2021-06-26T18:30:46.653572Z",
     "start_time": "2021-06-26T18:30:46.288845Z"
    }
   },
   "outputs": [
    {
     "data": {
      "text/plain": [
       "Age upon Intake     8496\n",
       "Color               8490\n",
       "Breed               8056\n",
       "Sex upon Intake     6006\n",
       "Intake Type         2278\n",
       "Animal Type         1611\n",
       "Intake Condition    1585\n",
       "Name: Feature Importance, dtype: int64"
      ]
     },
     "execution_count": 57,
     "metadata": {},
     "output_type": "execute_result"
    }
   ],
   "source": [
    "challenger_model.feature_importance()"
   ]
  },
  {
   "cell_type": "code",
   "execution_count": 58,
   "id": "compliant-annotation",
   "metadata": {
    "ExecuteTime": {
     "end_time": "2021-06-26T18:30:49.053954Z",
     "start_time": "2021-06-26T18:30:46.655784Z"
    }
   },
   "outputs": [
    {
     "data": {
      "text/plain": [
       "['Age upon Intake',\n",
       " 'Intake Type',\n",
       " 'Intake Condition',\n",
       " 'Animal Type',\n",
       " 'Sex upon Intake',\n",
       " 'Breed',\n",
       " 'Color']"
      ]
     },
     "execution_count": 58,
     "metadata": {},
     "output_type": "execute_result"
    }
   ],
   "source": [
    "selected_features = [feature for feature in features if feature in challenger_model.feature_importance().index]\n",
    "selected_features"
   ]
  },
  {
   "cell_type": "code",
   "execution_count": 59,
   "id": "parallel-heritage",
   "metadata": {
    "ExecuteTime": {
     "end_time": "2021-06-26T18:33:38.708090Z",
     "start_time": "2021-06-26T18:30:49.057135Z"
    }
   },
   "outputs": [
    {
     "data": {
      "text/html": [
       "<style  type=\"text/css\" >\n",
       "#T_0622a408_d6ad_11eb_b6bf_acde48001122row5_col0,#T_0622a408_d6ad_11eb_b6bf_acde48001122row5_col1,#T_0622a408_d6ad_11eb_b6bf_acde48001122row5_col2,#T_0622a408_d6ad_11eb_b6bf_acde48001122row5_col3,#T_0622a408_d6ad_11eb_b6bf_acde48001122row5_col4,#T_0622a408_d6ad_11eb_b6bf_acde48001122row5_col5,#T_0622a408_d6ad_11eb_b6bf_acde48001122row5_col6{\n",
       "            background:  yellow;\n",
       "        }</style><table id=\"T_0622a408_d6ad_11eb_b6bf_acde48001122\" ><thead>    <tr>        <th class=\"blank level0\" ></th>        <th class=\"col_heading level0 col0\" >Accuracy</th>        <th class=\"col_heading level0 col1\" >AUC</th>        <th class=\"col_heading level0 col2\" >Recall</th>        <th class=\"col_heading level0 col3\" >Prec.</th>        <th class=\"col_heading level0 col4\" >F1</th>        <th class=\"col_heading level0 col5\" >Kappa</th>        <th class=\"col_heading level0 col6\" >MCC</th>    </tr></thead><tbody>\n",
       "                <tr>\n",
       "                        <th id=\"T_0622a408_d6ad_11eb_b6bf_acde48001122level0_row0\" class=\"row_heading level0 row0\" >0</th>\n",
       "                        <td id=\"T_0622a408_d6ad_11eb_b6bf_acde48001122row0_col0\" class=\"data row0 col0\" >0.6999</td>\n",
       "                        <td id=\"T_0622a408_d6ad_11eb_b6bf_acde48001122row0_col1\" class=\"data row0 col1\" >0.7886</td>\n",
       "                        <td id=\"T_0622a408_d6ad_11eb_b6bf_acde48001122row0_col2\" class=\"data row0 col2\" >0.7753</td>\n",
       "                        <td id=\"T_0622a408_d6ad_11eb_b6bf_acde48001122row0_col3\" class=\"data row0 col3\" >0.4831</td>\n",
       "                        <td id=\"T_0622a408_d6ad_11eb_b6bf_acde48001122row0_col4\" class=\"data row0 col4\" >0.5952</td>\n",
       "                        <td id=\"T_0622a408_d6ad_11eb_b6bf_acde48001122row0_col5\" class=\"data row0 col5\" >0.3766</td>\n",
       "                        <td id=\"T_0622a408_d6ad_11eb_b6bf_acde48001122row0_col6\" class=\"data row0 col6\" >0.4033</td>\n",
       "            </tr>\n",
       "            <tr>\n",
       "                        <th id=\"T_0622a408_d6ad_11eb_b6bf_acde48001122level0_row1\" class=\"row_heading level0 row1\" >1</th>\n",
       "                        <td id=\"T_0622a408_d6ad_11eb_b6bf_acde48001122row1_col0\" class=\"data row1 col0\" >0.6926</td>\n",
       "                        <td id=\"T_0622a408_d6ad_11eb_b6bf_acde48001122row1_col1\" class=\"data row1 col1\" >0.7885</td>\n",
       "                        <td id=\"T_0622a408_d6ad_11eb_b6bf_acde48001122row1_col2\" class=\"data row1 col2\" >0.7693</td>\n",
       "                        <td id=\"T_0622a408_d6ad_11eb_b6bf_acde48001122row1_col3\" class=\"data row1 col3\" >0.4754</td>\n",
       "                        <td id=\"T_0622a408_d6ad_11eb_b6bf_acde48001122row1_col4\" class=\"data row1 col4\" >0.5877</td>\n",
       "                        <td id=\"T_0622a408_d6ad_11eb_b6bf_acde48001122row1_col5\" class=\"data row1 col5\" >0.3637</td>\n",
       "                        <td id=\"T_0622a408_d6ad_11eb_b6bf_acde48001122row1_col6\" class=\"data row1 col6\" >0.3906</td>\n",
       "            </tr>\n",
       "            <tr>\n",
       "                        <th id=\"T_0622a408_d6ad_11eb_b6bf_acde48001122level0_row2\" class=\"row_heading level0 row2\" >2</th>\n",
       "                        <td id=\"T_0622a408_d6ad_11eb_b6bf_acde48001122row2_col0\" class=\"data row2 col0\" >0.6849</td>\n",
       "                        <td id=\"T_0622a408_d6ad_11eb_b6bf_acde48001122row2_col1\" class=\"data row2 col1\" >0.7874</td>\n",
       "                        <td id=\"T_0622a408_d6ad_11eb_b6bf_acde48001122row2_col2\" class=\"data row2 col2\" >0.7757</td>\n",
       "                        <td id=\"T_0622a408_d6ad_11eb_b6bf_acde48001122row2_col3\" class=\"data row2 col3\" >0.4677</td>\n",
       "                        <td id=\"T_0622a408_d6ad_11eb_b6bf_acde48001122row2_col4\" class=\"data row2 col4\" >0.5836</td>\n",
       "                        <td id=\"T_0622a408_d6ad_11eb_b6bf_acde48001122row2_col5\" class=\"data row2 col5\" >0.3542</td>\n",
       "                        <td id=\"T_0622a408_d6ad_11eb_b6bf_acde48001122row2_col6\" class=\"data row2 col6\" >0.3836</td>\n",
       "            </tr>\n",
       "            <tr>\n",
       "                        <th id=\"T_0622a408_d6ad_11eb_b6bf_acde48001122level0_row3\" class=\"row_heading level0 row3\" >3</th>\n",
       "                        <td id=\"T_0622a408_d6ad_11eb_b6bf_acde48001122row3_col0\" class=\"data row3 col0\" >0.6805</td>\n",
       "                        <td id=\"T_0622a408_d6ad_11eb_b6bf_acde48001122row3_col1\" class=\"data row3 col1\" >0.7726</td>\n",
       "                        <td id=\"T_0622a408_d6ad_11eb_b6bf_acde48001122row3_col2\" class=\"data row3 col2\" >0.7673</td>\n",
       "                        <td id=\"T_0622a408_d6ad_11eb_b6bf_acde48001122row3_col3\" class=\"data row3 col3\" >0.4631</td>\n",
       "                        <td id=\"T_0622a408_d6ad_11eb_b6bf_acde48001122row3_col4\" class=\"data row3 col4\" >0.5776</td>\n",
       "                        <td id=\"T_0622a408_d6ad_11eb_b6bf_acde48001122row3_col5\" class=\"data row3 col5\" >0.3450</td>\n",
       "                        <td id=\"T_0622a408_d6ad_11eb_b6bf_acde48001122row3_col6\" class=\"data row3 col6\" >0.3736</td>\n",
       "            </tr>\n",
       "            <tr>\n",
       "                        <th id=\"T_0622a408_d6ad_11eb_b6bf_acde48001122level0_row4\" class=\"row_heading level0 row4\" >4</th>\n",
       "                        <td id=\"T_0622a408_d6ad_11eb_b6bf_acde48001122row4_col0\" class=\"data row4 col0\" >0.6965</td>\n",
       "                        <td id=\"T_0622a408_d6ad_11eb_b6bf_acde48001122row4_col1\" class=\"data row4 col1\" >0.7861</td>\n",
       "                        <td id=\"T_0622a408_d6ad_11eb_b6bf_acde48001122row4_col2\" class=\"data row4 col2\" >0.7717</td>\n",
       "                        <td id=\"T_0622a408_d6ad_11eb_b6bf_acde48001122row4_col3\" class=\"data row4 col3\" >0.4795</td>\n",
       "                        <td id=\"T_0622a408_d6ad_11eb_b6bf_acde48001122row4_col4\" class=\"data row4 col4\" >0.5915</td>\n",
       "                        <td id=\"T_0622a408_d6ad_11eb_b6bf_acde48001122row4_col5\" class=\"data row4 col5\" >0.3704</td>\n",
       "                        <td id=\"T_0622a408_d6ad_11eb_b6bf_acde48001122row4_col6\" class=\"data row4 col6\" >0.3970</td>\n",
       "            </tr>\n",
       "            <tr>\n",
       "                        <th id=\"T_0622a408_d6ad_11eb_b6bf_acde48001122level0_row5\" class=\"row_heading level0 row5\" >Mean</th>\n",
       "                        <td id=\"T_0622a408_d6ad_11eb_b6bf_acde48001122row5_col0\" class=\"data row5 col0\" >0.6909</td>\n",
       "                        <td id=\"T_0622a408_d6ad_11eb_b6bf_acde48001122row5_col1\" class=\"data row5 col1\" >0.7847</td>\n",
       "                        <td id=\"T_0622a408_d6ad_11eb_b6bf_acde48001122row5_col2\" class=\"data row5 col2\" >0.7719</td>\n",
       "                        <td id=\"T_0622a408_d6ad_11eb_b6bf_acde48001122row5_col3\" class=\"data row5 col3\" >0.4738</td>\n",
       "                        <td id=\"T_0622a408_d6ad_11eb_b6bf_acde48001122row5_col4\" class=\"data row5 col4\" >0.5871</td>\n",
       "                        <td id=\"T_0622a408_d6ad_11eb_b6bf_acde48001122row5_col5\" class=\"data row5 col5\" >0.3620</td>\n",
       "                        <td id=\"T_0622a408_d6ad_11eb_b6bf_acde48001122row5_col6\" class=\"data row5 col6\" >0.3896</td>\n",
       "            </tr>\n",
       "            <tr>\n",
       "                        <th id=\"T_0622a408_d6ad_11eb_b6bf_acde48001122level0_row6\" class=\"row_heading level0 row6\" >SD</th>\n",
       "                        <td id=\"T_0622a408_d6ad_11eb_b6bf_acde48001122row6_col0\" class=\"data row6 col0\" >0.0072</td>\n",
       "                        <td id=\"T_0622a408_d6ad_11eb_b6bf_acde48001122row6_col1\" class=\"data row6 col1\" >0.0061</td>\n",
       "                        <td id=\"T_0622a408_d6ad_11eb_b6bf_acde48001122row6_col2\" class=\"data row6 col2\" >0.0033</td>\n",
       "                        <td id=\"T_0622a408_d6ad_11eb_b6bf_acde48001122row6_col3\" class=\"data row6 col3\" >0.0074</td>\n",
       "                        <td id=\"T_0622a408_d6ad_11eb_b6bf_acde48001122row6_col4\" class=\"data row6 col4\" >0.0061</td>\n",
       "                        <td id=\"T_0622a408_d6ad_11eb_b6bf_acde48001122row6_col5\" class=\"data row6 col5\" >0.0113</td>\n",
       "                        <td id=\"T_0622a408_d6ad_11eb_b6bf_acde48001122row6_col6\" class=\"data row6 col6\" >0.0104</td>\n",
       "            </tr>\n",
       "    </tbody></table>"
      ],
      "text/plain": [
       "<pandas.io.formats.style.Styler at 0x7faec9bf8dd8>"
      ]
     },
     "metadata": {},
     "output_type": "display_data"
    }
   ],
   "source": [
    "clf1 = setup(train[selected_features + [TARGET]], \n",
    "             target=\"target\",\n",
    "             session_id=22, \n",
    "             log_experiment=False, \n",
    "             experiment_name=\"shelter_fs\",\n",
    "             silent=True)\n",
    "\n",
    "rf = create_model('rf')\n",
    "tuned_rf = tune_model(rf,\n",
    "                     optimize=\"AUC\",\n",
    "                     fold=5,\n",
    "                     n_iter=50)"
   ]
  },
  {
   "cell_type": "code",
   "execution_count": 60,
   "id": "subject-leisure",
   "metadata": {
    "ExecuteTime": {
     "end_time": "2021-06-26T18:33:38.716121Z",
     "start_time": "2021-06-26T18:33:38.711054Z"
    }
   },
   "outputs": [
    {
     "data": {
      "text/plain": [
       "RandomForestClassifier(bootstrap=False, ccp_alpha=0.0, class_weight='balanced',\n",
       "                       criterion='entropy', max_depth=10, max_features='sqrt',\n",
       "                       max_leaf_nodes=None, max_samples=None,\n",
       "                       min_impurity_decrease=0.0001, min_impurity_split=None,\n",
       "                       min_samples_leaf=3, min_samples_split=7,\n",
       "                       min_weight_fraction_leaf=0.0, n_estimators=80, n_jobs=-1,\n",
       "                       oob_score=False, random_state=22, verbose=0,\n",
       "                       warm_start=False)"
      ]
     },
     "execution_count": 60,
     "metadata": {},
     "output_type": "execute_result"
    }
   ],
   "source": [
    "tuned_rf"
   ]
  },
  {
   "cell_type": "code",
   "execution_count": 61,
   "id": "ecological-excerpt",
   "metadata": {
    "ExecuteTime": {
     "end_time": "2021-06-26T18:33:39.742023Z",
     "start_time": "2021-06-26T18:33:38.718506Z"
    }
   },
   "outputs": [],
   "source": [
    "benchmark_model = tuned_rf\n",
    "benchmark_model.fit(train[selected_features], train[TARGET])\n",
    "\n",
    "train[\"benchmark_prediction_opt_selected_features\"] = benchmark_model.predict_proba(train[selected_features])[:, 1]\n",
    "test[\"benchmark_prediction_opt_selected_features\"] = benchmark_model.predict_proba(test[selected_features])[:, 1]\n",
    "out_of_time[\"benchmark_prediction_opt_selected_features\"] = benchmark_model.predict_proba(out_of_time[selected_features])[:, 1]"
   ]
  },
  {
   "cell_type": "code",
   "execution_count": 62,
   "id": "operating-shell",
   "metadata": {
    "ExecuteTime": {
     "end_time": "2021-06-26T18:33:39.798579Z",
     "start_time": "2021-06-26T18:33:39.744812Z"
    }
   },
   "outputs": [
    {
     "name": "stdout",
     "output_type": "stream",
     "text": [
      "0.7931725760779813\n",
      "0.7860827134854762\n",
      "0.7883109920247756\n"
     ]
    }
   ],
   "source": [
    "print(roc_auc_score(train[TARGET], train[\"benchmark_prediction_opt_selected_features\"]))\n",
    "print(roc_auc_score(test[TARGET], test[\"benchmark_prediction_opt_selected_features\"]))\n",
    "print(roc_auc_score(out_of_time[TARGET], out_of_time[\"benchmark_prediction_opt_selected_features\"]))"
   ]
  },
  {
   "cell_type": "code",
   "execution_count": 63,
   "id": "superb-smith",
   "metadata": {
    "ExecuteTime": {
     "end_time": "2021-06-26T18:33:40.395501Z",
     "start_time": "2021-06-26T18:33:39.801672Z"
    }
   },
   "outputs": [
    {
     "data": {
      "image/png": "[encoded data removed]",
      "text/plain": [
       "<Figure size 576x432 with 1 Axes>"
      ]
     },
     "metadata": {},
     "output_type": "display_data"
    }
   ],
   "source": [
    "fig, ax = plt.subplots(figsize=(8, 6))\n",
    "pd.concat([test, out_of_time]).groupby(TIME_COLUMN).apply(lambda x: roc_auc_score(x[TARGET], x[\"challenger_prediction\"])).plot(label=\"Time Robust Forest\", \n",
    "                                                                                                      linestyle=\"dashed\",\n",
    "                                                                                                      color=\"green\", ax=ax)\n",
    "pd.concat([test, out_of_time]).groupby(TIME_COLUMN).apply(lambda x: roc_auc_score(x[TARGET], x[\"benchmark_prediction_opt\"])).plot(label=\"Random Forest\", ax=ax)\n",
    "\n",
    "pd.concat([test, out_of_time]).groupby(TIME_COLUMN).apply(lambda x: roc_auc_score(x[TARGET], x[\"benchmark_prediction_opt_selected_features\"])).plot(label=\"Random Forest w/ TRF feature selection\", ax=ax)\n",
    "\n",
    "\n",
    "ax.xaxis.set_tick_params(labelsize=15)\n",
    "ax.yaxis.set_tick_params(labelsize=15)\n",
    "\n",
    "xmin, xmax, ymin, ymax = plt.axis()\n",
    "plt.vlines(training_end_year + 1, ymin, ymax, linestyle=\"dotted\", color=\"red\", label=\"Holdout start\")\n",
    "plt.ylim([ymin, ymax])\n",
    "plt.legend(fontsize=15, bbox_to_anchor=(0.45, 1.0))\n",
    "plt.ylabel(\"AUC\", fontsize=16)\n",
    "plt.xlabel(\"Year\", fontsize=16)\n",
    "plt.savefig(\"../images/shelter_test_holdout_auc_years_square_fs.eps\", format=\"eps\")\n",
    "plt.show()"
   ]
  },
  {
   "cell_type": "markdown",
   "id": "labeled-period",
   "metadata": {},
   "source": [
    "## Domain classifier"
   ]
  },
  {
   "cell_type": "code",
   "execution_count": 63,
   "id": "presidential-techno",
   "metadata": {
    "ExecuteTime": {
     "end_time": "2021-04-02T22:07:53.853460Z",
     "start_time": "2021-04-02T22:07:51.540803Z"
    }
   },
   "outputs": [],
   "source": [
    "train[\"domain\"] = 1\n",
    "test[\"domain\"] = 1\n",
    "out_of_time[\"domain\"] = 0"
   ]
  },
  {
   "cell_type": "code",
   "execution_count": 64,
   "id": "confidential-turner",
   "metadata": {
    "ExecuteTime": {
     "end_time": "2021-04-02T22:08:07.073605Z",
     "start_time": "2021-04-02T22:07:59.614541Z"
    }
   },
   "outputs": [],
   "source": [
    "domain_data = pd.concat([train, test, out_of_time])"
   ]
  },
  {
   "cell_type": "code",
   "execution_count": 65,
   "id": "determined-california",
   "metadata": {
    "ExecuteTime": {
     "end_time": "2021-04-02T22:08:24.870133Z",
     "start_time": "2021-04-02T22:08:15.972350Z"
    }
   },
   "outputs": [],
   "source": [
    "train_domain, test_domain = train_test_split(domain_data, \n",
    "                               test_size=0.2,\n",
    "                               random_state=42)"
   ]
  },
  {
   "cell_type": "code",
   "execution_count": 66,
   "id": "higher-treat",
   "metadata": {
    "ExecuteTime": {
     "end_time": "2021-04-02T22:37:20.824417Z",
     "start_time": "2021-04-02T22:09:11.137931Z"
    }
   },
   "outputs": [
    {
     "data": {
      "text/html": [
       "<style  type=\"text/css\" >\n",
       "#T_fab2b0b8_9403_11eb_b026_acde48001122row5_col0,#T_fab2b0b8_9403_11eb_b026_acde48001122row5_col1,#T_fab2b0b8_9403_11eb_b026_acde48001122row5_col2,#T_fab2b0b8_9403_11eb_b026_acde48001122row5_col3,#T_fab2b0b8_9403_11eb_b026_acde48001122row5_col4,#T_fab2b0b8_9403_11eb_b026_acde48001122row5_col5,#T_fab2b0b8_9403_11eb_b026_acde48001122row5_col6{\n",
       "            background:  yellow;\n",
       "        }</style><table id=\"T_fab2b0b8_9403_11eb_b026_acde48001122\" ><thead>    <tr>        <th class=\"blank level0\" ></th>        <th class=\"col_heading level0 col0\" >Accuracy</th>        <th class=\"col_heading level0 col1\" >AUC</th>        <th class=\"col_heading level0 col2\" >Recall</th>        <th class=\"col_heading level0 col3\" >Prec.</th>        <th class=\"col_heading level0 col4\" >F1</th>        <th class=\"col_heading level0 col5\" >Kappa</th>        <th class=\"col_heading level0 col6\" >MCC</th>    </tr></thead><tbody>\n",
       "                <tr>\n",
       "                        <th id=\"T_fab2b0b8_9403_11eb_b026_acde48001122level0_row0\" class=\"row_heading level0 row0\" >0</th>\n",
       "                        <td id=\"T_fab2b0b8_9403_11eb_b026_acde48001122row0_col0\" class=\"data row0 col0\" >0.6684</td>\n",
       "                        <td id=\"T_fab2b0b8_9403_11eb_b026_acde48001122row0_col1\" class=\"data row0 col1\" >0.6886</td>\n",
       "                        <td id=\"T_fab2b0b8_9403_11eb_b026_acde48001122row0_col2\" class=\"data row0 col2\" >0.7742</td>\n",
       "                        <td id=\"T_fab2b0b8_9403_11eb_b026_acde48001122row0_col3\" class=\"data row0 col3\" >0.7067</td>\n",
       "                        <td id=\"T_fab2b0b8_9403_11eb_b026_acde48001122row0_col4\" class=\"data row0 col4\" >0.7389</td>\n",
       "                        <td id=\"T_fab2b0b8_9403_11eb_b026_acde48001122row0_col5\" class=\"data row0 col5\" >0.2874</td>\n",
       "                        <td id=\"T_fab2b0b8_9403_11eb_b026_acde48001122row0_col6\" class=\"data row0 col6\" >0.2897</td>\n",
       "            </tr>\n",
       "            <tr>\n",
       "                        <th id=\"T_fab2b0b8_9403_11eb_b026_acde48001122level0_row1\" class=\"row_heading level0 row1\" >1</th>\n",
       "                        <td id=\"T_fab2b0b8_9403_11eb_b026_acde48001122row1_col0\" class=\"data row1 col0\" >0.6655</td>\n",
       "                        <td id=\"T_fab2b0b8_9403_11eb_b026_acde48001122row1_col1\" class=\"data row1 col1\" >0.6853</td>\n",
       "                        <td id=\"T_fab2b0b8_9403_11eb_b026_acde48001122row1_col2\" class=\"data row1 col2\" >0.7730</td>\n",
       "                        <td id=\"T_fab2b0b8_9403_11eb_b026_acde48001122row1_col3\" class=\"data row1 col3\" >0.7040</td>\n",
       "                        <td id=\"T_fab2b0b8_9403_11eb_b026_acde48001122row1_col4\" class=\"data row1 col4\" >0.7369</td>\n",
       "                        <td id=\"T_fab2b0b8_9403_11eb_b026_acde48001122row1_col5\" class=\"data row1 col5\" >0.2806</td>\n",
       "                        <td id=\"T_fab2b0b8_9403_11eb_b026_acde48001122row1_col6\" class=\"data row1 col6\" >0.2830</td>\n",
       "            </tr>\n",
       "            <tr>\n",
       "                        <th id=\"T_fab2b0b8_9403_11eb_b026_acde48001122level0_row2\" class=\"row_heading level0 row2\" >2</th>\n",
       "                        <td id=\"T_fab2b0b8_9403_11eb_b026_acde48001122row2_col0\" class=\"data row2 col0\" >0.6717</td>\n",
       "                        <td id=\"T_fab2b0b8_9403_11eb_b026_acde48001122row2_col1\" class=\"data row2 col1\" >0.6866</td>\n",
       "                        <td id=\"T_fab2b0b8_9403_11eb_b026_acde48001122row2_col2\" class=\"data row2 col2\" >0.7953</td>\n",
       "                        <td id=\"T_fab2b0b8_9403_11eb_b026_acde48001122row2_col3\" class=\"data row2 col3\" >0.7023</td>\n",
       "                        <td id=\"T_fab2b0b8_9403_11eb_b026_acde48001122row2_col4\" class=\"data row2 col4\" >0.7459</td>\n",
       "                        <td id=\"T_fab2b0b8_9403_11eb_b026_acde48001122row2_col5\" class=\"data row2 col5\" >0.2871</td>\n",
       "                        <td id=\"T_fab2b0b8_9403_11eb_b026_acde48001122row2_col6\" class=\"data row2 col6\" >0.2916</td>\n",
       "            </tr>\n",
       "            <tr>\n",
       "                        <th id=\"T_fab2b0b8_9403_11eb_b026_acde48001122level0_row3\" class=\"row_heading level0 row3\" >3</th>\n",
       "                        <td id=\"T_fab2b0b8_9403_11eb_b026_acde48001122row3_col0\" class=\"data row3 col0\" >0.6732</td>\n",
       "                        <td id=\"T_fab2b0b8_9403_11eb_b026_acde48001122row3_col1\" class=\"data row3 col1\" >0.6902</td>\n",
       "                        <td id=\"T_fab2b0b8_9403_11eb_b026_acde48001122row3_col2\" class=\"data row3 col2\" >0.7952</td>\n",
       "                        <td id=\"T_fab2b0b8_9403_11eb_b026_acde48001122row3_col3\" class=\"data row3 col3\" >0.7039</td>\n",
       "                        <td id=\"T_fab2b0b8_9403_11eb_b026_acde48001122row3_col4\" class=\"data row3 col4\" >0.7467</td>\n",
       "                        <td id=\"T_fab2b0b8_9403_11eb_b026_acde48001122row3_col5\" class=\"data row3 col5\" >0.2911</td>\n",
       "                        <td id=\"T_fab2b0b8_9403_11eb_b026_acde48001122row3_col6\" class=\"data row3 col6\" >0.2954</td>\n",
       "            </tr>\n",
       "            <tr>\n",
       "                        <th id=\"T_fab2b0b8_9403_11eb_b026_acde48001122level0_row4\" class=\"row_heading level0 row4\" >4</th>\n",
       "                        <td id=\"T_fab2b0b8_9403_11eb_b026_acde48001122row4_col0\" class=\"data row4 col0\" >0.6691</td>\n",
       "                        <td id=\"T_fab2b0b8_9403_11eb_b026_acde48001122row4_col1\" class=\"data row4 col1\" >0.6900</td>\n",
       "                        <td id=\"T_fab2b0b8_9403_11eb_b026_acde48001122row4_col2\" class=\"data row4 col2\" >0.7835</td>\n",
       "                        <td id=\"T_fab2b0b8_9403_11eb_b026_acde48001122row4_col3\" class=\"data row4 col3\" >0.7038</td>\n",
       "                        <td id=\"T_fab2b0b8_9403_11eb_b026_acde48001122row4_col4\" class=\"data row4 col4\" >0.7415</td>\n",
       "                        <td id=\"T_fab2b0b8_9403_11eb_b026_acde48001122row4_col5\" class=\"data row4 col5\" >0.2854</td>\n",
       "                        <td id=\"T_fab2b0b8_9403_11eb_b026_acde48001122row4_col6\" class=\"data row4 col6\" >0.2885</td>\n",
       "            </tr>\n",
       "            <tr>\n",
       "                        <th id=\"T_fab2b0b8_9403_11eb_b026_acde48001122level0_row5\" class=\"row_heading level0 row5\" >Mean</th>\n",
       "                        <td id=\"T_fab2b0b8_9403_11eb_b026_acde48001122row5_col0\" class=\"data row5 col0\" >0.6696</td>\n",
       "                        <td id=\"T_fab2b0b8_9403_11eb_b026_acde48001122row5_col1\" class=\"data row5 col1\" >0.6881</td>\n",
       "                        <td id=\"T_fab2b0b8_9403_11eb_b026_acde48001122row5_col2\" class=\"data row5 col2\" >0.7842</td>\n",
       "                        <td id=\"T_fab2b0b8_9403_11eb_b026_acde48001122row5_col3\" class=\"data row5 col3\" >0.7041</td>\n",
       "                        <td id=\"T_fab2b0b8_9403_11eb_b026_acde48001122row5_col4\" class=\"data row5 col4\" >0.7420</td>\n",
       "                        <td id=\"T_fab2b0b8_9403_11eb_b026_acde48001122row5_col5\" class=\"data row5 col5\" >0.2863</td>\n",
       "                        <td id=\"T_fab2b0b8_9403_11eb_b026_acde48001122row5_col6\" class=\"data row5 col6\" >0.2896</td>\n",
       "            </tr>\n",
       "            <tr>\n",
       "                        <th id=\"T_fab2b0b8_9403_11eb_b026_acde48001122level0_row6\" class=\"row_heading level0 row6\" >SD</th>\n",
       "                        <td id=\"T_fab2b0b8_9403_11eb_b026_acde48001122row6_col0\" class=\"data row6 col0\" >0.0027</td>\n",
       "                        <td id=\"T_fab2b0b8_9403_11eb_b026_acde48001122row6_col1\" class=\"data row6 col1\" >0.0019</td>\n",
       "                        <td id=\"T_fab2b0b8_9403_11eb_b026_acde48001122row6_col2\" class=\"data row6 col2\" >0.0097</td>\n",
       "                        <td id=\"T_fab2b0b8_9403_11eb_b026_acde48001122row6_col3\" class=\"data row6 col3\" >0.0014</td>\n",
       "                        <td id=\"T_fab2b0b8_9403_11eb_b026_acde48001122row6_col4\" class=\"data row6 col4\" >0.0038</td>\n",
       "                        <td id=\"T_fab2b0b8_9403_11eb_b026_acde48001122row6_col5\" class=\"data row6 col5\" >0.0034</td>\n",
       "                        <td id=\"T_fab2b0b8_9403_11eb_b026_acde48001122row6_col6\" class=\"data row6 col6\" >0.0041</td>\n",
       "            </tr>\n",
       "    </tbody></table>"
      ],
      "text/plain": [
       "<pandas.io.formats.style.Styler at 0x7fe589604518>"
      ]
     },
     "metadata": {},
     "output_type": "display_data"
    },
    {
     "name": "stderr",
     "output_type": "stream",
     "text": [
      "INFO:logs:create_model_container: 2\n",
      "INFO:logs:master_model_container: 2\n",
      "INFO:logs:display_container: 3\n",
      "INFO:logs:RandomForestClassifier(bootstrap=True, ccp_alpha=0.0,\n",
      "                       class_weight='balanced_subsample', criterion='entropy',\n",
      "                       max_depth=9, max_features=1.0, max_leaf_nodes=None,\n",
      "                       max_samples=None, min_impurity_decrease=0.0002,\n",
      "                       min_impurity_split=None, min_samples_leaf=2,\n",
      "                       min_samples_split=7, min_weight_fraction_leaf=0.0,\n",
      "                       n_estimators=160, n_jobs=-1, oob_score=False,\n",
      "                       random_state=124, verbose=0, warm_start=False)\n",
      "INFO:logs:tune_model() succesfully completed......................................\n"
     ]
    }
   ],
   "source": [
    "clf2 = setup(train_domain[features + [\"domain\"]], target=\"domain\",\n",
    "             session_id=124, \n",
    "             log_experiment=False, \n",
    "             experiment_name=\"shelter_domain\",\n",
    "             silent=True)\n",
    "\n",
    "rf = create_model('rf')\n",
    "tuned_domain_rf = tune_model(rf,\n",
    "                             optimize=\"AUC\",\n",
    "                             fold=5,\n",
    "                             n_iter=50)"
   ]
  },
  {
   "cell_type": "code",
   "execution_count": 67,
   "id": "powered-reach",
   "metadata": {
    "ExecuteTime": {
     "end_time": "2021-04-02T22:37:20.843589Z",
     "start_time": "2021-04-02T22:37:20.836135Z"
    }
   },
   "outputs": [],
   "source": [
    "domain_model = tuned_domain_rf"
   ]
  },
  {
   "cell_type": "code",
   "execution_count": 68,
   "id": "balanced-quick",
   "metadata": {
    "ExecuteTime": {
     "end_time": "2021-04-02T22:38:45.077018Z",
     "start_time": "2021-04-02T22:37:20.855449Z"
    }
   },
   "outputs": [
    {
     "data": {
      "text/plain": [
       "RandomForestClassifier(bootstrap=True, ccp_alpha=0.0,\n",
       "                       class_weight='balanced_subsample', criterion='entropy',\n",
       "                       max_depth=9, max_features=1.0, max_leaf_nodes=None,\n",
       "                       max_samples=None, min_impurity_decrease=0.0002,\n",
       "                       min_impurity_split=None, min_samples_leaf=2,\n",
       "                       min_samples_split=7, min_weight_fraction_leaf=0.0,\n",
       "                       n_estimators=160, n_jobs=-1, oob_score=False,\n",
       "                       random_state=124, verbose=0, warm_start=False)"
      ]
     },
     "execution_count": 68,
     "metadata": {},
     "output_type": "execute_result"
    }
   ],
   "source": [
    "domain_model.fit(train_domain[features], train_domain[\"domain\"])"
   ]
  },
  {
   "cell_type": "code",
   "execution_count": 69,
   "id": "international-definition",
   "metadata": {
    "ExecuteTime": {
     "end_time": "2021-04-02T22:38:45.314167Z",
     "start_time": "2021-04-02T22:38:45.082144Z"
    }
   },
   "outputs": [],
   "source": [
    "test_domain[\"pred_domain\"] = domain_model.predict_proba(test_domain[features])[:, 1]"
   ]
  },
  {
   "cell_type": "code",
   "execution_count": 70,
   "id": "other-valve",
   "metadata": {
    "ExecuteTime": {
     "end_time": "2021-04-02T22:38:45.346608Z",
     "start_time": "2021-04-02T22:38:45.318204Z"
    }
   },
   "outputs": [
    {
     "data": {
      "text/plain": [
       "0.683725148559403"
      ]
     },
     "execution_count": 70,
     "metadata": {},
     "output_type": "execute_result"
    }
   ],
   "source": [
    "roc_auc_score(test_domain[\"domain\"], test_domain[\"pred_domain\"])"
   ]
  }
 ],
 "metadata": {
  "hide_input": false,
  "kernelspec": {
   "display_name": "ml3",
   "language": "python",
   "name": "lgm"
  },
  "language_info": {
   "codemirror_mode": {
    "name": "ipython",
    "version": 3
   },
   "file_extension": ".py",
   "mimetype": "text/x-python",
   "name": "python",
   "nbconvert_exporter": "python",
   "pygments_lexer": "ipython3",
   "version": "3.6.3"
  },
  "toc": {
   "base_numbering": 1,
   "nav_menu": {},
   "number_sections": true,
   "sideBar": true,
   "skip_h1_title": true,
   "title_cell": "Index",
   "title_sidebar": "Contents",
   "toc_cell": true,
   "toc_position": {},
   "toc_section_display": true,
   "toc_window_display": false
  }
 },
 "nbformat": 4,
 "nbformat_minor": 5
}
