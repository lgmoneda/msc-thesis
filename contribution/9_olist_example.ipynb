{
 "cells": [
  {
   "cell_type": "markdown",
   "metadata": {},
   "source": [
    "# Example - Chicago Crime"
   ]
  },
  {
   "cell_type": "markdown",
   "metadata": {
    "toc": true
   },
   "source": [
    "<h1>Index<span class=\"tocSkip\"></span></h1>\n",
    "<div class=\"toc\"><ul class=\"toc-item\"><li><span><a href=\"#Create-a-target\" data-toc-modified-id=\"Create-a-target-1\"><span class=\"toc-item-num\">1&nbsp;&nbsp;</span>Create a target</a></span></li><li><span><a href=\"#Modeling\" data-toc-modified-id=\"Modeling-2\"><span class=\"toc-item-num\">2&nbsp;&nbsp;</span>Modeling</a></span><ul class=\"toc-item\"><li><span><a href=\"#Data\" data-toc-modified-id=\"Data-2.1\"><span class=\"toc-item-num\">2.1&nbsp;&nbsp;</span>Data</a></span></li></ul></li><li><span><a href=\"#Checking-the-support-in-the-different-environments\" data-toc-modified-id=\"Checking-the-support-in-the-different-environments-3\"><span class=\"toc-item-num\">3&nbsp;&nbsp;</span>Checking the support in the different environments</a></span><ul class=\"toc-item\"><li><span><a href=\"#Benchmark\" data-toc-modified-id=\"Benchmark-3.1\"><span class=\"toc-item-num\">3.1&nbsp;&nbsp;</span>Benchmark</a></span></li></ul></li><li><span><a href=\"#Challenger-model\" data-toc-modified-id=\"Challenger-model-4\"><span class=\"toc-item-num\">4&nbsp;&nbsp;</span>Challenger model</a></span></li><li><span><a href=\"#TRF-as-feature-selection\" data-toc-modified-id=\"TRF-as-feature-selection-5\"><span class=\"toc-item-num\">5&nbsp;&nbsp;</span>TRF as feature selection</a></span></li><li><span><a href=\"#Domain-classifier\" data-toc-modified-id=\"Domain-classifier-6\"><span class=\"toc-item-num\">6&nbsp;&nbsp;</span>Domain classifier</a></span></li></ul></div>"
   ]
  },
  {
   "cell_type": "code",
   "execution_count": 1,
   "metadata": {
    "ExecuteTime": {
     "end_time": "2021-06-26T16:52:31.740769Z",
     "start_time": "2021-06-26T16:52:31.736512Z"
    },
    "execution": {
     "iopub.execute_input": "2021-08-18T21:13:04.206733Z",
     "iopub.status.busy": "2021-08-18T21:13:04.206419Z",
     "iopub.status.idle": "2021-08-18T21:13:05.552546Z",
     "shell.execute_reply": "2021-08-18T21:13:05.551865Z",
     "shell.execute_reply.started": "2021-08-18T21:13:04.206700Z"
    }
   },
   "outputs": [],
   "source": [
    "import pandas as pd\n",
    "import matplotlib.pyplot as plt\n",
    "import numpy as np\n",
    "import shap\n",
    "import seaborn as sns\n",
    "\n",
    "from sklearn.preprocessing import LabelEncoder\n",
    "from sklearn.tree import DecisionTreeClassifier\n",
    "from sklearn.ensemble import RandomForestClassifier\n",
    "from sklearn.model_selection import train_test_split\n",
    "from sklearn.metrics import roc_auc_score\n",
    "from sklearn import metrics\n",
    "from time_robust_forest.models import TimeForestClassifier\n",
    "from time_robust_forest.functions import check_categoricals_match, check_numerical_match\n",
    "from models.aux_functions import *\n",
    "\n",
    "np.random.seed(42)"
   ]
  },
  {
   "cell_type": "code",
   "execution_count": 2,
   "metadata": {
    "ExecuteTime": {
     "end_time": "2021-06-26T16:52:33.359680Z",
     "start_time": "2021-06-26T16:52:33.356688Z"
    },
    "execution": {
     "iopub.execute_input": "2021-08-18T21:13:05.553666Z",
     "iopub.status.busy": "2021-08-18T21:13:05.553498Z",
     "iopub.status.idle": "2021-08-18T21:13:05.556679Z",
     "shell.execute_reply": "2021-08-18T21:13:05.556240Z",
     "shell.execute_reply.started": "2021-08-18T21:13:05.553644Z"
    }
   },
   "outputs": [],
   "source": [
    "def set_style():\n",
    "    plt.style.use(['seaborn-white', 'seaborn-paper'])\n",
    "    plt.rcParams['figure.figsize'] = (12, 4)"
   ]
  },
  {
   "cell_type": "code",
   "execution_count": 3,
   "metadata": {
    "ExecuteTime": {
     "end_time": "2021-06-26T16:52:33.784329Z",
     "start_time": "2021-06-26T16:52:33.781776Z"
    },
    "execution": {
     "iopub.execute_input": "2021-08-18T21:13:05.557815Z",
     "iopub.status.busy": "2021-08-18T21:13:05.557655Z",
     "iopub.status.idle": "2021-08-18T21:13:05.562799Z",
     "shell.execute_reply": "2021-08-18T21:13:05.562376Z",
     "shell.execute_reply.started": "2021-08-18T21:13:05.557795Z"
    }
   },
   "outputs": [],
   "source": [
    "set_style()"
   ]
  },
  {
   "cell_type": "code",
   "execution_count": 4,
   "metadata": {
    "ExecuteTime": {
     "end_time": "2021-06-26T16:52:34.054791Z",
     "start_time": "2021-06-26T16:52:34.052577Z"
    },
    "execution": {
     "iopub.execute_input": "2021-08-18T21:13:05.563784Z",
     "iopub.status.busy": "2021-08-18T21:13:05.563631Z",
     "iopub.status.idle": "2021-08-18T21:13:05.568495Z",
     "shell.execute_reply": "2021-08-18T21:13:05.568076Z",
     "shell.execute_reply.started": "2021-08-18T21:13:05.563765Z"
    }
   },
   "outputs": [],
   "source": [
    "DATASETS_PATH = \"~/Documents/datasets/olist/\"\n",
    "PREFIX = \"olist\""
   ]
  },
  {
   "cell_type": "code",
   "execution_count": 5,
   "metadata": {
    "ExecuteTime": {
     "end_time": "2021-06-26T16:52:35.041247Z",
     "start_time": "2021-06-26T16:52:34.254730Z"
    },
    "execution": {
     "iopub.execute_input": "2021-08-18T21:13:05.569317Z",
     "iopub.status.busy": "2021-08-18T21:13:05.569165Z",
     "iopub.status.idle": "2021-08-18T21:13:08.588749Z",
     "shell.execute_reply": "2021-08-18T21:13:08.588193Z",
     "shell.execute_reply.started": "2021-08-18T21:13:05.569298Z"
    }
   },
   "outputs": [],
   "source": [
    "orders = pd.read_csv(DATASETS_PATH + \"olist_orders_dataset.csv\", engine=\"python\")\n",
    "customers = pd.read_csv(DATASETS_PATH + \"olist_customers_dataset.csv\", engine=\"python\")\n",
    "reviews = pd.read_csv(DATASETS_PATH + \"olist_order_reviews_dataset.csv\", engine=\"python\")\n",
    "payments = pd.read_csv(DATASETS_PATH + \"olist_order_payments_dataset.csv\", engine=\"python\")\n",
    "products = pd.read_csv(DATASETS_PATH + \"olist_products_dataset.csv\", engine=\"python\")\n",
    "category = pd.read_csv(DATASETS_PATH + \"product_category_name_translation.csv\", engine=\"python\")\n",
    "items = pd.read_csv(DATASETS_PATH + \"olist_order_items_dataset.csv\", engine=\"python\")"
   ]
  },
  {
   "cell_type": "code",
   "execution_count": 6,
   "metadata": {
    "execution": {
     "iopub.execute_input": "2021-08-18T21:13:08.589785Z",
     "iopub.status.busy": "2021-08-18T21:13:08.589602Z",
     "iopub.status.idle": "2021-08-18T21:13:08.594416Z",
     "shell.execute_reply": "2021-08-18T21:13:08.593980Z",
     "shell.execute_reply.started": "2021-08-18T21:13:08.589763Z"
    }
   },
   "outputs": [
    {
     "data": {
      "text/plain": [
       "Index(['order_id', 'customer_id', 'order_status', 'order_purchase_timestamp',\n",
       "       'order_approved_at', 'order_delivered_carrier_date',\n",
       "       'order_delivered_customer_date', 'order_estimated_delivery_date'],\n",
       "      dtype='object')"
      ]
     },
     "execution_count": 6,
     "metadata": {},
     "output_type": "execute_result"
    }
   ],
   "source": [
    "orders.columns"
   ]
  },
  {
   "cell_type": "code",
   "execution_count": 7,
   "metadata": {
    "execution": {
     "iopub.execute_input": "2021-08-18T21:13:08.595289Z",
     "iopub.status.busy": "2021-08-18T21:13:08.595133Z",
     "iopub.status.idle": "2021-08-18T21:13:08.821054Z",
     "shell.execute_reply": "2021-08-18T21:13:08.820497Z",
     "shell.execute_reply.started": "2021-08-18T21:13:08.595270Z"
    }
   },
   "outputs": [],
   "source": [
    "orders['order_purchase_timestamp'] = pd.to_datetime(orders.order_purchase_timestamp)\n",
    "orders['order_approved_at'] = pd.to_datetime(orders.order_approved_at).dt.date  \n",
    "orders['order_estimated_delivery_date'] = pd.to_datetime(orders.order_estimated_delivery_date).dt.date  \n",
    "orders['order_delivered_customer_date'] = pd.to_datetime(orders.order_delivered_customer_date).dt.date  \n",
    "items['shipping_limit_date'] = pd.to_datetime(items.shipping_limit_date).dt.date  "
   ]
  },
  {
   "cell_type": "code",
   "execution_count": 8,
   "metadata": {
    "execution": {
     "iopub.execute_input": "2021-08-18T21:13:08.822771Z",
     "iopub.status.busy": "2021-08-18T21:13:08.822591Z",
     "iopub.status.idle": "2021-08-18T21:13:08.980764Z",
     "shell.execute_reply": "2021-08-18T21:13:08.980190Z",
     "shell.execute_reply.started": "2021-08-18T21:13:08.822750Z"
    }
   },
   "outputs": [],
   "source": [
    "data = orders.merge(reviews, on=\"order_id\", how=\"left\")"
   ]
  },
  {
   "cell_type": "code",
   "execution_count": 9,
   "metadata": {
    "execution": {
     "iopub.execute_input": "2021-08-18T21:13:08.982101Z",
     "iopub.status.busy": "2021-08-18T21:13:08.981922Z",
     "iopub.status.idle": "2021-08-18T21:13:09.185998Z",
     "shell.execute_reply": "2021-08-18T21:13:09.185441Z",
     "shell.execute_reply.started": "2021-08-18T21:13:08.982081Z"
    }
   },
   "outputs": [],
   "source": [
    "data = data.merge(items, on=\"order_id\", how=\"left\")\n",
    "data = data.merge(products, on=\"product_id\", how=\"left\") "
   ]
  },
  {
   "cell_type": "code",
   "execution_count": 10,
   "metadata": {
    "execution": {
     "iopub.execute_input": "2021-08-18T21:13:09.187018Z",
     "iopub.status.busy": "2021-08-18T21:13:09.186845Z",
     "iopub.status.idle": "2021-08-18T21:13:11.099688Z",
     "shell.execute_reply": "2021-08-18T21:13:11.099123Z",
     "shell.execute_reply.started": "2021-08-18T21:13:09.186998Z"
    }
   },
   "outputs": [],
   "source": [
    "data[\"Year\"] = data[\"order_purchase_timestamp\"].apply(lambda x: int(x.year))\n",
    "data[\"Year-month\"] = data[\"order_purchase_timestamp\"].apply(lambda x: str(x.year) + \"-\" + str(x.month).zfill(2))\n",
    "data[\"Year-trimester\"] = data[\"order_purchase_timestamp\"].apply(lambda x: str(x.year) + \"-\" + str(int(x.month / 3)).zfill(2))"
   ]
  },
  {
   "cell_type": "code",
   "execution_count": 11,
   "metadata": {
    "ExecuteTime": {
     "end_time": "2021-06-26T16:52:35.048266Z",
     "start_time": "2021-06-26T16:52:35.043194Z"
    },
    "execution": {
     "iopub.execute_input": "2021-08-18T21:13:11.100714Z",
     "iopub.status.busy": "2021-08-18T21:13:11.100538Z",
     "iopub.status.idle": "2021-08-18T21:13:11.104028Z",
     "shell.execute_reply": "2021-08-18T21:13:11.103598Z",
     "shell.execute_reply.started": "2021-08-18T21:13:11.100694Z"
    }
   },
   "outputs": [
    {
     "data": {
      "text/plain": [
       "(114100, 31)"
      ]
     },
     "execution_count": 11,
     "metadata": {},
     "output_type": "execute_result"
    }
   ],
   "source": [
    "data.shape"
   ]
  },
  {
   "cell_type": "code",
   "execution_count": 12,
   "metadata": {
    "ExecuteTime": {
     "end_time": "2021-06-26T16:52:35.210039Z",
     "start_time": "2021-06-26T16:52:35.051018Z"
    },
    "execution": {
     "iopub.execute_input": "2021-08-18T21:13:11.104876Z",
     "iopub.status.busy": "2021-08-18T21:13:11.104724Z",
     "iopub.status.idle": "2021-08-18T21:13:11.374691Z",
     "shell.execute_reply": "2021-08-18T21:13:11.374198Z",
     "shell.execute_reply.started": "2021-08-18T21:13:11.104858Z"
    }
   },
   "outputs": [
    {
     "data": {
      "text/plain": [
       "order_id                         99441\n",
       "customer_id                      99441\n",
       "order_status                         8\n",
       "order_purchase_timestamp         98875\n",
       "order_approved_at                  611\n",
       "order_delivered_carrier_date     81018\n",
       "order_delivered_customer_date      645\n",
       "order_estimated_delivery_date      459\n",
       "review_id                        99173\n",
       "review_score                         5\n",
       "review_comment_title              4600\n",
       "review_comment_message           36921\n",
       "review_creation_date               637\n",
       "review_answer_timestamp          99010\n",
       "order_item_id                       21\n",
       "product_id                       32951\n",
       "seller_id                         3095\n",
       "shipping_limit_date                555\n",
       "price                             5968\n",
       "freight_value                     6999\n",
       "product_category_name               73\n",
       "product_name_lenght                 66\n",
       "product_description_lenght        2960\n",
       "product_photos_qty                  19\n",
       "product_weight_g                  2204\n",
       "product_length_cm                   99\n",
       "product_height_cm                  102\n",
       "product_width_cm                    95\n",
       "Year                                 3\n",
       "Year-month                          25\n",
       "Year-trimester                      11\n",
       "dtype: int64"
      ]
     },
     "execution_count": 12,
     "metadata": {},
     "output_type": "execute_result"
    }
   ],
   "source": [
    "data.nunique()"
   ]
  },
  {
   "cell_type": "code",
   "execution_count": 13,
   "metadata": {
    "ExecuteTime": {
     "end_time": "2021-06-26T16:52:35.217164Z",
     "start_time": "2021-06-26T16:52:35.212054Z"
    },
    "execution": {
     "iopub.execute_input": "2021-08-18T21:13:11.375711Z",
     "iopub.status.busy": "2021-08-18T21:13:11.375539Z",
     "iopub.status.idle": "2021-08-18T21:13:11.380284Z",
     "shell.execute_reply": "2021-08-18T21:13:11.379844Z",
     "shell.execute_reply.started": "2021-08-18T21:13:11.375690Z"
    }
   },
   "outputs": [
    {
     "data": {
      "text/plain": [
       "order_id                                 object\n",
       "customer_id                              object\n",
       "order_status                             object\n",
       "order_purchase_timestamp         datetime64[ns]\n",
       "order_approved_at                        object\n",
       "order_delivered_carrier_date             object\n",
       "order_delivered_customer_date            object\n",
       "order_estimated_delivery_date            object\n",
       "review_id                                object\n",
       "review_score                              int64\n",
       "review_comment_title                     object\n",
       "review_comment_message                   object\n",
       "review_creation_date                     object\n",
       "review_answer_timestamp                  object\n",
       "order_item_id                           float64\n",
       "product_id                               object\n",
       "seller_id                                object\n",
       "shipping_limit_date                      object\n",
       "price                                   float64\n",
       "freight_value                           float64\n",
       "product_category_name                    object\n",
       "product_name_lenght                     float64\n",
       "product_description_lenght              float64\n",
       "product_photos_qty                      float64\n",
       "product_weight_g                        float64\n",
       "product_length_cm                       float64\n",
       "product_height_cm                       float64\n",
       "product_width_cm                        float64\n",
       "Year                                      int64\n",
       "Year-month                               object\n",
       "Year-trimester                           object\n",
       "dtype: object"
      ]
     },
     "execution_count": 13,
     "metadata": {},
     "output_type": "execute_result"
    }
   ],
   "source": [
    "data.dtypes"
   ]
  },
  {
   "cell_type": "markdown",
   "metadata": {},
   "source": [
    "## Create target"
   ]
  },
  {
   "cell_type": "code",
   "execution_count": 14,
   "metadata": {
    "execution": {
     "iopub.execute_input": "2021-08-18T21:13:11.381161Z",
     "iopub.status.busy": "2021-08-18T21:13:11.380944Z",
     "iopub.status.idle": "2021-08-18T21:13:11.390420Z",
     "shell.execute_reply": "2021-08-18T21:13:11.389997Z",
     "shell.execute_reply.started": "2021-08-18T21:13:11.381140Z"
    }
   },
   "outputs": [
    {
     "data": {
      "text/plain": [
       "array([4, 5, 2, 1, 3])"
      ]
     },
     "execution_count": 14,
     "metadata": {},
     "output_type": "execute_result"
    }
   ],
   "source": [
    "data[\"review_score\"].unique()"
   ]
  },
  {
   "cell_type": "code",
   "execution_count": 15,
   "metadata": {
    "execution": {
     "iopub.execute_input": "2021-08-18T21:13:11.391195Z",
     "iopub.status.busy": "2021-08-18T21:13:11.391047Z",
     "iopub.status.idle": "2021-08-18T21:13:11.401002Z",
     "shell.execute_reply": "2021-08-18T21:13:11.400567Z",
     "shell.execute_reply.started": "2021-08-18T21:13:11.391177Z"
    }
   },
   "outputs": [],
   "source": [
    "data[\"target\"] = (data[\"review_score\"] == 5).astype(int)"
   ]
  },
  {
   "cell_type": "code",
   "execution_count": 16,
   "metadata": {
    "execution": {
     "iopub.execute_input": "2021-08-18T21:13:11.401831Z",
     "iopub.status.busy": "2021-08-18T21:13:11.401676Z",
     "iopub.status.idle": "2021-08-18T21:13:11.405079Z",
     "shell.execute_reply": "2021-08-18T21:13:11.404661Z",
     "shell.execute_reply.started": "2021-08-18T21:13:11.401813Z"
    }
   },
   "outputs": [
    {
     "data": {
      "text/plain": [
       "0.5582646801051709"
      ]
     },
     "execution_count": 16,
     "metadata": {},
     "output_type": "execute_result"
    }
   ],
   "source": [
    "data[\"target\"].mean()"
   ]
  },
  {
   "cell_type": "markdown",
   "metadata": {},
   "source": [
    "## Modeling"
   ]
  },
  {
   "cell_type": "markdown",
   "metadata": {},
   "source": [
    "### Data"
   ]
  },
  {
   "cell_type": "code",
   "execution_count": 17,
   "metadata": {
    "ExecuteTime": {
     "end_time": "2021-06-26T16:52:53.445115Z",
     "start_time": "2021-06-26T16:52:53.442627Z"
    },
    "execution": {
     "iopub.execute_input": "2021-08-18T21:13:11.405859Z",
     "iopub.status.busy": "2021-08-18T21:13:11.405711Z",
     "iopub.status.idle": "2021-08-18T21:13:11.409854Z",
     "shell.execute_reply": "2021-08-18T21:13:11.409444Z",
     "shell.execute_reply.started": "2021-08-18T21:13:11.405841Z"
    }
   },
   "outputs": [],
   "source": [
    "TIME_COLUMN = \"Year-month\"\n",
    "ALTERNATIVE_TIME_COLUMN = \"Year-trimester\"\n",
    "TARGET = \"target\""
   ]
  },
  {
   "cell_type": "code",
   "execution_count": 18,
   "metadata": {
    "execution": {
     "iopub.execute_input": "2021-08-18T21:13:11.410636Z",
     "iopub.status.busy": "2021-08-18T21:13:11.410490Z",
     "iopub.status.idle": "2021-08-18T21:13:11.931023Z",
     "shell.execute_reply": "2021-08-18T21:13:11.930489Z",
     "shell.execute_reply.started": "2021-08-18T21:13:11.410618Z"
    }
   },
   "outputs": [],
   "source": [
    "data[\"difference_estimated_delivered\"] = (data['order_estimated_delivery_date'] - data['order_delivered_customer_date']).dt.days\n",
    "data[\"difference_limit_delivered\"] = (data['shipping_limit_date'] - data['order_delivered_customer_date']).dt.days"
   ]
  },
  {
   "cell_type": "code",
   "execution_count": 19,
   "metadata": {
    "ExecuteTime": {
     "end_time": "2021-06-26T16:52:53.450958Z",
     "start_time": "2021-06-26T16:52:53.448743Z"
    },
    "execution": {
     "iopub.execute_input": "2021-08-18T21:13:11.932071Z",
     "iopub.status.busy": "2021-08-18T21:13:11.931896Z",
     "iopub.status.idle": "2021-08-18T21:13:11.934350Z",
     "shell.execute_reply": "2021-08-18T21:13:11.933923Z",
     "shell.execute_reply.started": "2021-08-18T21:13:11.932050Z"
    }
   },
   "outputs": [],
   "source": [
    "columns_to_label_encode = [\"seller_id\",\n",
    "                           \"product_category_name\"]"
   ]
  },
  {
   "cell_type": "code",
   "execution_count": 20,
   "metadata": {
    "ExecuteTime": {
     "end_time": "2021-06-26T16:52:53.859050Z",
     "start_time": "2021-06-26T16:52:53.453922Z"
    },
    "execution": {
     "iopub.execute_input": "2021-08-18T21:13:11.935157Z",
     "iopub.status.busy": "2021-08-18T21:13:11.935009Z",
     "iopub.status.idle": "2021-08-18T21:13:12.139949Z",
     "shell.execute_reply": "2021-08-18T21:13:12.139392Z",
     "shell.execute_reply.started": "2021-08-18T21:13:11.935139Z"
    }
   },
   "outputs": [
    {
     "name": "stdout",
     "output_type": "stream",
     "text": [
      "seller_id\n",
      "product_category_name\n"
     ]
    },
    {
     "name": "stderr",
     "output_type": "stream",
     "text": [
      "A column-vector y was passed when a 1d array was expected. Please change the shape of y to (n_samples, ), for example using ravel().\n"
     ]
    }
   ],
   "source": [
    "encoder_mappings = {}\n",
    "le = LabelEncoder()\n",
    "for column in columns_to_label_encode:\n",
    "    print(column)\n",
    "    data[column].fillna(\"None\", inplace=True)\n",
    "    data[column] = le.fit_transform(data[[column]])\n",
    "    encoder_mappings[column] = {i: le.__dict__[\"classes_\"][i] for i in range(len(le.__dict__[\"classes_\"]))}"
   ]
  },
  {
   "cell_type": "code",
   "execution_count": 21,
   "metadata": {
    "execution": {
     "iopub.execute_input": "2021-08-18T21:13:12.140997Z",
     "iopub.status.busy": "2021-08-18T21:13:12.140827Z",
     "iopub.status.idle": "2021-08-18T21:13:12.143765Z",
     "shell.execute_reply": "2021-08-18T21:13:12.143296Z",
     "shell.execute_reply.started": "2021-08-18T21:13:12.140976Z"
    }
   },
   "outputs": [],
   "source": [
    "numerical_features = [\"price\",\n",
    "                      \"freight_value\",\n",
    "                      \"product_name_lenght\",\n",
    "                      \"product_description_lenght\", \n",
    "                      \"product_photos_qty\", \n",
    "                      \"product_weight_g\",\n",
    "                      \"product_length_cm\",\n",
    "                      \"product_height_cm\", \n",
    "                      \"product_width_cm\",\n",
    "                      \"difference_estimated_delivered\",\n",
    "                      \"difference_limit_delivered\"]"
   ]
  },
  {
   "cell_type": "code",
   "execution_count": 22,
   "metadata": {
    "ExecuteTime": {
     "end_time": "2021-06-26T16:52:53.863731Z",
     "start_time": "2021-06-26T16:52:53.860886Z"
    },
    "execution": {
     "iopub.execute_input": "2021-08-18T21:13:12.145814Z",
     "iopub.status.busy": "2021-08-18T21:13:12.145655Z",
     "iopub.status.idle": "2021-08-18T21:13:12.151618Z",
     "shell.execute_reply": "2021-08-18T21:13:12.151161Z",
     "shell.execute_reply.started": "2021-08-18T21:13:12.145795Z"
    }
   },
   "outputs": [],
   "source": [
    "features = columns_to_label_encode + numerical_features\n",
    "features = list(set(features))"
   ]
  },
  {
   "cell_type": "code",
   "execution_count": 23,
   "metadata": {
    "ExecuteTime": {
     "end_time": "2021-06-26T16:53:02.569762Z",
     "start_time": "2021-06-26T16:52:53.910132Z"
    },
    "execution": {
     "iopub.execute_input": "2021-08-18T21:13:12.152636Z",
     "iopub.status.busy": "2021-08-18T21:13:12.152463Z",
     "iopub.status.idle": "2021-08-18T21:13:12.159977Z",
     "shell.execute_reply": "2021-08-18T21:13:12.159550Z",
     "shell.execute_reply.started": "2021-08-18T21:13:12.152616Z"
    }
   },
   "outputs": [
    {
     "data": {
      "text/plain": [
       "2018    61912\n",
       "2017    51796\n",
       "2016      392\n",
       "Name: Year, dtype: int64"
      ]
     },
     "execution_count": 23,
     "metadata": {},
     "output_type": "execute_result"
    }
   ],
   "source": [
    "data[\"Year\"].value_counts()"
   ]
  },
  {
   "cell_type": "code",
   "execution_count": 24,
   "metadata": {
    "ExecuteTime": {
     "end_time": "2021-06-26T16:53:02.576056Z",
     "start_time": "2021-06-26T16:53:02.571026Z"
    },
    "execution": {
     "iopub.execute_input": "2021-08-18T21:13:12.160811Z",
     "iopub.status.busy": "2021-08-18T21:13:12.160656Z",
     "iopub.status.idle": "2021-08-18T21:13:12.214332Z",
     "shell.execute_reply": "2021-08-18T21:13:12.213790Z",
     "shell.execute_reply.started": "2021-08-18T21:13:12.160791Z"
    }
   },
   "outputs": [],
   "source": [
    "data = data[~data[\"Year\"].isin([2016])]"
   ]
  },
  {
   "cell_type": "code",
   "execution_count": 25,
   "metadata": {
    "ExecuteTime": {
     "end_time": "2021-06-26T16:53:02.581383Z",
     "start_time": "2021-06-26T16:53:02.577819Z"
    },
    "execution": {
     "iopub.execute_input": "2021-08-18T21:13:12.215351Z",
     "iopub.status.busy": "2021-08-18T21:13:12.215181Z",
     "iopub.status.idle": "2021-08-18T21:13:12.220598Z",
     "shell.execute_reply": "2021-08-18T21:13:12.220161Z",
     "shell.execute_reply.started": "2021-08-18T21:13:12.215330Z"
    }
   },
   "outputs": [
    {
     "data": {
      "text/plain": [
       "2018    61912\n",
       "2017    51796\n",
       "Name: Year, dtype: int64"
      ]
     },
     "execution_count": 25,
     "metadata": {},
     "output_type": "execute_result"
    }
   ],
   "source": [
    "data[\"Year\"].value_counts()"
   ]
  },
  {
   "cell_type": "code",
   "execution_count": 26,
   "metadata": {
    "ExecuteTime": {
     "end_time": "2021-06-26T16:53:02.591068Z",
     "start_time": "2021-06-26T16:53:02.588456Z"
    },
    "execution": {
     "iopub.execute_input": "2021-08-18T21:13:12.221439Z",
     "iopub.status.busy": "2021-08-18T21:13:12.221260Z",
     "iopub.status.idle": "2021-08-18T21:13:12.223881Z",
     "shell.execute_reply": "2021-08-18T21:13:12.223436Z",
     "shell.execute_reply.started": "2021-08-18T21:13:12.221419Z"
    }
   },
   "outputs": [],
   "source": [
    "training_start_year = 2017\n",
    "training_end_year = 2017\n",
    "holdout_end_year = 2018"
   ]
  },
  {
   "cell_type": "code",
   "execution_count": 27,
   "metadata": {
    "ExecuteTime": {
     "end_time": "2021-06-26T16:53:02.655738Z",
     "start_time": "2021-06-26T16:53:02.592800Z"
    },
    "execution": {
     "iopub.execute_input": "2021-08-18T21:13:12.224682Z",
     "iopub.status.busy": "2021-08-18T21:13:12.224529Z",
     "iopub.status.idle": "2021-08-18T21:13:12.296714Z",
     "shell.execute_reply": "2021-08-18T21:13:12.296160Z",
     "shell.execute_reply.started": "2021-08-18T21:13:12.224663Z"
    }
   },
   "outputs": [],
   "source": [
    "in_time = data[data[\"Year\"] <= training_end_year]\n",
    "in_time = in_time[in_time[\"Year\"] >= training_start_year]\n",
    "out_of_time = data[data[\"Year\"] > training_end_year]"
   ]
  },
  {
   "cell_type": "code",
   "execution_count": 28,
   "metadata": {
    "execution": {
     "iopub.execute_input": "2021-08-18T21:13:12.297690Z",
     "iopub.status.busy": "2021-08-18T21:13:12.297522Z",
     "iopub.status.idle": "2021-08-18T21:13:12.335308Z",
     "shell.execute_reply": "2021-08-18T21:13:12.334775Z",
     "shell.execute_reply.started": "2021-08-18T21:13:12.297669Z"
    }
   },
   "outputs": [],
   "source": [
    "out_of_time = out_of_time[~out_of_time[TIME_COLUMN].isin([\"2018-10\", \"2018-09\"])]"
   ]
  },
  {
   "cell_type": "code",
   "execution_count": 29,
   "metadata": {
    "ExecuteTime": {
     "end_time": "2021-06-26T16:53:02.688535Z",
     "start_time": "2021-06-26T16:53:02.657523Z"
    },
    "execution": {
     "iopub.execute_input": "2021-08-18T21:13:12.336342Z",
     "iopub.status.busy": "2021-08-18T21:13:12.336174Z",
     "iopub.status.idle": "2021-08-18T21:13:12.371984Z",
     "shell.execute_reply": "2021-08-18T21:13:12.371466Z",
     "shell.execute_reply.started": "2021-08-18T21:13:12.336322Z"
    }
   },
   "outputs": [],
   "source": [
    "train, test = train_test_split(in_time, \n",
    "                               test_size=0.2,\n",
    "                               random_state=42)"
   ]
  },
  {
   "cell_type": "code",
   "execution_count": 30,
   "metadata": {
    "ExecuteTime": {
     "end_time": "2021-06-26T16:53:02.694026Z",
     "start_time": "2021-06-26T16:53:02.690250Z"
    },
    "execution": {
     "iopub.execute_input": "2021-08-18T21:13:12.372983Z",
     "iopub.status.busy": "2021-08-18T21:13:12.372814Z",
     "iopub.status.idle": "2021-08-18T21:13:12.376183Z",
     "shell.execute_reply": "2021-08-18T21:13:12.375756Z",
     "shell.execute_reply.started": "2021-08-18T21:13:12.372962Z"
    }
   },
   "outputs": [
    {
     "data": {
      "text/plain": [
       "(41436, 34)"
      ]
     },
     "execution_count": 30,
     "metadata": {},
     "output_type": "execute_result"
    }
   ],
   "source": [
    "train.shape"
   ]
  },
  {
   "cell_type": "code",
   "execution_count": 31,
   "metadata": {
    "ExecuteTime": {
     "end_time": "2021-06-26T16:53:02.700521Z",
     "start_time": "2021-06-26T16:53:02.696151Z"
    },
    "execution": {
     "iopub.execute_input": "2021-08-18T21:13:12.377009Z",
     "iopub.status.busy": "2021-08-18T21:13:12.376854Z",
     "iopub.status.idle": "2021-08-18T21:13:12.381627Z",
     "shell.execute_reply": "2021-08-18T21:13:12.381213Z",
     "shell.execute_reply.started": "2021-08-18T21:13:12.376990Z"
    }
   },
   "outputs": [
    {
     "data": {
      "text/plain": [
       "(10360, 34)"
      ]
     },
     "execution_count": 31,
     "metadata": {},
     "output_type": "execute_result"
    }
   ],
   "source": [
    "test.shape"
   ]
  },
  {
   "cell_type": "code",
   "execution_count": 32,
   "metadata": {
    "ExecuteTime": {
     "end_time": "2021-06-26T16:53:02.706978Z",
     "start_time": "2021-06-26T16:53:02.702920Z"
    },
    "execution": {
     "iopub.execute_input": "2021-08-18T21:13:12.382397Z",
     "iopub.status.busy": "2021-08-18T21:13:12.382248Z",
     "iopub.status.idle": "2021-08-18T21:13:12.386739Z",
     "shell.execute_reply": "2021-08-18T21:13:12.386326Z",
     "shell.execute_reply.started": "2021-08-18T21:13:12.382378Z"
    }
   },
   "outputs": [
    {
     "data": {
      "text/plain": [
       "(61892, 34)"
      ]
     },
     "execution_count": 32,
     "metadata": {},
     "output_type": "execute_result"
    }
   ],
   "source": [
    "out_of_time.shape"
   ]
  },
  {
   "cell_type": "code",
   "execution_count": 33,
   "metadata": {
    "ExecuteTime": {
     "end_time": "2021-06-26T16:53:02.779975Z",
     "start_time": "2021-06-26T16:53:02.715762Z"
    },
    "execution": {
     "iopub.execute_input": "2021-08-18T21:13:12.387513Z",
     "iopub.status.busy": "2021-08-18T21:13:12.387342Z",
     "iopub.status.idle": "2021-08-18T21:13:12.501233Z",
     "shell.execute_reply": "2021-08-18T21:13:12.500716Z",
     "shell.execute_reply.started": "2021-08-18T21:13:12.387493Z"
    }
   },
   "outputs": [
    {
     "name": "stderr",
     "output_type": "stream",
     "text": [
      "DataFrame.mean and DataFrame.median with numeric_only=None will include datetime64 and datetime64tz columns in a future version.\n",
      "\n",
      "A value is trying to be set on a copy of a slice from a DataFrame\n",
      "\n",
      "See the caveats in the documentation: https://pandas.pydata.org/pandas-docs/stable/user_guide/indexing.html#returning-a-view-versus-a-copy\n"
     ]
    }
   ],
   "source": [
    "median_input = train.median()\n",
    "train.fillna(median_input, inplace=True)\n",
    "test.fillna(median_input, inplace=True)\n",
    "out_of_time.fillna(median_input, inplace=True)"
   ]
  },
  {
   "cell_type": "markdown",
   "metadata": {},
   "source": [
    "## Checking the support in the different environments"
   ]
  },
  {
   "cell_type": "code",
   "execution_count": 34,
   "metadata": {
    "ExecuteTime": {
     "end_time": "2021-06-26T16:53:02.861409Z",
     "start_time": "2021-06-26T16:53:02.783659Z"
    },
    "execution": {
     "iopub.execute_input": "2021-08-18T21:13:12.502200Z",
     "iopub.status.busy": "2021-08-18T21:13:12.502032Z",
     "iopub.status.idle": "2021-08-18T21:13:12.521878Z",
     "shell.execute_reply": "2021-08-18T21:13:12.521440Z",
     "shell.execute_reply.started": "2021-08-18T21:13:12.502179Z"
    }
   },
   "outputs": [
    {
     "name": "stdout",
     "output_type": "stream",
     "text": [
      "Year\n",
      "2017    1.0\n",
      "Name: seller_id, dtype: float64\n",
      "Year\n",
      "2017    1.0\n",
      "Name: product_category_name, dtype: float64\n"
     ]
    },
    {
     "data": {
      "text/plain": [
       "1.0"
      ]
     },
     "execution_count": 34,
     "metadata": {},
     "output_type": "execute_result"
    }
   ],
   "source": [
    "check_categoricals_match(train, columns_to_label_encode, \"Year\")"
   ]
  },
  {
   "cell_type": "code",
   "execution_count": 35,
   "metadata": {
    "ExecuteTime": {
     "end_time": "2021-06-26T16:53:02.881251Z",
     "start_time": "2021-06-26T16:53:02.863347Z"
    },
    "execution": {
     "iopub.execute_input": "2021-08-18T21:13:12.522755Z",
     "iopub.status.busy": "2021-08-18T21:13:12.522597Z",
     "iopub.status.idle": "2021-08-18T21:13:12.684968Z",
     "shell.execute_reply": "2021-08-18T21:13:12.684476Z",
     "shell.execute_reply.started": "2021-08-18T21:13:12.522735Z"
    }
   },
   "outputs": [
    {
     "name": "stderr",
     "output_type": "stream",
     "text": [
      "\n",
      "A value is trying to be set on a copy of a slice from a DataFrame.\n",
      "Try using .loc[row_indexer,col_indexer] = value instead\n",
      "\n",
      "See the caveats in the documentation: https://pandas.pydata.org/pandas-docs/stable/user_guide/indexing.html#returning-a-view-versus-a-copy\n"
     ]
    },
    {
     "name": "stdout",
     "output_type": "stream",
     "text": [
      "Year-month\n",
      "2017-01    0.555556\n",
      "2017-02    0.555556\n",
      "2017-03    0.666667\n",
      "2017-04    0.777778\n",
      "2017-05    0.666667\n",
      "2017-06    0.555556\n",
      "2017-07    0.444444\n",
      "2017-08    0.555556\n",
      "2017-09    0.333333\n",
      "2017-10    0.555556\n",
      "2017-11    0.555556\n",
      "2017-12    0.555556\n",
      "Name: price_quant, dtype: float64\n",
      "Year-month\n",
      "2017-01    0.4\n",
      "2017-02    0.6\n",
      "2017-03    0.7\n",
      "2017-04    0.7\n",
      "2017-05    0.9\n",
      "2017-06    0.8\n",
      "2017-07    0.7\n",
      "2017-08    0.7\n",
      "2017-09    0.7\n",
      "2017-10    0.7\n",
      "2017-11    0.9\n",
      "2017-12    0.6\n",
      "Name: freight_value_quant, dtype: float64\n",
      "Year-month\n",
      "2017-01    0.8\n",
      "2017-02    0.8\n",
      "2017-03    0.9\n",
      "2017-04    0.8\n",
      "2017-05    0.9\n",
      "2017-06    0.8\n",
      "2017-07    1.0\n",
      "2017-08    1.0\n",
      "2017-09    1.0\n",
      "2017-10    0.9\n",
      "2017-11    0.9\n",
      "2017-12    1.0\n",
      "Name: product_name_lenght_quant, dtype: float64\n",
      "Year-month\n",
      "2017-01    1.0\n",
      "2017-02    1.0\n",
      "2017-03    1.0\n",
      "2017-04    1.0\n",
      "2017-05    1.0\n",
      "2017-06    1.0\n",
      "2017-07    1.0\n",
      "2017-08    1.0\n",
      "2017-09    1.0\n",
      "2017-10    1.0\n",
      "2017-11    1.0\n",
      "2017-12    1.0\n",
      "Name: product_description_lenght_quant, dtype: float64\n",
      "Year-month\n",
      "2017-01    0.8\n",
      "2017-02    0.9\n",
      "2017-03    0.8\n",
      "2017-04    0.8\n",
      "2017-05    1.0\n",
      "2017-06    0.9\n",
      "2017-07    0.9\n",
      "2017-08    0.9\n",
      "2017-09    0.6\n",
      "2017-10    0.8\n",
      "2017-11    0.9\n",
      "2017-12    1.0\n",
      "Name: product_photos_qty_quant, dtype: float64\n",
      "Year-month\n",
      "2017-01    0.888889\n",
      "2017-02    0.888889\n",
      "2017-03    0.888889\n",
      "2017-04    0.888889\n",
      "2017-05    0.888889\n",
      "2017-06    0.888889\n",
      "2017-07    0.888889\n",
      "2017-08    0.888889\n",
      "2017-09    0.888889\n",
      "2017-10    0.888889\n",
      "2017-11    1.000000\n",
      "2017-12    1.000000\n",
      "Name: product_weight_g_quant, dtype: float64\n",
      "Year-month\n",
      "2017-01    1.0\n",
      "2017-02    1.0\n",
      "2017-03    1.0\n",
      "2017-04    1.0\n",
      "2017-05    1.0\n",
      "2017-06    1.0\n",
      "2017-07    1.0\n",
      "2017-08    1.0\n",
      "2017-09    1.0\n",
      "2017-10    1.0\n",
      "2017-11    1.0\n",
      "2017-12    1.0\n",
      "Name: product_length_cm_quant, dtype: float64\n",
      "Year-month\n",
      "2017-01    1.0\n",
      "2017-02    1.0\n",
      "2017-03    1.0\n",
      "2017-04    1.0\n",
      "2017-05    1.0\n",
      "2017-06    1.0\n",
      "2017-07    1.0\n",
      "2017-08    1.0\n",
      "2017-09    1.0\n",
      "2017-10    1.0\n",
      "2017-11    1.0\n",
      "2017-12    1.0\n",
      "Name: product_height_cm_quant, dtype: float64\n",
      "Year-month\n",
      "2017-01    0.9\n",
      "2017-02    0.9\n",
      "2017-03    0.9\n",
      "2017-04    0.8\n",
      "2017-05    1.0\n",
      "2017-06    0.9\n",
      "2017-07    0.9\n",
      "2017-08    0.8\n",
      "2017-09    0.9\n",
      "2017-10    0.9\n",
      "2017-11    0.9\n",
      "2017-12    1.0\n",
      "Name: product_width_cm_quant, dtype: float64\n",
      "Year-month\n",
      "2017-01    0.5\n",
      "2017-02    0.8\n",
      "2017-03    0.7\n",
      "2017-04    0.6\n",
      "2017-05    0.8\n",
      "2017-06    0.7\n",
      "2017-07    0.5\n",
      "2017-08    0.6\n",
      "2017-09    0.6\n",
      "2017-10    0.7\n",
      "2017-11    0.9\n",
      "2017-12    0.7\n",
      "Name: difference_estimated_delivered_quant, dtype: float64\n",
      "Year-month\n",
      "2017-01    0.50\n",
      "2017-02    0.75\n",
      "2017-03    0.50\n",
      "2017-04    0.50\n",
      "2017-05    0.75\n",
      "2017-06    0.50\n",
      "2017-07    0.25\n",
      "2017-08    0.50\n",
      "2017-09    0.50\n",
      "2017-10    0.75\n",
      "2017-11    0.50\n",
      "2017-12    0.50\n",
      "Name: difference_limit_delivered_quant, dtype: float64\n"
     ]
    },
    {
     "data": {
      "text/plain": [
       "0.8224747474747475"
      ]
     },
     "execution_count": 35,
     "metadata": {},
     "output_type": "execute_result"
    }
   ],
   "source": [
    "check_numerical_match(train, numerical_features, TIME_COLUMN, verbose=True, n_q=10)"
   ]
  },
  {
   "cell_type": "markdown",
   "metadata": {},
   "source": [
    "### Benchmark"
   ]
  },
  {
   "cell_type": "code",
   "execution_count": 36,
   "metadata": {
    "ExecuteTime": {
     "end_time": "2021-06-26T16:53:04.332770Z",
     "start_time": "2021-06-26T16:53:02.883712Z"
    },
    "execution": {
     "iopub.execute_input": "2021-08-18T21:13:12.686243Z",
     "iopub.status.busy": "2021-08-18T21:13:12.686074Z",
     "iopub.status.idle": "2021-08-18T21:13:13.307928Z",
     "shell.execute_reply": "2021-08-18T21:13:13.307212Z",
     "shell.execute_reply.started": "2021-08-18T21:13:12.686222Z"
    }
   },
   "outputs": [],
   "source": [
    "from pycaret.classification import *"
   ]
  },
  {
   "cell_type": "code",
   "execution_count": 37,
   "metadata": {
    "execution": {
     "iopub.execute_input": "2021-08-18T21:13:13.309007Z",
     "iopub.status.busy": "2021-08-18T21:13:13.308841Z",
     "iopub.status.idle": "2021-08-18T21:13:13.312025Z",
     "shell.execute_reply": "2021-08-18T21:13:13.311612Z",
     "shell.execute_reply.started": "2021-08-18T21:13:13.308986Z"
    }
   },
   "outputs": [
    {
     "data": {
      "text/plain": [
       "'target'"
      ]
     },
     "execution_count": 37,
     "metadata": {},
     "output_type": "execute_result"
    }
   ],
   "source": [
    "TARGET"
   ]
  },
  {
   "cell_type": "code",
   "execution_count": 38,
   "metadata": {
    "ExecuteTime": {
     "end_time": "2021-06-26T16:56:17.349726Z",
     "start_time": "2021-06-26T16:53:04.334088Z"
    },
    "execution": {
     "iopub.execute_input": "2021-08-18T21:13:13.618063Z",
     "iopub.status.busy": "2021-08-18T21:13:13.617870Z",
     "iopub.status.idle": "2021-08-18T21:13:49.515811Z",
     "shell.execute_reply": "2021-08-18T21:13:49.515219Z",
     "shell.execute_reply.started": "2021-08-18T21:13:13.618034Z"
    }
   },
   "outputs": [
    {
     "data": {
      "text/html": [
       "<style  type=\"text/css\" >\n",
       "#T_2e8c7e6a_0069_11ec_8f83_5643c0724bb5row5_col0,#T_2e8c7e6a_0069_11ec_8f83_5643c0724bb5row5_col1,#T_2e8c7e6a_0069_11ec_8f83_5643c0724bb5row5_col2,#T_2e8c7e6a_0069_11ec_8f83_5643c0724bb5row5_col3,#T_2e8c7e6a_0069_11ec_8f83_5643c0724bb5row5_col4,#T_2e8c7e6a_0069_11ec_8f83_5643c0724bb5row5_col5,#T_2e8c7e6a_0069_11ec_8f83_5643c0724bb5row5_col6{\n",
       "            background:  yellow;\n",
       "        }</style><table id=\"T_2e8c7e6a_0069_11ec_8f83_5643c0724bb5\" ><thead>    <tr>        <th class=\"blank level0\" ></th>        <th class=\"col_heading level0 col0\" >Accuracy</th>        <th class=\"col_heading level0 col1\" >AUC</th>        <th class=\"col_heading level0 col2\" >Recall</th>        <th class=\"col_heading level0 col3\" >Prec.</th>        <th class=\"col_heading level0 col4\" >F1</th>        <th class=\"col_heading level0 col5\" >Kappa</th>        <th class=\"col_heading level0 col6\" >MCC</th>    </tr></thead><tbody>\n",
       "                <tr>\n",
       "                        <th id=\"T_2e8c7e6a_0069_11ec_8f83_5643c0724bb5level0_row0\" class=\"row_heading level0 row0\" >0</th>\n",
       "                        <td id=\"T_2e8c7e6a_0069_11ec_8f83_5643c0724bb5row0_col0\" class=\"data row0 col0\" >0.6192</td>\n",
       "                        <td id=\"T_2e8c7e6a_0069_11ec_8f83_5643c0724bb5row0_col1\" class=\"data row0 col1\" >0.6534</td>\n",
       "                        <td id=\"T_2e8c7e6a_0069_11ec_8f83_5643c0724bb5row0_col2\" class=\"data row0 col2\" >0.7282</td>\n",
       "                        <td id=\"T_2e8c7e6a_0069_11ec_8f83_5643c0724bb5row0_col3\" class=\"data row0 col3\" >0.6373</td>\n",
       "                        <td id=\"T_2e8c7e6a_0069_11ec_8f83_5643c0724bb5row0_col4\" class=\"data row0 col4\" >0.6797</td>\n",
       "                        <td id=\"T_2e8c7e6a_0069_11ec_8f83_5643c0724bb5row0_col5\" class=\"data row0 col5\" >0.2153</td>\n",
       "                        <td id=\"T_2e8c7e6a_0069_11ec_8f83_5643c0724bb5row0_col6\" class=\"data row0 col6\" >0.2182</td>\n",
       "            </tr>\n",
       "            <tr>\n",
       "                        <th id=\"T_2e8c7e6a_0069_11ec_8f83_5643c0724bb5level0_row1\" class=\"row_heading level0 row1\" >1</th>\n",
       "                        <td id=\"T_2e8c7e6a_0069_11ec_8f83_5643c0724bb5row1_col0\" class=\"data row1 col0\" >0.6266</td>\n",
       "                        <td id=\"T_2e8c7e6a_0069_11ec_8f83_5643c0724bb5row1_col1\" class=\"data row1 col1\" >0.6641</td>\n",
       "                        <td id=\"T_2e8c7e6a_0069_11ec_8f83_5643c0724bb5row1_col2\" class=\"data row1 col2\" >0.7425</td>\n",
       "                        <td id=\"T_2e8c7e6a_0069_11ec_8f83_5643c0724bb5row1_col3\" class=\"data row1 col3\" >0.6413</td>\n",
       "                        <td id=\"T_2e8c7e6a_0069_11ec_8f83_5643c0724bb5row1_col4\" class=\"data row1 col4\" >0.6882</td>\n",
       "                        <td id=\"T_2e8c7e6a_0069_11ec_8f83_5643c0724bb5row1_col5\" class=\"data row1 col5\" >0.2291</td>\n",
       "                        <td id=\"T_2e8c7e6a_0069_11ec_8f83_5643c0724bb5row1_col6\" class=\"data row1 col6\" >0.2330</td>\n",
       "            </tr>\n",
       "            <tr>\n",
       "                        <th id=\"T_2e8c7e6a_0069_11ec_8f83_5643c0724bb5level0_row2\" class=\"row_heading level0 row2\" >2</th>\n",
       "                        <td id=\"T_2e8c7e6a_0069_11ec_8f83_5643c0724bb5row2_col0\" class=\"data row2 col0\" >0.6209</td>\n",
       "                        <td id=\"T_2e8c7e6a_0069_11ec_8f83_5643c0724bb5row2_col1\" class=\"data row2 col1\" >0.6557</td>\n",
       "                        <td id=\"T_2e8c7e6a_0069_11ec_8f83_5643c0724bb5row2_col2\" class=\"data row2 col2\" >0.7363</td>\n",
       "                        <td id=\"T_2e8c7e6a_0069_11ec_8f83_5643c0724bb5row2_col3\" class=\"data row2 col3\" >0.6371</td>\n",
       "                        <td id=\"T_2e8c7e6a_0069_11ec_8f83_5643c0724bb5row2_col4\" class=\"data row2 col4\" >0.6831</td>\n",
       "                        <td id=\"T_2e8c7e6a_0069_11ec_8f83_5643c0724bb5row2_col5\" class=\"data row2 col5\" >0.2176</td>\n",
       "                        <td id=\"T_2e8c7e6a_0069_11ec_8f83_5643c0724bb5row2_col6\" class=\"data row2 col6\" >0.2211</td>\n",
       "            </tr>\n",
       "            <tr>\n",
       "                        <th id=\"T_2e8c7e6a_0069_11ec_8f83_5643c0724bb5level0_row3\" class=\"row_heading level0 row3\" >3</th>\n",
       "                        <td id=\"T_2e8c7e6a_0069_11ec_8f83_5643c0724bb5row3_col0\" class=\"data row3 col0\" >0.6313</td>\n",
       "                        <td id=\"T_2e8c7e6a_0069_11ec_8f83_5643c0724bb5row3_col1\" class=\"data row3 col1\" >0.6665</td>\n",
       "                        <td id=\"T_2e8c7e6a_0069_11ec_8f83_5643c0724bb5row3_col2\" class=\"data row3 col2\" >0.7359</td>\n",
       "                        <td id=\"T_2e8c7e6a_0069_11ec_8f83_5643c0724bb5row3_col3\" class=\"data row3 col3\" >0.6476</td>\n",
       "                        <td id=\"T_2e8c7e6a_0069_11ec_8f83_5643c0724bb5row3_col4\" class=\"data row3 col4\" >0.6890</td>\n",
       "                        <td id=\"T_2e8c7e6a_0069_11ec_8f83_5643c0724bb5row3_col5\" class=\"data row3 col5\" >0.2408</td>\n",
       "                        <td id=\"T_2e8c7e6a_0069_11ec_8f83_5643c0724bb5row3_col6\" class=\"data row3 col6\" >0.2437</td>\n",
       "            </tr>\n",
       "            <tr>\n",
       "                        <th id=\"T_2e8c7e6a_0069_11ec_8f83_5643c0724bb5level0_row4\" class=\"row_heading level0 row4\" >4</th>\n",
       "                        <td id=\"T_2e8c7e6a_0069_11ec_8f83_5643c0724bb5row4_col0\" class=\"data row4 col0\" >0.6306</td>\n",
       "                        <td id=\"T_2e8c7e6a_0069_11ec_8f83_5643c0724bb5row4_col1\" class=\"data row4 col1\" >0.6638</td>\n",
       "                        <td id=\"T_2e8c7e6a_0069_11ec_8f83_5643c0724bb5row4_col2\" class=\"data row4 col2\" >0.7546</td>\n",
       "                        <td id=\"T_2e8c7e6a_0069_11ec_8f83_5643c0724bb5row4_col3\" class=\"data row4 col3\" >0.6423</td>\n",
       "                        <td id=\"T_2e8c7e6a_0069_11ec_8f83_5643c0724bb5row4_col4\" class=\"data row4 col4\" >0.6939</td>\n",
       "                        <td id=\"T_2e8c7e6a_0069_11ec_8f83_5643c0724bb5row4_col5\" class=\"data row4 col5\" >0.2357</td>\n",
       "                        <td id=\"T_2e8c7e6a_0069_11ec_8f83_5643c0724bb5row4_col6\" class=\"data row4 col6\" >0.2406</td>\n",
       "            </tr>\n",
       "            <tr>\n",
       "                        <th id=\"T_2e8c7e6a_0069_11ec_8f83_5643c0724bb5level0_row5\" class=\"row_heading level0 row5\" >Mean</th>\n",
       "                        <td id=\"T_2e8c7e6a_0069_11ec_8f83_5643c0724bb5row5_col0\" class=\"data row5 col0\" >0.6257</td>\n",
       "                        <td id=\"T_2e8c7e6a_0069_11ec_8f83_5643c0724bb5row5_col1\" class=\"data row5 col1\" >0.6607</td>\n",
       "                        <td id=\"T_2e8c7e6a_0069_11ec_8f83_5643c0724bb5row5_col2\" class=\"data row5 col2\" >0.7395</td>\n",
       "                        <td id=\"T_2e8c7e6a_0069_11ec_8f83_5643c0724bb5row5_col3\" class=\"data row5 col3\" >0.6411</td>\n",
       "                        <td id=\"T_2e8c7e6a_0069_11ec_8f83_5643c0724bb5row5_col4\" class=\"data row5 col4\" >0.6868</td>\n",
       "                        <td id=\"T_2e8c7e6a_0069_11ec_8f83_5643c0724bb5row5_col5\" class=\"data row5 col5\" >0.2277</td>\n",
       "                        <td id=\"T_2e8c7e6a_0069_11ec_8f83_5643c0724bb5row5_col6\" class=\"data row5 col6\" >0.2313</td>\n",
       "            </tr>\n",
       "            <tr>\n",
       "                        <th id=\"T_2e8c7e6a_0069_11ec_8f83_5643c0724bb5level0_row6\" class=\"row_heading level0 row6\" >SD</th>\n",
       "                        <td id=\"T_2e8c7e6a_0069_11ec_8f83_5643c0724bb5row6_col0\" class=\"data row6 col0\" >0.0049</td>\n",
       "                        <td id=\"T_2e8c7e6a_0069_11ec_8f83_5643c0724bb5row6_col1\" class=\"data row6 col1\" >0.0051</td>\n",
       "                        <td id=\"T_2e8c7e6a_0069_11ec_8f83_5643c0724bb5row6_col2\" class=\"data row6 col2\" >0.0088</td>\n",
       "                        <td id=\"T_2e8c7e6a_0069_11ec_8f83_5643c0724bb5row6_col3\" class=\"data row6 col3\" >0.0039</td>\n",
       "                        <td id=\"T_2e8c7e6a_0069_11ec_8f83_5643c0724bb5row6_col4\" class=\"data row6 col4\" >0.0049</td>\n",
       "                        <td id=\"T_2e8c7e6a_0069_11ec_8f83_5643c0724bb5row6_col5\" class=\"data row6 col5\" >0.0099</td>\n",
       "                        <td id=\"T_2e8c7e6a_0069_11ec_8f83_5643c0724bb5row6_col6\" class=\"data row6 col6\" >0.0102</td>\n",
       "            </tr>\n",
       "    </tbody></table>"
      ],
      "text/plain": [
       "<pandas.io.formats.style.Styler at 0x7f3a89a076d8>"
      ]
     },
     "metadata": {},
     "output_type": "display_data"
    }
   ],
   "source": [
    "clf1 = setup(train[features + [TARGET]], \n",
    "             target=TARGET,\n",
    "             session_id=2, \n",
    "             log_experiment=False, \n",
    "             experiment_name=\"{}\".format(PREFIX),\n",
    "             silent=True)\n",
    "\n",
    "rf = create_model('rf')\n",
    "tuned_rf = tune_model(rf,\n",
    "                     optimize=\"AUC\",\n",
    "                     fold=5,\n",
    "                     n_iter=50)"
   ]
  },
  {
   "cell_type": "code",
   "execution_count": 39,
   "metadata": {
    "ExecuteTime": {
     "end_time": "2021-06-26T16:56:17.357530Z",
     "start_time": "2021-06-26T16:56:17.352011Z"
    },
    "execution": {
     "iopub.execute_input": "2021-08-18T21:13:49.517011Z",
     "iopub.status.busy": "2021-08-18T21:13:49.516837Z",
     "iopub.status.idle": "2021-08-18T21:13:49.520736Z",
     "shell.execute_reply": "2021-08-18T21:13:49.520305Z",
     "shell.execute_reply.started": "2021-08-18T21:13:49.516990Z"
    }
   },
   "outputs": [
    {
     "data": {
      "text/plain": [
       "RandomForestClassifier(bootstrap=False, ccp_alpha=0.0,\n",
       "                       class_weight='balanced_subsample', criterion='entropy',\n",
       "                       max_depth=11, max_features='sqrt', max_leaf_nodes=None,\n",
       "                       max_samples=None, min_impurity_decrease=0.0001,\n",
       "                       min_impurity_split=None, min_samples_leaf=6,\n",
       "                       min_samples_split=7, min_weight_fraction_leaf=0.0,\n",
       "                       n_estimators=250, n_jobs=-1, oob_score=False,\n",
       "                       random_state=2, verbose=0, warm_start=False)"
      ]
     },
     "execution_count": 39,
     "metadata": {},
     "output_type": "execute_result"
    }
   ],
   "source": [
    "tuned_rf"
   ]
  },
  {
   "cell_type": "code",
   "execution_count": 40,
   "metadata": {
    "ExecuteTime": {
     "end_time": "2021-06-26T16:56:19.998278Z",
     "start_time": "2021-06-26T16:56:17.360101Z"
    },
    "execution": {
     "iopub.execute_input": "2021-08-18T21:13:49.521907Z",
     "iopub.status.busy": "2021-08-18T21:13:49.521734Z",
     "iopub.status.idle": "2021-08-18T21:13:50.974607Z",
     "shell.execute_reply": "2021-08-18T21:13:50.973325Z",
     "shell.execute_reply.started": "2021-08-18T21:13:49.521875Z"
    }
   },
   "outputs": [],
   "source": [
    "benchmark_model = tuned_rf\n",
    "benchmark_model.fit(train[features], train[TARGET])\n",
    "\n",
    "train[\"benchmark_prediction_opt\"] = benchmark_model.predict_proba(train[features])[:, 1]\n",
    "test[\"benchmark_prediction_opt\"] = benchmark_model.predict_proba(test[features])[:, 1]\n",
    "out_of_time[\"benchmark_prediction_opt\"] = benchmark_model.predict_proba(out_of_time[features])[:, 1]"
   ]
  },
  {
   "cell_type": "code",
   "execution_count": 41,
   "metadata": {
    "ExecuteTime": {
     "end_time": "2021-06-26T16:56:20.057290Z",
     "start_time": "2021-06-26T16:56:20.000457Z"
    },
    "execution": {
     "iopub.execute_input": "2021-08-18T21:13:50.976508Z",
     "iopub.status.busy": "2021-08-18T21:13:50.976319Z",
     "iopub.status.idle": "2021-08-18T21:13:51.016562Z",
     "shell.execute_reply": "2021-08-18T21:13:51.015855Z",
     "shell.execute_reply.started": "2021-08-18T21:13:50.976486Z"
    }
   },
   "outputs": [
    {
     "name": "stdout",
     "output_type": "stream",
     "text": [
      "0.719614981622238\n",
      "0.6498271430132038\n",
      "0.6370447470331292\n"
     ]
    }
   ],
   "source": [
    "print(roc_auc_score(train[TARGET], train[\"benchmark_prediction_opt\"]))\n",
    "print(roc_auc_score(test[TARGET], test[\"benchmark_prediction_opt\"]))\n",
    "print(roc_auc_score(out_of_time[TARGET], out_of_time[\"benchmark_prediction_opt\"]))"
   ]
  },
  {
   "cell_type": "code",
   "execution_count": 42,
   "metadata": {
    "ExecuteTime": {
     "end_time": "2021-06-26T16:56:28.716799Z",
     "start_time": "2021-06-26T16:56:20.059182Z"
    },
    "execution": {
     "iopub.execute_input": "2021-08-18T21:13:51.017619Z",
     "iopub.status.busy": "2021-08-18T21:13:51.017458Z",
     "iopub.status.idle": "2021-08-18T21:13:54.896870Z",
     "shell.execute_reply": "2021-08-18T21:13:54.895692Z",
     "shell.execute_reply.started": "2021-08-18T21:13:51.017599Z"
    }
   },
   "outputs": [],
   "source": [
    "benchmark_model = RandomForestClassifier(n_estimators=100, max_depth=8)\n",
    "benchmark_model.fit(train[features], train[TARGET])\n",
    "\n",
    "train[\"benchmark_prediction\"] = benchmark_model.predict_proba(train[features])[:, 1]\n",
    "test[\"benchmark_prediction\"] = benchmark_model.predict_proba(test[features])[:, 1]\n",
    "out_of_time[\"benchmark_prediction\"] = benchmark_model.predict_proba(out_of_time[features])[:, 1]"
   ]
  },
  {
   "cell_type": "code",
   "execution_count": 43,
   "metadata": {
    "ExecuteTime": {
     "end_time": "2021-06-26T16:56:28.766515Z",
     "start_time": "2021-06-26T16:56:28.718220Z"
    },
    "execution": {
     "iopub.execute_input": "2021-08-18T21:13:54.898151Z",
     "iopub.status.busy": "2021-08-18T21:13:54.897974Z",
     "iopub.status.idle": "2021-08-18T21:13:54.935811Z",
     "shell.execute_reply": "2021-08-18T21:13:54.934987Z",
     "shell.execute_reply.started": "2021-08-18T21:13:54.898129Z"
    }
   },
   "outputs": [
    {
     "name": "stdout",
     "output_type": "stream",
     "text": [
      "0.6943819337831764\n",
      "0.6400774567088006\n",
      "0.6337837128124693\n"
     ]
    }
   ],
   "source": [
    "print(roc_auc_score(train[TARGET], train[\"benchmark_prediction\"]))\n",
    "print(roc_auc_score(test[TARGET], test[\"benchmark_prediction\"]))\n",
    "print(roc_auc_score(out_of_time[TARGET], out_of_time[\"benchmark_prediction\"]))"
   ]
  },
  {
   "cell_type": "code",
   "execution_count": 44,
   "metadata": {
    "execution": {
     "iopub.execute_input": "2021-08-18T21:13:54.937086Z",
     "iopub.status.busy": "2021-08-18T21:13:54.936920Z",
     "iopub.status.idle": "2021-08-18T21:13:54.939343Z",
     "shell.execute_reply": "2021-08-18T21:13:54.938825Z",
     "shell.execute_reply.started": "2021-08-18T21:13:54.937065Z"
    }
   },
   "outputs": [],
   "source": [
    "# benchmark_importances = benchmark_model.feature_importances_\n",
    "# benchmark_importances = pd.Series(benchmark_importances, index=features)\n",
    "# benchmark_importances.rename(\"RF\", inplace=True)"
   ]
  },
  {
   "cell_type": "code",
   "execution_count": 50,
   "metadata": {
    "execution": {
     "iopub.execute_input": "2021-08-18T21:16:06.415564Z",
     "iopub.status.busy": "2021-08-18T21:16:06.415211Z",
     "iopub.status.idle": "2021-08-18T21:16:46.953513Z",
     "shell.execute_reply": "2021-08-18T21:16:46.952972Z",
     "shell.execute_reply.started": "2021-08-18T21:16:06.415530Z"
    }
   },
   "outputs": [],
   "source": [
    "results = reverse_learning_curve(train, out_of_time, tuned_rf, features, TARGET, TIME_COLUMN, roc_auc_score, n_rounds=5)"
   ]
  },
  {
   "cell_type": "code",
   "execution_count": 51,
   "metadata": {
    "execution": {
     "iopub.execute_input": "2021-08-18T21:16:46.954683Z",
     "iopub.status.busy": "2021-08-18T21:16:46.954509Z",
     "iopub.status.idle": "2021-08-18T21:16:46.959577Z",
     "shell.execute_reply": "2021-08-18T21:16:46.959118Z",
     "shell.execute_reply.started": "2021-08-18T21:16:46.954662Z"
    }
   },
   "outputs": [
    {
     "data": {
      "text/plain": [
       "product_name_lenght              -0.000117\n",
       "price                             0.001147\n",
       "product_height_cm                 0.001687\n",
       "product_width_cm                  0.001673\n",
       "product_weight_g                  0.003616\n",
       "difference_limit_delivered        0.048158\n",
       "difference_estimated_delivered    0.027543\n",
       "product_category_name             0.001226\n",
       "product_photos_qty                0.000579\n",
       "product_length_cm                 0.000061\n",
       "freight_value                     0.006986\n",
       "product_description_lenght        0.000151\n",
       "seller_id                        -0.000745\n",
       "Name: RF, dtype: float64"
      ]
     },
     "execution_count": 51,
     "metadata": {},
     "output_type": "execute_result"
    }
   ],
   "source": [
    "benchmark_importances = results[\"feature_importance\"][-1].copy(deep=True)\n",
    "benchmark_importances.rename(\"RF\", inplace=True)"
   ]
  },
  {
   "cell_type": "code",
   "execution_count": 52,
   "metadata": {
    "execution": {
     "iopub.execute_input": "2021-08-18T21:16:46.960630Z",
     "iopub.status.busy": "2021-08-18T21:16:46.960468Z",
     "iopub.status.idle": "2021-08-18T21:16:47.554759Z",
     "shell.execute_reply": "2021-08-18T21:16:47.554271Z",
     "shell.execute_reply.started": "2021-08-18T21:16:46.960610Z"
    }
   },
   "outputs": [
    {
     "data": {
      "image/png": "[encoded data removed]",
      "text/plain": [
       "<Figure size 450x900 with 2 Axes>"
      ]
     },
     "metadata": {},
     "output_type": "display_data"
    }
   ],
   "source": [
    "importance_by_reverse_segment_benchmark = plot_feature_migration_from_learning_curve_results(results, features, rotate=True,\n",
    "                                                                                             save_as=\"../images/{}_benchmark_importance_migration_learning_curve.eps\".format(PREFIX))"
   ]
  },
  {
   "cell_type": "code",
   "execution_count": 48,
   "metadata": {
    "execution": {
     "iopub.execute_input": "2021-08-18T21:14:35.936323Z",
     "iopub.status.busy": "2021-08-18T21:14:35.936153Z",
     "iopub.status.idle": "2021-08-18T21:14:36.420984Z",
     "shell.execute_reply": "2021-08-18T21:14:36.420509Z",
     "shell.execute_reply.started": "2021-08-18T21:14:35.936301Z"
    }
   },
   "outputs": [
    {
     "data": {
      "image/png": "[encoded data removed]",
      "text/plain": [
       "<Figure size 864x288 with 1 Axes>"
      ]
     },
     "metadata": {},
     "output_type": "display_data"
    }
   ],
   "source": [
    "fig, ax = plt.subplots()\n",
    "\n",
    "blues = plt.get_cmap(\"Blues\")\n",
    "gradient = np.linspace(.2, 0.8, len(results[\"holdout_performance\"]))\n",
    "\n",
    "for i, r in enumerate(results[\"holdout_performance_by_period\"]):\n",
    "    r.plot(label=results[\"last_period_included\"][i], color=blues(gradient[i]))\n",
    "\n",
    "ax.xaxis.set_tick_params(labelsize=12)\n",
    "ax.yaxis.set_tick_params(labelsize=12)\n",
    "plt.legend(bbox_to_anchor=(1.05, 1.0), fontsize=12, title=\"Oldest time period included in train\")\n",
    "plt.ylabel(\"AUC\", fontsize=15)\n",
    "plt.xlabel(\"Year\", fontsize=15)\n",
    "\n",
    "plt.savefig(\"../images/{}_perf_by_period_reverse_learning_curve_benchmark.eps\".format(PREFIX), format=\"eps\", bbox_inches = \"tight\")\n",
    "plt.show()"
   ]
  },
  {
   "cell_type": "code",
   "execution_count": 49,
   "metadata": {
    "execution": {
     "iopub.execute_input": "2021-08-18T21:14:36.421921Z",
     "iopub.status.busy": "2021-08-18T21:14:36.421757Z",
     "iopub.status.idle": "2021-08-18T21:14:36.425905Z",
     "shell.execute_reply": "2021-08-18T21:14:36.425482Z",
     "shell.execute_reply.started": "2021-08-18T21:14:36.421900Z"
    }
   },
   "outputs": [
    {
     "data": {
      "text/plain": [
       "product_name_lenght              -0.001706\n",
       "price                             0.001831\n",
       "product_height_cm                -0.001167\n",
       "product_width_cm                 -0.000151\n",
       "product_weight_g                  0.000417\n",
       "difference_limit_delivered        0.048189\n",
       "difference_estimated_delivered    0.022577\n",
       "product_category_name            -0.000835\n",
       "product_photos_qty               -0.000938\n",
       "product_length_cm                 0.001350\n",
       "freight_value                     0.003356\n",
       "product_description_lenght        0.000149\n",
       "seller_id                        -0.001190\n",
       "Name: RF, dtype: float64"
      ]
     },
     "execution_count": 49,
     "metadata": {},
     "output_type": "execute_result"
    }
   ],
   "source": [
    "benchmark_importances"
   ]
  },
  {
   "cell_type": "markdown",
   "metadata": {},
   "source": [
    "## Challenger model"
   ]
  },
  {
   "cell_type": "code",
   "execution_count": 53,
   "metadata": {
    "ExecuteTime": {
     "end_time": "2021-06-26T16:56:28.771371Z",
     "start_time": "2021-06-26T16:56:28.768379Z"
    },
    "execution": {
     "iopub.execute_input": "2021-08-18T21:20:19.750942Z",
     "iopub.status.busy": "2021-08-18T21:20:19.750647Z",
     "iopub.status.idle": "2021-08-18T21:20:19.754752Z",
     "shell.execute_reply": "2021-08-18T21:20:19.753966Z",
     "shell.execute_reply.started": "2021-08-18T21:20:19.750914Z"
    }
   },
   "outputs": [],
   "source": [
    "train.reset_index(drop=True, inplace=True)"
   ]
  },
  {
   "cell_type": "code",
   "execution_count": 54,
   "metadata": {
    "ExecuteTime": {
     "end_time": "2021-06-26T16:56:28.789493Z",
     "start_time": "2021-06-26T16:56:28.773208Z"
    },
    "execution": {
     "iopub.execute_input": "2021-08-18T21:20:19.854554Z",
     "iopub.status.busy": "2021-08-18T21:20:19.854363Z",
     "iopub.status.idle": "2021-08-18T21:20:19.882191Z",
     "shell.execute_reply": "2021-08-18T21:20:19.881537Z",
     "shell.execute_reply.started": "2021-08-18T21:20:19.854525Z"
    }
   },
   "outputs": [
    {
     "data": {
      "text/html": [
       "<div>\n",
       "<style scoped>\n",
       "    .dataframe tbody tr th:only-of-type {\n",
       "        vertical-align: middle;\n",
       "    }\n",
       "\n",
       "    .dataframe tbody tr th {\n",
       "        vertical-align: top;\n",
       "    }\n",
       "\n",
       "    .dataframe thead th {\n",
       "        text-align: right;\n",
       "    }\n",
       "</style>\n",
       "<table border=\"1\" class=\"dataframe\">\n",
       "  <thead>\n",
       "    <tr style=\"text-align: right;\">\n",
       "      <th></th>\n",
       "      <th>product_name_lenght</th>\n",
       "      <th>price</th>\n",
       "      <th>product_height_cm</th>\n",
       "      <th>product_width_cm</th>\n",
       "      <th>product_weight_g</th>\n",
       "      <th>difference_limit_delivered</th>\n",
       "      <th>difference_estimated_delivered</th>\n",
       "      <th>product_category_name</th>\n",
       "      <th>product_photos_qty</th>\n",
       "      <th>product_length_cm</th>\n",
       "      <th>freight_value</th>\n",
       "      <th>product_description_lenght</th>\n",
       "      <th>seller_id</th>\n",
       "      <th>Year-month</th>\n",
       "    </tr>\n",
       "  </thead>\n",
       "  <tbody>\n",
       "    <tr>\n",
       "      <th>0</th>\n",
       "      <td>51.0</td>\n",
       "      <td>267.99</td>\n",
       "      <td>5.0</td>\n",
       "      <td>20.0</td>\n",
       "      <td>350.0</td>\n",
       "      <td>5.0</td>\n",
       "      <td>24.0</td>\n",
       "      <td>45</td>\n",
       "      <td>2.0</td>\n",
       "      <td>20.0</td>\n",
       "      <td>15.63</td>\n",
       "      <td>2025.0</td>\n",
       "      <td>510</td>\n",
       "      <td>2017-08</td>\n",
       "    </tr>\n",
       "    <tr>\n",
       "      <th>1</th>\n",
       "      <td>44.0</td>\n",
       "      <td>49.90</td>\n",
       "      <td>21.0</td>\n",
       "      <td>24.0</td>\n",
       "      <td>756.0</td>\n",
       "      <td>-6.0</td>\n",
       "      <td>19.0</td>\n",
       "      <td>13</td>\n",
       "      <td>3.0</td>\n",
       "      <td>32.0</td>\n",
       "      <td>15.70</td>\n",
       "      <td>368.0</td>\n",
       "      <td>1330</td>\n",
       "      <td>2017-02</td>\n",
       "    </tr>\n",
       "    <tr>\n",
       "      <th>2</th>\n",
       "      <td>53.0</td>\n",
       "      <td>129.90</td>\n",
       "      <td>30.0</td>\n",
       "      <td>20.0</td>\n",
       "      <td>1000.0</td>\n",
       "      <td>1.0</td>\n",
       "      <td>9.0</td>\n",
       "      <td>54</td>\n",
       "      <td>3.0</td>\n",
       "      <td>20.0</td>\n",
       "      <td>9.72</td>\n",
       "      <td>220.0</td>\n",
       "      <td>1113</td>\n",
       "      <td>2017-08</td>\n",
       "    </tr>\n",
       "    <tr>\n",
       "      <th>3</th>\n",
       "      <td>56.0</td>\n",
       "      <td>14.50</td>\n",
       "      <td>4.0</td>\n",
       "      <td>11.0</td>\n",
       "      <td>350.0</td>\n",
       "      <td>-10.0</td>\n",
       "      <td>8.0</td>\n",
       "      <td>71</td>\n",
       "      <td>1.0</td>\n",
       "      <td>19.0</td>\n",
       "      <td>15.10</td>\n",
       "      <td>351.0</td>\n",
       "      <td>1798</td>\n",
       "      <td>2017-06</td>\n",
       "    </tr>\n",
       "    <tr>\n",
       "      <th>4</th>\n",
       "      <td>59.0</td>\n",
       "      <td>199.90</td>\n",
       "      <td>15.0</td>\n",
       "      <td>35.0</td>\n",
       "      <td>3800.0</td>\n",
       "      <td>-6.0</td>\n",
       "      <td>15.0</td>\n",
       "      <td>15</td>\n",
       "      <td>2.0</td>\n",
       "      <td>45.0</td>\n",
       "      <td>26.24</td>\n",
       "      <td>302.0</td>\n",
       "      <td>881</td>\n",
       "      <td>2017-09</td>\n",
       "    </tr>\n",
       "    <tr>\n",
       "      <th>...</th>\n",
       "      <td>...</td>\n",
       "      <td>...</td>\n",
       "      <td>...</td>\n",
       "      <td>...</td>\n",
       "      <td>...</td>\n",
       "      <td>...</td>\n",
       "      <td>...</td>\n",
       "      <td>...</td>\n",
       "      <td>...</td>\n",
       "      <td>...</td>\n",
       "      <td>...</td>\n",
       "      <td>...</td>\n",
       "      <td>...</td>\n",
       "      <td>...</td>\n",
       "    </tr>\n",
       "    <tr>\n",
       "      <th>41431</th>\n",
       "      <td>35.0</td>\n",
       "      <td>89.00</td>\n",
       "      <td>2.0</td>\n",
       "      <td>25.0</td>\n",
       "      <td>100.0</td>\n",
       "      <td>7.0</td>\n",
       "      <td>27.0</td>\n",
       "      <td>34</td>\n",
       "      <td>7.0</td>\n",
       "      <td>20.0</td>\n",
       "      <td>17.90</td>\n",
       "      <td>920.0</td>\n",
       "      <td>604</td>\n",
       "      <td>2017-12</td>\n",
       "    </tr>\n",
       "    <tr>\n",
       "      <th>41432</th>\n",
       "      <td>30.0</td>\n",
       "      <td>40.00</td>\n",
       "      <td>8.0</td>\n",
       "      <td>11.0</td>\n",
       "      <td>200.0</td>\n",
       "      <td>3.0</td>\n",
       "      <td>11.0</td>\n",
       "      <td>34</td>\n",
       "      <td>2.0</td>\n",
       "      <td>16.0</td>\n",
       "      <td>7.78</td>\n",
       "      <td>227.0</td>\n",
       "      <td>468</td>\n",
       "      <td>2017-06</td>\n",
       "    </tr>\n",
       "    <tr>\n",
       "      <th>41433</th>\n",
       "      <td>28.0</td>\n",
       "      <td>213.00</td>\n",
       "      <td>10.0</td>\n",
       "      <td>25.0</td>\n",
       "      <td>1000.0</td>\n",
       "      <td>-4.0</td>\n",
       "      <td>15.0</td>\n",
       "      <td>10</td>\n",
       "      <td>2.0</td>\n",
       "      <td>30.0</td>\n",
       "      <td>18.74</td>\n",
       "      <td>855.0</td>\n",
       "      <td>961</td>\n",
       "      <td>2017-06</td>\n",
       "    </tr>\n",
       "    <tr>\n",
       "      <th>41434</th>\n",
       "      <td>54.0</td>\n",
       "      <td>56.99</td>\n",
       "      <td>8.0</td>\n",
       "      <td>21.0</td>\n",
       "      <td>250.0</td>\n",
       "      <td>-1.0</td>\n",
       "      <td>24.0</td>\n",
       "      <td>63</td>\n",
       "      <td>2.0</td>\n",
       "      <td>20.0</td>\n",
       "      <td>14.15</td>\n",
       "      <td>1536.0</td>\n",
       "      <td>2482</td>\n",
       "      <td>2017-11</td>\n",
       "    </tr>\n",
       "    <tr>\n",
       "      <th>41435</th>\n",
       "      <td>63.0</td>\n",
       "      <td>59.90</td>\n",
       "      <td>4.0</td>\n",
       "      <td>19.0</td>\n",
       "      <td>800.0</td>\n",
       "      <td>-4.0</td>\n",
       "      <td>17.0</td>\n",
       "      <td>64</td>\n",
       "      <td>1.0</td>\n",
       "      <td>38.0</td>\n",
       "      <td>11.81</td>\n",
       "      <td>785.0</td>\n",
       "      <td>1333</td>\n",
       "      <td>2017-02</td>\n",
       "    </tr>\n",
       "  </tbody>\n",
       "</table>\n",
       "<p>41436 rows × 14 columns</p>\n",
       "</div>"
      ],
      "text/plain": [
       "       product_name_lenght   price  product_height_cm  product_width_cm  \\\n",
       "0                     51.0  267.99                5.0              20.0   \n",
       "1                     44.0   49.90               21.0              24.0   \n",
       "2                     53.0  129.90               30.0              20.0   \n",
       "3                     56.0   14.50                4.0              11.0   \n",
       "4                     59.0  199.90               15.0              35.0   \n",
       "...                    ...     ...                ...               ...   \n",
       "41431                 35.0   89.00                2.0              25.0   \n",
       "41432                 30.0   40.00                8.0              11.0   \n",
       "41433                 28.0  213.00               10.0              25.0   \n",
       "41434                 54.0   56.99                8.0              21.0   \n",
       "41435                 63.0   59.90                4.0              19.0   \n",
       "\n",
       "       product_weight_g  difference_limit_delivered  \\\n",
       "0                 350.0                         5.0   \n",
       "1                 756.0                        -6.0   \n",
       "2                1000.0                         1.0   \n",
       "3                 350.0                       -10.0   \n",
       "4                3800.0                        -6.0   \n",
       "...                 ...                         ...   \n",
       "41431             100.0                         7.0   \n",
       "41432             200.0                         3.0   \n",
       "41433            1000.0                        -4.0   \n",
       "41434             250.0                        -1.0   \n",
       "41435             800.0                        -4.0   \n",
       "\n",
       "       difference_estimated_delivered  product_category_name  \\\n",
       "0                                24.0                     45   \n",
       "1                                19.0                     13   \n",
       "2                                 9.0                     54   \n",
       "3                                 8.0                     71   \n",
       "4                                15.0                     15   \n",
       "...                               ...                    ...   \n",
       "41431                            27.0                     34   \n",
       "41432                            11.0                     34   \n",
       "41433                            15.0                     10   \n",
       "41434                            24.0                     63   \n",
       "41435                            17.0                     64   \n",
       "\n",
       "       product_photos_qty  product_length_cm  freight_value  \\\n",
       "0                     2.0               20.0          15.63   \n",
       "1                     3.0               32.0          15.70   \n",
       "2                     3.0               20.0           9.72   \n",
       "3                     1.0               19.0          15.10   \n",
       "4                     2.0               45.0          26.24   \n",
       "...                   ...                ...            ...   \n",
       "41431                 7.0               20.0          17.90   \n",
       "41432                 2.0               16.0           7.78   \n",
       "41433                 2.0               30.0          18.74   \n",
       "41434                 2.0               20.0          14.15   \n",
       "41435                 1.0               38.0          11.81   \n",
       "\n",
       "       product_description_lenght  seller_id Year-month  \n",
       "0                          2025.0        510    2017-08  \n",
       "1                           368.0       1330    2017-02  \n",
       "2                           220.0       1113    2017-08  \n",
       "3                           351.0       1798    2017-06  \n",
       "4                           302.0        881    2017-09  \n",
       "...                           ...        ...        ...  \n",
       "41431                       920.0        604    2017-12  \n",
       "41432                       227.0        468    2017-06  \n",
       "41433                       855.0        961    2017-06  \n",
       "41434                      1536.0       2482    2017-11  \n",
       "41435                       785.0       1333    2017-02  \n",
       "\n",
       "[41436 rows x 14 columns]"
      ]
     },
     "execution_count": 54,
     "metadata": {},
     "output_type": "execute_result"
    }
   ],
   "source": [
    "train[features + [TIME_COLUMN]]"
   ]
  },
  {
   "cell_type": "code",
   "execution_count": 55,
   "metadata": {
    "ExecuteTime": {
     "end_time": "2021-06-26T16:56:28.796459Z",
     "start_time": "2021-06-26T16:56:28.791288Z"
    },
    "execution": {
     "iopub.execute_input": "2021-08-18T21:20:19.949488Z",
     "iopub.status.busy": "2021-08-18T21:20:19.949275Z",
     "iopub.status.idle": "2021-08-18T21:20:19.954895Z",
     "shell.execute_reply": "2021-08-18T21:20:19.954290Z",
     "shell.execute_reply.started": "2021-08-18T21:20:19.949453Z"
    }
   },
   "outputs": [
    {
     "data": {
      "text/plain": [
       "2017    41436\n",
       "Name: Year, dtype: int64"
      ]
     },
     "execution_count": 55,
     "metadata": {},
     "output_type": "execute_result"
    }
   ],
   "source": [
    "train[\"Year\"].value_counts()"
   ]
  },
  {
   "cell_type": "code",
   "execution_count": 56,
   "metadata": {
    "execution": {
     "iopub.execute_input": "2021-08-18T21:20:20.049363Z",
     "iopub.status.busy": "2021-08-18T21:20:20.049174Z",
     "iopub.status.idle": "2021-08-18T21:20:20.059113Z",
     "shell.execute_reply": "2021-08-18T21:20:20.058545Z",
     "shell.execute_reply.started": "2021-08-18T21:20:20.049333Z"
    }
   },
   "outputs": [
    {
     "data": {
      "text/plain": [
       "12"
      ]
     },
     "execution_count": 56,
     "metadata": {},
     "output_type": "execute_result"
    }
   ],
   "source": [
    "train[TIME_COLUMN].nunique()"
   ]
  },
  {
   "cell_type": "code",
   "execution_count": 57,
   "metadata": {
    "execution": {
     "iopub.execute_input": "2021-08-18T21:20:20.149445Z",
     "iopub.status.busy": "2021-08-18T21:20:20.149258Z",
     "iopub.status.idle": "2021-08-18T21:20:20.152497Z",
     "shell.execute_reply": "2021-08-18T21:20:20.151776Z",
     "shell.execute_reply.started": "2021-08-18T21:20:20.149422Z"
    }
   },
   "outputs": [],
   "source": [
    "CHALLENGER_MAX_DEPTH = 11\n",
    "CHALLENGER_N_ESTIMATORS = 250\n",
    "CHALLENGER_MIN_SAMPLES_BY_PERIODS = 2"
   ]
  },
  {
   "cell_type": "code",
   "execution_count": 58,
   "metadata": {
    "execution": {
     "iopub.execute_input": "2021-08-18T21:20:20.251325Z",
     "iopub.status.busy": "2021-08-18T21:20:20.251098Z",
     "iopub.status.idle": "2021-08-18T21:23:37.045303Z",
     "shell.execute_reply": "2021-08-18T21:23:37.044356Z",
     "shell.execute_reply.started": "2021-08-18T21:20:20.251301Z"
    }
   },
   "outputs": [],
   "source": [
    "challenger_model_max = TimeForestClassifier(time_column=TIME_COLUMN,\n",
    "                                        n_estimators=CHALLENGER_N_ESTIMATORS,\n",
    "                                        min_sample_periods=CHALLENGER_MIN_SAMPLES_BY_PERIODS,\n",
    "                                        max_depth=CHALLENGER_MAX_DEPTH,\n",
    "                                        period_criterion='max',\n",
    "                                        multi=True)\n",
    "\n",
    "challenger_model_max.fit(train[features + [TIME_COLUMN]], train[TARGET].values)"
   ]
  },
  {
   "cell_type": "code",
   "execution_count": 59,
   "metadata": {
    "execution": {
     "iopub.execute_input": "2021-08-18T21:23:37.046624Z",
     "iopub.status.busy": "2021-08-18T21:23:37.046446Z",
     "iopub.status.idle": "2021-08-18T21:25:13.010186Z",
     "shell.execute_reply": "2021-08-18T21:25:13.009649Z",
     "shell.execute_reply.started": "2021-08-18T21:23:37.046602Z"
    }
   },
   "outputs": [],
   "source": [
    "train[\"challenger_prediction_max\"] = challenger_model_max.predict_proba(train[features])[:, 1]\n",
    "test[\"challenger_prediction_max\"] = challenger_model_max.predict_proba(test[features])[:, 1]\n",
    "out_of_time[\"challenger_prediction_max\"] = challenger_model_max.predict_proba(out_of_time[features])[:, 1]"
   ]
  },
  {
   "cell_type": "code",
   "execution_count": 60,
   "metadata": {
    "execution": {
     "iopub.execute_input": "2021-08-18T21:25:13.011583Z",
     "iopub.status.busy": "2021-08-18T21:25:13.011339Z",
     "iopub.status.idle": "2021-08-18T21:25:13.047951Z",
     "shell.execute_reply": "2021-08-18T21:25:13.047467Z",
     "shell.execute_reply.started": "2021-08-18T21:25:13.011559Z"
    }
   },
   "outputs": [
    {
     "name": "stdout",
     "output_type": "stream",
     "text": [
      "0.6604030398452133\n",
      "0.6267777404079159\n",
      "0.6283808427373203\n"
     ]
    }
   ],
   "source": [
    "print(roc_auc_score(train[TARGET], train[\"challenger_prediction_max\"]))\n",
    "print(roc_auc_score(test[TARGET], test[\"challenger_prediction_max\"]))\n",
    "print(roc_auc_score(out_of_time[TARGET], out_of_time[\"challenger_prediction_max\"]))"
   ]
  },
  {
   "cell_type": "code",
   "execution_count": 61,
   "metadata": {
    "execution": {
     "iopub.execute_input": "2021-08-18T21:25:13.049037Z",
     "iopub.status.busy": "2021-08-18T21:25:13.048875Z",
     "iopub.status.idle": "2021-08-18T21:25:13.854563Z",
     "shell.execute_reply": "2021-08-18T21:25:13.854104Z",
     "shell.execute_reply.started": "2021-08-18T21:25:13.049017Z"
    }
   },
   "outputs": [
    {
     "data": {
      "text/plain": [
       "freight_value                     2512\n",
       "product_description_lenght        2495\n",
       "price                             2494\n",
       "seller_id                         2265\n",
       "difference_limit_delivered        2183\n",
       "product_weight_g                  2084\n",
       "product_name_lenght               2026\n",
       "product_length_cm                 2019\n",
       "product_height_cm                 1884\n",
       "product_category_name             1830\n",
       "product_width_cm                  1769\n",
       "difference_estimated_delivered    1641\n",
       "product_photos_qty                 864\n",
       "Name: TRF Max, dtype: int64"
      ]
     },
     "execution_count": 61,
     "metadata": {},
     "output_type": "execute_result"
    }
   ],
   "source": [
    "challenger_model_max.feature_importance()\n",
    "\n",
    "challenger_model_max_importances = challenger_model_max.feature_importance()\n",
    "challenger_model_max_importances.rename(\"TRF Max\", inplace=True)"
   ]
  },
  {
   "cell_type": "code",
   "execution_count": 62,
   "metadata": {
    "ExecuteTime": {
     "end_time": "2021-06-26T18:23:39.252988Z",
     "start_time": "2021-06-26T16:56:28.798016Z"
    },
    "execution": {
     "iopub.execute_input": "2021-08-18T21:25:13.855542Z",
     "iopub.status.busy": "2021-08-18T21:25:13.855348Z",
     "iopub.status.idle": "2021-08-18T21:30:06.268077Z",
     "shell.execute_reply": "2021-08-18T21:30:06.267493Z",
     "shell.execute_reply.started": "2021-08-18T21:25:13.855519Z"
    }
   },
   "outputs": [],
   "source": [
    "challenger_model = TimeForestClassifier(time_column=TIME_COLUMN,\n",
    "                                        n_estimators=CHALLENGER_N_ESTIMATORS,\n",
    "                                        min_sample_periods=CHALLENGER_MIN_SAMPLES_BY_PERIODS,\n",
    "                                        max_depth=CHALLENGER_MAX_DEPTH,\n",
    "                                        multi=True)\n",
    "challenger_model.fit(train[features + [TIME_COLUMN]], train[TARGET].values)\n",
    "\n",
    "train[\"challenger_prediction\"] = challenger_model.predict_proba(train[features])[:, 1]\n",
    "test[\"challenger_prediction\"] = challenger_model.predict_proba(test[features])[:, 1]\n",
    "out_of_time[\"challenger_prediction\"] = challenger_model.predict_proba(out_of_time[features])[:, 1]"
   ]
  },
  {
   "cell_type": "code",
   "execution_count": 63,
   "metadata": {
    "ExecuteTime": {
     "end_time": "2021-06-26T18:23:39.311366Z",
     "start_time": "2021-06-26T18:23:39.254800Z"
    },
    "execution": {
     "iopub.execute_input": "2021-08-18T21:30:06.269180Z",
     "iopub.status.busy": "2021-08-18T21:30:06.269001Z",
     "iopub.status.idle": "2021-08-18T21:30:06.305429Z",
     "shell.execute_reply": "2021-08-18T21:30:06.304962Z",
     "shell.execute_reply.started": "2021-08-18T21:30:06.269156Z"
    }
   },
   "outputs": [
    {
     "name": "stdout",
     "output_type": "stream",
     "text": [
      "0.6588093378341937\n",
      "0.6258059291032863\n",
      "0.6263121447059974\n"
     ]
    }
   ],
   "source": [
    "print(roc_auc_score(train[TARGET], train[\"challenger_prediction\"]))\n",
    "print(roc_auc_score(test[TARGET], test[\"challenger_prediction\"]))\n",
    "print(roc_auc_score(out_of_time[TARGET], out_of_time[\"challenger_prediction\"]))"
   ]
  },
  {
   "cell_type": "markdown",
   "metadata": {},
   "source": [
    "## Feature Importance migration"
   ]
  },
  {
   "cell_type": "code",
   "execution_count": null,
   "metadata": {
    "execution": {
     "iopub.execute_input": "2021-08-18T21:30:06.306347Z",
     "iopub.status.busy": "2021-08-18T21:30:06.306186Z"
    }
   },
   "outputs": [],
   "source": [
    "challenger_model = TimeForestClassifier(time_column=TIME_COLUMN,\n",
    "                                        n_estimators=CHALLENGER_N_ESTIMATORS,\n",
    "                                        min_sample_periods=CHALLENGER_MIN_SAMPLES_BY_PERIODS,\n",
    "                                        max_depth=CHALLENGER_MAX_DEPTH,\n",
    "                                        multi=True)\n",
    "\n",
    "results_trt = reverse_learning_curve(train, out_of_time, challenger_model, features, TARGET, TIME_COLUMN, roc_auc_score, n_rounds=5, trt_model=True)"
   ]
  },
  {
   "cell_type": "code",
   "execution_count": null,
   "metadata": {},
   "outputs": [],
   "source": [
    "challenger_model_importances = results_trt[\"feature_importance\"][-1].copy(deep=True)\n",
    "challenger_model_importances.rename(\"TRF\", inplace=True)"
   ]
  },
  {
   "cell_type": "code",
   "execution_count": null,
   "metadata": {},
   "outputs": [],
   "source": [
    "all_models_importance = pd.DataFrame(index=features)\n",
    "all_models_importance = all_models_importance.merge(benchmark_importances, how=\"left\", left_index=True, \n",
    "                            right_index=True)\n",
    "all_models_importance = all_models_importance.merge(challenger_model_importances, how=\"left\", left_index=True, \n",
    "                            right_index=True)\n",
    "# all_models_importance = all_models_importance.merge(challenger_model_max_importances, how=\"left\", left_index=True, \n",
    "#                             right_index=True)\n",
    "\n",
    "all_models_importance.fillna(0, inplace=True)\n",
    "all_models_importance"
   ]
  },
  {
   "cell_type": "code",
   "execution_count": null,
   "metadata": {},
   "outputs": [],
   "source": [
    "plot_shap_difference(all_models_importance[[\"RF\", \"TRF\"]], title=\"\", save_as=\"../images/{}_importance_migration.eps\".format(PREFIX))"
   ]
  },
  {
   "cell_type": "code",
   "execution_count": null,
   "metadata": {},
   "outputs": [],
   "source": [
    "# plot_shap_difference(all_models_importance, title=\"\", save_as=\"../images/{}_importance_migration_trf_max.eps\".format(PREFIX))"
   ]
  },
  {
   "cell_type": "markdown",
   "metadata": {},
   "source": [
    "## Reverse Learning Curve"
   ]
  },
  {
   "cell_type": "code",
   "execution_count": null,
   "metadata": {},
   "outputs": [],
   "source": [
    "importance_by_reverse_segment_challenger = plot_feature_migration_from_learning_curve_results(results_trt, features, rotate=True,\n",
    "                                                                                             save_as=\"../images/{}_challenger_importance_migration_learning_curve.eps\".format(PREFIX))\n",
    "importance_by_reverse_segment_challenger"
   ]
  },
  {
   "cell_type": "code",
   "execution_count": null,
   "metadata": {},
   "outputs": [],
   "source": [
    "fig, ax = plt.subplots()\n",
    "\n",
    "greens = plt.get_cmap(\"Greens\")\n",
    "gradient = np.linspace(.2, 0.8, len(results_trt[\"holdout_performance\"]))\n",
    "\n",
    "for i, r in enumerate(results_trt[\"holdout_performance_by_period\"]):\n",
    "    r.plot(label=results_trt[\"last_period_included\"][i], color=greens(gradient[i]))\n",
    "\n",
    "ax.xaxis.set_tick_params(labelsize=12)\n",
    "ax.yaxis.set_tick_params(labelsize=12)\n",
    "plt.legend(bbox_to_anchor=(1.05, 1.0), fontsize=12, title=\"Oldest time period included in train\")\n",
    "plt.ylabel(\"AUC\", fontsize=15)\n",
    "plt.xlabel(\"Year\", fontsize=15)\n",
    "\n",
    "plt.savefig(\"../images/{}_perf_by_period_reverse_learning_curve_challenger.eps\".format(PREFIX), format=\"eps\", bbox_inches = \"tight\")\n",
    "plt.show()"
   ]
  },
  {
   "cell_type": "code",
   "execution_count": null,
   "metadata": {},
   "outputs": [],
   "source": [
    "fig, ax = plt.subplots()\n",
    "plt.plot([str(i) for i in results[\"sample_size\"]], results[\"holdout_performance\"], label=\"RF\")\n",
    "plt.plot(results_trt[\"holdout_performance\"], label=\"TRF\", linestyle=\"dashed\", color=\"green\")\n",
    "ax.xaxis.set_tick_params(labelsize=12)\n",
    "ax.yaxis.set_tick_params(labelsize=12)\n",
    "plt.legend(fontsize=15, bbox_to_anchor=(1.0, 1.0))\n",
    "plt.ylabel(\"AUC in the holdout\", fontsize=15)\n",
    "plt.xlabel(\"Sample size\", fontsize=15)\n",
    "plt.savefig(\"../images/{}_reverse_learning_curve_sample.eps\".format(PREFIX), format=\"eps\")\n",
    "plt.show()"
   ]
  },
  {
   "cell_type": "code",
   "execution_count": null,
   "metadata": {},
   "outputs": [],
   "source": [
    "fig, ax = plt.subplots()\n",
    "plt.plot([str(i) for i in results[\"last_period_included\"]], results[\"holdout_performance\"], label=\"RF\")\n",
    "plt.plot(results_trt[\"holdout_performance\"], label=\"TRF\", linestyle=\"dashed\", color=\"green\")\n",
    "ax.xaxis.set_tick_params(labelsize=12)\n",
    "ax.yaxis.set_tick_params(labelsize=12)\n",
    "plt.legend(fontsize=15, bbox_to_anchor=(1.0, 1.0))\n",
    "plt.ylabel(\"AUC in the holdout\", fontsize=15)\n",
    "plt.xlabel(\"Oldest time period included in the training\", fontsize=15)\n",
    "plt.savefig(\"../images/{}_reverse_learning_curve_segments.eps\".format(PREFIX), format=\"eps\")\n",
    "plt.show()"
   ]
  },
  {
   "cell_type": "code",
   "execution_count": null,
   "metadata": {},
   "outputs": [],
   "source": [
    "fig, ax = plt.subplots()\n",
    "\n",
    "greens = plt.get_cmap(\"Greens\")\n",
    "gradient = np.linspace(.2, 0.8, len(results_trt[\"holdout_performance\"]))\n",
    "\n",
    "for i, r in enumerate(results_trt[\"holdout_performance_by_period\"]):\n",
    "    r.plot(label=results_trt[\"last_period_included\"][i], color=greens(gradient[i]))\n",
    "    \n",
    "for i, r in enumerate(results[\"holdout_performance_by_period\"]):\n",
    "    r.plot(label=results[\"last_period_included\"][i], color=blues(gradient[i]))\n",
    "\n",
    "ax.xaxis.set_tick_params(labelsize=12)\n",
    "ax.yaxis.set_tick_params(labelsize=12)\n",
    "plt.legend(bbox_to_anchor=(1.05, 1.0), fontsize=12, title=\"Oldest time period included in train\")\n",
    "plt.ylabel(\"AUC\", fontsize=15)\n",
    "plt.xlabel(\"Year\", fontsize=15)\n",
    "\n",
    "plt.savefig(\"../images/{}_perf_by_period_reverse_learning_curve_both.eps\".format(PREFIX), format=\"eps\", bbox_inches = \"tight\")\n",
    "plt.show()"
   ]
  },
  {
   "cell_type": "markdown",
   "metadata": {},
   "source": [
    "## Performance comparison"
   ]
  },
  {
   "cell_type": "code",
   "execution_count": null,
   "metadata": {},
   "outputs": [],
   "source": [
    "fig, ax = plt.subplots()\n",
    "pd.concat([test, out_of_time]).groupby(TIME_COLUMN).apply(lambda x: roc_auc_score(x[TARGET], x[\"challenger_prediction\"])).plot(label=\"Time Robust Forest\", \n",
    "                                                                                                      linestyle=\"dashed\",\n",
    "                                                                                                      color=\"green\", ax=ax)\n",
    "pd.concat([test, out_of_time]).groupby(TIME_COLUMN).apply(lambda x: roc_auc_score(x[TARGET], x[\"benchmark_prediction_opt\"])).plot(label=\"Random Forest\", ax=ax)\n",
    "\n",
    "ax.xaxis.set_tick_params(labelsize=12)\n",
    "ax.yaxis.set_tick_params(labelsize=12)\n",
    "\n",
    "xmin, xmax, ymin, ymax = plt.axis()\n",
    "plt.vlines(12, ymin, ymax, linestyle=\"dotted\", color=\"red\", label=\"Holdout start\")\n",
    "plt.ylim([ymin, ymax])\n",
    "plt.legend(fontsize=15, bbox_to_anchor=(1.0, 1.0))\n",
    "plt.ylabel(\"AUC\", fontsize=15)\n",
    "plt.xlabel(\"Year\", fontsize=15)\n",
    "plt.savefig(\"../images/{}_test_holdout_auc_years.eps\".format(PREFIX), format=\"eps\")\n",
    "plt.show()"
   ]
  },
  {
   "cell_type": "code",
   "execution_count": null,
   "metadata": {},
   "outputs": [],
   "source": [
    "plt.rcParams['figure.figsize'] = (8, 6)\n",
    "fig, ax = plt.subplots()\n",
    "pd.concat([test, out_of_time]).groupby(TIME_COLUMN).apply(lambda x: roc_auc_score(x[TARGET], x[\"challenger_prediction\"])).plot(label=\"Time Robust Forest\", \n",
    "                                                                                                      linestyle=\"dashed\",\n",
    "                                                                                                      color=\"green\", ax=ax)\n",
    "pd.concat([test, out_of_time]).groupby(TIME_COLUMN).apply(lambda x: roc_auc_score(x[TARGET], x[\"benchmark_prediction_opt\"])).plot(label=\"Random Forest\", ax=ax)\n",
    "\n",
    "\n",
    "ax.xaxis.set_tick_params(labelsize=15)\n",
    "ax.yaxis.set_tick_params(labelsize=15)\n",
    "\n",
    "xmin, xmax, ymin, ymax = plt.axis()\n",
    "#plt.vlines(training_end_year + 1, ymin, ymax, linestyle=\"dotted\", color=\"red\", label=\"Holdout start\")\n",
    "plt.vlines(12, ymin, ymax, linestyle=\"dotted\", color=\"red\", label=\"Holdout start\")\n",
    "plt.ylim([ymin, ymax])\n",
    "plt.legend(fontsize=13, bbox_to_anchor=(0.12, 1.0))\n",
    "\n",
    "plt.ylabel(\"AUC\", fontsize=16)\n",
    "plt.xlabel(\"Year\", fontsize=16)\n",
    "plt.savefig(\"../images/{}_test_holdout_auc_years_square.eps\".format(PREFIX), format=\"eps\")\n",
    "plt.show()"
   ]
  },
  {
   "cell_type": "markdown",
   "metadata": {},
   "source": [
    "## TRF as feature selection"
   ]
  },
  {
   "cell_type": "code",
   "execution_count": null,
   "metadata": {
    "ExecuteTime": {
     "end_time": "2021-06-26T18:30:46.653572Z",
     "start_time": "2021-06-26T18:30:46.288845Z"
    }
   },
   "outputs": [],
   "source": [
    "challenger_model.feature_importance()"
   ]
  },
  {
   "cell_type": "code",
   "execution_count": null,
   "metadata": {
    "ExecuteTime": {
     "end_time": "2021-06-26T18:30:49.053954Z",
     "start_time": "2021-06-26T18:30:46.655784Z"
    }
   },
   "outputs": [],
   "source": [
    "selected_features = [feature for feature in features if feature in challenger_model.feature_importance().index]\n",
    "selected_features"
   ]
  },
  {
   "cell_type": "code",
   "execution_count": null,
   "metadata": {},
   "outputs": [],
   "source": [
    "if len(selected_features) == len(features):\n",
    "    selected_features = list(challenger_model.feature_importance().sort_values(ascending=False).index[:int(len(features)/2)+2].values)\n",
    "    \n",
    "selected_features    "
   ]
  },
  {
   "cell_type": "code",
   "execution_count": null,
   "metadata": {},
   "outputs": [],
   "source": [
    "selected_features"
   ]
  },
  {
   "cell_type": "code",
   "execution_count": null,
   "metadata": {
    "ExecuteTime": {
     "end_time": "2021-06-26T18:33:38.708090Z",
     "start_time": "2021-06-26T18:30:49.057135Z"
    }
   },
   "outputs": [],
   "source": [
    "clf1 = setup(train[selected_features + [TARGET]], \n",
    "             target=TARGET,\n",
    "             session_id=3, \n",
    "             log_experiment=False, \n",
    "             experiment_name=\"{}_fs\".format(PREFIX),\n",
    "             silent=True)\n",
    "\n",
    "rf = create_model('rf')\n",
    "tuned_rf = tune_model(rf,\n",
    "                     optimize=\"AUC\",\n",
    "                     fold=5,\n",
    "                     n_iter=50)"
   ]
  },
  {
   "cell_type": "code",
   "execution_count": null,
   "metadata": {
    "ExecuteTime": {
     "end_time": "2021-06-26T18:33:38.716121Z",
     "start_time": "2021-06-26T18:33:38.711054Z"
    }
   },
   "outputs": [],
   "source": [
    "tuned_rf"
   ]
  },
  {
   "cell_type": "code",
   "execution_count": null,
   "metadata": {
    "ExecuteTime": {
     "end_time": "2021-06-26T18:33:39.742023Z",
     "start_time": "2021-06-26T18:33:38.718506Z"
    }
   },
   "outputs": [],
   "source": [
    "benchmark_model = tuned_rf\n",
    "benchmark_model.fit(train[selected_features], train[TARGET])\n",
    "\n",
    "train[\"benchmark_prediction_opt_selected_features\"] = benchmark_model.predict_proba(train[selected_features])[:, 1]\n",
    "test[\"benchmark_prediction_opt_selected_features\"] = benchmark_model.predict_proba(test[selected_features])[:, 1]\n",
    "out_of_time[\"benchmark_prediction_opt_selected_features\"] = benchmark_model.predict_proba(out_of_time[selected_features])[:, 1]"
   ]
  },
  {
   "cell_type": "code",
   "execution_count": null,
   "metadata": {
    "ExecuteTime": {
     "end_time": "2021-06-26T18:33:39.798579Z",
     "start_time": "2021-06-26T18:33:39.744812Z"
    }
   },
   "outputs": [],
   "source": [
    "print(roc_auc_score(train[TARGET], train[\"benchmark_prediction_opt_selected_features\"]))\n",
    "print(roc_auc_score(test[TARGET], test[\"benchmark_prediction_opt_selected_features\"]))\n",
    "print(roc_auc_score(out_of_time[TARGET], out_of_time[\"benchmark_prediction_opt_selected_features\"]))"
   ]
  },
  {
   "cell_type": "code",
   "execution_count": null,
   "metadata": {},
   "outputs": [],
   "source": [
    "train[TIME_COLUMN].nunique()"
   ]
  },
  {
   "cell_type": "code",
   "execution_count": null,
   "metadata": {
    "ExecuteTime": {
     "end_time": "2021-06-26T18:33:40.395501Z",
     "start_time": "2021-06-26T18:33:39.801672Z"
    }
   },
   "outputs": [],
   "source": [
    "fig, ax = plt.subplots(figsize=(8, 6))\n",
    "pd.concat([test, out_of_time]).groupby(TIME_COLUMN).apply(lambda x: roc_auc_score(x[TARGET], x[\"challenger_prediction\"])).plot(label=\"Time Robust Forest\", \n",
    "                                                                                                      linestyle=\"dashed\",\n",
    "                                                                                                      color=\"green\", ax=ax)\n",
    "pd.concat([test, out_of_time]).groupby(TIME_COLUMN).apply(lambda x: roc_auc_score(x[TARGET], x[\"benchmark_prediction_opt\"])).plot(label=\"Random Forest\", ax=ax)\n",
    "\n",
    "pd.concat([test, out_of_time]).groupby(TIME_COLUMN).apply(lambda x: roc_auc_score(x[TARGET], x[\"benchmark_prediction_opt_selected_features\"])).plot(label=\"Random Forest w/ TRF feature selection\", ax=ax)\n",
    "\n",
    "\n",
    "ax.xaxis.set_tick_params(labelsize=15)\n",
    "ax.yaxis.set_tick_params(labelsize=15)\n",
    "\n",
    "xmin, xmax, ymin, ymax = plt.axis()\n",
    "plt.vlines(12, ymin, ymax, linestyle=\"dotted\", color=\"red\", label=\"Holdout start\")\n",
    "plt.ylim([ymin, ymax])\n",
    "plt.legend(fontsize=10, bbox_to_anchor=(0.52, 0.25))\n",
    "plt.ylabel(\"AUC\", fontsize=16)\n",
    "plt.xlabel(\"Year\", fontsize=16)\n",
    "plt.savefig(\"../images/{}_test_holdout_auc_years_square_fs.eps\".format(PREFIX), format=\"eps\")\n",
    "plt.show()"
   ]
  },
  {
   "cell_type": "markdown",
   "metadata": {},
   "source": [
    "## Feature Impact"
   ]
  },
  {
   "cell_type": "code",
   "execution_count": null,
   "metadata": {},
   "outputs": [],
   "source": [
    "from pygam import LinearGAM\n",
    "from sklearn.model_selection import train_test_split\n",
    "from sklearn.metrics import r2_score\n",
    "from sklearn.preprocessing import StandardScaler\n",
    "from matplotlib.collections import PolyCollection as p"
   ]
  },
  {
   "cell_type": "code",
   "execution_count": null,
   "metadata": {},
   "outputs": [],
   "source": [
    "fig, ax = plt.subplots()\n",
    "\n",
    "sns.distplot(out_of_time[\"challenger_prediction\"], label=\"TRF\")\n",
    "sns.distplot(out_of_time[\"benchmark_prediction_opt\"], label=\"RF\")\n",
    "\n",
    "ax.xaxis.set_tick_params(labelsize=12)\n",
    "ax.yaxis.set_tick_params(labelsize=12)\n",
    "\n",
    "plt.legend(fontsize=15, bbox_to_anchor=(1.0, 1.0))\n",
    "plt.ylabel(\"Density\", fontsize=15)\n",
    "plt.xlabel(\"Score\", fontsize=15)\n",
    "\n",
    "__file__ = \"../images/{}_trf_rf_score_distribution\".format(PREFIX)\n",
    "plt.savefig(__file__+\".jpg\", quality=95)\n",
    "for c in ax.findobj(p):\n",
    "    c.set_zorder(-1)\n",
    "    c.set_rasterized(True)\n",
    "ax.set_rasterization_zorder(0)\n",
    "\n",
    "ax.set_rasterized(True)\n",
    "plt.savefig(__file__+\".eps\")        \n",
    "\n",
    "plt.savefig(\"../images/{}_trf_rf_score_distribution.eps\".format(PREFIX), format=\"eps\")\n",
    "plt.show()"
   ]
  },
  {
   "cell_type": "code",
   "execution_count": null,
   "metadata": {},
   "outputs": [],
   "source": [
    "ss = StandardScaler()\n",
    "out_of_time[\"challenger_prediction_norm\"] = ss.fit_transform(out_of_time[[\"challenger_prediction\"]])\n",
    "out_of_time[\"benchmark_prediction_norm\"] = ss.fit_transform(out_of_time[[\"benchmark_prediction_opt\"]])"
   ]
  },
  {
   "cell_type": "code",
   "execution_count": null,
   "metadata": {},
   "outputs": [],
   "source": [
    "sns.distplot(out_of_time[\"challenger_prediction_norm\"])\n",
    "sns.distplot(out_of_time[\"benchmark_prediction_norm\"])"
   ]
  },
  {
   "cell_type": "code",
   "execution_count": null,
   "metadata": {},
   "outputs": [],
   "source": [
    "X_train, X_test, y_train, y_test = train_test_split(out_of_time[features], \n",
    "                                                    out_of_time[[\"challenger_prediction\", \n",
    "                                                                 \"benchmark_prediction\"]],\n",
    "                                                    test_size=0.6,\n",
    "                                                    random_state=42)\n",
    "\n",
    "print(X_train.shape)\n",
    "print(X_test.shape)"
   ]
  },
  {
   "cell_type": "code",
   "execution_count": null,
   "metadata": {},
   "outputs": [],
   "source": [
    "numerical_features = [feature for feature in features if feature not in columns_to_label_encode]\n",
    "numerical_features"
   ]
  },
  {
   "cell_type": "code",
   "execution_count": null,
   "metadata": {},
   "outputs": [],
   "source": [
    "p99 = X_train[numerical_features].quantile(.99)\n",
    "p01 = X_train[numerical_features].quantile(.01)\n",
    "p005 = X_train.quantile(.005)\n",
    "\n",
    "X_train[numerical_features] = X_train[numerical_features].where(\n",
    "    X_train[numerical_features] < p99, other=p99, axis=1)\n",
    "X_test[numerical_features] = X_test[numerical_features].where(\n",
    "    X_test[numerical_features] < p99, other=p99, axis=1)\n",
    "\n",
    "X_train[numerical_features] = X_train[numerical_features].where(\n",
    "    X_train[numerical_features] > p01, other=p01, axis=1)\n",
    "X_test[numerical_features] = X_test[numerical_features].where(\n",
    "    X_test[numerical_features] > p01, other=p01, axis=1)\n",
    "\n",
    "X_train = X_train.fillna(p005)\n",
    "X_test = X_test.fillna(p005)"
   ]
  },
  {
   "cell_type": "code",
   "execution_count": null,
   "metadata": {},
   "outputs": [],
   "source": [
    "dtype = [\"numerical\" if feature not in columns_to_label_encode else \"categorical\" for feature in features]\n",
    "\n",
    "gam_challenger = LinearGAM(dtype=dtype).gridsearch(X_train[features].values, y_train[\"challenger_prediction\"].values)\n",
    "gam_benchmark = LinearGAM(dtype=dtype).gridsearch(X_train[features].values, y_train[\"benchmark_prediction\"].values)"
   ]
  },
  {
   "cell_type": "code",
   "execution_count": null,
   "metadata": {},
   "outputs": [],
   "source": [
    "pred_test = gam_challenger.predict(X_test[features])\n",
    "print(\"r2 test (challenger): %f\" %r2_score(y_test[\"challenger_prediction\"], pred_test))\n",
    "\n",
    "pred_test = gam_benchmark.predict(X_test[features])\n",
    "print(\"r2 test (benchmark): %f\" %r2_score(y_test[\"benchmark_prediction\"], pred_test))"
   ]
  },
  {
   "cell_type": "code",
   "execution_count": null,
   "metadata": {},
   "outputs": [],
   "source": [
    "for i, feat in enumerate(features):\n",
    "    if feat not in numerical_features:\n",
    "        continue\n",
    "    print(feat)\n",
    "    print(i)\n",
    "    XX = gam_challenger.generate_X_grid(i, n=X_test.shape[0])\n",
    "    ### Fix needed for this dataset\n",
    "    XX[:, 8] = X_test.values[:, 8]\n",
    "    pdep, confi = gam_challenger.partial_dependence(i, X=XX, width=.95)\n",
    "    fig, ax = plt.subplots(figsize=(10, 6), dpi=150)\n",
    "\n",
    "    plt.plot(XX[:, i], pdep, c=\"green\", label=\"TRF\")\n",
    "    plt.plot(XX[:, i], confi, c='green', ls='--')\n",
    "    plt.ylabel(\"Score\")\n",
    "    plt.legend()\n",
    "\n",
    "    ### Benchmark\n",
    "    pdep, confi = gam_benchmark.partial_dependence(i, X=XX, width=.95)\n",
    "    plt.plot(XX[:, i], pdep, color=\"#4c72b0\", label=\"RF\")\n",
    "    plt.plot(XX[:, i], confi, c='#4c72b0', ls='--')\n",
    "    plt.ylabel(\"Score\", fontsize=15)\n",
    "    plt.legend()\n",
    "\n",
    "    plt.xlabel(feat, fontsize=15)\n",
    "\n",
    "    ax.xaxis.set_tick_params(labelsize=12)\n",
    "    ax.yaxis.set_tick_params(labelsize=12)\n",
    "    xmin, xmax, ymin, ymax = plt.axis()\n",
    "    plt.ylim([ymin, ymax])\n",
    "    plt.legend(fontsize=15)\n",
    "    plt.savefig(\"../images/{}_feature_impact_{}.eps\".format(PREFIX, feat), format=\"eps\")\n",
    "\n",
    "    plt.show()\n",
    "    plt.clf()"
   ]
  },
  {
   "cell_type": "code",
   "execution_count": null,
   "metadata": {},
   "outputs": [],
   "source": [
    "for i, feat in enumerate(features):\n",
    "    if feat in columns_to_label_encode:\n",
    "        print(feat)\n",
    "        try:\n",
    "            mapping = encoder_mappings[feat]\n",
    "            max_cat = np.max(list(mapping.keys()))\n",
    "            if max_cat > 100:\n",
    "                continue\n",
    "            XX = np.copy(X_test)\n",
    "            XX[:, i] = np.random.randint(0, max_cat, size=X_test.shape[0])\n",
    "            pdep, confi = gam_challenger.partial_dependence(i, X=XX, width=.95)\n",
    "            fig, ax = plt.subplots(figsize=(10, 5), dpi=150)\n",
    "            data = pd.DataFrame(np.hstack([XX[:, i].reshape(-1, 1), pdep.reshape(-1, 1), confi]),\n",
    "                                columns=[feat, \"Mean Impact\", \"low\", \"high\"])\n",
    "            data[\"low\"] = np.abs(data[\"low\"] - data[\"Mean Impact\"])\n",
    "            data[\"high\"] = np.abs(data[\"high\"] - data[\"Mean Impact\"])\n",
    "            agg = data.groupby(feat).mean()\n",
    "\n",
    "            impact_plot = plt.bar([i for i in range(len(agg))],\n",
    "                                  agg[\"Mean Impact\"],\n",
    "                                  yerr=agg[[\"low\", \"high\"]].values.transpose(),\n",
    "                                  color=\"#9370DB\",\n",
    "                                  capsize=7)\n",
    "\n",
    "            plt.title(feat, fontsize=15)\n",
    "            plt.xticks([i for i in range(len(list(mapping.keys())))])\n",
    "            ax.set_xticklabels(list(mapping.values()), rotation=90)\n",
    "            plt.hlines(0.0, -1, max_cat, linestyles=\"dashed\")\n",
    "            plt.ylabel(\"Score\", fontsize=15)\n",
    "\n",
    "            ax.xaxis.set_tick_params(labelsize=12)\n",
    "            ax.yaxis.set_tick_params(labelsize=12)\n",
    "            xmin, xmax, ymin, ymax = plt.axis()\n",
    "            plt.ylim([ymin, ymax])\n",
    "            plt.legend(fontsize=15)\n",
    "            plt.savefig(\"../images/{}_feature_impact_cat_{}.eps\".format(PREFIX, feat), format=\"eps\")\n",
    "\n",
    "            plt.show()\n",
    "            plt.clf()\n",
    "        except:\n",
    "            print(\"No plot for {}\".format(feat))\n",
    "plt.show()"
   ]
  },
  {
   "cell_type": "code",
   "execution_count": null,
   "metadata": {},
   "outputs": [],
   "source": [
    "for i, feat in enumerate(features):\n",
    "    if feat in columns_to_label_encode:\n",
    "        print(feat)\n",
    "        mapping = encoder_mappings[feat]\n",
    "        max_cat = np.max(list(mapping.keys()))\n",
    "        if max_cat > 100:\n",
    "            continue\n",
    "        XX = np.copy(X_test)\n",
    "        XX[:, i] = np.random.randint(0, max_cat, size=X_test.shape[0])\n",
    "        ### Challenger\n",
    "        pdep, confi = gam_challenger.partial_dependence(i, X=XX, width=.95)\n",
    "        fig, ax = plt.subplots(figsize=(10, 5), dpi=150)\n",
    "        data = pd.DataFrame(np.hstack([XX[:, i].reshape(-1, 1), pdep.reshape(-1, 1), confi]),\n",
    "                            columns=[feat, \"Mean Impact\", \"low\", \"high\"])\n",
    "        data[\"low\"] = np.abs(data[\"low\"] - data[\"Mean Impact\"])\n",
    "        data[\"high\"] = np.abs(data[\"high\"] - data[\"Mean Impact\"])\n",
    "        data[\"model\"] = \"TRF\"\n",
    "        agg = data.groupby(feat).mean()\n",
    "\n",
    "\n",
    "        ### Benchmark\n",
    "        pdep, confi = gam_benchmark.partial_dependence(i, X=XX, width=.95)\n",
    "        data_benchmark = pd.DataFrame(np.hstack([XX[:, i].reshape(-1, 1), pdep.reshape(-1, 1), confi]),\n",
    "                            columns=[feat, \"Mean Impact\", \"low\", \"high\"])\n",
    "        data_benchmark[\"low\"] = np.abs(data_benchmark[\"low\"] - data_benchmark[\"Mean Impact\"])\n",
    "        data_benchmark[\"high\"] = np.abs(data_benchmark[\"high\"] - data_benchmark[\"Mean Impact\"])\n",
    "        data_benchmark[\"model\"] = \"RF\"\n",
    "        \n",
    "        data = pd.concat([data, data_benchmark])\n",
    "        agg = data.groupby(feat).mean()\n",
    "        \n",
    "        sns.barplot(data=data, x=feat, y=\"Mean Impact\", hue=\"model\")\n",
    "\n",
    "\n",
    "        plt.xticks([i for i in range(len(list(mapping.keys())))])\n",
    "        ax.set_xticklabels(list(mapping.values()), rotation=90)\n",
    "        plt.hlines(0.0, -1, max_cat, linestyles=\"dashed\")\n",
    "        plt.ylabel(\"Score\", fontsize=15)\n",
    "        \n",
    "        ax.xaxis.set_tick_params(labelsize=12)\n",
    "        ax.yaxis.set_tick_params(labelsize=12)\n",
    "        xmin, xmax, ymin, ymax = plt.axis()\n",
    "        plt.ylim([ymin, ymax])\n",
    "        plt.legend(fontsize=15)\n",
    "        plt.xlabel(feat, fontsize=15)\n",
    "        plt.savefig(\"../images/{}_feature_impact_cat_comparison_{}.eps\".format(PREFIX, feat), format=\"eps\")\n",
    "        \n",
    "        plt.show()\n",
    "        plt.clf()"
   ]
  },
  {
   "cell_type": "markdown",
   "metadata": {},
   "source": [
    "## Minimum samples by period effect"
   ]
  },
  {
   "cell_type": "code",
   "execution_count": null,
   "metadata": {},
   "outputs": [],
   "source": [
    "target = TARGET\n",
    "min_sample_periods_values = [1, 5, 10, 20, 50, 100, 250, 500]"
   ]
  },
  {
   "cell_type": "code",
   "execution_count": null,
   "metadata": {},
   "outputs": [],
   "source": [
    "min_sample_knob = {}\n",
    "min_sample_knob[\"challenger\"] = {\"unseen_performance\": [], \"train_performance\": [],\n",
    "                                \"test_performance\": [], \"unseen_performance_by_period\": []}\n",
    "unseen_performance = []\n",
    "train_performance = []\n",
    "test_performance = []\n",
    "unseen_performance_by_period = []\n",
    "\n",
    "for min_sample_periods in min_sample_periods_values:\n",
    "    model_split_time = TimeForestClassifier(time_column=TIME_COLUMN,\n",
    "                                        n_estimators=CHALLENGER_N_ESTIMATORS,\n",
    "                                        min_sample_periods=min_sample_periods,\n",
    "                                        max_depth=CHALLENGER_MAX_DEPTH,\n",
    "                                        multi=True)\n",
    "    \n",
    "    model_split_time.fit(train[features + [TIME_COLUMN]], train[target])\n",
    "    out_of_time[\"time_split_prediction\"] = model_split_time.predict_proba(out_of_time[features])[:, 1]\n",
    "    \n",
    "    performance = metrics.roc_auc_score(out_of_time[target], out_of_time[\"time_split_prediction\"])\n",
    "    min_sample_knob[\"challenger\"][\"unseen_performance\"].append(performance)\n",
    "    min_sample_knob[\"challenger\"][\"unseen_performance_by_period\"].append(out_of_time.groupby(TIME_COLUMN).apply(lambda x: roc_auc_score(x[target], x[\"time_split_prediction\"])))\n",
    "\n",
    "    train[\"time_split_prediction\"] = model_split_time.predict(train[features])\n",
    "    min_sample_knob[\"challenger\"][\"train_performance\"].append(metrics.roc_auc_score(train[target], train[\"time_split_prediction\"]))\n",
    "    \n",
    "    test[\"time_split_prediction\"] = model_split_time.predict(test[features])\n",
    "    min_sample_knob[\"challenger\"][\"test_performance\"].append(metrics.roc_auc_score(test[target], test[\"time_split_prediction\"]))"
   ]
  },
  {
   "cell_type": "code",
   "execution_count": null,
   "metadata": {},
   "outputs": [],
   "source": [
    "fig, ax = plt.subplots()\n",
    "plt.plot(min_sample_periods_values, min_sample_knob[\"challenger\"][\"train_performance\"], label=\"Train\")\n",
    "plt.plot(min_sample_periods_values, min_sample_knob[\"challenger\"][\"test_performance\"], label=\"Test\", \n",
    "         color=\"magenta\",\n",
    "         linestyle=\"dotted\")\n",
    "plt.plot(min_sample_periods_values, min_sample_knob[\"challenger\"][\"unseen_performance\"], label=\"Holdout\", \n",
    "                                                         linestyle=\"dashed\",\n",
    "                                                         color=\"green\")\n",
    "\n",
    "#plt.title(\"Holdout AUC by minimum examples by period parameter\", fontsize=15)\n",
    "ax.xaxis.set_tick_params(labelsize=12)\n",
    "ax.yaxis.set_tick_params(labelsize=12)\n",
    "xmin, xmax, ymin, ymax = plt.axis()\n",
    "plt.ylim([ymin, ymax])\n",
    "plt.legend(fontsize=15)\n",
    "plt.ylabel(\"AUC\", fontsize=15)\n",
    "plt.xlabel(\"Minimum examples by period\", fontsize=15)\n",
    "plt.savefig(\"../images/{}_test_min_example_by_period_train_and_holdout_whole.eps\".format(PREFIX), format=\"eps\")\n",
    "plt.show()"
   ]
  },
  {
   "cell_type": "code",
   "execution_count": null,
   "metadata": {},
   "outputs": [],
   "source": [
    "fig, ax = plt.subplots()\n",
    "\n",
    "greens = plt.get_cmap(\"Greens\")\n",
    "gradient = np.linspace(.1, 0.9, len(min_sample_periods_values))\n",
    "for i, experiment in enumerate(min_sample_knob[\"challenger\"][\"unseen_performance_by_period\"]):\n",
    "    experiment.plot(label=min_sample_periods_values[i], color=greens(gradient[i]))\n",
    "\n",
    "out_of_time.groupby(TIME_COLUMN).apply(lambda x: roc_auc_score(x[target], x[\"benchmark_prediction_opt\"])).plot(label=\"Optimal RF benchmark\", \n",
    "                                                                                                 color=\"red\", linestyle=\"dashed\", ax=ax)\n",
    "ax.xaxis.set_tick_params(labelsize=12)\n",
    "ax.yaxis.set_tick_params(labelsize=12)\n",
    "plt.legend(bbox_to_anchor=(1.05, 1.0), fontsize=12, title=\"Minimum examples by period\")\n",
    "plt.ylabel(\"AUC\", fontsize=15)\n",
    "plt.xlabel(\"Year\", fontsize=15)\n",
    "\n",
    "x_labels = np.sort(out_of_time[TIME_COLUMN].unique())\n",
    "#plt.xticks(x_labels)\n",
    "\n",
    "plt.savefig(\"../images/{}_holdout_dif_min_samples.eps\".format(PREFIX), format=\"eps\", bbox_inches = \"tight\")\n",
    "plt.show()"
   ]
  },
  {
   "cell_type": "code",
   "execution_count": null,
   "metadata": {},
   "outputs": [],
   "source": [
    "min_sample_knob[\"benchmark\"] = {\"unseen_performance\": [], \"train_performance\": [],\n",
    "                                \"test_performance\": [], \"unseen_performance_by_period\": []}\n",
    "\n",
    "training_segments = train[TIME_COLUMN].nunique()\n",
    "for min_sample_periods in min_sample_periods_values:\n",
    "\n",
    "    model = tuned_rf\n",
    "    model.set_params(min_samples_leaf=training_segments * min_sample_periods)\n",
    "    \n",
    "    \n",
    "    model.fit(train[features],\n",
    "              train[TARGET])\n",
    "     \n",
    "    out_of_time[\"time_split_prediction\"] = model.predict_proba(out_of_time[features])[:, 1]\n",
    "    \n",
    "    performance = metrics.roc_auc_score(out_of_time[target], out_of_time[\"time_split_prediction\"])\n",
    "    min_sample_knob[\"benchmark\"][\"unseen_performance\"].append(performance)\n",
    "    min_sample_knob[\"benchmark\"][\"unseen_performance_by_period\"].append(out_of_time.groupby(TIME_COLUMN).apply(lambda x: roc_auc_score(x[target], x[\"time_split_prediction\"])))\n",
    "\n",
    "    train[\"time_split_prediction\"] = model.predict(train[features])\n",
    "    min_sample_knob[\"benchmark\"][\"train_performance\"].append(metrics.roc_auc_score(train[target], train[\"time_split_prediction\"]))\n",
    "    \n",
    "    test[\"time_split_prediction\"] = model.predict(test[features])\n",
    "    min_sample_knob[\"benchmark\"][\"test_performance\"].append(metrics.roc_auc_score(test[target], test[\"time_split_prediction\"]))"
   ]
  },
  {
   "cell_type": "code",
   "execution_count": null,
   "metadata": {},
   "outputs": [],
   "source": [
    "fig, ax = plt.subplots()\n",
    "\n",
    "blues = plt.get_cmap(\"Blues\")\n",
    "for i, experiment in enumerate(min_sample_knob[\"benchmark\"][\"unseen_performance_by_period\"]):\n",
    "    experiment.plot(label=min_sample_periods_values[i], color=blues(gradient[i]))\n",
    "\n",
    "out_of_time.groupby(TIME_COLUMN).apply(lambda x: roc_auc_score(x[target], x[\"benchmark_prediction_opt\"])).plot(label=\"Optimal RF benchmark\", \n",
    "                                                                                                 color=\"red\", linestyle=\"dashed\", ax=ax)\n",
    "\n",
    "ax.xaxis.set_tick_params(labelsize=12)\n",
    "ax.yaxis.set_tick_params(labelsize=12)\n",
    "plt.legend(bbox_to_anchor=(1.05, 1.0), fontsize=12, title=\"Minimum examples by period\")\n",
    "plt.ylabel(\"AUC\", fontsize=15)\n",
    "plt.xlabel(\"Year\", fontsize=15)\n",
    "\n",
    "x_labels = np.sort(out_of_time[TIME_COLUMN].unique())\n",
    "#plt.xticks(x_labels)\n",
    "\n",
    "plt.savefig(\"../images/{}_holdout_dif_min_samples_benchmark.eps\".format(PREFIX), format=\"eps\", bbox_inches = \"tight\")\n",
    "plt.show()"
   ]
  },
  {
   "cell_type": "code",
   "execution_count": null,
   "metadata": {},
   "outputs": [],
   "source": [
    "fig, ax = plt.subplots()\n",
    "for i, experiment in enumerate(min_sample_knob[\"challenger\"][\"unseen_performance_by_period\"]):\n",
    "    experiment.plot(label=min_sample_periods_values[i], color=greens(gradient[i]))\n",
    "    \n",
    "for i, experiment in enumerate(min_sample_knob[\"benchmark\"][\"unseen_performance_by_period\"]):\n",
    "    experiment.plot(label=min_sample_periods_values[i], color=blues(gradient[i]))    \n",
    "\n",
    "ax.xaxis.set_tick_params(labelsize=12)\n",
    "ax.yaxis.set_tick_params(labelsize=12)\n",
    "plt.legend(bbox_to_anchor=(1.05, 1.0), fontsize=12, title=\"Minimum examples by period\")\n",
    "plt.ylabel(\"AUC\", fontsize=15)\n",
    "plt.xlabel(\"Year\", fontsize=15)\n",
    "\n",
    "x_labels = np.sort(out_of_time[TIME_COLUMN].unique())\n",
    "#plt.xticks(x_labels)\n",
    "\n",
    "plt.savefig(\"../images/{}_holdout_dif_min_samples_benchmark_challenger.eps\".format(PREFIX), format=\"eps\", bbox_inches = \"tight\")\n",
    "plt.show()"
   ]
  },
  {
   "cell_type": "code",
   "execution_count": null,
   "metadata": {},
   "outputs": [],
   "source": [
    "fig, ax = plt.subplots()\n",
    "plt.plot(min_sample_periods_values, min_sample_knob[\"challenger\"][\"train_performance\"], label=\"TRF Train\",\n",
    "        color=\"#4c72b0\", linestyle=\"dashed\")\n",
    "plt.plot(min_sample_periods_values, min_sample_knob[\"challenger\"][\"test_performance\"], label=\"TRF Test\", \n",
    "         color=\"magenta\",\n",
    "         linestyle=\"dashed\")\n",
    "plt.plot(min_sample_periods_values, min_sample_knob[\"challenger\"][\"unseen_performance\"], label=\"TRF Holdout\", \n",
    "                                                         linestyle=\"dashed\",\n",
    "                                                         color=\"green\")\n",
    "\n",
    "plt.plot(min_sample_periods_values, min_sample_knob[\"benchmark\"][\"train_performance\"], label=\"RF Train\",\n",
    "        color=\"#4c72b0\")\n",
    "plt.plot(min_sample_periods_values, min_sample_knob[\"benchmark\"][\"test_performance\"], label=\"RF Test\", \n",
    "         color=\"magenta\")\n",
    "plt.plot(min_sample_periods_values, min_sample_knob[\"benchmark\"][\"unseen_performance\"], label=\"RF Holdout\", \n",
    "                                                         color=\"green\")\n",
    "\n",
    "#plt.title(\"Holdout AUC by minimum examples by period parameter\", fontsize=15)\n",
    "ax.xaxis.set_tick_params(labelsize=12)\n",
    "ax.yaxis.set_tick_params(labelsize=12)\n",
    "xmin, xmax, ymin, ymax = plt.axis()\n",
    "plt.ylim([ymin, ymax])\n",
    "plt.legend(fontsize=15)\n",
    "plt.ylabel(\"AUC\", fontsize=15)\n",
    "plt.xlabel(\"Minimum examples by period\", fontsize=15)\n",
    "plt.savefig(\"../images/{}_test_min_example_by_period_train_and_holdout_whole_bench_challenger.eps\".format(PREFIX), format=\"eps\")\n",
    "plt.show()"
   ]
  },
  {
   "cell_type": "code",
   "execution_count": null,
   "metadata": {},
   "outputs": [],
   "source": [
    "fig, ax = plt.subplots()\n",
    "\n",
    "plt.plot(min_sample_periods_values, min_sample_knob[\"challenger\"][\"unseen_performance\"], label=\"TRF Holdout\", \n",
    "                                                         linestyle=\"dashed\",\n",
    "                                                         color=\"green\")\n",
    "\n",
    "plt.plot(min_sample_periods_values, min_sample_knob[\"benchmark\"][\"unseen_performance\"], label=\"RF Holdout\", \n",
    "                                                         color=\"green\")\n",
    "\n",
    "#plt.title(\"Holdout AUC by minimum examples by period parameter\", fontsize=15)\n",
    "ax.xaxis.set_tick_params(labelsize=12)\n",
    "ax.yaxis.set_tick_params(labelsize=12)\n",
    "xmin, xmax, ymin, ymax = plt.axis()\n",
    "plt.ylim([ymin, ymax])\n",
    "plt.legend(fontsize=15)\n",
    "plt.ylabel(\"AUC\", fontsize=15)\n",
    "plt.xlabel(\"Minimum examples by period\", fontsize=15)\n",
    "plt.savefig(\"../images/{}_holdout_min_example_by_period_train_and_holdout_whole_bench_challenger.eps\".format(PREFIX), format=\"eps\")\n",
    "plt.show()"
   ]
  },
  {
   "cell_type": "markdown",
   "metadata": {},
   "source": [
    "## Domain classifier"
   ]
  },
  {
   "cell_type": "code",
   "execution_count": null,
   "metadata": {
    "ExecuteTime": {
     "end_time": "2021-04-02T22:07:53.853460Z",
     "start_time": "2021-04-02T22:07:51.540803Z"
    }
   },
   "outputs": [],
   "source": [
    "train[\"domain\"] = 1\n",
    "test[\"domain\"] = 1\n",
    "out_of_time[\"domain\"] = 0"
   ]
  },
  {
   "cell_type": "code",
   "execution_count": null,
   "metadata": {
    "ExecuteTime": {
     "end_time": "2021-04-02T22:08:07.073605Z",
     "start_time": "2021-04-02T22:07:59.614541Z"
    }
   },
   "outputs": [],
   "source": [
    "domain_data = pd.concat([train, test, out_of_time])"
   ]
  },
  {
   "cell_type": "code",
   "execution_count": null,
   "metadata": {
    "ExecuteTime": {
     "end_time": "2021-04-02T22:08:24.870133Z",
     "start_time": "2021-04-02T22:08:15.972350Z"
    }
   },
   "outputs": [],
   "source": [
    "train_domain, test_domain = train_test_split(domain_data, \n",
    "                               test_size=0.2,\n",
    "                               random_state=42)"
   ]
  },
  {
   "cell_type": "code",
   "execution_count": null,
   "metadata": {
    "ExecuteTime": {
     "end_time": "2021-04-02T22:37:20.824417Z",
     "start_time": "2021-04-02T22:09:11.137931Z"
    }
   },
   "outputs": [],
   "source": [
    "clf2 = setup(train_domain[features + [\"domain\"]], target=\"domain\",\n",
    "             session_id=124, \n",
    "             log_experiment=False, \n",
    "             experiment_name=\"{}_domain\".format(PREFIX),\n",
    "             silent=True)\n",
    "\n",
    "rf = create_model('rf')\n",
    "tuned_domain_rf = tune_model(rf,\n",
    "                             optimize=\"AUC\",\n",
    "                             fold=5,\n",
    "                             n_iter=50)"
   ]
  },
  {
   "cell_type": "code",
   "execution_count": null,
   "metadata": {
    "ExecuteTime": {
     "end_time": "2021-04-02T22:37:20.843589Z",
     "start_time": "2021-04-02T22:37:20.836135Z"
    }
   },
   "outputs": [],
   "source": [
    "domain_model = tuned_domain_rf"
   ]
  },
  {
   "cell_type": "code",
   "execution_count": null,
   "metadata": {
    "ExecuteTime": {
     "end_time": "2021-04-02T22:38:45.077018Z",
     "start_time": "2021-04-02T22:37:20.855449Z"
    }
   },
   "outputs": [],
   "source": [
    "domain_model.fit(train_domain[features], train_domain[\"domain\"])"
   ]
  },
  {
   "cell_type": "code",
   "execution_count": null,
   "metadata": {
    "ExecuteTime": {
     "end_time": "2021-04-02T22:38:45.314167Z",
     "start_time": "2021-04-02T22:38:45.082144Z"
    }
   },
   "outputs": [],
   "source": [
    "test_domain[\"pred_domain\"] = domain_model.predict_proba(test_domain[features])[:, 1]"
   ]
  },
  {
   "cell_type": "code",
   "execution_count": null,
   "metadata": {
    "ExecuteTime": {
     "end_time": "2021-04-02T22:38:45.346608Z",
     "start_time": "2021-04-02T22:38:45.318204Z"
    }
   },
   "outputs": [],
   "source": [
    "roc_auc_score(test_domain[\"domain\"], test_domain[\"pred_domain\"])"
   ]
  },
  {
   "cell_type": "markdown",
   "metadata": {},
   "source": [
    "## Other optimization design for the RF"
   ]
  },
  {
   "cell_type": "code",
   "execution_count": null,
   "metadata": {},
   "outputs": [],
   "source": [
    "last_time_segment_in_train = np.max(in_time[TIME_COLUMN].unique())\n",
    "last_time_segment_in_train"
   ]
  },
  {
   "cell_type": "code",
   "execution_count": null,
   "metadata": {},
   "outputs": [],
   "source": [
    "posfix = str(last_time_segment_in_train)"
   ]
  },
  {
   "cell_type": "code",
   "execution_count": null,
   "metadata": {},
   "outputs": [],
   "source": [
    "new_train = in_time[in_time[TIME_COLUMN] < last_time_segment_in_train]\n",
    "new_validation = in_time[in_time[TIME_COLUMN] == last_time_segment_in_train]"
   ]
  },
  {
   "cell_type": "code",
   "execution_count": null,
   "metadata": {},
   "outputs": [],
   "source": [
    "clf1 = setup(new_train[features + [TARGET]], target=TARGET,\n",
    "             test_data=new_validation,\n",
    "             session_id=44,\n",
    "             log_experiment=False,\n",
    "             experiment_name=\"{}_opt1\".format(PREFIX),\n",
    "             silent=True)\n",
    "\n",
    "rf = create_model('rf')\n",
    "tuned_rf = tune_model(rf,\n",
    "                     optimize=\"AUC\",\n",
    "                     n_iter=50)"
   ]
  },
  {
   "cell_type": "code",
   "execution_count": null,
   "metadata": {},
   "outputs": [],
   "source": [
    "tuned_rf"
   ]
  },
  {
   "cell_type": "code",
   "execution_count": null,
   "metadata": {},
   "outputs": [],
   "source": [
    "benchmark_model = tuned_rf\n",
    "benchmark_model.fit(train[features], train[TARGET])\n",
    "\n",
    "train[\"benchmark_prediction_opt_{}\".format(posfix)] = benchmark_model.predict_proba(train[features])[:, 1]\n",
    "test[\"benchmark_prediction_opt_{}\".format(posfix)] = benchmark_model.predict_proba(test[features])[:, 1]\n",
    "out_of_time[\"benchmark_prediction_opt_{}\".format(posfix)] = benchmark_model.predict_proba(out_of_time[features])[:, 1]"
   ]
  },
  {
   "cell_type": "code",
   "execution_count": null,
   "metadata": {},
   "outputs": [],
   "source": [
    "new_validation, add_to_train = train_test_split(new_validation, test_size=0.5)\n",
    "\n",
    "new_train = pd.concat([new_train, add_to_train])"
   ]
  },
  {
   "cell_type": "code",
   "execution_count": null,
   "metadata": {},
   "outputs": [],
   "source": [
    "clf1 = setup(new_train[features + [TARGET]], target=TARGET,\n",
    "             test_data=new_validation,\n",
    "             session_id=22,\n",
    "             log_experiment=False,\n",
    "             experiment_name=\"{}_opt2\".format(PREFIX),\n",
    "             silent=True)\n",
    "\n",
    "rf = create_model('rf')\n",
    "tuned_rf = tune_model(rf,\n",
    "                     optimize=\"AUC\",\n",
    "                     n_iter=50)"
   ]
  },
  {
   "cell_type": "code",
   "execution_count": null,
   "metadata": {},
   "outputs": [],
   "source": [
    "benchmark_model = tuned_rf\n",
    "benchmark_model.fit(train[features], train[TARGET])\n",
    "\n",
    "train[\"benchmark_prediction_opt_half_{}\".format(posfix)] = benchmark_model.predict_proba(train[features])[:, 1]\n",
    "test[\"benchmark_prediction_opt_half_{}\".format(posfix)] = benchmark_model.predict_proba(test[features])[:, 1]\n",
    "out_of_time[\"benchmark_prediction_opt_half_{}\".format(posfix)] = benchmark_model.predict_proba(out_of_time[features])[:, 1]"
   ]
  },
  {
   "cell_type": "code",
   "execution_count": null,
   "metadata": {},
   "outputs": [],
   "source": [
    "fig, ax = plt.subplots()\n",
    "pd.concat([test, out_of_time]).groupby(TIME_COLUMN).apply(lambda x: roc_auc_score(x[TARGET], x[\"challenger_prediction\"])).plot(label=\"Time Robust Forest\", \n",
    "                                                                                                      linestyle=\"dashed\",\n",
    "                                                                                                      color=\"green\", ax=ax)\n",
    "\n",
    "pd.concat([test, out_of_time]).groupby(TIME_COLUMN).apply(lambda x: roc_auc_score(x[TARGET], x[\"benchmark_prediction_opt_half_{}\".format(posfix)])).plot(label=\"RF: Half {} in validation\".format(posfix), \n",
    "                                                                                                      #linestyle=\"dashed\",\n",
    "                                                                                                      color=\"purple\", ax=ax)\n",
    "pd.concat([test, out_of_time]).groupby(TIME_COLUMN).apply(lambda x: roc_auc_score(x[TARGET], x[\"benchmark_prediction_opt\"])).plot(label=\"RF: K-fold in the in-time\", ax=ax)\n",
    "pd.concat([test, out_of_time]).groupby(TIME_COLUMN).apply(lambda x: roc_auc_score(x[TARGET], x[\"benchmark_prediction_opt_{}\".format(posfix)])).plot(label=\"RF: Full {} in validation\".format(posfix), ax=ax)\n",
    "\n",
    "ax.xaxis.set_tick_params(labelsize=12)\n",
    "ax.yaxis.set_tick_params(labelsize=12)\n",
    "\n",
    "xmin, xmax, ymin, ymax = plt.axis()\n",
    "plt.vlines(12, ymin, ymax, linestyle=\"dotted\", color=\"red\", label=\"Holdout start\")\n",
    "plt.ylim([ymin, ymax])\n",
    "plt.legend(fontsize=10, bbox_to_anchor=(0.10, 1.0))\n",
    "plt.ylabel(\"AUC\", fontsize=15)\n",
    "plt.xlabel(\"Year\", fontsize=15)\n",
    "plt.savefig(\"../images/{}_performance_proof.eps\".format(PREFIX), format=\"eps\", bbox_inches = \"tight\")\n",
    "plt.show()\n"
   ]
  },
  {
   "cell_type": "code",
   "execution_count": null,
   "metadata": {},
   "outputs": [],
   "source": []
  }
 ],
 "metadata": {
  "hide_input": false,
  "kernelspec": {
   "display_name": "Python [conda env:.conda-msc]",
   "language": "python",
   "name": "conda-env-.conda-msc-py"
  },
  "language_info": {
   "codemirror_mode": {
    "name": "ipython",
    "version": 3
   },
   "file_extension": ".py",
   "mimetype": "text/x-python",
   "name": "python",
   "nbconvert_exporter": "python",
   "pygments_lexer": "ipython3",
   "version": "3.6.3"
  },
  "toc": {
   "base_numbering": 1,
   "nav_menu": {},
   "number_sections": true,
   "sideBar": true,
   "skip_h1_title": true,
   "title_cell": "Index",
   "title_sidebar": "Contents",
   "toc_cell": true,
   "toc_position": {},
   "toc_section_display": true,
   "toc_window_display": false
  }
 },
 "nbformat": 4,
 "nbformat_minor": 5
}
