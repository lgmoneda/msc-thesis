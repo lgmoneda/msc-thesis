{
 "cells": [
  {
   "cell_type": "markdown",
   "metadata": {
    "toc": true
   },
   "source": [
    "<h1>Index<span class=\"tocSkip\"></span></h1>\n",
    "<div class=\"toc\"><ul class=\"toc-item\"><li><span><a href=\"#What-if-we-have-change-in-variance,-but-guarantee-same-support\" data-toc-modified-id=\"What-if-we-have-change-in-variance,-but-guarantee-same-support-1\"><span class=\"toc-item-num\">1&nbsp;&nbsp;</span>What if we have change in variance, but guarantee same support</a></span><ul class=\"toc-item\"><li><span><a href=\"#Building-a-curve\" data-toc-modified-id=\"Building-a-curve-1.1\"><span class=\"toc-item-num\">1.1&nbsp;&nbsp;</span>Building a curve</a></span></li></ul></li><li><span><a href=\"#Bootstrapping-with-different-proportions-from-t=1-and-t=2\" data-toc-modified-id=\"Bootstrapping-with-different-proportions-from-t=1-and-t=2-2\"><span class=\"toc-item-num\">2&nbsp;&nbsp;</span>Bootstrapping with different proportions from t=1 and t=2</a></span></li><li><span><a href=\"#What-if-X_2-doesn't-change-during-the-training-time?\" data-toc-modified-id=\"What-if-X_2-doesn't-change-during-the-training-time?-3\"><span class=\"toc-item-num\">3&nbsp;&nbsp;</span>What if X_2 doesn't change during the training time?</a></span></li></ul></div>"
   ]
  },
  {
   "cell_type": "markdown",
   "metadata": {},
   "source": [
    "# Motivating example"
   ]
  },
  {
   "cell_type": "code",
   "execution_count": 1,
   "metadata": {
    "ExecuteTime": {
     "end_time": "2021-08-10T12:03:09.256110Z",
     "start_time": "2021-08-10T12:03:05.101876Z"
    }
   },
   "outputs": [],
   "source": [
    "import pandas as pd\n",
    "import numpy as np\n",
    "import matplotlib.pyplot as plt\n",
    "import seaborn as sns\n",
    "\n",
    "from sklearn import metrics\n",
    "from sklearn.model_selection import train_test_split\n",
    "from sklearn.metrics import mean_squared_error\n",
    "from models.time_robust_forest import RandomTimeSplitTree\n",
    "from time_robust_forest.models import TimeForestClassifier, TimeForestRegressor\n",
    "from sklearn.preprocessing import MinMaxScaler, StandardScaler\n",
    "from models.decision_tree import DecisionTree\n",
    "\n",
    "pd.set_option('mode.chained_assignment', None)"
   ]
  },
  {
   "cell_type": "code",
   "execution_count": 2,
   "metadata": {
    "ExecuteTime": {
     "end_time": "2021-08-10T12:03:09.294692Z",
     "start_time": "2021-08-10T12:03:09.263705Z"
    }
   },
   "outputs": [],
   "source": [
    "def set_style():\n",
    "    plt.style.use(['seaborn-white', 'seaborn-paper'])\n",
    "    plt.rcParams['figure.figsize'] = (12, 4)"
   ]
  },
  {
   "cell_type": "code",
   "execution_count": 3,
   "metadata": {
    "ExecuteTime": {
     "end_time": "2021-08-10T12:03:09.342620Z",
     "start_time": "2021-08-10T12:03:09.336461Z"
    }
   },
   "outputs": [],
   "source": [
    "set_style()"
   ]
  },
  {
   "cell_type": "markdown",
   "metadata": {},
   "source": [
    "# Data"
   ]
  },
  {
   "cell_type": "code",
   "execution_count": 4,
   "metadata": {
    "ExecuteTime": {
     "end_time": "2021-08-10T12:03:09.356227Z",
     "start_time": "2021-08-10T12:03:09.349797Z"
    }
   },
   "outputs": [],
   "source": [
    "np.random.seed(18)\n",
    "POPULATION = 20000\n",
    "features = [\"x_1\", \"x_2\"]\n",
    "environment = \"period\"\n",
    "target = \"y\""
   ]
  },
  {
   "cell_type": "code",
   "execution_count": 5,
   "metadata": {
    "ExecuteTime": {
     "end_time": "2021-08-10T12:03:11.573751Z",
     "start_time": "2021-08-10T12:03:09.361694Z"
    }
   },
   "outputs": [],
   "source": [
    "periods = [0.1, 1]\n",
    "data = pd.DataFrame()\n",
    "data[\"period\"] = np.concatenate([int(POPULATION/2) * [period] for period in periods],\n",
    "                               axis=0)\n",
    "data[\"x_1\"] = data.apply(lambda x: np.random.normal(0, 1), axis=1)\n",
    "data[\"y\"] = data.apply(lambda x: 1 * x[\"x_1\"] + np.random.normal(0, 1) * x[\"period\"], axis=1)\n",
    "\n",
    "x_2_period_function = {\"0.1\": data[data[\"period\"] == 0.1][\"y\"].values + np.random.normal(0, 1, size=int(POPULATION/2)),\n",
    "                       \"1\": np.random.normal(0, 1, size=int(POPULATION/2))}\n",
    "\n",
    "for period in periods:\n",
    "    data.loc[data[\"period\"] == period, \"x_2\"] = x_2_period_function[str(period)]\n",
    "\n",
    "for period in periods:\n",
    "    mm = MinMaxScaler()\n",
    "    data.loc[data[\"period\"] == period, \"x_2\"] = mm.fit_transform(data[data[\"period\"] == period][[\"x_2\"]])[:, 0]"
   ]
  },
  {
   "cell_type": "code",
   "execution_count": 6,
   "metadata": {
    "ExecuteTime": {
     "end_time": "2021-08-10T12:03:11.617266Z",
     "start_time": "2021-08-10T12:03:11.586733Z"
    }
   },
   "outputs": [
    {
     "data": {
      "text/plain": [
       "period\n",
       "0.1    0.498920\n",
       "1.0    0.553583\n",
       "Name: x_2, dtype: float64"
      ]
     },
     "execution_count": 6,
     "metadata": {},
     "output_type": "execute_result"
    }
   ],
   "source": [
    "data.groupby(\"period\")[\"x_2\"].mean()"
   ]
  },
  {
   "cell_type": "code",
   "execution_count": 7,
   "metadata": {
    "ExecuteTime": {
     "end_time": "2021-08-10T12:03:17.032614Z",
     "start_time": "2021-08-10T12:03:11.622180Z"
    }
   },
   "outputs": [],
   "source": [
    "periods = [0.05, 0.02, 0.5, 1.2]\n",
    "unseen_environments = periods\n",
    "unseen_data = pd.DataFrame()\n",
    "unseen_data[\"period\"] = np.concatenate([int(POPULATION/2) * [period] for period in periods],\n",
    "                               axis=0)\n",
    "unseen_data[\"x_1\"] = unseen_data.apply(lambda x: np.random.normal(0, 1) * x[\"period\"], axis=1)\n",
    "unseen_data[\"y\"] = unseen_data.apply(lambda x: 1 * x[\"x_1\"] + np.random.normal(0, 1) * x[\"period\"], axis=1)\n",
    "unseen_data[\"x_2\"] = unseen_data.apply(lambda x: np.random.normal(0, 1), axis=1)"
   ]
  },
  {
   "cell_type": "code",
   "execution_count": 8,
   "metadata": {
    "ExecuteTime": {
     "end_time": "2021-08-10T12:03:19.330961Z",
     "start_time": "2021-08-10T12:03:17.050505Z"
    }
   },
   "outputs": [
    {
     "data": {
      "text/plain": [
       "<AxesSubplot:xlabel='x_1', ylabel='Count'>"
      ]
     },
     "execution_count": 8,
     "metadata": {},
     "output_type": "execute_result"
    },
    {
     "data": {
      "image/png": "[encoded data removed]",
      "text/plain": [
       "<Figure size 864x288 with 1 Axes>"
      ]
     },
     "metadata": {},
     "output_type": "display_data"
    }
   ],
   "source": [
    "sns.histplot(data=data, x=\"x_1\", hue=\"period\")"
   ]
  },
  {
   "cell_type": "code",
   "execution_count": 9,
   "metadata": {
    "ExecuteTime": {
     "end_time": "2021-08-10T12:03:20.644037Z",
     "start_time": "2021-08-10T12:03:19.348653Z"
    }
   },
   "outputs": [
    {
     "data": {
      "text/plain": [
       "<AxesSubplot:xlabel='x_2', ylabel='Count'>"
      ]
     },
     "execution_count": 9,
     "metadata": {},
     "output_type": "execute_result"
    },
    {
     "data": {
      "image/png": "[encoded data removed]",
      "text/plain": [
       "<Figure size 864x288 with 1 Axes>"
      ]
     },
     "metadata": {},
     "output_type": "display_data"
    }
   ],
   "source": [
    "sns.histplot(data=data, x=\"x_2\", hue=\"period\")"
   ]
  },
  {
   "cell_type": "code",
   "execution_count": 10,
   "metadata": {
    "ExecuteTime": {
     "end_time": "2021-08-10T12:03:20.690827Z",
     "start_time": "2021-08-10T12:03:20.648044Z"
    }
   },
   "outputs": [
    {
     "name": "stdout",
     "output_type": "stream",
     "text": [
      "(10000, 3)\n",
      "(10000, 3)\n",
      "(40000, 3)\n",
      "(10000,)\n",
      "(10000,)\n",
      "(40000,)\n"
     ]
    }
   ],
   "source": [
    "X_train, X_test, y_train, y_test = train_test_split(data[features + [environment]], \n",
    "                                                    data[target],\n",
    "                                                    test_size=0.5,\n",
    "                                                    stratify=data[environment],\n",
    "                                                    random_state=42)\n",
    "\n",
    "X_unseen = unseen_data[features + [environment]].values\n",
    "y_unseen = unseen_data[target]\n",
    "\n",
    "X = X_train[[\"x_1\", \"x_2\", \"period\"]].values\n",
    "X_test = X_test.values\n",
    "y = y_train.values\n",
    "\n",
    "print(X_train.shape)\n",
    "print(X_test.shape)\n",
    "print(X_unseen.shape)\n",
    "print(y_train.shape)\n",
    "print(y_test.shape)\n",
    "print(y_unseen.shape)"
   ]
  },
  {
   "cell_type": "code",
   "execution_count": 11,
   "metadata": {
    "ExecuteTime": {
     "end_time": "2021-08-10T12:03:35.387833Z",
     "start_time": "2021-08-10T12:03:20.696484Z"
    }
   },
   "outputs": [],
   "source": [
    "time_tree_period_column = \"period\"\n",
    "\n",
    "model_challenger = RandomTimeSplitTree(X_train[features + [time_tree_period_column]].reset_index(drop=True),\n",
    "                                 y_train.values,\n",
    "                                 max_depth=30,\n",
    "                                 max_features=1.0,\n",
    "                                 bootstrapping=False,\n",
    "                                 time_column=time_tree_period_column,\n",
    "                                 min_sample_periods=100,\n",
    "                                 verbose=False)"
   ]
  },
  {
   "cell_type": "code",
   "execution_count": 12,
   "metadata": {
    "ExecuteTime": {
     "end_time": "2021-08-10T12:03:35.423877Z",
     "start_time": "2021-08-10T12:03:35.399378Z"
    }
   },
   "outputs": [
    {
     "data": {
      "text/plain": [
       "x_1    32\n",
       "x_2     2\n",
       "Name: Feature Importance, dtype: int64"
      ]
     },
     "execution_count": 12,
     "metadata": {},
     "output_type": "execute_result"
    }
   ],
   "source": [
    "model_challenger.feature_importance"
   ]
  },
  {
   "cell_type": "markdown",
   "metadata": {},
   "source": [
    "As we increase `min_sample_periods`, the algorithm picks only x_1, as it becomes less likely we can find invariant x_2 in the different periods with a higher volume of data. "
   ]
  },
  {
   "cell_type": "markdown",
   "metadata": {},
   "source": [
    "## What if we have change in variance, but guarantee same support"
   ]
  },
  {
   "cell_type": "code",
   "execution_count": 13,
   "metadata": {
    "ExecuteTime": {
     "end_time": "2021-08-10T12:03:35.430716Z",
     "start_time": "2021-08-10T12:03:35.426709Z"
    }
   },
   "outputs": [],
   "source": [
    "population_dict = {\"0.1\": int(POPULATION / 10),\n",
    "                   \"1\": 9 * int(POPULATION / 10)}"
   ]
  },
  {
   "cell_type": "code",
   "execution_count": 14,
   "metadata": {
    "ExecuteTime": {
     "end_time": "2021-08-10T12:03:35.438415Z",
     "start_time": "2021-08-10T12:03:35.434545Z"
    }
   },
   "outputs": [],
   "source": [
    "# periods = [0.1, 1]\n",
    "# data = pd.DataFrame()\n",
    "# data[\"period\"] = np.concatenate([population_dict[str(period)] * [period] for period in periods],\n",
    "#                                 axis=0)\n",
    "# data[\"x_1\"] = data.apply(lambda x: np.random.normal(0, 1) * x[\"period\"], axis=1)\n",
    "# data[\"y\"] = data.apply(lambda x: 1 * x[\"x_1\"] + np.random.normal(0, 1) * x[\"period\"], axis=1)\n",
    "\n",
    "# x_2_period_function = {\"0.1\": data[data[\"period\"] == 0.1][\"y\"].values + np.random.normal(0, 0.1, size=population_dict[\"0.1\"]),\n",
    "#                        \"1\": np.random.normal(0, 1, size=population_dict[\"1\"])}\n",
    "\n",
    "# x_2_period_function = {\"0.1\": data[data[\"period\"] == 0.1][\"y\"].values,\n",
    "#                        \"1\": np.random.normal(0, 1, size=population_dict[\"1\"])}\n",
    "\n",
    "# for period in periods:\n",
    "#     data.loc[data[\"period\"] == period, \"x_2\"] = x_2_period_function[str(period)]\n",
    "    \n",
    "# unseen_environments = [0.05, 0.02, 0.5, 1.2]\n",
    "# unseen_data = pd.DataFrame()\n",
    "# unseen_data[\"period\"] = np.concatenate([int(POPULATION/4) * [period] for period in unseen_environments],\n",
    "#                                axis=0)\n",
    "# unseen_data[\"x_1\"] = unseen_data.apply(lambda x: np.random.normal(0, 1) * x[\"period\"], axis=1)\n",
    "# unseen_data[\"y\"] = unseen_data.apply(lambda x: 1 * x[\"x_1\"] + np.random.normal(0, 1) * x[\"period\"], axis=1)\n",
    "# unseen_data[\"x_2\"] = unseen_data.apply(lambda x: np.random.normal(0, 1), axis=1)    "
   ]
  },
  {
   "cell_type": "code",
   "execution_count": 15,
   "metadata": {
    "ExecuteTime": {
     "end_time": "2021-08-10T12:03:38.040594Z",
     "start_time": "2021-08-10T12:03:35.441771Z"
    }
   },
   "outputs": [],
   "source": [
    "periods = [0.1, 1]\n",
    "data = pd.DataFrame()\n",
    "data[\"period\"] = np.concatenate([population_dict[str(period)] * [period] for period in periods],\n",
    "                                axis=0)\n",
    "data[\"x_1\"] = data.apply(lambda x: np.random.normal(0, 1), axis=1)\n",
    "data[\"y\"] = data.apply(lambda x: 1 * x[\"x_1\"] + np.random.normal(0, 1), axis=1)\n",
    "\n",
    "x_2_period_function = {\"0.1\": data[data[\"period\"] == 0.1][\"y\"].values + np.random.normal(0, 1, size=population_dict[\"0.1\"]),\n",
    "                       \"1\": np.random.normal(0, 1, size=population_dict[\"1\"])}\n",
    "\n",
    "x_2_period_function = {\"0.1\": data[data[\"period\"] == 0.1][\"y\"].values,\n",
    "                       \"1\": np.random.normal(0, 1, size=population_dict[\"1\"])}\n",
    "\n",
    "for period in periods:\n",
    "    data.loc[data[\"period\"] == period, \"x_2\"] = x_2_period_function[str(period)]\n",
    "    \n",
    "unseen_environments = [0.05, 0.02, 0.5, 1.2]\n",
    "unseen_data = pd.DataFrame()\n",
    "unseen_data[\"period\"] = np.concatenate([int(POPULATION/4) * [period] for period in unseen_environments],\n",
    "                               axis=0)\n",
    "unseen_data[\"x_1\"] = unseen_data.apply(lambda x: np.random.normal(0, 1), axis=1)\n",
    "unseen_data[\"y\"] = unseen_data.apply(lambda x: 1 * x[\"x_1\"] + np.random.normal(0, 1), axis=1)\n",
    "unseen_data[\"x_2\"] = unseen_data.apply(lambda x: np.random.normal(0, 1), axis=1)    "
   ]
  },
  {
   "cell_type": "code",
   "execution_count": 16,
   "metadata": {
    "ExecuteTime": {
     "end_time": "2021-08-10T12:03:38.075254Z",
     "start_time": "2021-08-10T12:03:38.045238Z"
    }
   },
   "outputs": [],
   "source": [
    "data[\"Period (environment)\"] = data[\"period\"].apply(lambda x: 1 if x == 0.1 else 2)"
   ]
  },
  {
   "cell_type": "code",
   "execution_count": 17,
   "metadata": {
    "ExecuteTime": {
     "end_time": "2021-08-10T12:03:38.093206Z",
     "start_time": "2021-08-10T12:03:38.078751Z"
    }
   },
   "outputs": [],
   "source": [
    "# fig, axs = plt.subplots(nrows=2, ncols=1, figsize=(8, 4))\n",
    "\n",
    "# sns.histplot(data=data, x=\"x_1\", hue=\"Period (environment)\", ax=axs[0], color=[\"blue\", \"green\"])\n",
    "# axs[0].set_xlabel(\"X_1\", fontsize=12)\n",
    "# axs[0].set_xlim([-3, 3])\n",
    "\n",
    "\n",
    "# sns.histplot(data=data, x=\"x_2\", hue=\"Period (environment)\", ax=axs[1])\n",
    "# axs[1].set_xlabel(\"X_2\", fontsize=12)\n",
    "# axs[1].set_xlim([-3, 3])\n",
    "\n",
    "# xmin, xmax, ymin, ymax = plt.axis()\n",
    "\n",
    "\n",
    "# plt.subplots_adjust(hspace=0.4)\n",
    "# fig.tight_layout(pad=2)\n",
    "# plt.legend(fontsize=18, bbox_to_anchor=(1.0, 1.0))\n",
    "\n",
    "# plt.savefig('../images/synthetic_support_problem.eps', format='eps')"
   ]
  },
  {
   "cell_type": "code",
   "execution_count": 18,
   "metadata": {
    "ExecuteTime": {
     "end_time": "2021-08-10T12:03:38.114806Z",
     "start_time": "2021-08-10T12:03:38.099029Z"
    }
   },
   "outputs": [],
   "source": [
    "# for period in periods:\n",
    "#     mm = MinMaxScaler()\n",
    "#     data.loc[data[\"period\"] == period, \"x_1\"] = mm.fit_transform(data[data[\"period\"] == period][[\"x_1\"]])[:, 0]\n",
    "#     data.loc[data[\"period\"] == period, \"x_2\"] = mm.fit_transform(data[data[\"period\"] == period][[\"x_2\"]])[:, 0]\n",
    "    \n",
    "\n",
    "# for period in unseen_environments:\n",
    "#     mm = MinMaxScaler()\n",
    "#     unseen_data.loc[unseen_data[\"period\"] == period, \"x_1\"] = mm.fit_transform(unseen_data[unseen_data[\"period\"] == period][[\"x_1\"]])[:, 0]\n",
    "#     unseen_data.loc[unseen_data[\"period\"] == period, \"x_2\"] = mm.fit_transform(unseen_data[unseen_data[\"period\"] == period][[\"x_2\"]])[:, 0]    "
   ]
  },
  {
   "cell_type": "code",
   "execution_count": 19,
   "metadata": {
    "ExecuteTime": {
     "end_time": "2021-08-10T12:03:38.295011Z",
     "start_time": "2021-08-10T12:03:38.119159Z"
    }
   },
   "outputs": [],
   "source": [
    "for period in periods:\n",
    "    mm = StandardScaler()\n",
    "    data.loc[data[\"period\"] == period, \"x_1\"] = mm.fit_transform(data[data[\"period\"] == period][[\"x_1\"]])[:, 0]\n",
    "    data.loc[data[\"period\"] == period, \"x_2\"] = mm.fit_transform(data[data[\"period\"] == period][[\"x_2\"]])[:, 0]\n",
    "    \n",
    "\n",
    "for period in unseen_environments:\n",
    "    mm = StandardScaler()\n",
    "    unseen_data.loc[unseen_data[\"period\"] == period, \"x_1\"] = mm.fit_transform(unseen_data[unseen_data[\"period\"] == period][[\"x_1\"]])[:, 0]\n",
    "    unseen_data.loc[unseen_data[\"period\"] == period, \"x_2\"] = mm.fit_transform(unseen_data[unseen_data[\"period\"] == period][[\"x_2\"]])[:, 0]    "
   ]
  },
  {
   "cell_type": "code",
   "execution_count": 20,
   "metadata": {
    "ExecuteTime": {
     "end_time": "2021-08-10T12:03:38.348928Z",
     "start_time": "2021-08-10T12:03:38.304206Z"
    }
   },
   "outputs": [
    {
     "name": "stdout",
     "output_type": "stream",
     "text": [
      "(10000, 3)\n",
      "(10000, 3)\n",
      "(20000, 3)\n",
      "(10000,)\n",
      "(10000,)\n",
      "(20000,)\n"
     ]
    }
   ],
   "source": [
    "X_train, X_test, y_train, y_test = train_test_split(data[features + [environment]], \n",
    "                                                    data[target],\n",
    "                                                    test_size=0.5,\n",
    "                                                    stratify=data[environment],\n",
    "                                                    random_state=42)\n",
    "\n",
    "X_unseen = unseen_data[features + [environment]]#.values\n",
    "y_unseen = unseen_data[target]\n",
    "\n",
    "X = X_train[[\"x_1\", \"x_2\", \"period\"]].values\n",
    "X_test = X_test#.values\n",
    "y = y_train.values\n",
    "\n",
    "print(X_train.shape)\n",
    "print(X_test.shape)\n",
    "print(X_unseen.shape)\n",
    "print(y_train.shape)\n",
    "print(y_test.shape)\n",
    "print(y_unseen.shape)"
   ]
  },
  {
   "cell_type": "code",
   "execution_count": 21,
   "metadata": {
    "ExecuteTime": {
     "end_time": "2021-08-10T12:03:42.986960Z",
     "start_time": "2021-08-10T12:03:38.355945Z"
    }
   },
   "outputs": [
    {
     "name": "stdout",
     "output_type": "stream",
     "text": [
      "Depth: 0\n",
      "Max Depth: 7\n",
      "Node periods distribution\n",
      "0.1    1000\n",
      "1.0    9000\n",
      "Name: period, dtype: int64\n",
      "Depth: 1\n",
      "Max Depth: 7\n",
      "Node periods distribution\n",
      "0.1     497\n",
      "1.0    4476\n",
      "Name: period, dtype: int64\n",
      "Depth: 2\n",
      "Max Depth: 7\n",
      "Node periods distribution\n",
      "0.1     234\n",
      "1.0    1191\n",
      "Name: period, dtype: int64\n",
      "Depth: 2\n",
      "Max Depth: 7\n",
      "Node periods distribution\n",
      "0.1     263\n",
      "1.0    3285\n",
      "Name: period, dtype: int64\n",
      "Depth: 1\n",
      "Max Depth: 7\n",
      "Node periods distribution\n",
      "0.1     503\n",
      "1.0    4524\n",
      "Name: period, dtype: int64\n",
      "Depth: 2\n",
      "Max Depth: 7\n",
      "Node periods distribution\n",
      "0.1     273\n",
      "1.0    3302\n",
      "Name: period, dtype: int64\n",
      "Depth: 2\n",
      "Max Depth: 7\n",
      "Node periods distribution\n",
      "0.1     230\n",
      "1.0    1222\n",
      "Name: period, dtype: int64\n"
     ]
    }
   ],
   "source": [
    "time_tree_period_column = \"period\"\n",
    "\n",
    "model_challenger = RandomTimeSplitTree(X_train[features + [time_tree_period_column]].reset_index(drop=True),\n",
    "                                 y_train.values,\n",
    "                                 max_depth=7,\n",
    "                                 max_features=1.0,\n",
    "                                 bootstrapping=False,\n",
    "                                 time_column=time_tree_period_column,\n",
    "                                 min_sample_periods=200,\n",
    "                                 verbose=True)"
   ]
  },
  {
   "cell_type": "code",
   "execution_count": 22,
   "metadata": {
    "ExecuteTime": {
     "end_time": "2021-08-10T12:03:43.006426Z",
     "start_time": "2021-08-10T12:03:42.992202Z"
    }
   },
   "outputs": [
    {
     "data": {
      "text/plain": [
       "x_2    2\n",
       "x_1    1\n",
       "Name: Feature Importance, dtype: int64"
      ]
     },
     "execution_count": 22,
     "metadata": {},
     "output_type": "execute_result"
    }
   ],
   "source": [
    "model_challenger.feature_importance"
   ]
  },
  {
   "cell_type": "code",
   "execution_count": 23,
   "metadata": {
    "ExecuteTime": {
     "end_time": "2021-08-10T12:03:48.052122Z",
     "start_time": "2021-08-10T12:03:43.027769Z"
    }
   },
   "outputs": [
    {
     "data": {
      "text/plain": [
       "array([ 0.73812843,  0.73812843,  0.73812843, ..., -0.72548731,\n",
       "       -0.72548731,  0.73812843])"
      ]
     },
     "execution_count": 23,
     "metadata": {},
     "output_type": "execute_result"
    }
   ],
   "source": [
    "model_challenger.predict(X_unseen[features])"
   ]
  },
  {
   "cell_type": "code",
   "execution_count": 24,
   "metadata": {
    "ExecuteTime": {
     "end_time": "2021-08-10T12:03:51.452797Z",
     "start_time": "2021-08-10T12:03:48.070138Z"
    }
   },
   "outputs": [
    {
     "data": {
      "text/plain": [
       "1.3795230133023748"
      ]
     },
     "execution_count": 24,
     "metadata": {},
     "output_type": "execute_result"
    }
   ],
   "source": [
    "mean_squared_error(y_unseen, model_challenger.predict(X_unseen[features]))"
   ]
  },
  {
   "cell_type": "code",
   "execution_count": 25,
   "metadata": {
    "ExecuteTime": {
     "end_time": "2021-08-10T12:03:51.486893Z",
     "start_time": "2021-08-10T12:03:51.460535Z"
    }
   },
   "outputs": [
    {
     "data": {
      "text/plain": [
       "0.0034630326328701656"
      ]
     },
     "execution_count": 25,
     "metadata": {},
     "output_type": "execute_result"
    }
   ],
   "source": [
    "y_train.mean()"
   ]
  },
  {
   "cell_type": "code",
   "execution_count": 26,
   "metadata": {
    "ExecuteTime": {
     "end_time": "2021-08-10T12:03:51.516825Z",
     "start_time": "2021-08-10T12:03:51.492234Z"
    }
   },
   "outputs": [
    {
     "data": {
      "text/plain": [
       "1.9946548419375514"
      ]
     },
     "execution_count": 26,
     "metadata": {},
     "output_type": "execute_result"
    }
   ],
   "source": [
    "mean_squared_error(y_unseen, [y_train.mean()] * len(y_unseen))"
   ]
  },
  {
   "cell_type": "code",
   "execution_count": 27,
   "metadata": {
    "ExecuteTime": {
     "end_time": "2021-08-10T12:04:02.276798Z",
     "start_time": "2021-08-10T12:03:51.521926Z"
    }
   },
   "outputs": [],
   "source": [
    "model = TimeForestRegressor(time_column=\"period\", \n",
    "                            n_estimators=1, \n",
    "                            bootstrapping=False,\n",
    "                            max_features=1.0,\n",
    "                            period_criterion='avg')\n",
    "\n",
    "#model = TimeForestRegressor(time_column=\"period\")\n",
    "model.fit(X_train[features + [time_tree_period_column]].reset_index(drop=True),\n",
    "                                 y_train.values)"
   ]
  },
  {
   "cell_type": "code",
   "execution_count": 28,
   "metadata": {
    "ExecuteTime": {
     "end_time": "2021-08-10T12:04:10.558591Z",
     "start_time": "2021-08-10T12:04:02.282105Z"
    }
   },
   "outputs": [
    {
     "data": {
      "text/plain": [
       "1.3363360989984878"
      ]
     },
     "execution_count": 28,
     "metadata": {},
     "output_type": "execute_result"
    }
   ],
   "source": [
    "mean_squared_error(y_unseen, model.predict(X_unseen[features]))"
   ]
  },
  {
   "cell_type": "code",
   "execution_count": 29,
   "metadata": {
    "ExecuteTime": {
     "end_time": "2021-08-10T12:04:10.660017Z",
     "start_time": "2021-08-10T12:04:10.566165Z"
    }
   },
   "outputs": [
    {
     "data": {
      "text/plain": [
       "x_2    3\n",
       "x_1    3\n",
       "Name: Feature Importance, dtype: int64"
      ]
     },
     "execution_count": 29,
     "metadata": {},
     "output_type": "execute_result"
    }
   ],
   "source": [
    "model.feature_importance()"
   ]
  },
  {
   "cell_type": "markdown",
   "metadata": {},
   "source": [
    "More regularization is needed, but it gets there. "
   ]
  },
  {
   "cell_type": "code",
   "execution_count": 30,
   "metadata": {
    "ExecuteTime": {
     "end_time": "2021-08-10T12:04:13.698849Z",
     "start_time": "2021-08-10T12:04:10.711280Z"
    }
   },
   "outputs": [
    {
     "name": "stdout",
     "output_type": "stream",
     "text": [
      "Depth: 0\n",
      "Max Depth: 7\n",
      "Node periods distribution\n",
      "0.1    1000\n",
      "1.0    9000\n",
      "Name: period, dtype: int64\n",
      "Depth: 1\n",
      "Max Depth: 7\n",
      "Node periods distribution\n",
      "0.1     497\n",
      "1.0    4476\n",
      "Name: period, dtype: int64\n",
      "Depth: 2\n",
      "Max Depth: 7\n",
      "Node periods distribution\n",
      "0.1     181\n",
      "1.0    1598\n",
      "Name: period, dtype: int64\n",
      "Depth: 3\n",
      "Max Depth: 7\n",
      "Node periods distribution\n",
      "0.1     54\n",
      "1.0    514\n",
      "Name: period, dtype: int64\n",
      "Depth: 4\n",
      "Max Depth: 7\n",
      "Node periods distribution\n",
      "0.1     23\n",
      "1.0    192\n",
      "Name: period, dtype: int64\n",
      "Depth: 4\n",
      "Max Depth: 7\n",
      "Node periods distribution\n",
      "0.1     31\n",
      "1.0    322\n",
      "Name: period, dtype: int64\n",
      "Depth: 3\n",
      "Max Depth: 7\n",
      "Node periods distribution\n",
      "0.1     127\n",
      "1.0    1084\n",
      "Name: period, dtype: int64\n",
      "Depth: 4\n",
      "Max Depth: 7\n",
      "Node periods distribution\n",
      "0.1     56\n",
      "1.0    203\n",
      "Name: period, dtype: int64\n",
      "Depth: 4\n",
      "Max Depth: 7\n",
      "Node periods distribution\n",
      "0.1     71\n",
      "1.0    881\n",
      "Name: period, dtype: int64\n",
      "Depth: 5\n",
      "Max Depth: 7\n",
      "Node periods distribution\n",
      "0.1     20\n",
      "1.0    216\n",
      "Name: period, dtype: int64\n",
      "Depth: 5\n",
      "Max Depth: 7\n",
      "Node periods distribution\n",
      "0.1     51\n",
      "1.0    665\n",
      "Name: period, dtype: int64\n",
      "Depth: 6\n",
      "Max Depth: 7\n",
      "Node periods distribution\n",
      "0.1     30\n",
      "1.0    198\n",
      "Name: period, dtype: int64\n",
      "Depth: 6\n",
      "Max Depth: 7\n",
      "Node periods distribution\n",
      "0.1     21\n",
      "1.0    467\n",
      "Name: period, dtype: int64\n",
      "Depth: 7\n",
      "Max Depth: 7\n",
      "Node periods distribution\n",
      "0.1      7\n",
      "1.0    240\n",
      "Name: period, dtype: int64\n",
      "Depth: 7\n",
      "Max Depth: 7\n",
      "Node periods distribution\n",
      "0.1     14\n",
      "1.0    227\n",
      "Name: period, dtype: int64\n",
      "Depth: 2\n",
      "Max Depth: 7\n",
      "Node periods distribution\n",
      "0.1     316\n",
      "1.0    2878\n",
      "Name: period, dtype: int64\n",
      "Depth: 3\n",
      "Max Depth: 7\n",
      "Node periods distribution\n",
      "0.1     133\n",
      "1.0    1098\n",
      "Name: period, dtype: int64\n",
      "Depth: 4\n",
      "Max Depth: 7\n",
      "Node periods distribution\n",
      "0.1     63\n",
      "1.0    282\n",
      "Name: period, dtype: int64\n",
      "Depth: 4\n",
      "Max Depth: 7\n",
      "Node periods distribution\n",
      "0.1     70\n",
      "1.0    816\n",
      "Name: period, dtype: int64\n",
      "Depth: 5\n",
      "Max Depth: 7\n",
      "Node periods distribution\n",
      "0.1     48\n",
      "1.0    575\n",
      "Name: period, dtype: int64\n",
      "Depth: 6\n",
      "Max Depth: 7\n",
      "Node periods distribution\n",
      "0.1     32\n",
      "1.0    169\n",
      "Name: period, dtype: int64\n",
      "Depth: 6\n",
      "Max Depth: 7\n",
      "Node periods distribution\n",
      "0.1     16\n",
      "1.0    406\n",
      "Name: period, dtype: int64\n",
      "Depth: 7\n",
      "Max Depth: 7\n",
      "Node periods distribution\n",
      "0.1      6\n",
      "1.0    199\n",
      "Name: period, dtype: int64\n",
      "Depth: 7\n",
      "Max Depth: 7\n",
      "Node periods distribution\n",
      "0.1     10\n",
      "1.0    207\n",
      "Name: period, dtype: int64\n",
      "Depth: 5\n",
      "Max Depth: 7\n",
      "Node periods distribution\n",
      "0.1     22\n",
      "1.0    241\n",
      "Name: period, dtype: int64\n",
      "Depth: 3\n",
      "Max Depth: 7\n",
      "Node periods distribution\n",
      "0.1     183\n",
      "1.0    1780\n",
      "Name: period, dtype: int64\n",
      "Depth: 4\n",
      "Max Depth: 7\n",
      "Node periods distribution\n",
      "0.1     53\n",
      "1.0    595\n",
      "Name: period, dtype: int64\n",
      "Depth: 5\n",
      "Max Depth: 7\n",
      "Node periods distribution\n",
      "0.1     19\n",
      "1.0    184\n",
      "Name: period, dtype: int64\n",
      "Depth: 5\n",
      "Max Depth: 7\n",
      "Node periods distribution\n",
      "0.1     34\n",
      "1.0    411\n",
      "Name: period, dtype: int64\n",
      "Depth: 6\n",
      "Max Depth: 7\n",
      "Node periods distribution\n",
      "0.1     29\n",
      "1.0    194\n",
      "Name: period, dtype: int64\n",
      "Depth: 6\n",
      "Max Depth: 7\n",
      "Node periods distribution\n",
      "0.1      5\n",
      "1.0    217\n",
      "Name: period, dtype: int64\n",
      "Depth: 4\n",
      "Max Depth: 7\n",
      "Node periods distribution\n",
      "0.1     130\n",
      "1.0    1185\n",
      "Name: period, dtype: int64\n",
      "Depth: 5\n",
      "Max Depth: 7\n",
      "Node periods distribution\n",
      "0.1     36\n",
      "1.0    354\n",
      "Name: period, dtype: int64\n",
      "Depth: 5\n",
      "Max Depth: 7\n",
      "Node periods distribution\n",
      "0.1     94\n",
      "1.0    831\n",
      "Name: period, dtype: int64\n",
      "Depth: 6\n",
      "Max Depth: 7\n",
      "Node periods distribution\n",
      "0.1     58\n",
      "1.0    582\n",
      "Name: period, dtype: int64\n",
      "Depth: 7\n",
      "Max Depth: 7\n",
      "Node periods distribution\n",
      "0.1     28\n",
      "1.0    275\n",
      "Name: period, dtype: int64\n",
      "Depth: 7\n",
      "Max Depth: 7\n",
      "Node periods distribution\n",
      "0.1     30\n",
      "1.0    307\n",
      "Name: period, dtype: int64\n",
      "Depth: 6\n",
      "Max Depth: 7\n",
      "Node periods distribution\n",
      "0.1     36\n",
      "1.0    249\n",
      "Name: period, dtype: int64\n",
      "Depth: 1\n",
      "Max Depth: 7\n",
      "Node periods distribution\n",
      "0.1     503\n",
      "1.0    4524\n",
      "Name: period, dtype: int64\n",
      "Depth: 2\n",
      "Max Depth: 7\n",
      "Node periods distribution\n",
      "0.1     331\n",
      "1.0    2900\n",
      "Name: period, dtype: int64\n",
      "Depth: 3\n",
      "Max Depth: 7\n",
      "Node periods distribution\n",
      "0.1     162\n",
      "1.0    1659\n",
      "Name: period, dtype: int64\n",
      "Depth: 4\n",
      "Max Depth: 7\n",
      "Node periods distribution\n",
      "0.1     43\n",
      "1.0    679\n",
      "Name: period, dtype: int64\n",
      "Depth: 5\n",
      "Max Depth: 7\n",
      "Node periods distribution\n",
      "0.1     29\n",
      "1.0    432\n",
      "Name: period, dtype: int64\n",
      "Depth: 6\n",
      "Max Depth: 7\n",
      "Node periods distribution\n",
      "0.1      5\n",
      "1.0    207\n",
      "Name: period, dtype: int64\n",
      "Depth: 6\n",
      "Max Depth: 7\n",
      "Node periods distribution\n",
      "0.1     24\n",
      "1.0    225\n",
      "Name: period, dtype: int64\n",
      "Depth: 5\n",
      "Max Depth: 7\n",
      "Node periods distribution\n",
      "0.1     14\n",
      "1.0    247\n",
      "Name: period, dtype: int64\n",
      "Depth: 4\n",
      "Max Depth: 7\n",
      "Node periods distribution\n",
      "0.1    119\n",
      "1.0    980\n",
      "Name: period, dtype: int64\n",
      "Depth: 5\n",
      "Max Depth: 7\n",
      "Node periods distribution\n",
      "0.1     90\n",
      "1.0    715\n",
      "Name: period, dtype: int64\n",
      "Depth: 6\n",
      "Max Depth: 7\n",
      "Node periods distribution\n",
      "0.1     67\n",
      "1.0    391\n",
      "Name: period, dtype: int64\n",
      "Depth: 7\n",
      "Max Depth: 7\n",
      "Node periods distribution\n",
      "0.1     31\n",
      "1.0    226\n",
      "Name: period, dtype: int64\n",
      "Depth: 7\n",
      "Max Depth: 7\n",
      "Node periods distribution\n",
      "0.1     36\n",
      "1.0    165\n",
      "Name: period, dtype: int64\n",
      "Depth: 6\n",
      "Max Depth: 7\n",
      "Node periods distribution\n",
      "0.1     23\n",
      "1.0    324\n",
      "Name: period, dtype: int64\n",
      "Depth: 5\n",
      "Max Depth: 7\n",
      "Node periods distribution\n",
      "0.1     29\n",
      "1.0    265\n",
      "Name: period, dtype: int64\n",
      "Depth: 3\n",
      "Max Depth: 7\n",
      "Node periods distribution\n",
      "0.1     169\n",
      "1.0    1241\n",
      "Name: period, dtype: int64\n",
      "Depth: 4\n",
      "Max Depth: 7\n",
      "Node periods distribution\n",
      "0.1     128\n",
      "1.0    1072\n",
      "Name: period, dtype: int64\n",
      "Depth: 5\n",
      "Max Depth: 7\n",
      "Node periods distribution\n",
      "0.1     54\n",
      "1.0    423\n",
      "Name: period, dtype: int64\n",
      "Depth: 6\n",
      "Max Depth: 7\n",
      "Node periods distribution\n",
      "0.1     14\n",
      "1.0    198\n",
      "Name: period, dtype: int64\n",
      "Depth: 6\n",
      "Max Depth: 7\n",
      "Node periods distribution\n",
      "0.1     40\n",
      "1.0    225\n",
      "Name: period, dtype: int64\n",
      "Depth: 5\n",
      "Max Depth: 7\n",
      "Node periods distribution\n",
      "0.1     74\n",
      "1.0    649\n",
      "Name: period, dtype: int64\n",
      "Depth: 6\n",
      "Max Depth: 7\n",
      "Node periods distribution\n",
      "0.1     21\n",
      "1.0    391\n",
      "Name: period, dtype: int64\n",
      "Depth: 7\n",
      "Max Depth: 7\n",
      "Node periods distribution\n",
      "0.1      1\n",
      "1.0    207\n",
      "Name: period, dtype: int64\n",
      "Depth: 7\n",
      "Max Depth: 7\n",
      "Node periods distribution\n",
      "0.1     20\n",
      "1.0    184\n",
      "Name: period, dtype: int64\n",
      "Depth: 6\n",
      "Max Depth: 7\n",
      "Node periods distribution\n",
      "0.1     53\n",
      "1.0    258\n",
      "Name: period, dtype: int64\n",
      "Depth: 4\n",
      "Max Depth: 7\n",
      "Node periods distribution\n",
      "0.1     41\n",
      "1.0    169\n",
      "Name: period, dtype: int64\n",
      "Depth: 2\n",
      "Max Depth: 7\n",
      "Node periods distribution\n",
      "0.1     172\n",
      "1.0    1624\n",
      "Name: period, dtype: int64\n",
      "Depth: 3\n",
      "Max Depth: 7\n",
      "Node periods distribution\n",
      "0.1     131\n",
      "1.0    1252\n",
      "Name: period, dtype: int64\n",
      "Depth: 4\n",
      "Max Depth: 7\n",
      "Node periods distribution\n",
      "0.1     73\n",
      "1.0    666\n",
      "Name: period, dtype: int64\n",
      "Depth: 5\n",
      "Max Depth: 7\n",
      "Node periods distribution\n",
      "0.1     38\n",
      "1.0    489\n",
      "Name: period, dtype: int64\n",
      "Depth: 6\n",
      "Max Depth: 7\n",
      "Node periods distribution\n",
      "0.1     12\n",
      "1.0    308\n",
      "Name: period, dtype: int64\n",
      "Depth: 6\n",
      "Max Depth: 7\n",
      "Node periods distribution\n",
      "0.1     26\n",
      "1.0    181\n",
      "Name: period, dtype: int64\n",
      "Depth: 5\n",
      "Max Depth: 7\n",
      "Node periods distribution\n",
      "0.1     35\n",
      "1.0    177\n",
      "Name: period, dtype: int64\n",
      "Depth: 4\n",
      "Max Depth: 7\n",
      "Node periods distribution\n",
      "0.1     58\n",
      "1.0    586\n",
      "Name: period, dtype: int64\n",
      "Depth: 5\n",
      "Max Depth: 7\n",
      "Node periods distribution\n",
      "0.1     19\n",
      "1.0    196\n",
      "Name: period, dtype: int64\n",
      "Depth: 5\n",
      "Max Depth: 7\n",
      "Node periods distribution\n",
      "0.1     39\n",
      "1.0    390\n",
      "Name: period, dtype: int64\n",
      "Depth: 6\n",
      "Max Depth: 7\n",
      "Node periods distribution\n",
      "0.1      8\n",
      "1.0    219\n",
      "Name: period, dtype: int64\n",
      "Depth: 6\n",
      "Max Depth: 7\n",
      "Node periods distribution\n",
      "0.1     31\n",
      "1.0    171\n",
      "Name: period, dtype: int64\n",
      "Depth: 3\n",
      "Max Depth: 7\n",
      "Node periods distribution\n",
      "0.1     41\n",
      "1.0    372\n",
      "Name: period, dtype: int64\n",
      "Depth: 4\n",
      "Max Depth: 7\n",
      "Node periods distribution\n",
      "0.1     25\n",
      "1.0    181\n",
      "Name: period, dtype: int64\n",
      "Depth: 4\n",
      "Max Depth: 7\n",
      "Node periods distribution\n",
      "0.1     16\n",
      "1.0    191\n",
      "Name: period, dtype: int64\n"
     ]
    }
   ],
   "source": [
    "time_tree_period_column = \"period\"\n",
    "\n",
    "model_benchmark = DecisionTree(X_train[features + [time_tree_period_column]].reset_index(drop=True),\n",
    "                                 y_train.values,\n",
    "                                 max_depth=7,\n",
    "                                 min_leaf=200,\n",
    "                                 verbose=True,\n",
    "                                 time_column=\"period\")"
   ]
  },
  {
   "cell_type": "markdown",
   "metadata": {},
   "source": [
    "### Building a curve"
   ]
  },
  {
   "cell_type": "code",
   "execution_count": 31,
   "metadata": {
    "ExecuteTime": {
     "end_time": "2021-08-10T12:04:15.738150Z",
     "start_time": "2021-08-10T12:04:13.708491Z"
    }
   },
   "outputs": [
    {
     "data": {
      "text/plain": [
       "<AxesSubplot:xlabel='x_1', ylabel='Count'>"
      ]
     },
     "execution_count": 31,
     "metadata": {},
     "output_type": "execute_result"
    },
    {
     "data": {
      "image/png": "[encoded data removed]",
      "text/plain": [
       "<Figure size 864x288 with 1 Axes>"
      ]
     },
     "metadata": {},
     "output_type": "display_data"
    }
   ],
   "source": [
    "sns.histplot(data=data, x=\"x_1\", hue=\"period\")"
   ]
  },
  {
   "cell_type": "code",
   "execution_count": 32,
   "metadata": {
    "ExecuteTime": {
     "end_time": "2021-08-10T12:04:18.075324Z",
     "start_time": "2021-08-10T12:04:15.746935Z"
    }
   },
   "outputs": [
    {
     "data": {
      "text/plain": [
       "<AxesSubplot:xlabel='x_2', ylabel='Count'>"
      ]
     },
     "execution_count": 32,
     "metadata": {},
     "output_type": "execute_result"
    },
    {
     "data": {
      "image/png": "[encoded data removed]",
      "text/plain": [
       "<Figure size 864x288 with 1 Axes>"
      ]
     },
     "metadata": {},
     "output_type": "display_data"
    }
   ],
   "source": [
    "sns.histplot(data=data, x=\"x_2\", hue=\"period\")"
   ]
  },
  {
   "cell_type": "code",
   "execution_count": 33,
   "metadata": {
    "ExecuteTime": {
     "end_time": "2021-08-10T12:04:18.085983Z",
     "start_time": "2021-08-10T12:04:18.079617Z"
    }
   },
   "outputs": [],
   "source": [
    "min_sample_by_period_range = np.linspace(1, 500, 10, dtype=int)"
   ]
  },
  {
   "cell_type": "code",
   "execution_count": 34,
   "metadata": {
    "ExecuteTime": {
     "end_time": "2021-08-10T12:04:18.101204Z",
     "start_time": "2021-08-10T12:04:18.091861Z"
    }
   },
   "outputs": [
    {
     "data": {
      "text/plain": [
       "0.0034630326328701656"
      ]
     },
     "execution_count": 34,
     "metadata": {},
     "output_type": "execute_result"
    }
   ],
   "source": [
    "y_train.mean()"
   ]
  },
  {
   "cell_type": "code",
   "execution_count": 35,
   "metadata": {
    "ExecuteTime": {
     "end_time": "2021-08-10T12:04:18.122005Z",
     "start_time": "2021-08-10T12:04:18.106039Z"
    }
   },
   "outputs": [
    {
     "data": {
      "text/plain": [
       "1.9946548419375514"
      ]
     },
     "execution_count": 35,
     "metadata": {},
     "output_type": "execute_result"
    }
   ],
   "source": [
    "mean_squared_error(y_unseen, [y_train.mean()] * len(y_unseen))"
   ]
  },
  {
   "cell_type": "code",
   "execution_count": 36,
   "metadata": {
    "ExecuteTime": {
     "end_time": "2021-08-10T12:07:50.478372Z",
     "start_time": "2021-08-10T12:04:18.126136Z"
    }
   },
   "outputs": [],
   "source": [
    "importances = []\n",
    "performances = []\n",
    "test_performances = []\n",
    "bench_performances = []\n",
    "bench_test_performances = []\n",
    "bench_importances = []\n",
    "max_depth = 10\n",
    "\n",
    "for min_sample in min_sample_by_period_range:\n",
    "    model_challenger = RandomTimeSplitTree(X_train[features + [time_tree_period_column]].reset_index(drop=True),\n",
    "                                 y_train.values,\n",
    "                                 max_depth=max_depth,\n",
    "                                 max_features=1.0,\n",
    "                                 bootstrapping=False,\n",
    "                                 min_leaf=2*min_sample,\n",
    "                                 time_column=time_tree_period_column,\n",
    "                                 min_sample_periods=min_sample,\n",
    "                                 verbose=False)\n",
    "    \n",
    "    imp = model_challenger.feature_importance\n",
    "    \n",
    "    imp = imp / sum(imp)\n",
    "    df = pd.DataFrame(imp).transpose()\n",
    "\n",
    "    df[\"min_sample\"] = min_sample\n",
    "    importances.append(df)\n",
    "    \n",
    "    performances.append(mean_squared_error(y_unseen, model_challenger.predict(X_unseen[features])))\n",
    "    test_performances.append(mean_squared_error(y_test, model_challenger.predict(X_test[features])))\n",
    "    \n",
    "    model = DecisionTree(X_train[features].reset_index(drop=True),\n",
    "                         y_train.values, max_depth=max_depth, min_leaf=2*min_sample)\n",
    "    bench_performances.append(mean_squared_error(y_unseen, model.predict(X_unseen[features])))\n",
    "    bench_test_performances.append(mean_squared_error(y_test, model.predict(X_test[features])))\n",
    "    \n",
    "    imp = model.feature_importance\n",
    "    \n",
    "    imp = imp / sum(imp)\n",
    "    df = pd.DataFrame(imp).transpose()\n",
    "\n",
    "    df[\"min_sample\"] = min_sample\n",
    "    bench_importances.append(df)"
   ]
  },
  {
   "cell_type": "code",
   "execution_count": 37,
   "metadata": {
    "ExecuteTime": {
     "end_time": "2021-08-10T12:07:50.606601Z",
     "start_time": "2021-08-10T12:07:50.496941Z"
    }
   },
   "outputs": [
    {
     "data": {
      "text/html": [
       "<div>\n",
       "<style scoped>\n",
       "    .dataframe tbody tr th:only-of-type {\n",
       "        vertical-align: middle;\n",
       "    }\n",
       "\n",
       "    .dataframe tbody tr th {\n",
       "        vertical-align: top;\n",
       "    }\n",
       "\n",
       "    .dataframe thead th {\n",
       "        text-align: right;\n",
       "    }\n",
       "</style>\n",
       "<table border=\"1\" class=\"dataframe\">\n",
       "  <thead>\n",
       "    <tr style=\"text-align: right;\">\n",
       "      <th></th>\n",
       "      <th>x_1</th>\n",
       "      <th>x_2</th>\n",
       "    </tr>\n",
       "    <tr>\n",
       "      <th>min_sample</th>\n",
       "      <th></th>\n",
       "      <th></th>\n",
       "    </tr>\n",
       "  </thead>\n",
       "  <tbody>\n",
       "    <tr>\n",
       "      <th>1</th>\n",
       "      <td>0.502340</td>\n",
       "      <td>0.497660</td>\n",
       "    </tr>\n",
       "    <tr>\n",
       "      <th>56</th>\n",
       "      <td>0.507246</td>\n",
       "      <td>0.492754</td>\n",
       "    </tr>\n",
       "    <tr>\n",
       "      <th>111</th>\n",
       "      <td>0.617647</td>\n",
       "      <td>0.382353</td>\n",
       "    </tr>\n",
       "    <tr>\n",
       "      <th>167</th>\n",
       "      <td>0.681818</td>\n",
       "      <td>0.318182</td>\n",
       "    </tr>\n",
       "    <tr>\n",
       "      <th>222</th>\n",
       "      <td>0.750000</td>\n",
       "      <td>0.250000</td>\n",
       "    </tr>\n",
       "    <tr>\n",
       "      <th>278</th>\n",
       "      <td>0.692308</td>\n",
       "      <td>0.307692</td>\n",
       "    </tr>\n",
       "    <tr>\n",
       "      <th>333</th>\n",
       "      <td>0.800000</td>\n",
       "      <td>0.200000</td>\n",
       "    </tr>\n",
       "    <tr>\n",
       "      <th>389</th>\n",
       "      <td>0.888889</td>\n",
       "      <td>0.111111</td>\n",
       "    </tr>\n",
       "    <tr>\n",
       "      <th>444</th>\n",
       "      <td>0.888889</td>\n",
       "      <td>0.111111</td>\n",
       "    </tr>\n",
       "    <tr>\n",
       "      <th>500</th>\n",
       "      <td>1.000000</td>\n",
       "      <td>0.000000</td>\n",
       "    </tr>\n",
       "  </tbody>\n",
       "</table>\n",
       "</div>"
      ],
      "text/plain": [
       "                 x_1       x_2\n",
       "min_sample                    \n",
       "1           0.502340  0.497660\n",
       "56          0.507246  0.492754\n",
       "111         0.617647  0.382353\n",
       "167         0.681818  0.318182\n",
       "222         0.750000  0.250000\n",
       "278         0.692308  0.307692\n",
       "333         0.800000  0.200000\n",
       "389         0.888889  0.111111\n",
       "444         0.888889  0.111111\n",
       "500         1.000000  0.000000"
      ]
     },
     "execution_count": 37,
     "metadata": {},
     "output_type": "execute_result"
    }
   ],
   "source": [
    "bench_importances_by_param = pd.concat(bench_importances)\n",
    "bench_importances_by_param.index = bench_importances_by_param[\"min_sample\"]\n",
    "bench_importances_by_param.drop(columns=[\"min_sample\"], inplace=True)\n",
    "bench_importances_by_param.fillna(0, inplace=True)\n",
    "bench_importances_by_param"
   ]
  },
  {
   "cell_type": "code",
   "execution_count": 38,
   "metadata": {
    "ExecuteTime": {
     "end_time": "2021-08-10T12:07:50.644960Z",
     "start_time": "2021-08-10T12:07:50.610866Z"
    }
   },
   "outputs": [
    {
     "data": {
      "text/html": [
       "<div>\n",
       "<style scoped>\n",
       "    .dataframe tbody tr th:only-of-type {\n",
       "        vertical-align: middle;\n",
       "    }\n",
       "\n",
       "    .dataframe tbody tr th {\n",
       "        vertical-align: top;\n",
       "    }\n",
       "\n",
       "    .dataframe thead th {\n",
       "        text-align: right;\n",
       "    }\n",
       "</style>\n",
       "<table border=\"1\" class=\"dataframe\">\n",
       "  <thead>\n",
       "    <tr style=\"text-align: right;\">\n",
       "      <th></th>\n",
       "      <th>x_2</th>\n",
       "      <th>x_1</th>\n",
       "      <th>performance</th>\n",
       "      <th>bench_performance</th>\n",
       "      <th>test_performance</th>\n",
       "      <th>bench_test_performance</th>\n",
       "    </tr>\n",
       "    <tr>\n",
       "      <th>min_sample</th>\n",
       "      <th></th>\n",
       "      <th></th>\n",
       "      <th></th>\n",
       "      <th></th>\n",
       "      <th></th>\n",
       "      <th></th>\n",
       "    </tr>\n",
       "  </thead>\n",
       "  <tbody>\n",
       "    <tr>\n",
       "      <th>1</th>\n",
       "      <td>0.549515</td>\n",
       "      <td>0.450485</td>\n",
       "      <td>1.167788</td>\n",
       "      <td>1.183585</td>\n",
       "      <td>1.132476</td>\n",
       "      <td>1.184395</td>\n",
       "    </tr>\n",
       "    <tr>\n",
       "      <th>56</th>\n",
       "      <td>0.545455</td>\n",
       "      <td>0.454545</td>\n",
       "      <td>1.248129</td>\n",
       "      <td>1.032178</td>\n",
       "      <td>1.225005</td>\n",
       "      <td>1.023135</td>\n",
       "    </tr>\n",
       "    <tr>\n",
       "      <th>111</th>\n",
       "      <td>0.571429</td>\n",
       "      <td>0.428571</td>\n",
       "      <td>1.314241</td>\n",
       "      <td>1.028498</td>\n",
       "      <td>1.278394</td>\n",
       "      <td>1.021465</td>\n",
       "    </tr>\n",
       "    <tr>\n",
       "      <th>167</th>\n",
       "      <td>0.666667</td>\n",
       "      <td>0.333333</td>\n",
       "      <td>1.379523</td>\n",
       "      <td>1.029955</td>\n",
       "      <td>1.345559</td>\n",
       "      <td>1.028419</td>\n",
       "    </tr>\n",
       "    <tr>\n",
       "      <th>222</th>\n",
       "      <td>0.666667</td>\n",
       "      <td>0.333333</td>\n",
       "      <td>1.379523</td>\n",
       "      <td>1.035732</td>\n",
       "      <td>1.345559</td>\n",
       "      <td>1.034353</td>\n",
       "    </tr>\n",
       "    <tr>\n",
       "      <th>278</th>\n",
       "      <td>0.000000</td>\n",
       "      <td>1.000000</td>\n",
       "      <td>1.368174</td>\n",
       "      <td>1.041567</td>\n",
       "      <td>1.355704</td>\n",
       "      <td>1.039186</td>\n",
       "    </tr>\n",
       "    <tr>\n",
       "      <th>333</th>\n",
       "      <td>0.000000</td>\n",
       "      <td>1.000000</td>\n",
       "      <td>1.368174</td>\n",
       "      <td>1.042338</td>\n",
       "      <td>1.355704</td>\n",
       "      <td>1.044786</td>\n",
       "    </tr>\n",
       "    <tr>\n",
       "      <th>389</th>\n",
       "      <td>0.000000</td>\n",
       "      <td>1.000000</td>\n",
       "      <td>1.368174</td>\n",
       "      <td>1.043235</td>\n",
       "      <td>1.355704</td>\n",
       "      <td>1.051543</td>\n",
       "    </tr>\n",
       "    <tr>\n",
       "      <th>444</th>\n",
       "      <td>0.000000</td>\n",
       "      <td>1.000000</td>\n",
       "      <td>1.368174</td>\n",
       "      <td>1.043959</td>\n",
       "      <td>1.355704</td>\n",
       "      <td>1.052404</td>\n",
       "    </tr>\n",
       "    <tr>\n",
       "      <th>500</th>\n",
       "      <td>0.000000</td>\n",
       "      <td>1.000000</td>\n",
       "      <td>1.371367</td>\n",
       "      <td>1.090429</td>\n",
       "      <td>1.355655</td>\n",
       "      <td>1.100661</td>\n",
       "    </tr>\n",
       "  </tbody>\n",
       "</table>\n",
       "</div>"
      ],
      "text/plain": [
       "                 x_2       x_1  performance  bench_performance  \\\n",
       "min_sample                                                       \n",
       "1           0.549515  0.450485     1.167788           1.183585   \n",
       "56          0.545455  0.454545     1.248129           1.032178   \n",
       "111         0.571429  0.428571     1.314241           1.028498   \n",
       "167         0.666667  0.333333     1.379523           1.029955   \n",
       "222         0.666667  0.333333     1.379523           1.035732   \n",
       "278         0.000000  1.000000     1.368174           1.041567   \n",
       "333         0.000000  1.000000     1.368174           1.042338   \n",
       "389         0.000000  1.000000     1.368174           1.043235   \n",
       "444         0.000000  1.000000     1.368174           1.043959   \n",
       "500         0.000000  1.000000     1.371367           1.090429   \n",
       "\n",
       "            test_performance  bench_test_performance  \n",
       "min_sample                                            \n",
       "1                   1.132476                1.184395  \n",
       "56                  1.225005                1.023135  \n",
       "111                 1.278394                1.021465  \n",
       "167                 1.345559                1.028419  \n",
       "222                 1.345559                1.034353  \n",
       "278                 1.355704                1.039186  \n",
       "333                 1.355704                1.044786  \n",
       "389                 1.355704                1.051543  \n",
       "444                 1.355704                1.052404  \n",
       "500                 1.355655                1.100661  "
      ]
     },
     "execution_count": 38,
     "metadata": {},
     "output_type": "execute_result"
    }
   ],
   "source": [
    "importances_by_param = pd.concat(importances)\n",
    "importances_by_param.index = importances_by_param[\"min_sample\"]\n",
    "importances_by_param.drop(columns=[\"min_sample\"], inplace=True)\n",
    "importances_by_param.fillna(0, inplace=True)\n",
    "importances_by_param[\"performance\"] = performances\n",
    "importances_by_param[\"bench_performance\"] = bench_performances\n",
    "importances_by_param[\"test_performance\"] = test_performances\n",
    "importances_by_param[\"bench_test_performance\"] = bench_test_performances\n",
    "importances_by_param"
   ]
  },
  {
   "cell_type": "code",
   "execution_count": 39,
   "metadata": {
    "ExecuteTime": {
     "end_time": "2021-08-10T12:07:50.660275Z",
     "start_time": "2021-08-10T12:07:50.648308Z"
    }
   },
   "outputs": [
    {
     "data": {
      "text/plain": [
       "x_2                       0.549515\n",
       "x_1                       0.450485\n",
       "performance               1.167788\n",
       "bench_performance         1.183585\n",
       "test_performance          1.132476\n",
       "bench_test_performance    1.184395\n",
       "Name: 1, dtype: float64"
      ]
     },
     "execution_count": 39,
     "metadata": {},
     "output_type": "execute_result"
    }
   ],
   "source": [
    "importances_by_param.iloc[importances_by_param[\"test_performance\"].argmin(), :]"
   ]
  },
  {
   "cell_type": "code",
   "execution_count": 40,
   "metadata": {
    "ExecuteTime": {
     "end_time": "2021-08-10T12:07:50.671189Z",
     "start_time": "2021-08-10T12:07:50.663489Z"
    }
   },
   "outputs": [
    {
     "data": {
      "text/plain": [
       "x_2                       0.571429\n",
       "x_1                       0.428571\n",
       "performance               1.314241\n",
       "bench_performance         1.028498\n",
       "test_performance          1.278394\n",
       "bench_test_performance    1.021465\n",
       "Name: 111, dtype: float64"
      ]
     },
     "execution_count": 40,
     "metadata": {},
     "output_type": "execute_result"
    }
   ],
   "source": [
    "importances_by_param.iloc[importances_by_param[\"bench_test_performance\"].argmin(), :]"
   ]
  },
  {
   "cell_type": "code",
   "execution_count": 41,
   "metadata": {
    "ExecuteTime": {
     "end_time": "2021-08-10T12:07:51.543498Z",
     "start_time": "2021-08-10T12:07:50.674285Z"
    }
   },
   "outputs": [
    {
     "data": {
      "image/png": "[encoded data removed]",
      "text/plain": [
       "<Figure size 864x288 with 1 Axes>"
      ]
     },
     "metadata": {},
     "output_type": "display_data"
    }
   ],
   "source": [
    "fig, ax = plt.subplots()\n",
    "plt.plot(importances_by_param[\"x_1\"], color=\"green\", linestyle=\"dashed\", label=\"x_1\")\n",
    "plt.plot(importances_by_param[\"x_2\"], label=\"x_2\", color=\"#4c72b0\")\n",
    "\n",
    "ax.xaxis.set_tick_params(labelsize=12)\n",
    "ax.yaxis.set_tick_params(labelsize=12)\n",
    "\n",
    "plt.legend(fontsize=15, bbox_to_anchor=(1.0, 1.0))\n",
    "plt.ylabel(\"Fraction of splits\", fontsize=15)\n",
    "plt.xlabel(\"Minimum sample required in a node for every period\", fontsize=15)\n",
    "plt.savefig(\"../images/synthetic_min_sample.eps\", format=\"eps\", bbox_inches=\"tight\")"
   ]
  },
  {
   "cell_type": "code",
   "execution_count": 42,
   "metadata": {
    "ExecuteTime": {
     "end_time": "2021-08-10T12:07:52.499657Z",
     "start_time": "2021-08-10T12:07:51.548404Z"
    }
   },
   "outputs": [
    {
     "data": {
      "image/png": "[encoded data removed]",
      "text/plain": [
       "<Figure size 864x288 with 1 Axes>"
      ]
     },
     "metadata": {},
     "output_type": "display_data"
    }
   ],
   "source": [
    "fig, ax = plt.subplots()\n",
    "plt.plot(importances_by_param[\"x_1\"], color=\"green\", linestyle=\"dashed\", label=\"TRT x_1\")\n",
    "plt.plot(importances_by_param[\"x_2\"], label=\"TRT x_2\", color=\"#4c72b0\")\n",
    "\n",
    "plt.plot(bench_importances_by_param[\"x_1\"], color=\"red\", linestyle=\"dashed\", label=\"DT x_1\")\n",
    "plt.plot(bench_importances_by_param[\"x_2\"], label=\"DT x_2\", color=\"orange\")\n",
    "\n",
    "ax.xaxis.set_tick_params(labelsize=12)\n",
    "ax.yaxis.set_tick_params(labelsize=12)\n",
    "\n",
    "plt.legend(fontsize=15, bbox_to_anchor=(1.0, 1.0))\n",
    "plt.ylabel(\"Fraction of splits\", fontsize=15)\n",
    "plt.xlabel(\"Minimum sample required in a node for every period\", fontsize=15)\n",
    "plt.savefig(\"../images/synthetic_min_sample_dt.eps\", format=\"eps\", bbox_inches=\"tight\")"
   ]
  },
  {
   "cell_type": "code",
   "execution_count": 43,
   "metadata": {
    "ExecuteTime": {
     "end_time": "2021-08-10T12:07:53.701729Z",
     "start_time": "2021-08-10T12:07:52.504719Z"
    }
   },
   "outputs": [
    {
     "data": {
      "image/png": "[encoded data removed]",
      "text/plain": [
       "<Figure size 864x288 with 1 Axes>"
      ]
     },
     "metadata": {},
     "output_type": "display_data"
    }
   ],
   "source": [
    "fig, ax = plt.subplots()\n",
    "plt.plot(importances_by_param[\"test_performance\"], color=\"green\", linestyle=\"dashed\", label=\"TRT\")\n",
    "plt.plot(importances_by_param[\"bench_test_performance\"], color=\"red\", label=\"DT\")\n",
    "#plt.plot(importances_by_param[\"x_2\"], label=\"x_2\", color=\"#4c72b0\")\n",
    "\n",
    "ax.xaxis.set_tick_params(labelsize=12)\n",
    "ax.yaxis.set_tick_params(labelsize=12)\n",
    "\n",
    "plt.legend(fontsize=15, bbox_to_anchor=(1.0, 1.0))\n",
    "plt.ylabel(\"Mean Squared Error in the Holdout\", fontsize=15)\n",
    "plt.xlabel(\"Minimum sample required in a node for every period\", fontsize=15)\n",
    "plt.savefig(\"../images/synthetic_performance_test.eps\", format=\"eps\", bbox_inches=\"tight\")"
   ]
  },
  {
   "cell_type": "code",
   "execution_count": 44,
   "metadata": {
    "ExecuteTime": {
     "end_time": "2021-08-10T12:07:54.377590Z",
     "start_time": "2021-08-10T12:07:53.711019Z"
    }
   },
   "outputs": [
    {
     "data": {
      "image/png": "[encoded data removed]",
      "text/plain": [
       "<Figure size 864x288 with 1 Axes>"
      ]
     },
     "metadata": {},
     "output_type": "display_data"
    }
   ],
   "source": [
    "fig, ax = plt.subplots()\n",
    "plt.plot(importances_by_param[\"test_performance\"], color=\"green\", label=\"TRT Test\")\n",
    "plt.plot(importances_by_param[\"bench_test_performance\"], color=\"red\", label=\"DT Test\")\n",
    "\n",
    "plt.plot(importances_by_param[\"performance\"], color=\"green\", linestyle=\"dashed\", label=\"TRT Holdout\")\n",
    "plt.plot(importances_by_param[\"bench_performance\"], color=\"red\", linestyle=\"dashed\", label=\"DT Holdout\")\n",
    "#plt.plot(importances_by_param[\"x_2\"], label=\"x_2\", color=\"#4c72b0\")\n",
    "\n",
    "ax.xaxis.set_tick_params(labelsize=12)\n",
    "ax.yaxis.set_tick_params(labelsize=12)\n",
    "\n",
    "plt.legend(fontsize=15, bbox_to_anchor=(1.0, 1.0))\n",
    "plt.ylabel(\"Mean Squared Error\", fontsize=15)\n",
    "plt.xlabel(\"Minimum sample required in a node for every period\", fontsize=15)\n",
    "plt.savefig(\"../images/synthetic_performance_both.eps\", format=\"eps\", bbox_inches=\"tight\")"
   ]
  },
  {
   "cell_type": "code",
   "execution_count": 45,
   "metadata": {
    "ExecuteTime": {
     "end_time": "2021-08-10T12:07:54.961388Z",
     "start_time": "2021-08-10T12:07:54.381867Z"
    }
   },
   "outputs": [
    {
     "data": {
      "image/png": "[encoded data removed]",
      "text/plain": [
       "<Figure size 864x288 with 1 Axes>"
      ]
     },
     "metadata": {},
     "output_type": "display_data"
    }
   ],
   "source": [
    "fig, ax = plt.subplots()\n",
    "plt.plot(importances_by_param[\"performance\"], color=\"green\", linestyle=\"dashed\", label=\"TRT\")\n",
    "plt.plot(importances_by_param[\"bench_performance\"], color=\"red\", label=\"DT\")\n",
    "#plt.plot(importances_by_param[\"x_2\"], label=\"x_2\", color=\"#4c72b0\")\n",
    "\n",
    "ax.xaxis.set_tick_params(labelsize=12)\n",
    "ax.yaxis.set_tick_params(labelsize=12)\n",
    "\n",
    "plt.legend(fontsize=15, bbox_to_anchor=(1.0, 1.0))\n",
    "plt.ylabel(\"Mean Squared Error in the Holdout\", fontsize=15)\n",
    "plt.xlabel(\"Minimum sample required in a node for every period\", fontsize=15)\n",
    "plt.savefig(\"../images/synthetic_performance.eps\", format=\"eps\", bbox_inches=\"tight\")"
   ]
  },
  {
   "cell_type": "markdown",
   "metadata": {},
   "source": [
    "## Bootstrapping with different proportions from t=1 and t=2"
   ]
  },
  {
   "cell_type": "code",
   "execution_count": 46,
   "metadata": {
    "ExecuteTime": {
     "end_time": "2021-08-10T12:07:55.008680Z",
     "start_time": "2021-08-10T12:07:54.965882Z"
    }
   },
   "outputs": [],
   "source": [
    "def create_dataset(w_1, w_2, population=1000):\n",
    "    population_dict = {\"0.1\": w_1 * int(population / (w_1 + w_2)),\n",
    "                       \"1\": w_2 * int(population / (w_1 + w_2))}\n",
    "    periods = [0.1, 1]\n",
    "    data = pd.DataFrame()\n",
    "    data[\"period\"] = np.concatenate([population_dict[str(period)] * [period] for period in periods],\n",
    "                                    axis=0)\n",
    "    data[\"x_1\"] = data.apply(lambda x: np.random.normal(0, 1) * x[\"period\"], axis=1)\n",
    "    data[\"y\"] = data.apply(lambda x: 1 * x[\"x_1\"] + np.random.normal(0, 1) * x[\"period\"], axis=1)\n",
    "\n",
    "    x_2_period_function = {\"0.1\": data[data[\"period\"] == 0.1][\"y\"].values + np.random.normal(0, 0.1, size=population_dict[\"0.1\"]),\n",
    "                           \"1\": np.random.normal(0, 1, size=population_dict[\"1\"])}\n",
    "\n",
    "    x_2_period_function = {\"0.1\": data[data[\"period\"] == 0.1][\"y\"].values,\n",
    "                           \"1\": np.random.normal(0, 1, size=population_dict[\"1\"])}\n",
    "\n",
    "    for period in periods:\n",
    "        data.loc[data[\"period\"] == period, \"x_2\"] = x_2_period_function[str(period)]\n",
    "        \n",
    "    \n",
    "    for period in periods:\n",
    "        mm = MinMaxScaler()\n",
    "        data.loc[data[\"period\"] == period, \"x_1\"] = mm.fit_transform(data[data[\"period\"] == period][[\"x_1\"]])[:, 0]\n",
    "        data.loc[data[\"period\"] == period, \"x_2\"] = mm.fit_transform(data[data[\"period\"] == period][[\"x_2\"]])[:, 0]\n",
    "    \n",
    "    periods = [0.05, 0.02, 0.5, 1.2]\n",
    "    unseen_environments = periods\n",
    "    unseen_data = pd.DataFrame()\n",
    "    unseen_data[\"period\"] = np.concatenate([population * [period] for period in periods],\n",
    "                                   axis=0)\n",
    "    unseen_data[\"x_1\"] = unseen_data.apply(lambda x: np.random.normal(0, 1) * x[\"period\"], axis=1)\n",
    "    unseen_data[\"y\"] = unseen_data.apply(lambda x: 1 * x[\"x_1\"] + np.random.normal(0, 1) * x[\"period\"], axis=1)\n",
    "    unseen_data[\"x_2\"] = unseen_data.apply(lambda x: np.random.normal(0, 1), axis=1)\n",
    "\n",
    "    for period in unseen_environments:\n",
    "        mm = MinMaxScaler()\n",
    "        unseen_data.loc[unseen_data[\"period\"] == period, \"x_1\"] = mm.fit_transform(unseen_data[unseen_data[\"period\"] == period][[\"x_1\"]])[:, 0]\n",
    "        unseen_data.loc[unseen_data[\"period\"] == period, \"x_2\"] = mm.fit_transform(unseen_data[unseen_data[\"period\"] == period][[\"x_2\"]])[:, 0]    \n",
    "        \n",
    "    X_train, X_test, y_train, y_test = train_test_split(data[features + [environment]], \n",
    "                                                        data[target],\n",
    "                                                        test_size=0.5,\n",
    "                                                        stratify=data[environment],\n",
    "                                                        random_state=42)\n",
    "\n",
    "    X_unseen = unseen_data[features + [environment]]#.values\n",
    "    y_unseen = unseen_data[target]\n",
    "\n",
    "    X = X_train[[\"x_1\", \"x_2\", \"period\"]].values\n",
    "    X_test = X_test#.values\n",
    "    y = y_train.values     \n",
    "    \n",
    "    return X_train.reset_index(drop=True), X_test, y, y_test, unseen_data"
   ]
  },
  {
   "cell_type": "code",
   "execution_count": 47,
   "metadata": {
    "ExecuteTime": {
     "end_time": "2021-08-10T12:41:58.452145Z",
     "start_time": "2021-08-10T12:07:55.012116Z"
    }
   },
   "outputs": [],
   "source": [
    "experiment_results = {}\n",
    "experiment_results[\"result\"] = {\"benchmark\": [], \n",
    "                                \"challenger\": []}  \n",
    "n_rounds = 50\n",
    "min_leafs = list(np.linspace(2, 550, 25, dtype=int))\n",
    "\n",
    "for n_round in range(n_rounds):\n",
    "    experiment_results[n_round] = {\"benchmark\": {}, \n",
    "                                   \"challenger\": {}}    \n",
    "    weights = np.random.randint(1, 10, 2)\n",
    "    X_train, X_test, y, y_test, unseen_data = create_dataset(weights[0],\n",
    "                                                             weights[1])\n",
    "\n",
    "    \n",
    "\n",
    "    for model_type in [\"benchmark\", \"challenger\"]:\n",
    "        experiment_results[n_round][model_type][\"df\"] = []\n",
    "        experiment_results[n_round][model_type][\"train\"] = []\n",
    "        experiment_results[n_round][model_type][\"holdout\"] = []\n",
    "        experiment_results[n_round][model_type][\"splits\"] = []   \n",
    "        \n",
    "        \n",
    "    for min_leaf in min_leafs:\n",
    "        ### Benchmark model\n",
    "        model_type = \"benchmark\"\n",
    "        model = DecisionTree(X_train[[\"x_1\", \"x_2\"]], y, max_depth=20, min_leaf=min_leaf)\n",
    "        X_train[\"prediction\"] = model.predict(X_train[features])\n",
    "        n_splits = model.feature_importance.sum()\n",
    "        experiment_results[n_round][model_type][\"splits\"].append(min_leaf)\n",
    "        unseen_data[\"prediction\"] = model.predict(unseen_data[features])\n",
    "        experiment_results[n_round][model_type][\"train\"].append(mean_squared_error(y, X_train[\"prediction\"]))\n",
    "        experiment_results[n_round][model_type][\"holdout\"].append(mean_squared_error(unseen_data[target], \n",
    "                                                                                unseen_data[\"prediction\"]))\n",
    "        \n",
    " \n",
    "        ### Challenger model\n",
    "        model_type = \"challenger\"\n",
    "        time_model_tree = RandomTimeSplitTree(X_train[[\"x_1\", \"x_2\", \"period\"]], \n",
    "                                            y,\n",
    "                                            time_column=\"period\",\n",
    "                                            max_depth=20,\n",
    "                                            min_sample_periods=int(min_leaf/2),\n",
    "                                            min_leaf=min_leaf,  \n",
    "                                            verbose=False,\n",
    "                                            split_verbose=False,\n",
    "                                            bootstrapping=False,\n",
    "                                            max_features=1.0,\n",
    "                                            period_criterion=\"max\")\n",
    "        X_train[\"time_prediction\"] = time_model_tree.predict(X_train)\n",
    "\n",
    "        n_splits = time_model_tree.feature_importance.sum()\n",
    "        experiment_results[n_round][model_type][\"splits\"].append(min_leaf)\n",
    "        unseen_data[\"time_prediction\"] = time_model_tree.predict(unseen_data[features])\n",
    "        experiment_results[n_round][model_type][\"train\"].append(mean_squared_error(y, X_train[\"time_prediction\"]))\n",
    "        experiment_results[n_round][model_type][\"holdout\"].append(mean_squared_error(unseen_data[target], unseen_data[\"time_prediction\"]))\n",
    "        \n",
    "    benchmark_df = pd.DataFrame(list(zip(experiment_results[n_round][\"benchmark\"][\"train\"],\n",
    "                                experiment_results[n_round][\"benchmark\"][\"holdout\"],\n",
    "                                experiment_results[n_round][\"benchmark\"][\"splits\"])), \n",
    "                                columns=[\"train\", \"holdout\", \"splits\"])\n",
    "    \n",
    "    challenger_df = pd.DataFrame(list(zip(experiment_results[n_round][\"challenger\"][\"train\"],\n",
    "                                 experiment_results[n_round][\"challenger\"][\"holdout\"],\n",
    "                                 experiment_results[n_round][\"challenger\"][\"splits\"])), \n",
    "                                 columns=[\"train\", \"holdout\", \"splits\"])\n",
    "    \n",
    "    benchmark_df.loc[:, \"weight\"] = str(weights)\n",
    "    challenger_df.loc[:, \"weight\"] = str(weights)\n",
    "    \n",
    "    experiment_results[\"result\"][\"benchmark\"].append(benchmark_df)\n",
    "    experiment_results[\"result\"][\"challenger\"].append(challenger_df)"
   ]
  },
  {
   "cell_type": "code",
   "execution_count": 48,
   "metadata": {
    "ExecuteTime": {
     "end_time": "2021-08-10T12:41:58.538359Z",
     "start_time": "2021-08-10T12:41:58.464276Z"
    }
   },
   "outputs": [],
   "source": [
    "benchmark_results = pd.concat(experiment_results[\"result\"][\"benchmark\"])\n",
    "benchmark_results[\"model\"] = \"benchmark\"\n",
    "\n",
    "challenger_results = pd.concat(experiment_results[\"result\"][\"challenger\"])\n",
    "challenger_results[\"model\"] = \"challenger\"    "
   ]
  },
  {
   "cell_type": "code",
   "execution_count": 49,
   "metadata": {
    "ExecuteTime": {
     "end_time": "2021-08-10T12:42:04.861646Z",
     "start_time": "2021-08-10T12:41:58.541694Z"
    }
   },
   "outputs": [
    {
     "name": "stderr",
     "output_type": "stream",
     "text": [
      "../images/synthetic_boot:22: MatplotlibDeprecationWarning: \n",
      "The 'quality' parameter of print_jpg() was deprecated in Matplotlib 3.3 and will be removed two minor releases later. Use pil_kwargs={'quality': ...} instead. If any parameter follows 'quality', they should be passed as keyword, not positionally.\n"
     ]
    },
    {
     "data": {
      "image/png": "[encoded data removed]",
      "text/plain": [
       "<Figure size 864x288 with 1 Axes>"
      ]
     },
     "metadata": {},
     "output_type": "display_data"
    }
   ],
   "source": [
    "from matplotlib.collections import PolyCollection as p\n",
    "\n",
    "fig, ax = plt.subplots()\n",
    "sns.lineplot(data=challenger_results, x=\"splits\", y=\"train\", label=\"TRT Train\")\n",
    "sns.lineplot(data=benchmark_results, x=\"splits\", y=\"train\", label=\"DT Train\")\n",
    "\n",
    "sns.lineplot(data=challenger_results, x=\"splits\", y=\"holdout\", linestyle=\"dashed\", label=\"TRT Holdout\")\n",
    "sns.lineplot(data=benchmark_results, x=\"splits\", y=\"holdout\", linestyle=\"dashed\", label=\"DT Holdout\")\n",
    "plt.legend()\n",
    "\n",
    "xmin, xmax, ymin, ymax = plt.axis()\n",
    "\n",
    "ax.xaxis.set_tick_params(labelsize=12)\n",
    "ax.yaxis.set_tick_params(labelsize=12)\n",
    "\n",
    "plt.legend(fontsize=15, bbox_to_anchor=(1.0, 1.0))\n",
    "plt.ylabel(\"Mean Squared Error\", fontsize=15)\n",
    "#plt.xlabel(\"Minimum sample in the leaf (DT), minimum sample by period (TRT)\", fontsize=15)\n",
    "plt.xlabel(\"Minimum sample in the leaf\", fontsize=15)\n",
    "\n",
    "__file__ = \"../images/synthetic_boot\"\n",
    "plt.savefig(__file__+\".jpg\", quality=95)\n",
    "for c in ax.findobj(p):\n",
    "    c.set_zorder(-1)\n",
    "    c.set_rasterized(True)\n",
    "ax.set_rasterization_zorder(0)\n",
    "\n",
    "plt.savefig(__file__+\".eps\")"
   ]
  },
  {
   "cell_type": "markdown",
   "metadata": {},
   "source": [
    "## What if X_2 doesn't change during the training time?"
   ]
  },
  {
   "cell_type": "code",
   "execution_count": 50,
   "metadata": {
    "ExecuteTime": {
     "end_time": "2021-08-10T12:42:07.423036Z",
     "start_time": "2021-08-10T12:42:04.865882Z"
    }
   },
   "outputs": [],
   "source": [
    "periods = [0.1, 1]\n",
    "data = pd.DataFrame()\n",
    "data[\"period\"] = np.concatenate([int(POPULATION/2) * [period] for period in periods],\n",
    "                               axis=0)\n",
    "data[\"x_1\"] = data.apply(lambda x: np.random.normal(0, 1) * x[\"period\"], axis=1)\n",
    "data[\"y\"] = data.apply(lambda x: 1 * x[\"x_1\"] + np.random.normal(0, 1) * x[\"period\"], axis=1)\n",
    "data[\"x_2\"] = data.apply(lambda x: x[\"y\"] + np.random.normal(0, 1), axis=1)\n",
    "\n",
    "for period in periods:\n",
    "    mm = MinMaxScaler()\n",
    "    data.loc[data[\"period\"] == period, \"x_1\"] = mm.fit_transform(data[data[\"period\"] == period][[\"x_1\"]])[:, 0]\n",
    "    data.loc[data[\"period\"] == period, \"x_2\"] = mm.fit_transform(data[data[\"period\"] == period][[\"x_2\"]])[:, 0]"
   ]
  },
  {
   "cell_type": "code",
   "execution_count": 51,
   "metadata": {
    "ExecuteTime": {
     "end_time": "2021-08-10T12:42:07.488568Z",
     "start_time": "2021-08-10T12:42:07.428082Z"
    }
   },
   "outputs": [
    {
     "name": "stdout",
     "output_type": "stream",
     "text": [
      "(10000, 3)\n",
      "(10000, 3)\n",
      "(4000, 3)\n",
      "(10000,)\n",
      "(10000,)\n",
      "(4000,)\n"
     ]
    }
   ],
   "source": [
    "X_train, X_test, y_train, y_test = train_test_split(data[features + [environment]], \n",
    "                                                    data[target],\n",
    "                                                    test_size=0.5,\n",
    "                                                    stratify=data[environment],\n",
    "                                                    random_state=42)\n",
    "\n",
    "X_unseen = unseen_data[features + [environment]].values\n",
    "y_unseen = unseen_data[target]\n",
    "\n",
    "X = X_train[[\"x_1\", \"x_2\", \"period\"]].values\n",
    "X_test = X_test.values\n",
    "y = y_train.values\n",
    "\n",
    "print(X_train.shape)\n",
    "print(X_test.shape)\n",
    "print(X_unseen.shape)\n",
    "print(y_train.shape)\n",
    "print(y_test.shape)\n",
    "print(y_unseen.shape)"
   ]
  },
  {
   "cell_type": "code",
   "execution_count": 52,
   "metadata": {
    "ExecuteTime": {
     "end_time": "2021-08-10T12:42:17.830647Z",
     "start_time": "2021-08-10T12:42:07.504192Z"
    }
   },
   "outputs": [],
   "source": [
    "model_challenger = RandomTimeSplitTree(X_train[features + [time_tree_period_column]].reset_index(drop=True),\n",
    "                                 y_train.values,\n",
    "                                 max_depth=30,\n",
    "                                 max_features=1.0,\n",
    "                                 bootstrapping=False,\n",
    "                                 time_column=time_tree_period_column,\n",
    "                                 min_sample_periods=100,\n",
    "                                 verbose=False)"
   ]
  },
  {
   "cell_type": "code",
   "execution_count": 53,
   "metadata": {
    "ExecuteTime": {
     "end_time": "2021-08-10T12:42:17.845100Z",
     "start_time": "2021-08-10T12:42:17.834321Z"
    }
   },
   "outputs": [
    {
     "data": {
      "text/plain": [
       "x_1    15\n",
       "x_2    12\n",
       "Name: Feature Importance, dtype: int64"
      ]
     },
     "execution_count": 53,
     "metadata": {},
     "output_type": "execute_result"
    }
   ],
   "source": [
    "model_challenger.feature_importance"
   ]
  },
  {
   "cell_type": "markdown",
   "metadata": {},
   "source": [
    "It's unable to solve the exact same case from IRM, it depends on changes in the spurious variable during the training time."
   ]
  }
 ],
 "metadata": {
  "hide_input": false,
  "kernelspec": {
   "display_name": "ml3",
   "language": "python",
   "name": "lgm"
  },
  "language_info": {
   "codemirror_mode": {
    "name": "ipython",
    "version": 3
   },
   "file_extension": ".py",
   "mimetype": "text/x-python",
   "name": "python",
   "nbconvert_exporter": "python",
   "pygments_lexer": "ipython3",
   "version": "3.6.3"
  },
  "name": "motivating_example.ipynb",
  "toc": {
   "base_numbering": 1,
   "nav_menu": {},
   "number_sections": true,
   "sideBar": true,
   "skip_h1_title": true,
   "title_cell": "Index",
   "title_sidebar": "Contents",
   "toc_cell": true,
   "toc_position": {},
   "toc_section_display": true,
   "toc_window_display": false
  }
 },
 "nbformat": 4,
 "nbformat_minor": 2
}
