{
 "cells": [
  {
   "cell_type": "markdown",
   "id": "convenient-forward",
   "metadata": {},
   "source": [
    "# Invariant Causal Prediction\n",
    "\n",
    "## Synthetic example"
   ]
  },
  {
   "cell_type": "code",
   "execution_count": 1,
   "id": "supreme-conviction",
   "metadata": {
    "ExecuteTime": {
     "end_time": "2021-04-20T11:29:19.814091Z",
     "start_time": "2021-04-20T11:29:18.569880Z"
    }
   },
   "outputs": [],
   "source": [
    "import numpy as np\n",
    "import pandas as pd\n",
    "import icpy\n",
    "\n",
    "from sklearn.model_selection import train_test_split\n",
    "from sklearn.metrics import mean_squared_error\n",
    "\n",
    "environments = [0.1, 1]\n",
    "POPULATION = 10000\n",
    "\n",
    "data = pd.DataFrame()\n",
    "data[\"environment\"] = np.concatenate(\n",
    "    [int(POPULATION/2) * [environment] for environment in environments],\n",
    "    axis=0)\n",
    "\n",
    "data[\"x_1\"] = data.apply(lambda x: np.random.normal(0, 1) * x[\"environment\"], axis=1)\n",
    "data[\"y\"] = data.apply(lambda x: 1 * x[\"x_1\"] + np.random.normal(0, 1), axis=1)\n",
    "data[\"x_2\"] = data.apply(lambda x: x[\"y\"] + np.random.normal(0, 1), axis=1)\n",
    "\n",
    "X = data[[\"x_1\", \"x_2\", \"environment\"]].values\n",
    "y = data[\"y\"].values"
   ]
  },
  {
   "cell_type": "code",
   "execution_count": 2,
   "id": "mexican-crisis",
   "metadata": {
    "ExecuteTime": {
     "end_time": "2021-04-20T11:29:20.000545Z",
     "start_time": "2021-04-20T11:29:19.815920Z"
    }
   },
   "outputs": [
    {
     "data": {
      "text/plain": [
       "ICP(S_hat=array([0]), q_values=array([8.25318014e-20, 1.00000000e+00]), p_value=1.334259940447282)"
      ]
     },
     "execution_count": 2,
     "metadata": {},
     "output_type": "execute_result"
    }
   ],
   "source": [
    "icpy.invariant_causal_prediction(X=X[:, :-1], y=y, z=X[:, -1])"
   ]
  },
  {
   "cell_type": "markdown",
   "id": "chief-psychology",
   "metadata": {},
   "source": [
    "## Confounding "
   ]
  },
  {
   "cell_type": "code",
   "execution_count": 3,
   "id": "cutting-background",
   "metadata": {
    "ExecuteTime": {
     "end_time": "2021-04-20T11:29:20.422524Z",
     "start_time": "2021-04-20T11:29:20.003149Z"
    }
   },
   "outputs": [],
   "source": [
    "data[\"c_1\"] = data.apply(lambda x: np.random.normal(0, 1) * x[\"environment\"], axis=1)\n",
    "data[\"x_1\"] = data.apply(lambda x: x[\"c_1\"] + np.random.normal(0, 1) * x[\"environment\"], axis=1)\n",
    "data[\"y\"] = data.apply(lambda x: 1 * x[\"x_1\"] + 0.5 * x[\"c_1\"] + np.random.normal(0, 1), axis=1)"
   ]
  },
  {
   "cell_type": "code",
   "execution_count": 4,
   "id": "fleet-confidence",
   "metadata": {
    "ExecuteTime": {
     "end_time": "2021-04-20T11:29:20.427305Z",
     "start_time": "2021-04-20T11:29:20.424386Z"
    }
   },
   "outputs": [],
   "source": [
    "X = data[[\"x_1\", \"x_2\", \"c_1\", \"environment\"]].values\n",
    "y = data[\"y\"].values"
   ]
  },
  {
   "cell_type": "code",
   "execution_count": 5,
   "id": "acoustic-blake",
   "metadata": {
    "ExecuteTime": {
     "end_time": "2021-04-20T11:29:20.455789Z",
     "start_time": "2021-04-20T11:29:20.428860Z"
    }
   },
   "outputs": [
    {
     "data": {
      "text/plain": [
       "ICP(S_hat=array([0, 2]), q_values=array([1.57677934e-122, 1.00000000e+000, 4.09591474e-003]), p_value=2.1304361682130377)"
      ]
     },
     "execution_count": 5,
     "metadata": {},
     "output_type": "execute_result"
    }
   ],
   "source": [
    "icpy.invariant_causal_prediction(X=X[:, :-1], y=y, z=X[:, -1])"
   ]
  },
  {
   "cell_type": "code",
   "execution_count": 6,
   "id": "seasonal-watch",
   "metadata": {
    "ExecuteTime": {
     "end_time": "2021-04-20T11:29:20.460944Z",
     "start_time": "2021-04-20T11:29:20.457464Z"
    }
   },
   "outputs": [],
   "source": [
    "X = data[[\"x_1\", \"x_2\", \"environment\"]].values\n",
    "y = data[\"y\"].values"
   ]
  },
  {
   "cell_type": "code",
   "execution_count": 7,
   "id": "enabling-brown",
   "metadata": {
    "ExecuteTime": {
     "end_time": "2021-04-20T11:29:20.479050Z",
     "start_time": "2021-04-20T11:29:20.462785Z"
    }
   },
   "outputs": [
    {
     "data": {
      "text/plain": [
       "ICP(S_hat=array([0, 1]), q_values=array([0.        , 0.00409591]), p_value=0.0040959147377446275)"
      ]
     },
     "execution_count": 7,
     "metadata": {},
     "output_type": "execute_result"
    }
   ],
   "source": [
    "icpy.invariant_causal_prediction(X=X[:, :-1], y=y, z=X[:, -1])"
   ]
  }
 ],
 "metadata": {
  "kernelspec": {
   "display_name": "ml3",
   "language": "python",
   "name": "lgm"
  },
  "language_info": {
   "codemirror_mode": {
    "name": "ipython",
    "version": 3
   },
   "file_extension": ".py",
   "mimetype": "text/x-python",
   "name": "python",
   "nbconvert_exporter": "python",
   "pygments_lexer": "ipython3",
   "version": "3.6.3"
  },
  "toc": {
   "base_numbering": 1,
   "nav_menu": {},
   "number_sections": true,
   "sideBar": true,
   "skip_h1_title": false,
   "title_cell": "Table of Contents",
   "title_sidebar": "Contents",
   "toc_cell": false,
   "toc_position": {},
   "toc_section_display": true,
   "toc_window_display": false
  }
 },
 "nbformat": 4,
 "nbformat_minor": 5
}
